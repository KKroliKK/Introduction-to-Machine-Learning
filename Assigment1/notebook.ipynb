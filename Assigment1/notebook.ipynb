{
  "nbformat": 4,
  "nbformat_minor": 0,
  "metadata": {
    "colab": {
      "provenance": [],
      "collapsed_sections": [],
      "toc_visible": true
    },
    "kernelspec": {
      "name": "python3",
      "display_name": "Python 3"
    },
    "language_info": {
      "name": "python"
    }
  },
  "cells": [
    {
      "cell_type": "markdown",
      "source": [
        "Andrey Vagin\n",
        "\n",
        "a.vagin@innopolis.university"
      ],
      "metadata": {
        "id": "DwkJ1QOTzgN1"
      }
    },
    {
      "cell_type": "markdown",
      "source": [
        "# Imports and Constants"
      ],
      "metadata": {
        "id": "5q45x0guzpTx"
      }
    },
    {
      "cell_type": "code",
      "execution_count": null,
      "metadata": {
        "id": "XdPYQGnsyWvP"
      },
      "outputs": [],
      "source": [
        "import statistics\n",
        "import numpy as np\n",
        "import pandas as pd\n",
        "from calendar import monthrange\n",
        "import matplotlib.pyplot as plt\n",
        "from dateutil.parser import parse as parse_date\n",
        "\n",
        "import sklearn\n",
        "from sklearn.decomposition import PCA\n",
        "from sklearn.pipeline import Pipeline\n",
        "from sklearn.naive_bayes import GaussianNB\n",
        "from sklearn.neighbors import KNeighborsClassifier\n",
        "from sklearn.linear_model import LinearRegression, LogisticRegression\n",
        "from sklearn.model_selection import train_test_split, KFold, GridSearchCV\n",
        "from sklearn.metrics import mean_squared_error, mean_absolute_error, accuracy_score\n",
        "from sklearn.preprocessing import StandardScaler, PolynomialFeatures, OneHotEncoder\n",
        "\n",
        "SEED = 42"
      ]
    },
    {
      "cell_type": "markdown",
      "source": [
        "# Data"
      ],
      "metadata": {
        "id": "Q7SMPEpw0No0"
      }
    },
    {
      "cell_type": "code",
      "source": [
        "!ls"
      ],
      "metadata": {
        "colab": {
          "base_uri": "https://localhost:8080/"
        },
        "id": "A-iC35Mj0NPd",
        "outputId": "f33d4c7f-6d4b-4aef-b443-041025e83b04"
      },
      "execution_count": null,
      "outputs": [
        {
          "output_type": "stream",
          "name": "stdout",
          "text": [
            "a1_dataset.csv\tIntro_to_ML_Assigment_1__2022.pdf\r\n"
          ]
        }
      ]
    },
    {
      "cell_type": "code",
      "source": [
        "PATH = 'a1_dataset.csv'\n",
        "df = pd.read_csv(PATH)"
      ],
      "metadata": {
        "id": "pYbIzvPc0RwR"
      },
      "execution_count": null,
      "outputs": []
    },
    {
      "cell_type": "code",
      "source": [
        "df.head()"
      ],
      "metadata": {
        "colab": {
          "base_uri": "https://localhost:8080/",
          "height": 206
        },
        "id": "xZ3BAQcY0Z3v",
        "outputId": "ca747e13-0f7a-4d04-c92f-854c5ea50ce2"
      },
      "execution_count": null,
      "outputs": [
        {
          "output_type": "execute_result",
          "data": {
            "text/plain": [
              "   target    var1     var2          var3   var4    var5 var6  \\\n",
              "0       0  509.18  417.681    Micronesia  138.0  393.00   no   \n",
              "1       0  446.06  666.182      Dominica   81.0  352.05  yes   \n",
              "2       1  235.50  398.097   Isle of Man   90.0  339.00   no   \n",
              "3       0  306.02  518.163  Turkmenistan  102.0  439.25  yes   \n",
              "4       0  453.08  600.156      Cameroon  105.0  422.95   no   \n",
              "\n",
              "                  var7  \n",
              "0  2019-07-20 13:21:37  \n",
              "1  2019-04-04 21:30:46  \n",
              "2  2019-03-03 02:59:37  \n",
              "3  2019-03-19 08:00:58  \n",
              "4  2019-03-18 13:22:35  "
            ],
            "text/html": [
              "<div>\n",
              "<style scoped>\n",
              "    .dataframe tbody tr th:only-of-type {\n",
              "        vertical-align: middle;\n",
              "    }\n",
              "\n",
              "    .dataframe tbody tr th {\n",
              "        vertical-align: top;\n",
              "    }\n",
              "\n",
              "    .dataframe thead th {\n",
              "        text-align: right;\n",
              "    }\n",
              "</style>\n",
              "<table border=\"1\" class=\"dataframe\">\n",
              "  <thead>\n",
              "    <tr style=\"text-align: right;\">\n",
              "      <th></th>\n",
              "      <th>target</th>\n",
              "      <th>var1</th>\n",
              "      <th>var2</th>\n",
              "      <th>var3</th>\n",
              "      <th>var4</th>\n",
              "      <th>var5</th>\n",
              "      <th>var6</th>\n",
              "      <th>var7</th>\n",
              "    </tr>\n",
              "  </thead>\n",
              "  <tbody>\n",
              "    <tr>\n",
              "      <th>0</th>\n",
              "      <td>0</td>\n",
              "      <td>509.18</td>\n",
              "      <td>417.681</td>\n",
              "      <td>Micronesia</td>\n",
              "      <td>138.0</td>\n",
              "      <td>393.00</td>\n",
              "      <td>no</td>\n",
              "      <td>2019-07-20 13:21:37</td>\n",
              "    </tr>\n",
              "    <tr>\n",
              "      <th>1</th>\n",
              "      <td>0</td>\n",
              "      <td>446.06</td>\n",
              "      <td>666.182</td>\n",
              "      <td>Dominica</td>\n",
              "      <td>81.0</td>\n",
              "      <td>352.05</td>\n",
              "      <td>yes</td>\n",
              "      <td>2019-04-04 21:30:46</td>\n",
              "    </tr>\n",
              "    <tr>\n",
              "      <th>2</th>\n",
              "      <td>1</td>\n",
              "      <td>235.50</td>\n",
              "      <td>398.097</td>\n",
              "      <td>Isle of Man</td>\n",
              "      <td>90.0</td>\n",
              "      <td>339.00</td>\n",
              "      <td>no</td>\n",
              "      <td>2019-03-03 02:59:37</td>\n",
              "    </tr>\n",
              "    <tr>\n",
              "      <th>3</th>\n",
              "      <td>0</td>\n",
              "      <td>306.02</td>\n",
              "      <td>518.163</td>\n",
              "      <td>Turkmenistan</td>\n",
              "      <td>102.0</td>\n",
              "      <td>439.25</td>\n",
              "      <td>yes</td>\n",
              "      <td>2019-03-19 08:00:58</td>\n",
              "    </tr>\n",
              "    <tr>\n",
              "      <th>4</th>\n",
              "      <td>0</td>\n",
              "      <td>453.08</td>\n",
              "      <td>600.156</td>\n",
              "      <td>Cameroon</td>\n",
              "      <td>105.0</td>\n",
              "      <td>422.95</td>\n",
              "      <td>no</td>\n",
              "      <td>2019-03-18 13:22:35</td>\n",
              "    </tr>\n",
              "  </tbody>\n",
              "</table>\n",
              "</div>"
            ]
          },
          "metadata": {},
          "execution_count": 4
        }
      ]
    },
    {
      "cell_type": "code",
      "source": [
        "df['target'].value_counts()"
      ],
      "metadata": {
        "colab": {
          "base_uri": "https://localhost:8080/"
        },
        "id": "u4Eq3SRG4HbV",
        "outputId": "e4020775-10bf-45e1-97e5-69cda5abcd16"
      },
      "execution_count": null,
      "outputs": [
        {
          "output_type": "execute_result",
          "data": {
            "text/plain": [
              "0    466\n",
              "1    459\n",
              "Name: target, dtype: int64"
            ]
          },
          "metadata": {},
          "execution_count": 5
        }
      ]
    },
    {
      "cell_type": "markdown",
      "source": [
        "Target is balanced very well. We do not know anything about dataset and what label of target is more important, so `accuracy` will be the best metric in our case."
      ],
      "metadata": {
        "id": "LEBevtJl46fT"
      }
    },
    {
      "cell_type": "code",
      "source": [
        "df.isna().sum()"
      ],
      "metadata": {
        "colab": {
          "base_uri": "https://localhost:8080/"
        },
        "id": "e87eabsYX-RH",
        "outputId": "76baa0a7-3317-47ff-a64b-d765d5a596d8"
      },
      "execution_count": null,
      "outputs": [
        {
          "output_type": "execute_result",
          "data": {
            "text/plain": [
              "target      0\n",
              "var1        0\n",
              "var2        0\n",
              "var3        0\n",
              "var4      600\n",
              "var5        0\n",
              "var6        0\n",
              "var7        0\n",
              "dtype: int64"
            ]
          },
          "metadata": {},
          "execution_count": 6
        }
      ]
    },
    {
      "cell_type": "markdown",
      "source": [
        "As given in assignment description we need to handle 600 missing values in `var4` column."
      ],
      "metadata": {
        "id": "YsMt73xfYFvY"
      }
    },
    {
      "cell_type": "code",
      "source": [
        "df.dtypes"
      ],
      "metadata": {
        "colab": {
          "base_uri": "https://localhost:8080/"
        },
        "id": "C52V5DS6YPcI",
        "outputId": "779f73ab-5f72-48d8-ef01-ec3e5deb18cf"
      },
      "execution_count": null,
      "outputs": [
        {
          "output_type": "execute_result",
          "data": {
            "text/plain": [
              "target      int64\n",
              "var1      float64\n",
              "var2      float64\n",
              "var3       object\n",
              "var4      float64\n",
              "var5      float64\n",
              "var6       object\n",
              "var7       object\n",
              "dtype: object"
            ]
          },
          "metadata": {},
          "execution_count": 7
        }
      ]
    },
    {
      "cell_type": "markdown",
      "source": [
        "We have 3 categorical columns to handle."
      ],
      "metadata": {
        "id": "qvB6vr3tYcPe"
      }
    },
    {
      "cell_type": "code",
      "source": [
        "num_cols = [\n",
        "    'var1',\n",
        "    'var2',\n",
        "    'var4',\n",
        "    'var5'\n",
        "]\n",
        "\n",
        "cat_cols = [\n",
        "    'var3',\n",
        "    'var6',\n",
        "    'var7'\n",
        "]\n",
        "\n",
        "fetature_cols = num_cols + cat_cols\n",
        "\n",
        "target_col = 'target'"
      ],
      "metadata": {
        "id": "lwpzVqNQY81o"
      },
      "execution_count": null,
      "outputs": []
    },
    {
      "cell_type": "code",
      "source": [
        "fig = plt.figure(figsize=(20, 5))\n",
        "\n",
        "# ax = ax.ravel()\n",
        "\n",
        "for i, num in enumerate(num_cols):\n",
        "    \n",
        "    ax = fig.add_subplot(141 + i)\n",
        "    ax.set_title(num)\n",
        "    ax.boxplot(df[num])\n",
        "\n",
        "plt.show()"
      ],
      "metadata": {
        "colab": {
          "base_uri": "https://localhost:8080/",
          "height": 336
        },
        "id": "a93w6AFobGew",
        "outputId": "9d138c8b-2145-4911-a3ff-e1c53a55eb52"
      },
      "execution_count": null,
      "outputs": [
        {
          "output_type": "display_data",
          "data": {
            "text/plain": [
              "<Figure size 1440x360 with 4 Axes>"
            ],
            "image/png": "[encoded data removed]"
          },
          "metadata": {
            "needs_background": "light"
          }
        }
      ]
    },
    {
      "cell_type": "markdown",
      "source": [
        "As we can see there may be outlyers in the `var2` column.\n",
        "\n",
        "And we have problems with knowing real distribution for `var4` column because of 600 missing values."
      ],
      "metadata": {
        "id": "2AyFJFWFblpI"
      }
    },
    {
      "cell_type": "markdown",
      "source": [
        "# Preprocessing"
      ],
      "metadata": {
        "id": "H0e_G5m506Wn"
      }
    },
    {
      "cell_type": "markdown",
      "source": [
        "## Encoding categorical values"
      ],
      "metadata": {
        "id": "t-3KFg3K6QUJ"
      }
    },
    {
      "cell_type": "markdown",
      "source": [
        "### `var3` column"
      ],
      "metadata": {
        "id": "Q1o95Ur7dV92"
      }
    },
    {
      "cell_type": "code",
      "source": [
        "df['var3'].value_counts().reset_index()"
      ],
      "metadata": {
        "colab": {
          "base_uri": "https://localhost:8080/",
          "height": 423
        },
        "id": "eXA9R9716C6P",
        "outputId": "d23e331e-415e-4a26-ba4b-2141afe767e9"
      },
      "execution_count": null,
      "outputs": [
        {
          "output_type": "execute_result",
          "data": {
            "text/plain": [
              "                     index  var3\n",
              "0           Czech Republic     9\n",
              "1                   Greece     8\n",
              "2                  Senegal     8\n",
              "3                Australia     8\n",
              "4             South Africa     8\n",
              "..                     ...   ...\n",
              "231                 Jordan     1\n",
              "232             Guadeloupe     1\n",
              "233                Lesotho     1\n",
              "234                Bermuda     1\n",
              "235  Saint Kitts and Nevis     1\n",
              "\n",
              "[236 rows x 2 columns]"
            ],
            "text/html": [
              "<div>\n",
              "<style scoped>\n",
              "    .dataframe tbody tr th:only-of-type {\n",
              "        vertical-align: middle;\n",
              "    }\n",
              "\n",
              "    .dataframe tbody tr th {\n",
              "        vertical-align: top;\n",
              "    }\n",
              "\n",
              "    .dataframe thead th {\n",
              "        text-align: right;\n",
              "    }\n",
              "</style>\n",
              "<table border=\"1\" class=\"dataframe\">\n",
              "  <thead>\n",
              "    <tr style=\"text-align: right;\">\n",
              "      <th></th>\n",
              "      <th>index</th>\n",
              "      <th>var3</th>\n",
              "    </tr>\n",
              "  </thead>\n",
              "  <tbody>\n",
              "    <tr>\n",
              "      <th>0</th>\n",
              "      <td>Czech Republic</td>\n",
              "      <td>9</td>\n",
              "    </tr>\n",
              "    <tr>\n",
              "      <th>1</th>\n",
              "      <td>Greece</td>\n",
              "      <td>8</td>\n",
              "    </tr>\n",
              "    <tr>\n",
              "      <th>2</th>\n",
              "      <td>Senegal</td>\n",
              "      <td>8</td>\n",
              "    </tr>\n",
              "    <tr>\n",
              "      <th>3</th>\n",
              "      <td>Australia</td>\n",
              "      <td>8</td>\n",
              "    </tr>\n",
              "    <tr>\n",
              "      <th>4</th>\n",
              "      <td>South Africa</td>\n",
              "      <td>8</td>\n",
              "    </tr>\n",
              "    <tr>\n",
              "      <th>...</th>\n",
              "      <td>...</td>\n",
              "      <td>...</td>\n",
              "    </tr>\n",
              "    <tr>\n",
              "      <th>231</th>\n",
              "      <td>Jordan</td>\n",
              "      <td>1</td>\n",
              "    </tr>\n",
              "    <tr>\n",
              "      <th>232</th>\n",
              "      <td>Guadeloupe</td>\n",
              "      <td>1</td>\n",
              "    </tr>\n",
              "    <tr>\n",
              "      <th>233</th>\n",
              "      <td>Lesotho</td>\n",
              "      <td>1</td>\n",
              "    </tr>\n",
              "    <tr>\n",
              "      <th>234</th>\n",
              "      <td>Bermuda</td>\n",
              "      <td>1</td>\n",
              "    </tr>\n",
              "    <tr>\n",
              "      <th>235</th>\n",
              "      <td>Saint Kitts and Nevis</td>\n",
              "      <td>1</td>\n",
              "    </tr>\n",
              "  </tbody>\n",
              "</table>\n",
              "<p>236 rows × 2 columns</p>\n",
              "</div>"
            ]
          },
          "metadata": {},
          "execution_count": 11
        }
      ]
    },
    {
      "cell_type": "code",
      "source": [
        "var3_cat_occur = df['var3'].value_counts().reset_index().groupby('var3').count()\n",
        "var3_cat_occur"
      ],
      "metadata": {
        "colab": {
          "base_uri": "https://localhost:8080/",
          "height": 363
        },
        "id": "WYrBfVH2e2bm",
        "outputId": "7f3f285e-f7dc-4b71-be1c-da8b3785acaf"
      },
      "execution_count": null,
      "outputs": [
        {
          "output_type": "execute_result",
          "data": {
            "text/plain": [
              "      index\n",
              "var3       \n",
              "1        16\n",
              "2        40\n",
              "3        37\n",
              "4        56\n",
              "5        49\n",
              "6        23\n",
              "7        10\n",
              "8         4\n",
              "9         1"
            ],
            "text/html": [
              "<div>\n",
              "<style scoped>\n",
              "    .dataframe tbody tr th:only-of-type {\n",
              "        vertical-align: middle;\n",
              "    }\n",
              "\n",
              "    .dataframe tbody tr th {\n",
              "        vertical-align: top;\n",
              "    }\n",
              "\n",
              "    .dataframe thead th {\n",
              "        text-align: right;\n",
              "    }\n",
              "</style>\n",
              "<table border=\"1\" class=\"dataframe\">\n",
              "  <thead>\n",
              "    <tr style=\"text-align: right;\">\n",
              "      <th></th>\n",
              "      <th>index</th>\n",
              "    </tr>\n",
              "    <tr>\n",
              "      <th>var3</th>\n",
              "      <th></th>\n",
              "    </tr>\n",
              "  </thead>\n",
              "  <tbody>\n",
              "    <tr>\n",
              "      <th>1</th>\n",
              "      <td>16</td>\n",
              "    </tr>\n",
              "    <tr>\n",
              "      <th>2</th>\n",
              "      <td>40</td>\n",
              "    </tr>\n",
              "    <tr>\n",
              "      <th>3</th>\n",
              "      <td>37</td>\n",
              "    </tr>\n",
              "    <tr>\n",
              "      <th>4</th>\n",
              "      <td>56</td>\n",
              "    </tr>\n",
              "    <tr>\n",
              "      <th>5</th>\n",
              "      <td>49</td>\n",
              "    </tr>\n",
              "    <tr>\n",
              "      <th>6</th>\n",
              "      <td>23</td>\n",
              "    </tr>\n",
              "    <tr>\n",
              "      <th>7</th>\n",
              "      <td>10</td>\n",
              "    </tr>\n",
              "    <tr>\n",
              "      <th>8</th>\n",
              "      <td>4</td>\n",
              "    </tr>\n",
              "    <tr>\n",
              "      <th>9</th>\n",
              "      <td>1</td>\n",
              "    </tr>\n",
              "  </tbody>\n",
              "</table>\n",
              "</div>"
            ]
          },
          "metadata": {},
          "execution_count": 12
        }
      ]
    },
    {
      "cell_type": "code",
      "source": [
        "fig = plt.figure()\n",
        "ax = fig.add_subplot(111)\n",
        "ax.set_title('var3 categories occurancy count')\n",
        "ax.pie(var3_cat_occur['index'], labels=var3_cat_occur.index)\n",
        "\n",
        "plt.show()"
      ],
      "metadata": {
        "colab": {
          "base_uri": "https://localhost:8080/",
          "height": 264
        },
        "id": "YyQSfde8eZ1-",
        "outputId": "a8c17f5f-c5ba-4ebc-addc-e38c9f18ba61"
      },
      "execution_count": null,
      "outputs": [
        {
          "output_type": "display_data",
          "data": {
            "text/plain": [
              "<Figure size 432x288 with 1 Axes>"
            ],
            "image/png": "[encoded data removed]"
          },
          "metadata": {}
        }
      ]
    },
    {
      "cell_type": "markdown",
      "source": [
        "As we can see we have 236 different categories in `var3` columns. Almost half of them has 1, 2 or 3 occurances in the table. We may have not enough data for these classes to extract some information for our model.\n",
        "\n",
        "**Ordinal encoding** technique will not give us meaningful represenation for our data. We have 236 different categories. Such ecncoding will create big numeric difference between first and last classes but there is no such difference in location names. Ordinal encoding is not suitable for this column.\n",
        "\n",
        "**One-hot encoding** techique in our case will give big growth in number of columns where information will be very sparse because we have a lot of classes and not that very big amount of data. I think that it will be better to drop this column but I will try to apply One-hot encoding first."
      ],
      "metadata": {
        "id": "jcBjMwYZrJV0"
      }
    },
    {
      "cell_type": "code",
      "source": [
        "var3_dummy = pd.get_dummies(df['var3'])\n",
        "var3_dummy.head()"
      ],
      "metadata": {
        "colab": {
          "base_uri": "https://localhost:8080/",
          "height": 325
        },
        "id": "hV_Jq9aRvKSp",
        "outputId": "87375a3b-ee37-4724-c2cc-564bc056f5d8"
      },
      "execution_count": null,
      "outputs": [
        {
          "output_type": "execute_result",
          "data": {
            "text/plain": [
              "   Afghanistan  Albania  Algeria  American Samoa  Andorra  Angola  Anguilla  \\\n",
              "0            0        0        0               0        0       0         0   \n",
              "1            0        0        0               0        0       0         0   \n",
              "2            0        0        0               0        0       0         0   \n",
              "3            0        0        0               0        0       0         0   \n",
              "4            0        0        0               0        0       0         0   \n",
              "\n",
              "   Antarctica (the territory South of 60 deg S)  Antigua and Barbuda  \\\n",
              "0                                             0                    0   \n",
              "1                                             0                    0   \n",
              "2                                             0                    0   \n",
              "3                                             0                    0   \n",
              "4                                             0                    0   \n",
              "\n",
              "   Argentina  ...  Uruguay  Uzbekistan  Vanuatu  Venezuela  Vietnam  \\\n",
              "0          0  ...        0           0        0          0        0   \n",
              "1          0  ...        0           0        0          0        0   \n",
              "2          0  ...        0           0        0          0        0   \n",
              "3          0  ...        0           0        0          0        0   \n",
              "4          0  ...        0           0        0          0        0   \n",
              "\n",
              "   Wallis and Futuna  Western Sahara  Yemen  Zambia  Zimbabwe  \n",
              "0                  0               0      0       0         0  \n",
              "1                  0               0      0       0         0  \n",
              "2                  0               0      0       0         0  \n",
              "3                  0               0      0       0         0  \n",
              "4                  0               0      0       0         0  \n",
              "\n",
              "[5 rows x 236 columns]"
            ],
            "text/html": [
              "<div>\n",
              "<style scoped>\n",
              "    .dataframe tbody tr th:only-of-type {\n",
              "        vertical-align: middle;\n",
              "    }\n",
              "\n",
              "    .dataframe tbody tr th {\n",
              "        vertical-align: top;\n",
              "    }\n",
              "\n",
              "    .dataframe thead th {\n",
              "        text-align: right;\n",
              "    }\n",
              "</style>\n",
              "<table border=\"1\" class=\"dataframe\">\n",
              "  <thead>\n",
              "    <tr style=\"text-align: right;\">\n",
              "      <th></th>\n",
              "      <th>Afghanistan</th>\n",
              "      <th>Albania</th>\n",
              "      <th>Algeria</th>\n",
              "      <th>American Samoa</th>\n",
              "      <th>Andorra</th>\n",
              "      <th>Angola</th>\n",
              "      <th>Anguilla</th>\n",
              "      <th>Antarctica (the territory South of 60 deg S)</th>\n",
              "      <th>Antigua and Barbuda</th>\n",
              "      <th>Argentina</th>\n",
              "      <th>...</th>\n",
              "      <th>Uruguay</th>\n",
              "      <th>Uzbekistan</th>\n",
              "      <th>Vanuatu</th>\n",
              "      <th>Venezuela</th>\n",
              "      <th>Vietnam</th>\n",
              "      <th>Wallis and Futuna</th>\n",
              "      <th>Western Sahara</th>\n",
              "      <th>Yemen</th>\n",
              "      <th>Zambia</th>\n",
              "      <th>Zimbabwe</th>\n",
              "    </tr>\n",
              "  </thead>\n",
              "  <tbody>\n",
              "    <tr>\n",
              "      <th>0</th>\n",
              "      <td>0</td>\n",
              "      <td>0</td>\n",
              "      <td>0</td>\n",
              "      <td>0</td>\n",
              "      <td>0</td>\n",
              "      <td>0</td>\n",
              "      <td>0</td>\n",
              "      <td>0</td>\n",
              "      <td>0</td>\n",
              "      <td>0</td>\n",
              "      <td>...</td>\n",
              "      <td>0</td>\n",
              "      <td>0</td>\n",
              "      <td>0</td>\n",
              "      <td>0</td>\n",
              "      <td>0</td>\n",
              "      <td>0</td>\n",
              "      <td>0</td>\n",
              "      <td>0</td>\n",
              "      <td>0</td>\n",
              "      <td>0</td>\n",
              "    </tr>\n",
              "    <tr>\n",
              "      <th>1</th>\n",
              "      <td>0</td>\n",
              "      <td>0</td>\n",
              "      <td>0</td>\n",
              "      <td>0</td>\n",
              "      <td>0</td>\n",
              "      <td>0</td>\n",
              "      <td>0</td>\n",
              "      <td>0</td>\n",
              "      <td>0</td>\n",
              "      <td>0</td>\n",
              "      <td>...</td>\n",
              "      <td>0</td>\n",
              "      <td>0</td>\n",
              "      <td>0</td>\n",
              "      <td>0</td>\n",
              "      <td>0</td>\n",
              "      <td>0</td>\n",
              "      <td>0</td>\n",
              "      <td>0</td>\n",
              "      <td>0</td>\n",
              "      <td>0</td>\n",
              "    </tr>\n",
              "    <tr>\n",
              "      <th>2</th>\n",
              "      <td>0</td>\n",
              "      <td>0</td>\n",
              "      <td>0</td>\n",
              "      <td>0</td>\n",
              "      <td>0</td>\n",
              "      <td>0</td>\n",
              "      <td>0</td>\n",
              "      <td>0</td>\n",
              "      <td>0</td>\n",
              "      <td>0</td>\n",
              "      <td>...</td>\n",
              "      <td>0</td>\n",
              "      <td>0</td>\n",
              "      <td>0</td>\n",
              "      <td>0</td>\n",
              "      <td>0</td>\n",
              "      <td>0</td>\n",
              "      <td>0</td>\n",
              "      <td>0</td>\n",
              "      <td>0</td>\n",
              "      <td>0</td>\n",
              "    </tr>\n",
              "    <tr>\n",
              "      <th>3</th>\n",
              "      <td>0</td>\n",
              "      <td>0</td>\n",
              "      <td>0</td>\n",
              "      <td>0</td>\n",
              "      <td>0</td>\n",
              "      <td>0</td>\n",
              "      <td>0</td>\n",
              "      <td>0</td>\n",
              "      <td>0</td>\n",
              "      <td>0</td>\n",
              "      <td>...</td>\n",
              "      <td>0</td>\n",
              "      <td>0</td>\n",
              "      <td>0</td>\n",
              "      <td>0</td>\n",
              "      <td>0</td>\n",
              "      <td>0</td>\n",
              "      <td>0</td>\n",
              "      <td>0</td>\n",
              "      <td>0</td>\n",
              "      <td>0</td>\n",
              "    </tr>\n",
              "    <tr>\n",
              "      <th>4</th>\n",
              "      <td>0</td>\n",
              "      <td>0</td>\n",
              "      <td>0</td>\n",
              "      <td>0</td>\n",
              "      <td>0</td>\n",
              "      <td>0</td>\n",
              "      <td>0</td>\n",
              "      <td>0</td>\n",
              "      <td>0</td>\n",
              "      <td>0</td>\n",
              "      <td>...</td>\n",
              "      <td>0</td>\n",
              "      <td>0</td>\n",
              "      <td>0</td>\n",
              "      <td>0</td>\n",
              "      <td>0</td>\n",
              "      <td>0</td>\n",
              "      <td>0</td>\n",
              "      <td>0</td>\n",
              "      <td>0</td>\n",
              "      <td>0</td>\n",
              "    </tr>\n",
              "  </tbody>\n",
              "</table>\n",
              "<p>5 rows × 236 columns</p>\n",
              "</div>"
            ]
          },
          "metadata": {},
          "execution_count": 61
        }
      ]
    },
    {
      "cell_type": "markdown",
      "source": [
        "### `var6` column"
      ],
      "metadata": {
        "id": "cmu77tfAdklV"
      }
    },
    {
      "cell_type": "code",
      "source": [
        "df['var6'].value_counts()"
      ],
      "metadata": {
        "colab": {
          "base_uri": "https://localhost:8080/"
        },
        "id": "lQDBV73u7akP",
        "outputId": "d52048e2-d467-4043-a696-b38e11239b38"
      },
      "execution_count": null,
      "outputs": [
        {
          "output_type": "execute_result",
          "data": {
            "text/plain": [
              "yes    483\n",
              "no     442\n",
              "Name: var6, dtype: int64"
            ]
          },
          "metadata": {},
          "execution_count": 17
        }
      ]
    },
    {
      "cell_type": "markdown",
      "source": [
        "In `var6` we are having only two categories. There is a good practice for linear regression usage to drop one of the categories to avoid collinearity in data columns. If we do so with One-hot encoding on binary data it will be equal to ordinal encoding."
      ],
      "metadata": {
        "id": "BD-CvOgR21Dm"
      }
    },
    {
      "cell_type": "code",
      "source": [
        "var6_encoded = df['var6'].apply(lambda x: 1. if x == 'yes' else 0.)\n",
        "var6_encoded"
      ],
      "metadata": {
        "colab": {
          "base_uri": "https://localhost:8080/"
        },
        "id": "w1lSmExL47PM",
        "outputId": "df31aa11-28bd-4e28-be29-2ac81eb55c08"
      },
      "execution_count": null,
      "outputs": [
        {
          "output_type": "execute_result",
          "data": {
            "text/plain": [
              "0      0.0\n",
              "1      1.0\n",
              "2      0.0\n",
              "3      1.0\n",
              "4      0.0\n",
              "      ... \n",
              "920    1.0\n",
              "921    0.0\n",
              "922    1.0\n",
              "923    1.0\n",
              "924    1.0\n",
              "Name: var6, Length: 925, dtype: float64"
            ]
          },
          "metadata": {},
          "execution_count": 18
        }
      ]
    },
    {
      "cell_type": "markdown",
      "source": [
        "### `var7` column"
      ],
      "metadata": {
        "id": "9ZP_fJeI5-tW"
      }
    },
    {
      "cell_type": "code",
      "source": [
        "df['var7'].head()"
      ],
      "metadata": {
        "colab": {
          "base_uri": "https://localhost:8080/"
        },
        "id": "qN3tia2D6Cwz",
        "outputId": "19ee7050-2184-41d5-c0b8-7d9b7396c7e0"
      },
      "execution_count": null,
      "outputs": [
        {
          "output_type": "execute_result",
          "data": {
            "text/plain": [
              "0    2019-07-20 13:21:37\n",
              "1    2019-04-04 21:30:46\n",
              "2    2019-03-03 02:59:37\n",
              "3    2019-03-19 08:00:58\n",
              "4    2019-03-18 13:22:35\n",
              "Name: var7, dtype: object"
            ]
          },
          "metadata": {},
          "execution_count": 19
        }
      ]
    },
    {
      "cell_type": "markdown",
      "source": [
        "There are problematic values such as `2019-02-29 11:00:06`.\n",
        "\n",
        "29-th of February in non leap year.\n",
        "\n",
        "I will change such values to `2019-03-1 11:00:06` to make **dateutil** library methods work properly.\n"
      ],
      "metadata": {
        "id": "4shKSnG_9PKq"
      }
    },
    {
      "cell_type": "code",
      "source": [
        "bad_dates = [\n",
        "    '2019-02-29 12:31:57', \n",
        "    '2019-02-29 11:00:06', \n",
        "    '2019-02-29 18:06:21',\n",
        "    '2019-02-29 23:56:06',\n",
        "    '2019-02-29 19:26:35']\n",
        "    \n",
        "df[df['var7'].isin(bad_dates)]"
      ],
      "metadata": {
        "colab": {
          "base_uri": "https://localhost:8080/",
          "height": 206
        },
        "id": "nrXu5FuN93JV",
        "outputId": "89036dfa-6f05-404b-ad3c-d227276cd0e8"
      },
      "execution_count": null,
      "outputs": [
        {
          "output_type": "execute_result",
          "data": {
            "text/plain": [
              "     target    var1     var2        var3  var4    var5 var6  \\\n",
              "345       0  502.00  577.569      Angola   NaN  360.05  yes   \n",
              "526       1  343.80  525.632  Guadeloupe   NaN  271.95   no   \n",
              "632       0  463.08  516.361     Ireland   NaN  407.30  yes   \n",
              "779       1  273.70  199.917  Madagascar   NaN  319.40  yes   \n",
              "813       0  357.02  750.444    Barbados   NaN  381.00  yes   \n",
              "\n",
              "                    var7  \n",
              "345  2019-02-29 12:31:57  \n",
              "526  2019-02-29 18:06:21  \n",
              "632  2019-02-29 11:00:06  \n",
              "779  2019-02-29 23:56:06  \n",
              "813  2019-02-29 19:26:35  "
            ],
            "text/html": [
              "<div>\n",
              "<style scoped>\n",
              "    .dataframe tbody tr th:only-of-type {\n",
              "        vertical-align: middle;\n",
              "    }\n",
              "\n",
              "    .dataframe tbody tr th {\n",
              "        vertical-align: top;\n",
              "    }\n",
              "\n",
              "    .dataframe thead th {\n",
              "        text-align: right;\n",
              "    }\n",
              "</style>\n",
              "<table border=\"1\" class=\"dataframe\">\n",
              "  <thead>\n",
              "    <tr style=\"text-align: right;\">\n",
              "      <th></th>\n",
              "      <th>target</th>\n",
              "      <th>var1</th>\n",
              "      <th>var2</th>\n",
              "      <th>var3</th>\n",
              "      <th>var4</th>\n",
              "      <th>var5</th>\n",
              "      <th>var6</th>\n",
              "      <th>var7</th>\n",
              "    </tr>\n",
              "  </thead>\n",
              "  <tbody>\n",
              "    <tr>\n",
              "      <th>345</th>\n",
              "      <td>0</td>\n",
              "      <td>502.00</td>\n",
              "      <td>577.569</td>\n",
              "      <td>Angola</td>\n",
              "      <td>NaN</td>\n",
              "      <td>360.05</td>\n",
              "      <td>yes</td>\n",
              "      <td>2019-02-29 12:31:57</td>\n",
              "    </tr>\n",
              "    <tr>\n",
              "      <th>526</th>\n",
              "      <td>1</td>\n",
              "      <td>343.80</td>\n",
              "      <td>525.632</td>\n",
              "      <td>Guadeloupe</td>\n",
              "      <td>NaN</td>\n",
              "      <td>271.95</td>\n",
              "      <td>no</td>\n",
              "      <td>2019-02-29 18:06:21</td>\n",
              "    </tr>\n",
              "    <tr>\n",
              "      <th>632</th>\n",
              "      <td>0</td>\n",
              "      <td>463.08</td>\n",
              "      <td>516.361</td>\n",
              "      <td>Ireland</td>\n",
              "      <td>NaN</td>\n",
              "      <td>407.30</td>\n",
              "      <td>yes</td>\n",
              "      <td>2019-02-29 11:00:06</td>\n",
              "    </tr>\n",
              "    <tr>\n",
              "      <th>779</th>\n",
              "      <td>1</td>\n",
              "      <td>273.70</td>\n",
              "      <td>199.917</td>\n",
              "      <td>Madagascar</td>\n",
              "      <td>NaN</td>\n",
              "      <td>319.40</td>\n",
              "      <td>yes</td>\n",
              "      <td>2019-02-29 23:56:06</td>\n",
              "    </tr>\n",
              "    <tr>\n",
              "      <th>813</th>\n",
              "      <td>0</td>\n",
              "      <td>357.02</td>\n",
              "      <td>750.444</td>\n",
              "      <td>Barbados</td>\n",
              "      <td>NaN</td>\n",
              "      <td>381.00</td>\n",
              "      <td>yes</td>\n",
              "      <td>2019-02-29 19:26:35</td>\n",
              "    </tr>\n",
              "  </tbody>\n",
              "</table>\n",
              "</div>"
            ]
          },
          "metadata": {},
          "execution_count": 42
        }
      ]
    },
    {
      "cell_type": "code",
      "source": [
        "df.at[632, 'var7'] = '2019-03-1 11:00:06'\n",
        "df.at[345, 'var7'] = '2019-03-1 12:31:5'\n",
        "df.at[526, 'var7'] = '2019-03-1 18:06:21'\n",
        "df.at[779, 'var7'] = '2019-03-1 23:56:06'\n",
        "df.at[813, 'var7'] = '2019-03-1 19:26:35'"
      ],
      "metadata": {
        "id": "xODlatRw-ksB"
      },
      "execution_count": null,
      "outputs": []
    },
    {
      "cell_type": "markdown",
      "source": [
        "Let's check whether all theese dates belong to the same year"
      ],
      "metadata": {
        "id": "ZESMCE2PDO8z"
      }
    },
    {
      "cell_type": "code",
      "source": [
        "check_year = lambda x: False if parse_date(x).year == 2019 else True\n",
        "df['var7'].apply(check_year).sum()"
      ],
      "metadata": {
        "colab": {
          "base_uri": "https://localhost:8080/"
        },
        "id": "_UnuU7oj77sy",
        "outputId": "5ea96eb2-d380-47f1-d04b-69f4eb9f015b"
      },
      "execution_count": null,
      "outputs": [
        {
          "output_type": "execute_result",
          "data": {
            "text/plain": [
              "0"
            ]
          },
          "metadata": {},
          "execution_count": 39
        }
      ]
    },
    {
      "cell_type": "markdown",
      "source": [
        "All the dates are from 2019. I decided to convert all this dates into number of seconds which passed from the beginning of 2019."
      ],
      "metadata": {
        "id": "zMMw1oTyENEv"
      }
    },
    {
      "cell_type": "code",
      "source": [
        "def convert_to_seconds(date):\n",
        "    date = parse_date(date)\n",
        "\n",
        "    days = 0\n",
        "    for month in range(1, date.month):\n",
        "        days += monthrange(2019, month)[1]\n",
        "    days += date.day\n",
        "\n",
        "    hours = days * 24 + date.hour\n",
        "\n",
        "    minutes = hours * 60 + date.minute\n",
        "\n",
        "    seconds = minutes * 60 + date.second\n",
        "\n",
        "    return seconds"
      ],
      "metadata": {
        "id": "OGzLOiklFiHy"
      },
      "execution_count": null,
      "outputs": []
    },
    {
      "cell_type": "code",
      "source": [
        "df['var7'] = df['var7'].apply(convert_to_seconds)"
      ],
      "metadata": {
        "id": "bfqlktjcGyw8"
      },
      "execution_count": null,
      "outputs": []
    },
    {
      "cell_type": "markdown",
      "source": [
        "Let's look at the result:"
      ],
      "metadata": {
        "id": "xOgE9KDuHXUQ"
      }
    },
    {
      "cell_type": "code",
      "source": [
        "df.head()"
      ],
      "metadata": {
        "colab": {
          "base_uri": "https://localhost:8080/",
          "height": 206
        },
        "id": "H8lKSKTgG_Fn",
        "outputId": "52ddb205-5adf-421d-cc3a-dc9bf9df6d6c"
      },
      "execution_count": null,
      "outputs": [
        {
          "output_type": "execute_result",
          "data": {
            "text/plain": [
              "   target    var1     var2          var3   var4    var5 var6      var7\n",
              "0       0  509.18  417.681    Micronesia  138.0  393.00   no  17414497\n",
              "1       0  446.06  666.182      Dominica   81.0  352.05  yes   8199046\n",
              "2       1  235.50  398.097   Isle of Man   90.0  339.00   no   5367577\n",
              "3       0  306.02  518.163  Turkmenistan  102.0  439.25  yes   6768058\n",
              "4       0  453.08  600.156      Cameroon  105.0  422.95   no   6700955"
            ],
            "text/html": [
              "<div>\n",
              "<style scoped>\n",
              "    .dataframe tbody tr th:only-of-type {\n",
              "        vertical-align: middle;\n",
              "    }\n",
              "\n",
              "    .dataframe tbody tr th {\n",
              "        vertical-align: top;\n",
              "    }\n",
              "\n",
              "    .dataframe thead th {\n",
              "        text-align: right;\n",
              "    }\n",
              "</style>\n",
              "<table border=\"1\" class=\"dataframe\">\n",
              "  <thead>\n",
              "    <tr style=\"text-align: right;\">\n",
              "      <th></th>\n",
              "      <th>target</th>\n",
              "      <th>var1</th>\n",
              "      <th>var2</th>\n",
              "      <th>var3</th>\n",
              "      <th>var4</th>\n",
              "      <th>var5</th>\n",
              "      <th>var6</th>\n",
              "      <th>var7</th>\n",
              "    </tr>\n",
              "  </thead>\n",
              "  <tbody>\n",
              "    <tr>\n",
              "      <th>0</th>\n",
              "      <td>0</td>\n",
              "      <td>509.18</td>\n",
              "      <td>417.681</td>\n",
              "      <td>Micronesia</td>\n",
              "      <td>138.0</td>\n",
              "      <td>393.00</td>\n",
              "      <td>no</td>\n",
              "      <td>17414497</td>\n",
              "    </tr>\n",
              "    <tr>\n",
              "      <th>1</th>\n",
              "      <td>0</td>\n",
              "      <td>446.06</td>\n",
              "      <td>666.182</td>\n",
              "      <td>Dominica</td>\n",
              "      <td>81.0</td>\n",
              "      <td>352.05</td>\n",
              "      <td>yes</td>\n",
              "      <td>8199046</td>\n",
              "    </tr>\n",
              "    <tr>\n",
              "      <th>2</th>\n",
              "      <td>1</td>\n",
              "      <td>235.50</td>\n",
              "      <td>398.097</td>\n",
              "      <td>Isle of Man</td>\n",
              "      <td>90.0</td>\n",
              "      <td>339.00</td>\n",
              "      <td>no</td>\n",
              "      <td>5367577</td>\n",
              "    </tr>\n",
              "    <tr>\n",
              "      <th>3</th>\n",
              "      <td>0</td>\n",
              "      <td>306.02</td>\n",
              "      <td>518.163</td>\n",
              "      <td>Turkmenistan</td>\n",
              "      <td>102.0</td>\n",
              "      <td>439.25</td>\n",
              "      <td>yes</td>\n",
              "      <td>6768058</td>\n",
              "    </tr>\n",
              "    <tr>\n",
              "      <th>4</th>\n",
              "      <td>0</td>\n",
              "      <td>453.08</td>\n",
              "      <td>600.156</td>\n",
              "      <td>Cameroon</td>\n",
              "      <td>105.0</td>\n",
              "      <td>422.95</td>\n",
              "      <td>no</td>\n",
              "      <td>6700955</td>\n",
              "    </tr>\n",
              "  </tbody>\n",
              "</table>\n",
              "</div>"
            ]
          },
          "metadata": {},
          "execution_count": 59
        }
      ]
    },
    {
      "cell_type": "markdown",
      "source": [
        "## Data imputation for `var4`\n",
        "At first we need to prepare data for training. We need to exract rows with non-empty `var4` colums and devide them into **train** and **test** datasets for crossvalidation."
      ],
      "metadata": {
        "id": "w15rSrGqHifN"
      }
    },
    {
      "cell_type": "code",
      "source": [
        "df['var4'].notnull().sum()"
      ],
      "metadata": {
        "colab": {
          "base_uri": "https://localhost:8080/"
        },
        "id": "0DvYr8elcbbq",
        "outputId": "c7adaab2-8b52-45b9-f2e8-c3693527973e"
      },
      "execution_count": null,
      "outputs": [
        {
          "output_type": "execute_result",
          "data": {
            "text/plain": [
              "325"
            ]
          },
          "metadata": {},
          "execution_count": 112
        }
      ]
    },
    {
      "cell_type": "markdown",
      "source": [
        "We have only 325 rows that is not null in `var4`."
      ],
      "metadata": {
        "id": "yimZUDPwcmzY"
      }
    },
    {
      "cell_type": "code",
      "source": [
        "data = pd.concat([df[['target', 'var1', 'var2', 'var5', 'var7']], var6_encoded, var3_dummy], axis=1)\n",
        "target = df['var4']\n",
        "\n",
        "X = data[target.notnull()]\n",
        "y = target[target.notnull()]"
      ],
      "metadata": {
        "id": "tqVs57T9HmEI"
      },
      "execution_count": null,
      "outputs": []
    },
    {
      "cell_type": "markdown",
      "source": [
        "I think it makes sence to use polynomial fitures only for numeric columns."
      ],
      "metadata": {
        "id": "HRHNgUgAQzjN"
      }
    },
    {
      "cell_type": "code",
      "source": [
        "numeric_cols = ['var1', 'var2', 'var5']\n",
        "other_cols = [col for col in data.columns if col not in numeric_cols]"
      ],
      "metadata": {
        "id": "fM6WEt2khpTx"
      },
      "execution_count": null,
      "outputs": []
    },
    {
      "cell_type": "code",
      "source": [
        "def train_pol_regr(X, y, degree=1):\n",
        "    X = X.copy()\n",
        "    y = y.copy()\n",
        "\n",
        "    poly = PolynomialFeatures(degree=degree, include_bias=False)\n",
        "    poly.fit(X[numeric_cols])\n",
        "    columns = poly.get_feature_names_out(numeric_cols)\n",
        "    X_num = poly.transform(X[numeric_cols])\n",
        "    X_num = pd.DataFrame(X_num, columns=columns)\n",
        "\n",
        "    X = pd.concat([X_num, X[other_cols]], axis=1)\n",
        "\n",
        "    X_train, X_test, y_train, y_test = train_test_split(X, y, test_size=0.2, random_state=SEED)\n",
        "\n",
        "    scaler = StandardScaler()\n",
        "    scaler.fit(X_train)\n",
        "\n",
        "    X_train = scaler.transform(X_train)\n",
        "    X_test = scaler.transform(X_test)\n",
        "\n",
        "    regr = LinearRegression()\n",
        "    regr.fit(X_train, y_train)\n",
        "\n",
        "    pred_train = regr.predict(X_train) \n",
        "    pred_test = regr.predict(X_test)\n",
        "\n",
        "    rmse_train = mean_squared_error(y_train, pred_train, squared=False)\n",
        "    mae_train = mean_absolute_error(y_train, pred_train)\n",
        "\n",
        "    rmse_test = mean_squared_error(y_test, pred_test, squared=False)\n",
        "    mae_test = mean_absolute_error(y_test, pred_test)\n",
        "\n",
        "    return rmse_train, mae_train, rmse_test, mae_test"
      ],
      "metadata": {
        "id": "86m7kCvoSGrR"
      },
      "execution_count": null,
      "outputs": []
    },
    {
      "cell_type": "markdown",
      "source": [
        "Let's look at the results."
      ],
      "metadata": {
        "id": "sxeVTbHwh4ug"
      }
    },
    {
      "cell_type": "code",
      "source": [
        "for degree in range(1, 5):\n",
        "    rmse_train, mae_train, rmse_test, mae_test = train_pol_regr(X, y, degree=degree)\n",
        "    print(f'Degree {degree}:')\n",
        "    print(f'Train: rmse = {rmse_train}, mae = {mae_train}')\n",
        "    print(f'Test: rmse = {rmse_test}, mae = {mae_test}\\n')"
      ],
      "metadata": {
        "colab": {
          "base_uri": "https://localhost:8080/"
        },
        "id": "yQE3FcR1TEay",
        "outputId": "9625e638-db8e-4d50-fd8b-1b96c18b4260"
      },
      "execution_count": null,
      "outputs": [
        {
          "output_type": "stream",
          "name": "stdout",
          "text": [
            "Degree 1:\n",
            "Train: rmse = 11.134367928691791, mae = 7.630305671407508\n",
            "Test: rmse = 12310423716459.096, mae = 2156410919205.2695\n",
            "\n",
            "Degree 2:\n",
            "Train: rmse = 10.254880004989154, mae = 6.591564690900556\n",
            "Test: rmse = 8753620474939.7295, mae = 1485735682449.421\n",
            "\n",
            "Degree 3:\n",
            "Train: rmse = 9.809901311558106, mae = 6.600118151986347\n",
            "Test: rmse = 13432570282775.855, mae = 1474985300159.867\n",
            "\n",
            "Degree 4:\n",
            "Train: rmse = 9.659718739345706, mae = 6.460510059478005\n",
            "Test: rmse = 17109743599406.277, mae = 2944528633769.079\n",
            "\n"
          ]
        }
      ]
    },
    {
      "cell_type": "markdown",
      "source": [
        "Results on test a very bad, so I decied to drop One-hot features from `var3` column."
      ],
      "metadata": {
        "id": "nfRsG6jHiCRI"
      }
    },
    {
      "cell_type": "code",
      "source": [
        "data = pd.concat([df[['target', 'var1', 'var2', 'var5', 'var7']], var6_encoded], axis=1)\n",
        "target = df['var4']\n",
        "\n",
        "X = data[target.notnull()]\n",
        "y = target[target.notnull()]\n",
        "\n",
        "numeric_cols = ['var1', 'var2', 'var5']\n",
        "other_cols = [col for col in data.columns if col not in num_cols]\n",
        "\n",
        "for degree in range(1, 5):\n",
        "    rmse_train, mae_train, rmse_test, mae_test = train_pol_regr(X, y, degree=degree)\n",
        "    print(f'Degree {degree}:')\n",
        "    print(f'Train: rmse = {rmse_train}, mae = {mae_train}')\n",
        "    print(f'Test: rmse = {rmse_test}, mae = {mae_test}\\n')"
      ],
      "metadata": {
        "colab": {
          "base_uri": "https://localhost:8080/"
        },
        "id": "g-194tgghIs_",
        "outputId": "7ea477fe-1e3b-4d27-b95e-2e4a9f9b0921"
      },
      "execution_count": null,
      "outputs": [
        {
          "output_type": "stream",
          "name": "stdout",
          "text": [
            "Degree 1:\n",
            "Train: rmse = 13.818393207636362, mae = 8.369574857162656\n",
            "Test: rmse = 12.90813146848636, mae = 8.072322085724108\n",
            "\n",
            "Degree 2:\n",
            "Train: rmse = 12.587808178644076, mae = 6.512451691851493\n",
            "Test: rmse = 10.852984530731248, mae = 5.994320215292496\n",
            "\n",
            "Degree 3:\n",
            "Train: rmse = 12.084647437219074, mae = 7.138529044953033\n",
            "Test: rmse = 11.052640968221166, mae = 6.757877292336309\n",
            "\n",
            "Degree 4:\n",
            "Train: rmse = 11.918159295179251, mae = 7.120857862046856\n",
            "Test: rmse = 11.202535042611867, mae = 6.88109321146462\n",
            "\n"
          ]
        }
      ]
    },
    {
      "cell_type": "markdown",
      "source": [
        "As we can see dropping of `var3` column gave us increase in quality.\n",
        "\n",
        "With 4-th degree quality on test became worse. I will use 2-rd degree for data inputation."
      ],
      "metadata": {
        "id": "CI_N0FFetLJz"
      }
    },
    {
      "cell_type": "code",
      "source": [
        "data = pd.concat([df[['target', 'var1', 'var2', 'var5', 'var7']], var6_encoded], axis=1)\n",
        "var4 = df['var4']\n",
        "\n",
        "poly = PolynomialFeatures(degree=2, include_bias=False)\n",
        "\n",
        "poly.fit(data[numeric_cols])\n",
        "columns = poly.get_feature_names_out(numeric_cols)\n",
        "data_num = poly.transform(data[numeric_cols])\n",
        "data_num = pd.DataFrame(data_num, columns=columns)\n",
        "\n",
        "data = pd.concat([data_num, data[other_cols]], axis=1)\n",
        "\n",
        "scaler = StandardScaler()\n",
        "scaler.fit(data)\n",
        "\n",
        "data_scaled = scaler.transform(data)\n",
        "data_scaled = pd.DataFrame(data_scaled, columns=data.columns)\n",
        "\n",
        "X = data_scaled[var4.notnull()]\n",
        "y = var4[var4.notnull()]\n",
        "\n",
        "regr = LinearRegression()\n",
        "regr.fit(X, y)\n",
        "\n",
        "nulls = var4[var4.isnull()].index\n",
        "\n",
        "for null_idx in nulls:\n",
        "    var4.at[null_idx] = regr.predict([data_scaled.iloc[null_idx]])"
      ],
      "metadata": {
        "id": "2P3UK-G-vekT"
      },
      "execution_count": null,
      "outputs": []
    },
    {
      "cell_type": "markdown",
      "source": [
        "Let's look at imputed data of `var4` column:"
      ],
      "metadata": {
        "id": "9eGYcwVR8eLR"
      }
    },
    {
      "cell_type": "code",
      "source": [
        "fig = plt.figure(figsize=(20, 1))\n",
        "ax1 = fig.add_subplot(121)\n",
        "ax1.set_title('Initial var4 data')\n",
        "ax1.scatter(y, np.zeros(y.shape))\n",
        "\n",
        "ax2 = fig.add_subplot(122)\n",
        "ax2.set_title('Imputed var4 data')\n",
        "ax2.scatter(var4, np.zeros(var4.shape))\n",
        "\n",
        "plt.show()"
      ],
      "metadata": {
        "colab": {
          "base_uri": "https://localhost:8080/",
          "height": 118
        },
        "id": "AXO1QYeA6qZ0",
        "outputId": "3f557117-200a-4055-c9e6-776414836f37"
      },
      "execution_count": null,
      "outputs": [
        {
          "output_type": "display_data",
          "data": {
            "text/plain": [
              "<Figure size 1440x72 with 2 Axes>"
            ],
            "image/png": "[encoded data removed]"
          },
          "metadata": {
            "needs_background": "light"
          }
        }
      ]
    },
    {
      "cell_type": "markdown",
      "source": [
        "Distribution of imputed data lools like initial data it is good."
      ],
      "metadata": {
        "id": "QE33A2aDTl1z"
      }
    },
    {
      "cell_type": "markdown",
      "source": [
        "## Implementing PCA technique"
      ],
      "metadata": {
        "id": "kQbK5MJZqk0d"
      }
    },
    {
      "cell_type": "code",
      "source": [
        "data = pd.concat([df[['var1', 'var2', 'var5', 'var7']], var4, var6_encoded, var3_dummy], axis=1)\n",
        "target = df['target']"
      ],
      "metadata": {
        "id": "1aLgDstxqrIs"
      },
      "execution_count": 676,
      "outputs": []
    },
    {
      "cell_type": "code",
      "source": [
        "def apply_pca(data, dimensions):\n",
        "    scaler = StandardScaler()\n",
        "    data_scaled = scaler.fit_transform(data)\n",
        "\n",
        "    cov = np.cov(data_scaled.T)\n",
        "    w, v = np.linalg.eig(cov)\n",
        "\n",
        "    idx = w.argsort()[::-1]   \n",
        "    w = w[idx]\n",
        "    v = v[:, idx]\n",
        "\n",
        "    W = v[:, :dimensions]\n",
        "    X = data_scaled @ W\n",
        "\n",
        "    return X, W"
      ],
      "metadata": {
        "id": "9VEuqyUIr8vm"
      },
      "execution_count": null,
      "outputs": []
    },
    {
      "cell_type": "markdown",
      "source": [
        "Let's check whether my implementation works correct:"
      ],
      "metadata": {
        "id": "hKIj0SQW6McD"
      }
    },
    {
      "cell_type": "code",
      "source": [
        "apply_pca(data, 2)[0]"
      ],
      "metadata": {
        "colab": {
          "base_uri": "https://localhost:8080/"
        },
        "id": "62yQPjEF4xZZ",
        "outputId": "b7d776c8-498f-406b-b4ec-bd1d2fe2fcb4"
      },
      "execution_count": null,
      "outputs": [
        {
          "output_type": "execute_result",
          "data": {
            "text/plain": [
              "array([[-0.08187544,  1.16673612],\n",
              "       [-1.31034986, -0.16794816],\n",
              "       [ 0.10922415, -1.11354569],\n",
              "       ...,\n",
              "       [ 0.90323456,  0.76160146],\n",
              "       [-0.87185972,  1.24202973],\n",
              "       [ 0.63623955,  1.15547515]])"
            ]
          },
          "metadata": {},
          "execution_count": 593
        }
      ]
    },
    {
      "cell_type": "code",
      "source": [
        "scaler = StandardScaler()\n",
        "data_scaled = scaler.fit_transform(data)\n",
        "PCA(2).fit_transform(data_scaled)"
      ],
      "metadata": {
        "colab": {
          "base_uri": "https://localhost:8080/"
        },
        "id": "63Z5GqB621aS",
        "outputId": "b07b436b-e507-4ed7-9855-20625d011c15"
      },
      "execution_count": null,
      "outputs": [
        {
          "output_type": "execute_result",
          "data": {
            "text/plain": [
              "array([[-0.08187544,  1.16710149],\n",
              "       [-1.31034986, -0.16227722],\n",
              "       [ 0.10922415, -1.11402896],\n",
              "       ...,\n",
              "       [ 0.90323456,  0.75769849],\n",
              "       [-0.87185972,  1.24581565],\n",
              "       [ 0.63623955,  1.1527317 ]])"
            ]
          },
          "metadata": {},
          "execution_count": 594
        }
      ]
    },
    {
      "cell_type": "markdown",
      "source": [
        "My implementation of PCA gives the same result as PCA from **sklearn**."
      ],
      "metadata": {
        "id": "ZCUlH_4OesOY"
      }
    },
    {
      "cell_type": "code",
      "source": [
        "X, _ = apply_pca(data, 2)\n",
        "\n",
        "one = X[target[target == 1].index]\n",
        "zero = X[target[target == 0].index]\n",
        "\n",
        "fig = plt.figure(figsize=(6, 6))\n",
        "ax = fig.add_subplot(111)\n",
        "ax.set_title('Target Distribution with 2D PCA')\n",
        "ax.scatter(one[:, 0], one[:, 1])\n",
        "ax.scatter(zero[:, 0], zero[:, 1])\n",
        "\n",
        "plt.show()"
      ],
      "metadata": {
        "colab": {
          "base_uri": "https://localhost:8080/",
          "height": 427
        },
        "id": "6inhV1D0xxmC",
        "outputId": "3e633ec2-3d71-4bb8-e225-db26404ed598"
      },
      "execution_count": null,
      "outputs": [
        {
          "output_type": "stream",
          "name": "stderr",
          "text": [
            "/home/andrey/anaconda3/lib/python3.8/site-packages/matplotlib/collections.py:202: ComplexWarning: Casting complex values to real discards the imaginary part\n",
            "  offsets = np.asanyarray(offsets, float)\n"
          ]
        },
        {
          "output_type": "display_data",
          "data": {
            "text/plain": [
              "<Figure size 432x432 with 1 Axes>"
            ],
            "image/png": "[encoded data removed]"
          },
          "metadata": {
            "needs_background": "light"
          }
        }
      ]
    },
    {
      "cell_type": "markdown",
      "source": [
        "As we can see our data is linearly separable in 2D projection."
      ],
      "metadata": {
        "id": "3QjPYsKc31s3"
      }
    },
    {
      "cell_type": "code",
      "source": [
        "X, _ = apply_pca(data, 1)\n",
        "\n",
        "one = X[target[target == 1].index]\n",
        "zero = X[target[target == 0].index]\n",
        "\n",
        "fig = plt.figure(figsize=(6, 1))\n",
        "ax = fig.add_subplot(111)\n",
        "ax.set_title('Target Distribution with 1D PCA')\n",
        "ax.scatter(zero[:, 0], np.zeros(zero.shape[0]))\n",
        "ax.scatter(one[:, 0], np.ones(one.shape[0]))\n",
        "\n",
        "plt.show()"
      ],
      "metadata": {
        "colab": {
          "base_uri": "https://localhost:8080/",
          "height": 118
        },
        "id": "TEbX2Y8tkOut",
        "outputId": "a61d5e48-c071-4a0a-b1e0-7501d8c90ab5"
      },
      "execution_count": 677,
      "outputs": [
        {
          "output_type": "display_data",
          "data": {
            "text/plain": [
              "<Figure size 432x72 with 1 Axes>"
            ],
            "image/png": "[encoded data removed]"
          },
          "metadata": {
            "needs_background": "light"
          }
        }
      ]
    },
    {
      "cell_type": "markdown",
      "source": [
        "Projection to 1D do not give us good data separability"
      ],
      "metadata": {
        "id": "QkpRWHnPk-74"
      }
    },
    {
      "cell_type": "markdown",
      "source": [
        "# Training\n",
        "In this part I will use K-Fold Cross-Validation technique to tune best parameters for all the models on the train part of dataset. Then I will compare tuned models on the test dataset to choose which model performs the best."
      ],
      "metadata": {
        "id": "IYXGPw0j4gZE"
      }
    },
    {
      "cell_type": "code",
      "source": [
        "X = pd.concat([df[['var1', 'var2', 'var5', 'var7']], var4, var6_encoded, var3_dummy], axis=1)\n",
        "y = df['target']\n",
        "\n",
        "X_train, X_test, y_train, y_test = train_test_split(X, y, test_size=0.2, random_state=SEED)\n",
        "\n",
        "# k for the K-Fold Cross-Validation\n",
        "FOLDS_NUM = 3\n",
        "pca_n_components = [1, 2, 3, 4, 5, 6, 7, 10, X.shape[1]]"
      ],
      "metadata": {
        "id": "WY4mxGHp4kcu"
      },
      "execution_count": 673,
      "outputs": []
    },
    {
      "cell_type": "code",
      "source": [
        "def train_model(model, param_grid, X, y, k):\n",
        "    estimator = Pipeline([\n",
        "        ('std_scaler', StandardScaler()),\n",
        "        ('pca', PCA()),\n",
        "        ('model', model)\n",
        "    ])\n",
        "\n",
        "    grid_search_clf = GridSearchCV(\n",
        "        estimator=estimator,\n",
        "        cv=k,\n",
        "        scoring='accuracy',\n",
        "        param_grid=param_grid\n",
        "    )\n",
        "\n",
        "    grid_search_clf.fit(X, y)\n",
        "\n",
        "    return grid_search_clf"
      ],
      "metadata": {
        "id": "2UQk1NFADziS"
      },
      "execution_count": 648,
      "outputs": []
    },
    {
      "cell_type": "markdown",
      "source": [
        "## Logistic Regression"
      ],
      "metadata": {
        "id": "mPVLHwmjRWWN"
      }
    },
    {
      "cell_type": "code",
      "source": [
        "param_grid_logisitc = [\n",
        "    {'pca__n_components': pca_n_components,\n",
        "    'model__penalty': ['none', 'l2'],\n",
        "    'model__solver': ['newton-cg', 'lbfgs']},\n",
        "\n",
        "    {'pca__n_components': pca_n_components,\n",
        "        'model__penalty': ['l2', 'l1'],\n",
        "        'model__solver': ['liblinear']}\n",
        "]\n",
        "\n",
        "logistic = train_model(\n",
        "    model=LogisticRegression(),\n",
        "    param_grid=param_grid_logisitc,\n",
        "    X=X_train, \n",
        "    y=y_train,\n",
        "    k=FOLDS_NUM\n",
        ")\n",
        "\n",
        "print(\"Best parameters set found on development set:\")\n",
        "print(logistic.best_params_)\n",
        "\n",
        "y_pred = logistic.predict(X_test)\n",
        "logistic_acc = accuracy_score(y_test, y_pred)\n",
        "print(f'\\nTest accuracy: {logistic_acc}')"
      ],
      "metadata": {
        "colab": {
          "base_uri": "https://localhost:8080/"
        },
        "id": "qc5DHd_rEu7x",
        "outputId": "1de8110f-c884-4e52-abfd-80a74d7954ce"
      },
      "execution_count": 674,
      "outputs": [
        {
          "output_type": "stream",
          "name": "stdout",
          "text": [
            "Best parameters set found on development set:\n",
            "{'model__penalty': 'l1', 'model__solver': 'liblinear', 'pca__n_components': 242}\n",
            "\n",
            "Test accuracy: 0.9837837837837838\n"
          ]
        }
      ]
    },
    {
      "cell_type": "markdown",
      "source": [
        "Let's look at coefficients of our best model:"
      ],
      "metadata": {
        "id": "FXsz6jkUSoTE"
      }
    },
    {
      "cell_type": "code",
      "source": [
        "logistic_coefs = logistic.best_estimator_[2].coef_[0]\n",
        "\n",
        "for col, coef in zip(X_train.columns, logistic_coefs):\n",
        "    print(col, coef)"
      ],
      "metadata": {
        "colab": {
          "base_uri": "https://localhost:8080/"
        },
        "id": "5A-jyIezPdqd",
        "outputId": "fe82bb6e-0163-4a62-b453-3414bb6d4a29"
      },
      "execution_count": 669,
      "outputs": [
        {
          "output_type": "stream",
          "name": "stdout",
          "text": [
            "var1 4.998006654623992\n",
            "var2 0.0\n",
            "var5 -0.06488131086127225\n",
            "var7 -0.619926004969721\n",
            "var4 -0.37974396640543184\n",
            "var6 0.05195001584201946\n",
            "Afghanistan 0.0\n",
            "Albania 0.0\n",
            "Algeria 0.0\n",
            "American Samoa 0.0\n",
            "Andorra 0.0\n",
            "Angola 0.0\n",
            "Anguilla 0.0\n",
            "Antarctica (the territory South of 60 deg S) 0.0\n",
            "Antigua and Barbuda 0.0\n",
            "Argentina 0.0\n",
            "Armenia 0.0\n",
            "Aruba 0.0\n",
            "Australia -0.02544443784977539\n",
            "Austria 0.09479518480819649\n",
            "Azerbaijan -0.1465332448524817\n",
            "Bahamas 0.0\n",
            "Bahrain 0.0\n",
            "Bangladesh 0.0\n",
            "Barbados 0.6266640672679153\n",
            "Belarus 0.0\n",
            "Belgium 0.0\n",
            "Belize 0.06428284536670668\n",
            "Benin 0.0\n",
            "Bermuda 0.0\n",
            "Bhutan 0.0\n",
            "Bolivia 0.3397042896637987\n",
            "Bosnia and Herzegovina -0.23156116882169922\n",
            "Bouvet Island (Bouvetoya) 0.0\n",
            "Brazil 0.21023497645070094\n",
            "British Indian Ocean Territory (Chagos Archipelago) 0.0\n",
            "British Virgin Islands 0.0\n",
            "Brunei Darussalam 0.0\n",
            "Bulgaria 0.0\n",
            "Burkina Faso 0.3952675765326579\n",
            "Burundi -0.2030033907975543\n",
            "Cambodia 0.0\n",
            "Cameroon 0.13658754676588505\n",
            "Canada 0.2251921461563322\n",
            "Cape Verde 0.0\n",
            "Cayman Islands 0.0\n",
            "Central African Republic 0.0\n",
            "Chad 0.0\n",
            "Chile 0.0\n",
            "China 0.04415468787163656\n",
            "Christmas Island 0.0\n",
            "Colombia 0.0\n",
            "Comoros -0.1592917957287563\n",
            "Congo 0.0\n",
            "Cook Islands 0.0\n",
            "Costa Rica 0.0\n",
            "Cote d'Ivoire 0.0\n",
            "Croatia 0.0\n",
            "Cuba 0.0\n",
            "Cyprus 0.0\n",
            "Czech Republic 0.0\n",
            "Denmark 0.04930391035864096\n",
            "Djibouti 0.0\n",
            "Dominica 0.14619086389377908\n",
            "Dominican Republic 0.0\n",
            "Ecuador 0.0\n",
            "Egypt 0.0\n",
            "El Salvador -0.08066172498577635\n",
            "Equatorial Guinea 0.06636835455545449\n",
            "Eritrea 0.0\n",
            "Estonia 0.0\n",
            "Ethiopia 0.0\n",
            "Falkland Islands (Malvinas) 0.0\n",
            "Faroe Islands 0.0\n",
            "Fiji 0.0\n",
            "Finland 0.14032529982444933\n",
            "France 0.11520104528992033\n",
            "French Guiana 0.0\n",
            "French Polynesia 0.0\n",
            "French Southern Territories 0.0\n",
            "Gabon -0.27643293436137945\n",
            "Gambia 0.0\n",
            "Georgia 0.0\n",
            "Germany 0.22649994087591144\n",
            "Ghana 0.04258186036110939\n",
            "Gibraltar 0.0\n",
            "Greece -0.031882280579912395\n",
            "Greenland 0.04746740359530753\n",
            "Grenada 0.0\n",
            "Guadeloupe 0.0\n",
            "Guam 0.0\n",
            "Guatemala 0.0\n",
            "Guernsey -0.12631067032458612\n",
            "Guinea -0.5442156727582255\n",
            "Guinea-Bissau 0.0\n",
            "Guyana 0.0\n",
            "Haiti 0.0\n",
            "Heard Island and McDonald Islands 0.0\n",
            "Holy See (Vatican City State) 0.0\n",
            "Honduras 0.0\n",
            "Hong Kong 0.0\n",
            "Hungary 0.0\n",
            "Iceland 0.0\n",
            "India 0.0\n",
            "Indonesia 0.0\n",
            "Iran 0.0\n",
            "Ireland 0.0\n",
            "Isle of Man 0.05121326459629941\n",
            "Israel 0.0\n",
            "Italy -0.18926860050766744\n",
            "Jamaica 0.0\n",
            "Japan 0.020125105283705372\n",
            "Jersey -0.2042995828471511\n",
            "Jordan 0.0\n",
            "Kazakhstan 0.004673959581369235\n",
            "Kenya 0.0\n",
            "Kiribati -0.16376567150858584\n",
            "Korea 0.0\n",
            "Kuwait 0.0\n",
            "Kyrgyz Republic -0.040846737760925775\n",
            "Lao People's Democratic Republic 0.0\n",
            "Latvia 0.08289851096738174\n",
            "Lebanon 0.0\n",
            "Lesotho 0.33772207178446784\n",
            "Liberia 0.0\n",
            "Libyan Arab Jamahiriya 0.0\n",
            "Liechtenstein 0.0\n",
            "Lithuania 0.0\n",
            "Luxembourg 0.0\n",
            "Macao 0.0\n",
            "Macedonia 0.0\n",
            "Madagascar 0.0\n",
            "Malawi 0.0\n",
            "Malaysia 0.0\n",
            "Maldives 0.15057276331066655\n",
            "Mali 0.0\n",
            "Malta 0.0\n",
            "Marshall Islands -0.24241084486267275\n",
            "Martinique 0.0\n",
            "Mauritania -0.18659221574037815\n",
            "Mauritius -0.16234809729328747\n",
            "Mayotte 0.11757836418488304\n",
            "Mexico 0.0\n",
            "Micronesia 0.0\n",
            "Moldova 0.0\n",
            "Monaco -0.05646960254818209\n",
            "Mongolia 0.0\n",
            "Montenegro 0.0\n",
            "Montserrat 0.0\n",
            "Morocco 0.0\n",
            "Mozambique 0.0\n",
            "Myanmar 0.0\n",
            "Namibia -0.08794518600606738\n",
            "Nauru 0.0\n",
            "Nepal 0.0\n",
            "Netherlands 0.0\n",
            "Netherlands Antilles 0.0\n",
            "New Caledonia 0.0\n",
            "New Zealand 0.0\n",
            "Nicaragua 0.0\n",
            "Niger 0.0\n",
            "Niue -0.3026970368488226\n",
            "Norfolk Island 0.0\n",
            "Northern Mariana Islands -0.07514674696422599\n",
            "Norway 0.0\n",
            "Pakistan 0.0\n",
            "Palau 0.0\n",
            "Palestinian Territory 0.0\n",
            "Panama 0.17919012781088975\n",
            "Papua New Guinea 0.0\n",
            "Paraguay 0.0\n",
            "Peru 0.0\n",
            "Philippines 0.0\n",
            "Pitcairn Islands 0.0\n",
            "Poland -0.047397572347118146\n",
            "Portugal 0.0\n",
            "Puerto Rico 0.0\n",
            "Qatar 0.0\n",
            "Reunion 0.0\n",
            "Russian Federation 0.0\n",
            "Rwanda 0.005414362417638389\n",
            "Saint Barthelemy 0.0\n",
            "Saint Helena 0.0\n",
            "Saint Kitts and Nevis 0.0\n",
            "Saint Lucia 0.0\n",
            "Saint Martin 0.0\n",
            "Saint Pierre and Miquelon 0.0\n",
            "Saint Vincent and the Grenadines 0.0\n",
            "Samoa 0.0\n",
            "San Marino -0.1429561821805942\n",
            "Sao Tome and Principe 0.2761276040045376\n",
            "Saudi Arabia 0.0\n",
            "Senegal 0.0\n",
            "Serbia 0.0\n",
            "Seychelles 0.0\n",
            "Sierra Leone 0.0\n",
            "Singapore 0.0\n",
            "Slovakia (Slovak Republic) 0.0\n",
            "Slovenia 0.0\n",
            "Somalia -0.2904953589576121\n",
            "South Africa 0.0\n",
            "South Georgia and the South Sandwich Islands 0.0\n",
            "Spain 0.0\n",
            "Sri Lanka 0.0\n",
            "Sudan 0.0\n",
            "Suriname 0.0\n",
            "Svalbard & Jan Mayen Islands 0.0\n",
            "Swaziland 0.0\n",
            "Sweden 0.0\n",
            "Switzerland 0.0\n",
            "Syrian Arab Republic 0.0\n",
            "Taiwan 0.0\n",
            "Tajikistan 0.0\n",
            "Tanzania 0.0\n",
            "Thailand 0.0\n",
            "Timor-Leste 0.0\n",
            "Togo 0.0\n",
            "Tokelau 0.0\n",
            "Tonga 0.0\n",
            "Trinidad and Tobago 0.0\n",
            "Tunisia 0.0\n",
            "Turkey 0.0\n",
            "Turkmenistan 0.0\n",
            "Turks and Caicos Islands 0.0\n",
            "Tuvalu 0.0\n",
            "Uganda 0.0\n",
            "Ukraine 0.0\n",
            "United Arab Emirates 0.0\n",
            "United Kingdom 0.0\n",
            "United States Minor Outlying Islands 0.0\n",
            "United States Virgin Islands -2.2358005852109137\n",
            "United States of America 0.0\n",
            "Uruguay 0.0\n",
            "Uzbekistan 0.5920715297035948\n",
            "Vanuatu 0.0\n",
            "Venezuela 0.0\n",
            "Vietnam 0.0\n",
            "Wallis and Futuna 0.0\n",
            "Western Sahara 0.0\n",
            "Yemen 0.0\n",
            "Zambia 0.0\n",
            "Zimbabwe 0.0\n"
          ]
        }
      ]
    },
    {
      "cell_type": "markdown",
      "source": [
        "## KNN"
      ],
      "metadata": {
        "id": "ONdh8VmqT9y0"
      }
    },
    {
      "cell_type": "code",
      "source": [
        "param_grid_knn = {\n",
        "    'pca__n_components': pca_n_components,\n",
        "    'model__n_neighbors': list(range(1, 11)),\n",
        "    'model__weights': ['uniform', 'distance'],\n",
        "    'model__metric': ['euclidean', 'manhattan', 'chebyshev', 'cosine']\n",
        "    }\n",
        "\n",
        "knn = train_model(\n",
        "    model=KNeighborsClassifier(),\n",
        "    param_grid=param_grid_knn,\n",
        "    X=X_train, \n",
        "    y=y_train,\n",
        "    k=FOLDS_NUM\n",
        ")\n",
        "\n",
        "print(\"Best parameters set found on development set:\")\n",
        "print(knn.best_params_)\n",
        "\n",
        "y_pred = knn.predict(X_test)\n",
        "knn_acc = accuracy_score(y_test, y_pred)\n",
        "print(f'\\nTest accuracy: {knn_acc}')"
      ],
      "metadata": {
        "colab": {
          "base_uri": "https://localhost:8080/"
        },
        "id": "6DTgTLmjGYWr",
        "outputId": "29a93300-3ae3-40ff-9cf1-ec9c248cbd26"
      },
      "execution_count": null,
      "outputs": [
        {
          "output_type": "stream",
          "name": "stdout",
          "text": [
            "Best parameters set found on development set:\n",
            "{'model__metric': 'cosine', 'model__n_neighbors': 10, 'model__weights': 'uniform', 'pca__n_components': 242}\n",
            "\n",
            "Test accuracy: 0.9783783783783784\n"
          ]
        }
      ]
    },
    {
      "cell_type": "markdown",
      "source": [
        "## Naive Bayes"
      ],
      "metadata": {
        "id": "zP2JfQBmnvew"
      }
    },
    {
      "cell_type": "code",
      "source": [
        "param_grid_naive_bayes = {\n",
        "    'pca__n_components': pca_n_components\n",
        "    }\n",
        "\n",
        "naive_bayes = train_model(\n",
        "    model=GaussianNB(),\n",
        "    param_grid=param_grid_naive_bayes,\n",
        "    X=X_train, \n",
        "    y=y_train,\n",
        "    k=FOLDS_NUM\n",
        ")\n",
        "\n",
        "print(\"Best parameters set found on development set:\")\n",
        "print(naive_bayes.best_params_)\n",
        "\n",
        "y_pred = naive_bayes.predict(X_test)\n",
        "naive_bayes_acc = accuracy_score(y_test, y_pred)\n",
        "print(f'\\nTest accuracy: {naive_bayes_acc}')"
      ],
      "metadata": {
        "colab": {
          "base_uri": "https://localhost:8080/"
        },
        "id": "KOB_-EqwIOCh",
        "outputId": "efcc1385-1ae6-42ea-bdbd-bbe9b09b21b1"
      },
      "execution_count": null,
      "outputs": [
        {
          "output_type": "stream",
          "name": "stdout",
          "text": [
            "Best parameters set found on development set:\n",
            "{'pca__n_components': 6}\n",
            "\n",
            "Test accuracy: 0.9405405405405406\n"
          ]
        }
      ]
    },
    {
      "cell_type": "markdown",
      "source": [
        "# Conclusion\n",
        "The best model is **Logistic Regression** with parameters:\n",
        "\n",
        "`{'model__penalty': 'l1', 'model__solver': 'liblinear', 'pca__n_components': 242}`\n",
        "\n",
        "Accuracy of this model is `0.9838`\n",
        "\n",
        "At the beginning of the research I made a hypothesis that it would be better if not not to use the `var3` column at all. But both Linear Regression and CN performed the best with one-hot encoded `var3` column. The hypothesis was wrong.\n",
        "\n",
        "The differnce between **Logistic Regression** and **KNN** is very small. I can not make clear conclusion which of this two models is the best."
      ],
      "metadata": {
        "id": "-7fAjbuILXIH"
      }
    },
    {
      "cell_type": "code",
      "source": [
        "bottom = 0.9\n",
        "x = ['Logistic Regression', 'KNN', 'NaiveBayes']\n",
        "y = np.array([logistic_acc, knn_acc, naive_bayes_acc]) - bottom\n",
        "\n",
        "fig, ax = plt.subplots()\n",
        "\n",
        "ax.bar(x, y, bottom=bottom)\n",
        "fig.set_figwidth(6)\n",
        "fig.set_figheight(6)\n",
        "\n",
        "plt.show()"
      ],
      "metadata": {
        "colab": {
          "base_uri": "https://localhost:8080/",
          "height": 374
        },
        "id": "-GirLtdbLZeN",
        "outputId": "1c7385dd-c7ab-40f2-dc18-1d43a060b85e"
      },
      "execution_count": null,
      "outputs": [
        {
          "output_type": "display_data",
          "data": {
            "text/plain": [
              "<Figure size 432x432 with 1 Axes>"
            ],
            "image/png": "[encoded data removed]"
          },
          "metadata": {
            "needs_background": "light"
          }
        }
      ]
    }
  ]
}