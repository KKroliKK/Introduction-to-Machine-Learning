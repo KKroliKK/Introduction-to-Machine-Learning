{
 "cells": [
  {
   "cell_type": "markdown",
   "metadata": {
    "collapsed": true,
    "pycharm": {
     "name": "#%% md\n"
    }
   },
   "source": [
    "# Assignment 2\n",
    "\n",
    "## Instructions\n",
    "- Your submission should be the `.ipynb` file with your name,\n",
    "  like `YusufMesbah.ipynb`. it should include the answers to the questions in\n",
    "  markdown cells.\n",
    "- You are expected to follow the best practices for code writing and model\n",
    "training. Poor coding style will be penalized.\n",
    "- You are allowed to discuss ideas with your peers, but no sharing of code.\n",
    "Plagiarism in the code will result in failing. If you use code from the\n",
    "internet, cite it.\n",
    "- If the instructions seem vague, use common sense."
   ]
  },
  {
   "cell_type": "markdown",
   "metadata": {},
   "source": [
    "# Imports"
   ]
  },
  {
   "cell_type": "code",
   "execution_count": 17,
   "metadata": {},
   "outputs": [
    {
     "data": {
      "text/plain": [
       "'cpu'"
      ]
     },
     "execution_count": 17,
     "metadata": {},
     "output_type": "execute_result"
    }
   ],
   "source": [
    "import pandas as pd\n",
    "import numpy as np\n",
    "\n",
    "import torch\n",
    "import torchvision\n",
    "import torch.nn as nn\n",
    "import torch.nn.functional as F\n",
    "from torchvision import transforms\n",
    "from torch.utils.data import DataLoader\n",
    "\n",
    "import skimage\n",
    "from skimage import io, measure\n",
    "\n",
    "from sklearn import tree\n",
    "from sklearn.tree import DecisionTreeClassifier\n",
    "from sklearn.preprocessing import StandardScaler\n",
    "from sklearn.ensemble import RandomForestClassifier\n",
    "from sklearn.model_selection import train_test_split, GridSearchCV\n",
    "from sklearn.metrics import recall_score, accuracy_score, f1_score, precision_score\n",
    "\n",
    "import gc\n",
    "import os\n",
    "import PIL\n",
    "import heapq\n",
    "import graphviz\n",
    "from tqdm import tqdm\n",
    "from time import time\n",
    "import matplotlib as mpl\n",
    "from matplotlib import pyplot as plt\n",
    "from IPython.display import clear_output\n",
    "\n",
    "\n",
    "SEED = 42\n",
    "np.random.seed(SEED)\n",
    "mpl.rc('image', cmap='gray')\n",
    "device = 'cuda' if torch.cuda.is_available() else 'cpu'\n",
    "device"
   ]
  },
  {
   "cell_type": "markdown",
   "metadata": {
    "collapsed": false
   },
   "source": [
    "# Task 1: ANN (30%)"
   ]
  },
  {
   "cell_type": "markdown",
   "metadata": {},
   "source": [
    "For this task, you are required to build a fully connect feed-forward ANN model\n",
    "for a multi-label regression problem.\n",
    "\n",
    "For the given data, you need do proper data preprocessing, design the ANN model,\n",
    "then fine-tune your model architecture (number of layers, number of neurons,\n",
    "activation function, learning rate, momentum, regularization).\n",
    "\n",
    "For evaluating your model, do $80/20$ train test split."
   ]
  },
  {
   "cell_type": "markdown",
   "metadata": {},
   "source": [
    "## Data\n",
    "You will be working with the data in `Task 1.csv` for predicting students'\n",
    "scores in 3 different exams: math, reading and writing. The columns include:\n",
    " - gender\n",
    " - race\n",
    " - parental level of education\n",
    " - lunch meal plan at school\n",
    " - whether the student undertook the test preparation course"
   ]
  },
  {
   "cell_type": "code",
   "execution_count": 111,
   "metadata": {
    "collapsed": false,
    "pycharm": {
     "name": "#%%\n"
    }
   },
   "outputs": [],
   "source": [
    "df = pd.read_csv('Task 1.csv')"
   ]
  },
  {
   "cell_type": "code",
   "execution_count": 112,
   "metadata": {},
   "outputs": [
    {
     "data": {
      "text/html": [
       "<div>\n",
       "<style scoped>\n",
       "    .dataframe tbody tr th:only-of-type {\n",
       "        vertical-align: middle;\n",
       "    }\n",
       "\n",
       "    .dataframe tbody tr th {\n",
       "        vertical-align: top;\n",
       "    }\n",
       "\n",
       "    .dataframe thead th {\n",
       "        text-align: right;\n",
       "    }\n",
       "</style>\n",
       "<table border=\"1\" class=\"dataframe\">\n",
       "  <thead>\n",
       "    <tr style=\"text-align: right;\">\n",
       "      <th></th>\n",
       "      <th>gender</th>\n",
       "      <th>race/ethnicity</th>\n",
       "      <th>parental level of education</th>\n",
       "      <th>lunch</th>\n",
       "      <th>test preparation course</th>\n",
       "      <th>math score</th>\n",
       "      <th>reading score</th>\n",
       "      <th>writing score</th>\n",
       "    </tr>\n",
       "  </thead>\n",
       "  <tbody>\n",
       "    <tr>\n",
       "      <th>0</th>\n",
       "      <td>male</td>\n",
       "      <td>group A</td>\n",
       "      <td>high school</td>\n",
       "      <td>standard</td>\n",
       "      <td>completed</td>\n",
       "      <td>67</td>\n",
       "      <td>67</td>\n",
       "      <td>63</td>\n",
       "    </tr>\n",
       "    <tr>\n",
       "      <th>1</th>\n",
       "      <td>female</td>\n",
       "      <td>group D</td>\n",
       "      <td>some high school</td>\n",
       "      <td>free/reduced</td>\n",
       "      <td>none</td>\n",
       "      <td>40</td>\n",
       "      <td>59</td>\n",
       "      <td>55</td>\n",
       "    </tr>\n",
       "    <tr>\n",
       "      <th>2</th>\n",
       "      <td>male</td>\n",
       "      <td>group E</td>\n",
       "      <td>some college</td>\n",
       "      <td>free/reduced</td>\n",
       "      <td>none</td>\n",
       "      <td>59</td>\n",
       "      <td>60</td>\n",
       "      <td>50</td>\n",
       "    </tr>\n",
       "    <tr>\n",
       "      <th>3</th>\n",
       "      <td>male</td>\n",
       "      <td>group B</td>\n",
       "      <td>high school</td>\n",
       "      <td>standard</td>\n",
       "      <td>none</td>\n",
       "      <td>77</td>\n",
       "      <td>78</td>\n",
       "      <td>68</td>\n",
       "    </tr>\n",
       "    <tr>\n",
       "      <th>4</th>\n",
       "      <td>male</td>\n",
       "      <td>group E</td>\n",
       "      <td>associate's degree</td>\n",
       "      <td>standard</td>\n",
       "      <td>completed</td>\n",
       "      <td>78</td>\n",
       "      <td>73</td>\n",
       "      <td>68</td>\n",
       "    </tr>\n",
       "  </tbody>\n",
       "</table>\n",
       "</div>"
      ],
      "text/plain": [
       "   gender race/ethnicity parental level of education         lunch  \\\n",
       "0    male        group A                 high school      standard   \n",
       "1  female        group D            some high school  free/reduced   \n",
       "2    male        group E                some college  free/reduced   \n",
       "3    male        group B                 high school      standard   \n",
       "4    male        group E          associate's degree      standard   \n",
       "\n",
       "  test preparation course  math score  reading score  writing score  \n",
       "0               completed          67             67             63  \n",
       "1                    none          40             59             55  \n",
       "2                    none          59             60             50  \n",
       "3                    none          77             78             68  \n",
       "4               completed          78             73             68  "
      ]
     },
     "execution_count": 112,
     "metadata": {},
     "output_type": "execute_result"
    }
   ],
   "source": [
    "df.head()"
   ]
  },
  {
   "cell_type": "code",
   "execution_count": 113,
   "metadata": {},
   "outputs": [
    {
     "data": {
      "text/plain": [
       "gender                         object\n",
       "race/ethnicity                 object\n",
       "parental level of education    object\n",
       "lunch                          object\n",
       "test preparation course        object\n",
       "math score                      int64\n",
       "reading score                   int64\n",
       "writing score                   int64\n",
       "dtype: object"
      ]
     },
     "execution_count": 113,
     "metadata": {},
     "output_type": "execute_result"
    }
   ],
   "source": [
    "df.dtypes"
   ]
  },
  {
   "cell_type": "code",
   "execution_count": 114,
   "metadata": {},
   "outputs": [
    {
     "data": {
      "text/plain": [
       "Index(['math score', 'reading score', 'writing score'], dtype='object')"
      ]
     },
     "execution_count": 114,
     "metadata": {},
     "output_type": "execute_result"
    }
   ],
   "source": [
    "target_cols = df.columns[-3:]\n",
    "target_cols"
   ]
  },
  {
   "cell_type": "markdown",
   "metadata": {},
   "source": [
    "### Let's consider each column separately"
   ]
  },
  {
   "cell_type": "markdown",
   "metadata": {},
   "source": [
    "#### gender"
   ]
  },
  {
   "cell_type": "code",
   "execution_count": 115,
   "metadata": {},
   "outputs": [
    {
     "data": {
      "text/plain": [
       "male      517\n",
       "female    483\n",
       "Name: gender, dtype: int64"
      ]
     },
     "execution_count": 115,
     "metadata": {},
     "output_type": "execute_result"
    }
   ],
   "source": [
    "df['gender'].value_counts()"
   ]
  },
  {
   "cell_type": "markdown",
   "metadata": {},
   "source": [
    "We have only two classes. These two categories do not have numerical difference from each other. One-Hot Encoding will be suitable for this case."
   ]
  },
  {
   "cell_type": "code",
   "execution_count": 116,
   "metadata": {},
   "outputs": [
    {
     "data": {
      "text/html": [
       "<div>\n",
       "<style scoped>\n",
       "    .dataframe tbody tr th:only-of-type {\n",
       "        vertical-align: middle;\n",
       "    }\n",
       "\n",
       "    .dataframe tbody tr th {\n",
       "        vertical-align: top;\n",
       "    }\n",
       "\n",
       "    .dataframe thead th {\n",
       "        text-align: right;\n",
       "    }\n",
       "</style>\n",
       "<table border=\"1\" class=\"dataframe\">\n",
       "  <thead>\n",
       "    <tr style=\"text-align: right;\">\n",
       "      <th></th>\n",
       "      <th>female</th>\n",
       "      <th>male</th>\n",
       "    </tr>\n",
       "  </thead>\n",
       "  <tbody>\n",
       "    <tr>\n",
       "      <th>0</th>\n",
       "      <td>0</td>\n",
       "      <td>1</td>\n",
       "    </tr>\n",
       "    <tr>\n",
       "      <th>1</th>\n",
       "      <td>1</td>\n",
       "      <td>0</td>\n",
       "    </tr>\n",
       "    <tr>\n",
       "      <th>2</th>\n",
       "      <td>0</td>\n",
       "      <td>1</td>\n",
       "    </tr>\n",
       "  </tbody>\n",
       "</table>\n",
       "</div>"
      ],
      "text/plain": [
       "   female  male\n",
       "0       0     1\n",
       "1       1     0\n",
       "2       0     1"
      ]
     },
     "execution_count": 116,
     "metadata": {},
     "output_type": "execute_result"
    }
   ],
   "source": [
    "gender_col = pd.get_dummies(df['gender'])\n",
    "gender_col.head(3)"
   ]
  },
  {
   "cell_type": "code",
   "execution_count": 117,
   "metadata": {},
   "outputs": [
    {
     "data": {
      "text/html": [
       "<div>\n",
       "<style scoped>\n",
       "    .dataframe tbody tr th:only-of-type {\n",
       "        vertical-align: middle;\n",
       "    }\n",
       "\n",
       "    .dataframe tbody tr th {\n",
       "        vertical-align: top;\n",
       "    }\n",
       "\n",
       "    .dataframe thead th {\n",
       "        text-align: right;\n",
       "    }\n",
       "</style>\n",
       "<table border=\"1\" class=\"dataframe\">\n",
       "  <thead>\n",
       "    <tr style=\"text-align: right;\">\n",
       "      <th></th>\n",
       "      <th>math score</th>\n",
       "      <th>reading score</th>\n",
       "      <th>writing score</th>\n",
       "    </tr>\n",
       "    <tr>\n",
       "      <th>gender</th>\n",
       "      <th></th>\n",
       "      <th></th>\n",
       "      <th></th>\n",
       "    </tr>\n",
       "  </thead>\n",
       "  <tbody>\n",
       "    <tr>\n",
       "      <th>female</th>\n",
       "      <td>63.196687</td>\n",
       "      <td>71.888199</td>\n",
       "      <td>71.708075</td>\n",
       "    </tr>\n",
       "    <tr>\n",
       "      <th>male</th>\n",
       "      <td>69.384913</td>\n",
       "      <td>66.305609</td>\n",
       "      <td>64.029014</td>\n",
       "    </tr>\n",
       "  </tbody>\n",
       "</table>\n",
       "</div>"
      ],
      "text/plain": [
       "        math score  reading score  writing score\n",
       "gender                                          \n",
       "female   63.196687      71.888199      71.708075\n",
       "male     69.384913      66.305609      64.029014"
      ]
     },
     "execution_count": 117,
     "metadata": {},
     "output_type": "execute_result"
    }
   ],
   "source": [
    "df.groupby('gender')[target_cols].mean()"
   ]
  },
  {
   "cell_type": "markdown",
   "metadata": {},
   "source": [
    "According to this data males are better in math but worse in reading and writing."
   ]
  },
  {
   "cell_type": "code",
   "execution_count": 118,
   "metadata": {},
   "outputs": [
    {
     "data": {
      "text/plain": [
       "gender\n",
       "female    68.930987\n",
       "male      66.573179\n",
       "dtype: float64"
      ]
     },
     "execution_count": 118,
     "metadata": {},
     "output_type": "execute_result"
    }
   ],
   "source": [
    "df.groupby('gender')[target_cols].mean().mean(axis=1)"
   ]
  },
  {
   "cell_type": "markdown",
   "metadata": {},
   "source": [
    "The difference in average score is not very significant."
   ]
  },
  {
   "cell_type": "markdown",
   "metadata": {},
   "source": [
    "#### race/ethnicity"
   ]
  },
  {
   "cell_type": "code",
   "execution_count": 119,
   "metadata": {},
   "outputs": [
    {
     "data": {
      "text/plain": [
       "group C    323\n",
       "group D    262\n",
       "group B    205\n",
       "group E    131\n",
       "group A     79\n",
       "Name: race/ethnicity, dtype: int64"
      ]
     },
     "execution_count": 119,
     "metadata": {},
     "output_type": "execute_result"
    }
   ],
   "source": [
    "df['race/ethnicity'].value_counts()"
   ]
  },
  {
   "cell_type": "markdown",
   "metadata": {},
   "source": [
    "We have several classes here. These classes do not have numerical difference from each other. One-Hot Encoding will be suitable for this case."
   ]
  },
  {
   "cell_type": "code",
   "execution_count": 120,
   "metadata": {},
   "outputs": [
    {
     "data": {
      "text/html": [
       "<div>\n",
       "<style scoped>\n",
       "    .dataframe tbody tr th:only-of-type {\n",
       "        vertical-align: middle;\n",
       "    }\n",
       "\n",
       "    .dataframe tbody tr th {\n",
       "        vertical-align: top;\n",
       "    }\n",
       "\n",
       "    .dataframe thead th {\n",
       "        text-align: right;\n",
       "    }\n",
       "</style>\n",
       "<table border=\"1\" class=\"dataframe\">\n",
       "  <thead>\n",
       "    <tr style=\"text-align: right;\">\n",
       "      <th></th>\n",
       "      <th>group A</th>\n",
       "      <th>group B</th>\n",
       "      <th>group C</th>\n",
       "      <th>group D</th>\n",
       "      <th>group E</th>\n",
       "    </tr>\n",
       "  </thead>\n",
       "  <tbody>\n",
       "    <tr>\n",
       "      <th>0</th>\n",
       "      <td>1</td>\n",
       "      <td>0</td>\n",
       "      <td>0</td>\n",
       "      <td>0</td>\n",
       "      <td>0</td>\n",
       "    </tr>\n",
       "    <tr>\n",
       "      <th>1</th>\n",
       "      <td>0</td>\n",
       "      <td>0</td>\n",
       "      <td>0</td>\n",
       "      <td>1</td>\n",
       "      <td>0</td>\n",
       "    </tr>\n",
       "    <tr>\n",
       "      <th>2</th>\n",
       "      <td>0</td>\n",
       "      <td>0</td>\n",
       "      <td>0</td>\n",
       "      <td>0</td>\n",
       "      <td>1</td>\n",
       "    </tr>\n",
       "  </tbody>\n",
       "</table>\n",
       "</div>"
      ],
      "text/plain": [
       "   group A  group B  group C  group D  group E\n",
       "0        1        0        0        0        0\n",
       "1        0        0        0        1        0\n",
       "2        0        0        0        0        1"
      ]
     },
     "execution_count": 120,
     "metadata": {},
     "output_type": "execute_result"
    }
   ],
   "source": [
    "race_col = pd.get_dummies(df['race/ethnicity'])\n",
    "race_col.head(3)"
   ]
  },
  {
   "cell_type": "code",
   "execution_count": 121,
   "metadata": {},
   "outputs": [
    {
     "data": {
      "text/plain": [
       "race/ethnicity\n",
       "group C    64.679051\n",
       "group B    65.336585\n",
       "group A    66.915612\n",
       "group D    71.204835\n",
       "group E    72.402036\n",
       "dtype: float64"
      ]
     },
     "execution_count": 121,
     "metadata": {},
     "output_type": "execute_result"
    }
   ],
   "source": [
    "df.groupby('race/ethnicity')[target_cols].mean().mean(axis=1).sort_values()"
   ]
  },
  {
   "cell_type": "markdown",
   "metadata": {},
   "source": [
    "#### parental level of education"
   ]
  },
  {
   "cell_type": "code",
   "execution_count": 122,
   "metadata": {},
   "outputs": [
    {
     "data": {
      "text/plain": [
       "some college          222\n",
       "associate's degree    203\n",
       "high school           202\n",
       "some high school      191\n",
       "bachelor's degree     112\n",
       "master's degree        70\n",
       "Name: parental level of education, dtype: int64"
      ]
     },
     "execution_count": 122,
     "metadata": {},
     "output_type": "execute_result"
    }
   ],
   "source": [
    "df['parental level of education'].value_counts()"
   ]
  },
  {
   "cell_type": "markdown",
   "metadata": {},
   "source": [
    "Levels of education are qualitatively different. Having **master's degree** is significantly different from having only **school education**. Ordinal encoding will be useful here to convey the difference in levels of education.\n",
    "\n",
    "It is a little unclear which of the levels of education is better. Difference between **associate's degree** and **some college**. I decided to look at mean values on the exams results depending on **parental level of education**."
   ]
  },
  {
   "cell_type": "code",
   "execution_count": 123,
   "metadata": {},
   "outputs": [
    {
     "data": {
      "text/plain": [
       "parental level of education\n",
       "some high school      62.549738\n",
       "high school           65.818482\n",
       "some college          66.692192\n",
       "associate's degree    70.211823\n",
       "bachelor's degree     73.303571\n",
       "master's degree       74.300000\n",
       "dtype: float64"
      ]
     },
     "execution_count": 123,
     "metadata": {},
     "output_type": "execute_result"
    }
   ],
   "source": [
    "avg_by_educ = df.groupby('parental level of education')[target_cols].mean().mean(axis=1).sort_values()\n",
    "avg_by_educ"
   ]
  },
  {
   "cell_type": "markdown",
   "metadata": {},
   "source": [
    "This order of education levels looks intuitive so I will use it for ordinal encoding."
   ]
  },
  {
   "cell_type": "code",
   "execution_count": 124,
   "metadata": {},
   "outputs": [
    {
     "data": {
      "text/plain": [
       "['some high school',\n",
       " 'high school',\n",
       " 'some college',\n",
       " \"associate's degree\",\n",
       " \"bachelor's degree\",\n",
       " \"master's degree\"]"
      ]
     },
     "execution_count": 124,
     "metadata": {},
     "output_type": "execute_result"
    }
   ],
   "source": [
    "educ_levels = list(avg_by_educ.index)\n",
    "educ_levels"
   ]
  },
  {
   "cell_type": "code",
   "execution_count": 125,
   "metadata": {},
   "outputs": [
    {
     "data": {
      "text/plain": [
       "0    1\n",
       "1    0\n",
       "2    2\n",
       "3    1\n",
       "4    3\n",
       "Name: parental level of education, dtype: int64"
      ]
     },
     "execution_count": 125,
     "metadata": {},
     "output_type": "execute_result"
    }
   ],
   "source": [
    "educ_col = df['parental level of education'].apply(lambda level: educ_levels.index(level))\n",
    "educ_col.head()"
   ]
  },
  {
   "cell_type": "markdown",
   "metadata": {},
   "source": [
    "#### lunch"
   ]
  },
  {
   "cell_type": "code",
   "execution_count": 126,
   "metadata": {},
   "outputs": [
    {
     "data": {
      "text/plain": [
       "standard        652\n",
       "free/reduced    348\n",
       "Name: lunch, dtype: int64"
      ]
     },
     "execution_count": 126,
     "metadata": {},
     "output_type": "execute_result"
    }
   ],
   "source": [
    "df['lunch'].value_counts()"
   ]
  },
  {
   "cell_type": "markdown",
   "metadata": {},
   "source": [
    "Ordinal encoding will be suitable here. Lunch price possibly can describe financial condition of the family."
   ]
  },
  {
   "cell_type": "code",
   "execution_count": 127,
   "metadata": {},
   "outputs": [
    {
     "data": {
      "text/plain": [
       "0    1\n",
       "1    0\n",
       "2    0\n",
       "Name: lunch, dtype: int64"
      ]
     },
     "execution_count": 127,
     "metadata": {},
     "output_type": "execute_result"
    }
   ],
   "source": [
    "lunch_col = df['lunch'].apply(lambda lunch: 1 if lunch == 'standard' else 0)\n",
    "lunch_col.head(3)"
   ]
  },
  {
   "cell_type": "code",
   "execution_count": 128,
   "metadata": {},
   "outputs": [
    {
     "data": {
      "text/plain": [
       "lunch\n",
       "free/reduced    60.873563\n",
       "standard        71.361963\n",
       "dtype: float64"
      ]
     },
     "execution_count": 128,
     "metadata": {},
     "output_type": "execute_result"
    }
   ],
   "source": [
    "df.groupby('lunch')[target_cols].mean().mean(axis=1).sort_values()"
   ]
  },
  {
   "cell_type": "markdown",
   "metadata": {},
   "source": [
    "#### test preparation course"
   ]
  },
  {
   "cell_type": "code",
   "execution_count": 129,
   "metadata": {},
   "outputs": [
    {
     "data": {
      "text/plain": [
       "none         665\n",
       "completed    335\n",
       "Name: test preparation course, dtype: int64"
      ]
     },
     "execution_count": 129,
     "metadata": {},
     "output_type": "execute_result"
    }
   ],
   "source": [
    "df['test preparation course'].value_counts()"
   ]
  },
  {
   "cell_type": "markdown",
   "metadata": {},
   "source": [
    "Ordinal encoding will be suitable here. **Test preparation course** can significantly influe on the exams results."
   ]
  },
  {
   "cell_type": "code",
   "execution_count": 130,
   "metadata": {},
   "outputs": [
    {
     "data": {
      "text/plain": [
       "0    1\n",
       "1    0\n",
       "2    0\n",
       "Name: test preparation course, dtype: int64"
      ]
     },
     "execution_count": 130,
     "metadata": {},
     "output_type": "execute_result"
    }
   ],
   "source": [
    "prep_col = df['test preparation course'].apply(lambda status: 1 if status == 'completed' else 0)\n",
    "prep_col.head(3)"
   ]
  },
  {
   "cell_type": "code",
   "execution_count": 131,
   "metadata": {},
   "outputs": [
    {
     "data": {
      "text/plain": [
       "test preparation course\n",
       "none         65.140852\n",
       "completed    72.815920\n",
       "dtype: float64"
      ]
     },
     "execution_count": 131,
     "metadata": {},
     "output_type": "execute_result"
    }
   ],
   "source": [
    "df.groupby('test preparation course')[target_cols].mean().mean(axis=1).sort_values()"
   ]
  },
  {
   "cell_type": "markdown",
   "metadata": {},
   "source": [
    "### Assembling new encoded columns"
   ]
  },
  {
   "cell_type": "code",
   "execution_count": 132,
   "metadata": {},
   "outputs": [
    {
     "data": {
      "text/html": [
       "<div>\n",
       "<style scoped>\n",
       "    .dataframe tbody tr th:only-of-type {\n",
       "        vertical-align: middle;\n",
       "    }\n",
       "\n",
       "    .dataframe tbody tr th {\n",
       "        vertical-align: top;\n",
       "    }\n",
       "\n",
       "    .dataframe thead th {\n",
       "        text-align: right;\n",
       "    }\n",
       "</style>\n",
       "<table border=\"1\" class=\"dataframe\">\n",
       "  <thead>\n",
       "    <tr style=\"text-align: right;\">\n",
       "      <th></th>\n",
       "      <th>female</th>\n",
       "      <th>male</th>\n",
       "      <th>group A</th>\n",
       "      <th>group B</th>\n",
       "      <th>group C</th>\n",
       "      <th>group D</th>\n",
       "      <th>group E</th>\n",
       "      <th>parental level of education</th>\n",
       "      <th>lunch</th>\n",
       "      <th>test preparation course</th>\n",
       "    </tr>\n",
       "  </thead>\n",
       "  <tbody>\n",
       "    <tr>\n",
       "      <th>0</th>\n",
       "      <td>0</td>\n",
       "      <td>1</td>\n",
       "      <td>1</td>\n",
       "      <td>0</td>\n",
       "      <td>0</td>\n",
       "      <td>0</td>\n",
       "      <td>0</td>\n",
       "      <td>1</td>\n",
       "      <td>1</td>\n",
       "      <td>1</td>\n",
       "    </tr>\n",
       "    <tr>\n",
       "      <th>1</th>\n",
       "      <td>1</td>\n",
       "      <td>0</td>\n",
       "      <td>0</td>\n",
       "      <td>0</td>\n",
       "      <td>0</td>\n",
       "      <td>1</td>\n",
       "      <td>0</td>\n",
       "      <td>0</td>\n",
       "      <td>0</td>\n",
       "      <td>0</td>\n",
       "    </tr>\n",
       "    <tr>\n",
       "      <th>2</th>\n",
       "      <td>0</td>\n",
       "      <td>1</td>\n",
       "      <td>0</td>\n",
       "      <td>0</td>\n",
       "      <td>0</td>\n",
       "      <td>0</td>\n",
       "      <td>1</td>\n",
       "      <td>2</td>\n",
       "      <td>0</td>\n",
       "      <td>0</td>\n",
       "    </tr>\n",
       "    <tr>\n",
       "      <th>3</th>\n",
       "      <td>0</td>\n",
       "      <td>1</td>\n",
       "      <td>0</td>\n",
       "      <td>1</td>\n",
       "      <td>0</td>\n",
       "      <td>0</td>\n",
       "      <td>0</td>\n",
       "      <td>1</td>\n",
       "      <td>1</td>\n",
       "      <td>0</td>\n",
       "    </tr>\n",
       "    <tr>\n",
       "      <th>4</th>\n",
       "      <td>0</td>\n",
       "      <td>1</td>\n",
       "      <td>0</td>\n",
       "      <td>0</td>\n",
       "      <td>0</td>\n",
       "      <td>0</td>\n",
       "      <td>1</td>\n",
       "      <td>3</td>\n",
       "      <td>1</td>\n",
       "      <td>1</td>\n",
       "    </tr>\n",
       "    <tr>\n",
       "      <th>...</th>\n",
       "      <td>...</td>\n",
       "      <td>...</td>\n",
       "      <td>...</td>\n",
       "      <td>...</td>\n",
       "      <td>...</td>\n",
       "      <td>...</td>\n",
       "      <td>...</td>\n",
       "      <td>...</td>\n",
       "      <td>...</td>\n",
       "      <td>...</td>\n",
       "    </tr>\n",
       "    <tr>\n",
       "      <th>995</th>\n",
       "      <td>0</td>\n",
       "      <td>1</td>\n",
       "      <td>0</td>\n",
       "      <td>0</td>\n",
       "      <td>1</td>\n",
       "      <td>0</td>\n",
       "      <td>0</td>\n",
       "      <td>1</td>\n",
       "      <td>1</td>\n",
       "      <td>0</td>\n",
       "    </tr>\n",
       "    <tr>\n",
       "      <th>996</th>\n",
       "      <td>0</td>\n",
       "      <td>1</td>\n",
       "      <td>0</td>\n",
       "      <td>0</td>\n",
       "      <td>0</td>\n",
       "      <td>1</td>\n",
       "      <td>0</td>\n",
       "      <td>3</td>\n",
       "      <td>0</td>\n",
       "      <td>1</td>\n",
       "    </tr>\n",
       "    <tr>\n",
       "      <th>997</th>\n",
       "      <td>1</td>\n",
       "      <td>0</td>\n",
       "      <td>0</td>\n",
       "      <td>0</td>\n",
       "      <td>1</td>\n",
       "      <td>0</td>\n",
       "      <td>0</td>\n",
       "      <td>0</td>\n",
       "      <td>0</td>\n",
       "      <td>0</td>\n",
       "    </tr>\n",
       "    <tr>\n",
       "      <th>998</th>\n",
       "      <td>1</td>\n",
       "      <td>0</td>\n",
       "      <td>0</td>\n",
       "      <td>0</td>\n",
       "      <td>1</td>\n",
       "      <td>0</td>\n",
       "      <td>0</td>\n",
       "      <td>2</td>\n",
       "      <td>1</td>\n",
       "      <td>0</td>\n",
       "    </tr>\n",
       "    <tr>\n",
       "      <th>999</th>\n",
       "      <td>0</td>\n",
       "      <td>1</td>\n",
       "      <td>1</td>\n",
       "      <td>0</td>\n",
       "      <td>0</td>\n",
       "      <td>0</td>\n",
       "      <td>0</td>\n",
       "      <td>2</td>\n",
       "      <td>1</td>\n",
       "      <td>1</td>\n",
       "    </tr>\n",
       "  </tbody>\n",
       "</table>\n",
       "<p>1000 rows × 10 columns</p>\n",
       "</div>"
      ],
      "text/plain": [
       "     female  male  group A  group B  group C  group D  group E  \\\n",
       "0         0     1        1        0        0        0        0   \n",
       "1         1     0        0        0        0        1        0   \n",
       "2         0     1        0        0        0        0        1   \n",
       "3         0     1        0        1        0        0        0   \n",
       "4         0     1        0        0        0        0        1   \n",
       "..      ...   ...      ...      ...      ...      ...      ...   \n",
       "995       0     1        0        0        1        0        0   \n",
       "996       0     1        0        0        0        1        0   \n",
       "997       1     0        0        0        1        0        0   \n",
       "998       1     0        0        0        1        0        0   \n",
       "999       0     1        1        0        0        0        0   \n",
       "\n",
       "     parental level of education  lunch  test preparation course  \n",
       "0                              1      1                        1  \n",
       "1                              0      0                        0  \n",
       "2                              2      0                        0  \n",
       "3                              1      1                        0  \n",
       "4                              3      1                        1  \n",
       "..                           ...    ...                      ...  \n",
       "995                            1      1                        0  \n",
       "996                            3      0                        1  \n",
       "997                            0      0                        0  \n",
       "998                            2      1                        0  \n",
       "999                            2      1                        1  \n",
       "\n",
       "[1000 rows x 10 columns]"
      ]
     },
     "execution_count": 132,
     "metadata": {},
     "output_type": "execute_result"
    }
   ],
   "source": [
    "features = pd.concat([gender_col, race_col, educ_col, lunch_col, prep_col], axis=1)\n",
    "features"
   ]
  },
  {
   "cell_type": "markdown",
   "metadata": {},
   "source": [
    "### Train test split"
   ]
  },
  {
   "cell_type": "code",
   "execution_count": 133,
   "metadata": {},
   "outputs": [
    {
     "data": {
      "text/plain": [
       "array([ True, False,  True,  True,  True,  True,  True, False,  True,\n",
       "        True])"
      ]
     },
     "execution_count": 133,
     "metadata": {},
     "output_type": "execute_result"
    }
   ],
   "source": [
    "is_train = np.random.choice(a=[True, False], size=(features.shape[0]), p=[0.8, 0.2])\n",
    "is_train[:10]"
   ]
  },
  {
   "cell_type": "code",
   "execution_count": 134,
   "metadata": {},
   "outputs": [
    {
     "data": {
      "text/plain": [
       "801"
      ]
     },
     "execution_count": 134,
     "metadata": {},
     "output_type": "execute_result"
    }
   ],
   "source": [
    "is_train.sum()"
   ]
  },
  {
   "cell_type": "markdown",
   "metadata": {},
   "source": [
    "### Data Loaders"
   ]
  },
  {
   "cell_type": "markdown",
   "metadata": {},
   "source": [
    "Models learn better from standardized data."
   ]
  },
  {
   "cell_type": "code",
   "execution_count": 135,
   "metadata": {},
   "outputs": [],
   "source": [
    "x_train = features[is_train].values\n",
    "x_test = features[~is_train].values\n",
    "\n",
    "scaler = StandardScaler()\n",
    "scaler.fit(x_train)\n",
    "\n",
    "x_train = scaler.transform(x_train)\n",
    "x_test = scaler.transform(x_test)"
   ]
  },
  {
   "cell_type": "code",
   "execution_count": 136,
   "metadata": {},
   "outputs": [],
   "source": [
    "y_train = torch.tensor(df[target_cols][is_train].values, dtype=float)\n",
    "y_test = torch.tensor(df[target_cols][~is_train].values, dtype=float)"
   ]
  },
  {
   "cell_type": "code",
   "execution_count": 137,
   "metadata": {},
   "outputs": [],
   "source": [
    "batch_size = 25\n",
    "num_workers = 2\n",
    "\n",
    "\n",
    "train_loader = DataLoader(list(zip(x_train, y_train)),\n",
    "                                batch_size=batch_size, \n",
    "                                num_workers=num_workers,\n",
    "                                shuffle=True, \n",
    "                                drop_last=True)\n",
    "\n",
    "valid_loader = DataLoader(list(zip(x_test, y_test)),\n",
    "                                batch_size=batch_size, \n",
    "                                num_workers=num_workers, \n",
    "                                shuffle=False, \n",
    "                                drop_last=True)"
   ]
  },
  {
   "cell_type": "markdown",
   "metadata": {},
   "source": [
    "## Fine Tuning"
   ]
  },
  {
   "cell_type": "code",
   "execution_count": 139,
   "metadata": {},
   "outputs": [],
   "source": [
    "def train_model(\n",
    "        model, \n",
    "        model_name,\n",
    "        train_loader, \n",
    "        valid_loader,\n",
    "        num_epochs=10,\n",
    "        lr=0.001,\n",
    "        print_res=True):\n",
    "    \n",
    "    model.double()\n",
    "    model = model.to(device)\n",
    "    criterion = nn.MSELoss()\n",
    "    optimizer = torch.optim.AdamW(model.parameters(), lr=lr)\n",
    "\n",
    "    loaders = {\"train\": train_loader, \"valid\": valid_loader}\n",
    "    losses = {\"train\": [], \"valid\": []}\n",
    "    mininmum_loss = 1e9\n",
    "\n",
    "\n",
    "    for epoch in tqdm(range(num_epochs)):\n",
    "        for k, dataloader in loaders.items():\n",
    "            epoch_loss = 0\n",
    "            epoch_all = 0\n",
    "\n",
    "            for x_batch, y_batch in dataloader:\n",
    "\n",
    "                x_batch = x_batch.to(device)\n",
    "                y_batch = y_batch.to(device)\n",
    "\n",
    "                if k == \"train\":\n",
    "                    model.train()\n",
    "                    optimizer.zero_grad()\n",
    "                    outp = model(x_batch)\n",
    "                else:\n",
    "                    model.eval()\n",
    "                    with torch.no_grad():\n",
    "                        outp = model(x_batch)\n",
    "\n",
    "                loss = criterion(outp, y_batch)\n",
    "\n",
    "                epoch_loss += float(loss)\n",
    "                epoch_all += len(outp)\n",
    "\n",
    "                if k == \"train\":\n",
    "                    loss.backward()\n",
    "                    optimizer.step()\n",
    "\n",
    "            losses[k].append(epoch_loss / epoch_all)\n",
    "\n",
    "            if k == 'valid' and losses['valid'][-1] < mininmum_loss:\n",
    "                torch.save(model.state_dict(), f'./models/{model_name}.pt')\n",
    "                mininmum_loss = losses['valid'][-1]\n",
    "\n",
    "    if print_res == True:\n",
    "        print('\\nLeast Loss:\\n')\n",
    "        print('train:', round(min(losses['train']), 4))\n",
    "        print('test:', round(min(losses['valid']), 4))\n",
    "    model.load_state_dict(torch.load(f'./models/{model_name}.pt', map_location=device))\n",
    "    return losses"
   ]
  },
  {
   "cell_type": "markdown",
   "metadata": {},
   "source": [
    "### One Layer model without activation\n",
    "\n",
    "As we could see above all the features correlate with the target value linearly. The first idea is to try liner architecture without activation as a baseline solution."
   ]
  },
  {
   "cell_type": "code",
   "execution_count": 31,
   "metadata": {},
   "outputs": [],
   "source": [
    "def create_fcnn_regr(input_dim, num_outputs, hid_size=100):\n",
    "    model = nn.Sequential(\n",
    "        nn.Linear(input_dim, hid_size),\n",
    "        nn.Linear(hid_size, num_outputs)\n",
    "    )\n",
    "    model.double()\n",
    "    return model"
   ]
  },
  {
   "cell_type": "code",
   "execution_count": 32,
   "metadata": {},
   "outputs": [
    {
     "name": "stderr",
     "output_type": "stream",
     "text": [
      "100%|██████████| 100/100 [00:21<00:00,  4.64it/s]"
     ]
    },
    {
     "name": "stdout",
     "output_type": "stream",
     "text": [
      "\n",
      "Least Loss:\n",
      "\n",
      "train: 6.365\n",
      "test: 6.0219\n"
     ]
    },
    {
     "name": "stderr",
     "output_type": "stream",
     "text": [
      "\n"
     ]
    }
   ],
   "source": [
    "model = create_fcnn_regr(x_train.shape[1], y_train.shape[1], hid_size=100)\n",
    "losses = train_model(model, 'ann_regr', train_loader, valid_loader, num_epochs=100)"
   ]
  },
  {
   "cell_type": "markdown",
   "metadata": {},
   "source": [
    "### One Layer"
   ]
  },
  {
   "cell_type": "markdown",
   "metadata": {},
   "source": [
    "We have not that many data. I decided to try one layer perceptrons. It seems that they can solve this task well."
   ]
  },
  {
   "cell_type": "code",
   "execution_count": 34,
   "metadata": {},
   "outputs": [],
   "source": [
    "def create_1l_fcnn(input_dim, num_outputs, hid_size=100):\n",
    "    model = nn.Sequential(\n",
    "        nn.Linear(input_dim, hid_size),\n",
    "        nn.ReLU(),\n",
    "        nn.BatchNorm1d(hid_size),\n",
    "        nn.Linear(hid_size, num_outputs)\n",
    "    )\n",
    "    model.double()\n",
    "    return model"
   ]
  },
  {
   "cell_type": "code",
   "execution_count": 35,
   "metadata": {},
   "outputs": [
    {
     "name": "stderr",
     "output_type": "stream",
     "text": [
      "100%|██████████| 30/30 [00:06<00:00,  4.37it/s]"
     ]
    },
    {
     "name": "stdout",
     "output_type": "stream",
     "text": [
      "\n",
      "Least Loss:\n",
      "\n",
      "train: 6.2317\n",
      "test: 6.0699\n"
     ]
    },
    {
     "name": "stderr",
     "output_type": "stream",
     "text": [
      "\n"
     ]
    }
   ],
   "source": [
    "model = create_1l_fcnn(x_train.shape[1], y_train.shape[1], hid_size=100)\n",
    "losses = train_model(model, 'ann_1l_100', train_loader, valid_loader, num_epochs=30)"
   ]
  },
  {
   "cell_type": "code",
   "execution_count": 36,
   "metadata": {},
   "outputs": [
    {
     "data": {
      "image/png": "[encoded data removed]",
      "text/plain": [
       "<Figure size 432x288 with 1 Axes>"
      ]
     },
     "metadata": {
      "needs_background": "light"
     },
     "output_type": "display_data"
    }
   ],
   "source": [
    "plt.plot(losses['train'])\n",
    "plt.plot(losses['valid'])\n",
    "plt.title('model loss')\n",
    "plt.ylabel('MSE Loss')\n",
    "plt.xlabel('Epoch')\n",
    "plt.legend(['train', 'valid'], loc='upper right')\n",
    "plt.show()"
   ]
  },
  {
   "cell_type": "markdown",
   "metadata": {},
   "source": [
    "I will try different sizes if hidden layer."
   ]
  },
  {
   "cell_type": "code",
   "execution_count": 49,
   "metadata": {},
   "outputs": [
    {
     "name": "stderr",
     "output_type": "stream",
     "text": [
      "100%|██████████| 100/100 [00:28<00:00,  3.46it/s]\n",
      "100%|██████████| 100/100 [00:28<00:00,  3.51it/s]\n",
      "100%|██████████| 100/100 [00:26<00:00,  3.75it/s]\n",
      "100%|██████████| 100/100 [00:25<00:00,  3.93it/s]\n",
      "100%|██████████| 100/100 [00:23<00:00,  4.24it/s]\n",
      "100%|██████████| 100/100 [00:25<00:00,  3.88it/s]\n"
     ]
    }
   ],
   "source": [
    "grid = [4, 8, 16, 32, 64, 128]\n",
    "results = {}\n",
    "\n",
    "for hid_size in grid:\n",
    "    name = f'ann_1l_{hid_size}'\n",
    "    model = create_1l_fcnn(x_train.shape[1], y_train.shape[1], hid_size=hid_size)\n",
    "    losses = train_model(model, name, train_loader, valid_loader, num_epochs=100, print_res=False)\n",
    "    results[name] = min(losses['valid'])"
   ]
  },
  {
   "cell_type": "markdown",
   "metadata": {},
   "source": [
    "Let's print losses of the models on the validation data."
   ]
  },
  {
   "cell_type": "code",
   "execution_count": 50,
   "metadata": {},
   "outputs": [
    {
     "data": {
      "text/plain": [
       "{'ann_1l_4': 11.508801658761202,\n",
       " 'ann_1l_8': 6.334617360088795,\n",
       " 'ann_1l_16': 6.02811158030217,\n",
       " 'ann_1l_32': 6.055213083033387,\n",
       " 'ann_1l_64': 6.051569421164009,\n",
       " 'ann_1l_128': 5.950027517403264}"
      ]
     },
     "execution_count": 50,
     "metadata": {},
     "output_type": "execute_result"
    }
   ],
   "source": [
    "results"
   ]
  },
  {
   "cell_type": "markdown",
   "metadata": {},
   "source": [
    "Here I will try sigmoid instead of Relu."
   ]
  },
  {
   "cell_type": "code",
   "execution_count": 39,
   "metadata": {},
   "outputs": [],
   "source": [
    "def create_1l_fcnn_sigmoid(input_dim, num_outputs, hid_size=100):\n",
    "    model = nn.Sequential(\n",
    "        nn.Linear(input_dim, hid_size),\n",
    "        nn.Sigmoid(),\n",
    "        nn.BatchNorm1d(hid_size),\n",
    "        nn.Linear(hid_size, num_outputs)\n",
    "    )\n",
    "    model.double()\n",
    "    return model"
   ]
  },
  {
   "cell_type": "code",
   "execution_count": 44,
   "metadata": {},
   "outputs": [
    {
     "name": "stderr",
     "output_type": "stream",
     "text": [
      "100%|██████████| 100/100 [00:25<00:00,  3.89it/s]\n",
      "100%|██████████| 100/100 [00:28<00:00,  3.48it/s]\n",
      "100%|██████████| 100/100 [00:23<00:00,  4.20it/s]\n",
      "100%|██████████| 100/100 [00:21<00:00,  4.59it/s]\n",
      "100%|██████████| 100/100 [00:23<00:00,  4.22it/s]\n",
      "100%|██████████| 100/100 [00:22<00:00,  4.40it/s]\n"
     ]
    }
   ],
   "source": [
    "grid = [4, 8, 16, 32, 64, 128]\n",
    "results_sigmoid = {}\n",
    "\n",
    "for hid_size in grid:\n",
    "    name = f'ann_1l_{hid_size}'\n",
    "    model = create_1l_fcnn_sigmoid(x_train.shape[1], y_train.shape[1], hid_size=hid_size)\n",
    "    losses = train_model(model, name, train_loader, valid_loader, num_epochs=100, print_res=False)\n",
    "    results_sigmoid[name] = min(losses['valid'])"
   ]
  },
  {
   "cell_type": "code",
   "execution_count": 45,
   "metadata": {},
   "outputs": [
    {
     "data": {
      "text/plain": [
       "{'ann_1l_4': 10.89375567918,\n",
       " 'ann_1l_8': 6.12539487073054,\n",
       " 'ann_1l_16': 6.045346692162976,\n",
       " 'ann_1l_32': 5.98353511488719,\n",
       " 'ann_1l_64': 5.945554738266834,\n",
       " 'ann_1l_128': 5.920992549966901}"
      ]
     },
     "execution_count": 45,
     "metadata": {},
     "output_type": "execute_result"
    }
   ],
   "source": [
    "results_sigmoid"
   ]
  },
  {
   "cell_type": "markdown",
   "metadata": {},
   "source": [
    "Here I will try Hyperbolic Tangent activation function."
   ]
  },
  {
   "cell_type": "code",
   "execution_count": 140,
   "metadata": {},
   "outputs": [],
   "source": [
    "def create_1l_fcnn_tanh(input_dim, num_outputs, hid_size=100):\n",
    "    model = nn.Sequential(\n",
    "        nn.Linear(input_dim, hid_size),\n",
    "        nn.Tanh(),\n",
    "        nn.BatchNorm1d(hid_size),\n",
    "        nn.Linear(hid_size, num_outputs)\n",
    "    )\n",
    "    model.double()\n",
    "    return model"
   ]
  },
  {
   "cell_type": "code",
   "execution_count": 47,
   "metadata": {},
   "outputs": [
    {
     "name": "stderr",
     "output_type": "stream",
     "text": [
      "100%|██████████| 100/100 [00:23<00:00,  4.19it/s]\n",
      "100%|██████████| 100/100 [00:26<00:00,  3.74it/s]\n",
      "100%|██████████| 100/100 [00:26<00:00,  3.82it/s]\n",
      "100%|██████████| 100/100 [00:27<00:00,  3.66it/s]\n",
      "100%|██████████| 100/100 [00:24<00:00,  4.10it/s]\n",
      "100%|██████████| 100/100 [00:24<00:00,  4.10it/s]\n"
     ]
    }
   ],
   "source": [
    "grid = [4, 8, 16, 32, 64, 128]\n",
    "results_tanh = {}\n",
    "\n",
    "for hid_size in grid:\n",
    "    name = f'ann_1l_{hid_size}'\n",
    "    model = create_1l_fcnn_tanh(x_train.shape[1], y_train.shape[1], hid_size=hid_size)\n",
    "    losses = train_model(model, name, train_loader, valid_loader, num_epochs=100, print_res=False)\n",
    "    results_tanh[name] = min(losses['valid'])"
   ]
  },
  {
   "cell_type": "code",
   "execution_count": 48,
   "metadata": {},
   "outputs": [
    {
     "data": {
      "text/plain": [
       "{'ann_1l_4': 11.187610827861233,\n",
       " 'ann_1l_8': 6.188163822542142,\n",
       " 'ann_1l_16': 5.945359960450525,\n",
       " 'ann_1l_32': 5.937719499037348,\n",
       " 'ann_1l_64': 5.880323273708341,\n",
       " 'ann_1l_128': 5.920990349595218}"
      ]
     },
     "execution_count": 48,
     "metadata": {},
     "output_type": "execute_result"
    }
   ],
   "source": [
    "results_tanh"
   ]
  },
  {
   "cell_type": "markdown",
   "metadata": {},
   "source": [
    "The model with Hyperbolic Tangent activation and 64 hidden neurons showed the best result."
   ]
  },
  {
   "cell_type": "markdown",
   "metadata": {},
   "source": [
    "### Two Layer"
   ]
  },
  {
   "cell_type": "markdown",
   "metadata": {},
   "source": [
    "Here I want to try to use two layer models woth tangent activattion which appeared to be the best in one layer case."
   ]
  },
  {
   "cell_type": "code",
   "execution_count": 52,
   "metadata": {},
   "outputs": [],
   "source": [
    "def create_2l_fcnn(input_dim, num_outputs, hid_size=100):\n",
    "    model = nn.Sequential(\n",
    "        nn.Linear(input_dim, hid_size),\n",
    "        nn.Tanh(),\n",
    "        nn.BatchNorm1d(hid_size),\n",
    "        nn.Linear(hid_size, hid_size),\n",
    "        nn.Tanh(),\n",
    "        nn.BatchNorm1d(hid_size),\n",
    "        nn.Linear(hid_size, num_outputs)\n",
    "    )\n",
    "    model.double()\n",
    "    return model"
   ]
  },
  {
   "cell_type": "code",
   "execution_count": 53,
   "metadata": {},
   "outputs": [
    {
     "name": "stderr",
     "output_type": "stream",
     "text": [
      "100%|██████████| 100/100 [00:21<00:00,  4.56it/s]\n",
      "100%|██████████| 100/100 [00:21<00:00,  4.69it/s]\n",
      "100%|██████████| 100/100 [00:22<00:00,  4.39it/s]\n",
      "100%|██████████| 100/100 [00:22<00:00,  4.47it/s]\n",
      "100%|██████████| 100/100 [00:22<00:00,  4.40it/s]\n",
      "100%|██████████| 100/100 [00:23<00:00,  4.35it/s]\n"
     ]
    }
   ],
   "source": [
    "grid = [4, 8, 16, 32, 64, 128]\n",
    "results_2l = {}\n",
    "\n",
    "for hid_size in grid:\n",
    "    name = f'ann_2l_{hid_size}'\n",
    "    model = create_1l_fcnn(x_train.shape[1], y_train.shape[1], hid_size=hid_size)\n",
    "    losses = train_model(model, name, train_loader, valid_loader, num_epochs=100, print_res=False)\n",
    "    results_2l[name] = min(losses['valid'])"
   ]
  },
  {
   "cell_type": "code",
   "execution_count": 54,
   "metadata": {},
   "outputs": [
    {
     "data": {
      "text/plain": [
       "{'ann_2l_4': 11.270861386496067,\n",
       " 'ann_2l_8': 6.275070936846323,\n",
       " 'ann_2l_16': 6.127660817230738,\n",
       " 'ann_2l_32': 6.0023350852097535,\n",
       " 'ann_2l_64': 5.984034536568594,\n",
       " 'ann_2l_128': 6.036452953082743}"
      ]
     },
     "execution_count": 54,
     "metadata": {},
     "output_type": "execute_result"
    }
   ],
   "source": [
    "results_2l"
   ]
  },
  {
   "cell_type": "markdown",
   "metadata": {},
   "source": [
    "## Conclusion"
   ]
  },
  {
   "cell_type": "markdown",
   "metadata": {},
   "source": [
    "One layer model with tangent activation function and 64 hidden neurons showed the best result: **5.880323273708341**."
   ]
  },
  {
   "cell_type": "code",
   "execution_count": 143,
   "metadata": {},
   "outputs": [
    {
     "data": {
      "text/plain": [
       "<All keys matched successfully>"
      ]
     },
     "execution_count": 143,
     "metadata": {},
     "output_type": "execute_result"
    }
   ],
   "source": [
    "model = create_1l_fcnn_tanh(x_train.shape[1], y_train.shape[1], hid_size=64)\n",
    "model.load_state_dict(torch.load('./models/ann_1l_64.pt', map_location=device))"
   ]
  },
  {
   "cell_type": "markdown",
   "metadata": {},
   "source": [
    "Let's now try to fine tune it with less learning rate."
   ]
  },
  {
   "cell_type": "code",
   "execution_count": 145,
   "metadata": {},
   "outputs": [
    {
     "name": "stderr",
     "output_type": "stream",
     "text": [
      "100%|██████████| 100/100 [05:10<00:00,  3.11s/it]\n"
     ]
    }
   ],
   "source": [
    "losses = train_model(\n",
    "    model, \n",
    "    'ann_1l_64_tuned.pt', \n",
    "    train_loader, \n",
    "    valid_loader, \n",
    "    num_epochs=100, \n",
    "    print_res=False,\n",
    "    lr=0.0001\n",
    ")"
   ]
  },
  {
   "cell_type": "code",
   "execution_count": 152,
   "metadata": {},
   "outputs": [
    {
     "name": "stdout",
     "output_type": "stream",
     "text": [
      "5.73046692162976\n"
     ]
    }
   ],
   "source": [
    "min(losses['valid'])"
   ]
  },
  {
   "cell_type": "markdown",
   "metadata": {},
   "source": [
    "I got a slight improvement in quality.\n",
    "\n",
    "Let's take a look at model's prediction."
   ]
  },
  {
   "cell_type": "code",
   "execution_count": 157,
   "metadata": {},
   "outputs": [
    {
     "data": {
      "text/plain": [
       "tensor([[50.0193, 60.8493, 59.2505]], dtype=torch.float64)"
      ]
     },
     "execution_count": 157,
     "metadata": {},
     "output_type": "execute_result"
    }
   ],
   "source": [
    "with torch.no_grad():\n",
    "    pred = model(torch.tensor(np.expand_dims(x_test[0], axis=0)))\n",
    "\n",
    "pred"
   ]
  },
  {
   "cell_type": "code",
   "execution_count": 158,
   "metadata": {},
   "outputs": [
    {
     "data": {
      "text/plain": [
       "tensor([40., 59., 55.], dtype=torch.float64)"
      ]
     },
     "execution_count": 158,
     "metadata": {},
     "output_type": "execute_result"
    }
   ],
   "source": [
    "y_test[0]"
   ]
  },
  {
   "cell_type": "markdown",
   "metadata": {
    "collapsed": false
   },
   "source": [
    "## Questions\n",
    "1. What preprocessing techniques did you use? Why?\n",
    "    - We have only categorical data as input for our model. I used ordinal encoding in cases where it is meaningful and one-hot encodig otherwise.\n",
    "    \n",
    "    - After encoding I applied standartization to the obtained table. Optimization works better on normilized parameter space.\n",
    "\n",
    "2. Describe the fine-tuning process and how you reached your model architecture.\n",
    "    - I used MSE loss for model evaluation as we are solving regression problem.\n",
    "\n",
    "    - I used AdamW as it trains the model faster than SGD.\n",
    "\n",
    "    - At first I trained one layer architecture without activation as a baseline. We have good linear correlation and this model showed results comparable with more complex models.\n",
    "\n",
    "    - Then I tried one layer ANNs with different activation functions and different hidden layer sizes.\n",
    "\n",
    "    - The model with tanh activation showed the best result, so I tried two layer models with different hidden layers sizes. These models showed results worse than one layer ones.\n",
    "\n",
    "    - During the learning process I used early stopping technique to save the best obtained model.\n",
    "\n",
    "    - I added batch normalization to all the models for regularization and better training.\n",
    "\n",
    "    - I did not used dropouts because of very simple architectures of networks.\n",
    "\n",
    "    - In the final step I tried to learn the best model with smaller learning rate to obtain better results."
   ]
  },
  {
   "cell_type": "markdown",
   "metadata": {
    "collapsed": false
   },
   "source": [
    "# Task 2: CNN (40%)"
   ]
  },
  {
   "cell_type": "markdown",
   "metadata": {},
   "source": [
    "For this task, you will be doing image classification:\n",
    "- First, adapt your best model from Task 1 to work on this task, and\n",
    "fit it on the new data. Then, evaluate its performance.\n",
    "- After that, build a CNN model for image classification.\n",
    "- Compare both models in terms of accuracy, number of parameters and speed of\n",
    "inference (the time the model takes to predict 50 samples).\n",
    "\n",
    "For the given data, you need to do proper data preprocessing and augmentation,\n",
    "data loaders.\n",
    "Then fine-tune your model architecture (number of layers, number of filters,\n",
    "activation function, learning rate, momentum, regularization)."
   ]
  },
  {
   "cell_type": "markdown",
   "metadata": {},
   "source": [
    "## Data\n",
    "You will be working with the data in `triple_mnist.zip` for predicting 3-digit\n",
    "numbers writen in the image. Each image contains 3 digits similar to the\n",
    "following example (whose label is `039`):\n",
    "\n",
    "![example](https://github.com/shaohua0116/MultiDigitMNIST/blob/master/asset/examples/039/0_039.png?raw=true)"
   ]
  },
  {
   "cell_type": "markdown",
   "metadata": {},
   "source": [
    "### Image preprocessing"
   ]
  },
  {
   "cell_type": "markdown",
   "metadata": {},
   "source": [
    "For preprocessing I will take an idea from my [project](https://github.com/KKroliKK/document-cropper). I will extract digits from the images by finding connected white regions."
   ]
  },
  {
   "cell_type": "markdown",
   "metadata": {},
   "source": [
    "#### Preprocessing steps"
   ]
  },
  {
   "cell_type": "code",
   "execution_count": 31,
   "metadata": {},
   "outputs": [],
   "source": [
    "def show_image(image: np.ndarray):\n",
    "    plt.imshow(image)\n",
    "    plt.axis('off')\n",
    "    plt.show()"
   ]
  },
  {
   "cell_type": "code",
   "execution_count": 76,
   "metadata": {},
   "outputs": [
    {
     "data": {
      "image/png": "[encoded data removed]",
      "text/plain": [
       "<Figure size 432x288 with 1 Axes>"
      ]
     },
     "metadata": {
      "needs_background": "light"
     },
     "output_type": "display_data"
    }
   ],
   "source": [
    "image = io.imread('./triple_mnist/train/009/53_009.png')\n",
    "show_image(image)"
   ]
  },
  {
   "cell_type": "markdown",
   "metadata": {},
   "source": [
    "After image reading I will get the mask of the image."
   ]
  },
  {
   "cell_type": "code",
   "execution_count": 6,
   "metadata": {},
   "outputs": [
    {
     "data": {
      "image/png": "[encoded data removed]",
      "text/plain": [
       "<Figure size 432x288 with 1 Axes>"
      ]
     },
     "metadata": {
      "needs_background": "light"
     },
     "output_type": "display_data"
    }
   ],
   "source": [
    "mask = image > np.zeros(image.shape)\n",
    "show_image(mask)"
   ]
  },
  {
   "cell_type": "markdown",
   "metadata": {},
   "source": [
    "Then I want to get connected white regions."
   ]
  },
  {
   "cell_type": "code",
   "execution_count": 9,
   "metadata": {},
   "outputs": [
    {
     "data": {
      "text/plain": [
       "5"
      ]
     },
     "execution_count": 9,
     "metadata": {},
     "output_type": "execute_result"
    }
   ],
   "source": [
    "regions_labeled, num_regions = measure.label(mask, return_num=True)\n",
    "num_regions"
   ]
  },
  {
   "cell_type": "markdown",
   "metadata": {},
   "source": [
    "We have 5 connected white regions. The biggest 3 stand for digits, one of them comes from zero in the middle (one piece is torned off), and the 5-th region for dash near the 9 digit. I want to extract only digits regions."
   ]
  },
  {
   "cell_type": "code",
   "execution_count": 10,
   "metadata": {},
   "outputs": [
    {
     "data": {
      "text/plain": [
       "[2, 1, 4]"
      ]
     },
     "execution_count": 10,
     "metadata": {},
     "output_type": "execute_result"
    }
   ],
   "source": [
    "areas = [r.filled_area for r in measure.regionprops(regions_labeled)]\n",
    "digits_idxs = heapq.nlargest(3, zip(areas, range(1, num_regions + 1)))\n",
    "digits_idxs = [d[1] for d in digits_idxs]\n",
    "digits_idxs"
   ]
  },
  {
   "cell_type": "markdown",
   "metadata": {},
   "source": [
    "Digits array stores indexes of the 3 biggest regions (our digits).\n",
    "\n",
    "Indexes now correspond to all regions. Because of these indexes we now have different brightness of digits on the picture."
   ]
  },
  {
   "cell_type": "code",
   "execution_count": 11,
   "metadata": {},
   "outputs": [
    {
     "data": {
      "image/png": "[encoded data removed]",
      "text/plain": [
       "<Figure size 432x288 with 1 Axes>"
      ]
     },
     "metadata": {
      "needs_background": "light"
     },
     "output_type": "display_data"
    }
   ],
   "source": [
    "show_image(regions_labeled)"
   ]
  },
  {
   "cell_type": "markdown",
   "metadata": {},
   "source": [
    "Now it is easy to get all 3 digits separately."
   ]
  },
  {
   "cell_type": "code",
   "execution_count": 23,
   "metadata": {},
   "outputs": [
    {
     "data": {
      "image/png": "[encoded data removed]",
      "text/plain": [
       "<Figure size 432x288 with 1 Axes>"
      ]
     },
     "metadata": {
      "needs_background": "light"
     },
     "output_type": "display_data"
    }
   ],
   "source": [
    "show_image(regions_labeled == 2)"
   ]
  },
  {
   "cell_type": "markdown",
   "metadata": {},
   "source": [
    "Now I want to assign right the value of the orders of digits, indexes that exist now are shuffled."
   ]
  },
  {
   "cell_type": "code",
   "execution_count": 19,
   "metadata": {},
   "outputs": [
    {
     "data": {
      "text/plain": [
       "{2: {'min_row': 39, 'min_col': 7, 'max_row': 59, 'max_col': 23},\n",
       " 1: {'min_row': 38, 'min_col': 63, 'max_row': 58, 'max_col': 80},\n",
       " 4: {'min_row': 54, 'min_col': 33, 'max_row': 74, 'max_col': 49}}"
      ]
     },
     "execution_count": 19,
     "metadata": {},
     "output_type": "execute_result"
    }
   ],
   "source": [
    "digits_properties = {}\n",
    "bboxes = [r.bbox for r in measure.regionprops(regions_labeled)]\n",
    "\n",
    "for index in digits_idxs:\n",
    "    bbox = bboxes[index - 1]\n",
    "    index_properties = {\n",
    "        'min_row': bbox[0],\n",
    "        'min_col': bbox[1],\n",
    "        'max_row': bbox[2],\n",
    "        'max_col': bbox[3]\n",
    "    }\n",
    "\n",
    "    digits_properties[index] = index_properties\n",
    "\n",
    "digits_properties"
   ]
  },
  {
   "cell_type": "markdown",
   "metadata": {},
   "source": [
    "We can define real order of digits by thier min_col or max col values."
   ]
  },
  {
   "cell_type": "code",
   "execution_count": 36,
   "metadata": {},
   "outputs": [
    {
     "data": {
      "text/plain": [
       "[2, 4, 1]"
      ]
     },
     "execution_count": 36,
     "metadata": {},
     "output_type": "execute_result"
    }
   ],
   "source": [
    "digits_order = sorted([(properties['min_col'], idx) for idx, properties in digits_properties.items()])\n",
    "digits_order = [d[1] for d in digits_order]\n",
    "digits_order"
   ]
  },
  {
   "cell_type": "code",
   "execution_count": 53,
   "metadata": {},
   "outputs": [
    {
     "name": "stdout",
     "output_type": "stream",
     "text": [
      "hundreds: {'min_row': 39, 'min_col': 7, 'max_row': 59, 'max_col': 23}\n",
      "dozens: {'min_row': 54, 'min_col': 33, 'max_row': 74, 'max_col': 49}\n",
      "ones: {'min_row': 38, 'min_col': 63, 'max_row': 58, 'max_col': 80}\n"
     ]
    }
   ],
   "source": [
    "digits_of_the_number = ['hundreds', 'dozens', 'ones']\n",
    "digits_bounding_boxes = [digits_properties[idx] for idx in digits_order]\n",
    "\n",
    "for d, b in zip(digits_of_the_number, digits_bounding_boxes):\n",
    "    print(d + ':', b)"
   ]
  },
  {
   "cell_type": "markdown",
   "metadata": {},
   "source": [
    "Now digits can be cropped in needed order."
   ]
  },
  {
   "cell_type": "code",
   "execution_count": 47,
   "metadata": {},
   "outputs": [
    {
     "data": {
      "image/png": "[encoded data removed]",
      "text/plain": [
       "<Figure size 432x288 with 1 Axes>"
      ]
     },
     "metadata": {
      "needs_background": "light"
     },
     "output_type": "display_data"
    },
    {
     "data": {
      "text/plain": [
       "(20, 16)"
      ]
     },
     "execution_count": 47,
     "metadata": {},
     "output_type": "execute_result"
    }
   ],
   "source": [
    "show_image(image[39:59, 7:23])\n",
    "image[39:59, 7:23].shape"
   ]
  },
  {
   "cell_type": "code",
   "execution_count": 48,
   "metadata": {},
   "outputs": [
    {
     "data": {
      "image/png": "[encoded data removed]",
      "text/plain": [
       "<Figure size 432x288 with 1 Axes>"
      ]
     },
     "metadata": {
      "needs_background": "light"
     },
     "output_type": "display_data"
    }
   ],
   "source": [
    "show_image(image[54:74, 33:49])"
   ]
  },
  {
   "cell_type": "code",
   "execution_count": 49,
   "metadata": {},
   "outputs": [
    {
     "data": {
      "image/png": "[encoded data removed]",
      "text/plain": [
       "<Figure size 432x288 with 1 Axes>"
      ]
     },
     "metadata": {
      "needs_background": "light"
     },
     "output_type": "display_data"
    }
   ],
   "source": [
    "show_image(image[38:58, 63:80])"
   ]
  },
  {
   "cell_type": "markdown",
   "metadata": {},
   "source": [
    "Also I want to add padding to cropped pictures to shape them into `(28, 28)` like in original mnist dataset.\n",
    "\n",
    "Code for padding adding was taken from [here](https://stackoverflow.com/questions/43391205/add-padding-to-images-to-get-them-into-the-same-shape)."
   ]
  },
  {
   "cell_type": "code",
   "execution_count": 50,
   "metadata": {},
   "outputs": [
    {
     "data": {
      "image/png": "[encoded data removed]",
      "text/plain": [
       "<Figure size 432x288 with 1 Axes>"
      ]
     },
     "metadata": {
      "needs_background": "light"
     },
     "output_type": "display_data"
    },
    {
     "data": {
      "text/plain": [
       "(28, 28)"
      ]
     },
     "execution_count": 50,
     "metadata": {},
     "output_type": "execute_result"
    }
   ],
   "source": [
    "cropped = image[38:58, 63:80]\n",
    "\n",
    "shape = (28, 28)\n",
    "result = np.zeros(shape)\n",
    "\n",
    "# compute center offset\n",
    "y_center = (shape[0] - cropped.shape[0]) // 2\n",
    "x_center = (shape[1] - cropped.shape[1]) // 2\n",
    "\n",
    "# copy img image into center of result image\n",
    "result[y_center:y_center+cropped.shape[0], \n",
    "       x_center:x_center+cropped.shape[1]] = cropped\n",
    "\n",
    "show_image(result)\n",
    "result.shape"
   ]
  },
  {
   "cell_type": "markdown",
   "metadata": {},
   "source": [
    "I will train my model to classify such pictures with only digit and then combine predictions from all the three digits to get triple mnist prediction."
   ]
  },
  {
   "cell_type": "markdown",
   "metadata": {},
   "source": [
    "#### Putting everything together"
   ]
  },
  {
   "cell_type": "code",
   "execution_count": 2,
   "metadata": {},
   "outputs": [],
   "source": [
    "def get_mask(image: np.ndarray):\n",
    "    mask = image > np.zeros(image.shape)\n",
    "    return mask\n",
    "\n",
    "\n",
    "def get_digits_idxs(regions_labeled: np.ndarray):\n",
    "    areas = [r.filled_area for r in measure.regionprops(regions_labeled)]\n",
    "    digits_idxs = heapq.nlargest(3, zip(areas, range(1, len(areas) + 1)))\n",
    "    digits_idxs = [d[1] for d in digits_idxs]\n",
    "    return digits_idxs\n",
    "\n",
    "\n",
    "def get_digits_bounding_boxes(regions_labeled):\n",
    "    digits_properties = {}\n",
    "    bboxes = [r.bbox for r in measure.regionprops(regions_labeled)]\n",
    "\n",
    "    digits_idxs = get_digits_idxs(regions_labeled)\n",
    "\n",
    "    for index in digits_idxs:\n",
    "        bbox = bboxes[index - 1]\n",
    "        index_properties = {\n",
    "            'min_row': bbox[0],\n",
    "            'min_col': bbox[1],\n",
    "            'max_row': bbox[2],\n",
    "            'max_col': bbox[3]\n",
    "        }\n",
    "\n",
    "        digits_properties[index] = index_properties\n",
    "    \n",
    "    digits_order = sorted([(properties['min_col'], idx) for idx, properties in digits_properties.items()])\n",
    "    digits_order = [d[1] for d in digits_order]\n",
    "\n",
    "    digits_bounding_boxes = [digits_properties[idx] for idx in digits_order]\n",
    "\n",
    "    return digits_bounding_boxes\n",
    "\n",
    "\n",
    "def crop_and_padd_digit(image: np.array, bounding_box: dict, new_shape=(28, 28)):\n",
    "    b = bounding_box\n",
    "    cropped = image[b['min_row'] : b['max_row'], b['min_col'] : b['max_col']]\n",
    "\n",
    "    result = np.zeros(new_shape)\n",
    "\n",
    "    y_center = (new_shape[0] - cropped.shape[0]) // 2\n",
    "    x_center = (new_shape[1] - cropped.shape[1]) // 2\n",
    "\n",
    "    result[y_center : y_center + cropped.shape[0], \n",
    "           x_center : x_center + cropped.shape[1]] = cropped\n",
    "\n",
    "    return result\n",
    "    "
   ]
  },
  {
   "cell_type": "code",
   "execution_count": 3,
   "metadata": {},
   "outputs": [],
   "source": [
    "def preprocess_image(image: np.ndarray):\n",
    "    try:\n",
    "        image = image.copy()\n",
    "        image = skimage.color.rgb2gray(image)\n",
    "    except ValueError:\n",
    "        pass\n",
    "    \n",
    "    mask = get_mask(image)\n",
    "    regions_labeled = measure.label(mask)\n",
    "    digits_bounding_boxes = get_digits_bounding_boxes(regions_labeled)\n",
    "\n",
    "    cropped_digits = [[crop_and_padd_digit(image, bounding_box)] for bounding_box in digits_bounding_boxes]\n",
    "    # cropped_digits = [[crop_and_padd_digit(mask, bounding_box)] for bounding_box in digits_bounding_boxes]\n",
    "\n",
    "    return np.array(cropped_digits)"
   ]
  },
  {
   "cell_type": "code",
   "execution_count": 90,
   "metadata": {},
   "outputs": [
    {
     "data": {
      "text/plain": [
       "(3, 1, 28, 28)"
      ]
     },
     "execution_count": 90,
     "metadata": {},
     "output_type": "execute_result"
    }
   ],
   "source": [
    "preprocess_image(image).shape"
   ]
  },
  {
   "cell_type": "code",
   "execution_count": 91,
   "metadata": {},
   "outputs": [
    {
     "data": {
      "image/png": "[encoded data removed]",
      "text/plain": [
       "<Figure size 432x288 with 1 Axes>"
      ]
     },
     "metadata": {
      "needs_background": "light"
     },
     "output_type": "display_data"
    }
   ],
   "source": [
    "show_image(preprocess_image(image)[2][0])"
   ]
  },
  {
   "cell_type": "markdown",
   "metadata": {},
   "source": [
    "### Data Loaders"
   ]
  },
  {
   "cell_type": "markdown",
   "metadata": {},
   "source": [
    "#### Training Loaders"
   ]
  },
  {
   "cell_type": "markdown",
   "metadata": {},
   "source": [
    "Let's firstly look at unchanged data."
   ]
  },
  {
   "cell_type": "code",
   "execution_count": 4,
   "metadata": {},
   "outputs": [],
   "source": [
    "dataset_train_unchanged = torchvision.datasets.ImageFolder(root='triple_mnist/train/')\n",
    "dataset_valid_unchanged = torchvision.datasets.ImageFolder(root='triple_mnist/val/')\n",
    "dataset_test_unchanged = torchvision.datasets.ImageFolder(root='triple_mnist/test/')"
   ]
  },
  {
   "cell_type": "code",
   "execution_count": 75,
   "metadata": {},
   "outputs": [
    {
     "data": {
      "image/png": "[encoded data removed]",
      "text/plain": [
       "<PIL.Image.Image image mode=RGB size=84x84>"
      ]
     },
     "execution_count": 75,
     "metadata": {},
     "output_type": "execute_result"
    }
   ],
   "source": [
    "dataset_train_unchanged[100][0]"
   ]
  },
  {
   "cell_type": "code",
   "execution_count": 76,
   "metadata": {},
   "outputs": [
    {
     "data": {
      "text/plain": [
       "'004'"
      ]
     },
     "execution_count": 76,
     "metadata": {},
     "output_type": "execute_result"
    }
   ],
   "source": [
    "dataset_train_unchanged.classes[dataset_train_unchanged[100][1]]"
   ]
  },
  {
   "cell_type": "markdown",
   "metadata": {},
   "source": [
    "Now I will apply image transformation written above. I will split each image into three ones and change labels from three digit strings into lists of three integers."
   ]
  },
  {
   "cell_type": "code",
   "execution_count": 5,
   "metadata": {},
   "outputs": [],
   "source": [
    "def split_label_train(index: int):\n",
    "    label = dataset_train_unchanged.classes[index]\n",
    "    digits = [int(digit) for digit in label]\n",
    "    return digits\n",
    "\n",
    "\n",
    "def split_label_valid(index: int):\n",
    "    label = dataset_valid_unchanged.classes[index]\n",
    "    digits = [int(digit) for digit in label]\n",
    "    return digits\n",
    "\n",
    "\n",
    "def split_label_test(index: int):\n",
    "    label = dataset_test_unchanged.classes[index]\n",
    "    digits = [int(digit) for digit in label]\n",
    "    return digits"
   ]
  },
  {
   "cell_type": "code",
   "execution_count": 6,
   "metadata": {
    "collapsed": false,
    "pycharm": {
     "name": "#%%\n"
    }
   },
   "outputs": [],
   "source": [
    "dataset_train = torchvision.datasets.ImageFolder(root='triple_mnist/train/', transform=preprocess_image, target_transform=split_label_train)\n",
    "dataset_valid = torchvision.datasets.ImageFolder(root='triple_mnist/val/', transform=preprocess_image, target_transform=split_label_valid)\n",
    "dataset_test = torchvision.datasets.ImageFolder(root='triple_mnist/test/', transform=preprocess_image, target_transform=split_label_test)"
   ]
  },
  {
   "cell_type": "markdown",
   "metadata": {},
   "source": [
    "each feauture is now array of three images."
   ]
  },
  {
   "cell_type": "code",
   "execution_count": 14,
   "metadata": {},
   "outputs": [
    {
     "data": {
      "text/plain": [
       "[0, 0, 4]"
      ]
     },
     "execution_count": 14,
     "metadata": {},
     "output_type": "execute_result"
    }
   ],
   "source": [
    "dataset_train[100][1]"
   ]
  },
  {
   "cell_type": "code",
   "execution_count": 11,
   "metadata": {},
   "outputs": [
    {
     "data": {
      "image/png": "[encoded data removed]",
      "text/plain": [
       "<Figure size 432x288 with 1 Axes>"
      ]
     },
     "metadata": {
      "needs_background": "light"
     },
     "output_type": "display_data"
    }
   ],
   "source": [
    "show_image(dataset_train[100][0][0][0])"
   ]
  },
  {
   "cell_type": "code",
   "execution_count": 12,
   "metadata": {},
   "outputs": [
    {
     "data": {
      "image/png": "[encoded data removed]",
      "text/plain": [
       "<Figure size 432x288 with 1 Axes>"
      ]
     },
     "metadata": {
      "needs_background": "light"
     },
     "output_type": "display_data"
    }
   ],
   "source": [
    "show_image(dataset_train[100][0][1][0])"
   ]
  },
  {
   "cell_type": "code",
   "execution_count": 13,
   "metadata": {},
   "outputs": [
    {
     "data": {
      "image/png": "[encoded data removed]",
      "text/plain": [
       "<Figure size 432x288 with 1 Axes>"
      ]
     },
     "metadata": {
      "needs_background": "light"
     },
     "output_type": "display_data"
    }
   ],
   "source": [
    "show_image(dataset_train[100][0][2][0])"
   ]
  },
  {
   "cell_type": "markdown",
   "metadata": {},
   "source": [
    "The idea of the solution is to train a CNN to classify one digit on the picture on the images from train dataset and then evalute it's three digits prediction.\n",
    "\n",
    "Now I will create dataloader with one digit dataset obtained from discussed preprocessing."
   ]
  },
  {
   "cell_type": "code",
   "execution_count": null,
   "metadata": {},
   "outputs": [],
   "source": [
    "for i in dataset_train:\n",
    "    pass"
   ]
  },
  {
   "cell_type": "markdown",
   "metadata": {},
   "source": [
    "There are some corrupted images such as `'triple_mnist/train/013/47_013.png'` I replaced them.\n",
    "\n",
    "I took code from [here](https://stackoverflow.com/questions/63754311/unidentifiedimageerror-cannot-identify-image-file) to identify them and delete."
   ]
  },
  {
   "cell_type": "code",
   "execution_count": 160,
   "metadata": {},
   "outputs": [],
   "source": [
    "import os\n",
    "from PIL import Image\n",
    "\n",
    "def delete_corrupted_files(folder_path):\n",
    "    extensions = []\n",
    "\n",
    "    corrupted_files = []\n",
    "\n",
    "    for fldr in os.listdir(folder_path):\n",
    "        sub_folder_path = os.path.join(folder_path, fldr)\n",
    "        for filee in os.listdir(sub_folder_path):\n",
    "            file_path = os.path.join(sub_folder_path, filee)\n",
    "            print('** Path: {}  **'.format(file_path), end=\"\\r\", flush=True)\n",
    "            try:\n",
    "                im = Image.open(file_path)\n",
    "            except:\n",
    "                corrupted_files.append(file_path)\n",
    "            rgb_im = im.convert('RGB')\n",
    "            if filee.split('.')[1] not in extensions:\n",
    "                extensions.append(filee.split('.')[1])\n",
    "\n",
    "    \n",
    "    [os.remove(file) for file in corrupted_files]"
   ]
  },
  {
   "cell_type": "code",
   "execution_count": 161,
   "metadata": {},
   "outputs": [
    {
     "name": "stdout",
     "output_type": "stream",
     "text": [
      "** Path: triple_mnist/test/569/67_569.png  ***\r"
     ]
    }
   ],
   "source": [
    "delete_corrupted_files('triple_mnist/train')\n",
    "delete_corrupted_files('triple_mnist/val')\n",
    "delete_corrupted_files('triple_mnist/test')"
   ]
  },
  {
   "cell_type": "code",
   "execution_count": 7,
   "metadata": {},
   "outputs": [],
   "source": [
    "def squeeze_dataset(dataset):\n",
    "    '''Pushes 3-digits list into the sigle one.\n",
    "    '''\n",
    "    x_train, y_train = [], []\n",
    "\n",
    "    for features, targets in dataset:\n",
    "        for feature, target in zip(features, targets):\n",
    "            x_train.append(feature)\n",
    "            y_train.append(target)\n",
    "\n",
    "    x_train, y_train = np.array(x_train), np.array(y_train)\n",
    "\n",
    "    return list(zip(x_train, y_train))"
   ]
  },
  {
   "cell_type": "markdown",
   "metadata": {},
   "source": [
    "This loader with shuffled digits will be used for model training."
   ]
  },
  {
   "cell_type": "code",
   "execution_count": 8,
   "metadata": {},
   "outputs": [],
   "source": [
    "batch_size = 243\n",
    "num_workers = 4\n",
    "\n",
    "\n",
    "train_loader = DataLoader(\n",
    "    squeeze_dataset(dataset_train),\n",
    "    batch_size=batch_size, \n",
    "    num_workers=num_workers,\n",
    "    shuffle=True,\n",
    "    drop_last=False\n",
    ")"
   ]
  },
  {
   "cell_type": "markdown",
   "metadata": {},
   "source": [
    "These loaders will be used for model evaluating. They are not shuffled. I will use batch size divisible by 3 to keep whole 3-digit numbers. I will use special `validate()` method to measure the accuracy of whole number prediction."
   ]
  },
  {
   "cell_type": "code",
   "execution_count": 9,
   "metadata": {},
   "outputs": [],
   "source": [
    "batch_size = 243\n",
    "num_workers = 4\n",
    "\n",
    "\n",
    "train_loader_for_val = DataLoader(\n",
    "    squeeze_dataset(dataset_train),\n",
    "    batch_size=batch_size, \n",
    "    num_workers=num_workers,\n",
    "    shuffle=False, \n",
    "    drop_last=False\n",
    ")\n",
    "\n",
    "valid_loader = DataLoader(\n",
    "    squeeze_dataset(dataset_valid),\n",
    "    batch_size=batch_size, \n",
    "    num_workers=num_workers,\n",
    "    shuffle=False, \n",
    "    drop_last=False\n",
    ")\n",
    "\n",
    "test_loader = DataLoader(\n",
    "    squeeze_dataset(dataset_test),\n",
    "    batch_size=batch_size, \n",
    "    num_workers=num_workers,\n",
    "    shuffle=False, \n",
    "    drop_last=False\n",
    ")"
   ]
  },
  {
   "cell_type": "code",
   "execution_count": 22,
   "metadata": {},
   "outputs": [
    {
     "data": {
      "text/plain": [
       "tensor([0, 0, 2])"
      ]
     },
     "execution_count": 22,
     "metadata": {},
     "output_type": "execute_result"
    }
   ],
   "source": [
    "x, y = next(iter(test_loader))\n",
    "y[:3]"
   ]
  },
  {
   "cell_type": "code",
   "execution_count": 23,
   "metadata": {},
   "outputs": [
    {
     "data": {
      "image/png": "[encoded data removed]",
      "text/plain": [
       "<Figure size 432x288 with 1 Axes>"
      ]
     },
     "metadata": {
      "needs_background": "light"
     },
     "output_type": "display_data"
    }
   ],
   "source": [
    "show_image(x[2][0])"
   ]
  },
  {
   "cell_type": "code",
   "execution_count": 10,
   "metadata": {},
   "outputs": [],
   "source": [
    "def validate(dataloader, model):\n",
    "    '''Computes accuracy on correctly predicted 3-digit numbers.\n",
    "    '''\n",
    "    model.eval()\n",
    "    \n",
    "    correct = 0\n",
    "    number_samples = 0\n",
    "\n",
    "    for features, labels in tqdm(dataloader):\n",
    "        labels = labels.tolist()\n",
    "        number_samples += len(labels) / 3\n",
    "\n",
    "        with torch.no_grad():\n",
    "            outp = model(features)\n",
    "        pred = outp.argmax(-1).tolist()\n",
    "\n",
    "        # Check wether the whole number was predicted correctly\n",
    "        for i in range(0, len(pred), 3):\n",
    "            correct += pred[i : i + 3] == labels[i : i + 3]\n",
    "\n",
    "    accuracy = correct / number_samples\n",
    "\n",
    "    return accuracy"
   ]
  },
  {
   "cell_type": "markdown",
   "metadata": {},
   "source": [
    "### Training"
   ]
  },
  {
   "cell_type": "code",
   "execution_count": 52,
   "metadata": {},
   "outputs": [],
   "source": [
    "def train_model(\n",
    "        model,\n",
    "        model_name,\n",
    "        num_epochs=10,\n",
    "        print_res=True):\n",
    "    \n",
    "    model.double()\n",
    "    model = model.to(device)\n",
    "    criterion = nn.CrossEntropyLoss()\n",
    "    optimizer = torch.optim.AdamW(model.parameters())\n",
    "\n",
    "    accuracy = {\"train\": [], \"valid\": []}\n",
    "    best_accuracy = 0\n",
    "\n",
    "\n",
    "    for epoch in range(num_epochs):\n",
    "        print('Epoch:', epoch + 1)\n",
    "\n",
    "        for x_batch, y_batch in tqdm(train_loader, position=0, leave=True):\n",
    "\n",
    "            x_batch = x_batch.to(device)\n",
    "            y_batch = y_batch.to(device)\n",
    "\n",
    "            model.train()\n",
    "            optimizer.zero_grad()\n",
    "            outp = model(x_batch)\n",
    "\n",
    "            loss = criterion(outp, y_batch)\n",
    "            loss.backward()\n",
    "\n",
    "            optimizer.step()\n",
    "\n",
    "        accuracy['train'].append(validate(train_loader_for_val, model))\n",
    "        accuracy['valid'].append(validate(valid_loader, model))\n",
    "\n",
    "\n",
    "        if accuracy['valid'][-1] > best_accuracy:\n",
    "            torch.save(model.state_dict(), f'./models/{model_name}.pt')\n",
    "            best_accuracy = accuracy['valid'][-1]\n",
    "\n",
    "    if print_res == True:\n",
    "        print('\\nBest accuracy:\\n')\n",
    "        print('train:', round(max(accuracy['train']), 4))\n",
    "        print('valid:', round(max(accuracy['valid']), 4))\n",
    "    model.load_state_dict(torch.load(f'./models/{model_name}.pt', map_location=device))"
   ]
  },
  {
   "cell_type": "markdown",
   "metadata": {},
   "source": [
    "Let's now apply best model from the previous task."
   ]
  },
  {
   "cell_type": "code",
   "execution_count": 13,
   "metadata": {},
   "outputs": [],
   "source": [
    "class ANN(nn.Module):\n",
    "    def __init__(self):\n",
    "        super(ANN, self).__init__()\n",
    "        self.net = nn.Sequential(\n",
    "            nn.Linear(28 * 28, 64),\n",
    "            nn.Tanh(),\n",
    "            nn.BatchNorm1d(64),\n",
    "            nn.Linear(64, 10)\n",
    "        )\n",
    "        \n",
    "    def forward(self, x):\n",
    "        x = x.view(-1, 28 * 28)\n",
    "        output = self.net(x)\n",
    "        return output"
   ]
  },
  {
   "cell_type": "code",
   "execution_count": 63,
   "metadata": {},
   "outputs": [],
   "source": [
    "ann_model = ANN()"
   ]
  },
  {
   "cell_type": "code",
   "execution_count": 71,
   "metadata": {},
   "outputs": [
    {
     "name": "stdout",
     "output_type": "stream",
     "text": [
      "Epoch: 1\n"
     ]
    },
    {
     "name": "stderr",
     "output_type": "stream",
     "text": [
      "100%|██████████| 790/790 [00:05<00:00, 147.61it/s]\n",
      "100%|██████████| 790/790 [00:02<00:00, 265.59it/s]\n",
      "100%|██████████| 198/198 [00:00<00:00, 206.33it/s]"
     ]
    },
    {
     "name": "stdout",
     "output_type": "stream",
     "text": [
      "\n",
      "Best accuracy:\n",
      "\n",
      "train: 0.9964\n",
      "valid: 0.9902\n"
     ]
    },
    {
     "name": "stderr",
     "output_type": "stream",
     "text": [
      "\n"
     ]
    }
   ],
   "source": [
    "train_model(ann_model, 'ann_model', num_epochs=1)"
   ]
  },
  {
   "cell_type": "markdown",
   "metadata": {},
   "source": [
    "I decided to implement [LeNet architecture](https://en.wikipedia.org/wiki/LeNet) for this task for the start."
   ]
  },
  {
   "cell_type": "code",
   "execution_count": 12,
   "metadata": {},
   "outputs": [],
   "source": [
    "class LeNet(nn.Module):\n",
    "    def __init__(self):\n",
    "        super(LeNet, self).__init__()\n",
    "        self.conv1 = nn.Conv2d(1, 6, 3)\n",
    "        self.pool1 = nn.MaxPool2d(2)\n",
    "        self.conv2 = nn.Conv2d(6, 16, 3)\n",
    "        self.pool2 = nn.MaxPool2d(2)\n",
    "        self.fc1 = nn.Linear(400, 120) \n",
    "        self.fc2 = nn.Linear(120, 84)\n",
    "        self.fc3 = nn.Linear(84, 10)\n",
    "\n",
    "    def forward(self, x):\n",
    "        x = self.pool1(F.relu(self.conv1(x)))\n",
    "        x = self.pool2(F.relu(self.conv2(x)))\n",
    "        #print(x.shape)\n",
    "        x = x.view(-1, 400)\n",
    "        x = F.relu(self.fc1(x))\n",
    "        x = F.relu(self.fc2(x))\n",
    "        x = self.fc3(x)\n",
    "        return x"
   ]
  },
  {
   "cell_type": "code",
   "execution_count": 76,
   "metadata": {},
   "outputs": [
    {
     "data": {
      "text/plain": [
       "LeNet(\n",
       "  (conv1): Conv2d(1, 6, kernel_size=(3, 3), stride=(1, 1))\n",
       "  (pool1): MaxPool2d(kernel_size=2, stride=2, padding=0, dilation=1, ceil_mode=False)\n",
       "  (conv2): Conv2d(6, 16, kernel_size=(3, 3), stride=(1, 1))\n",
       "  (pool2): MaxPool2d(kernel_size=2, stride=2, padding=0, dilation=1, ceil_mode=False)\n",
       "  (fc1): Linear(in_features=400, out_features=120, bias=True)\n",
       "  (fc2): Linear(in_features=120, out_features=84, bias=True)\n",
       "  (fc3): Linear(in_features=84, out_features=10, bias=True)\n",
       ")"
      ]
     },
     "execution_count": 76,
     "metadata": {},
     "output_type": "execute_result"
    }
   ],
   "source": [
    "model = LeNet()\n",
    "model.double()"
   ]
  },
  {
   "cell_type": "code",
   "execution_count": 58,
   "metadata": {},
   "outputs": [
    {
     "name": "stdout",
     "output_type": "stream",
     "text": [
      "Epoch: 1\n"
     ]
    },
    {
     "name": "stderr",
     "output_type": "stream",
     "text": [
      "100%|██████████| 790/790 [00:33<00:00, 23.59it/s]\n",
      "100%|██████████| 790/790 [00:15<00:00, 50.96it/s]\n",
      "100%|██████████| 198/198 [00:04<00:00, 45.81it/s]\n"
     ]
    },
    {
     "name": "stdout",
     "output_type": "stream",
     "text": [
      "\n",
      "Best accuracy:\n",
      "\n",
      "train: 0.9958\n",
      "valid: 0.991\n"
     ]
    }
   ],
   "source": [
    "train_model(model, 'LeNet', num_epochs=1)"
   ]
  },
  {
   "cell_type": "markdown",
   "metadata": {},
   "source": [
    "## Conclusion"
   ]
  },
  {
   "cell_type": "markdown",
   "metadata": {},
   "source": [
    "As we can see both models showed almost equal accuracy. Let's compare their indference speed."
   ]
  },
  {
   "cell_type": "code",
   "execution_count": 14,
   "metadata": {},
   "outputs": [],
   "source": [
    "device = 'cpu'"
   ]
  },
  {
   "cell_type": "code",
   "execution_count": 22,
   "metadata": {},
   "outputs": [
    {
     "data": {
      "text/plain": [
       "<All keys matched successfully>"
      ]
     },
     "execution_count": 22,
     "metadata": {},
     "output_type": "execute_result"
    }
   ],
   "source": [
    "le_net = LeNet()\n",
    "le_net.double()\n",
    "le_net.load_state_dict(torch.load('./models/LeNet.pt', map_location=device))\n"
   ]
  },
  {
   "cell_type": "code",
   "execution_count": 23,
   "metadata": {},
   "outputs": [
    {
     "name": "stderr",
     "output_type": "stream",
     "text": [
      "100%|██████████| 247/247 [00:06<00:00, 36.52it/s]\n"
     ]
    },
    {
     "data": {
      "text/plain": [
       "6.768904447555542"
      ]
     },
     "execution_count": 23,
     "metadata": {},
     "output_type": "execute_result"
    }
   ],
   "source": [
    "t = time()\n",
    "validate(test_loader, le_net)\n",
    "time() - t"
   ]
  },
  {
   "cell_type": "code",
   "execution_count": 24,
   "metadata": {},
   "outputs": [
    {
     "data": {
      "text/plain": [
       "<All keys matched successfully>"
      ]
     },
     "execution_count": 24,
     "metadata": {},
     "output_type": "execute_result"
    }
   ],
   "source": [
    "ann = ANN()\n",
    "ann.double()\n",
    "ann.load_state_dict(torch.load('./models/ann_model.pt', map_location=device))"
   ]
  },
  {
   "cell_type": "code",
   "execution_count": 25,
   "metadata": {},
   "outputs": [
    {
     "name": "stderr",
     "output_type": "stream",
     "text": [
      "100%|██████████| 247/247 [00:01<00:00, 126.12it/s]\n"
     ]
    },
    {
     "data": {
      "text/plain": [
       "1.963313102722168"
      ]
     },
     "execution_count": 25,
     "metadata": {},
     "output_type": "execute_result"
    }
   ],
   "source": [
    "t = time()\n",
    "validate(test_loader, ann)\n",
    "time() - t"
   ]
  },
  {
   "cell_type": "markdown",
   "metadata": {},
   "source": [
    "As we can see simple ann model works more than 3 times faster than CNN model but models have almost the same number of trainable parameters."
   ]
  },
  {
   "cell_type": "code",
   "execution_count": 26,
   "metadata": {},
   "outputs": [
    {
     "data": {
      "text/plain": [
       "60074"
      ]
     },
     "execution_count": 26,
     "metadata": {},
     "output_type": "execute_result"
    }
   ],
   "source": [
    "sum(p.numel() for p in le_net.parameters())"
   ]
  },
  {
   "cell_type": "code",
   "execution_count": 27,
   "metadata": {},
   "outputs": [
    {
     "data": {
      "text/plain": [
       "51018"
      ]
     },
     "execution_count": 27,
     "metadata": {},
     "output_type": "execute_result"
    }
   ],
   "source": [
    "sum(p.numel() for p in ann.parameters())"
   ]
  },
  {
   "cell_type": "markdown",
   "metadata": {
    "collapsed": false,
    "pycharm": {
     "name": "#%% md\n"
    }
   },
   "source": [
    "## Questions\n",
    "1. What preprocessing techniques did you use? Why?\n",
    "    - I cropped digits from each image and turned them into mnist format\n",
    "2. What data augmentation techniques did you use?\n",
    "    - I did not use data augmenatation because images are scaled in the same way and good reprocessing gave 99% accuracy even with very simple models. Data augmentation is needed to provide more stable and generalized predictions on test data. With my preprocessing of images I do not see suitable augmentation for this task.\n",
    "3. Describe the fine-tuning process and how you reached your final CNN model.\n",
    "    - I decided to try LeNet architecture it showed 99% accuracy. I cannot get better results becuase of noise in the data."
   ]
  },
  {
   "cell_type": "markdown",
   "metadata": {
    "collapsed": false,
    "pycharm": {
     "name": "#%% md\n"
    }
   },
   "source": [
    "# Task 3: Decision Trees and Ensemble Learning (15%)"
   ]
  },
  {
   "cell_type": "markdown",
   "metadata": {},
   "source": [
    "For the `loan_data.csv` data, predict if the bank should give a loan or not.\n",
    "You need to do the following:\n",
    "- Fine-tune a decision tree on the data\n",
    "- Fine-tune a random forest on the data\n",
    "- Compare their performance\n",
    "- Visualize your DT and one of the trees from the RF\n",
    "\n",
    "For evaluating your models, do $80/20$ train test split.\n",
    "\n",
    "### Data\n",
    "- `credit.policy`: Whether the customer meets the credit underwriting criteria.\n",
    "- `purpose`: The purpose of the loan.\n",
    "- `int.rate`: The interest rate of the loan.\n",
    "- `installment`: The monthly installments owed by the borrower if the loan is funded.\n",
    "- `log.annual.inc`: The natural logarithm of the self-reported annual income of the borrower.\n",
    "- `dti`: The debt-to-income ratio of the borrower.\n",
    "- `fico`: The FICO credit score of the borrower.\n",
    "- `days.with.cr.line`: The number of days the borrower has had a credit line.\n",
    "- `revol.bal`: The borrower's revolving balance.\n",
    "- `revol.util`: The borrower's revolving line utilization rate."
   ]
  },
  {
   "cell_type": "markdown",
   "metadata": {},
   "source": [
    "Let's firstly look at our data. `credit.policy` column is our target. \n",
    "\n",
    "As bank we are mostly interested in finding all the customers who will not pay the loan **(recall)**. But we also do not want to loose customers who will repay the loan **(precision)**.\n",
    "\n",
    "So I will use **f1 score** as metric for this task where terget is people whom we do not want to give a loan."
   ]
  },
  {
   "cell_type": "code",
   "execution_count": 2,
   "metadata": {
    "collapsed": false,
    "pycharm": {
     "name": "#%%\n"
    }
   },
   "outputs": [
    {
     "data": {
      "text/html": [
       "<div>\n",
       "<style scoped>\n",
       "    .dataframe tbody tr th:only-of-type {\n",
       "        vertical-align: middle;\n",
       "    }\n",
       "\n",
       "    .dataframe tbody tr th {\n",
       "        vertical-align: top;\n",
       "    }\n",
       "\n",
       "    .dataframe thead th {\n",
       "        text-align: right;\n",
       "    }\n",
       "</style>\n",
       "<table border=\"1\" class=\"dataframe\">\n",
       "  <thead>\n",
       "    <tr style=\"text-align: right;\">\n",
       "      <th></th>\n",
       "      <th>credit.policy</th>\n",
       "      <th>purpose</th>\n",
       "      <th>int.rate</th>\n",
       "      <th>installment</th>\n",
       "      <th>log.annual.inc</th>\n",
       "      <th>dti</th>\n",
       "      <th>fico</th>\n",
       "      <th>days.with.cr.line</th>\n",
       "      <th>revol.bal</th>\n",
       "      <th>revol.util</th>\n",
       "      <th>inq.last.6mths</th>\n",
       "      <th>delinq.2yrs</th>\n",
       "      <th>pub.rec</th>\n",
       "      <th>not.fully.paid</th>\n",
       "    </tr>\n",
       "  </thead>\n",
       "  <tbody>\n",
       "    <tr>\n",
       "      <th>0</th>\n",
       "      <td>1</td>\n",
       "      <td>debt_consolidation</td>\n",
       "      <td>0.1189</td>\n",
       "      <td>829.10</td>\n",
       "      <td>11.350407</td>\n",
       "      <td>19.48</td>\n",
       "      <td>737</td>\n",
       "      <td>5639.958333</td>\n",
       "      <td>28854</td>\n",
       "      <td>52.1</td>\n",
       "      <td>0</td>\n",
       "      <td>0</td>\n",
       "      <td>0</td>\n",
       "      <td>0</td>\n",
       "    </tr>\n",
       "    <tr>\n",
       "      <th>1</th>\n",
       "      <td>1</td>\n",
       "      <td>credit_card</td>\n",
       "      <td>0.1071</td>\n",
       "      <td>228.22</td>\n",
       "      <td>11.082143</td>\n",
       "      <td>14.29</td>\n",
       "      <td>707</td>\n",
       "      <td>2760.000000</td>\n",
       "      <td>33623</td>\n",
       "      <td>76.7</td>\n",
       "      <td>0</td>\n",
       "      <td>0</td>\n",
       "      <td>0</td>\n",
       "      <td>0</td>\n",
       "    </tr>\n",
       "    <tr>\n",
       "      <th>2</th>\n",
       "      <td>1</td>\n",
       "      <td>debt_consolidation</td>\n",
       "      <td>0.1357</td>\n",
       "      <td>366.86</td>\n",
       "      <td>10.373491</td>\n",
       "      <td>11.63</td>\n",
       "      <td>682</td>\n",
       "      <td>4710.000000</td>\n",
       "      <td>3511</td>\n",
       "      <td>25.6</td>\n",
       "      <td>1</td>\n",
       "      <td>0</td>\n",
       "      <td>0</td>\n",
       "      <td>0</td>\n",
       "    </tr>\n",
       "    <tr>\n",
       "      <th>3</th>\n",
       "      <td>1</td>\n",
       "      <td>debt_consolidation</td>\n",
       "      <td>0.1008</td>\n",
       "      <td>162.34</td>\n",
       "      <td>11.350407</td>\n",
       "      <td>8.10</td>\n",
       "      <td>712</td>\n",
       "      <td>2699.958333</td>\n",
       "      <td>33667</td>\n",
       "      <td>73.2</td>\n",
       "      <td>1</td>\n",
       "      <td>0</td>\n",
       "      <td>0</td>\n",
       "      <td>0</td>\n",
       "    </tr>\n",
       "    <tr>\n",
       "      <th>4</th>\n",
       "      <td>1</td>\n",
       "      <td>credit_card</td>\n",
       "      <td>0.1426</td>\n",
       "      <td>102.92</td>\n",
       "      <td>11.299732</td>\n",
       "      <td>14.97</td>\n",
       "      <td>667</td>\n",
       "      <td>4066.000000</td>\n",
       "      <td>4740</td>\n",
       "      <td>39.5</td>\n",
       "      <td>0</td>\n",
       "      <td>1</td>\n",
       "      <td>0</td>\n",
       "      <td>0</td>\n",
       "    </tr>\n",
       "    <tr>\n",
       "      <th>...</th>\n",
       "      <td>...</td>\n",
       "      <td>...</td>\n",
       "      <td>...</td>\n",
       "      <td>...</td>\n",
       "      <td>...</td>\n",
       "      <td>...</td>\n",
       "      <td>...</td>\n",
       "      <td>...</td>\n",
       "      <td>...</td>\n",
       "      <td>...</td>\n",
       "      <td>...</td>\n",
       "      <td>...</td>\n",
       "      <td>...</td>\n",
       "      <td>...</td>\n",
       "    </tr>\n",
       "    <tr>\n",
       "      <th>9573</th>\n",
       "      <td>0</td>\n",
       "      <td>all_other</td>\n",
       "      <td>0.1461</td>\n",
       "      <td>344.76</td>\n",
       "      <td>12.180755</td>\n",
       "      <td>10.39</td>\n",
       "      <td>672</td>\n",
       "      <td>10474.000000</td>\n",
       "      <td>215372</td>\n",
       "      <td>82.1</td>\n",
       "      <td>2</td>\n",
       "      <td>0</td>\n",
       "      <td>0</td>\n",
       "      <td>1</td>\n",
       "    </tr>\n",
       "    <tr>\n",
       "      <th>9574</th>\n",
       "      <td>0</td>\n",
       "      <td>all_other</td>\n",
       "      <td>0.1253</td>\n",
       "      <td>257.70</td>\n",
       "      <td>11.141862</td>\n",
       "      <td>0.21</td>\n",
       "      <td>722</td>\n",
       "      <td>4380.000000</td>\n",
       "      <td>184</td>\n",
       "      <td>1.1</td>\n",
       "      <td>5</td>\n",
       "      <td>0</td>\n",
       "      <td>0</td>\n",
       "      <td>1</td>\n",
       "    </tr>\n",
       "    <tr>\n",
       "      <th>9575</th>\n",
       "      <td>0</td>\n",
       "      <td>debt_consolidation</td>\n",
       "      <td>0.1071</td>\n",
       "      <td>97.81</td>\n",
       "      <td>10.596635</td>\n",
       "      <td>13.09</td>\n",
       "      <td>687</td>\n",
       "      <td>3450.041667</td>\n",
       "      <td>10036</td>\n",
       "      <td>82.9</td>\n",
       "      <td>8</td>\n",
       "      <td>0</td>\n",
       "      <td>0</td>\n",
       "      <td>1</td>\n",
       "    </tr>\n",
       "    <tr>\n",
       "      <th>9576</th>\n",
       "      <td>0</td>\n",
       "      <td>home_improvement</td>\n",
       "      <td>0.1600</td>\n",
       "      <td>351.58</td>\n",
       "      <td>10.819778</td>\n",
       "      <td>19.18</td>\n",
       "      <td>692</td>\n",
       "      <td>1800.000000</td>\n",
       "      <td>0</td>\n",
       "      <td>3.2</td>\n",
       "      <td>5</td>\n",
       "      <td>0</td>\n",
       "      <td>0</td>\n",
       "      <td>1</td>\n",
       "    </tr>\n",
       "    <tr>\n",
       "      <th>9577</th>\n",
       "      <td>0</td>\n",
       "      <td>debt_consolidation</td>\n",
       "      <td>0.1392</td>\n",
       "      <td>853.43</td>\n",
       "      <td>11.264464</td>\n",
       "      <td>16.28</td>\n",
       "      <td>732</td>\n",
       "      <td>4740.000000</td>\n",
       "      <td>37879</td>\n",
       "      <td>57.0</td>\n",
       "      <td>6</td>\n",
       "      <td>0</td>\n",
       "      <td>0</td>\n",
       "      <td>1</td>\n",
       "    </tr>\n",
       "  </tbody>\n",
       "</table>\n",
       "<p>9578 rows × 14 columns</p>\n",
       "</div>"
      ],
      "text/plain": [
       "      credit.policy             purpose  int.rate  installment  \\\n",
       "0                 1  debt_consolidation    0.1189       829.10   \n",
       "1                 1         credit_card    0.1071       228.22   \n",
       "2                 1  debt_consolidation    0.1357       366.86   \n",
       "3                 1  debt_consolidation    0.1008       162.34   \n",
       "4                 1         credit_card    0.1426       102.92   \n",
       "...             ...                 ...       ...          ...   \n",
       "9573              0           all_other    0.1461       344.76   \n",
       "9574              0           all_other    0.1253       257.70   \n",
       "9575              0  debt_consolidation    0.1071        97.81   \n",
       "9576              0    home_improvement    0.1600       351.58   \n",
       "9577              0  debt_consolidation    0.1392       853.43   \n",
       "\n",
       "      log.annual.inc    dti  fico  days.with.cr.line  revol.bal  revol.util  \\\n",
       "0          11.350407  19.48   737        5639.958333      28854        52.1   \n",
       "1          11.082143  14.29   707        2760.000000      33623        76.7   \n",
       "2          10.373491  11.63   682        4710.000000       3511        25.6   \n",
       "3          11.350407   8.10   712        2699.958333      33667        73.2   \n",
       "4          11.299732  14.97   667        4066.000000       4740        39.5   \n",
       "...              ...    ...   ...                ...        ...         ...   \n",
       "9573       12.180755  10.39   672       10474.000000     215372        82.1   \n",
       "9574       11.141862   0.21   722        4380.000000        184         1.1   \n",
       "9575       10.596635  13.09   687        3450.041667      10036        82.9   \n",
       "9576       10.819778  19.18   692        1800.000000          0         3.2   \n",
       "9577       11.264464  16.28   732        4740.000000      37879        57.0   \n",
       "\n",
       "      inq.last.6mths  delinq.2yrs  pub.rec  not.fully.paid  \n",
       "0                  0            0        0               0  \n",
       "1                  0            0        0               0  \n",
       "2                  1            0        0               0  \n",
       "3                  1            0        0               0  \n",
       "4                  0            1        0               0  \n",
       "...              ...          ...      ...             ...  \n",
       "9573               2            0        0               1  \n",
       "9574               5            0        0               1  \n",
       "9575               8            0        0               1  \n",
       "9576               5            0        0               1  \n",
       "9577               6            0        0               1  \n",
       "\n",
       "[9578 rows x 14 columns]"
      ]
     },
     "execution_count": 2,
     "metadata": {},
     "output_type": "execute_result"
    }
   ],
   "source": [
    "df = pd.read_csv('loan_data.csv')\n",
    "df"
   ]
  },
  {
   "cell_type": "markdown",
   "metadata": {},
   "source": [
    "Let's take a look at our table."
   ]
  },
  {
   "cell_type": "code",
   "execution_count": 216,
   "metadata": {},
   "outputs": [
    {
     "data": {
      "text/plain": [
       "credit.policy        0\n",
       "purpose              0\n",
       "int.rate             0\n",
       "installment          0\n",
       "log.annual.inc       0\n",
       "dti                  0\n",
       "fico                 0\n",
       "days.with.cr.line    0\n",
       "revol.bal            0\n",
       "revol.util           0\n",
       "inq.last.6mths       0\n",
       "delinq.2yrs          0\n",
       "pub.rec              0\n",
       "not.fully.paid       0\n",
       "dtype: int64"
      ]
     },
     "execution_count": 216,
     "metadata": {},
     "output_type": "execute_result"
    }
   ],
   "source": [
    "df.isnull().sum()"
   ]
  },
  {
   "cell_type": "markdown",
   "metadata": {},
   "source": [
    "There is no missed data in the table."
   ]
  },
  {
   "cell_type": "code",
   "execution_count": 169,
   "metadata": {},
   "outputs": [
    {
     "data": {
      "text/plain": [
       "credit.policy          int64\n",
       "purpose               object\n",
       "int.rate             float64\n",
       "installment          float64\n",
       "log.annual.inc       float64\n",
       "dti                  float64\n",
       "fico                   int64\n",
       "days.with.cr.line    float64\n",
       "revol.bal              int64\n",
       "revol.util           float64\n",
       "inq.last.6mths         int64\n",
       "delinq.2yrs            int64\n",
       "pub.rec                int64\n",
       "not.fully.paid         int64\n",
       "dtype: object"
      ]
     },
     "execution_count": 169,
     "metadata": {},
     "output_type": "execute_result"
    }
   ],
   "source": [
    "df.dtypes"
   ]
  },
  {
   "cell_type": "markdown",
   "metadata": {},
   "source": [
    "I need to encode `purpose column` with one-hot vectors as I can not arramge these classes. Data scaling is not needed for desicion trees."
   ]
  },
  {
   "cell_type": "code",
   "execution_count": 3,
   "metadata": {},
   "outputs": [
    {
     "data": {
      "text/html": [
       "<div>\n",
       "<style scoped>\n",
       "    .dataframe tbody tr th:only-of-type {\n",
       "        vertical-align: middle;\n",
       "    }\n",
       "\n",
       "    .dataframe tbody tr th {\n",
       "        vertical-align: top;\n",
       "    }\n",
       "\n",
       "    .dataframe thead th {\n",
       "        text-align: right;\n",
       "    }\n",
       "</style>\n",
       "<table border=\"1\" class=\"dataframe\">\n",
       "  <thead>\n",
       "    <tr style=\"text-align: right;\">\n",
       "      <th></th>\n",
       "      <th>credit.policy</th>\n",
       "      <th>int.rate</th>\n",
       "      <th>installment</th>\n",
       "      <th>log.annual.inc</th>\n",
       "      <th>dti</th>\n",
       "      <th>fico</th>\n",
       "      <th>days.with.cr.line</th>\n",
       "      <th>revol.bal</th>\n",
       "      <th>revol.util</th>\n",
       "      <th>inq.last.6mths</th>\n",
       "      <th>delinq.2yrs</th>\n",
       "      <th>pub.rec</th>\n",
       "      <th>not.fully.paid</th>\n",
       "      <th>all_other</th>\n",
       "      <th>credit_card</th>\n",
       "      <th>debt_consolidation</th>\n",
       "      <th>educational</th>\n",
       "      <th>home_improvement</th>\n",
       "      <th>major_purchase</th>\n",
       "      <th>small_business</th>\n",
       "    </tr>\n",
       "  </thead>\n",
       "  <tbody>\n",
       "    <tr>\n",
       "      <th>0</th>\n",
       "      <td>1</td>\n",
       "      <td>0.1189</td>\n",
       "      <td>829.10</td>\n",
       "      <td>11.350407</td>\n",
       "      <td>19.48</td>\n",
       "      <td>737</td>\n",
       "      <td>5639.958333</td>\n",
       "      <td>28854</td>\n",
       "      <td>52.1</td>\n",
       "      <td>0</td>\n",
       "      <td>0</td>\n",
       "      <td>0</td>\n",
       "      <td>0</td>\n",
       "      <td>0</td>\n",
       "      <td>0</td>\n",
       "      <td>1</td>\n",
       "      <td>0</td>\n",
       "      <td>0</td>\n",
       "      <td>0</td>\n",
       "      <td>0</td>\n",
       "    </tr>\n",
       "    <tr>\n",
       "      <th>1</th>\n",
       "      <td>1</td>\n",
       "      <td>0.1071</td>\n",
       "      <td>228.22</td>\n",
       "      <td>11.082143</td>\n",
       "      <td>14.29</td>\n",
       "      <td>707</td>\n",
       "      <td>2760.000000</td>\n",
       "      <td>33623</td>\n",
       "      <td>76.7</td>\n",
       "      <td>0</td>\n",
       "      <td>0</td>\n",
       "      <td>0</td>\n",
       "      <td>0</td>\n",
       "      <td>0</td>\n",
       "      <td>1</td>\n",
       "      <td>0</td>\n",
       "      <td>0</td>\n",
       "      <td>0</td>\n",
       "      <td>0</td>\n",
       "      <td>0</td>\n",
       "    </tr>\n",
       "    <tr>\n",
       "      <th>2</th>\n",
       "      <td>1</td>\n",
       "      <td>0.1357</td>\n",
       "      <td>366.86</td>\n",
       "      <td>10.373491</td>\n",
       "      <td>11.63</td>\n",
       "      <td>682</td>\n",
       "      <td>4710.000000</td>\n",
       "      <td>3511</td>\n",
       "      <td>25.6</td>\n",
       "      <td>1</td>\n",
       "      <td>0</td>\n",
       "      <td>0</td>\n",
       "      <td>0</td>\n",
       "      <td>0</td>\n",
       "      <td>0</td>\n",
       "      <td>1</td>\n",
       "      <td>0</td>\n",
       "      <td>0</td>\n",
       "      <td>0</td>\n",
       "      <td>0</td>\n",
       "    </tr>\n",
       "    <tr>\n",
       "      <th>3</th>\n",
       "      <td>1</td>\n",
       "      <td>0.1008</td>\n",
       "      <td>162.34</td>\n",
       "      <td>11.350407</td>\n",
       "      <td>8.10</td>\n",
       "      <td>712</td>\n",
       "      <td>2699.958333</td>\n",
       "      <td>33667</td>\n",
       "      <td>73.2</td>\n",
       "      <td>1</td>\n",
       "      <td>0</td>\n",
       "      <td>0</td>\n",
       "      <td>0</td>\n",
       "      <td>0</td>\n",
       "      <td>0</td>\n",
       "      <td>1</td>\n",
       "      <td>0</td>\n",
       "      <td>0</td>\n",
       "      <td>0</td>\n",
       "      <td>0</td>\n",
       "    </tr>\n",
       "    <tr>\n",
       "      <th>4</th>\n",
       "      <td>1</td>\n",
       "      <td>0.1426</td>\n",
       "      <td>102.92</td>\n",
       "      <td>11.299732</td>\n",
       "      <td>14.97</td>\n",
       "      <td>667</td>\n",
       "      <td>4066.000000</td>\n",
       "      <td>4740</td>\n",
       "      <td>39.5</td>\n",
       "      <td>0</td>\n",
       "      <td>1</td>\n",
       "      <td>0</td>\n",
       "      <td>0</td>\n",
       "      <td>0</td>\n",
       "      <td>1</td>\n",
       "      <td>0</td>\n",
       "      <td>0</td>\n",
       "      <td>0</td>\n",
       "      <td>0</td>\n",
       "      <td>0</td>\n",
       "    </tr>\n",
       "  </tbody>\n",
       "</table>\n",
       "</div>"
      ],
      "text/plain": [
       "   credit.policy  int.rate  installment  log.annual.inc    dti  fico  \\\n",
       "0              1    0.1189       829.10       11.350407  19.48   737   \n",
       "1              1    0.1071       228.22       11.082143  14.29   707   \n",
       "2              1    0.1357       366.86       10.373491  11.63   682   \n",
       "3              1    0.1008       162.34       11.350407   8.10   712   \n",
       "4              1    0.1426       102.92       11.299732  14.97   667   \n",
       "\n",
       "   days.with.cr.line  revol.bal  revol.util  inq.last.6mths  delinq.2yrs  \\\n",
       "0        5639.958333      28854        52.1               0            0   \n",
       "1        2760.000000      33623        76.7               0            0   \n",
       "2        4710.000000       3511        25.6               1            0   \n",
       "3        2699.958333      33667        73.2               1            0   \n",
       "4        4066.000000       4740        39.5               0            1   \n",
       "\n",
       "   pub.rec  not.fully.paid  all_other  credit_card  debt_consolidation  \\\n",
       "0        0               0          0            0                   1   \n",
       "1        0               0          0            1                   0   \n",
       "2        0               0          0            0                   1   \n",
       "3        0               0          0            0                   1   \n",
       "4        0               0          0            1                   0   \n",
       "\n",
       "   educational  home_improvement  major_purchase  small_business  \n",
       "0            0                 0               0               0  \n",
       "1            0                 0               0               0  \n",
       "2            0                 0               0               0  \n",
       "3            0                 0               0               0  \n",
       "4            0                 0               0               0  "
      ]
     },
     "execution_count": 3,
     "metadata": {},
     "output_type": "execute_result"
    }
   ],
   "source": [
    "purpose = pd.get_dummies(df['purpose'])\n",
    "df = df.drop('purpose', axis=1)\n",
    "df = pd.concat([df, purpose], axis=1)\n",
    "df.head()"
   ]
  },
  {
   "cell_type": "markdown",
   "metadata": {},
   "source": [
    "Let's now look at our target column. As we can see dataset is unbalanced. Our target class is in the minority. This fact should be handled. \n",
    "\n",
    "In sklearn tree implementation there is a parameter `class_weight` which helps with class balancing. I will use \"balanced\" mode to make classes equal."
   ]
  },
  {
   "cell_type": "code",
   "execution_count": 4,
   "metadata": {},
   "outputs": [
    {
     "data": {
      "text/plain": [
       "1    7710\n",
       "0    1868\n",
       "Name: credit.policy, dtype: int64"
      ]
     },
     "execution_count": 4,
     "metadata": {},
     "output_type": "execute_result"
    }
   ],
   "source": [
    "df['credit.policy'].value_counts()"
   ]
  },
  {
   "cell_type": "markdown",
   "metadata": {},
   "source": [
    "I will inverse data in `credit.policy` column as my target is people who should not get the loan."
   ]
  },
  {
   "cell_type": "code",
   "execution_count": 5,
   "metadata": {},
   "outputs": [],
   "source": [
    "target = ~df['credit.policy'].astype(bool)"
   ]
  },
  {
   "cell_type": "code",
   "execution_count": 6,
   "metadata": {},
   "outputs": [],
   "source": [
    "x_train, x_test, y_train, y_test = train_test_split(\n",
    "    df[df.columns[1:]],\n",
    "    target,\n",
    "    test_size=0.2,\n",
    "    stratify=target,\n",
    "    random_state=SEED\n",
    ")"
   ]
  },
  {
   "cell_type": "markdown",
   "metadata": {},
   "source": [
    "### Training"
   ]
  },
  {
   "cell_type": "code",
   "execution_count": 23,
   "metadata": {},
   "outputs": [],
   "source": [
    "def score_model(tree):\n",
    "    '''Count's model's metrics on test data.\n",
    "    '''\n",
    "    print(\"Best parameters set found on development set:\")\n",
    "    print(tree.best_params_)\n",
    "\n",
    "    y_pred = tree.predict(x_test)\n",
    "    tree_recall = recall_score(y_test, y_pred)\n",
    "    tree_accuracy = accuracy_score(y_test, y_pred)\n",
    "    tree_f1 = f1_score(y_test, y_pred)\n",
    "    tree_precision = precision_score(y_test, y_pred)\n",
    "\n",
    "    print('\\nTest f1:', tree_f1)\n",
    "    print('Test recall:', tree_recall)\n",
    "    print('Precision:', tree_precision)\n",
    "    print('Test accuracy:', tree_accuracy)"
   ]
  },
  {
   "cell_type": "markdown",
   "metadata": {},
   "source": [
    "Let's fine tune a single tree with help of GridSearchCV.\n",
    "\n",
    "We have unbalanced classes in our dataset, it can be handled by parameter `class_weight='balanced'`"
   ]
  },
  {
   "cell_type": "code",
   "execution_count": 16,
   "metadata": {},
   "outputs": [
    {
     "name": "stdout",
     "output_type": "stream",
     "text": [
      "Best parameters set found on development set:\n",
      "{'ccp_alpha': 0, 'class_weight': None, 'criterion': 'entropy', 'max_depth': 10, 'min_samples_leaf': 1, 'random_state': 42, 'splitter': 'best'}\n",
      "\n",
      "Test f1: 0.971736204576043\n",
      "Test recall: 0.9652406417112299\n",
      "Precision: 0.978319783197832\n",
      "Test accuracy: 0.9890396659707724\n"
     ]
    }
   ],
   "source": [
    "param_grid = [\n",
    "    {'criterion': ['gini', 'entropy', 'log_loss'],\n",
    "    'splitter': ['best', 'random'],\n",
    "    'max_depth': list(range(4, 17, 2)),\n",
    "    'min_samples_leaf': list(range(1, 6)),\n",
    "    'random_state': [42],\n",
    "    'class_weight': ['balanced', None],\n",
    "    'ccp_alpha': [0, 0.005, 0.01, 0.015]\n",
    "    }\n",
    "]\n",
    "\n",
    "tree_clf = GridSearchCV(\n",
    "    estimator=DecisionTreeClassifier(),\n",
    "    cv=5,\n",
    "    scoring='f1',\n",
    "    param_grid=param_grid,\n",
    "    n_jobs=-1,\n",
    "    return_train_score=True\n",
    ")\n",
    "\n",
    "tree_clf.fit(x_train, y_train)\n",
    "\n",
    "score_model(tree_clf)"
   ]
  },
  {
   "cell_type": "markdown",
   "metadata": {},
   "source": [
    "Let's fine tune a random forest with help of GridSearchCV."
   ]
  },
  {
   "cell_type": "code",
   "execution_count": 8,
   "metadata": {},
   "outputs": [
    {
     "name": "stdout",
     "output_type": "stream",
     "text": [
      "Best parameters set found on development set:\n",
      "{'ccp_alpha': 0, 'class_weight': None, 'criterion': 'gini', 'max_depth': 16, 'min_samples_leaf': 1, 'n_estimators': 15, 'n_jobs': -1, 'random_state': 42}\n",
      "\n",
      "Test f1: 0.9587912087912087\n",
      "Test recall: 0.9331550802139037\n",
      "Precision: 0.9858757062146892\n",
      "Test accuracy: 0.9843423799582464\n"
     ]
    }
   ],
   "source": [
    "param_grid = [\n",
    "    {'n_estimators': [3, 7, 15, 25, 50, 100],\n",
    "    'criterion': ['gini', 'entropy', 'log_loss'],\n",
    "    'max_depth': list(range(6, 21, 2)),\n",
    "    'min_samples_leaf': list(range(1, 6)),\n",
    "    'random_state': [42],\n",
    "    'class_weight': ['balanced', None],\n",
    "    'ccp_alpha': [0, 0.005, 0.001],\n",
    "    'n_jobs': [-1]\n",
    "    }\n",
    "]\n",
    "\n",
    "forest_clf = GridSearchCV(\n",
    "    estimator=RandomForestClassifier(),\n",
    "    cv=5,\n",
    "    scoring='f1',\n",
    "    param_grid=param_grid,\n",
    "    n_jobs=-1,\n",
    "    return_train_score=True\n",
    ")\n",
    "\n",
    "forest_clf.fit(x_train, y_train)\n",
    "\n",
    "score_model(forest_clf)"
   ]
  },
  {
   "cell_type": "code",
   "execution_count": 245,
   "metadata": {},
   "outputs": [
    {
     "name": "stdout",
     "output_type": "stream",
     "text": [
      "Best parameters set found on development set:\n",
      "{'ccp_alpha': 0.001, 'class_weight': 'balanced', 'criterion': 'gini', 'max_depth': 14, 'min_samples_leaf': 2, 'n_estimators': 3, 'n_jobs': -1, 'random_state': 42}\n",
      "\n",
      "Test recall: 0.9572192513368984\n",
      "Precision: 0.9347258485639687\n",
      "Test f1: 0.9458388375165125\n",
      "Test accuracy: 0.9786012526096033\n"
     ]
    }
   ],
   "source": [
    "param_grid = [\n",
    "    {'n_estimators': [3, 7, 15, 25, 50, 100],\n",
    "    'criterion': ['gini', 'entropy', 'log_loss'],\n",
    "    'max_depth': list(range(6, 21, 2)),\n",
    "    'min_samples_leaf': list(range(1, 6)),\n",
    "    'random_state': [42],\n",
    "    'class_weight': ['balanced', None],\n",
    "    'ccp_alpha': [0, 0.005, 0.001],\n",
    "    'n_jobs': [-1]\n",
    "    }\n",
    "]\n",
    "\n",
    "forest_clf = GridSearchCV(\n",
    "    estimator=RandomForestClassifier(),\n",
    "    cv=5,\n",
    "    scoring='recall',\n",
    "    param_grid=param_grid,\n",
    "    n_jobs=-1,\n",
    "    return_train_score=True\n",
    ")\n",
    "\n",
    "forest_clf.fit(x_train, y_train)\n",
    "\n",
    "score_model(forest_clf)"
   ]
  },
  {
   "cell_type": "markdown",
   "metadata": {},
   "source": [
    "### Analysis"
   ]
  },
  {
   "cell_type": "code",
   "execution_count": 13,
   "metadata": {},
   "outputs": [
    {
     "data": {
      "text/plain": [
       "'credit.policy'"
      ]
     },
     "execution_count": 13,
     "metadata": {},
     "output_type": "execute_result"
    }
   ],
   "source": [
    "df.columns[0]"
   ]
  },
  {
   "cell_type": "markdown",
   "metadata": {},
   "source": [
    "In my implementation people whom we can give a loan have `lable 0` and those whom we should not have `lable 1`."
   ]
  },
  {
   "cell_type": "code",
   "execution_count": 20,
   "metadata": {},
   "outputs": [],
   "source": [
    "def plot_tree(clf):\n",
    "    dot_data = tree.export_graphviz(clf, out_file=None,\n",
    "                       feature_names=df.columns[1:],\n",
    "                       class_names=['give', 'not give'],\n",
    "                       filled=True, rounded=True,\n",
    "                       special_characters=True)\n",
    "    graph = graphviz.Source(dot_data)\n",
    "    return graph"
   ]
  },
  {
   "cell_type": "markdown",
   "metadata": {},
   "source": [
    "Let's plot single tree."
   ]
  },
  {
   "cell_type": "code",
   "execution_count": 21,
   "metadata": {},
   "outputs": [
    {
     "data": {
      "image/svg+xml": "<?xml version=\"1.0\" encoding=\"UTF-8\" standalone=\"no\"?>\n<!DOCTYPE svg PUBLIC \"-//W3C//DTD SVG 1.1//EN\"\n \"http://www.w3.org/Graphics/SVG/1.1/DTD/svg11.dtd\">\n<!-- Generated by graphviz version 2.43.0 (0)\n -->\n<!-- Title: Tree Pages: 1 -->\n<svg width=\"2710pt\" height=\"1266pt\"\n viewBox=\"0.00 0.00 2709.50 1266.00\" xmlns=\"http://www.w3.org/2000/svg\" xmlns:xlink=\"http://www.w3.org/1999/xlink\">\n<g id=\"graph0\" class=\"graph\" transform=\"scale(1 1) rotate(0) translate(4 1262)\">\n<title>Tree</title>\n<polygon fill=\"white\" stroke=\"transparent\" points=\"-4,4 -4,-1262 2705.5,-1262 2705.5,4 -4,4\"/>\n<!-- 0 -->\n<g id=\"node1\" class=\"node\">\n<title>0</title>\n<path fill=\"#eba069\" stroke=\"black\" d=\"M1938,-1258C1938,-1258 1795,-1258 1795,-1258 1789,-1258 1783,-1252 1783,-1246 1783,-1246 1783,-1187 1783,-1187 1783,-1181 1789,-1175 1795,-1175 1795,-1175 1938,-1175 1938,-1175 1944,-1175 1950,-1181 1950,-1187 1950,-1187 1950,-1246 1950,-1246 1950,-1252 1944,-1258 1938,-1258\"/>\n<text text-anchor=\"start\" x=\"1794.5\" y=\"-1242.8\" font-family=\"Helvetica,sans-Serif\" font-size=\"14.00\">inq.last.6mths ≤ 3.5</text>\n<text text-anchor=\"start\" x=\"1809\" y=\"-1227.8\" font-family=\"Helvetica,sans-Serif\" font-size=\"14.00\">entropy = 0.712</text>\n<text text-anchor=\"start\" x=\"1809\" y=\"-1212.8\" font-family=\"Helvetica,sans-Serif\" font-size=\"14.00\">samples = 7662</text>\n<text text-anchor=\"start\" x=\"1791\" y=\"-1197.8\" font-family=\"Helvetica,sans-Serif\" font-size=\"14.00\">value = [6168, 1494]</text>\n<text text-anchor=\"start\" x=\"1824\" y=\"-1182.8\" font-family=\"Helvetica,sans-Serif\" font-size=\"14.00\">class = give</text>\n</g>\n<!-- 1 -->\n<g id=\"node2\" class=\"node\">\n<title>1</title>\n<path fill=\"#e88e4e\" stroke=\"black\" d=\"M1726.5,-1139C1726.5,-1139 1592.5,-1139 1592.5,-1139 1586.5,-1139 1580.5,-1133 1580.5,-1127 1580.5,-1127 1580.5,-1068 1580.5,-1068 1580.5,-1062 1586.5,-1056 1592.5,-1056 1592.5,-1056 1726.5,-1056 1726.5,-1056 1732.5,-1056 1738.5,-1062 1738.5,-1068 1738.5,-1068 1738.5,-1127 1738.5,-1127 1738.5,-1133 1732.5,-1139 1726.5,-1139\"/>\n<text text-anchor=\"start\" x=\"1616\" y=\"-1123.8\" font-family=\"Helvetica,sans-Serif\" font-size=\"14.00\">fico ≤ 659.5</text>\n<text text-anchor=\"start\" x=\"1602\" y=\"-1108.8\" font-family=\"Helvetica,sans-Serif\" font-size=\"14.00\">entropy = 0.455</text>\n<text text-anchor=\"start\" x=\"1602\" y=\"-1093.8\" font-family=\"Helvetica,sans-Serif\" font-size=\"14.00\">samples = 6674</text>\n<text text-anchor=\"start\" x=\"1588.5\" y=\"-1078.8\" font-family=\"Helvetica,sans-Serif\" font-size=\"14.00\">value = [6035, 639]</text>\n<text text-anchor=\"start\" x=\"1617\" y=\"-1063.8\" font-family=\"Helvetica,sans-Serif\" font-size=\"14.00\">class = give</text>\n</g>\n<!-- 0&#45;&gt;1 -->\n<g id=\"edge1\" class=\"edge\">\n<title>0&#45;&gt;1</title>\n<path fill=\"none\" stroke=\"black\" d=\"M1794.68,-1174.91C1777.02,-1164.92 1758,-1154.17 1739.96,-1143.98\"/>\n<polygon fill=\"black\" stroke=\"black\" points=\"1741.62,-1140.89 1731.19,-1139.02 1738.17,-1146.99 1741.62,-1140.89\"/>\n<text text-anchor=\"middle\" x=\"1737.88\" y=\"-1159.41\" font-family=\"Helvetica,sans-Serif\" font-size=\"14.00\">True</text>\n</g>\n<!-- 62 -->\n<g id=\"node63\" class=\"node\">\n<title>62</title>\n<path fill=\"#58ace9\" stroke=\"black\" d=\"M2046,-1139C2046,-1139 1921,-1139 1921,-1139 1915,-1139 1909,-1133 1909,-1127 1909,-1127 1909,-1068 1909,-1068 1909,-1062 1915,-1056 1921,-1056 1921,-1056 2046,-1056 2046,-1056 2052,-1056 2058,-1062 2058,-1068 2058,-1068 2058,-1127 2058,-1127 2058,-1133 2052,-1139 2046,-1139\"/>\n<text text-anchor=\"start\" x=\"1940\" y=\"-1123.8\" font-family=\"Helvetica,sans-Serif\" font-size=\"14.00\">fico ≤ 739.5</text>\n<text text-anchor=\"start\" x=\"1930.5\" y=\"-1108.8\" font-family=\"Helvetica,sans-Serif\" font-size=\"14.00\">entropy = 0.57</text>\n<text text-anchor=\"start\" x=\"1930.5\" y=\"-1093.8\" font-family=\"Helvetica,sans-Serif\" font-size=\"14.00\">samples = 988</text>\n<text text-anchor=\"start\" x=\"1917\" y=\"-1078.8\" font-family=\"Helvetica,sans-Serif\" font-size=\"14.00\">value = [133, 855]</text>\n<text text-anchor=\"start\" x=\"1927.5\" y=\"-1063.8\" font-family=\"Helvetica,sans-Serif\" font-size=\"14.00\">class = not give</text>\n</g>\n<!-- 0&#45;&gt;62 -->\n<g id=\"edge62\" class=\"edge\">\n<title>0&#45;&gt;62</title>\n<path fill=\"none\" stroke=\"black\" d=\"M1907.09,-1174.91C1916.35,-1165.65 1926.27,-1155.73 1935.79,-1146.21\"/>\n<polygon fill=\"black\" stroke=\"black\" points=\"1938.38,-1148.57 1942.98,-1139.02 1933.43,-1143.62 1938.38,-1148.57\"/>\n<text text-anchor=\"middle\" x=\"1942.98\" y=\"-1160.32\" font-family=\"Helvetica,sans-Serif\" font-size=\"14.00\">False</text>\n</g>\n<!-- 2 -->\n<g id=\"node3\" class=\"node\">\n<title>2</title>\n<path fill=\"#3a9de5\" stroke=\"black\" d=\"M1463,-1020C1463,-1020 1356,-1020 1356,-1020 1350,-1020 1344,-1014 1344,-1008 1344,-1008 1344,-949 1344,-949 1344,-943 1350,-937 1356,-937 1356,-937 1463,-937 1463,-937 1469,-937 1475,-943 1475,-949 1475,-949 1475,-1008 1475,-1008 1475,-1014 1469,-1020 1463,-1020\"/>\n<text text-anchor=\"start\" x=\"1366\" y=\"-1004.8\" font-family=\"Helvetica,sans-Serif\" font-size=\"14.00\">fico ≤ 634.5</text>\n<text text-anchor=\"start\" x=\"1352\" y=\"-989.8\" font-family=\"Helvetica,sans-Serif\" font-size=\"14.00\">entropy = 0.034</text>\n<text text-anchor=\"start\" x=\"1356.5\" y=\"-974.8\" font-family=\"Helvetica,sans-Serif\" font-size=\"14.00\">samples = 280</text>\n<text text-anchor=\"start\" x=\"1352\" y=\"-959.8\" font-family=\"Helvetica,sans-Serif\" font-size=\"14.00\">value = [1, 279]</text>\n<text text-anchor=\"start\" x=\"1353.5\" y=\"-944.8\" font-family=\"Helvetica,sans-Serif\" font-size=\"14.00\">class = not give</text>\n</g>\n<!-- 1&#45;&gt;2 -->\n<g id=\"edge2\" class=\"edge\">\n<title>1&#45;&gt;2</title>\n<path fill=\"none\" stroke=\"black\" d=\"M1580.4,-1059.48C1549.67,-1045.1 1514.65,-1028.71 1484.35,-1014.53\"/>\n<polygon fill=\"black\" stroke=\"black\" points=\"1485.64,-1011.27 1475.1,-1010.2 1482.68,-1017.61 1485.64,-1011.27\"/>\n</g>\n<!-- 7 -->\n<g id=\"node8\" class=\"node\">\n<title>7</title>\n<path fill=\"#e78945\" stroke=\"black\" d=\"M1747.5,-1020C1747.5,-1020 1571.5,-1020 1571.5,-1020 1565.5,-1020 1559.5,-1014 1559.5,-1008 1559.5,-1008 1559.5,-949 1559.5,-949 1559.5,-943 1565.5,-937 1571.5,-937 1571.5,-937 1747.5,-937 1747.5,-937 1753.5,-937 1759.5,-943 1759.5,-949 1759.5,-949 1759.5,-1008 1759.5,-1008 1759.5,-1014 1753.5,-1020 1747.5,-1020\"/>\n<text text-anchor=\"start\" x=\"1567.5\" y=\"-1004.8\" font-family=\"Helvetica,sans-Serif\" font-size=\"14.00\">days.with.cr.line ≤ 1109.5</text>\n<text text-anchor=\"start\" x=\"1602\" y=\"-989.8\" font-family=\"Helvetica,sans-Serif\" font-size=\"14.00\">entropy = 0.313</text>\n<text text-anchor=\"start\" x=\"1602\" y=\"-974.8\" font-family=\"Helvetica,sans-Serif\" font-size=\"14.00\">samples = 6394</text>\n<text text-anchor=\"start\" x=\"1588.5\" y=\"-959.8\" font-family=\"Helvetica,sans-Serif\" font-size=\"14.00\">value = [6034, 360]</text>\n<text text-anchor=\"start\" x=\"1617\" y=\"-944.8\" font-family=\"Helvetica,sans-Serif\" font-size=\"14.00\">class = give</text>\n</g>\n<!-- 1&#45;&gt;7 -->\n<g id=\"edge7\" class=\"edge\">\n<title>1&#45;&gt;7</title>\n<path fill=\"none\" stroke=\"black\" d=\"M1659.5,-1055.91C1659.5,-1047.65 1659.5,-1038.86 1659.5,-1030.3\"/>\n<polygon fill=\"black\" stroke=\"black\" points=\"1663,-1030.02 1659.5,-1020.02 1656,-1030.02 1663,-1030.02\"/>\n</g>\n<!-- 3 -->\n<g id=\"node4\" class=\"node\">\n<title>3</title>\n<path fill=\"#6ab6ec\" stroke=\"black\" d=\"M1314,-901C1314,-901 1207,-901 1207,-901 1201,-901 1195,-895 1195,-889 1195,-889 1195,-830 1195,-830 1195,-824 1201,-818 1207,-818 1207,-818 1314,-818 1314,-818 1320,-818 1326,-824 1326,-830 1326,-830 1326,-889 1326,-889 1326,-895 1320,-901 1314,-901\"/>\n<text text-anchor=\"start\" x=\"1204.5\" y=\"-885.8\" font-family=\"Helvetica,sans-Serif\" font-size=\"14.00\">int.rate ≤ 0.153</text>\n<text text-anchor=\"start\" x=\"1203\" y=\"-870.8\" font-family=\"Helvetica,sans-Serif\" font-size=\"14.00\">entropy = 0.722</text>\n<text text-anchor=\"start\" x=\"1216.5\" y=\"-855.8\" font-family=\"Helvetica,sans-Serif\" font-size=\"14.00\">samples = 5</text>\n<text text-anchor=\"start\" x=\"1212\" y=\"-840.8\" font-family=\"Helvetica,sans-Serif\" font-size=\"14.00\">value = [1, 4]</text>\n<text text-anchor=\"start\" x=\"1204.5\" y=\"-825.8\" font-family=\"Helvetica,sans-Serif\" font-size=\"14.00\">class = not give</text>\n</g>\n<!-- 2&#45;&gt;3 -->\n<g id=\"edge3\" class=\"edge\">\n<title>2&#45;&gt;3</title>\n<path fill=\"none\" stroke=\"black\" d=\"M1357.81,-936.91C1345.67,-927.38 1332.64,-917.15 1320.19,-907.37\"/>\n<polygon fill=\"black\" stroke=\"black\" points=\"1322.13,-904.44 1312.1,-901.02 1317.81,-909.95 1322.13,-904.44\"/>\n</g>\n<!-- 6 -->\n<g id=\"node7\" class=\"node\">\n<title>6</title>\n<path fill=\"#399de5\" stroke=\"black\" d=\"M1463,-893.5C1463,-893.5 1356,-893.5 1356,-893.5 1350,-893.5 1344,-887.5 1344,-881.5 1344,-881.5 1344,-837.5 1344,-837.5 1344,-831.5 1350,-825.5 1356,-825.5 1356,-825.5 1463,-825.5 1463,-825.5 1469,-825.5 1475,-831.5 1475,-837.5 1475,-837.5 1475,-881.5 1475,-881.5 1475,-887.5 1469,-893.5 1463,-893.5\"/>\n<text text-anchor=\"start\" x=\"1361\" y=\"-878.3\" font-family=\"Helvetica,sans-Serif\" font-size=\"14.00\">entropy = 0.0</text>\n<text text-anchor=\"start\" x=\"1356.5\" y=\"-863.3\" font-family=\"Helvetica,sans-Serif\" font-size=\"14.00\">samples = 275</text>\n<text text-anchor=\"start\" x=\"1352\" y=\"-848.3\" font-family=\"Helvetica,sans-Serif\" font-size=\"14.00\">value = [0, 275]</text>\n<text text-anchor=\"start\" x=\"1353.5\" y=\"-833.3\" font-family=\"Helvetica,sans-Serif\" font-size=\"14.00\">class = not give</text>\n</g>\n<!-- 2&#45;&gt;6 -->\n<g id=\"edge6\" class=\"edge\">\n<title>2&#45;&gt;6</title>\n<path fill=\"none\" stroke=\"black\" d=\"M1409.5,-936.91C1409.5,-926.2 1409.5,-914.62 1409.5,-903.78\"/>\n<polygon fill=\"black\" stroke=\"black\" points=\"1413,-903.67 1409.5,-893.67 1406,-903.67 1413,-903.67\"/>\n</g>\n<!-- 4 -->\n<g id=\"node5\" class=\"node\">\n<title>4</title>\n<path fill=\"#e58139\" stroke=\"black\" d=\"M1167,-774.5C1167,-774.5 1078,-774.5 1078,-774.5 1072,-774.5 1066,-768.5 1066,-762.5 1066,-762.5 1066,-718.5 1066,-718.5 1066,-712.5 1072,-706.5 1078,-706.5 1078,-706.5 1167,-706.5 1167,-706.5 1173,-706.5 1179,-712.5 1179,-718.5 1179,-718.5 1179,-762.5 1179,-762.5 1179,-768.5 1173,-774.5 1167,-774.5\"/>\n<text text-anchor=\"start\" x=\"1074\" y=\"-759.3\" font-family=\"Helvetica,sans-Serif\" font-size=\"14.00\">entropy = 0.0</text>\n<text text-anchor=\"start\" x=\"1078.5\" y=\"-744.3\" font-family=\"Helvetica,sans-Serif\" font-size=\"14.00\">samples = 1</text>\n<text text-anchor=\"start\" x=\"1074\" y=\"-729.3\" font-family=\"Helvetica,sans-Serif\" font-size=\"14.00\">value = [1, 0]</text>\n<text text-anchor=\"start\" x=\"1080\" y=\"-714.3\" font-family=\"Helvetica,sans-Serif\" font-size=\"14.00\">class = give</text>\n</g>\n<!-- 3&#45;&gt;4 -->\n<g id=\"edge4\" class=\"edge\">\n<title>3&#45;&gt;4</title>\n<path fill=\"none\" stroke=\"black\" d=\"M1212.62,-817.91C1198.7,-806.1 1183.5,-793.22 1169.62,-781.45\"/>\n<polygon fill=\"black\" stroke=\"black\" points=\"1171.51,-778.46 1161.62,-774.67 1166.98,-783.8 1171.51,-778.46\"/>\n</g>\n<!-- 5 -->\n<g id=\"node6\" class=\"node\">\n<title>5</title>\n<path fill=\"#399de5\" stroke=\"black\" d=\"M1313.5,-774.5C1313.5,-774.5 1209.5,-774.5 1209.5,-774.5 1203.5,-774.5 1197.5,-768.5 1197.5,-762.5 1197.5,-762.5 1197.5,-718.5 1197.5,-718.5 1197.5,-712.5 1203.5,-706.5 1209.5,-706.5 1209.5,-706.5 1313.5,-706.5 1313.5,-706.5 1319.5,-706.5 1325.5,-712.5 1325.5,-718.5 1325.5,-718.5 1325.5,-762.5 1325.5,-762.5 1325.5,-768.5 1319.5,-774.5 1313.5,-774.5\"/>\n<text text-anchor=\"start\" x=\"1213\" y=\"-759.3\" font-family=\"Helvetica,sans-Serif\" font-size=\"14.00\">entropy = 0.0</text>\n<text text-anchor=\"start\" x=\"1217.5\" y=\"-744.3\" font-family=\"Helvetica,sans-Serif\" font-size=\"14.00\">samples = 4</text>\n<text text-anchor=\"start\" x=\"1213\" y=\"-729.3\" font-family=\"Helvetica,sans-Serif\" font-size=\"14.00\">value = [0, 4]</text>\n<text text-anchor=\"start\" x=\"1205.5\" y=\"-714.3\" font-family=\"Helvetica,sans-Serif\" font-size=\"14.00\">class = not give</text>\n</g>\n<!-- 3&#45;&gt;5 -->\n<g id=\"edge5\" class=\"edge\">\n<title>3&#45;&gt;5</title>\n<path fill=\"none\" stroke=\"black\" d=\"M1260.85,-817.91C1260.94,-807.2 1261.04,-795.62 1261.13,-784.78\"/>\n<polygon fill=\"black\" stroke=\"black\" points=\"1264.63,-784.7 1261.22,-774.67 1257.63,-784.64 1264.63,-784.7\"/>\n</g>\n<!-- 8 -->\n<g id=\"node9\" class=\"node\">\n<title>8</title>\n<path fill=\"#399de5\" stroke=\"black\" d=\"M1612,-893.5C1612,-893.5 1505,-893.5 1505,-893.5 1499,-893.5 1493,-887.5 1493,-881.5 1493,-881.5 1493,-837.5 1493,-837.5 1493,-831.5 1499,-825.5 1505,-825.5 1505,-825.5 1612,-825.5 1612,-825.5 1618,-825.5 1624,-831.5 1624,-837.5 1624,-837.5 1624,-881.5 1624,-881.5 1624,-887.5 1618,-893.5 1612,-893.5\"/>\n<text text-anchor=\"start\" x=\"1510\" y=\"-878.3\" font-family=\"Helvetica,sans-Serif\" font-size=\"14.00\">entropy = 0.0</text>\n<text text-anchor=\"start\" x=\"1505.5\" y=\"-863.3\" font-family=\"Helvetica,sans-Serif\" font-size=\"14.00\">samples = 140</text>\n<text text-anchor=\"start\" x=\"1501\" y=\"-848.3\" font-family=\"Helvetica,sans-Serif\" font-size=\"14.00\">value = [0, 140]</text>\n<text text-anchor=\"start\" x=\"1502.5\" y=\"-833.3\" font-family=\"Helvetica,sans-Serif\" font-size=\"14.00\">class = not give</text>\n</g>\n<!-- 7&#45;&gt;8 -->\n<g id=\"edge8\" class=\"edge\">\n<title>7&#45;&gt;8</title>\n<path fill=\"none\" stroke=\"black\" d=\"M1624.46,-936.91C1614.55,-925.43 1603.77,-912.94 1593.84,-901.44\"/>\n<polygon fill=\"black\" stroke=\"black\" points=\"1596.32,-898.95 1587.13,-893.67 1591.02,-903.52 1596.32,-898.95\"/>\n</g>\n<!-- 9 -->\n<g id=\"node10\" class=\"node\">\n<title>9</title>\n<path fill=\"#e68640\" stroke=\"black\" d=\"M1794.5,-901C1794.5,-901 1654.5,-901 1654.5,-901 1648.5,-901 1642.5,-895 1642.5,-889 1642.5,-889 1642.5,-830 1642.5,-830 1642.5,-824 1648.5,-818 1654.5,-818 1654.5,-818 1794.5,-818 1794.5,-818 1800.5,-818 1806.5,-824 1806.5,-830 1806.5,-830 1806.5,-889 1806.5,-889 1806.5,-895 1800.5,-901 1794.5,-901\"/>\n<text text-anchor=\"start\" x=\"1650.5\" y=\"-885.8\" font-family=\"Helvetica,sans-Serif\" font-size=\"14.00\">revol.bal ≤ 105421.0</text>\n<text text-anchor=\"start\" x=\"1671.5\" y=\"-870.8\" font-family=\"Helvetica,sans-Serif\" font-size=\"14.00\">entropy = 0.22</text>\n<text text-anchor=\"start\" x=\"1667\" y=\"-855.8\" font-family=\"Helvetica,sans-Serif\" font-size=\"14.00\">samples = 6254</text>\n<text text-anchor=\"start\" x=\"1653.5\" y=\"-840.8\" font-family=\"Helvetica,sans-Serif\" font-size=\"14.00\">value = [6034, 220]</text>\n<text text-anchor=\"start\" x=\"1682\" y=\"-825.8\" font-family=\"Helvetica,sans-Serif\" font-size=\"14.00\">class = give</text>\n</g>\n<!-- 7&#45;&gt;9 -->\n<g id=\"edge9\" class=\"edge\">\n<title>7&#45;&gt;9</title>\n<path fill=\"none\" stroke=\"black\" d=\"M1682.05,-936.91C1686.89,-928.2 1692.06,-918.9 1697.06,-909.89\"/>\n<polygon fill=\"black\" stroke=\"black\" points=\"1700.19,-911.46 1701.99,-901.02 1694.07,-908.06 1700.19,-911.46\"/>\n</g>\n<!-- 10 -->\n<g id=\"node11\" class=\"node\">\n<title>10</title>\n<path fill=\"#e6843d\" stroke=\"black\" d=\"M1525.5,-782C1525.5,-782 1391.5,-782 1391.5,-782 1385.5,-782 1379.5,-776 1379.5,-770 1379.5,-770 1379.5,-711 1379.5,-711 1379.5,-705 1385.5,-699 1391.5,-699 1391.5,-699 1525.5,-699 1525.5,-699 1531.5,-699 1537.5,-705 1537.5,-711 1537.5,-711 1537.5,-770 1537.5,-770 1537.5,-776 1531.5,-782 1525.5,-782\"/>\n<text text-anchor=\"start\" x=\"1414\" y=\"-766.8\" font-family=\"Helvetica,sans-Serif\" font-size=\"14.00\">dti ≤ 24.995</text>\n<text text-anchor=\"start\" x=\"1401\" y=\"-751.8\" font-family=\"Helvetica,sans-Serif\" font-size=\"14.00\">entropy = 0.146</text>\n<text text-anchor=\"start\" x=\"1401\" y=\"-736.8\" font-family=\"Helvetica,sans-Serif\" font-size=\"14.00\">samples = 6132</text>\n<text text-anchor=\"start\" x=\"1387.5\" y=\"-721.8\" font-family=\"Helvetica,sans-Serif\" font-size=\"14.00\">value = [6004, 128]</text>\n<text text-anchor=\"start\" x=\"1416\" y=\"-706.8\" font-family=\"Helvetica,sans-Serif\" font-size=\"14.00\">class = give</text>\n</g>\n<!-- 9&#45;&gt;10 -->\n<g id=\"edge10\" class=\"edge\">\n<title>9&#45;&gt;10</title>\n<path fill=\"none\" stroke=\"black\" d=\"M1642.24,-822.29C1638.95,-820.84 1635.69,-819.41 1632.5,-818 1604.68,-805.76 1574.36,-792.43 1546.94,-780.37\"/>\n<polygon fill=\"black\" stroke=\"black\" points=\"1548.32,-777.16 1537.76,-776.34 1545.51,-783.57 1548.32,-777.16\"/>\n</g>\n<!-- 49 -->\n<g id=\"node50\" class=\"node\">\n<title>49</title>\n<path fill=\"#7abded\" stroke=\"black\" d=\"M1794.5,-782C1794.5,-782 1654.5,-782 1654.5,-782 1648.5,-782 1642.5,-776 1642.5,-770 1642.5,-770 1642.5,-711 1642.5,-711 1642.5,-705 1648.5,-699 1654.5,-699 1654.5,-699 1794.5,-699 1794.5,-699 1800.5,-699 1806.5,-705 1806.5,-711 1806.5,-711 1806.5,-770 1806.5,-770 1806.5,-776 1800.5,-782 1794.5,-782\"/>\n<text text-anchor=\"start\" x=\"1650.5\" y=\"-766.8\" font-family=\"Helvetica,sans-Serif\" font-size=\"14.00\">revol.bal ≤ 149674.5</text>\n<text text-anchor=\"start\" x=\"1667\" y=\"-751.8\" font-family=\"Helvetica,sans-Serif\" font-size=\"14.00\">entropy = 0.805</text>\n<text text-anchor=\"start\" x=\"1671.5\" y=\"-736.8\" font-family=\"Helvetica,sans-Serif\" font-size=\"14.00\">samples = 122</text>\n<text text-anchor=\"start\" x=\"1667\" y=\"-721.8\" font-family=\"Helvetica,sans-Serif\" font-size=\"14.00\">value = [30, 92]</text>\n<text text-anchor=\"start\" x=\"1668.5\" y=\"-706.8\" font-family=\"Helvetica,sans-Serif\" font-size=\"14.00\">class = not give</text>\n</g>\n<!-- 9&#45;&gt;49 -->\n<g id=\"edge49\" class=\"edge\">\n<title>9&#45;&gt;49</title>\n<path fill=\"none\" stroke=\"black\" d=\"M1724.5,-817.91C1724.5,-809.65 1724.5,-800.86 1724.5,-792.3\"/>\n<polygon fill=\"black\" stroke=\"black\" points=\"1728,-792.02 1724.5,-782.02 1721,-792.02 1728,-792.02\"/>\n</g>\n<!-- 11 -->\n<g id=\"node12\" class=\"node\">\n<title>11</title>\n<path fill=\"#e5823b\" stroke=\"black\" d=\"M943,-663C943,-663 812,-663 812,-663 806,-663 800,-657 800,-651 800,-651 800,-592 800,-592 800,-586 806,-580 812,-580 812,-580 943,-580 943,-580 949,-580 955,-586 955,-592 955,-592 955,-651 955,-651 955,-657 949,-663 943,-663\"/>\n<text text-anchor=\"start\" x=\"808\" y=\"-647.8\" font-family=\"Helvetica,sans-Serif\" font-size=\"14.00\">revol.bal ≤ 40516.0</text>\n<text text-anchor=\"start\" x=\"820\" y=\"-632.8\" font-family=\"Helvetica,sans-Serif\" font-size=\"14.00\">entropy = 0.085</text>\n<text text-anchor=\"start\" x=\"820\" y=\"-617.8\" font-family=\"Helvetica,sans-Serif\" font-size=\"14.00\">samples = 6066</text>\n<text text-anchor=\"start\" x=\"811\" y=\"-602.8\" font-family=\"Helvetica,sans-Serif\" font-size=\"14.00\">value = [6001, 65]</text>\n<text text-anchor=\"start\" x=\"835\" y=\"-587.8\" font-family=\"Helvetica,sans-Serif\" font-size=\"14.00\">class = give</text>\n</g>\n<!-- 10&#45;&gt;11 -->\n<g id=\"edge11\" class=\"edge\">\n<title>10&#45;&gt;11</title>\n<path fill=\"none\" stroke=\"black\" d=\"M1379.3,-711.68C1364.52,-707.05 1349.13,-702.59 1334.5,-699 1207.62,-667.85 1057.79,-645.43 965.2,-633.21\"/>\n<polygon fill=\"black\" stroke=\"black\" points=\"965.4,-629.7 955.03,-631.87 964.5,-636.64 965.4,-629.7\"/>\n</g>\n<!-- 38 -->\n<g id=\"node39\" class=\"node\">\n<title>38</title>\n<path fill=\"#42a2e6\" stroke=\"black\" d=\"M1533,-663C1533,-663 1384,-663 1384,-663 1378,-663 1372,-657 1372,-651 1372,-651 1372,-592 1372,-592 1372,-586 1378,-580 1384,-580 1384,-580 1533,-580 1533,-580 1539,-580 1545,-586 1545,-592 1545,-592 1545,-651 1545,-651 1545,-657 1539,-663 1533,-663\"/>\n<text text-anchor=\"start\" x=\"1380\" y=\"-647.8\" font-family=\"Helvetica,sans-Serif\" font-size=\"14.00\">installment ≤ 171.915</text>\n<text text-anchor=\"start\" x=\"1401\" y=\"-632.8\" font-family=\"Helvetica,sans-Serif\" font-size=\"14.00\">entropy = 0.267</text>\n<text text-anchor=\"start\" x=\"1410\" y=\"-617.8\" font-family=\"Helvetica,sans-Serif\" font-size=\"14.00\">samples = 66</text>\n<text text-anchor=\"start\" x=\"1405.5\" y=\"-602.8\" font-family=\"Helvetica,sans-Serif\" font-size=\"14.00\">value = [3, 63]</text>\n<text text-anchor=\"start\" x=\"1402.5\" y=\"-587.8\" font-family=\"Helvetica,sans-Serif\" font-size=\"14.00\">class = not give</text>\n</g>\n<!-- 10&#45;&gt;38 -->\n<g id=\"edge38\" class=\"edge\">\n<title>10&#45;&gt;38</title>\n<path fill=\"none\" stroke=\"black\" d=\"M1458.5,-698.91C1458.5,-690.65 1458.5,-681.86 1458.5,-673.3\"/>\n<polygon fill=\"black\" stroke=\"black\" points=\"1462,-673.02 1458.5,-663.02 1455,-673.02 1462,-673.02\"/>\n</g>\n<!-- 12 -->\n<g id=\"node13\" class=\"node\">\n<title>12</title>\n<path fill=\"#e5823a\" stroke=\"black\" d=\"M688,-544C688,-544 563,-544 563,-544 557,-544 551,-538 551,-532 551,-532 551,-473 551,-473 551,-467 557,-461 563,-461 563,-461 688,-461 688,-461 694,-461 700,-467 700,-473 700,-473 700,-532 700,-532 700,-538 694,-544 688,-544\"/>\n<text text-anchor=\"start\" x=\"564.5\" y=\"-528.8\" font-family=\"Helvetica,sans-Serif\" font-size=\"14.00\">revol.util ≤ 99.95</text>\n<text text-anchor=\"start\" x=\"572.5\" y=\"-513.8\" font-family=\"Helvetica,sans-Serif\" font-size=\"14.00\">entropy = 0.05</text>\n<text text-anchor=\"start\" x=\"568\" y=\"-498.8\" font-family=\"Helvetica,sans-Serif\" font-size=\"14.00\">samples = 5685</text>\n<text text-anchor=\"start\" x=\"559\" y=\"-483.8\" font-family=\"Helvetica,sans-Serif\" font-size=\"14.00\">value = [5653, 32]</text>\n<text text-anchor=\"start\" x=\"583\" y=\"-468.8\" font-family=\"Helvetica,sans-Serif\" font-size=\"14.00\">class = give</text>\n</g>\n<!-- 11&#45;&gt;12 -->\n<g id=\"edge12\" class=\"edge\">\n<title>11&#45;&gt;12</title>\n<path fill=\"none\" stroke=\"black\" d=\"M799.84,-584.44C771.26,-571.17 738.77,-556.09 709.65,-542.57\"/>\n<polygon fill=\"black\" stroke=\"black\" points=\"710.86,-539.27 700.32,-538.24 707.91,-545.62 710.86,-539.27\"/>\n</g>\n<!-- 25 -->\n<g id=\"node26\" class=\"node\">\n<title>25</title>\n<path fill=\"#e78d4c\" stroke=\"black\" d=\"M953.5,-544C953.5,-544 801.5,-544 801.5,-544 795.5,-544 789.5,-538 789.5,-532 789.5,-532 789.5,-473 789.5,-473 789.5,-467 795.5,-461 801.5,-461 801.5,-461 953.5,-461 953.5,-461 959.5,-461 965.5,-467 965.5,-473 965.5,-473 965.5,-532 965.5,-532 965.5,-538 959.5,-544 953.5,-544\"/>\n<text text-anchor=\"start\" x=\"797.5\" y=\"-528.8\" font-family=\"Helvetica,sans-Serif\" font-size=\"14.00\">log.annual.inc ≤ 10.84</text>\n<text text-anchor=\"start\" x=\"820\" y=\"-513.8\" font-family=\"Helvetica,sans-Serif\" font-size=\"14.00\">entropy = 0.425</text>\n<text text-anchor=\"start\" x=\"824.5\" y=\"-498.8\" font-family=\"Helvetica,sans-Serif\" font-size=\"14.00\">samples = 381</text>\n<text text-anchor=\"start\" x=\"815.5\" y=\"-483.8\" font-family=\"Helvetica,sans-Serif\" font-size=\"14.00\">value = [348, 33]</text>\n<text text-anchor=\"start\" x=\"835\" y=\"-468.8\" font-family=\"Helvetica,sans-Serif\" font-size=\"14.00\">class = give</text>\n</g>\n<!-- 11&#45;&gt;25 -->\n<g id=\"edge25\" class=\"edge\">\n<title>11&#45;&gt;25</title>\n<path fill=\"none\" stroke=\"black\" d=\"M877.5,-579.91C877.5,-571.65 877.5,-562.86 877.5,-554.3\"/>\n<polygon fill=\"black\" stroke=\"black\" points=\"881,-554.02 877.5,-544.02 874,-554.02 881,-554.02\"/>\n</g>\n<!-- 13 -->\n<g id=\"node14\" class=\"node\">\n<title>13</title>\n<path fill=\"#e5813a\" stroke=\"black\" d=\"M527,-425C527,-425 402,-425 402,-425 396,-425 390,-419 390,-413 390,-413 390,-354 390,-354 390,-348 396,-342 402,-342 402,-342 527,-342 527,-342 533,-342 539,-348 539,-354 539,-354 539,-413 539,-413 539,-419 533,-425 527,-425\"/>\n<text text-anchor=\"start\" x=\"413\" y=\"-409.8\" font-family=\"Helvetica,sans-Serif\" font-size=\"14.00\">revol.bal ≤ 7.5</text>\n<text text-anchor=\"start\" x=\"407\" y=\"-394.8\" font-family=\"Helvetica,sans-Serif\" font-size=\"14.00\">entropy = 0.037</text>\n<text text-anchor=\"start\" x=\"407\" y=\"-379.8\" font-family=\"Helvetica,sans-Serif\" font-size=\"14.00\">samples = 5675</text>\n<text text-anchor=\"start\" x=\"398\" y=\"-364.8\" font-family=\"Helvetica,sans-Serif\" font-size=\"14.00\">value = [5653, 22]</text>\n<text text-anchor=\"start\" x=\"422\" y=\"-349.8\" font-family=\"Helvetica,sans-Serif\" font-size=\"14.00\">class = give</text>\n</g>\n<!-- 12&#45;&gt;13 -->\n<g id=\"edge13\" class=\"edge\">\n<title>12&#45;&gt;13</title>\n<path fill=\"none\" stroke=\"black\" d=\"M569.64,-460.91C556.4,-451.29 542.18,-440.95 528.61,-431.09\"/>\n<polygon fill=\"black\" stroke=\"black\" points=\"530.41,-428.07 520.26,-425.02 526.29,-433.73 530.41,-428.07\"/>\n</g>\n<!-- 24 -->\n<g id=\"node25\" class=\"node\">\n<title>24</title>\n<path fill=\"#399de5\" stroke=\"black\" d=\"M677.5,-417.5C677.5,-417.5 573.5,-417.5 573.5,-417.5 567.5,-417.5 561.5,-411.5 561.5,-405.5 561.5,-405.5 561.5,-361.5 561.5,-361.5 561.5,-355.5 567.5,-349.5 573.5,-349.5 573.5,-349.5 677.5,-349.5 677.5,-349.5 683.5,-349.5 689.5,-355.5 689.5,-361.5 689.5,-361.5 689.5,-405.5 689.5,-405.5 689.5,-411.5 683.5,-417.5 677.5,-417.5\"/>\n<text text-anchor=\"start\" x=\"577\" y=\"-402.3\" font-family=\"Helvetica,sans-Serif\" font-size=\"14.00\">entropy = 0.0</text>\n<text text-anchor=\"start\" x=\"577\" y=\"-387.3\" font-family=\"Helvetica,sans-Serif\" font-size=\"14.00\">samples = 10</text>\n<text text-anchor=\"start\" x=\"572.5\" y=\"-372.3\" font-family=\"Helvetica,sans-Serif\" font-size=\"14.00\">value = [0, 10]</text>\n<text text-anchor=\"start\" x=\"569.5\" y=\"-357.3\" font-family=\"Helvetica,sans-Serif\" font-size=\"14.00\">class = not give</text>\n</g>\n<!-- 12&#45;&gt;24 -->\n<g id=\"edge24\" class=\"edge\">\n<title>12&#45;&gt;24</title>\n<path fill=\"none\" stroke=\"black\" d=\"M625.5,-460.91C625.5,-450.2 625.5,-438.62 625.5,-427.78\"/>\n<polygon fill=\"black\" stroke=\"black\" points=\"629,-427.67 625.5,-417.67 622,-427.67 629,-427.67\"/>\n</g>\n<!-- 14 -->\n<g id=\"node15\" class=\"node\">\n<title>14</title>\n<path fill=\"#e78946\" stroke=\"black\" d=\"M341.5,-306C341.5,-306 225.5,-306 225.5,-306 219.5,-306 213.5,-300 213.5,-294 213.5,-294 213.5,-235 213.5,-235 213.5,-229 219.5,-223 225.5,-223 225.5,-223 341.5,-223 341.5,-223 347.5,-223 353.5,-229 353.5,-235 353.5,-235 353.5,-294 353.5,-294 353.5,-300 347.5,-306 341.5,-306\"/>\n<text text-anchor=\"start\" x=\"227.5\" y=\"-290.8\" font-family=\"Helvetica,sans-Serif\" font-size=\"14.00\">int.rate ≤ 0.109</text>\n<text text-anchor=\"start\" x=\"226\" y=\"-275.8\" font-family=\"Helvetica,sans-Serif\" font-size=\"14.00\">entropy = 0.332</text>\n<text text-anchor=\"start\" x=\"230.5\" y=\"-260.8\" font-family=\"Helvetica,sans-Serif\" font-size=\"14.00\">samples = 196</text>\n<text text-anchor=\"start\" x=\"221.5\" y=\"-245.8\" font-family=\"Helvetica,sans-Serif\" font-size=\"14.00\">value = [184, 12]</text>\n<text text-anchor=\"start\" x=\"241\" y=\"-230.8\" font-family=\"Helvetica,sans-Serif\" font-size=\"14.00\">class = give</text>\n</g>\n<!-- 13&#45;&gt;14 -->\n<g id=\"edge14\" class=\"edge\">\n<title>13&#45;&gt;14</title>\n<path fill=\"none\" stroke=\"black\" d=\"M401.7,-341.91C386.54,-332.11 370.23,-321.56 354.71,-311.53\"/>\n<polygon fill=\"black\" stroke=\"black\" points=\"356.48,-308.51 346.19,-306.02 352.68,-314.39 356.48,-308.51\"/>\n</g>\n<!-- 19 -->\n<g id=\"node20\" class=\"node\">\n<title>19</title>\n<path fill=\"#e58139\" stroke=\"black\" d=\"M545,-306C545,-306 384,-306 384,-306 378,-306 372,-300 372,-294 372,-294 372,-235 372,-235 372,-229 378,-223 384,-223 384,-223 545,-223 545,-223 551,-223 557,-229 557,-235 557,-235 557,-294 557,-294 557,-300 551,-306 545,-306\"/>\n<text text-anchor=\"start\" x=\"380\" y=\"-290.8\" font-family=\"Helvetica,sans-Serif\" font-size=\"14.00\">log.annual.inc ≤ 10.493</text>\n<text text-anchor=\"start\" x=\"407\" y=\"-275.8\" font-family=\"Helvetica,sans-Serif\" font-size=\"14.00\">entropy = 0.019</text>\n<text text-anchor=\"start\" x=\"407\" y=\"-260.8\" font-family=\"Helvetica,sans-Serif\" font-size=\"14.00\">samples = 5479</text>\n<text text-anchor=\"start\" x=\"398\" y=\"-245.8\" font-family=\"Helvetica,sans-Serif\" font-size=\"14.00\">value = [5469, 10]</text>\n<text text-anchor=\"start\" x=\"422\" y=\"-230.8\" font-family=\"Helvetica,sans-Serif\" font-size=\"14.00\">class = give</text>\n</g>\n<!-- 13&#45;&gt;19 -->\n<g id=\"edge19\" class=\"edge\">\n<title>13&#45;&gt;19</title>\n<path fill=\"none\" stroke=\"black\" d=\"M464.5,-341.91C464.5,-333.65 464.5,-324.86 464.5,-316.3\"/>\n<polygon fill=\"black\" stroke=\"black\" points=\"468,-316.02 464.5,-306.02 461,-316.02 468,-316.02\"/>\n</g>\n<!-- 15 -->\n<g id=\"node16\" class=\"node\">\n<title>15</title>\n<path fill=\"#ea995e\" stroke=\"black\" d=\"M193,-187C193,-187 86,-187 86,-187 80,-187 74,-181 74,-175 74,-175 74,-116 74,-116 74,-110 80,-104 86,-104 86,-104 193,-104 193,-104 199,-104 205,-110 205,-116 205,-116 205,-175 205,-175 205,-181 199,-187 193,-187\"/>\n<text text-anchor=\"start\" x=\"87.5\" y=\"-171.8\" font-family=\"Helvetica,sans-Serif\" font-size=\"14.00\">revol.util ≤ 0.4</text>\n<text text-anchor=\"start\" x=\"82\" y=\"-156.8\" font-family=\"Helvetica,sans-Serif\" font-size=\"14.00\">entropy = 0.629</text>\n<text text-anchor=\"start\" x=\"91\" y=\"-141.8\" font-family=\"Helvetica,sans-Serif\" font-size=\"14.00\">samples = 76</text>\n<text text-anchor=\"start\" x=\"82\" y=\"-126.8\" font-family=\"Helvetica,sans-Serif\" font-size=\"14.00\">value = [64, 12]</text>\n<text text-anchor=\"start\" x=\"97\" y=\"-111.8\" font-family=\"Helvetica,sans-Serif\" font-size=\"14.00\">class = give</text>\n</g>\n<!-- 14&#45;&gt;15 -->\n<g id=\"edge15\" class=\"edge\">\n<title>14&#45;&gt;15</title>\n<path fill=\"none\" stroke=\"black\" d=\"M233.54,-222.91C221.81,-213.38 209.22,-203.15 197.19,-193.37\"/>\n<polygon fill=\"black\" stroke=\"black\" points=\"199.34,-190.61 189.37,-187.02 194.93,-196.04 199.34,-190.61\"/>\n</g>\n<!-- 18 -->\n<g id=\"node19\" class=\"node\">\n<title>18</title>\n<path fill=\"#e58139\" stroke=\"black\" d=\"M342,-179.5C342,-179.5 235,-179.5 235,-179.5 229,-179.5 223,-173.5 223,-167.5 223,-167.5 223,-123.5 223,-123.5 223,-117.5 229,-111.5 235,-111.5 235,-111.5 342,-111.5 342,-111.5 348,-111.5 354,-117.5 354,-123.5 354,-123.5 354,-167.5 354,-167.5 354,-173.5 348,-179.5 342,-179.5\"/>\n<text text-anchor=\"start\" x=\"240\" y=\"-164.3\" font-family=\"Helvetica,sans-Serif\" font-size=\"14.00\">entropy = 0.0</text>\n<text text-anchor=\"start\" x=\"235.5\" y=\"-149.3\" font-family=\"Helvetica,sans-Serif\" font-size=\"14.00\">samples = 120</text>\n<text text-anchor=\"start\" x=\"231\" y=\"-134.3\" font-family=\"Helvetica,sans-Serif\" font-size=\"14.00\">value = [120, 0]</text>\n<text text-anchor=\"start\" x=\"246\" y=\"-119.3\" font-family=\"Helvetica,sans-Serif\" font-size=\"14.00\">class = give</text>\n</g>\n<!-- 14&#45;&gt;18 -->\n<g id=\"edge18\" class=\"edge\">\n<title>14&#45;&gt;18</title>\n<path fill=\"none\" stroke=\"black\" d=\"M285.23,-222.91C285.69,-212.2 286.19,-200.62 286.65,-189.78\"/>\n<polygon fill=\"black\" stroke=\"black\" points=\"290.15,-189.81 287.08,-179.67 283.16,-189.51 290.15,-189.81\"/>\n</g>\n<!-- 16 -->\n<g id=\"node17\" class=\"node\">\n<title>16</title>\n<path fill=\"#e78946\" stroke=\"black\" d=\"M119,-68C119,-68 12,-68 12,-68 6,-68 0,-62 0,-56 0,-56 0,-12 0,-12 0,-6 6,0 12,0 12,0 119,0 119,0 125,0 131,-6 131,-12 131,-12 131,-56 131,-56 131,-62 125,-68 119,-68\"/>\n<text text-anchor=\"start\" x=\"8\" y=\"-52.8\" font-family=\"Helvetica,sans-Serif\" font-size=\"14.00\">entropy = 0.326</text>\n<text text-anchor=\"start\" x=\"17\" y=\"-37.8\" font-family=\"Helvetica,sans-Serif\" font-size=\"14.00\">samples = 67</text>\n<text text-anchor=\"start\" x=\"12.5\" y=\"-22.8\" font-family=\"Helvetica,sans-Serif\" font-size=\"14.00\">value = [63, 4]</text>\n<text text-anchor=\"start\" x=\"23\" y=\"-7.8\" font-family=\"Helvetica,sans-Serif\" font-size=\"14.00\">class = give</text>\n</g>\n<!-- 15&#45;&gt;16 -->\n<g id=\"edge16\" class=\"edge\">\n<title>15&#45;&gt;16</title>\n<path fill=\"none\" stroke=\"black\" d=\"M111.95,-103.73C105.97,-94.88 99.63,-85.51 93.63,-76.63\"/>\n<polygon fill=\"black\" stroke=\"black\" points=\"96.5,-74.63 88,-68.3 90.7,-78.54 96.5,-74.63\"/>\n</g>\n<!-- 17 -->\n<g id=\"node18\" class=\"node\">\n<title>17</title>\n<path fill=\"#52a9e8\" stroke=\"black\" d=\"M268,-68C268,-68 161,-68 161,-68 155,-68 149,-62 149,-56 149,-56 149,-12 149,-12 149,-6 155,0 161,0 161,0 268,0 268,0 274,0 280,-6 280,-12 280,-12 280,-56 280,-56 280,-62 274,-68 268,-68\"/>\n<text text-anchor=\"start\" x=\"157\" y=\"-52.8\" font-family=\"Helvetica,sans-Serif\" font-size=\"14.00\">entropy = 0.503</text>\n<text text-anchor=\"start\" x=\"170.5\" y=\"-37.8\" font-family=\"Helvetica,sans-Serif\" font-size=\"14.00\">samples = 9</text>\n<text text-anchor=\"start\" x=\"166\" y=\"-22.8\" font-family=\"Helvetica,sans-Serif\" font-size=\"14.00\">value = [1, 8]</text>\n<text text-anchor=\"start\" x=\"158.5\" y=\"-7.8\" font-family=\"Helvetica,sans-Serif\" font-size=\"14.00\">class = not give</text>\n</g>\n<!-- 15&#45;&gt;17 -->\n<g id=\"edge17\" class=\"edge\">\n<title>15&#45;&gt;17</title>\n<path fill=\"none\" stroke=\"black\" d=\"M167.43,-103.73C173.49,-94.88 179.9,-85.51 185.99,-76.63\"/>\n<polygon fill=\"black\" stroke=\"black\" points=\"188.93,-78.53 191.69,-68.3 183.15,-74.57 188.93,-78.53\"/>\n</g>\n<!-- 20 -->\n<g id=\"node21\" class=\"node\">\n<title>20</title>\n<path fill=\"#e5823b\" stroke=\"black\" d=\"M525,-187C525,-187 394,-187 394,-187 388,-187 382,-181 382,-175 382,-175 382,-116 382,-116 382,-110 388,-104 394,-104 394,-104 525,-104 525,-104 531,-104 537,-110 537,-116 537,-116 537,-175 537,-175 537,-181 531,-187 525,-187\"/>\n<text text-anchor=\"start\" x=\"390\" y=\"-171.8\" font-family=\"Helvetica,sans-Serif\" font-size=\"14.00\">revol.bal ≤ 27106.0</text>\n<text text-anchor=\"start\" x=\"402\" y=\"-156.8\" font-family=\"Helvetica,sans-Serif\" font-size=\"14.00\">entropy = 0.068</text>\n<text text-anchor=\"start\" x=\"402\" y=\"-141.8\" font-family=\"Helvetica,sans-Serif\" font-size=\"14.00\">samples = 1234</text>\n<text text-anchor=\"start\" x=\"393\" y=\"-126.8\" font-family=\"Helvetica,sans-Serif\" font-size=\"14.00\">value = [1224, 10]</text>\n<text text-anchor=\"start\" x=\"417\" y=\"-111.8\" font-family=\"Helvetica,sans-Serif\" font-size=\"14.00\">class = give</text>\n</g>\n<!-- 19&#45;&gt;20 -->\n<g id=\"edge20\" class=\"edge\">\n<title>19&#45;&gt;20</title>\n<path fill=\"none\" stroke=\"black\" d=\"M462.77,-222.91C462.41,-214.56 462.03,-205.67 461.66,-197.02\"/>\n<polygon fill=\"black\" stroke=\"black\" points=\"465.16,-196.86 461.23,-187.02 458.16,-197.16 465.16,-196.86\"/>\n</g>\n<!-- 23 -->\n<g id=\"node24\" class=\"node\">\n<title>23</title>\n<path fill=\"#e58139\" stroke=\"black\" d=\"M683.5,-179.5C683.5,-179.5 567.5,-179.5 567.5,-179.5 561.5,-179.5 555.5,-173.5 555.5,-167.5 555.5,-167.5 555.5,-123.5 555.5,-123.5 555.5,-117.5 561.5,-111.5 567.5,-111.5 567.5,-111.5 683.5,-111.5 683.5,-111.5 689.5,-111.5 695.5,-117.5 695.5,-123.5 695.5,-123.5 695.5,-167.5 695.5,-167.5 695.5,-173.5 689.5,-179.5 683.5,-179.5\"/>\n<text text-anchor=\"start\" x=\"577\" y=\"-164.3\" font-family=\"Helvetica,sans-Serif\" font-size=\"14.00\">entropy = 0.0</text>\n<text text-anchor=\"start\" x=\"568\" y=\"-149.3\" font-family=\"Helvetica,sans-Serif\" font-size=\"14.00\">samples = 4245</text>\n<text text-anchor=\"start\" x=\"563.5\" y=\"-134.3\" font-family=\"Helvetica,sans-Serif\" font-size=\"14.00\">value = [4245, 0]</text>\n<text text-anchor=\"start\" x=\"583\" y=\"-119.3\" font-family=\"Helvetica,sans-Serif\" font-size=\"14.00\">class = give</text>\n</g>\n<!-- 19&#45;&gt;23 -->\n<g id=\"edge23\" class=\"edge\">\n<title>19&#45;&gt;23</title>\n<path fill=\"none\" stroke=\"black\" d=\"M520.36,-222.91C536.91,-210.88 555,-197.73 571.43,-185.79\"/>\n<polygon fill=\"black\" stroke=\"black\" points=\"573.83,-188.38 579.86,-179.67 569.71,-182.71 573.83,-188.38\"/>\n</g>\n<!-- 21 -->\n<g id=\"node22\" class=\"node\">\n<title>21</title>\n<path fill=\"#e5823a\" stroke=\"black\" d=\"M432.5,-68C432.5,-68 316.5,-68 316.5,-68 310.5,-68 304.5,-62 304.5,-56 304.5,-56 304.5,-12 304.5,-12 304.5,-6 310.5,0 316.5,0 316.5,0 432.5,0 432.5,0 438.5,0 444.5,-6 444.5,-12 444.5,-12 444.5,-56 444.5,-56 444.5,-62 438.5,-68 432.5,-68\"/>\n<text text-anchor=\"start\" x=\"317\" y=\"-52.8\" font-family=\"Helvetica,sans-Serif\" font-size=\"14.00\">entropy = 0.038</text>\n<text text-anchor=\"start\" x=\"317\" y=\"-37.8\" font-family=\"Helvetica,sans-Serif\" font-size=\"14.00\">samples = 1225</text>\n<text text-anchor=\"start\" x=\"312.5\" y=\"-22.8\" font-family=\"Helvetica,sans-Serif\" font-size=\"14.00\">value = [1220, 5]</text>\n<text text-anchor=\"start\" x=\"332\" y=\"-7.8\" font-family=\"Helvetica,sans-Serif\" font-size=\"14.00\">class = give</text>\n</g>\n<!-- 20&#45;&gt;21 -->\n<g id=\"edge21\" class=\"edge\">\n<title>20&#45;&gt;21</title>\n<path fill=\"none\" stroke=\"black\" d=\"M427.85,-103.73C420.91,-94.79 413.56,-85.32 406.6,-76.36\"/>\n<polygon fill=\"black\" stroke=\"black\" points=\"409.25,-74.05 400.35,-68.3 403.72,-78.35 409.25,-74.05\"/>\n</g>\n<!-- 22 -->\n<g id=\"node23\" class=\"node\">\n<title>22</title>\n<path fill=\"#d7ebfa\" stroke=\"black\" d=\"M582,-68C582,-68 475,-68 475,-68 469,-68 463,-62 463,-56 463,-56 463,-12 463,-12 463,-6 469,0 475,0 475,0 582,0 582,0 588,0 594,-6 594,-12 594,-12 594,-56 594,-56 594,-62 588,-68 582,-68\"/>\n<text text-anchor=\"start\" x=\"471\" y=\"-52.8\" font-family=\"Helvetica,sans-Serif\" font-size=\"14.00\">entropy = 0.991</text>\n<text text-anchor=\"start\" x=\"484.5\" y=\"-37.8\" font-family=\"Helvetica,sans-Serif\" font-size=\"14.00\">samples = 9</text>\n<text text-anchor=\"start\" x=\"480\" y=\"-22.8\" font-family=\"Helvetica,sans-Serif\" font-size=\"14.00\">value = [4, 5]</text>\n<text text-anchor=\"start\" x=\"472.5\" y=\"-7.8\" font-family=\"Helvetica,sans-Serif\" font-size=\"14.00\">class = not give</text>\n</g>\n<!-- 20&#45;&gt;22 -->\n<g id=\"edge22\" class=\"edge\">\n<title>20&#45;&gt;22</title>\n<path fill=\"none\" stroke=\"black\" d=\"M485.19,-103.73C490.71,-94.97 496.55,-85.7 502.09,-76.91\"/>\n<polygon fill=\"black\" stroke=\"black\" points=\"505.15,-78.63 507.52,-68.3 499.22,-74.89 505.15,-78.63\"/>\n</g>\n<!-- 26 -->\n<g id=\"node27\" class=\"node\">\n<title>26</title>\n<path fill=\"#63b2ea\" stroke=\"black\" d=\"M829,-425C829,-425 722,-425 722,-425 716,-425 710,-419 710,-413 710,-413 710,-354 710,-354 710,-348 716,-342 722,-342 722,-342 829,-342 829,-342 835,-342 841,-348 841,-354 841,-354 841,-413 841,-413 841,-419 835,-425 829,-425\"/>\n<text text-anchor=\"start\" x=\"732\" y=\"-409.8\" font-family=\"Helvetica,sans-Serif\" font-size=\"14.00\">fico ≤ 739.5</text>\n<text text-anchor=\"start\" x=\"718\" y=\"-394.8\" font-family=\"Helvetica,sans-Serif\" font-size=\"14.00\">entropy = 0.667</text>\n<text text-anchor=\"start\" x=\"727\" y=\"-379.8\" font-family=\"Helvetica,sans-Serif\" font-size=\"14.00\">samples = 23</text>\n<text text-anchor=\"start\" x=\"722.5\" y=\"-364.8\" font-family=\"Helvetica,sans-Serif\" font-size=\"14.00\">value = [4, 19]</text>\n<text text-anchor=\"start\" x=\"719.5\" y=\"-349.8\" font-family=\"Helvetica,sans-Serif\" font-size=\"14.00\">class = not give</text>\n</g>\n<!-- 25&#45;&gt;26 -->\n<g id=\"edge26\" class=\"edge\">\n<title>25&#45;&gt;26</title>\n<path fill=\"none\" stroke=\"black\" d=\"M842.11,-460.91C834.2,-451.83 825.73,-442.12 817.58,-432.77\"/>\n<polygon fill=\"black\" stroke=\"black\" points=\"820.04,-430.26 810.83,-425.02 814.76,-434.86 820.04,-430.26\"/>\n</g>\n<!-- 29 -->\n<g id=\"node30\" class=\"node\">\n<title>29</title>\n<path fill=\"#e68641\" stroke=\"black\" d=\"M1032,-425C1032,-425 871,-425 871,-425 865,-425 859,-419 859,-413 859,-413 859,-354 859,-354 859,-348 865,-342 871,-342 871,-342 1032,-342 1032,-342 1038,-342 1044,-348 1044,-354 1044,-354 1044,-413 1044,-413 1044,-419 1038,-425 1032,-425\"/>\n<text text-anchor=\"start\" x=\"867\" y=\"-409.8\" font-family=\"Helvetica,sans-Serif\" font-size=\"14.00\">log.annual.inc ≤ 11.311</text>\n<text text-anchor=\"start\" x=\"894\" y=\"-394.8\" font-family=\"Helvetica,sans-Serif\" font-size=\"14.00\">entropy = 0.238</text>\n<text text-anchor=\"start\" x=\"898.5\" y=\"-379.8\" font-family=\"Helvetica,sans-Serif\" font-size=\"14.00\">samples = 358</text>\n<text text-anchor=\"start\" x=\"889.5\" y=\"-364.8\" font-family=\"Helvetica,sans-Serif\" font-size=\"14.00\">value = [344, 14]</text>\n<text text-anchor=\"start\" x=\"909\" y=\"-349.8\" font-family=\"Helvetica,sans-Serif\" font-size=\"14.00\">class = give</text>\n</g>\n<!-- 25&#45;&gt;29 -->\n<g id=\"edge29\" class=\"edge\">\n<title>25&#45;&gt;29</title>\n<path fill=\"none\" stroke=\"black\" d=\"M903.17,-460.91C908.74,-452.1 914.69,-442.7 920.44,-433.61\"/>\n<polygon fill=\"black\" stroke=\"black\" points=\"923.48,-435.34 925.87,-425.02 917.57,-431.6 923.48,-435.34\"/>\n</g>\n<!-- 27 -->\n<g id=\"node28\" class=\"node\">\n<title>27</title>\n<path fill=\"#399de5\" stroke=\"black\" d=\"M691.5,-298.5C691.5,-298.5 587.5,-298.5 587.5,-298.5 581.5,-298.5 575.5,-292.5 575.5,-286.5 575.5,-286.5 575.5,-242.5 575.5,-242.5 575.5,-236.5 581.5,-230.5 587.5,-230.5 587.5,-230.5 691.5,-230.5 691.5,-230.5 697.5,-230.5 703.5,-236.5 703.5,-242.5 703.5,-242.5 703.5,-286.5 703.5,-286.5 703.5,-292.5 697.5,-298.5 691.5,-298.5\"/>\n<text text-anchor=\"start\" x=\"591\" y=\"-283.3\" font-family=\"Helvetica,sans-Serif\" font-size=\"14.00\">entropy = 0.0</text>\n<text text-anchor=\"start\" x=\"591\" y=\"-268.3\" font-family=\"Helvetica,sans-Serif\" font-size=\"14.00\">samples = 19</text>\n<text text-anchor=\"start\" x=\"586.5\" y=\"-253.3\" font-family=\"Helvetica,sans-Serif\" font-size=\"14.00\">value = [0, 19]</text>\n<text text-anchor=\"start\" x=\"583.5\" y=\"-238.3\" font-family=\"Helvetica,sans-Serif\" font-size=\"14.00\">class = not give</text>\n</g>\n<!-- 26&#45;&gt;27 -->\n<g id=\"edge27\" class=\"edge\">\n<title>26&#45;&gt;27</title>\n<path fill=\"none\" stroke=\"black\" d=\"M728.32,-341.91C714.59,-330.1 699.61,-317.22 685.94,-305.45\"/>\n<polygon fill=\"black\" stroke=\"black\" points=\"687.92,-302.54 678.05,-298.67 683.35,-307.84 687.92,-302.54\"/>\n</g>\n<!-- 28 -->\n<g id=\"node29\" class=\"node\">\n<title>28</title>\n<path fill=\"#e58139\" stroke=\"black\" d=\"M823,-298.5C823,-298.5 734,-298.5 734,-298.5 728,-298.5 722,-292.5 722,-286.5 722,-286.5 722,-242.5 722,-242.5 722,-236.5 728,-230.5 734,-230.5 734,-230.5 823,-230.5 823,-230.5 829,-230.5 835,-236.5 835,-242.5 835,-242.5 835,-286.5 835,-286.5 835,-292.5 829,-298.5 823,-298.5\"/>\n<text text-anchor=\"start\" x=\"730\" y=\"-283.3\" font-family=\"Helvetica,sans-Serif\" font-size=\"14.00\">entropy = 0.0</text>\n<text text-anchor=\"start\" x=\"734.5\" y=\"-268.3\" font-family=\"Helvetica,sans-Serif\" font-size=\"14.00\">samples = 4</text>\n<text text-anchor=\"start\" x=\"730\" y=\"-253.3\" font-family=\"Helvetica,sans-Serif\" font-size=\"14.00\">value = [4, 0]</text>\n<text text-anchor=\"start\" x=\"736\" y=\"-238.3\" font-family=\"Helvetica,sans-Serif\" font-size=\"14.00\">class = give</text>\n</g>\n<!-- 26&#45;&gt;28 -->\n<g id=\"edge28\" class=\"edge\">\n<title>26&#45;&gt;28</title>\n<path fill=\"none\" stroke=\"black\" d=\"M776.54,-341.91C776.82,-331.2 777.11,-319.62 777.39,-308.78\"/>\n<polygon fill=\"black\" stroke=\"black\" points=\"780.89,-308.75 777.65,-298.67 773.89,-308.57 780.89,-308.75\"/>\n</g>\n<!-- 30 -->\n<g id=\"node31\" class=\"node\">\n<title>30</title>\n<path fill=\"#e99457\" stroke=\"black\" d=\"M996,-306C996,-306 865,-306 865,-306 859,-306 853,-300 853,-294 853,-294 853,-235 853,-235 853,-229 859,-223 865,-223 865,-223 996,-223 996,-223 1002,-223 1008,-229 1008,-235 1008,-235 1008,-294 1008,-294 1008,-300 1002,-306 996,-306\"/>\n<text text-anchor=\"start\" x=\"861\" y=\"-290.8\" font-family=\"Helvetica,sans-Serif\" font-size=\"14.00\">revol.bal ≤ 72059.5</text>\n<text text-anchor=\"start\" x=\"877.5\" y=\"-275.8\" font-family=\"Helvetica,sans-Serif\" font-size=\"14.00\">entropy = 0.56</text>\n<text text-anchor=\"start\" x=\"877.5\" y=\"-260.8\" font-family=\"Helvetica,sans-Serif\" font-size=\"14.00\">samples = 107</text>\n<text text-anchor=\"start\" x=\"873\" y=\"-245.8\" font-family=\"Helvetica,sans-Serif\" font-size=\"14.00\">value = [93, 14]</text>\n<text text-anchor=\"start\" x=\"888\" y=\"-230.8\" font-family=\"Helvetica,sans-Serif\" font-size=\"14.00\">class = give</text>\n</g>\n<!-- 29&#45;&gt;30 -->\n<g id=\"edge30\" class=\"edge\">\n<title>29&#45;&gt;30</title>\n<path fill=\"none\" stroke=\"black\" d=\"M944.21,-341.91C942.72,-333.56 941.12,-324.67 939.57,-316.02\"/>\n<polygon fill=\"black\" stroke=\"black\" points=\"942.98,-315.25 937.77,-306.02 936.09,-316.48 942.98,-315.25\"/>\n</g>\n<!-- 37 -->\n<g id=\"node38\" class=\"node\">\n<title>37</title>\n<path fill=\"#e58139\" stroke=\"black\" d=\"M1145,-298.5C1145,-298.5 1038,-298.5 1038,-298.5 1032,-298.5 1026,-292.5 1026,-286.5 1026,-286.5 1026,-242.5 1026,-242.5 1026,-236.5 1032,-230.5 1038,-230.5 1038,-230.5 1145,-230.5 1145,-230.5 1151,-230.5 1157,-236.5 1157,-242.5 1157,-242.5 1157,-286.5 1157,-286.5 1157,-292.5 1151,-298.5 1145,-298.5\"/>\n<text text-anchor=\"start\" x=\"1043\" y=\"-283.3\" font-family=\"Helvetica,sans-Serif\" font-size=\"14.00\">entropy = 0.0</text>\n<text text-anchor=\"start\" x=\"1038.5\" y=\"-268.3\" font-family=\"Helvetica,sans-Serif\" font-size=\"14.00\">samples = 251</text>\n<text text-anchor=\"start\" x=\"1034\" y=\"-253.3\" font-family=\"Helvetica,sans-Serif\" font-size=\"14.00\">value = [251, 0]</text>\n<text text-anchor=\"start\" x=\"1049\" y=\"-238.3\" font-family=\"Helvetica,sans-Serif\" font-size=\"14.00\">class = give</text>\n</g>\n<!-- 29&#45;&gt;37 -->\n<g id=\"edge37\" class=\"edge\">\n<title>29&#45;&gt;37</title>\n<path fill=\"none\" stroke=\"black\" d=\"M1000.07,-341.91C1014.33,-329.99 1029.91,-316.98 1044.09,-305.12\"/>\n<polygon fill=\"black\" stroke=\"black\" points=\"1046.38,-307.77 1051.81,-298.67 1041.9,-302.39 1046.38,-307.77\"/>\n</g>\n<!-- 31 -->\n<g id=\"node32\" class=\"node\">\n<title>31</title>\n<path fill=\"#e6843d\" stroke=\"black\" d=\"M898,-187C898,-187 737,-187 737,-187 731,-187 725,-181 725,-175 725,-175 725,-116 725,-116 725,-110 731,-104 737,-104 737,-104 898,-104 898,-104 904,-104 910,-110 910,-116 910,-116 910,-175 910,-175 910,-181 904,-187 898,-187\"/>\n<text text-anchor=\"start\" x=\"733\" y=\"-171.8\" font-family=\"Helvetica,sans-Serif\" font-size=\"14.00\">log.annual.inc ≤ 10.916</text>\n<text text-anchor=\"start\" x=\"760\" y=\"-156.8\" font-family=\"Helvetica,sans-Serif\" font-size=\"14.00\">entropy = 0.152</text>\n<text text-anchor=\"start\" x=\"769\" y=\"-141.8\" font-family=\"Helvetica,sans-Serif\" font-size=\"14.00\">samples = 91</text>\n<text text-anchor=\"start\" x=\"764.5\" y=\"-126.8\" font-family=\"Helvetica,sans-Serif\" font-size=\"14.00\">value = [89, 2]</text>\n<text text-anchor=\"start\" x=\"775\" y=\"-111.8\" font-family=\"Helvetica,sans-Serif\" font-size=\"14.00\">class = give</text>\n</g>\n<!-- 30&#45;&gt;31 -->\n<g id=\"edge31\" class=\"edge\">\n<title>30&#45;&gt;31</title>\n<path fill=\"none\" stroke=\"black\" d=\"M891.3,-222.91C882.44,-213.74 872.96,-203.93 863.85,-194.49\"/>\n<polygon fill=\"black\" stroke=\"black\" points=\"866.1,-191.78 856.64,-187.02 861.07,-196.65 866.1,-191.78\"/>\n</g>\n<!-- 34 -->\n<g id=\"node35\" class=\"node\">\n<title>34</title>\n<path fill=\"#7bbeee\" stroke=\"black\" d=\"M1134.5,-187C1134.5,-187 940.5,-187 940.5,-187 934.5,-187 928.5,-181 928.5,-175 928.5,-175 928.5,-116 928.5,-116 928.5,-110 934.5,-104 940.5,-104 940.5,-104 1134.5,-104 1134.5,-104 1140.5,-104 1146.5,-110 1146.5,-116 1146.5,-116 1146.5,-175 1146.5,-175 1146.5,-181 1140.5,-187 1134.5,-187\"/>\n<text text-anchor=\"start\" x=\"936.5\" y=\"-171.8\" font-family=\"Helvetica,sans-Serif\" font-size=\"14.00\">days.with.cr.line ≤ 7508.521</text>\n<text text-anchor=\"start\" x=\"980\" y=\"-156.8\" font-family=\"Helvetica,sans-Serif\" font-size=\"14.00\">entropy = 0.811</text>\n<text text-anchor=\"start\" x=\"989\" y=\"-141.8\" font-family=\"Helvetica,sans-Serif\" font-size=\"14.00\">samples = 16</text>\n<text text-anchor=\"start\" x=\"984.5\" y=\"-126.8\" font-family=\"Helvetica,sans-Serif\" font-size=\"14.00\">value = [4, 12]</text>\n<text text-anchor=\"start\" x=\"981.5\" y=\"-111.8\" font-family=\"Helvetica,sans-Serif\" font-size=\"14.00\">class = not give</text>\n</g>\n<!-- 30&#45;&gt;34 -->\n<g id=\"edge34\" class=\"edge\">\n<title>30&#45;&gt;34</title>\n<path fill=\"none\" stroke=\"black\" d=\"M967.62,-222.91C976.01,-213.74 984.98,-203.93 993.61,-194.49\"/>\n<polygon fill=\"black\" stroke=\"black\" points=\"996.28,-196.76 1000.44,-187.02 991.11,-192.04 996.28,-196.76\"/>\n</g>\n<!-- 32 -->\n<g id=\"node33\" class=\"node\">\n<title>32</title>\n<path fill=\"#efb388\" stroke=\"black\" d=\"M771,-68C771,-68 664,-68 664,-68 658,-68 652,-62 652,-56 652,-56 652,-12 652,-12 652,-6 658,0 664,0 664,0 771,0 771,0 777,0 783,-6 783,-12 783,-12 783,-56 783,-56 783,-62 777,-68 771,-68\"/>\n<text text-anchor=\"start\" x=\"660\" y=\"-52.8\" font-family=\"Helvetica,sans-Serif\" font-size=\"14.00\">entropy = 0.863</text>\n<text text-anchor=\"start\" x=\"673.5\" y=\"-37.8\" font-family=\"Helvetica,sans-Serif\" font-size=\"14.00\">samples = 7</text>\n<text text-anchor=\"start\" x=\"669\" y=\"-22.8\" font-family=\"Helvetica,sans-Serif\" font-size=\"14.00\">value = [5, 2]</text>\n<text text-anchor=\"start\" x=\"675\" y=\"-7.8\" font-family=\"Helvetica,sans-Serif\" font-size=\"14.00\">class = give</text>\n</g>\n<!-- 31&#45;&gt;32 -->\n<g id=\"edge32\" class=\"edge\">\n<title>31&#45;&gt;32</title>\n<path fill=\"none\" stroke=\"black\" d=\"M780.26,-103.73C771.93,-94.61 763.1,-84.93 754.77,-75.81\"/>\n<polygon fill=\"black\" stroke=\"black\" points=\"757.24,-73.32 747.91,-68.3 752.07,-78.04 757.24,-73.32\"/>\n</g>\n<!-- 33 -->\n<g id=\"node34\" class=\"node\">\n<title>33</title>\n<path fill=\"#e58139\" stroke=\"black\" d=\"M911.5,-68C911.5,-68 813.5,-68 813.5,-68 807.5,-68 801.5,-62 801.5,-56 801.5,-56 801.5,-12 801.5,-12 801.5,-6 807.5,0 813.5,0 813.5,0 911.5,0 911.5,0 917.5,0 923.5,-6 923.5,-12 923.5,-12 923.5,-56 923.5,-56 923.5,-62 917.5,-68 911.5,-68\"/>\n<text text-anchor=\"start\" x=\"814\" y=\"-52.8\" font-family=\"Helvetica,sans-Serif\" font-size=\"14.00\">entropy = 0.0</text>\n<text text-anchor=\"start\" x=\"814\" y=\"-37.8\" font-family=\"Helvetica,sans-Serif\" font-size=\"14.00\">samples = 84</text>\n<text text-anchor=\"start\" x=\"809.5\" y=\"-22.8\" font-family=\"Helvetica,sans-Serif\" font-size=\"14.00\">value = [84, 0]</text>\n<text text-anchor=\"start\" x=\"820\" y=\"-7.8\" font-family=\"Helvetica,sans-Serif\" font-size=\"14.00\">class = give</text>\n</g>\n<!-- 31&#45;&gt;33 -->\n<g id=\"edge33\" class=\"edge\">\n<title>31&#45;&gt;33</title>\n<path fill=\"none\" stroke=\"black\" d=\"M834.26,-103.73C837.74,-95.24 841.43,-86.28 844.94,-77.73\"/>\n<polygon fill=\"black\" stroke=\"black\" points=\"848.25,-78.88 848.82,-68.3 841.78,-76.22 848.25,-78.88\"/>\n</g>\n<!-- 35 -->\n<g id=\"node36\" class=\"node\">\n<title>35</title>\n<path fill=\"#399de5\" stroke=\"black\" d=\"M1077.5,-68C1077.5,-68 973.5,-68 973.5,-68 967.5,-68 961.5,-62 961.5,-56 961.5,-56 961.5,-12 961.5,-12 961.5,-6 967.5,0 973.5,0 973.5,0 1077.5,0 1077.5,0 1083.5,0 1089.5,-6 1089.5,-12 1089.5,-12 1089.5,-56 1089.5,-56 1089.5,-62 1083.5,-68 1077.5,-68\"/>\n<text text-anchor=\"start\" x=\"977\" y=\"-52.8\" font-family=\"Helvetica,sans-Serif\" font-size=\"14.00\">entropy = 0.0</text>\n<text text-anchor=\"start\" x=\"977\" y=\"-37.8\" font-family=\"Helvetica,sans-Serif\" font-size=\"14.00\">samples = 11</text>\n<text text-anchor=\"start\" x=\"972.5\" y=\"-22.8\" font-family=\"Helvetica,sans-Serif\" font-size=\"14.00\">value = [0, 11]</text>\n<text text-anchor=\"start\" x=\"969.5\" y=\"-7.8\" font-family=\"Helvetica,sans-Serif\" font-size=\"14.00\">class = not give</text>\n</g>\n<!-- 34&#45;&gt;35 -->\n<g id=\"edge35\" class=\"edge\">\n<title>34&#45;&gt;35</title>\n<path fill=\"none\" stroke=\"black\" d=\"M1033.03,-103.73C1032.12,-95.43 1031.16,-86.67 1030.24,-78.28\"/>\n<polygon fill=\"black\" stroke=\"black\" points=\"1033.72,-77.86 1029.15,-68.3 1026.76,-78.62 1033.72,-77.86\"/>\n</g>\n<!-- 36 -->\n<g id=\"node37\" class=\"node\">\n<title>36</title>\n<path fill=\"#eca06a\" stroke=\"black\" d=\"M1227,-68C1227,-68 1120,-68 1120,-68 1114,-68 1108,-62 1108,-56 1108,-56 1108,-12 1108,-12 1108,-6 1114,0 1120,0 1120,0 1227,0 1227,0 1233,0 1239,-6 1239,-12 1239,-12 1239,-56 1239,-56 1239,-62 1233,-68 1227,-68\"/>\n<text text-anchor=\"start\" x=\"1116\" y=\"-52.8\" font-family=\"Helvetica,sans-Serif\" font-size=\"14.00\">entropy = 0.722</text>\n<text text-anchor=\"start\" x=\"1129.5\" y=\"-37.8\" font-family=\"Helvetica,sans-Serif\" font-size=\"14.00\">samples = 5</text>\n<text text-anchor=\"start\" x=\"1125\" y=\"-22.8\" font-family=\"Helvetica,sans-Serif\" font-size=\"14.00\">value = [4, 1]</text>\n<text text-anchor=\"start\" x=\"1131\" y=\"-7.8\" font-family=\"Helvetica,sans-Serif\" font-size=\"14.00\">class = give</text>\n</g>\n<!-- 34&#45;&gt;36 -->\n<g id=\"edge36\" class=\"edge\">\n<title>34&#45;&gt;36</title>\n<path fill=\"none\" stroke=\"black\" d=\"M1088.14,-103.73C1099.92,-94.24 1112.45,-84.16 1124.17,-74.72\"/>\n<polygon fill=\"black\" stroke=\"black\" points=\"1126.55,-77.3 1132.14,-68.3 1122.16,-71.84 1126.55,-77.3\"/>\n</g>\n<!-- 39 -->\n<g id=\"node40\" class=\"node\">\n<title>39</title>\n<path fill=\"#5caeea\" stroke=\"black\" d=\"M1373.5,-544C1373.5,-544 1269.5,-544 1269.5,-544 1263.5,-544 1257.5,-538 1257.5,-532 1257.5,-532 1257.5,-473 1257.5,-473 1257.5,-467 1263.5,-461 1269.5,-461 1269.5,-461 1373.5,-461 1373.5,-461 1379.5,-461 1385.5,-467 1385.5,-473 1385.5,-473 1385.5,-532 1385.5,-532 1385.5,-538 1379.5,-544 1373.5,-544\"/>\n<text text-anchor=\"start\" x=\"1269.5\" y=\"-528.8\" font-family=\"Helvetica,sans-Serif\" font-size=\"14.00\">revol.util ≤ 8.9</text>\n<text text-anchor=\"start\" x=\"1268.5\" y=\"-513.8\" font-family=\"Helvetica,sans-Serif\" font-size=\"14.00\">entropy = 0.61</text>\n<text text-anchor=\"start\" x=\"1273\" y=\"-498.8\" font-family=\"Helvetica,sans-Serif\" font-size=\"14.00\">samples = 20</text>\n<text text-anchor=\"start\" x=\"1268.5\" y=\"-483.8\" font-family=\"Helvetica,sans-Serif\" font-size=\"14.00\">value = [3, 17]</text>\n<text text-anchor=\"start\" x=\"1265.5\" y=\"-468.8\" font-family=\"Helvetica,sans-Serif\" font-size=\"14.00\">class = not give</text>\n</g>\n<!-- 38&#45;&gt;39 -->\n<g id=\"edge39\" class=\"edge\">\n<title>38&#45;&gt;39</title>\n<path fill=\"none\" stroke=\"black\" d=\"M1410.97,-579.91C1399.92,-570.47 1388.06,-560.34 1376.71,-550.65\"/>\n<polygon fill=\"black\" stroke=\"black\" points=\"1378.82,-547.85 1368.95,-544.02 1374.28,-553.18 1378.82,-547.85\"/>\n</g>\n<!-- 48 -->\n<g id=\"node49\" class=\"node\">\n<title>48</title>\n<path fill=\"#399de5\" stroke=\"black\" d=\"M1519.5,-536.5C1519.5,-536.5 1415.5,-536.5 1415.5,-536.5 1409.5,-536.5 1403.5,-530.5 1403.5,-524.5 1403.5,-524.5 1403.5,-480.5 1403.5,-480.5 1403.5,-474.5 1409.5,-468.5 1415.5,-468.5 1415.5,-468.5 1519.5,-468.5 1519.5,-468.5 1525.5,-468.5 1531.5,-474.5 1531.5,-480.5 1531.5,-480.5 1531.5,-524.5 1531.5,-524.5 1531.5,-530.5 1525.5,-536.5 1519.5,-536.5\"/>\n<text text-anchor=\"start\" x=\"1419\" y=\"-521.3\" font-family=\"Helvetica,sans-Serif\" font-size=\"14.00\">entropy = 0.0</text>\n<text text-anchor=\"start\" x=\"1419\" y=\"-506.3\" font-family=\"Helvetica,sans-Serif\" font-size=\"14.00\">samples = 46</text>\n<text text-anchor=\"start\" x=\"1414.5\" y=\"-491.3\" font-family=\"Helvetica,sans-Serif\" font-size=\"14.00\">value = [0, 46]</text>\n<text text-anchor=\"start\" x=\"1411.5\" y=\"-476.3\" font-family=\"Helvetica,sans-Serif\" font-size=\"14.00\">class = not give</text>\n</g>\n<!-- 38&#45;&gt;48 -->\n<g id=\"edge48\" class=\"edge\">\n<title>38&#45;&gt;48</title>\n<path fill=\"none\" stroke=\"black\" d=\"M1461.62,-579.91C1462.45,-569.2 1463.34,-557.62 1464.17,-546.78\"/>\n<polygon fill=\"black\" stroke=\"black\" points=\"1467.67,-546.91 1464.95,-536.67 1460.69,-546.37 1467.67,-546.91\"/>\n</g>\n<!-- 40 -->\n<g id=\"node41\" class=\"node\">\n<title>40</title>\n<path fill=\"#e58139\" stroke=\"black\" d=\"M1209,-417.5C1209,-417.5 1120,-417.5 1120,-417.5 1114,-417.5 1108,-411.5 1108,-405.5 1108,-405.5 1108,-361.5 1108,-361.5 1108,-355.5 1114,-349.5 1120,-349.5 1120,-349.5 1209,-349.5 1209,-349.5 1215,-349.5 1221,-355.5 1221,-361.5 1221,-361.5 1221,-405.5 1221,-405.5 1221,-411.5 1215,-417.5 1209,-417.5\"/>\n<text text-anchor=\"start\" x=\"1116\" y=\"-402.3\" font-family=\"Helvetica,sans-Serif\" font-size=\"14.00\">entropy = 0.0</text>\n<text text-anchor=\"start\" x=\"1120.5\" y=\"-387.3\" font-family=\"Helvetica,sans-Serif\" font-size=\"14.00\">samples = 1</text>\n<text text-anchor=\"start\" x=\"1116\" y=\"-372.3\" font-family=\"Helvetica,sans-Serif\" font-size=\"14.00\">value = [1, 0]</text>\n<text text-anchor=\"start\" x=\"1122\" y=\"-357.3\" font-family=\"Helvetica,sans-Serif\" font-size=\"14.00\">class = give</text>\n</g>\n<!-- 39&#45;&gt;40 -->\n<g id=\"edge40\" class=\"edge\">\n<title>39&#45;&gt;40</title>\n<path fill=\"none\" stroke=\"black\" d=\"M1267.03,-460.91C1250.89,-448.88 1233.25,-435.73 1217.22,-423.79\"/>\n<polygon fill=\"black\" stroke=\"black\" points=\"1219.12,-420.84 1209.01,-417.67 1214.93,-426.45 1219.12,-420.84\"/>\n</g>\n<!-- 41 -->\n<g id=\"node42\" class=\"node\">\n<title>41</title>\n<path fill=\"#50a9e8\" stroke=\"black\" d=\"M1400,-425C1400,-425 1251,-425 1251,-425 1245,-425 1239,-419 1239,-413 1239,-413 1239,-354 1239,-354 1239,-348 1245,-342 1251,-342 1251,-342 1400,-342 1400,-342 1406,-342 1412,-348 1412,-354 1412,-354 1412,-413 1412,-413 1412,-419 1406,-425 1400,-425\"/>\n<text text-anchor=\"start\" x=\"1247\" y=\"-409.8\" font-family=\"Helvetica,sans-Serif\" font-size=\"14.00\">installment ≤ 169.815</text>\n<text text-anchor=\"start\" x=\"1268\" y=\"-394.8\" font-family=\"Helvetica,sans-Serif\" font-size=\"14.00\">entropy = 0.485</text>\n<text text-anchor=\"start\" x=\"1277\" y=\"-379.8\" font-family=\"Helvetica,sans-Serif\" font-size=\"14.00\">samples = 19</text>\n<text text-anchor=\"start\" x=\"1272.5\" y=\"-364.8\" font-family=\"Helvetica,sans-Serif\" font-size=\"14.00\">value = [2, 17]</text>\n<text text-anchor=\"start\" x=\"1269.5\" y=\"-349.8\" font-family=\"Helvetica,sans-Serif\" font-size=\"14.00\">class = not give</text>\n</g>\n<!-- 39&#45;&gt;41 -->\n<g id=\"edge41\" class=\"edge\">\n<title>39&#45;&gt;41</title>\n<path fill=\"none\" stroke=\"black\" d=\"M1322.89,-460.91C1323.17,-452.56 1323.48,-443.67 1323.77,-435.02\"/>\n<polygon fill=\"black\" stroke=\"black\" points=\"1327.27,-435.13 1324.11,-425.02 1320.27,-434.9 1327.27,-435.13\"/>\n</g>\n<!-- 42 -->\n<g id=\"node43\" class=\"node\">\n<title>42</title>\n<path fill=\"#45a3e7\" stroke=\"black\" d=\"M1303.5,-306C1303.5,-306 1187.5,-306 1187.5,-306 1181.5,-306 1175.5,-300 1175.5,-294 1175.5,-294 1175.5,-235 1175.5,-235 1175.5,-229 1181.5,-223 1187.5,-223 1187.5,-223 1303.5,-223 1303.5,-223 1309.5,-223 1315.5,-229 1315.5,-235 1315.5,-235 1315.5,-294 1315.5,-294 1315.5,-300 1309.5,-306 1303.5,-306\"/>\n<text text-anchor=\"start\" x=\"1183.5\" y=\"-290.8\" font-family=\"Helvetica,sans-Serif\" font-size=\"14.00\">educational ≤ 0.5</text>\n<text text-anchor=\"start\" x=\"1192.5\" y=\"-275.8\" font-family=\"Helvetica,sans-Serif\" font-size=\"14.00\">entropy = 0.31</text>\n<text text-anchor=\"start\" x=\"1197\" y=\"-260.8\" font-family=\"Helvetica,sans-Serif\" font-size=\"14.00\">samples = 18</text>\n<text text-anchor=\"start\" x=\"1192.5\" y=\"-245.8\" font-family=\"Helvetica,sans-Serif\" font-size=\"14.00\">value = [1, 17]</text>\n<text text-anchor=\"start\" x=\"1189.5\" y=\"-230.8\" font-family=\"Helvetica,sans-Serif\" font-size=\"14.00\">class = not give</text>\n</g>\n<!-- 41&#45;&gt;42 -->\n<g id=\"edge42\" class=\"edge\">\n<title>41&#45;&gt;42</title>\n<path fill=\"none\" stroke=\"black\" d=\"M1297.74,-341.91C1291.66,-333.01 1285.16,-323.51 1278.89,-314.33\"/>\n<polygon fill=\"black\" stroke=\"black\" points=\"1281.74,-312.3 1273.21,-306.02 1275.96,-316.25 1281.74,-312.3\"/>\n</g>\n<!-- 47 -->\n<g id=\"node48\" class=\"node\">\n<title>47</title>\n<path fill=\"#e58139\" stroke=\"black\" d=\"M1435,-298.5C1435,-298.5 1346,-298.5 1346,-298.5 1340,-298.5 1334,-292.5 1334,-286.5 1334,-286.5 1334,-242.5 1334,-242.5 1334,-236.5 1340,-230.5 1346,-230.5 1346,-230.5 1435,-230.5 1435,-230.5 1441,-230.5 1447,-236.5 1447,-242.5 1447,-242.5 1447,-286.5 1447,-286.5 1447,-292.5 1441,-298.5 1435,-298.5\"/>\n<text text-anchor=\"start\" x=\"1342\" y=\"-283.3\" font-family=\"Helvetica,sans-Serif\" font-size=\"14.00\">entropy = 0.0</text>\n<text text-anchor=\"start\" x=\"1346.5\" y=\"-268.3\" font-family=\"Helvetica,sans-Serif\" font-size=\"14.00\">samples = 1</text>\n<text text-anchor=\"start\" x=\"1342\" y=\"-253.3\" font-family=\"Helvetica,sans-Serif\" font-size=\"14.00\">value = [1, 0]</text>\n<text text-anchor=\"start\" x=\"1348\" y=\"-238.3\" font-family=\"Helvetica,sans-Serif\" font-size=\"14.00\">class = give</text>\n</g>\n<!-- 41&#45;&gt;47 -->\n<g id=\"edge47\" class=\"edge\">\n<title>41&#45;&gt;47</title>\n<path fill=\"none\" stroke=\"black\" d=\"M1348.05,-341.91C1354.24,-330.76 1360.97,-318.66 1367.2,-307.44\"/>\n<polygon fill=\"black\" stroke=\"black\" points=\"1370.28,-309.11 1372.07,-298.67 1364.16,-305.71 1370.28,-309.11\"/>\n</g>\n<!-- 43 -->\n<g id=\"node44\" class=\"node\">\n<title>43</title>\n<path fill=\"#399de5\" stroke=\"black\" d=\"M1291.5,-179.5C1291.5,-179.5 1187.5,-179.5 1187.5,-179.5 1181.5,-179.5 1175.5,-173.5 1175.5,-167.5 1175.5,-167.5 1175.5,-123.5 1175.5,-123.5 1175.5,-117.5 1181.5,-111.5 1187.5,-111.5 1187.5,-111.5 1291.5,-111.5 1291.5,-111.5 1297.5,-111.5 1303.5,-117.5 1303.5,-123.5 1303.5,-123.5 1303.5,-167.5 1303.5,-167.5 1303.5,-173.5 1297.5,-179.5 1291.5,-179.5\"/>\n<text text-anchor=\"start\" x=\"1191\" y=\"-164.3\" font-family=\"Helvetica,sans-Serif\" font-size=\"14.00\">entropy = 0.0</text>\n<text text-anchor=\"start\" x=\"1191\" y=\"-149.3\" font-family=\"Helvetica,sans-Serif\" font-size=\"14.00\">samples = 15</text>\n<text text-anchor=\"start\" x=\"1186.5\" y=\"-134.3\" font-family=\"Helvetica,sans-Serif\" font-size=\"14.00\">value = [0, 15]</text>\n<text text-anchor=\"start\" x=\"1183.5\" y=\"-119.3\" font-family=\"Helvetica,sans-Serif\" font-size=\"14.00\">class = not give</text>\n</g>\n<!-- 42&#45;&gt;43 -->\n<g id=\"edge43\" class=\"edge\">\n<title>42&#45;&gt;43</title>\n<path fill=\"none\" stroke=\"black\" d=\"M1243.42,-222.91C1242.87,-212.2 1242.28,-200.62 1241.72,-189.78\"/>\n<polygon fill=\"black\" stroke=\"black\" points=\"1245.21,-189.47 1241.2,-179.67 1238.22,-189.83 1245.21,-189.47\"/>\n</g>\n<!-- 44 -->\n<g id=\"node45\" class=\"node\">\n<title>44</title>\n<path fill=\"#9ccef2\" stroke=\"black\" d=\"M1447.5,-187C1447.5,-187 1333.5,-187 1333.5,-187 1327.5,-187 1321.5,-181 1321.5,-175 1321.5,-175 1321.5,-116 1321.5,-116 1321.5,-110 1327.5,-104 1333.5,-104 1333.5,-104 1447.5,-104 1447.5,-104 1453.5,-104 1459.5,-110 1459.5,-116 1459.5,-116 1459.5,-175 1459.5,-175 1459.5,-181 1453.5,-187 1447.5,-187\"/>\n<text text-anchor=\"start\" x=\"1329.5\" y=\"-171.8\" font-family=\"Helvetica,sans-Serif\" font-size=\"14.00\">revol.util ≤ 73.85</text>\n<text text-anchor=\"start\" x=\"1333\" y=\"-156.8\" font-family=\"Helvetica,sans-Serif\" font-size=\"14.00\">entropy = 0.918</text>\n<text text-anchor=\"start\" x=\"1346.5\" y=\"-141.8\" font-family=\"Helvetica,sans-Serif\" font-size=\"14.00\">samples = 3</text>\n<text text-anchor=\"start\" x=\"1342\" y=\"-126.8\" font-family=\"Helvetica,sans-Serif\" font-size=\"14.00\">value = [1, 2]</text>\n<text text-anchor=\"start\" x=\"1334.5\" y=\"-111.8\" font-family=\"Helvetica,sans-Serif\" font-size=\"14.00\">class = not give</text>\n</g>\n<!-- 42&#45;&gt;44 -->\n<g id=\"edge44\" class=\"edge\">\n<title>42&#45;&gt;44</title>\n<path fill=\"none\" stroke=\"black\" d=\"M1295.81,-222.91C1307.62,-213.38 1320.29,-203.15 1332.41,-193.37\"/>\n<polygon fill=\"black\" stroke=\"black\" points=\"1334.7,-196.02 1340.28,-187.02 1330.3,-190.58 1334.7,-196.02\"/>\n</g>\n<!-- 45 -->\n<g id=\"node46\" class=\"node\">\n<title>45</title>\n<path fill=\"#399de5\" stroke=\"black\" d=\"M1396.5,-68C1396.5,-68 1292.5,-68 1292.5,-68 1286.5,-68 1280.5,-62 1280.5,-56 1280.5,-56 1280.5,-12 1280.5,-12 1280.5,-6 1286.5,0 1292.5,0 1292.5,0 1396.5,0 1396.5,0 1402.5,0 1408.5,-6 1408.5,-12 1408.5,-12 1408.5,-56 1408.5,-56 1408.5,-62 1402.5,-68 1396.5,-68\"/>\n<text text-anchor=\"start\" x=\"1296\" y=\"-52.8\" font-family=\"Helvetica,sans-Serif\" font-size=\"14.00\">entropy = 0.0</text>\n<text text-anchor=\"start\" x=\"1300.5\" y=\"-37.8\" font-family=\"Helvetica,sans-Serif\" font-size=\"14.00\">samples = 2</text>\n<text text-anchor=\"start\" x=\"1296\" y=\"-22.8\" font-family=\"Helvetica,sans-Serif\" font-size=\"14.00\">value = [0, 2]</text>\n<text text-anchor=\"start\" x=\"1288.5\" y=\"-7.8\" font-family=\"Helvetica,sans-Serif\" font-size=\"14.00\">class = not give</text>\n</g>\n<!-- 44&#45;&gt;45 -->\n<g id=\"edge45\" class=\"edge\">\n<title>44&#45;&gt;45</title>\n<path fill=\"none\" stroke=\"black\" d=\"M1373.37,-103.73C1369.81,-95.24 1366.04,-86.28 1362.45,-77.73\"/>\n<polygon fill=\"black\" stroke=\"black\" points=\"1365.59,-76.16 1358.49,-68.3 1359.14,-78.87 1365.59,-76.16\"/>\n</g>\n<!-- 46 -->\n<g id=\"node47\" class=\"node\">\n<title>46</title>\n<path fill=\"#e58139\" stroke=\"black\" d=\"M1528,-68C1528,-68 1439,-68 1439,-68 1433,-68 1427,-62 1427,-56 1427,-56 1427,-12 1427,-12 1427,-6 1433,0 1439,0 1439,0 1528,0 1528,0 1534,0 1540,-6 1540,-12 1540,-12 1540,-56 1540,-56 1540,-62 1534,-68 1528,-68\"/>\n<text text-anchor=\"start\" x=\"1435\" y=\"-52.8\" font-family=\"Helvetica,sans-Serif\" font-size=\"14.00\">entropy = 0.0</text>\n<text text-anchor=\"start\" x=\"1439.5\" y=\"-37.8\" font-family=\"Helvetica,sans-Serif\" font-size=\"14.00\">samples = 1</text>\n<text text-anchor=\"start\" x=\"1435\" y=\"-22.8\" font-family=\"Helvetica,sans-Serif\" font-size=\"14.00\">value = [1, 0]</text>\n<text text-anchor=\"start\" x=\"1441\" y=\"-7.8\" font-family=\"Helvetica,sans-Serif\" font-size=\"14.00\">class = give</text>\n</g>\n<!-- 44&#45;&gt;46 -->\n<g id=\"edge46\" class=\"edge\">\n<title>44&#45;&gt;46</title>\n<path fill=\"none\" stroke=\"black\" d=\"M1425.13,-103.73C1432.8,-94.7 1440.93,-85.12 1448.61,-76.08\"/>\n<polygon fill=\"black\" stroke=\"black\" points=\"1451.41,-78.19 1455.22,-68.3 1446.08,-73.66 1451.41,-78.19\"/>\n</g>\n<!-- 50 -->\n<g id=\"node51\" class=\"node\">\n<title>50</title>\n<path fill=\"#ffffff\" stroke=\"black\" d=\"M1787,-663C1787,-663 1626,-663 1626,-663 1620,-663 1614,-657 1614,-651 1614,-651 1614,-592 1614,-592 1614,-586 1620,-580 1626,-580 1626,-580 1787,-580 1787,-580 1793,-580 1799,-586 1799,-592 1799,-592 1799,-651 1799,-651 1799,-657 1793,-663 1787,-663\"/>\n<text text-anchor=\"start\" x=\"1622\" y=\"-647.8\" font-family=\"Helvetica,sans-Serif\" font-size=\"14.00\">log.annual.inc ≤ 11.932</text>\n<text text-anchor=\"start\" x=\"1658\" y=\"-632.8\" font-family=\"Helvetica,sans-Serif\" font-size=\"14.00\">entropy = 1.0</text>\n<text text-anchor=\"start\" x=\"1658\" y=\"-617.8\" font-family=\"Helvetica,sans-Serif\" font-size=\"14.00\">samples = 60</text>\n<text text-anchor=\"start\" x=\"1649\" y=\"-602.8\" font-family=\"Helvetica,sans-Serif\" font-size=\"14.00\">value = [30, 30]</text>\n<text text-anchor=\"start\" x=\"1664\" y=\"-587.8\" font-family=\"Helvetica,sans-Serif\" font-size=\"14.00\">class = give</text>\n</g>\n<!-- 49&#45;&gt;50 -->\n<g id=\"edge50\" class=\"edge\">\n<title>49&#45;&gt;50</title>\n<path fill=\"none\" stroke=\"black\" d=\"M1718.25,-698.91C1716.97,-690.56 1715.6,-681.67 1714.27,-673.02\"/>\n<polygon fill=\"black\" stroke=\"black\" points=\"1717.71,-672.37 1712.73,-663.02 1710.8,-673.44 1717.71,-672.37\"/>\n</g>\n<!-- 61 -->\n<g id=\"node62\" class=\"node\">\n<title>61</title>\n<path fill=\"#399de5\" stroke=\"black\" d=\"M1933.5,-655.5C1933.5,-655.5 1829.5,-655.5 1829.5,-655.5 1823.5,-655.5 1817.5,-649.5 1817.5,-643.5 1817.5,-643.5 1817.5,-599.5 1817.5,-599.5 1817.5,-593.5 1823.5,-587.5 1829.5,-587.5 1829.5,-587.5 1933.5,-587.5 1933.5,-587.5 1939.5,-587.5 1945.5,-593.5 1945.5,-599.5 1945.5,-599.5 1945.5,-643.5 1945.5,-643.5 1945.5,-649.5 1939.5,-655.5 1933.5,-655.5\"/>\n<text text-anchor=\"start\" x=\"1833\" y=\"-640.3\" font-family=\"Helvetica,sans-Serif\" font-size=\"14.00\">entropy = 0.0</text>\n<text text-anchor=\"start\" x=\"1833\" y=\"-625.3\" font-family=\"Helvetica,sans-Serif\" font-size=\"14.00\">samples = 62</text>\n<text text-anchor=\"start\" x=\"1828.5\" y=\"-610.3\" font-family=\"Helvetica,sans-Serif\" font-size=\"14.00\">value = [0, 62]</text>\n<text text-anchor=\"start\" x=\"1825.5\" y=\"-595.3\" font-family=\"Helvetica,sans-Serif\" font-size=\"14.00\">class = not give</text>\n</g>\n<!-- 49&#45;&gt;61 -->\n<g id=\"edge61\" class=\"edge\">\n<title>49&#45;&gt;61</title>\n<path fill=\"none\" stroke=\"black\" d=\"M1778.97,-698.91C1795.11,-686.88 1812.75,-673.73 1828.78,-661.79\"/>\n<polygon fill=\"black\" stroke=\"black\" points=\"1831.07,-664.45 1836.99,-655.67 1826.88,-658.84 1831.07,-664.45\"/>\n</g>\n<!-- 51 -->\n<g id=\"node52\" class=\"node\">\n<title>51</title>\n<path fill=\"#69b5eb\" stroke=\"black\" d=\"M1758,-544C1758,-544 1651,-544 1651,-544 1645,-544 1639,-538 1639,-532 1639,-532 1639,-473 1639,-473 1639,-467 1645,-461 1651,-461 1651,-461 1758,-461 1758,-461 1764,-461 1770,-467 1770,-473 1770,-473 1770,-532 1770,-532 1770,-538 1764,-544 1758,-544\"/>\n<text text-anchor=\"start\" x=\"1661\" y=\"-528.8\" font-family=\"Helvetica,sans-Serif\" font-size=\"14.00\">fico ≤ 742.0</text>\n<text text-anchor=\"start\" x=\"1647\" y=\"-513.8\" font-family=\"Helvetica,sans-Serif\" font-size=\"14.00\">entropy = 0.711</text>\n<text text-anchor=\"start\" x=\"1656\" y=\"-498.8\" font-family=\"Helvetica,sans-Serif\" font-size=\"14.00\">samples = 36</text>\n<text text-anchor=\"start\" x=\"1651.5\" y=\"-483.8\" font-family=\"Helvetica,sans-Serif\" font-size=\"14.00\">value = [7, 29]</text>\n<text text-anchor=\"start\" x=\"1648.5\" y=\"-468.8\" font-family=\"Helvetica,sans-Serif\" font-size=\"14.00\">class = not give</text>\n</g>\n<!-- 50&#45;&gt;51 -->\n<g id=\"edge51\" class=\"edge\">\n<title>50&#45;&gt;51</title>\n<path fill=\"none\" stroke=\"black\" d=\"M1705.81,-579.91C1705.66,-571.56 1705.51,-562.67 1705.36,-554.02\"/>\n<polygon fill=\"black\" stroke=\"black\" points=\"1708.86,-553.96 1705.19,-544.02 1701.86,-554.08 1708.86,-553.96\"/>\n</g>\n<!-- 58 -->\n<g id=\"node59\" class=\"node\">\n<title>58</title>\n<path fill=\"#e68642\" stroke=\"black\" d=\"M1904.5,-544C1904.5,-544 1800.5,-544 1800.5,-544 1794.5,-544 1788.5,-538 1788.5,-532 1788.5,-532 1788.5,-473 1788.5,-473 1788.5,-467 1794.5,-461 1800.5,-461 1800.5,-461 1904.5,-461 1904.5,-461 1910.5,-461 1916.5,-467 1916.5,-473 1916.5,-473 1916.5,-532 1916.5,-532 1916.5,-538 1910.5,-544 1904.5,-544\"/>\n<text text-anchor=\"start\" x=\"1796.5\" y=\"-528.8\" font-family=\"Helvetica,sans-Serif\" font-size=\"14.00\">int.rate ≤ 0.175</text>\n<text text-anchor=\"start\" x=\"1799.5\" y=\"-513.8\" font-family=\"Helvetica,sans-Serif\" font-size=\"14.00\">entropy = 0.25</text>\n<text text-anchor=\"start\" x=\"1804\" y=\"-498.8\" font-family=\"Helvetica,sans-Serif\" font-size=\"14.00\">samples = 24</text>\n<text text-anchor=\"start\" x=\"1799.5\" y=\"-483.8\" font-family=\"Helvetica,sans-Serif\" font-size=\"14.00\">value = [23, 1]</text>\n<text text-anchor=\"start\" x=\"1810\" y=\"-468.8\" font-family=\"Helvetica,sans-Serif\" font-size=\"14.00\">class = give</text>\n</g>\n<!-- 50&#45;&gt;58 -->\n<g id=\"edge58\" class=\"edge\">\n<title>50&#45;&gt;58</title>\n<path fill=\"none\" stroke=\"black\" d=\"M1757.15,-579.91C1769.04,-570.38 1781.81,-560.15 1794.01,-550.37\"/>\n<polygon fill=\"black\" stroke=\"black\" points=\"1796.32,-553.01 1801.94,-544.02 1791.94,-547.54 1796.32,-553.01\"/>\n</g>\n<!-- 52 -->\n<g id=\"node53\" class=\"node\">\n<title>52</title>\n<path fill=\"#47a4e7\" stroke=\"black\" d=\"M1627.5,-425C1627.5,-425 1487.5,-425 1487.5,-425 1481.5,-425 1475.5,-419 1475.5,-413 1475.5,-413 1475.5,-354 1475.5,-354 1475.5,-348 1481.5,-342 1487.5,-342 1487.5,-342 1627.5,-342 1627.5,-342 1633.5,-342 1639.5,-348 1639.5,-354 1639.5,-354 1639.5,-413 1639.5,-413 1639.5,-419 1633.5,-425 1627.5,-425\"/>\n<text text-anchor=\"start\" x=\"1483.5\" y=\"-409.8\" font-family=\"Helvetica,sans-Serif\" font-size=\"14.00\">revol.bal ≤ 111181.0</text>\n<text text-anchor=\"start\" x=\"1500\" y=\"-394.8\" font-family=\"Helvetica,sans-Serif\" font-size=\"14.00\">entropy = 0.345</text>\n<text text-anchor=\"start\" x=\"1509\" y=\"-379.8\" font-family=\"Helvetica,sans-Serif\" font-size=\"14.00\">samples = 31</text>\n<text text-anchor=\"start\" x=\"1504.5\" y=\"-364.8\" font-family=\"Helvetica,sans-Serif\" font-size=\"14.00\">value = [2, 29]</text>\n<text text-anchor=\"start\" x=\"1501.5\" y=\"-349.8\" font-family=\"Helvetica,sans-Serif\" font-size=\"14.00\">class = not give</text>\n</g>\n<!-- 51&#45;&gt;52 -->\n<g id=\"edge52\" class=\"edge\">\n<title>51&#45;&gt;52</title>\n<path fill=\"none\" stroke=\"black\" d=\"M1653.5,-460.91C1641.53,-451.38 1628.67,-441.15 1616.39,-431.37\"/>\n<polygon fill=\"black\" stroke=\"black\" points=\"1618.41,-428.51 1608.41,-425.02 1614.06,-433.99 1618.41,-428.51\"/>\n</g>\n<!-- 57 -->\n<g id=\"node58\" class=\"node\">\n<title>57</title>\n<path fill=\"#e58139\" stroke=\"black\" d=\"M1759,-417.5C1759,-417.5 1670,-417.5 1670,-417.5 1664,-417.5 1658,-411.5 1658,-405.5 1658,-405.5 1658,-361.5 1658,-361.5 1658,-355.5 1664,-349.5 1670,-349.5 1670,-349.5 1759,-349.5 1759,-349.5 1765,-349.5 1771,-355.5 1771,-361.5 1771,-361.5 1771,-405.5 1771,-405.5 1771,-411.5 1765,-417.5 1759,-417.5\"/>\n<text text-anchor=\"start\" x=\"1666\" y=\"-402.3\" font-family=\"Helvetica,sans-Serif\" font-size=\"14.00\">entropy = 0.0</text>\n<text text-anchor=\"start\" x=\"1670.5\" y=\"-387.3\" font-family=\"Helvetica,sans-Serif\" font-size=\"14.00\">samples = 5</text>\n<text text-anchor=\"start\" x=\"1666\" y=\"-372.3\" font-family=\"Helvetica,sans-Serif\" font-size=\"14.00\">value = [5, 0]</text>\n<text text-anchor=\"start\" x=\"1672\" y=\"-357.3\" font-family=\"Helvetica,sans-Serif\" font-size=\"14.00\">class = give</text>\n</g>\n<!-- 51&#45;&gt;57 -->\n<g id=\"edge57\" class=\"edge\">\n<title>51&#45;&gt;57</title>\n<path fill=\"none\" stroke=\"black\" d=\"M1707.97,-460.91C1708.88,-450.2 1709.87,-438.62 1710.8,-427.78\"/>\n<polygon fill=\"black\" stroke=\"black\" points=\"1714.3,-427.93 1711.67,-417.67 1707.33,-427.33 1714.3,-427.93\"/>\n</g>\n<!-- 53 -->\n<g id=\"node54\" class=\"node\">\n<title>53</title>\n<path fill=\"#9ccef2\" stroke=\"black\" d=\"M1638,-306C1638,-306 1477,-306 1477,-306 1471,-306 1465,-300 1465,-294 1465,-294 1465,-235 1465,-235 1465,-229 1471,-223 1477,-223 1477,-223 1638,-223 1638,-223 1644,-223 1650,-229 1650,-235 1650,-235 1650,-294 1650,-294 1650,-300 1644,-306 1638,-306\"/>\n<text text-anchor=\"start\" x=\"1473\" y=\"-290.8\" font-family=\"Helvetica,sans-Serif\" font-size=\"14.00\">log.annual.inc ≤ 11.652</text>\n<text text-anchor=\"start\" x=\"1500\" y=\"-275.8\" font-family=\"Helvetica,sans-Serif\" font-size=\"14.00\">entropy = 0.918</text>\n<text text-anchor=\"start\" x=\"1513.5\" y=\"-260.8\" font-family=\"Helvetica,sans-Serif\" font-size=\"14.00\">samples = 6</text>\n<text text-anchor=\"start\" x=\"1509\" y=\"-245.8\" font-family=\"Helvetica,sans-Serif\" font-size=\"14.00\">value = [2, 4]</text>\n<text text-anchor=\"start\" x=\"1501.5\" y=\"-230.8\" font-family=\"Helvetica,sans-Serif\" font-size=\"14.00\">class = not give</text>\n</g>\n<!-- 52&#45;&gt;53 -->\n<g id=\"edge53\" class=\"edge\">\n<title>52&#45;&gt;53</title>\n<path fill=\"none\" stroke=\"black\" d=\"M1557.5,-341.91C1557.5,-333.65 1557.5,-324.86 1557.5,-316.3\"/>\n<polygon fill=\"black\" stroke=\"black\" points=\"1561,-316.02 1557.5,-306.02 1554,-316.02 1561,-316.02\"/>\n</g>\n<!-- 56 -->\n<g id=\"node57\" class=\"node\">\n<title>56</title>\n<path fill=\"#399de5\" stroke=\"black\" d=\"M1784.5,-298.5C1784.5,-298.5 1680.5,-298.5 1680.5,-298.5 1674.5,-298.5 1668.5,-292.5 1668.5,-286.5 1668.5,-286.5 1668.5,-242.5 1668.5,-242.5 1668.5,-236.5 1674.5,-230.5 1680.5,-230.5 1680.5,-230.5 1784.5,-230.5 1784.5,-230.5 1790.5,-230.5 1796.5,-236.5 1796.5,-242.5 1796.5,-242.5 1796.5,-286.5 1796.5,-286.5 1796.5,-292.5 1790.5,-298.5 1784.5,-298.5\"/>\n<text text-anchor=\"start\" x=\"1684\" y=\"-283.3\" font-family=\"Helvetica,sans-Serif\" font-size=\"14.00\">entropy = 0.0</text>\n<text text-anchor=\"start\" x=\"1684\" y=\"-268.3\" font-family=\"Helvetica,sans-Serif\" font-size=\"14.00\">samples = 25</text>\n<text text-anchor=\"start\" x=\"1679.5\" y=\"-253.3\" font-family=\"Helvetica,sans-Serif\" font-size=\"14.00\">value = [0, 25]</text>\n<text text-anchor=\"start\" x=\"1676.5\" y=\"-238.3\" font-family=\"Helvetica,sans-Serif\" font-size=\"14.00\">class = not give</text>\n</g>\n<!-- 52&#45;&gt;56 -->\n<g id=\"edge56\" class=\"edge\">\n<title>52&#45;&gt;56</title>\n<path fill=\"none\" stroke=\"black\" d=\"M1618.22,-341.91C1636.37,-329.77 1656.23,-316.49 1674.22,-304.46\"/>\n<polygon fill=\"black\" stroke=\"black\" points=\"1676.52,-307.13 1682.89,-298.67 1672.63,-301.32 1676.52,-307.13\"/>\n</g>\n<!-- 54 -->\n<g id=\"node55\" class=\"node\">\n<title>54</title>\n<path fill=\"#399de5\" stroke=\"black\" d=\"M1601.5,-179.5C1601.5,-179.5 1497.5,-179.5 1497.5,-179.5 1491.5,-179.5 1485.5,-173.5 1485.5,-167.5 1485.5,-167.5 1485.5,-123.5 1485.5,-123.5 1485.5,-117.5 1491.5,-111.5 1497.5,-111.5 1497.5,-111.5 1601.5,-111.5 1601.5,-111.5 1607.5,-111.5 1613.5,-117.5 1613.5,-123.5 1613.5,-123.5 1613.5,-167.5 1613.5,-167.5 1613.5,-173.5 1607.5,-179.5 1601.5,-179.5\"/>\n<text text-anchor=\"start\" x=\"1501\" y=\"-164.3\" font-family=\"Helvetica,sans-Serif\" font-size=\"14.00\">entropy = 0.0</text>\n<text text-anchor=\"start\" x=\"1505.5\" y=\"-149.3\" font-family=\"Helvetica,sans-Serif\" font-size=\"14.00\">samples = 4</text>\n<text text-anchor=\"start\" x=\"1501\" y=\"-134.3\" font-family=\"Helvetica,sans-Serif\" font-size=\"14.00\">value = [0, 4]</text>\n<text text-anchor=\"start\" x=\"1493.5\" y=\"-119.3\" font-family=\"Helvetica,sans-Serif\" font-size=\"14.00\">class = not give</text>\n</g>\n<!-- 53&#45;&gt;54 -->\n<g id=\"edge54\" class=\"edge\">\n<title>53&#45;&gt;54</title>\n<path fill=\"none\" stroke=\"black\" d=\"M1554.72,-222.91C1553.99,-212.2 1553.2,-200.62 1552.46,-189.78\"/>\n<polygon fill=\"black\" stroke=\"black\" points=\"1555.94,-189.4 1551.77,-179.67 1548.96,-189.88 1555.94,-189.4\"/>\n</g>\n<!-- 55 -->\n<g id=\"node56\" class=\"node\">\n<title>55</title>\n<path fill=\"#e58139\" stroke=\"black\" d=\"M1733,-179.5C1733,-179.5 1644,-179.5 1644,-179.5 1638,-179.5 1632,-173.5 1632,-167.5 1632,-167.5 1632,-123.5 1632,-123.5 1632,-117.5 1638,-111.5 1644,-111.5 1644,-111.5 1733,-111.5 1733,-111.5 1739,-111.5 1745,-117.5 1745,-123.5 1745,-123.5 1745,-167.5 1745,-167.5 1745,-173.5 1739,-179.5 1733,-179.5\"/>\n<text text-anchor=\"start\" x=\"1640\" y=\"-164.3\" font-family=\"Helvetica,sans-Serif\" font-size=\"14.00\">entropy = 0.0</text>\n<text text-anchor=\"start\" x=\"1644.5\" y=\"-149.3\" font-family=\"Helvetica,sans-Serif\" font-size=\"14.00\">samples = 2</text>\n<text text-anchor=\"start\" x=\"1640\" y=\"-134.3\" font-family=\"Helvetica,sans-Serif\" font-size=\"14.00\">value = [2, 0]</text>\n<text text-anchor=\"start\" x=\"1646\" y=\"-119.3\" font-family=\"Helvetica,sans-Serif\" font-size=\"14.00\">class = give</text>\n</g>\n<!-- 53&#45;&gt;55 -->\n<g id=\"edge55\" class=\"edge\">\n<title>53&#45;&gt;55</title>\n<path fill=\"none\" stroke=\"black\" d=\"M1602.95,-222.91C1616.17,-211.1 1630.6,-198.22 1643.77,-186.45\"/>\n<polygon fill=\"black\" stroke=\"black\" points=\"1646.24,-188.94 1651.36,-179.67 1641.57,-183.72 1646.24,-188.94\"/>\n</g>\n<!-- 59 -->\n<g id=\"node60\" class=\"node\">\n<title>59</title>\n<path fill=\"#e58139\" stroke=\"black\" d=\"M1899.5,-417.5C1899.5,-417.5 1801.5,-417.5 1801.5,-417.5 1795.5,-417.5 1789.5,-411.5 1789.5,-405.5 1789.5,-405.5 1789.5,-361.5 1789.5,-361.5 1789.5,-355.5 1795.5,-349.5 1801.5,-349.5 1801.5,-349.5 1899.5,-349.5 1899.5,-349.5 1905.5,-349.5 1911.5,-355.5 1911.5,-361.5 1911.5,-361.5 1911.5,-405.5 1911.5,-405.5 1911.5,-411.5 1905.5,-417.5 1899.5,-417.5\"/>\n<text text-anchor=\"start\" x=\"1802\" y=\"-402.3\" font-family=\"Helvetica,sans-Serif\" font-size=\"14.00\">entropy = 0.0</text>\n<text text-anchor=\"start\" x=\"1802\" y=\"-387.3\" font-family=\"Helvetica,sans-Serif\" font-size=\"14.00\">samples = 23</text>\n<text text-anchor=\"start\" x=\"1797.5\" y=\"-372.3\" font-family=\"Helvetica,sans-Serif\" font-size=\"14.00\">value = [23, 0]</text>\n<text text-anchor=\"start\" x=\"1808\" y=\"-357.3\" font-family=\"Helvetica,sans-Serif\" font-size=\"14.00\">class = give</text>\n</g>\n<!-- 58&#45;&gt;59 -->\n<g id=\"edge59\" class=\"edge\">\n<title>58&#45;&gt;59</title>\n<path fill=\"none\" stroke=\"black\" d=\"M1851.81,-460.91C1851.62,-450.2 1851.43,-438.62 1851.24,-427.78\"/>\n<polygon fill=\"black\" stroke=\"black\" points=\"1854.74,-427.61 1851.07,-417.67 1847.74,-427.73 1854.74,-427.61\"/>\n</g>\n<!-- 60 -->\n<g id=\"node61\" class=\"node\">\n<title>60</title>\n<path fill=\"#399de5\" stroke=\"black\" d=\"M2045.5,-417.5C2045.5,-417.5 1941.5,-417.5 1941.5,-417.5 1935.5,-417.5 1929.5,-411.5 1929.5,-405.5 1929.5,-405.5 1929.5,-361.5 1929.5,-361.5 1929.5,-355.5 1935.5,-349.5 1941.5,-349.5 1941.5,-349.5 2045.5,-349.5 2045.5,-349.5 2051.5,-349.5 2057.5,-355.5 2057.5,-361.5 2057.5,-361.5 2057.5,-405.5 2057.5,-405.5 2057.5,-411.5 2051.5,-417.5 2045.5,-417.5\"/>\n<text text-anchor=\"start\" x=\"1945\" y=\"-402.3\" font-family=\"Helvetica,sans-Serif\" font-size=\"14.00\">entropy = 0.0</text>\n<text text-anchor=\"start\" x=\"1949.5\" y=\"-387.3\" font-family=\"Helvetica,sans-Serif\" font-size=\"14.00\">samples = 1</text>\n<text text-anchor=\"start\" x=\"1945\" y=\"-372.3\" font-family=\"Helvetica,sans-Serif\" font-size=\"14.00\">value = [0, 1]</text>\n<text text-anchor=\"start\" x=\"1937.5\" y=\"-357.3\" font-family=\"Helvetica,sans-Serif\" font-size=\"14.00\">class = not give</text>\n</g>\n<!-- 58&#45;&gt;60 -->\n<g id=\"edge60\" class=\"edge\">\n<title>58&#45;&gt;60</title>\n<path fill=\"none\" stroke=\"black\" d=\"M1901.42,-460.91C1915.78,-448.99 1931.47,-435.98 1945.75,-424.12\"/>\n<polygon fill=\"black\" stroke=\"black\" points=\"1948.07,-426.75 1953.53,-417.67 1943.6,-421.36 1948.07,-426.75\"/>\n</g>\n<!-- 63 -->\n<g id=\"node64\" class=\"node\">\n<title>63</title>\n<path fill=\"#399de5\" stroke=\"black\" d=\"M2037,-1012.5C2037,-1012.5 1930,-1012.5 1930,-1012.5 1924,-1012.5 1918,-1006.5 1918,-1000.5 1918,-1000.5 1918,-956.5 1918,-956.5 1918,-950.5 1924,-944.5 1930,-944.5 1930,-944.5 2037,-944.5 2037,-944.5 2043,-944.5 2049,-950.5 2049,-956.5 2049,-956.5 2049,-1000.5 2049,-1000.5 2049,-1006.5 2043,-1012.5 2037,-1012.5\"/>\n<text text-anchor=\"start\" x=\"1935\" y=\"-997.3\" font-family=\"Helvetica,sans-Serif\" font-size=\"14.00\">entropy = 0.0</text>\n<text text-anchor=\"start\" x=\"1930.5\" y=\"-982.3\" font-family=\"Helvetica,sans-Serif\" font-size=\"14.00\">samples = 839</text>\n<text text-anchor=\"start\" x=\"1926\" y=\"-967.3\" font-family=\"Helvetica,sans-Serif\" font-size=\"14.00\">value = [0, 839]</text>\n<text text-anchor=\"start\" x=\"1927.5\" y=\"-952.3\" font-family=\"Helvetica,sans-Serif\" font-size=\"14.00\">class = not give</text>\n</g>\n<!-- 62&#45;&gt;63 -->\n<g id=\"edge63\" class=\"edge\">\n<title>62&#45;&gt;63</title>\n<path fill=\"none\" stroke=\"black\" d=\"M1983.5,-1055.91C1983.5,-1045.2 1983.5,-1033.62 1983.5,-1022.78\"/>\n<polygon fill=\"black\" stroke=\"black\" points=\"1987,-1022.67 1983.5,-1012.67 1980,-1022.67 1987,-1022.67\"/>\n</g>\n<!-- 64 -->\n<g id=\"node65\" class=\"node\">\n<title>64</title>\n<path fill=\"#e89051\" stroke=\"black\" d=\"M2281.5,-1020C2281.5,-1020 2145.5,-1020 2145.5,-1020 2139.5,-1020 2133.5,-1014 2133.5,-1008 2133.5,-1008 2133.5,-949 2133.5,-949 2133.5,-943 2139.5,-937 2145.5,-937 2145.5,-937 2281.5,-937 2281.5,-937 2287.5,-937 2293.5,-943 2293.5,-949 2293.5,-949 2293.5,-1008 2293.5,-1008 2293.5,-1014 2287.5,-1020 2281.5,-1020\"/>\n<text text-anchor=\"start\" x=\"2141.5\" y=\"-1004.8\" font-family=\"Helvetica,sans-Serif\" font-size=\"14.00\">inq.last.6mths ≤ 8.5</text>\n<text text-anchor=\"start\" x=\"2156\" y=\"-989.8\" font-family=\"Helvetica,sans-Serif\" font-size=\"14.00\">entropy = 0.492</text>\n<text text-anchor=\"start\" x=\"2160.5\" y=\"-974.8\" font-family=\"Helvetica,sans-Serif\" font-size=\"14.00\">samples = 149</text>\n<text text-anchor=\"start\" x=\"2151.5\" y=\"-959.8\" font-family=\"Helvetica,sans-Serif\" font-size=\"14.00\">value = [133, 16]</text>\n<text text-anchor=\"start\" x=\"2171\" y=\"-944.8\" font-family=\"Helvetica,sans-Serif\" font-size=\"14.00\">class = give</text>\n</g>\n<!-- 62&#45;&gt;64 -->\n<g id=\"edge64\" class=\"edge\">\n<title>62&#45;&gt;64</title>\n<path fill=\"none\" stroke=\"black\" d=\"M2058.17,-1058.51C2079.39,-1047.72 2102.7,-1035.87 2124.66,-1024.69\"/>\n<polygon fill=\"black\" stroke=\"black\" points=\"2126.33,-1027.77 2133.65,-1020.12 2123.15,-1021.53 2126.33,-1027.77\"/>\n</g>\n<!-- 65 -->\n<g id=\"node66\" class=\"node\">\n<title>65</title>\n<path fill=\"#e78a48\" stroke=\"black\" d=\"M2283.5,-901C2283.5,-901 2143.5,-901 2143.5,-901 2137.5,-901 2131.5,-895 2131.5,-889 2131.5,-889 2131.5,-830 2131.5,-830 2131.5,-824 2137.5,-818 2143.5,-818 2143.5,-818 2283.5,-818 2283.5,-818 2289.5,-818 2295.5,-824 2295.5,-830 2295.5,-830 2295.5,-889 2295.5,-889 2295.5,-895 2289.5,-901 2283.5,-901\"/>\n<text text-anchor=\"start\" x=\"2139.5\" y=\"-885.8\" font-family=\"Helvetica,sans-Serif\" font-size=\"14.00\">revol.bal ≤ 182002.0</text>\n<text text-anchor=\"start\" x=\"2156\" y=\"-870.8\" font-family=\"Helvetica,sans-Serif\" font-size=\"14.00\">entropy = 0.366</text>\n<text text-anchor=\"start\" x=\"2160.5\" y=\"-855.8\" font-family=\"Helvetica,sans-Serif\" font-size=\"14.00\">samples = 143</text>\n<text text-anchor=\"start\" x=\"2151.5\" y=\"-840.8\" font-family=\"Helvetica,sans-Serif\" font-size=\"14.00\">value = [133, 10]</text>\n<text text-anchor=\"start\" x=\"2171\" y=\"-825.8\" font-family=\"Helvetica,sans-Serif\" font-size=\"14.00\">class = give</text>\n</g>\n<!-- 64&#45;&gt;65 -->\n<g id=\"edge65\" class=\"edge\">\n<title>64&#45;&gt;65</title>\n<path fill=\"none\" stroke=\"black\" d=\"M2213.5,-936.91C2213.5,-928.65 2213.5,-919.86 2213.5,-911.3\"/>\n<polygon fill=\"black\" stroke=\"black\" points=\"2217,-911.02 2213.5,-901.02 2210,-911.02 2217,-911.02\"/>\n</g>\n<!-- 80 -->\n<g id=\"node81\" class=\"node\">\n<title>80</title>\n<path fill=\"#399de5\" stroke=\"black\" d=\"M2429.5,-893.5C2429.5,-893.5 2325.5,-893.5 2325.5,-893.5 2319.5,-893.5 2313.5,-887.5 2313.5,-881.5 2313.5,-881.5 2313.5,-837.5 2313.5,-837.5 2313.5,-831.5 2319.5,-825.5 2325.5,-825.5 2325.5,-825.5 2429.5,-825.5 2429.5,-825.5 2435.5,-825.5 2441.5,-831.5 2441.5,-837.5 2441.5,-837.5 2441.5,-881.5 2441.5,-881.5 2441.5,-887.5 2435.5,-893.5 2429.5,-893.5\"/>\n<text text-anchor=\"start\" x=\"2329\" y=\"-878.3\" font-family=\"Helvetica,sans-Serif\" font-size=\"14.00\">entropy = 0.0</text>\n<text text-anchor=\"start\" x=\"2333.5\" y=\"-863.3\" font-family=\"Helvetica,sans-Serif\" font-size=\"14.00\">samples = 6</text>\n<text text-anchor=\"start\" x=\"2329\" y=\"-848.3\" font-family=\"Helvetica,sans-Serif\" font-size=\"14.00\">value = [0, 6]</text>\n<text text-anchor=\"start\" x=\"2321.5\" y=\"-833.3\" font-family=\"Helvetica,sans-Serif\" font-size=\"14.00\">class = not give</text>\n</g>\n<!-- 64&#45;&gt;80 -->\n<g id=\"edge80\" class=\"edge\">\n<title>64&#45;&gt;80</title>\n<path fill=\"none\" stroke=\"black\" d=\"M2270.4,-936.91C2287.26,-924.88 2305.68,-911.73 2322.43,-899.79\"/>\n<polygon fill=\"black\" stroke=\"black\" points=\"2324.9,-902.32 2331.01,-893.67 2320.84,-896.63 2324.9,-902.32\"/>\n</g>\n<!-- 66 -->\n<g id=\"node67\" class=\"node\">\n<title>66</title>\n<path fill=\"#e68843\" stroke=\"black\" d=\"M2267,-782C2267,-782 2160,-782 2160,-782 2154,-782 2148,-776 2148,-770 2148,-770 2148,-711 2148,-711 2148,-705 2154,-699 2160,-699 2160,-699 2267,-699 2267,-699 2273,-699 2279,-705 2279,-711 2279,-711 2279,-770 2279,-770 2279,-776 2273,-782 2267,-782\"/>\n<text text-anchor=\"start\" x=\"2162\" y=\"-766.8\" font-family=\"Helvetica,sans-Serif\" font-size=\"14.00\">revol.bal ≤ 2.5</text>\n<text text-anchor=\"start\" x=\"2156\" y=\"-751.8\" font-family=\"Helvetica,sans-Serif\" font-size=\"14.00\">entropy = 0.286</text>\n<text text-anchor=\"start\" x=\"2160.5\" y=\"-736.8\" font-family=\"Helvetica,sans-Serif\" font-size=\"14.00\">samples = 140</text>\n<text text-anchor=\"start\" x=\"2156\" y=\"-721.8\" font-family=\"Helvetica,sans-Serif\" font-size=\"14.00\">value = [133, 7]</text>\n<text text-anchor=\"start\" x=\"2171\" y=\"-706.8\" font-family=\"Helvetica,sans-Serif\" font-size=\"14.00\">class = give</text>\n</g>\n<!-- 65&#45;&gt;66 -->\n<g id=\"edge66\" class=\"edge\">\n<title>65&#45;&gt;66</title>\n<path fill=\"none\" stroke=\"black\" d=\"M2213.5,-817.91C2213.5,-809.65 2213.5,-800.86 2213.5,-792.3\"/>\n<polygon fill=\"black\" stroke=\"black\" points=\"2217,-792.02 2213.5,-782.02 2210,-792.02 2217,-792.02\"/>\n</g>\n<!-- 79 -->\n<g id=\"node80\" class=\"node\">\n<title>79</title>\n<path fill=\"#399de5\" stroke=\"black\" d=\"M2413.5,-774.5C2413.5,-774.5 2309.5,-774.5 2309.5,-774.5 2303.5,-774.5 2297.5,-768.5 2297.5,-762.5 2297.5,-762.5 2297.5,-718.5 2297.5,-718.5 2297.5,-712.5 2303.5,-706.5 2309.5,-706.5 2309.5,-706.5 2413.5,-706.5 2413.5,-706.5 2419.5,-706.5 2425.5,-712.5 2425.5,-718.5 2425.5,-718.5 2425.5,-762.5 2425.5,-762.5 2425.5,-768.5 2419.5,-774.5 2413.5,-774.5\"/>\n<text text-anchor=\"start\" x=\"2313\" y=\"-759.3\" font-family=\"Helvetica,sans-Serif\" font-size=\"14.00\">entropy = 0.0</text>\n<text text-anchor=\"start\" x=\"2317.5\" y=\"-744.3\" font-family=\"Helvetica,sans-Serif\" font-size=\"14.00\">samples = 3</text>\n<text text-anchor=\"start\" x=\"2313\" y=\"-729.3\" font-family=\"Helvetica,sans-Serif\" font-size=\"14.00\">value = [0, 3]</text>\n<text text-anchor=\"start\" x=\"2305.5\" y=\"-714.3\" font-family=\"Helvetica,sans-Serif\" font-size=\"14.00\">class = not give</text>\n</g>\n<!-- 65&#45;&gt;79 -->\n<g id=\"edge79\" class=\"edge\">\n<title>65&#45;&gt;79</title>\n<path fill=\"none\" stroke=\"black\" d=\"M2264.85,-817.91C2279.92,-805.99 2296.39,-792.98 2311.38,-781.12\"/>\n<polygon fill=\"black\" stroke=\"black\" points=\"2313.87,-783.61 2319.55,-774.67 2309.53,-778.12 2313.87,-783.61\"/>\n</g>\n<!-- 67 -->\n<g id=\"node68\" class=\"node\">\n<title>67</title>\n<path fill=\"#f8dbc6\" stroke=\"black\" d=\"M2266,-663C2266,-663 2161,-663 2161,-663 2155,-663 2149,-657 2149,-651 2149,-651 2149,-592 2149,-592 2149,-586 2155,-580 2161,-580 2161,-580 2266,-580 2266,-580 2272,-580 2278,-586 2278,-592 2278,-592 2278,-651 2278,-651 2278,-657 2272,-663 2266,-663\"/>\n<text text-anchor=\"start\" x=\"2157\" y=\"-647.8\" font-family=\"Helvetica,sans-Serif\" font-size=\"14.00\">revol.util ≤ 0.65</text>\n<text text-anchor=\"start\" x=\"2160.5\" y=\"-632.8\" font-family=\"Helvetica,sans-Serif\" font-size=\"14.00\">entropy = 0.98</text>\n<text text-anchor=\"start\" x=\"2165\" y=\"-617.8\" font-family=\"Helvetica,sans-Serif\" font-size=\"14.00\">samples = 12</text>\n<text text-anchor=\"start\" x=\"2165\" y=\"-602.8\" font-family=\"Helvetica,sans-Serif\" font-size=\"14.00\">value = [7, 5]</text>\n<text text-anchor=\"start\" x=\"2171\" y=\"-587.8\" font-family=\"Helvetica,sans-Serif\" font-size=\"14.00\">class = give</text>\n</g>\n<!-- 66&#45;&gt;67 -->\n<g id=\"edge67\" class=\"edge\">\n<title>66&#45;&gt;67</title>\n<path fill=\"none\" stroke=\"black\" d=\"M2213.5,-698.91C2213.5,-690.65 2213.5,-681.86 2213.5,-673.3\"/>\n<polygon fill=\"black\" stroke=\"black\" points=\"2217,-673.02 2213.5,-663.02 2210,-673.02 2217,-673.02\"/>\n</g>\n<!-- 72 -->\n<g id=\"node73\" class=\"node\">\n<title>72</title>\n<path fill=\"#e5833c\" stroke=\"black\" d=\"M2516,-663C2516,-663 2409,-663 2409,-663 2403,-663 2397,-657 2397,-651 2397,-651 2397,-592 2397,-592 2397,-586 2403,-580 2409,-580 2409,-580 2516,-580 2516,-580 2522,-580 2528,-586 2528,-592 2528,-592 2528,-651 2528,-651 2528,-657 2522,-663 2516,-663\"/>\n<text text-anchor=\"start\" x=\"2418\" y=\"-647.8\" font-family=\"Helvetica,sans-Serif\" font-size=\"14.00\">dti ≤ 25.515</text>\n<text text-anchor=\"start\" x=\"2405\" y=\"-632.8\" font-family=\"Helvetica,sans-Serif\" font-size=\"14.00\">entropy = 0.116</text>\n<text text-anchor=\"start\" x=\"2409.5\" y=\"-617.8\" font-family=\"Helvetica,sans-Serif\" font-size=\"14.00\">samples = 128</text>\n<text text-anchor=\"start\" x=\"2405\" y=\"-602.8\" font-family=\"Helvetica,sans-Serif\" font-size=\"14.00\">value = [126, 2]</text>\n<text text-anchor=\"start\" x=\"2420\" y=\"-587.8\" font-family=\"Helvetica,sans-Serif\" font-size=\"14.00\">class = give</text>\n</g>\n<!-- 66&#45;&gt;72 -->\n<g id=\"edge72\" class=\"edge\">\n<title>66&#45;&gt;72</title>\n<path fill=\"none\" stroke=\"black\" d=\"M2279.19,-703.64C2282.33,-702.05 2285.44,-700.49 2288.5,-699 2320.47,-683.37 2356.39,-667.33 2387.25,-654.01\"/>\n<polygon fill=\"black\" stroke=\"black\" points=\"2388.85,-657.13 2396.65,-649.96 2386.08,-650.7 2388.85,-657.13\"/>\n</g>\n<!-- 68 -->\n<g id=\"node69\" class=\"node\">\n<title>68</title>\n<path fill=\"#e99355\" stroke=\"black\" d=\"M2193,-544C2193,-544 2086,-544 2086,-544 2080,-544 2074,-538 2074,-532 2074,-532 2074,-473 2074,-473 2074,-467 2080,-461 2086,-461 2086,-461 2193,-461 2193,-461 2199,-461 2205,-467 2205,-473 2205,-473 2205,-532 2205,-532 2205,-538 2199,-544 2193,-544\"/>\n<text text-anchor=\"start\" x=\"2096\" y=\"-528.8\" font-family=\"Helvetica,sans-Serif\" font-size=\"14.00\">fico ≤ 744.5</text>\n<text text-anchor=\"start\" x=\"2082\" y=\"-513.8\" font-family=\"Helvetica,sans-Serif\" font-size=\"14.00\">entropy = 0.544</text>\n<text text-anchor=\"start\" x=\"2095.5\" y=\"-498.8\" font-family=\"Helvetica,sans-Serif\" font-size=\"14.00\">samples = 8</text>\n<text text-anchor=\"start\" x=\"2091\" y=\"-483.8\" font-family=\"Helvetica,sans-Serif\" font-size=\"14.00\">value = [7, 1]</text>\n<text text-anchor=\"start\" x=\"2097\" y=\"-468.8\" font-family=\"Helvetica,sans-Serif\" font-size=\"14.00\">class = give</text>\n</g>\n<!-- 67&#45;&gt;68 -->\n<g id=\"edge68\" class=\"edge\">\n<title>67&#45;&gt;68</title>\n<path fill=\"none\" stroke=\"black\" d=\"M2187.83,-579.91C2182.26,-571.1 2176.31,-561.7 2170.56,-552.61\"/>\n<polygon fill=\"black\" stroke=\"black\" points=\"2173.43,-550.6 2165.13,-544.02 2167.52,-554.34 2173.43,-550.6\"/>\n</g>\n<!-- 71 -->\n<g id=\"node72\" class=\"node\">\n<title>71</title>\n<path fill=\"#399de5\" stroke=\"black\" d=\"M2339.5,-536.5C2339.5,-536.5 2235.5,-536.5 2235.5,-536.5 2229.5,-536.5 2223.5,-530.5 2223.5,-524.5 2223.5,-524.5 2223.5,-480.5 2223.5,-480.5 2223.5,-474.5 2229.5,-468.5 2235.5,-468.5 2235.5,-468.5 2339.5,-468.5 2339.5,-468.5 2345.5,-468.5 2351.5,-474.5 2351.5,-480.5 2351.5,-480.5 2351.5,-524.5 2351.5,-524.5 2351.5,-530.5 2345.5,-536.5 2339.5,-536.5\"/>\n<text text-anchor=\"start\" x=\"2239\" y=\"-521.3\" font-family=\"Helvetica,sans-Serif\" font-size=\"14.00\">entropy = 0.0</text>\n<text text-anchor=\"start\" x=\"2243.5\" y=\"-506.3\" font-family=\"Helvetica,sans-Serif\" font-size=\"14.00\">samples = 4</text>\n<text text-anchor=\"start\" x=\"2239\" y=\"-491.3\" font-family=\"Helvetica,sans-Serif\" font-size=\"14.00\">value = [0, 4]</text>\n<text text-anchor=\"start\" x=\"2231.5\" y=\"-476.3\" font-family=\"Helvetica,sans-Serif\" font-size=\"14.00\">class = not give</text>\n</g>\n<!-- 67&#45;&gt;71 -->\n<g id=\"edge71\" class=\"edge\">\n<title>67&#45;&gt;71</title>\n<path fill=\"none\" stroke=\"black\" d=\"M2239.17,-579.91C2246.22,-568.76 2253.88,-556.66 2260.97,-545.44\"/>\n<polygon fill=\"black\" stroke=\"black\" points=\"2264.14,-546.99 2266.52,-536.67 2258.22,-543.25 2264.14,-546.99\"/>\n</g>\n<!-- 69 -->\n<g id=\"node70\" class=\"node\">\n<title>69</title>\n<path fill=\"#399de5\" stroke=\"black\" d=\"M2191.5,-417.5C2191.5,-417.5 2087.5,-417.5 2087.5,-417.5 2081.5,-417.5 2075.5,-411.5 2075.5,-405.5 2075.5,-405.5 2075.5,-361.5 2075.5,-361.5 2075.5,-355.5 2081.5,-349.5 2087.5,-349.5 2087.5,-349.5 2191.5,-349.5 2191.5,-349.5 2197.5,-349.5 2203.5,-355.5 2203.5,-361.5 2203.5,-361.5 2203.5,-405.5 2203.5,-405.5 2203.5,-411.5 2197.5,-417.5 2191.5,-417.5\"/>\n<text text-anchor=\"start\" x=\"2091\" y=\"-402.3\" font-family=\"Helvetica,sans-Serif\" font-size=\"14.00\">entropy = 0.0</text>\n<text text-anchor=\"start\" x=\"2095.5\" y=\"-387.3\" font-family=\"Helvetica,sans-Serif\" font-size=\"14.00\">samples = 1</text>\n<text text-anchor=\"start\" x=\"2091\" y=\"-372.3\" font-family=\"Helvetica,sans-Serif\" font-size=\"14.00\">value = [0, 1]</text>\n<text text-anchor=\"start\" x=\"2083.5\" y=\"-357.3\" font-family=\"Helvetica,sans-Serif\" font-size=\"14.00\">class = not give</text>\n</g>\n<!-- 68&#45;&gt;69 -->\n<g id=\"edge69\" class=\"edge\">\n<title>68&#45;&gt;69</title>\n<path fill=\"none\" stroke=\"black\" d=\"M2139.5,-460.91C2139.5,-450.2 2139.5,-438.62 2139.5,-427.78\"/>\n<polygon fill=\"black\" stroke=\"black\" points=\"2143,-427.67 2139.5,-417.67 2136,-427.67 2143,-427.67\"/>\n</g>\n<!-- 70 -->\n<g id=\"node71\" class=\"node\">\n<title>70</title>\n<path fill=\"#e58139\" stroke=\"black\" d=\"M2323,-417.5C2323,-417.5 2234,-417.5 2234,-417.5 2228,-417.5 2222,-411.5 2222,-405.5 2222,-405.5 2222,-361.5 2222,-361.5 2222,-355.5 2228,-349.5 2234,-349.5 2234,-349.5 2323,-349.5 2323,-349.5 2329,-349.5 2335,-355.5 2335,-361.5 2335,-361.5 2335,-405.5 2335,-405.5 2335,-411.5 2329,-417.5 2323,-417.5\"/>\n<text text-anchor=\"start\" x=\"2230\" y=\"-402.3\" font-family=\"Helvetica,sans-Serif\" font-size=\"14.00\">entropy = 0.0</text>\n<text text-anchor=\"start\" x=\"2234.5\" y=\"-387.3\" font-family=\"Helvetica,sans-Serif\" font-size=\"14.00\">samples = 7</text>\n<text text-anchor=\"start\" x=\"2230\" y=\"-372.3\" font-family=\"Helvetica,sans-Serif\" font-size=\"14.00\">value = [7, 0]</text>\n<text text-anchor=\"start\" x=\"2236\" y=\"-357.3\" font-family=\"Helvetica,sans-Serif\" font-size=\"14.00\">class = give</text>\n</g>\n<!-- 68&#45;&gt;70 -->\n<g id=\"edge70\" class=\"edge\">\n<title>68&#45;&gt;70</title>\n<path fill=\"none\" stroke=\"black\" d=\"M2187.73,-460.91C2201.88,-448.99 2217.35,-435.98 2231.43,-424.12\"/>\n<polygon fill=\"black\" stroke=\"black\" points=\"2233.7,-426.78 2239.1,-417.67 2229.19,-421.43 2233.7,-426.78\"/>\n</g>\n<!-- 73 -->\n<g id=\"node74\" class=\"node\">\n<title>73</title>\n<path fill=\"#e5823b\" stroke=\"black\" d=\"M2543,-544C2543,-544 2382,-544 2382,-544 2376,-544 2370,-538 2370,-532 2370,-532 2370,-473 2370,-473 2370,-467 2376,-461 2382,-461 2382,-461 2543,-461 2543,-461 2549,-461 2555,-467 2555,-473 2555,-473 2555,-532 2555,-532 2555,-538 2549,-544 2543,-544\"/>\n<text text-anchor=\"start\" x=\"2378\" y=\"-528.8\" font-family=\"Helvetica,sans-Serif\" font-size=\"14.00\">log.annual.inc ≤ 10.039</text>\n<text text-anchor=\"start\" x=\"2405\" y=\"-513.8\" font-family=\"Helvetica,sans-Serif\" font-size=\"14.00\">entropy = 0.066</text>\n<text text-anchor=\"start\" x=\"2409.5\" y=\"-498.8\" font-family=\"Helvetica,sans-Serif\" font-size=\"14.00\">samples = 127</text>\n<text text-anchor=\"start\" x=\"2405\" y=\"-483.8\" font-family=\"Helvetica,sans-Serif\" font-size=\"14.00\">value = [126, 1]</text>\n<text text-anchor=\"start\" x=\"2420\" y=\"-468.8\" font-family=\"Helvetica,sans-Serif\" font-size=\"14.00\">class = give</text>\n</g>\n<!-- 72&#45;&gt;73 -->\n<g id=\"edge73\" class=\"edge\">\n<title>72&#45;&gt;73</title>\n<path fill=\"none\" stroke=\"black\" d=\"M2462.5,-579.91C2462.5,-571.65 2462.5,-562.86 2462.5,-554.3\"/>\n<polygon fill=\"black\" stroke=\"black\" points=\"2466,-554.02 2462.5,-544.02 2459,-554.02 2466,-554.02\"/>\n</g>\n<!-- 78 -->\n<g id=\"node79\" class=\"node\">\n<title>78</title>\n<path fill=\"#399de5\" stroke=\"black\" d=\"M2689.5,-536.5C2689.5,-536.5 2585.5,-536.5 2585.5,-536.5 2579.5,-536.5 2573.5,-530.5 2573.5,-524.5 2573.5,-524.5 2573.5,-480.5 2573.5,-480.5 2573.5,-474.5 2579.5,-468.5 2585.5,-468.5 2585.5,-468.5 2689.5,-468.5 2689.5,-468.5 2695.5,-468.5 2701.5,-474.5 2701.5,-480.5 2701.5,-480.5 2701.5,-524.5 2701.5,-524.5 2701.5,-530.5 2695.5,-536.5 2689.5,-536.5\"/>\n<text text-anchor=\"start\" x=\"2589\" y=\"-521.3\" font-family=\"Helvetica,sans-Serif\" font-size=\"14.00\">entropy = 0.0</text>\n<text text-anchor=\"start\" x=\"2593.5\" y=\"-506.3\" font-family=\"Helvetica,sans-Serif\" font-size=\"14.00\">samples = 1</text>\n<text text-anchor=\"start\" x=\"2589\" y=\"-491.3\" font-family=\"Helvetica,sans-Serif\" font-size=\"14.00\">value = [0, 1]</text>\n<text text-anchor=\"start\" x=\"2581.5\" y=\"-476.3\" font-family=\"Helvetica,sans-Serif\" font-size=\"14.00\">class = not give</text>\n</g>\n<!-- 72&#45;&gt;78 -->\n<g id=\"edge78\" class=\"edge\">\n<title>72&#45;&gt;78</title>\n<path fill=\"none\" stroke=\"black\" d=\"M2523.22,-579.91C2541.37,-567.77 2561.23,-554.49 2579.22,-542.46\"/>\n<polygon fill=\"black\" stroke=\"black\" points=\"2581.52,-545.13 2587.89,-536.67 2577.63,-539.32 2581.52,-545.13\"/>\n</g>\n<!-- 74 -->\n<g id=\"node75\" class=\"node\">\n<title>74</title>\n<path fill=\"#eeab7b\" stroke=\"black\" d=\"M2494,-425C2494,-425 2387,-425 2387,-425 2381,-425 2375,-419 2375,-413 2375,-413 2375,-354 2375,-354 2375,-348 2381,-342 2387,-342 2387,-342 2494,-342 2494,-342 2500,-342 2506,-348 2506,-354 2506,-354 2506,-413 2506,-413 2506,-419 2500,-425 2494,-425\"/>\n<text text-anchor=\"start\" x=\"2397\" y=\"-409.8\" font-family=\"Helvetica,sans-Serif\" font-size=\"14.00\">fico ≤ 744.5</text>\n<text text-anchor=\"start\" x=\"2383\" y=\"-394.8\" font-family=\"Helvetica,sans-Serif\" font-size=\"14.00\">entropy = 0.811</text>\n<text text-anchor=\"start\" x=\"2396.5\" y=\"-379.8\" font-family=\"Helvetica,sans-Serif\" font-size=\"14.00\">samples = 4</text>\n<text text-anchor=\"start\" x=\"2392\" y=\"-364.8\" font-family=\"Helvetica,sans-Serif\" font-size=\"14.00\">value = [3, 1]</text>\n<text text-anchor=\"start\" x=\"2398\" y=\"-349.8\" font-family=\"Helvetica,sans-Serif\" font-size=\"14.00\">class = give</text>\n</g>\n<!-- 73&#45;&gt;74 -->\n<g id=\"edge74\" class=\"edge\">\n<title>73&#45;&gt;74</title>\n<path fill=\"none\" stroke=\"black\" d=\"M2454.87,-460.91C2453.3,-452.56 2451.63,-443.67 2450,-435.02\"/>\n<polygon fill=\"black\" stroke=\"black\" points=\"2453.41,-434.2 2448.12,-425.02 2446.53,-435.5 2453.41,-434.2\"/>\n</g>\n<!-- 77 -->\n<g id=\"node78\" class=\"node\">\n<title>77</title>\n<path fill=\"#e58139\" stroke=\"black\" d=\"M2643,-417.5C2643,-417.5 2536,-417.5 2536,-417.5 2530,-417.5 2524,-411.5 2524,-405.5 2524,-405.5 2524,-361.5 2524,-361.5 2524,-355.5 2530,-349.5 2536,-349.5 2536,-349.5 2643,-349.5 2643,-349.5 2649,-349.5 2655,-355.5 2655,-361.5 2655,-361.5 2655,-405.5 2655,-405.5 2655,-411.5 2649,-417.5 2643,-417.5\"/>\n<text text-anchor=\"start\" x=\"2541\" y=\"-402.3\" font-family=\"Helvetica,sans-Serif\" font-size=\"14.00\">entropy = 0.0</text>\n<text text-anchor=\"start\" x=\"2536.5\" y=\"-387.3\" font-family=\"Helvetica,sans-Serif\" font-size=\"14.00\">samples = 123</text>\n<text text-anchor=\"start\" x=\"2532\" y=\"-372.3\" font-family=\"Helvetica,sans-Serif\" font-size=\"14.00\">value = [123, 0]</text>\n<text text-anchor=\"start\" x=\"2547\" y=\"-357.3\" font-family=\"Helvetica,sans-Serif\" font-size=\"14.00\">class = give</text>\n</g>\n<!-- 73&#45;&gt;77 -->\n<g id=\"edge77\" class=\"edge\">\n<title>73&#45;&gt;77</title>\n<path fill=\"none\" stroke=\"black\" d=\"M2506.56,-460.91C2519.38,-449.1 2533.36,-436.22 2546.14,-424.45\"/>\n<polygon fill=\"black\" stroke=\"black\" points=\"2548.52,-427.02 2553.5,-417.67 2543.77,-421.87 2548.52,-427.02\"/>\n</g>\n<!-- 75 -->\n<g id=\"node76\" class=\"node\">\n<title>75</title>\n<path fill=\"#e58139\" stroke=\"black\" d=\"M2415,-298.5C2415,-298.5 2326,-298.5 2326,-298.5 2320,-298.5 2314,-292.5 2314,-286.5 2314,-286.5 2314,-242.5 2314,-242.5 2314,-236.5 2320,-230.5 2326,-230.5 2326,-230.5 2415,-230.5 2415,-230.5 2421,-230.5 2427,-236.5 2427,-242.5 2427,-242.5 2427,-286.5 2427,-286.5 2427,-292.5 2421,-298.5 2415,-298.5\"/>\n<text text-anchor=\"start\" x=\"2322\" y=\"-283.3\" font-family=\"Helvetica,sans-Serif\" font-size=\"14.00\">entropy = 0.0</text>\n<text text-anchor=\"start\" x=\"2326.5\" y=\"-268.3\" font-family=\"Helvetica,sans-Serif\" font-size=\"14.00\">samples = 3</text>\n<text text-anchor=\"start\" x=\"2322\" y=\"-253.3\" font-family=\"Helvetica,sans-Serif\" font-size=\"14.00\">value = [3, 0]</text>\n<text text-anchor=\"start\" x=\"2328\" y=\"-238.3\" font-family=\"Helvetica,sans-Serif\" font-size=\"14.00\">class = give</text>\n</g>\n<!-- 74&#45;&gt;75 -->\n<g id=\"edge75\" class=\"edge\">\n<title>74&#45;&gt;75</title>\n<path fill=\"none\" stroke=\"black\" d=\"M2416.21,-341.91C2409.55,-330.76 2402.3,-318.66 2395.59,-307.44\"/>\n<polygon fill=\"black\" stroke=\"black\" points=\"2398.48,-305.45 2390.34,-298.67 2392.47,-309.05 2398.48,-305.45\"/>\n</g>\n<!-- 76 -->\n<g id=\"node77\" class=\"node\">\n<title>76</title>\n<path fill=\"#399de5\" stroke=\"black\" d=\"M2561.5,-298.5C2561.5,-298.5 2457.5,-298.5 2457.5,-298.5 2451.5,-298.5 2445.5,-292.5 2445.5,-286.5 2445.5,-286.5 2445.5,-242.5 2445.5,-242.5 2445.5,-236.5 2451.5,-230.5 2457.5,-230.5 2457.5,-230.5 2561.5,-230.5 2561.5,-230.5 2567.5,-230.5 2573.5,-236.5 2573.5,-242.5 2573.5,-242.5 2573.5,-286.5 2573.5,-286.5 2573.5,-292.5 2567.5,-298.5 2561.5,-298.5\"/>\n<text text-anchor=\"start\" x=\"2461\" y=\"-283.3\" font-family=\"Helvetica,sans-Serif\" font-size=\"14.00\">entropy = 0.0</text>\n<text text-anchor=\"start\" x=\"2465.5\" y=\"-268.3\" font-family=\"Helvetica,sans-Serif\" font-size=\"14.00\">samples = 1</text>\n<text text-anchor=\"start\" x=\"2461\" y=\"-253.3\" font-family=\"Helvetica,sans-Serif\" font-size=\"14.00\">value = [0, 1]</text>\n<text text-anchor=\"start\" x=\"2453.5\" y=\"-238.3\" font-family=\"Helvetica,sans-Serif\" font-size=\"14.00\">class = not give</text>\n</g>\n<!-- 74&#45;&gt;76 -->\n<g id=\"edge76\" class=\"edge\">\n<title>74&#45;&gt;76</title>\n<path fill=\"none\" stroke=\"black\" d=\"M2464.44,-341.91C2471.01,-330.76 2478.15,-318.66 2484.77,-307.44\"/>\n<polygon fill=\"black\" stroke=\"black\" points=\"2487.87,-309.06 2489.94,-298.67 2481.85,-305.5 2487.87,-309.06\"/>\n</g>\n</g>\n</svg>\n",
      "text/plain": [
       "<graphviz.sources.Source at 0x7f26f6043e80>"
      ]
     },
     "execution_count": 21,
     "metadata": {},
     "output_type": "execute_result"
    }
   ],
   "source": [
    "plot_tree(tree_clf.best_estimator_)"
   ]
  },
  {
   "cell_type": "markdown",
   "metadata": {},
   "source": [
    "Let's now plot one of the trees from the forest."
   ]
  },
  {
   "cell_type": "code",
   "execution_count": 22,
   "metadata": {},
   "outputs": [
    {
     "data": {
      "image/svg+xml": "<?xml version=\"1.0\" encoding=\"UTF-8\" standalone=\"no\"?>\n<!DOCTYPE svg PUBLIC \"-//W3C//DTD SVG 1.1//EN\"\n \"http://www.w3.org/Graphics/SVG/1.1/DTD/svg11.dtd\">\n<!-- Generated by graphviz version 2.43.0 (0)\n -->\n<!-- Title: Tree Pages: 1 -->\n<svg width=\"7625pt\" height=\"1980pt\"\n viewBox=\"0.00 0.00 7624.50 1980.00\" xmlns=\"http://www.w3.org/2000/svg\" xmlns:xlink=\"http://www.w3.org/1999/xlink\">\n<g id=\"graph0\" class=\"graph\" transform=\"scale(1 1) rotate(0) translate(4 1976)\">\n<title>Tree</title>\n<polygon fill=\"white\" stroke=\"transparent\" points=\"-4,4 -4,-1976 7620.5,-1976 7620.5,4 -4,4\"/>\n<!-- 0 -->\n<g id=\"node1\" class=\"node\">\n<title>0</title>\n<path fill=\"#eba069\" stroke=\"black\" d=\"M6006.5,-1972C6006.5,-1972 5830.5,-1972 5830.5,-1972 5824.5,-1972 5818.5,-1966 5818.5,-1960 5818.5,-1960 5818.5,-1901 5818.5,-1901 5818.5,-1895 5824.5,-1889 5830.5,-1889 5830.5,-1889 6006.5,-1889 6006.5,-1889 6012.5,-1889 6018.5,-1895 6018.5,-1901 6018.5,-1901 6018.5,-1960 6018.5,-1960 6018.5,-1966 6012.5,-1972 6006.5,-1972\"/>\n<text text-anchor=\"start\" x=\"5826.5\" y=\"-1956.8\" font-family=\"Helvetica,sans-Serif\" font-size=\"14.00\">days.with.cr.line ≤ 1095.5</text>\n<text text-anchor=\"start\" x=\"5874.5\" y=\"-1941.8\" font-family=\"Helvetica,sans-Serif\" font-size=\"14.00\">gini = 0.315</text>\n<text text-anchor=\"start\" x=\"5861\" y=\"-1926.8\" font-family=\"Helvetica,sans-Serif\" font-size=\"14.00\">samples = 4848</text>\n<text text-anchor=\"start\" x=\"5843\" y=\"-1911.8\" font-family=\"Helvetica,sans-Serif\" font-size=\"14.00\">value = [6159, 1503]</text>\n<text text-anchor=\"start\" x=\"5876\" y=\"-1896.8\" font-family=\"Helvetica,sans-Serif\" font-size=\"14.00\">class = give</text>\n</g>\n<!-- 1 -->\n<g id=\"node2\" class=\"node\">\n<title>1</title>\n<path fill=\"#399de5\" stroke=\"black\" d=\"M5889,-1845.5C5889,-1845.5 5782,-1845.5 5782,-1845.5 5776,-1845.5 5770,-1839.5 5770,-1833.5 5770,-1833.5 5770,-1789.5 5770,-1789.5 5770,-1783.5 5776,-1777.5 5782,-1777.5 5782,-1777.5 5889,-1777.5 5889,-1777.5 5895,-1777.5 5901,-1783.5 5901,-1789.5 5901,-1789.5 5901,-1833.5 5901,-1833.5 5901,-1839.5 5895,-1845.5 5889,-1845.5\"/>\n<text text-anchor=\"start\" x=\"5800.5\" y=\"-1830.3\" font-family=\"Helvetica,sans-Serif\" font-size=\"14.00\">gini = 0.0</text>\n<text text-anchor=\"start\" x=\"5782.5\" y=\"-1815.3\" font-family=\"Helvetica,sans-Serif\" font-size=\"14.00\">samples = 145</text>\n<text text-anchor=\"start\" x=\"5778\" y=\"-1800.3\" font-family=\"Helvetica,sans-Serif\" font-size=\"14.00\">value = [0, 229]</text>\n<text text-anchor=\"start\" x=\"5779.5\" y=\"-1785.3\" font-family=\"Helvetica,sans-Serif\" font-size=\"14.00\">class = not give</text>\n</g>\n<!-- 0&#45;&gt;1 -->\n<g id=\"edge1\" class=\"edge\">\n<title>0&#45;&gt;1</title>\n<path fill=\"none\" stroke=\"black\" d=\"M5889.7,-1888.91C5881.72,-1877.65 5873.04,-1865.42 5865.02,-1854.11\"/>\n<polygon fill=\"black\" stroke=\"black\" points=\"5867.67,-1851.8 5859.03,-1845.67 5861.96,-1855.85 5867.67,-1851.8\"/>\n<text text-anchor=\"middle\" x=\"5854.84\" y=\"-1866.61\" font-family=\"Helvetica,sans-Serif\" font-size=\"14.00\">True</text>\n</g>\n<!-- 2 -->\n<g id=\"node3\" class=\"node\">\n<title>2</title>\n<path fill=\"#ea9b62\" stroke=\"black\" d=\"M6074,-1853C6074,-1853 5931,-1853 5931,-1853 5925,-1853 5919,-1847 5919,-1841 5919,-1841 5919,-1782 5919,-1782 5919,-1776 5925,-1770 5931,-1770 5931,-1770 6074,-1770 6074,-1770 6080,-1770 6086,-1776 6086,-1782 6086,-1782 6086,-1841 6086,-1841 6086,-1847 6080,-1853 6074,-1853\"/>\n<text text-anchor=\"start\" x=\"5959\" y=\"-1837.8\" font-family=\"Helvetica,sans-Serif\" font-size=\"14.00\">fico ≤ 659.5</text>\n<text text-anchor=\"start\" x=\"5958.5\" y=\"-1822.8\" font-family=\"Helvetica,sans-Serif\" font-size=\"14.00\">gini = 0.284</text>\n<text text-anchor=\"start\" x=\"5945\" y=\"-1807.8\" font-family=\"Helvetica,sans-Serif\" font-size=\"14.00\">samples = 4703</text>\n<text text-anchor=\"start\" x=\"5927\" y=\"-1792.8\" font-family=\"Helvetica,sans-Serif\" font-size=\"14.00\">value = [6159, 1274]</text>\n<text text-anchor=\"start\" x=\"5960\" y=\"-1777.8\" font-family=\"Helvetica,sans-Serif\" font-size=\"14.00\">class = give</text>\n</g>\n<!-- 0&#45;&gt;2 -->\n<g id=\"edge2\" class=\"edge\">\n<title>0&#45;&gt;2</title>\n<path fill=\"none\" stroke=\"black\" d=\"M5947.64,-1888.91C5954.03,-1880.01 5960.85,-1870.51 5967.44,-1861.33\"/>\n<polygon fill=\"black\" stroke=\"black\" points=\"5970.42,-1863.19 5973.41,-1853.02 5964.73,-1859.1 5970.42,-1863.19\"/>\n<text text-anchor=\"middle\" x=\"5977.46\" y=\"-1873.99\" font-family=\"Helvetica,sans-Serif\" font-size=\"14.00\">False</text>\n</g>\n<!-- 3 -->\n<g id=\"node4\" class=\"node\">\n<title>3</title>\n<path fill=\"#399de5\" stroke=\"black\" d=\"M5974,-1726.5C5974,-1726.5 5867,-1726.5 5867,-1726.5 5861,-1726.5 5855,-1720.5 5855,-1714.5 5855,-1714.5 5855,-1670.5 5855,-1670.5 5855,-1664.5 5861,-1658.5 5867,-1658.5 5867,-1658.5 5974,-1658.5 5974,-1658.5 5980,-1658.5 5986,-1664.5 5986,-1670.5 5986,-1670.5 5986,-1714.5 5986,-1714.5 5986,-1720.5 5980,-1726.5 5974,-1726.5\"/>\n<text text-anchor=\"start\" x=\"5885.5\" y=\"-1711.3\" font-family=\"Helvetica,sans-Serif\" font-size=\"14.00\">gini = 0.0</text>\n<text text-anchor=\"start\" x=\"5867.5\" y=\"-1696.3\" font-family=\"Helvetica,sans-Serif\" font-size=\"14.00\">samples = 208</text>\n<text text-anchor=\"start\" x=\"5863\" y=\"-1681.3\" font-family=\"Helvetica,sans-Serif\" font-size=\"14.00\">value = [0, 334]</text>\n<text text-anchor=\"start\" x=\"5864.5\" y=\"-1666.3\" font-family=\"Helvetica,sans-Serif\" font-size=\"14.00\">class = not give</text>\n</g>\n<!-- 2&#45;&gt;3 -->\n<g id=\"edge3\" class=\"edge\">\n<title>2&#45;&gt;3</title>\n<path fill=\"none\" stroke=\"black\" d=\"M5974.05,-1769.91C5966.16,-1758.65 5957.59,-1746.42 5949.66,-1735.11\"/>\n<polygon fill=\"black\" stroke=\"black\" points=\"5952.35,-1732.85 5943.75,-1726.67 5946.62,-1736.86 5952.35,-1732.85\"/>\n</g>\n<!-- 4 -->\n<g id=\"node5\" class=\"node\">\n<title>4</title>\n<path fill=\"#e99457\" stroke=\"black\" d=\"M6152.5,-1734C6152.5,-1734 6016.5,-1734 6016.5,-1734 6010.5,-1734 6004.5,-1728 6004.5,-1722 6004.5,-1722 6004.5,-1663 6004.5,-1663 6004.5,-1657 6010.5,-1651 6016.5,-1651 6016.5,-1651 6152.5,-1651 6152.5,-1651 6158.5,-1651 6164.5,-1657 6164.5,-1663 6164.5,-1663 6164.5,-1722 6164.5,-1722 6164.5,-1728 6158.5,-1734 6152.5,-1734\"/>\n<text text-anchor=\"start\" x=\"6012.5\" y=\"-1718.8\" font-family=\"Helvetica,sans-Serif\" font-size=\"14.00\">inq.last.6mths ≤ 3.5</text>\n<text text-anchor=\"start\" x=\"6045\" y=\"-1703.8\" font-family=\"Helvetica,sans-Serif\" font-size=\"14.00\">gini = 0.23</text>\n<text text-anchor=\"start\" x=\"6027\" y=\"-1688.8\" font-family=\"Helvetica,sans-Serif\" font-size=\"14.00\">samples = 4495</text>\n<text text-anchor=\"start\" x=\"6013.5\" y=\"-1673.8\" font-family=\"Helvetica,sans-Serif\" font-size=\"14.00\">value = [6159, 940]</text>\n<text text-anchor=\"start\" x=\"6042\" y=\"-1658.8\" font-family=\"Helvetica,sans-Serif\" font-size=\"14.00\">class = give</text>\n</g>\n<!-- 2&#45;&gt;4 -->\n<g id=\"edge4\" class=\"edge\">\n<title>2&#45;&gt;4</title>\n<path fill=\"none\" stroke=\"black\" d=\"M6030.95,-1769.91C6037.18,-1761.01 6043.84,-1751.51 6050.28,-1742.33\"/>\n<polygon fill=\"black\" stroke=\"black\" points=\"6053.23,-1744.22 6056.1,-1734.02 6047.5,-1740.2 6053.23,-1744.22\"/>\n</g>\n<!-- 5 -->\n<g id=\"node6\" class=\"node\">\n<title>5</title>\n<path fill=\"#e68540\" stroke=\"black\" d=\"M5351.5,-1615C5351.5,-1615 5217.5,-1615 5217.5,-1615 5211.5,-1615 5205.5,-1609 5205.5,-1603 5205.5,-1603 5205.5,-1544 5205.5,-1544 5205.5,-1538 5211.5,-1532 5217.5,-1532 5217.5,-1532 5351.5,-1532 5351.5,-1532 5357.5,-1532 5363.5,-1538 5363.5,-1544 5363.5,-1544 5363.5,-1603 5363.5,-1603 5363.5,-1609 5357.5,-1615 5351.5,-1615\"/>\n<text text-anchor=\"start\" x=\"5218\" y=\"-1599.8\" font-family=\"Helvetica,sans-Serif\" font-size=\"14.00\">not.fully.paid ≤ 0.5</text>\n<text text-anchor=\"start\" x=\"5240.5\" y=\"-1584.8\" font-family=\"Helvetica,sans-Serif\" font-size=\"14.00\">gini = 0.064</text>\n<text text-anchor=\"start\" x=\"5227\" y=\"-1569.8\" font-family=\"Helvetica,sans-Serif\" font-size=\"14.00\">samples = 3964</text>\n<text text-anchor=\"start\" x=\"5213.5\" y=\"-1554.8\" font-family=\"Helvetica,sans-Serif\" font-size=\"14.00\">value = [6028, 206]</text>\n<text text-anchor=\"start\" x=\"5242\" y=\"-1539.8\" font-family=\"Helvetica,sans-Serif\" font-size=\"14.00\">class = give</text>\n</g>\n<!-- 4&#45;&gt;5 -->\n<g id=\"edge5\" class=\"edge\">\n<title>4&#45;&gt;5</title>\n<path fill=\"none\" stroke=\"black\" d=\"M6004.49,-1653.99C6001.15,-1652.9 5997.81,-1651.9 5994.5,-1651 5777.02,-1591.96 5510.44,-1578.19 5374.12,-1575.17\"/>\n<polygon fill=\"black\" stroke=\"black\" points=\"5373.81,-1571.67 5363.74,-1574.96 5373.66,-1578.66 5373.81,-1571.67\"/>\n</g>\n<!-- 214 -->\n<g id=\"node215\" class=\"node\">\n<title>214</title>\n<path fill=\"#5caeea\" stroke=\"black\" d=\"M6733,-1615C6733,-1615 6608,-1615 6608,-1615 6602,-1615 6596,-1609 6596,-1603 6596,-1603 6596,-1544 6596,-1544 6596,-1538 6602,-1532 6608,-1532 6608,-1532 6733,-1532 6733,-1532 6739,-1532 6745,-1538 6745,-1544 6745,-1544 6745,-1603 6745,-1603 6745,-1609 6739,-1615 6733,-1615\"/>\n<text text-anchor=\"start\" x=\"6614.5\" y=\"-1599.8\" font-family=\"Helvetica,sans-Serif\" font-size=\"14.00\">int.rate ≤ 0.104</text>\n<text text-anchor=\"start\" x=\"6626.5\" y=\"-1584.8\" font-family=\"Helvetica,sans-Serif\" font-size=\"14.00\">gini = 0.257</text>\n<text text-anchor=\"start\" x=\"6617.5\" y=\"-1569.8\" font-family=\"Helvetica,sans-Serif\" font-size=\"14.00\">samples = 531</text>\n<text text-anchor=\"start\" x=\"6604\" y=\"-1554.8\" font-family=\"Helvetica,sans-Serif\" font-size=\"14.00\">value = [131, 734]</text>\n<text text-anchor=\"start\" x=\"6614.5\" y=\"-1539.8\" font-family=\"Helvetica,sans-Serif\" font-size=\"14.00\">class = not give</text>\n</g>\n<!-- 4&#45;&gt;214 -->\n<g id=\"edge214\" class=\"edge\">\n<title>4&#45;&gt;214</title>\n<path fill=\"none\" stroke=\"black\" d=\"M6164.75,-1675.48C6275.2,-1653.42 6473.17,-1613.9 6585.88,-1591.4\"/>\n<polygon fill=\"black\" stroke=\"black\" points=\"6586.72,-1594.8 6595.84,-1589.41 6585.35,-1587.93 6586.72,-1594.8\"/>\n</g>\n<!-- 6 -->\n<g id=\"node7\" class=\"node\">\n<title>6</title>\n<path fill=\"#e6853f\" stroke=\"black\" d=\"M4021.5,-1496C4021.5,-1496 3887.5,-1496 3887.5,-1496 3881.5,-1496 3875.5,-1490 3875.5,-1484 3875.5,-1484 3875.5,-1425 3875.5,-1425 3875.5,-1419 3881.5,-1413 3887.5,-1413 3887.5,-1413 4021.5,-1413 4021.5,-1413 4027.5,-1413 4033.5,-1419 4033.5,-1425 4033.5,-1425 4033.5,-1484 4033.5,-1484 4033.5,-1490 4027.5,-1496 4021.5,-1496\"/>\n<text text-anchor=\"start\" x=\"3898.5\" y=\"-1480.8\" font-family=\"Helvetica,sans-Serif\" font-size=\"14.00\">int.rate ≤ 0.171</text>\n<text text-anchor=\"start\" x=\"3910.5\" y=\"-1465.8\" font-family=\"Helvetica,sans-Serif\" font-size=\"14.00\">gini = 0.057</text>\n<text text-anchor=\"start\" x=\"3897\" y=\"-1450.8\" font-family=\"Helvetica,sans-Serif\" font-size=\"14.00\">samples = 3439</text>\n<text text-anchor=\"start\" x=\"3883.5\" y=\"-1435.8\" font-family=\"Helvetica,sans-Serif\" font-size=\"14.00\">value = [5275, 159]</text>\n<text text-anchor=\"start\" x=\"3912\" y=\"-1420.8\" font-family=\"Helvetica,sans-Serif\" font-size=\"14.00\">class = give</text>\n</g>\n<!-- 5&#45;&gt;6 -->\n<g id=\"edge6\" class=\"edge\">\n<title>5&#45;&gt;6</title>\n<path fill=\"none\" stroke=\"black\" d=\"M5205.29,-1565.53C4972.22,-1545.03 4289.83,-1485 4044.04,-1463.38\"/>\n<polygon fill=\"black\" stroke=\"black\" points=\"4043.99,-1459.86 4033.72,-1462.47 4043.37,-1466.83 4043.99,-1459.86\"/>\n</g>\n<!-- 169 -->\n<g id=\"node170\" class=\"node\">\n<title>169</title>\n<path fill=\"#e78945\" stroke=\"black\" d=\"M5342.5,-1496C5342.5,-1496 5226.5,-1496 5226.5,-1496 5220.5,-1496 5214.5,-1490 5214.5,-1484 5214.5,-1484 5214.5,-1425 5214.5,-1425 5214.5,-1419 5220.5,-1413 5226.5,-1413 5226.5,-1413 5342.5,-1413 5342.5,-1413 5348.5,-1413 5354.5,-1419 5354.5,-1425 5354.5,-1425 5354.5,-1484 5354.5,-1484 5354.5,-1490 5348.5,-1496 5342.5,-1496\"/>\n<text text-anchor=\"start\" x=\"5233\" y=\"-1480.8\" font-family=\"Helvetica,sans-Serif\" font-size=\"14.00\">all_other ≤ 0.5</text>\n<text text-anchor=\"start\" x=\"5240.5\" y=\"-1465.8\" font-family=\"Helvetica,sans-Serif\" font-size=\"14.00\">gini = 0.111</text>\n<text text-anchor=\"start\" x=\"5231.5\" y=\"-1450.8\" font-family=\"Helvetica,sans-Serif\" font-size=\"14.00\">samples = 525</text>\n<text text-anchor=\"start\" x=\"5222.5\" y=\"-1435.8\" font-family=\"Helvetica,sans-Serif\" font-size=\"14.00\">value = [753, 47]</text>\n<text text-anchor=\"start\" x=\"5242\" y=\"-1420.8\" font-family=\"Helvetica,sans-Serif\" font-size=\"14.00\">class = give</text>\n</g>\n<!-- 5&#45;&gt;169 -->\n<g id=\"edge169\" class=\"edge\">\n<title>5&#45;&gt;169</title>\n<path fill=\"none\" stroke=\"black\" d=\"M5284.5,-1531.91C5284.5,-1523.65 5284.5,-1514.86 5284.5,-1506.3\"/>\n<polygon fill=\"black\" stroke=\"black\" points=\"5288,-1506.02 5284.5,-1496.02 5281,-1506.02 5288,-1506.02\"/>\n</g>\n<!-- 7 -->\n<g id=\"node8\" class=\"node\">\n<title>7</title>\n<path fill=\"#e6843e\" stroke=\"black\" d=\"M3135,-1377C3135,-1377 2932,-1377 2932,-1377 2926,-1377 2920,-1371 2920,-1365 2920,-1365 2920,-1306 2920,-1306 2920,-1300 2926,-1294 2932,-1294 2932,-1294 3135,-1294 3135,-1294 3141,-1294 3147,-1300 3147,-1306 3147,-1306 3147,-1365 3147,-1365 3147,-1371 3141,-1377 3135,-1377\"/>\n<text text-anchor=\"start\" x=\"2928\" y=\"-1361.8\" font-family=\"Helvetica,sans-Serif\" font-size=\"14.00\">days.with.cr.line ≤ 10334.979</text>\n<text text-anchor=\"start\" x=\"2989.5\" y=\"-1346.8\" font-family=\"Helvetica,sans-Serif\" font-size=\"14.00\">gini = 0.053</text>\n<text text-anchor=\"start\" x=\"2976\" y=\"-1331.8\" font-family=\"Helvetica,sans-Serif\" font-size=\"14.00\">samples = 3378</text>\n<text text-anchor=\"start\" x=\"2962.5\" y=\"-1316.8\" font-family=\"Helvetica,sans-Serif\" font-size=\"14.00\">value = [5192, 144]</text>\n<text text-anchor=\"start\" x=\"2991\" y=\"-1301.8\" font-family=\"Helvetica,sans-Serif\" font-size=\"14.00\">class = give</text>\n</g>\n<!-- 6&#45;&gt;7 -->\n<g id=\"edge7\" class=\"edge\">\n<title>6&#45;&gt;7</title>\n<path fill=\"none\" stroke=\"black\" d=\"M3875.18,-1443.42C3714.54,-1423.02 3349.72,-1376.67 3157.43,-1352.24\"/>\n<polygon fill=\"black\" stroke=\"black\" points=\"3157.63,-1348.74 3147.27,-1350.95 3156.75,-1355.69 3157.63,-1348.74\"/>\n</g>\n<!-- 140 -->\n<g id=\"node141\" class=\"node\">\n<title>140</title>\n<path fill=\"#ea985d\" stroke=\"black\" d=\"M4008,-1377C4008,-1377 3901,-1377 3901,-1377 3895,-1377 3889,-1371 3889,-1365 3889,-1365 3889,-1306 3889,-1306 3889,-1300 3895,-1294 3901,-1294 3901,-1294 4008,-1294 4008,-1294 4014,-1294 4020,-1300 4020,-1306 4020,-1306 4020,-1365 4020,-1365 4020,-1371 4014,-1377 4008,-1377\"/>\n<text text-anchor=\"start\" x=\"3911\" y=\"-1361.8\" font-family=\"Helvetica,sans-Serif\" font-size=\"14.00\">fico ≤ 669.5</text>\n<text text-anchor=\"start\" x=\"3910.5\" y=\"-1346.8\" font-family=\"Helvetica,sans-Serif\" font-size=\"14.00\">gini = 0.259</text>\n<text text-anchor=\"start\" x=\"3906\" y=\"-1331.8\" font-family=\"Helvetica,sans-Serif\" font-size=\"14.00\">samples = 61</text>\n<text text-anchor=\"start\" x=\"3897\" y=\"-1316.8\" font-family=\"Helvetica,sans-Serif\" font-size=\"14.00\">value = [83, 15]</text>\n<text text-anchor=\"start\" x=\"3912\" y=\"-1301.8\" font-family=\"Helvetica,sans-Serif\" font-size=\"14.00\">class = give</text>\n</g>\n<!-- 6&#45;&gt;140 -->\n<g id=\"edge140\" class=\"edge\">\n<title>6&#45;&gt;140</title>\n<path fill=\"none\" stroke=\"black\" d=\"M3954.5,-1412.91C3954.5,-1404.65 3954.5,-1395.86 3954.5,-1387.3\"/>\n<polygon fill=\"black\" stroke=\"black\" points=\"3958,-1387.02 3954.5,-1377.02 3951,-1387.02 3958,-1387.02\"/>\n</g>\n<!-- 8 -->\n<g id=\"node9\" class=\"node\">\n<title>8</title>\n<path fill=\"#e6843e\" stroke=\"black\" d=\"M2646.5,-1258C2646.5,-1258 2512.5,-1258 2512.5,-1258 2506.5,-1258 2500.5,-1252 2500.5,-1246 2500.5,-1246 2500.5,-1187 2500.5,-1187 2500.5,-1181 2506.5,-1175 2512.5,-1175 2512.5,-1175 2646.5,-1175 2646.5,-1175 2652.5,-1175 2658.5,-1181 2658.5,-1187 2658.5,-1187 2658.5,-1246 2658.5,-1246 2658.5,-1252 2652.5,-1258 2646.5,-1258\"/>\n<text text-anchor=\"start\" x=\"2536\" y=\"-1242.8\" font-family=\"Helvetica,sans-Serif\" font-size=\"14.00\">fico ≤ 739.5</text>\n<text text-anchor=\"start\" x=\"2535.5\" y=\"-1227.8\" font-family=\"Helvetica,sans-Serif\" font-size=\"14.00\">gini = 0.047</text>\n<text text-anchor=\"start\" x=\"2522\" y=\"-1212.8\" font-family=\"Helvetica,sans-Serif\" font-size=\"14.00\">samples = 3271</text>\n<text text-anchor=\"start\" x=\"2508.5\" y=\"-1197.8\" font-family=\"Helvetica,sans-Serif\" font-size=\"14.00\">value = [5050, 125]</text>\n<text text-anchor=\"start\" x=\"2537\" y=\"-1182.8\" font-family=\"Helvetica,sans-Serif\" font-size=\"14.00\">class = give</text>\n</g>\n<!-- 7&#45;&gt;8 -->\n<g id=\"edge8\" class=\"edge\">\n<title>7&#45;&gt;8</title>\n<path fill=\"none\" stroke=\"black\" d=\"M2919.82,-1305.2C2842.05,-1285.16 2740.42,-1258.97 2668.54,-1240.45\"/>\n<polygon fill=\"black\" stroke=\"black\" points=\"2669.15,-1236.99 2658.6,-1237.88 2667.41,-1243.77 2669.15,-1236.99\"/>\n</g>\n<!-- 127 -->\n<g id=\"node128\" class=\"node\">\n<title>127</title>\n<path fill=\"#e89253\" stroke=\"black\" d=\"M3103.5,-1258C3103.5,-1258 2963.5,-1258 2963.5,-1258 2957.5,-1258 2951.5,-1252 2951.5,-1246 2951.5,-1246 2951.5,-1187 2951.5,-1187 2951.5,-1181 2957.5,-1175 2963.5,-1175 2963.5,-1175 3103.5,-1175 3103.5,-1175 3109.5,-1175 3115.5,-1181 3115.5,-1187 3115.5,-1187 3115.5,-1246 3115.5,-1246 3115.5,-1252 3109.5,-1258 3103.5,-1258\"/>\n<text text-anchor=\"start\" x=\"2959.5\" y=\"-1242.8\" font-family=\"Helvetica,sans-Serif\" font-size=\"14.00\">revol.bal ≤ 113382.5</text>\n<text text-anchor=\"start\" x=\"2989.5\" y=\"-1227.8\" font-family=\"Helvetica,sans-Serif\" font-size=\"14.00\">gini = 0.208</text>\n<text text-anchor=\"start\" x=\"2980.5\" y=\"-1212.8\" font-family=\"Helvetica,sans-Serif\" font-size=\"14.00\">samples = 107</text>\n<text text-anchor=\"start\" x=\"2971.5\" y=\"-1197.8\" font-family=\"Helvetica,sans-Serif\" font-size=\"14.00\">value = [142, 19]</text>\n<text text-anchor=\"start\" x=\"2991\" y=\"-1182.8\" font-family=\"Helvetica,sans-Serif\" font-size=\"14.00\">class = give</text>\n</g>\n<!-- 7&#45;&gt;127 -->\n<g id=\"edge127\" class=\"edge\">\n<title>7&#45;&gt;127</title>\n<path fill=\"none\" stroke=\"black\" d=\"M3033.5,-1293.91C3033.5,-1285.65 3033.5,-1276.86 3033.5,-1268.3\"/>\n<polygon fill=\"black\" stroke=\"black\" points=\"3037,-1268.02 3033.5,-1258.02 3030,-1268.02 3037,-1268.02\"/>\n</g>\n<!-- 9 -->\n<g id=\"node10\" class=\"node\">\n<title>9</title>\n<path fill=\"#e6853f\" stroke=\"black\" d=\"M2053.5,-1139C2053.5,-1139 1919.5,-1139 1919.5,-1139 1913.5,-1139 1907.5,-1133 1907.5,-1127 1907.5,-1127 1907.5,-1068 1907.5,-1068 1907.5,-1062 1913.5,-1056 1919.5,-1056 1919.5,-1056 2053.5,-1056 2053.5,-1056 2059.5,-1056 2065.5,-1062 2065.5,-1068 2065.5,-1068 2065.5,-1127 2065.5,-1127 2065.5,-1133 2059.5,-1139 2053.5,-1139\"/>\n<text text-anchor=\"start\" x=\"1917\" y=\"-1123.8\" font-family=\"Helvetica,sans-Serif\" font-size=\"14.00\">revol.bal ≤ 74870.5</text>\n<text text-anchor=\"start\" x=\"1942.5\" y=\"-1108.8\" font-family=\"Helvetica,sans-Serif\" font-size=\"14.00\">gini = 0.055</text>\n<text text-anchor=\"start\" x=\"1929\" y=\"-1093.8\" font-family=\"Helvetica,sans-Serif\" font-size=\"14.00\">samples = 2379</text>\n<text text-anchor=\"start\" x=\"1915.5\" y=\"-1078.8\" font-family=\"Helvetica,sans-Serif\" font-size=\"14.00\">value = [3656, 106]</text>\n<text text-anchor=\"start\" x=\"1944\" y=\"-1063.8\" font-family=\"Helvetica,sans-Serif\" font-size=\"14.00\">class = give</text>\n</g>\n<!-- 8&#45;&gt;9 -->\n<g id=\"edge9\" class=\"edge\">\n<title>8&#45;&gt;9</title>\n<path fill=\"none\" stroke=\"black\" d=\"M2500.45,-1199.9C2390.3,-1178.17 2191.22,-1138.89 2075.83,-1116.12\"/>\n<polygon fill=\"black\" stroke=\"black\" points=\"2076.44,-1112.68 2065.95,-1114.18 2075.09,-1119.55 2076.44,-1112.68\"/>\n</g>\n<!-- 92 -->\n<g id=\"node93\" class=\"node\">\n<title>92</title>\n<path fill=\"#e5833c\" stroke=\"black\" d=\"M2649.5,-1139C2649.5,-1139 2509.5,-1139 2509.5,-1139 2503.5,-1139 2497.5,-1133 2497.5,-1127 2497.5,-1127 2497.5,-1068 2497.5,-1068 2497.5,-1062 2503.5,-1056 2509.5,-1056 2509.5,-1056 2649.5,-1056 2649.5,-1056 2655.5,-1056 2661.5,-1062 2661.5,-1068 2661.5,-1068 2661.5,-1127 2661.5,-1127 2661.5,-1133 2655.5,-1139 2649.5,-1139\"/>\n<text text-anchor=\"start\" x=\"2505.5\" y=\"-1123.8\" font-family=\"Helvetica,sans-Serif\" font-size=\"14.00\">revol.bal ≤ 140245.5</text>\n<text text-anchor=\"start\" x=\"2535.5\" y=\"-1108.8\" font-family=\"Helvetica,sans-Serif\" font-size=\"14.00\">gini = 0.027</text>\n<text text-anchor=\"start\" x=\"2526.5\" y=\"-1093.8\" font-family=\"Helvetica,sans-Serif\" font-size=\"14.00\">samples = 892</text>\n<text text-anchor=\"start\" x=\"2513\" y=\"-1078.8\" font-family=\"Helvetica,sans-Serif\" font-size=\"14.00\">value = [1394, 19]</text>\n<text text-anchor=\"start\" x=\"2537\" y=\"-1063.8\" font-family=\"Helvetica,sans-Serif\" font-size=\"14.00\">class = give</text>\n</g>\n<!-- 8&#45;&gt;92 -->\n<g id=\"edge92\" class=\"edge\">\n<title>8&#45;&gt;92</title>\n<path fill=\"none\" stroke=\"black\" d=\"M2579.5,-1174.91C2579.5,-1166.65 2579.5,-1157.86 2579.5,-1149.3\"/>\n<polygon fill=\"black\" stroke=\"black\" points=\"2583,-1149.02 2579.5,-1139.02 2576,-1149.02 2583,-1149.02\"/>\n</g>\n<!-- 10 -->\n<g id=\"node11\" class=\"node\">\n<title>10</title>\n<path fill=\"#e5833d\" stroke=\"black\" d=\"M1303,-1020C1303,-1020 1178,-1020 1178,-1020 1172,-1020 1166,-1014 1166,-1008 1166,-1008 1166,-949 1166,-949 1166,-943 1172,-937 1178,-937 1178,-937 1303,-937 1303,-937 1309,-937 1315,-943 1315,-949 1315,-949 1315,-1008 1315,-1008 1315,-1014 1309,-1020 1303,-1020\"/>\n<text text-anchor=\"start\" x=\"1196\" y=\"-1004.8\" font-family=\"Helvetica,sans-Serif\" font-size=\"14.00\">dti ≤ 25.025</text>\n<text text-anchor=\"start\" x=\"1196.5\" y=\"-989.8\" font-family=\"Helvetica,sans-Serif\" font-size=\"14.00\">gini = 0.036</text>\n<text text-anchor=\"start\" x=\"1183\" y=\"-974.8\" font-family=\"Helvetica,sans-Serif\" font-size=\"14.00\">samples = 2323</text>\n<text text-anchor=\"start\" x=\"1174\" y=\"-959.8\" font-family=\"Helvetica,sans-Serif\" font-size=\"14.00\">value = [3619, 68]</text>\n<text text-anchor=\"start\" x=\"1198\" y=\"-944.8\" font-family=\"Helvetica,sans-Serif\" font-size=\"14.00\">class = give</text>\n</g>\n<!-- 9&#45;&gt;10 -->\n<g id=\"edge10\" class=\"edge\">\n<title>9&#45;&gt;10</title>\n<path fill=\"none\" stroke=\"black\" d=\"M1907.37,-1084.09C1765.93,-1061.91 1470.95,-1015.64 1325.43,-992.82\"/>\n<polygon fill=\"black\" stroke=\"black\" points=\"1325.63,-989.31 1315.21,-991.22 1324.55,-996.22 1325.63,-989.31\"/>\n</g>\n<!-- 57 -->\n<g id=\"node58\" class=\"node\">\n<title>57</title>\n<path fill=\"#fafcfe\" stroke=\"black\" d=\"M2057,-1020C2057,-1020 1916,-1020 1916,-1020 1910,-1020 1904,-1014 1904,-1008 1904,-1008 1904,-949 1904,-949 1904,-943 1910,-937 1916,-937 1916,-937 2057,-937 2057,-937 2063,-937 2069,-943 2069,-949 2069,-949 2069,-1008 2069,-1008 2069,-1014 2063,-1020 2057,-1020\"/>\n<text text-anchor=\"start\" x=\"1912\" y=\"-1004.8\" font-family=\"Helvetica,sans-Serif\" font-size=\"14.00\">small_business ≤ 0.5</text>\n<text text-anchor=\"start\" x=\"1951.5\" y=\"-989.8\" font-family=\"Helvetica,sans-Serif\" font-size=\"14.00\">gini = 0.5</text>\n<text text-anchor=\"start\" x=\"1938\" y=\"-974.8\" font-family=\"Helvetica,sans-Serif\" font-size=\"14.00\">samples = 56</text>\n<text text-anchor=\"start\" x=\"1929\" y=\"-959.8\" font-family=\"Helvetica,sans-Serif\" font-size=\"14.00\">value = [37, 38]</text>\n<text text-anchor=\"start\" x=\"1930.5\" y=\"-944.8\" font-family=\"Helvetica,sans-Serif\" font-size=\"14.00\">class = not give</text>\n</g>\n<!-- 9&#45;&gt;57 -->\n<g id=\"edge57\" class=\"edge\">\n<title>9&#45;&gt;57</title>\n<path fill=\"none\" stroke=\"black\" d=\"M1986.5,-1055.91C1986.5,-1047.65 1986.5,-1038.86 1986.5,-1030.3\"/>\n<polygon fill=\"black\" stroke=\"black\" points=\"1990,-1030.02 1986.5,-1020.02 1983,-1030.02 1990,-1030.02\"/>\n</g>\n<!-- 11 -->\n<g id=\"node12\" class=\"node\">\n<title>11</title>\n<path fill=\"#e5823b\" stroke=\"black\" d=\"M729,-901C729,-901 604,-901 604,-901 598,-901 592,-895 592,-889 592,-889 592,-830 592,-830 592,-824 598,-818 604,-818 604,-818 729,-818 729,-818 735,-818 741,-824 741,-830 741,-830 741,-889 741,-889 741,-895 735,-901 729,-901\"/>\n<text text-anchor=\"start\" x=\"631\" y=\"-885.8\" font-family=\"Helvetica,sans-Serif\" font-size=\"14.00\">dti ≤ 0.11</text>\n<text text-anchor=\"start\" x=\"622.5\" y=\"-870.8\" font-family=\"Helvetica,sans-Serif\" font-size=\"14.00\">gini = 0.016</text>\n<text text-anchor=\"start\" x=\"609\" y=\"-855.8\" font-family=\"Helvetica,sans-Serif\" font-size=\"14.00\">samples = 2296</text>\n<text text-anchor=\"start\" x=\"600\" y=\"-840.8\" font-family=\"Helvetica,sans-Serif\" font-size=\"14.00\">value = [3616, 29]</text>\n<text text-anchor=\"start\" x=\"624\" y=\"-825.8\" font-family=\"Helvetica,sans-Serif\" font-size=\"14.00\">class = give</text>\n</g>\n<!-- 10&#45;&gt;11 -->\n<g id=\"edge11\" class=\"edge\">\n<title>10&#45;&gt;11</title>\n<path fill=\"none\" stroke=\"black\" d=\"M1165.75,-962.26C1058.92,-940.49 863.12,-900.58 751.1,-877.74\"/>\n<polygon fill=\"black\" stroke=\"black\" points=\"751.69,-874.29 741.19,-875.72 750.29,-881.15 751.69,-874.29\"/>\n</g>\n<!-- 48 -->\n<g id=\"node49\" class=\"node\">\n<title>48</title>\n<path fill=\"#48a5e7\" stroke=\"black\" d=\"M1315,-901C1315,-901 1166,-901 1166,-901 1160,-901 1154,-895 1154,-889 1154,-889 1154,-830 1154,-830 1154,-824 1160,-818 1166,-818 1166,-818 1315,-818 1315,-818 1321,-818 1327,-824 1327,-830 1327,-830 1327,-889 1327,-889 1327,-895 1321,-901 1315,-901\"/>\n<text text-anchor=\"start\" x=\"1162\" y=\"-885.8\" font-family=\"Helvetica,sans-Serif\" font-size=\"14.00\">installment ≤ 113.765</text>\n<text text-anchor=\"start\" x=\"1196.5\" y=\"-870.8\" font-family=\"Helvetica,sans-Serif\" font-size=\"14.00\">gini = 0.133</text>\n<text text-anchor=\"start\" x=\"1192\" y=\"-855.8\" font-family=\"Helvetica,sans-Serif\" font-size=\"14.00\">samples = 27</text>\n<text text-anchor=\"start\" x=\"1187.5\" y=\"-840.8\" font-family=\"Helvetica,sans-Serif\" font-size=\"14.00\">value = [3, 39]</text>\n<text text-anchor=\"start\" x=\"1184.5\" y=\"-825.8\" font-family=\"Helvetica,sans-Serif\" font-size=\"14.00\">class = not give</text>\n</g>\n<!-- 10&#45;&gt;48 -->\n<g id=\"edge48\" class=\"edge\">\n<title>10&#45;&gt;48</title>\n<path fill=\"none\" stroke=\"black\" d=\"M1240.5,-936.91C1240.5,-928.65 1240.5,-919.86 1240.5,-911.3\"/>\n<polygon fill=\"black\" stroke=\"black\" points=\"1244,-911.02 1240.5,-901.02 1237,-911.02 1244,-911.02\"/>\n</g>\n<!-- 12 -->\n<g id=\"node13\" class=\"node\">\n<title>12</title>\n<path fill=\"#e88e4d\" stroke=\"black\" d=\"M412.5,-782C412.5,-782 314.5,-782 314.5,-782 308.5,-782 302.5,-776 302.5,-770 302.5,-770 302.5,-711 302.5,-711 302.5,-705 308.5,-699 314.5,-699 314.5,-699 412.5,-699 412.5,-699 418.5,-699 424.5,-705 424.5,-711 424.5,-711 424.5,-770 424.5,-770 424.5,-776 418.5,-782 412.5,-782\"/>\n<text text-anchor=\"start\" x=\"328\" y=\"-766.8\" font-family=\"Helvetica,sans-Serif\" font-size=\"14.00\">dti ≤ 0.08</text>\n<text text-anchor=\"start\" x=\"319.5\" y=\"-751.8\" font-family=\"Helvetica,sans-Serif\" font-size=\"14.00\">gini = 0.165</text>\n<text text-anchor=\"start\" x=\"315\" y=\"-736.8\" font-family=\"Helvetica,sans-Serif\" font-size=\"14.00\">samples = 14</text>\n<text text-anchor=\"start\" x=\"310.5\" y=\"-721.8\" font-family=\"Helvetica,sans-Serif\" font-size=\"14.00\">value = [20, 2]</text>\n<text text-anchor=\"start\" x=\"321\" y=\"-706.8\" font-family=\"Helvetica,sans-Serif\" font-size=\"14.00\">class = give</text>\n</g>\n<!-- 11&#45;&gt;12 -->\n<g id=\"edge12\" class=\"edge\">\n<title>11&#45;&gt;12</title>\n<path fill=\"none\" stroke=\"black\" d=\"M591.99,-829.73C543.96,-811.18 481.86,-787.2 434.53,-768.93\"/>\n<polygon fill=\"black\" stroke=\"black\" points=\"435.56,-765.57 424.97,-765.24 433.04,-772.1 435.56,-765.57\"/>\n</g>\n<!-- 17 -->\n<g id=\"node18\" class=\"node\">\n<title>17</title>\n<path fill=\"#e5823a\" stroke=\"black\" d=\"M729,-782C729,-782 604,-782 604,-782 598,-782 592,-776 592,-770 592,-770 592,-711 592,-711 592,-705 598,-699 604,-699 604,-699 729,-699 729,-699 735,-699 741,-705 741,-711 741,-711 741,-770 741,-770 741,-776 735,-782 729,-782\"/>\n<text text-anchor=\"start\" x=\"605.5\" y=\"-766.8\" font-family=\"Helvetica,sans-Serif\" font-size=\"14.00\">revol.util ≤ 100.2</text>\n<text text-anchor=\"start\" x=\"622.5\" y=\"-751.8\" font-family=\"Helvetica,sans-Serif\" font-size=\"14.00\">gini = 0.015</text>\n<text text-anchor=\"start\" x=\"609\" y=\"-736.8\" font-family=\"Helvetica,sans-Serif\" font-size=\"14.00\">samples = 2282</text>\n<text text-anchor=\"start\" x=\"600\" y=\"-721.8\" font-family=\"Helvetica,sans-Serif\" font-size=\"14.00\">value = [3596, 27]</text>\n<text text-anchor=\"start\" x=\"624\" y=\"-706.8\" font-family=\"Helvetica,sans-Serif\" font-size=\"14.00\">class = give</text>\n</g>\n<!-- 11&#45;&gt;17 -->\n<g id=\"edge17\" class=\"edge\">\n<title>11&#45;&gt;17</title>\n<path fill=\"none\" stroke=\"black\" d=\"M666.5,-817.91C666.5,-809.65 666.5,-800.86 666.5,-792.3\"/>\n<polygon fill=\"black\" stroke=\"black\" points=\"670,-792.02 666.5,-782.02 663,-792.02 670,-792.02\"/>\n</g>\n<!-- 13 -->\n<g id=\"node14\" class=\"node\">\n<title>13</title>\n<path fill=\"#e58139\" stroke=\"black\" d=\"M269.5,-655.5C269.5,-655.5 171.5,-655.5 171.5,-655.5 165.5,-655.5 159.5,-649.5 159.5,-643.5 159.5,-643.5 159.5,-599.5 159.5,-599.5 159.5,-593.5 165.5,-587.5 171.5,-587.5 171.5,-587.5 269.5,-587.5 269.5,-587.5 275.5,-587.5 281.5,-593.5 281.5,-599.5 281.5,-599.5 281.5,-643.5 281.5,-643.5 281.5,-649.5 275.5,-655.5 269.5,-655.5\"/>\n<text text-anchor=\"start\" x=\"185.5\" y=\"-640.3\" font-family=\"Helvetica,sans-Serif\" font-size=\"14.00\">gini = 0.0</text>\n<text text-anchor=\"start\" x=\"172\" y=\"-625.3\" font-family=\"Helvetica,sans-Serif\" font-size=\"14.00\">samples = 12</text>\n<text text-anchor=\"start\" x=\"167.5\" y=\"-610.3\" font-family=\"Helvetica,sans-Serif\" font-size=\"14.00\">value = [19, 0]</text>\n<text text-anchor=\"start\" x=\"178\" y=\"-595.3\" font-family=\"Helvetica,sans-Serif\" font-size=\"14.00\">class = give</text>\n</g>\n<!-- 12&#45;&gt;13 -->\n<g id=\"edge13\" class=\"edge\">\n<title>12&#45;&gt;13</title>\n<path fill=\"none\" stroke=\"black\" d=\"M313.89,-698.91C299.32,-686.99 283.41,-673.98 268.92,-662.12\"/>\n<polygon fill=\"black\" stroke=\"black\" points=\"270.99,-659.29 261.04,-655.67 266.56,-664.71 270.99,-659.29\"/>\n</g>\n<!-- 14 -->\n<g id=\"node15\" class=\"node\">\n<title>14</title>\n<path fill=\"#9ccef2\" stroke=\"black\" d=\"M415.5,-663C415.5,-663 311.5,-663 311.5,-663 305.5,-663 299.5,-657 299.5,-651 299.5,-651 299.5,-592 299.5,-592 299.5,-586 305.5,-580 311.5,-580 311.5,-580 415.5,-580 415.5,-580 421.5,-580 427.5,-586 427.5,-592 427.5,-592 427.5,-651 427.5,-651 427.5,-657 421.5,-663 415.5,-663\"/>\n<text text-anchor=\"start\" x=\"307.5\" y=\"-647.8\" font-family=\"Helvetica,sans-Serif\" font-size=\"14.00\">int.rate ≤ 0.109</text>\n<text text-anchor=\"start\" x=\"319.5\" y=\"-632.8\" font-family=\"Helvetica,sans-Serif\" font-size=\"14.00\">gini = 0.444</text>\n<text text-anchor=\"start\" x=\"319.5\" y=\"-617.8\" font-family=\"Helvetica,sans-Serif\" font-size=\"14.00\">samples = 2</text>\n<text text-anchor=\"start\" x=\"315\" y=\"-602.8\" font-family=\"Helvetica,sans-Serif\" font-size=\"14.00\">value = [1, 2]</text>\n<text text-anchor=\"start\" x=\"307.5\" y=\"-587.8\" font-family=\"Helvetica,sans-Serif\" font-size=\"14.00\">class = not give</text>\n</g>\n<!-- 12&#45;&gt;14 -->\n<g id=\"edge14\" class=\"edge\">\n<title>12&#45;&gt;14</title>\n<path fill=\"none\" stroke=\"black\" d=\"M363.5,-698.91C363.5,-690.65 363.5,-681.86 363.5,-673.3\"/>\n<polygon fill=\"black\" stroke=\"black\" points=\"367,-673.02 363.5,-663.02 360,-673.02 367,-673.02\"/>\n</g>\n<!-- 15 -->\n<g id=\"node16\" class=\"node\">\n<title>15</title>\n<path fill=\"#399de5\" stroke=\"black\" d=\"M276.5,-536.5C276.5,-536.5 172.5,-536.5 172.5,-536.5 166.5,-536.5 160.5,-530.5 160.5,-524.5 160.5,-524.5 160.5,-480.5 160.5,-480.5 160.5,-474.5 166.5,-468.5 172.5,-468.5 172.5,-468.5 276.5,-468.5 276.5,-468.5 282.5,-468.5 288.5,-474.5 288.5,-480.5 288.5,-480.5 288.5,-524.5 288.5,-524.5 288.5,-530.5 282.5,-536.5 276.5,-536.5\"/>\n<text text-anchor=\"start\" x=\"189.5\" y=\"-521.3\" font-family=\"Helvetica,sans-Serif\" font-size=\"14.00\">gini = 0.0</text>\n<text text-anchor=\"start\" x=\"180.5\" y=\"-506.3\" font-family=\"Helvetica,sans-Serif\" font-size=\"14.00\">samples = 1</text>\n<text text-anchor=\"start\" x=\"176\" y=\"-491.3\" font-family=\"Helvetica,sans-Serif\" font-size=\"14.00\">value = [0, 2]</text>\n<text text-anchor=\"start\" x=\"168.5\" y=\"-476.3\" font-family=\"Helvetica,sans-Serif\" font-size=\"14.00\">class = not give</text>\n</g>\n<!-- 14&#45;&gt;15 -->\n<g id=\"edge15\" class=\"edge\">\n<title>14&#45;&gt;15</title>\n<path fill=\"none\" stroke=\"black\" d=\"M315.27,-579.91C301.12,-567.99 285.65,-554.98 271.57,-543.12\"/>\n<polygon fill=\"black\" stroke=\"black\" points=\"273.81,-540.43 263.9,-536.67 269.3,-545.78 273.81,-540.43\"/>\n</g>\n<!-- 16 -->\n<g id=\"node17\" class=\"node\">\n<title>16</title>\n<path fill=\"#e58139\" stroke=\"black\" d=\"M408,-536.5C408,-536.5 319,-536.5 319,-536.5 313,-536.5 307,-530.5 307,-524.5 307,-524.5 307,-480.5 307,-480.5 307,-474.5 313,-468.5 319,-468.5 319,-468.5 408,-468.5 408,-468.5 414,-468.5 420,-474.5 420,-480.5 420,-480.5 420,-524.5 420,-524.5 420,-530.5 414,-536.5 408,-536.5\"/>\n<text text-anchor=\"start\" x=\"328.5\" y=\"-521.3\" font-family=\"Helvetica,sans-Serif\" font-size=\"14.00\">gini = 0.0</text>\n<text text-anchor=\"start\" x=\"319.5\" y=\"-506.3\" font-family=\"Helvetica,sans-Serif\" font-size=\"14.00\">samples = 1</text>\n<text text-anchor=\"start\" x=\"315\" y=\"-491.3\" font-family=\"Helvetica,sans-Serif\" font-size=\"14.00\">value = [1, 0]</text>\n<text text-anchor=\"start\" x=\"321\" y=\"-476.3\" font-family=\"Helvetica,sans-Serif\" font-size=\"14.00\">class = give</text>\n</g>\n<!-- 14&#45;&gt;16 -->\n<g id=\"edge16\" class=\"edge\">\n<title>14&#45;&gt;16</title>\n<path fill=\"none\" stroke=\"black\" d=\"M363.5,-579.91C363.5,-569.2 363.5,-557.62 363.5,-546.78\"/>\n<polygon fill=\"black\" stroke=\"black\" points=\"367,-546.67 363.5,-536.67 360,-546.67 367,-546.67\"/>\n</g>\n<!-- 18 -->\n<g id=\"node19\" class=\"node\">\n<title>18</title>\n<path fill=\"#e5823a\" stroke=\"black\" d=\"M651,-663C651,-663 526,-663 526,-663 520,-663 514,-657 514,-651 514,-651 514,-592 514,-592 514,-586 520,-580 526,-580 526,-580 651,-580 651,-580 657,-580 663,-586 663,-592 663,-592 663,-651 663,-651 663,-657 657,-663 651,-663\"/>\n<text text-anchor=\"start\" x=\"532.5\" y=\"-647.8\" font-family=\"Helvetica,sans-Serif\" font-size=\"14.00\">int.rate ≤ 0.088</text>\n<text text-anchor=\"start\" x=\"544.5\" y=\"-632.8\" font-family=\"Helvetica,sans-Serif\" font-size=\"14.00\">gini = 0.012</text>\n<text text-anchor=\"start\" x=\"531\" y=\"-617.8\" font-family=\"Helvetica,sans-Serif\" font-size=\"14.00\">samples = 2278</text>\n<text text-anchor=\"start\" x=\"522\" y=\"-602.8\" font-family=\"Helvetica,sans-Serif\" font-size=\"14.00\">value = [3596, 22]</text>\n<text text-anchor=\"start\" x=\"546\" y=\"-587.8\" font-family=\"Helvetica,sans-Serif\" font-size=\"14.00\">class = give</text>\n</g>\n<!-- 17&#45;&gt;18 -->\n<g id=\"edge18\" class=\"edge\">\n<title>17&#45;&gt;18</title>\n<path fill=\"none\" stroke=\"black\" d=\"M639.44,-698.91C633.57,-690.1 627.3,-680.7 621.24,-671.61\"/>\n<polygon fill=\"black\" stroke=\"black\" points=\"623.97,-669.4 615.51,-663.02 618.15,-673.28 623.97,-669.4\"/>\n</g>\n<!-- 47 -->\n<g id=\"node48\" class=\"node\">\n<title>47</title>\n<path fill=\"#399de5\" stroke=\"black\" d=\"M797.5,-655.5C797.5,-655.5 693.5,-655.5 693.5,-655.5 687.5,-655.5 681.5,-649.5 681.5,-643.5 681.5,-643.5 681.5,-599.5 681.5,-599.5 681.5,-593.5 687.5,-587.5 693.5,-587.5 693.5,-587.5 797.5,-587.5 797.5,-587.5 803.5,-587.5 809.5,-593.5 809.5,-599.5 809.5,-599.5 809.5,-643.5 809.5,-643.5 809.5,-649.5 803.5,-655.5 797.5,-655.5\"/>\n<text text-anchor=\"start\" x=\"710.5\" y=\"-640.3\" font-family=\"Helvetica,sans-Serif\" font-size=\"14.00\">gini = 0.0</text>\n<text text-anchor=\"start\" x=\"701.5\" y=\"-625.3\" font-family=\"Helvetica,sans-Serif\" font-size=\"14.00\">samples = 4</text>\n<text text-anchor=\"start\" x=\"697\" y=\"-610.3\" font-family=\"Helvetica,sans-Serif\" font-size=\"14.00\">value = [0, 5]</text>\n<text text-anchor=\"start\" x=\"689.5\" y=\"-595.3\" font-family=\"Helvetica,sans-Serif\" font-size=\"14.00\">class = not give</text>\n</g>\n<!-- 17&#45;&gt;47 -->\n<g id=\"edge47\" class=\"edge\">\n<title>17&#45;&gt;47</title>\n<path fill=\"none\" stroke=\"black\" d=\"M693.91,-698.91C701.51,-687.65 709.77,-675.42 717.41,-664.11\"/>\n<polygon fill=\"black\" stroke=\"black\" points=\"720.41,-665.91 723.11,-655.67 714.61,-662 720.41,-665.91\"/>\n</g>\n<!-- 19 -->\n<g id=\"node20\" class=\"node\">\n<title>19</title>\n<path fill=\"#e68742\" stroke=\"black\" d=\"M557,-544C557,-544 450,-544 450,-544 444,-544 438,-538 438,-532 438,-532 438,-473 438,-473 438,-467 444,-461 450,-461 450,-461 557,-461 557,-461 563,-461 569,-467 569,-473 569,-473 569,-532 569,-532 569,-538 563,-544 557,-544\"/>\n<text text-anchor=\"start\" x=\"452\" y=\"-528.8\" font-family=\"Helvetica,sans-Serif\" font-size=\"14.00\">all_other ≤ 0.5</text>\n<text text-anchor=\"start\" x=\"459.5\" y=\"-513.8\" font-family=\"Helvetica,sans-Serif\" font-size=\"14.00\">gini = 0.085</text>\n<text text-anchor=\"start\" x=\"455\" y=\"-498.8\" font-family=\"Helvetica,sans-Serif\" font-size=\"14.00\">samples = 74</text>\n<text text-anchor=\"start\" x=\"446\" y=\"-483.8\" font-family=\"Helvetica,sans-Serif\" font-size=\"14.00\">value = [108, 5]</text>\n<text text-anchor=\"start\" x=\"461\" y=\"-468.8\" font-family=\"Helvetica,sans-Serif\" font-size=\"14.00\">class = give</text>\n</g>\n<!-- 18&#45;&gt;19 -->\n<g id=\"edge19\" class=\"edge\">\n<title>18&#45;&gt;19</title>\n<path fill=\"none\" stroke=\"black\" d=\"M559.01,-579.91C552.55,-571.01 545.64,-561.51 538.98,-552.33\"/>\n<polygon fill=\"black\" stroke=\"black\" points=\"541.65,-550.05 532.94,-544.02 535.98,-554.17 541.65,-550.05\"/>\n</g>\n<!-- 30 -->\n<g id=\"node31\" class=\"node\">\n<title>30</title>\n<path fill=\"#e5823a\" stroke=\"black\" d=\"M724,-544C724,-544 599,-544 599,-544 593,-544 587,-538 587,-532 587,-532 587,-473 587,-473 587,-467 593,-461 599,-461 599,-461 724,-461 724,-461 730,-461 736,-467 736,-473 736,-473 736,-532 736,-532 736,-538 730,-544 724,-544\"/>\n<text text-anchor=\"start\" x=\"618\" y=\"-528.8\" font-family=\"Helvetica,sans-Serif\" font-size=\"14.00\">fico ≤ 669.5</text>\n<text text-anchor=\"start\" x=\"622\" y=\"-513.8\" font-family=\"Helvetica,sans-Serif\" font-size=\"14.00\">gini = 0.01</text>\n<text text-anchor=\"start\" x=\"604\" y=\"-498.8\" font-family=\"Helvetica,sans-Serif\" font-size=\"14.00\">samples = 2204</text>\n<text text-anchor=\"start\" x=\"595\" y=\"-483.8\" font-family=\"Helvetica,sans-Serif\" font-size=\"14.00\">value = [3488, 17]</text>\n<text text-anchor=\"start\" x=\"619\" y=\"-468.8\" font-family=\"Helvetica,sans-Serif\" font-size=\"14.00\">class = give</text>\n</g>\n<!-- 18&#45;&gt;30 -->\n<g id=\"edge30\" class=\"edge\">\n<title>18&#45;&gt;30</title>\n<path fill=\"none\" stroke=\"black\" d=\"M613.83,-579.91C619.32,-571.1 625.19,-561.7 630.86,-552.61\"/>\n<polygon fill=\"black\" stroke=\"black\" points=\"633.89,-554.36 636.22,-544.02 627.95,-550.65 633.89,-554.36\"/>\n</g>\n<!-- 20 -->\n<g id=\"node21\" class=\"node\">\n<title>20</title>\n<path fill=\"#e5833c\" stroke=\"black\" d=\"M352.5,-425C352.5,-425 212.5,-425 212.5,-425 206.5,-425 200.5,-419 200.5,-413 200.5,-413 200.5,-354 200.5,-354 200.5,-348 206.5,-342 212.5,-342 212.5,-342 352.5,-342 352.5,-342 358.5,-342 364.5,-348 364.5,-354 364.5,-354 364.5,-413 364.5,-413 364.5,-419 358.5,-425 352.5,-425\"/>\n<text text-anchor=\"start\" x=\"208.5\" y=\"-409.8\" font-family=\"Helvetica,sans-Serif\" font-size=\"14.00\">installment ≤ 47.435</text>\n<text text-anchor=\"start\" x=\"243\" y=\"-394.8\" font-family=\"Helvetica,sans-Serif\" font-size=\"14.00\">gini = 0.03</text>\n<text text-anchor=\"start\" x=\"234\" y=\"-379.8\" font-family=\"Helvetica,sans-Serif\" font-size=\"14.00\">samples = 43</text>\n<text text-anchor=\"start\" x=\"229.5\" y=\"-364.8\" font-family=\"Helvetica,sans-Serif\" font-size=\"14.00\">value = [64, 1]</text>\n<text text-anchor=\"start\" x=\"240\" y=\"-349.8\" font-family=\"Helvetica,sans-Serif\" font-size=\"14.00\">class = give</text>\n</g>\n<!-- 19&#45;&gt;20 -->\n<g id=\"edge20\" class=\"edge\">\n<title>19&#45;&gt;20</title>\n<path fill=\"none\" stroke=\"black\" d=\"M437.67,-465.89C434.58,-464.24 431.5,-462.6 428.5,-461 409.33,-450.8 388.7,-439.93 369.15,-429.68\"/>\n<polygon fill=\"black\" stroke=\"black\" points=\"370.74,-426.56 360.26,-425.01 367.49,-432.76 370.74,-426.56\"/>\n</g>\n<!-- 25 -->\n<g id=\"node26\" class=\"node\">\n<title>25</title>\n<path fill=\"#e78c4b\" stroke=\"black\" d=\"M560,-425C560,-425 447,-425 447,-425 441,-425 435,-419 435,-413 435,-413 435,-354 435,-354 435,-348 441,-342 447,-342 447,-342 560,-342 560,-342 566,-342 572,-348 572,-354 572,-354 572,-413 572,-413 572,-419 566,-425 560,-425\"/>\n<text text-anchor=\"start\" x=\"443\" y=\"-409.8\" font-family=\"Helvetica,sans-Serif\" font-size=\"14.00\">revol.bal ≤ 398.5</text>\n<text text-anchor=\"start\" x=\"459.5\" y=\"-394.8\" font-family=\"Helvetica,sans-Serif\" font-size=\"14.00\">gini = 0.153</text>\n<text text-anchor=\"start\" x=\"455\" y=\"-379.8\" font-family=\"Helvetica,sans-Serif\" font-size=\"14.00\">samples = 31</text>\n<text text-anchor=\"start\" x=\"450.5\" y=\"-364.8\" font-family=\"Helvetica,sans-Serif\" font-size=\"14.00\">value = [44, 4]</text>\n<text text-anchor=\"start\" x=\"461\" y=\"-349.8\" font-family=\"Helvetica,sans-Serif\" font-size=\"14.00\">class = give</text>\n</g>\n<!-- 19&#45;&gt;25 -->\n<g id=\"edge25\" class=\"edge\">\n<title>19&#45;&gt;25</title>\n<path fill=\"none\" stroke=\"black\" d=\"M503.5,-460.91C503.5,-452.65 503.5,-443.86 503.5,-435.3\"/>\n<polygon fill=\"black\" stroke=\"black\" points=\"507,-435.02 503.5,-425.02 500,-435.02 507,-435.02\"/>\n</g>\n<!-- 21 -->\n<g id=\"node22\" class=\"node\">\n<title>21</title>\n<path fill=\"#e9965a\" stroke=\"black\" d=\"M191,-306C191,-306 60,-306 60,-306 54,-306 48,-300 48,-294 48,-294 48,-235 48,-235 48,-229 54,-223 60,-223 60,-223 191,-223 191,-223 197,-223 203,-229 203,-235 203,-235 203,-294 203,-294 203,-300 197,-306 191,-306\"/>\n<text text-anchor=\"start\" x=\"56\" y=\"-290.8\" font-family=\"Helvetica,sans-Serif\" font-size=\"14.00\">revol.bal ≤ 25133.0</text>\n<text text-anchor=\"start\" x=\"81.5\" y=\"-275.8\" font-family=\"Helvetica,sans-Serif\" font-size=\"14.00\">gini = 0.245</text>\n<text text-anchor=\"start\" x=\"81.5\" y=\"-260.8\" font-family=\"Helvetica,sans-Serif\" font-size=\"14.00\">samples = 4</text>\n<text text-anchor=\"start\" x=\"77\" y=\"-245.8\" font-family=\"Helvetica,sans-Serif\" font-size=\"14.00\">value = [6, 1]</text>\n<text text-anchor=\"start\" x=\"83\" y=\"-230.8\" font-family=\"Helvetica,sans-Serif\" font-size=\"14.00\">class = give</text>\n</g>\n<!-- 20&#45;&gt;21 -->\n<g id=\"edge21\" class=\"edge\">\n<title>20&#45;&gt;21</title>\n<path fill=\"none\" stroke=\"black\" d=\"M228.03,-341.91C215.12,-332.29 201.25,-321.95 188.02,-312.09\"/>\n<polygon fill=\"black\" stroke=\"black\" points=\"189.98,-309.19 179.87,-306.02 185.8,-314.8 189.98,-309.19\"/>\n</g>\n<!-- 24 -->\n<g id=\"node25\" class=\"node\">\n<title>24</title>\n<path fill=\"#e58139\" stroke=\"black\" d=\"M331.5,-298.5C331.5,-298.5 233.5,-298.5 233.5,-298.5 227.5,-298.5 221.5,-292.5 221.5,-286.5 221.5,-286.5 221.5,-242.5 221.5,-242.5 221.5,-236.5 227.5,-230.5 233.5,-230.5 233.5,-230.5 331.5,-230.5 331.5,-230.5 337.5,-230.5 343.5,-236.5 343.5,-242.5 343.5,-242.5 343.5,-286.5 343.5,-286.5 343.5,-292.5 337.5,-298.5 331.5,-298.5\"/>\n<text text-anchor=\"start\" x=\"247.5\" y=\"-283.3\" font-family=\"Helvetica,sans-Serif\" font-size=\"14.00\">gini = 0.0</text>\n<text text-anchor=\"start\" x=\"234\" y=\"-268.3\" font-family=\"Helvetica,sans-Serif\" font-size=\"14.00\">samples = 39</text>\n<text text-anchor=\"start\" x=\"229.5\" y=\"-253.3\" font-family=\"Helvetica,sans-Serif\" font-size=\"14.00\">value = [58, 0]</text>\n<text text-anchor=\"start\" x=\"240\" y=\"-238.3\" font-family=\"Helvetica,sans-Serif\" font-size=\"14.00\">class = give</text>\n</g>\n<!-- 20&#45;&gt;24 -->\n<g id=\"edge24\" class=\"edge\">\n<title>20&#45;&gt;24</title>\n<path fill=\"none\" stroke=\"black\" d=\"M282.5,-341.91C282.5,-331.2 282.5,-319.62 282.5,-308.78\"/>\n<polygon fill=\"black\" stroke=\"black\" points=\"286,-308.67 282.5,-298.67 279,-308.67 286,-308.67\"/>\n</g>\n<!-- 22 -->\n<g id=\"node23\" class=\"node\">\n<title>22</title>\n<path fill=\"#e58139\" stroke=\"black\" d=\"M101,-179.5C101,-179.5 12,-179.5 12,-179.5 6,-179.5 0,-173.5 0,-167.5 0,-167.5 0,-123.5 0,-123.5 0,-117.5 6,-111.5 12,-111.5 12,-111.5 101,-111.5 101,-111.5 107,-111.5 113,-117.5 113,-123.5 113,-123.5 113,-167.5 113,-167.5 113,-173.5 107,-179.5 101,-179.5\"/>\n<text text-anchor=\"start\" x=\"21.5\" y=\"-164.3\" font-family=\"Helvetica,sans-Serif\" font-size=\"14.00\">gini = 0.0</text>\n<text text-anchor=\"start\" x=\"12.5\" y=\"-149.3\" font-family=\"Helvetica,sans-Serif\" font-size=\"14.00\">samples = 3</text>\n<text text-anchor=\"start\" x=\"8\" y=\"-134.3\" font-family=\"Helvetica,sans-Serif\" font-size=\"14.00\">value = [6, 0]</text>\n<text text-anchor=\"start\" x=\"14\" y=\"-119.3\" font-family=\"Helvetica,sans-Serif\" font-size=\"14.00\">class = give</text>\n</g>\n<!-- 21&#45;&gt;22 -->\n<g id=\"edge22\" class=\"edge\">\n<title>21&#45;&gt;22</title>\n<path fill=\"none\" stroke=\"black\" d=\"M101.56,-222.91C94.99,-211.76 87.85,-199.66 81.23,-188.44\"/>\n<polygon fill=\"black\" stroke=\"black\" points=\"84.15,-186.5 76.06,-179.67 78.13,-190.06 84.15,-186.5\"/>\n</g>\n<!-- 23 -->\n<g id=\"node24\" class=\"node\">\n<title>23</title>\n<path fill=\"#399de5\" stroke=\"black\" d=\"M247.5,-179.5C247.5,-179.5 143.5,-179.5 143.5,-179.5 137.5,-179.5 131.5,-173.5 131.5,-167.5 131.5,-167.5 131.5,-123.5 131.5,-123.5 131.5,-117.5 137.5,-111.5 143.5,-111.5 143.5,-111.5 247.5,-111.5 247.5,-111.5 253.5,-111.5 259.5,-117.5 259.5,-123.5 259.5,-123.5 259.5,-167.5 259.5,-167.5 259.5,-173.5 253.5,-179.5 247.5,-179.5\"/>\n<text text-anchor=\"start\" x=\"160.5\" y=\"-164.3\" font-family=\"Helvetica,sans-Serif\" font-size=\"14.00\">gini = 0.0</text>\n<text text-anchor=\"start\" x=\"151.5\" y=\"-149.3\" font-family=\"Helvetica,sans-Serif\" font-size=\"14.00\">samples = 1</text>\n<text text-anchor=\"start\" x=\"147\" y=\"-134.3\" font-family=\"Helvetica,sans-Serif\" font-size=\"14.00\">value = [0, 1]</text>\n<text text-anchor=\"start\" x=\"139.5\" y=\"-119.3\" font-family=\"Helvetica,sans-Serif\" font-size=\"14.00\">class = not give</text>\n</g>\n<!-- 21&#45;&gt;23 -->\n<g id=\"edge23\" class=\"edge\">\n<title>21&#45;&gt;23</title>\n<path fill=\"none\" stroke=\"black\" d=\"M149.79,-222.91C156.45,-211.76 163.7,-199.66 170.41,-188.44\"/>\n<polygon fill=\"black\" stroke=\"black\" points=\"173.53,-190.05 175.66,-179.67 167.52,-186.45 173.53,-190.05\"/>\n</g>\n<!-- 26 -->\n<g id=\"node27\" class=\"node\">\n<title>26</title>\n<path fill=\"#399de5\" stroke=\"black\" d=\"M477.5,-298.5C477.5,-298.5 373.5,-298.5 373.5,-298.5 367.5,-298.5 361.5,-292.5 361.5,-286.5 361.5,-286.5 361.5,-242.5 361.5,-242.5 361.5,-236.5 367.5,-230.5 373.5,-230.5 373.5,-230.5 477.5,-230.5 477.5,-230.5 483.5,-230.5 489.5,-236.5 489.5,-242.5 489.5,-242.5 489.5,-286.5 489.5,-286.5 489.5,-292.5 483.5,-298.5 477.5,-298.5\"/>\n<text text-anchor=\"start\" x=\"390.5\" y=\"-283.3\" font-family=\"Helvetica,sans-Serif\" font-size=\"14.00\">gini = 0.0</text>\n<text text-anchor=\"start\" x=\"381.5\" y=\"-268.3\" font-family=\"Helvetica,sans-Serif\" font-size=\"14.00\">samples = 1</text>\n<text text-anchor=\"start\" x=\"377\" y=\"-253.3\" font-family=\"Helvetica,sans-Serif\" font-size=\"14.00\">value = [0, 2]</text>\n<text text-anchor=\"start\" x=\"369.5\" y=\"-238.3\" font-family=\"Helvetica,sans-Serif\" font-size=\"14.00\">class = not give</text>\n</g>\n<!-- 25&#45;&gt;26 -->\n<g id=\"edge26\" class=\"edge\">\n<title>25&#45;&gt;26</title>\n<path fill=\"none\" stroke=\"black\" d=\"M476.44,-341.91C468.93,-330.65 460.78,-318.42 453.24,-307.11\"/>\n<polygon fill=\"black\" stroke=\"black\" points=\"456.07,-305.05 447.61,-298.67 450.25,-308.93 456.07,-305.05\"/>\n</g>\n<!-- 27 -->\n<g id=\"node28\" class=\"node\">\n<title>27</title>\n<path fill=\"#e68742\" stroke=\"black\" d=\"M671.5,-306C671.5,-306 519.5,-306 519.5,-306 513.5,-306 507.5,-300 507.5,-294 507.5,-294 507.5,-235 507.5,-235 507.5,-229 513.5,-223 519.5,-223 519.5,-223 671.5,-223 671.5,-223 677.5,-223 683.5,-229 683.5,-235 683.5,-235 683.5,-294 683.5,-294 683.5,-300 677.5,-306 671.5,-306\"/>\n<text text-anchor=\"start\" x=\"515.5\" y=\"-290.8\" font-family=\"Helvetica,sans-Serif\" font-size=\"14.00\">log.annual.inc ≤ 9.482</text>\n<text text-anchor=\"start\" x=\"551.5\" y=\"-275.8\" font-family=\"Helvetica,sans-Serif\" font-size=\"14.00\">gini = 0.083</text>\n<text text-anchor=\"start\" x=\"547\" y=\"-260.8\" font-family=\"Helvetica,sans-Serif\" font-size=\"14.00\">samples = 30</text>\n<text text-anchor=\"start\" x=\"542.5\" y=\"-245.8\" font-family=\"Helvetica,sans-Serif\" font-size=\"14.00\">value = [44, 2]</text>\n<text text-anchor=\"start\" x=\"553\" y=\"-230.8\" font-family=\"Helvetica,sans-Serif\" font-size=\"14.00\">class = give</text>\n</g>\n<!-- 25&#45;&gt;27 -->\n<g id=\"edge27\" class=\"edge\">\n<title>25&#45;&gt;27</title>\n<path fill=\"none\" stroke=\"black\" d=\"M535.42,-341.91C542.48,-332.92 550.04,-323.32 557.32,-314.05\"/>\n<polygon fill=\"black\" stroke=\"black\" points=\"560.21,-316.05 563.64,-306.02 554.7,-311.72 560.21,-316.05\"/>\n</g>\n<!-- 28 -->\n<g id=\"node29\" class=\"node\">\n<title>28</title>\n<path fill=\"#399de5\" stroke=\"black\" d=\"M504.5,-179.5C504.5,-179.5 400.5,-179.5 400.5,-179.5 394.5,-179.5 388.5,-173.5 388.5,-167.5 388.5,-167.5 388.5,-123.5 388.5,-123.5 388.5,-117.5 394.5,-111.5 400.5,-111.5 400.5,-111.5 504.5,-111.5 504.5,-111.5 510.5,-111.5 516.5,-117.5 516.5,-123.5 516.5,-123.5 516.5,-167.5 516.5,-167.5 516.5,-173.5 510.5,-179.5 504.5,-179.5\"/>\n<text text-anchor=\"start\" x=\"417.5\" y=\"-164.3\" font-family=\"Helvetica,sans-Serif\" font-size=\"14.00\">gini = 0.0</text>\n<text text-anchor=\"start\" x=\"408.5\" y=\"-149.3\" font-family=\"Helvetica,sans-Serif\" font-size=\"14.00\">samples = 1</text>\n<text text-anchor=\"start\" x=\"404\" y=\"-134.3\" font-family=\"Helvetica,sans-Serif\" font-size=\"14.00\">value = [0, 2]</text>\n<text text-anchor=\"start\" x=\"396.5\" y=\"-119.3\" font-family=\"Helvetica,sans-Serif\" font-size=\"14.00\">class = not give</text>\n</g>\n<!-- 27&#45;&gt;28 -->\n<g id=\"edge28\" class=\"edge\">\n<title>27&#45;&gt;28</title>\n<path fill=\"none\" stroke=\"black\" d=\"M545.89,-222.91C531.32,-210.99 515.41,-197.98 500.92,-186.12\"/>\n<polygon fill=\"black\" stroke=\"black\" points=\"502.99,-183.29 493.04,-179.67 498.56,-188.71 502.99,-183.29\"/>\n</g>\n<!-- 29 -->\n<g id=\"node30\" class=\"node\">\n<title>29</title>\n<path fill=\"#e58139\" stroke=\"black\" d=\"M644.5,-179.5C644.5,-179.5 546.5,-179.5 546.5,-179.5 540.5,-179.5 534.5,-173.5 534.5,-167.5 534.5,-167.5 534.5,-123.5 534.5,-123.5 534.5,-117.5 540.5,-111.5 546.5,-111.5 546.5,-111.5 644.5,-111.5 644.5,-111.5 650.5,-111.5 656.5,-117.5 656.5,-123.5 656.5,-123.5 656.5,-167.5 656.5,-167.5 656.5,-173.5 650.5,-179.5 644.5,-179.5\"/>\n<text text-anchor=\"start\" x=\"560.5\" y=\"-164.3\" font-family=\"Helvetica,sans-Serif\" font-size=\"14.00\">gini = 0.0</text>\n<text text-anchor=\"start\" x=\"547\" y=\"-149.3\" font-family=\"Helvetica,sans-Serif\" font-size=\"14.00\">samples = 29</text>\n<text text-anchor=\"start\" x=\"542.5\" y=\"-134.3\" font-family=\"Helvetica,sans-Serif\" font-size=\"14.00\">value = [44, 0]</text>\n<text text-anchor=\"start\" x=\"553\" y=\"-119.3\" font-family=\"Helvetica,sans-Serif\" font-size=\"14.00\">class = give</text>\n</g>\n<!-- 27&#45;&gt;29 -->\n<g id=\"edge29\" class=\"edge\">\n<title>27&#45;&gt;29</title>\n<path fill=\"none\" stroke=\"black\" d=\"M595.5,-222.91C595.5,-212.2 595.5,-200.62 595.5,-189.78\"/>\n<polygon fill=\"black\" stroke=\"black\" points=\"599,-189.67 595.5,-179.67 592,-189.67 599,-189.67\"/>\n</g>\n<!-- 31 -->\n<g id=\"node32\" class=\"node\">\n<title>31</title>\n<path fill=\"#e58139\" stroke=\"black\" d=\"M712,-417.5C712,-417.5 605,-417.5 605,-417.5 599,-417.5 593,-411.5 593,-405.5 593,-405.5 593,-361.5 593,-361.5 593,-355.5 599,-349.5 605,-349.5 605,-349.5 712,-349.5 712,-349.5 718,-349.5 724,-355.5 724,-361.5 724,-361.5 724,-405.5 724,-405.5 724,-411.5 718,-417.5 712,-417.5\"/>\n<text text-anchor=\"start\" x=\"623.5\" y=\"-402.3\" font-family=\"Helvetica,sans-Serif\" font-size=\"14.00\">gini = 0.0</text>\n<text text-anchor=\"start\" x=\"605.5\" y=\"-387.3\" font-family=\"Helvetica,sans-Serif\" font-size=\"14.00\">samples = 225</text>\n<text text-anchor=\"start\" x=\"601\" y=\"-372.3\" font-family=\"Helvetica,sans-Serif\" font-size=\"14.00\">value = [362, 0]</text>\n<text text-anchor=\"start\" x=\"616\" y=\"-357.3\" font-family=\"Helvetica,sans-Serif\" font-size=\"14.00\">class = give</text>\n</g>\n<!-- 30&#45;&gt;31 -->\n<g id=\"edge31\" class=\"edge\">\n<title>30&#45;&gt;31</title>\n<path fill=\"none\" stroke=\"black\" d=\"M660.46,-460.91C660.18,-450.2 659.89,-438.62 659.61,-427.78\"/>\n<polygon fill=\"black\" stroke=\"black\" points=\"663.11,-427.57 659.35,-417.67 656.11,-427.75 663.11,-427.57\"/>\n</g>\n<!-- 32 -->\n<g id=\"node33\" class=\"node\">\n<title>32</title>\n<path fill=\"#e5823a\" stroke=\"black\" d=\"M879,-425C879,-425 754,-425 754,-425 748,-425 742,-419 742,-413 742,-413 742,-354 742,-354 742,-348 748,-342 754,-342 754,-342 879,-342 879,-342 885,-342 891,-348 891,-354 891,-354 891,-413 891,-413 891,-419 885,-425 879,-425\"/>\n<text text-anchor=\"start\" x=\"772\" y=\"-409.8\" font-family=\"Helvetica,sans-Serif\" font-size=\"14.00\">dti ≤ 20.785</text>\n<text text-anchor=\"start\" x=\"772.5\" y=\"-394.8\" font-family=\"Helvetica,sans-Serif\" font-size=\"14.00\">gini = 0.011</text>\n<text text-anchor=\"start\" x=\"759\" y=\"-379.8\" font-family=\"Helvetica,sans-Serif\" font-size=\"14.00\">samples = 1979</text>\n<text text-anchor=\"start\" x=\"750\" y=\"-364.8\" font-family=\"Helvetica,sans-Serif\" font-size=\"14.00\">value = [3126, 17]</text>\n<text text-anchor=\"start\" x=\"774\" y=\"-349.8\" font-family=\"Helvetica,sans-Serif\" font-size=\"14.00\">class = give</text>\n</g>\n<!-- 30&#45;&gt;32 -->\n<g id=\"edge32\" class=\"edge\">\n<title>30&#45;&gt;32</title>\n<path fill=\"none\" stroke=\"black\" d=\"M715.28,-460.91C728.02,-451.29 741.71,-440.95 754.78,-431.09\"/>\n<polygon fill=\"black\" stroke=\"black\" points=\"756.95,-433.84 762.82,-425.02 752.73,-428.25 756.95,-433.84\"/>\n</g>\n<!-- 33 -->\n<g id=\"node34\" class=\"node\">\n<title>33</title>\n<path fill=\"#e5823a\" stroke=\"black\" d=\"M879,-306C879,-306 754,-306 754,-306 748,-306 742,-300 742,-294 742,-294 742,-235 742,-235 742,-229 748,-223 754,-223 754,-223 879,-223 879,-223 885,-223 891,-229 891,-235 891,-235 891,-294 891,-294 891,-300 885,-306 879,-306\"/>\n<text text-anchor=\"start\" x=\"760\" y=\"-290.8\" font-family=\"Helvetica,sans-Serif\" font-size=\"14.00\">revol.util ≤ 0.65</text>\n<text text-anchor=\"start\" x=\"772.5\" y=\"-275.8\" font-family=\"Helvetica,sans-Serif\" font-size=\"14.00\">gini = 0.008</text>\n<text text-anchor=\"start\" x=\"759\" y=\"-260.8\" font-family=\"Helvetica,sans-Serif\" font-size=\"14.00\">samples = 1677</text>\n<text text-anchor=\"start\" x=\"750\" y=\"-245.8\" font-family=\"Helvetica,sans-Serif\" font-size=\"14.00\">value = [2660, 11]</text>\n<text text-anchor=\"start\" x=\"774\" y=\"-230.8\" font-family=\"Helvetica,sans-Serif\" font-size=\"14.00\">class = give</text>\n</g>\n<!-- 32&#45;&gt;33 -->\n<g id=\"edge33\" class=\"edge\">\n<title>32&#45;&gt;33</title>\n<path fill=\"none\" stroke=\"black\" d=\"M816.5,-341.91C816.5,-333.65 816.5,-324.86 816.5,-316.3\"/>\n<polygon fill=\"black\" stroke=\"black\" points=\"820,-316.02 816.5,-306.02 813,-316.02 820,-316.02\"/>\n</g>\n<!-- 40 -->\n<g id=\"node41\" class=\"node\">\n<title>40</title>\n<path fill=\"#e5833c\" stroke=\"black\" d=\"M1278.5,-306C1278.5,-306 1162.5,-306 1162.5,-306 1156.5,-306 1150.5,-300 1150.5,-294 1150.5,-294 1150.5,-235 1150.5,-235 1150.5,-229 1156.5,-223 1162.5,-223 1162.5,-223 1278.5,-223 1278.5,-223 1284.5,-223 1290.5,-229 1290.5,-235 1290.5,-235 1290.5,-294 1290.5,-294 1290.5,-300 1284.5,-306 1278.5,-306\"/>\n<text text-anchor=\"start\" x=\"1158.5\" y=\"-290.8\" font-family=\"Helvetica,sans-Serif\" font-size=\"14.00\">educational ≤ 0.5</text>\n<text text-anchor=\"start\" x=\"1176.5\" y=\"-275.8\" font-family=\"Helvetica,sans-Serif\" font-size=\"14.00\">gini = 0.025</text>\n<text text-anchor=\"start\" x=\"1167.5\" y=\"-260.8\" font-family=\"Helvetica,sans-Serif\" font-size=\"14.00\">samples = 302</text>\n<text text-anchor=\"start\" x=\"1163\" y=\"-245.8\" font-family=\"Helvetica,sans-Serif\" font-size=\"14.00\">value = [466, 6]</text>\n<text text-anchor=\"start\" x=\"1178\" y=\"-230.8\" font-family=\"Helvetica,sans-Serif\" font-size=\"14.00\">class = give</text>\n</g>\n<!-- 32&#45;&gt;40 -->\n<g id=\"edge40\" class=\"edge\">\n<title>32&#45;&gt;40</title>\n<path fill=\"none\" stroke=\"black\" d=\"M891.26,-345.47C894.36,-344.25 897.45,-343.09 900.5,-342 980.22,-313.62 1074.84,-292.47 1140.41,-279.68\"/>\n<polygon fill=\"black\" stroke=\"black\" points=\"1141.12,-283.11 1150.28,-277.78 1139.79,-276.24 1141.12,-283.11\"/>\n</g>\n<!-- 34 -->\n<g id=\"node35\" class=\"node\">\n<title>34</title>\n<path fill=\"#e78b48\" stroke=\"black\" d=\"M798.5,-187C798.5,-187 686.5,-187 686.5,-187 680.5,-187 674.5,-181 674.5,-175 674.5,-175 674.5,-116 674.5,-116 674.5,-110 680.5,-104 686.5,-104 686.5,-104 798.5,-104 798.5,-104 804.5,-104 810.5,-110 810.5,-116 810.5,-116 810.5,-175 810.5,-175 810.5,-181 804.5,-187 798.5,-187\"/>\n<text text-anchor=\"start\" x=\"682.5\" y=\"-171.8\" font-family=\"Helvetica,sans-Serif\" font-size=\"14.00\">credit_card ≤ 0.5</text>\n<text text-anchor=\"start\" x=\"698.5\" y=\"-156.8\" font-family=\"Helvetica,sans-Serif\" font-size=\"14.00\">gini = 0.133</text>\n<text text-anchor=\"start\" x=\"694\" y=\"-141.8\" font-family=\"Helvetica,sans-Serif\" font-size=\"14.00\">samples = 36</text>\n<text text-anchor=\"start\" x=\"689.5\" y=\"-126.8\" font-family=\"Helvetica,sans-Serif\" font-size=\"14.00\">value = [52, 4]</text>\n<text text-anchor=\"start\" x=\"700\" y=\"-111.8\" font-family=\"Helvetica,sans-Serif\" font-size=\"14.00\">class = give</text>\n</g>\n<!-- 33&#45;&gt;34 -->\n<g id=\"edge34\" class=\"edge\">\n<title>33&#45;&gt;34</title>\n<path fill=\"none\" stroke=\"black\" d=\"M790.83,-222.91C785.26,-214.1 779.31,-204.7 773.56,-195.61\"/>\n<polygon fill=\"black\" stroke=\"black\" points=\"776.43,-193.6 768.13,-187.02 770.52,-197.34 776.43,-193.6\"/>\n</g>\n<!-- 37 -->\n<g id=\"node38\" class=\"node\">\n<title>37</title>\n<path fill=\"#e5813a\" stroke=\"black\" d=\"M972,-187C972,-187 841,-187 841,-187 835,-187 829,-181 829,-175 829,-175 829,-116 829,-116 829,-110 835,-104 841,-104 841,-104 972,-104 972,-104 978,-104 984,-110 984,-116 984,-116 984,-175 984,-175 984,-181 978,-187 972,-187\"/>\n<text text-anchor=\"start\" x=\"837\" y=\"-171.8\" font-family=\"Helvetica,sans-Serif\" font-size=\"14.00\">revol.bal ≤ 27200.5</text>\n<text text-anchor=\"start\" x=\"862.5\" y=\"-156.8\" font-family=\"Helvetica,sans-Serif\" font-size=\"14.00\">gini = 0.005</text>\n<text text-anchor=\"start\" x=\"849\" y=\"-141.8\" font-family=\"Helvetica,sans-Serif\" font-size=\"14.00\">samples = 1641</text>\n<text text-anchor=\"start\" x=\"844.5\" y=\"-126.8\" font-family=\"Helvetica,sans-Serif\" font-size=\"14.00\">value = [2608, 7]</text>\n<text text-anchor=\"start\" x=\"864\" y=\"-111.8\" font-family=\"Helvetica,sans-Serif\" font-size=\"14.00\">class = give</text>\n</g>\n<!-- 33&#45;&gt;37 -->\n<g id=\"edge37\" class=\"edge\">\n<title>33&#45;&gt;37</title>\n<path fill=\"none\" stroke=\"black\" d=\"M847.73,-222.91C854.64,-213.92 862.03,-204.32 869.15,-195.05\"/>\n<polygon fill=\"black\" stroke=\"black\" points=\"872.01,-197.08 875.33,-187.02 866.46,-192.81 872.01,-197.08\"/>\n</g>\n<!-- 35 -->\n<g id=\"node36\" class=\"node\">\n<title>35</title>\n<path fill=\"#e68641\" stroke=\"black\" d=\"M655.5,-68C655.5,-68 557.5,-68 557.5,-68 551.5,-68 545.5,-62 545.5,-56 545.5,-56 545.5,-12 545.5,-12 545.5,-6 551.5,0 557.5,0 557.5,0 655.5,0 655.5,0 661.5,0 667.5,-6 667.5,-12 667.5,-12 667.5,-56 667.5,-56 667.5,-62 661.5,-68 655.5,-68\"/>\n<text text-anchor=\"start\" x=\"562.5\" y=\"-52.8\" font-family=\"Helvetica,sans-Serif\" font-size=\"14.00\">gini = 0.074</text>\n<text text-anchor=\"start\" x=\"558\" y=\"-37.8\" font-family=\"Helvetica,sans-Serif\" font-size=\"14.00\">samples = 34</text>\n<text text-anchor=\"start\" x=\"553.5\" y=\"-22.8\" font-family=\"Helvetica,sans-Serif\" font-size=\"14.00\">value = [50, 2]</text>\n<text text-anchor=\"start\" x=\"564\" y=\"-7.8\" font-family=\"Helvetica,sans-Serif\" font-size=\"14.00\">class = give</text>\n</g>\n<!-- 34&#45;&gt;35 -->\n<g id=\"edge35\" class=\"edge\">\n<title>34&#45;&gt;35</title>\n<path fill=\"none\" stroke=\"black\" d=\"M691.86,-103.73C680.08,-94.24 667.55,-84.16 655.83,-74.72\"/>\n<polygon fill=\"black\" stroke=\"black\" points=\"657.84,-71.84 647.86,-68.3 653.45,-77.3 657.84,-71.84\"/>\n</g>\n<!-- 36 -->\n<g id=\"node37\" class=\"node\">\n<title>36</title>\n<path fill=\"#ffffff\" stroke=\"black\" d=\"M787,-68C787,-68 698,-68 698,-68 692,-68 686,-62 686,-56 686,-56 686,-12 686,-12 686,-6 692,0 698,0 698,0 787,0 787,0 793,0 799,-6 799,-12 799,-12 799,-56 799,-56 799,-62 793,-68 787,-68\"/>\n<text text-anchor=\"start\" x=\"707.5\" y=\"-52.8\" font-family=\"Helvetica,sans-Serif\" font-size=\"14.00\">gini = 0.5</text>\n<text text-anchor=\"start\" x=\"698.5\" y=\"-37.8\" font-family=\"Helvetica,sans-Serif\" font-size=\"14.00\">samples = 2</text>\n<text text-anchor=\"start\" x=\"694\" y=\"-22.8\" font-family=\"Helvetica,sans-Serif\" font-size=\"14.00\">value = [2, 2]</text>\n<text text-anchor=\"start\" x=\"700\" y=\"-7.8\" font-family=\"Helvetica,sans-Serif\" font-size=\"14.00\">class = give</text>\n</g>\n<!-- 34&#45;&gt;36 -->\n<g id=\"edge36\" class=\"edge\">\n<title>34&#45;&gt;36</title>\n<path fill=\"none\" stroke=\"black\" d=\"M742.5,-103.73C742.5,-95.52 742.5,-86.86 742.5,-78.56\"/>\n<polygon fill=\"black\" stroke=\"black\" points=\"746,-78.3 742.5,-68.3 739,-78.3 746,-78.3\"/>\n</g>\n<!-- 38 -->\n<g id=\"node39\" class=\"node\">\n<title>38</title>\n<path fill=\"#e58139\" stroke=\"black\" d=\"M945.5,-68C945.5,-68 829.5,-68 829.5,-68 823.5,-68 817.5,-62 817.5,-56 817.5,-56 817.5,-12 817.5,-12 817.5,-6 823.5,0 829.5,0 829.5,0 945.5,0 945.5,0 951.5,0 957.5,-6 957.5,-12 957.5,-12 957.5,-56 957.5,-56 957.5,-62 951.5,-68 945.5,-68\"/>\n<text text-anchor=\"start\" x=\"843.5\" y=\"-52.8\" font-family=\"Helvetica,sans-Serif\" font-size=\"14.00\">gini = 0.001</text>\n<text text-anchor=\"start\" x=\"830\" y=\"-37.8\" font-family=\"Helvetica,sans-Serif\" font-size=\"14.00\">samples = 1449</text>\n<text text-anchor=\"start\" x=\"825.5\" y=\"-22.8\" font-family=\"Helvetica,sans-Serif\" font-size=\"14.00\">value = [2305, 1]</text>\n<text text-anchor=\"start\" x=\"845\" y=\"-7.8\" font-family=\"Helvetica,sans-Serif\" font-size=\"14.00\">class = give</text>\n</g>\n<!-- 37&#45;&gt;38 -->\n<g id=\"edge38\" class=\"edge\">\n<title>37&#45;&gt;38</title>\n<path fill=\"none\" stroke=\"black\" d=\"M899.43,-103.73C897.98,-95.43 896.47,-86.67 895.01,-78.28\"/>\n<polygon fill=\"black\" stroke=\"black\" points=\"898.44,-77.55 893.28,-68.3 891.54,-78.75 898.44,-77.55\"/>\n</g>\n<!-- 39 -->\n<g id=\"node40\" class=\"node\">\n<title>39</title>\n<path fill=\"#e6833d\" stroke=\"black\" d=\"M1095,-68C1095,-68 988,-68 988,-68 982,-68 976,-62 976,-56 976,-56 976,-12 976,-12 976,-6 982,0 988,0 988,0 1095,0 1095,0 1101,0 1107,-6 1107,-12 1107,-12 1107,-56 1107,-56 1107,-62 1101,-68 1095,-68\"/>\n<text text-anchor=\"start\" x=\"997.5\" y=\"-52.8\" font-family=\"Helvetica,sans-Serif\" font-size=\"14.00\">gini = 0.038</text>\n<text text-anchor=\"start\" x=\"988.5\" y=\"-37.8\" font-family=\"Helvetica,sans-Serif\" font-size=\"14.00\">samples = 192</text>\n<text text-anchor=\"start\" x=\"984\" y=\"-22.8\" font-family=\"Helvetica,sans-Serif\" font-size=\"14.00\">value = [303, 6]</text>\n<text text-anchor=\"start\" x=\"999\" y=\"-7.8\" font-family=\"Helvetica,sans-Serif\" font-size=\"14.00\">class = give</text>\n</g>\n<!-- 37&#45;&gt;39 -->\n<g id=\"edge39\" class=\"edge\">\n<title>37&#45;&gt;39</title>\n<path fill=\"none\" stroke=\"black\" d=\"M956.77,-103.73C968.46,-94.24 980.9,-84.16 992.54,-74.72\"/>\n<polygon fill=\"black\" stroke=\"black\" points=\"994.88,-77.32 1000.45,-68.3 990.47,-71.88 994.88,-77.32\"/>\n</g>\n<!-- 41 -->\n<g id=\"node42\" class=\"node\">\n<title>41</title>\n<path fill=\"#e5823b\" stroke=\"black\" d=\"M1295,-187C1295,-187 1146,-187 1146,-187 1140,-187 1134,-181 1134,-175 1134,-175 1134,-116 1134,-116 1134,-110 1140,-104 1146,-104 1146,-104 1295,-104 1295,-104 1301,-104 1307,-110 1307,-116 1307,-116 1307,-175 1307,-175 1307,-181 1301,-187 1295,-187\"/>\n<text text-anchor=\"start\" x=\"1142\" y=\"-171.8\" font-family=\"Helvetica,sans-Serif\" font-size=\"14.00\">installment ≤ 422.215</text>\n<text text-anchor=\"start\" x=\"1176.5\" y=\"-156.8\" font-family=\"Helvetica,sans-Serif\" font-size=\"14.00\">gini = 0.021</text>\n<text text-anchor=\"start\" x=\"1167.5\" y=\"-141.8\" font-family=\"Helvetica,sans-Serif\" font-size=\"14.00\">samples = 296</text>\n<text text-anchor=\"start\" x=\"1163\" y=\"-126.8\" font-family=\"Helvetica,sans-Serif\" font-size=\"14.00\">value = [460, 5]</text>\n<text text-anchor=\"start\" x=\"1178\" y=\"-111.8\" font-family=\"Helvetica,sans-Serif\" font-size=\"14.00\">class = give</text>\n</g>\n<!-- 40&#45;&gt;41 -->\n<g id=\"edge41\" class=\"edge\">\n<title>40&#45;&gt;41</title>\n<path fill=\"none\" stroke=\"black\" d=\"M1220.5,-222.91C1220.5,-214.65 1220.5,-205.86 1220.5,-197.3\"/>\n<polygon fill=\"black\" stroke=\"black\" points=\"1224,-197.02 1220.5,-187.02 1217,-197.02 1224,-197.02\"/>\n</g>\n<!-- 44 -->\n<g id=\"node45\" class=\"node\">\n<title>44</title>\n<path fill=\"#e9965a\" stroke=\"black\" d=\"M1560,-187C1560,-187 1399,-187 1399,-187 1393,-187 1387,-181 1387,-175 1387,-175 1387,-116 1387,-116 1387,-110 1393,-104 1399,-104 1399,-104 1560,-104 1560,-104 1566,-104 1572,-110 1572,-116 1572,-116 1572,-175 1572,-175 1572,-181 1566,-187 1560,-187\"/>\n<text text-anchor=\"start\" x=\"1395\" y=\"-171.8\" font-family=\"Helvetica,sans-Serif\" font-size=\"14.00\">log.annual.inc ≤ 10.427</text>\n<text text-anchor=\"start\" x=\"1435.5\" y=\"-156.8\" font-family=\"Helvetica,sans-Serif\" font-size=\"14.00\">gini = 0.245</text>\n<text text-anchor=\"start\" x=\"1435.5\" y=\"-141.8\" font-family=\"Helvetica,sans-Serif\" font-size=\"14.00\">samples = 6</text>\n<text text-anchor=\"start\" x=\"1431\" y=\"-126.8\" font-family=\"Helvetica,sans-Serif\" font-size=\"14.00\">value = [6, 1]</text>\n<text text-anchor=\"start\" x=\"1437\" y=\"-111.8\" font-family=\"Helvetica,sans-Serif\" font-size=\"14.00\">class = give</text>\n</g>\n<!-- 40&#45;&gt;44 -->\n<g id=\"edge44\" class=\"edge\">\n<title>40&#45;&gt;44</title>\n<path fill=\"none\" stroke=\"black\" d=\"M1290.59,-231.84C1318.29,-219.33 1350.61,-204.72 1380.61,-191.17\"/>\n<polygon fill=\"black\" stroke=\"black\" points=\"1382.17,-194.31 1389.84,-187 1379.29,-187.93 1382.17,-194.31\"/>\n</g>\n<!-- 42 -->\n<g id=\"node43\" class=\"node\">\n<title>42</title>\n<path fill=\"#e5823a\" stroke=\"black\" d=\"M1244,-68C1244,-68 1137,-68 1137,-68 1131,-68 1125,-62 1125,-56 1125,-56 1125,-12 1125,-12 1125,-6 1131,0 1137,0 1137,0 1244,0 1244,0 1250,0 1256,-6 1256,-12 1256,-12 1256,-56 1256,-56 1256,-62 1250,-68 1244,-68\"/>\n<text text-anchor=\"start\" x=\"1146.5\" y=\"-52.8\" font-family=\"Helvetica,sans-Serif\" font-size=\"14.00\">gini = 0.012</text>\n<text text-anchor=\"start\" x=\"1137.5\" y=\"-37.8\" font-family=\"Helvetica,sans-Serif\" font-size=\"14.00\">samples = 217</text>\n<text text-anchor=\"start\" x=\"1133\" y=\"-22.8\" font-family=\"Helvetica,sans-Serif\" font-size=\"14.00\">value = [340, 2]</text>\n<text text-anchor=\"start\" x=\"1148\" y=\"-7.8\" font-family=\"Helvetica,sans-Serif\" font-size=\"14.00\">class = give</text>\n</g>\n<!-- 41&#45;&gt;42 -->\n<g id=\"edge42\" class=\"edge\">\n<title>41&#45;&gt;42</title>\n<path fill=\"none\" stroke=\"black\" d=\"M1209.33,-103.73C1207.03,-95.34 1204.6,-86.47 1202.28,-78.01\"/>\n<polygon fill=\"black\" stroke=\"black\" points=\"1205.64,-77.02 1199.62,-68.3 1198.89,-78.87 1205.64,-77.02\"/>\n</g>\n<!-- 43 -->\n<g id=\"node44\" class=\"node\">\n<title>43</title>\n<path fill=\"#e6843e\" stroke=\"black\" d=\"M1393,-68C1393,-68 1286,-68 1286,-68 1280,-68 1274,-62 1274,-56 1274,-56 1274,-12 1274,-12 1274,-6 1280,0 1286,0 1286,0 1393,0 1393,0 1399,0 1405,-6 1405,-12 1405,-12 1405,-56 1405,-56 1405,-62 1399,-68 1393,-68\"/>\n<text text-anchor=\"start\" x=\"1295.5\" y=\"-52.8\" font-family=\"Helvetica,sans-Serif\" font-size=\"14.00\">gini = 0.048</text>\n<text text-anchor=\"start\" x=\"1291\" y=\"-37.8\" font-family=\"Helvetica,sans-Serif\" font-size=\"14.00\">samples = 79</text>\n<text text-anchor=\"start\" x=\"1282\" y=\"-22.8\" font-family=\"Helvetica,sans-Serif\" font-size=\"14.00\">value = [120, 3]</text>\n<text text-anchor=\"start\" x=\"1297\" y=\"-7.8\" font-family=\"Helvetica,sans-Serif\" font-size=\"14.00\">class = give</text>\n</g>\n<!-- 41&#45;&gt;43 -->\n<g id=\"edge43\" class=\"edge\">\n<title>41&#45;&gt;43</title>\n<path fill=\"none\" stroke=\"black\" d=\"M1264.81,-103.73C1274.92,-94.42 1285.66,-84.54 1295.75,-75.26\"/>\n<polygon fill=\"black\" stroke=\"black\" points=\"1298.32,-77.65 1303.31,-68.3 1293.58,-72.5 1298.32,-77.65\"/>\n</g>\n<!-- 45 -->\n<g id=\"node46\" class=\"node\">\n<title>45</title>\n<path fill=\"#e58139\" stroke=\"black\" d=\"M1524,-68C1524,-68 1435,-68 1435,-68 1429,-68 1423,-62 1423,-56 1423,-56 1423,-12 1423,-12 1423,-6 1429,0 1435,0 1435,0 1524,0 1524,0 1530,0 1536,-6 1536,-12 1536,-12 1536,-56 1536,-56 1536,-62 1530,-68 1524,-68\"/>\n<text text-anchor=\"start\" x=\"1444.5\" y=\"-52.8\" font-family=\"Helvetica,sans-Serif\" font-size=\"14.00\">gini = 0.0</text>\n<text text-anchor=\"start\" x=\"1435.5\" y=\"-37.8\" font-family=\"Helvetica,sans-Serif\" font-size=\"14.00\">samples = 3</text>\n<text text-anchor=\"start\" x=\"1431\" y=\"-22.8\" font-family=\"Helvetica,sans-Serif\" font-size=\"14.00\">value = [4, 0]</text>\n<text text-anchor=\"start\" x=\"1437\" y=\"-7.8\" font-family=\"Helvetica,sans-Serif\" font-size=\"14.00\">class = give</text>\n</g>\n<!-- 44&#45;&gt;45 -->\n<g id=\"edge45\" class=\"edge\">\n<title>44&#45;&gt;45</title>\n<path fill=\"none\" stroke=\"black\" d=\"M1479.5,-103.73C1479.5,-95.52 1479.5,-86.86 1479.5,-78.56\"/>\n<polygon fill=\"black\" stroke=\"black\" points=\"1483,-78.3 1479.5,-68.3 1476,-78.3 1483,-78.3\"/>\n</g>\n<!-- 46 -->\n<g id=\"node47\" class=\"node\">\n<title>46</title>\n<path fill=\"#f2c09c\" stroke=\"black\" d=\"M1655,-68C1655,-68 1566,-68 1566,-68 1560,-68 1554,-62 1554,-56 1554,-56 1554,-12 1554,-12 1554,-6 1560,0 1566,0 1566,0 1655,0 1655,0 1661,0 1667,-6 1667,-12 1667,-12 1667,-56 1667,-56 1667,-62 1661,-68 1655,-68\"/>\n<text text-anchor=\"start\" x=\"1566.5\" y=\"-52.8\" font-family=\"Helvetica,sans-Serif\" font-size=\"14.00\">gini = 0.444</text>\n<text text-anchor=\"start\" x=\"1566.5\" y=\"-37.8\" font-family=\"Helvetica,sans-Serif\" font-size=\"14.00\">samples = 3</text>\n<text text-anchor=\"start\" x=\"1562\" y=\"-22.8\" font-family=\"Helvetica,sans-Serif\" font-size=\"14.00\">value = [2, 1]</text>\n<text text-anchor=\"start\" x=\"1568\" y=\"-7.8\" font-family=\"Helvetica,sans-Serif\" font-size=\"14.00\">class = give</text>\n</g>\n<!-- 44&#45;&gt;46 -->\n<g id=\"edge46\" class=\"edge\">\n<title>44&#45;&gt;46</title>\n<path fill=\"none\" stroke=\"black\" d=\"M1528.28,-103.73C1539.63,-94.24 1551.69,-84.16 1562.99,-74.72\"/>\n<polygon fill=\"black\" stroke=\"black\" points=\"1565.23,-77.4 1570.66,-68.3 1560.74,-72.03 1565.23,-77.4\"/>\n</g>\n<!-- 49 -->\n<g id=\"node50\" class=\"node\">\n<title>49</title>\n<path fill=\"#cee6f8\" stroke=\"black\" d=\"M1219.5,-782C1219.5,-782 1115.5,-782 1115.5,-782 1109.5,-782 1103.5,-776 1103.5,-770 1103.5,-770 1103.5,-711 1103.5,-711 1103.5,-705 1109.5,-699 1115.5,-699 1115.5,-699 1219.5,-699 1219.5,-699 1225.5,-699 1231.5,-705 1231.5,-711 1231.5,-711 1231.5,-770 1231.5,-770 1231.5,-776 1225.5,-782 1219.5,-782\"/>\n<text text-anchor=\"start\" x=\"1127.5\" y=\"-766.8\" font-family=\"Helvetica,sans-Serif\" font-size=\"14.00\">dti ≤ 26.89</text>\n<text text-anchor=\"start\" x=\"1128\" y=\"-751.8\" font-family=\"Helvetica,sans-Serif\" font-size=\"14.00\">gini = 0.49</text>\n<text text-anchor=\"start\" x=\"1123.5\" y=\"-736.8\" font-family=\"Helvetica,sans-Serif\" font-size=\"14.00\">samples = 5</text>\n<text text-anchor=\"start\" x=\"1119\" y=\"-721.8\" font-family=\"Helvetica,sans-Serif\" font-size=\"14.00\">value = [3, 4]</text>\n<text text-anchor=\"start\" x=\"1111.5\" y=\"-706.8\" font-family=\"Helvetica,sans-Serif\" font-size=\"14.00\">class = not give</text>\n</g>\n<!-- 48&#45;&gt;49 -->\n<g id=\"edge49\" class=\"edge\">\n<title>48&#45;&gt;49</title>\n<path fill=\"none\" stroke=\"black\" d=\"M1215.17,-817.91C1209.68,-809.1 1203.81,-799.7 1198.14,-790.61\"/>\n<polygon fill=\"black\" stroke=\"black\" points=\"1201.05,-788.65 1192.78,-782.02 1195.11,-792.36 1201.05,-788.65\"/>\n</g>\n<!-- 56 -->\n<g id=\"node57\" class=\"node\">\n<title>56</title>\n<path fill=\"#399de5\" stroke=\"black\" d=\"M1365.5,-774.5C1365.5,-774.5 1261.5,-774.5 1261.5,-774.5 1255.5,-774.5 1249.5,-768.5 1249.5,-762.5 1249.5,-762.5 1249.5,-718.5 1249.5,-718.5 1249.5,-712.5 1255.5,-706.5 1261.5,-706.5 1261.5,-706.5 1365.5,-706.5 1365.5,-706.5 1371.5,-706.5 1377.5,-712.5 1377.5,-718.5 1377.5,-718.5 1377.5,-762.5 1377.5,-762.5 1377.5,-768.5 1371.5,-774.5 1365.5,-774.5\"/>\n<text text-anchor=\"start\" x=\"1278.5\" y=\"-759.3\" font-family=\"Helvetica,sans-Serif\" font-size=\"14.00\">gini = 0.0</text>\n<text text-anchor=\"start\" x=\"1265\" y=\"-744.3\" font-family=\"Helvetica,sans-Serif\" font-size=\"14.00\">samples = 22</text>\n<text text-anchor=\"start\" x=\"1260.5\" y=\"-729.3\" font-family=\"Helvetica,sans-Serif\" font-size=\"14.00\">value = [0, 35]</text>\n<text text-anchor=\"start\" x=\"1257.5\" y=\"-714.3\" font-family=\"Helvetica,sans-Serif\" font-size=\"14.00\">class = not give</text>\n</g>\n<!-- 48&#45;&gt;56 -->\n<g id=\"edge56\" class=\"edge\">\n<title>48&#45;&gt;56</title>\n<path fill=\"none\" stroke=\"black\" d=\"M1265.83,-817.91C1272.78,-806.76 1280.33,-794.66 1287.33,-783.44\"/>\n<polygon fill=\"black\" stroke=\"black\" points=\"1290.48,-785 1292.81,-774.67 1284.54,-781.3 1290.48,-785\"/>\n</g>\n<!-- 50 -->\n<g id=\"node51\" class=\"node\">\n<title>50</title>\n<path fill=\"#eeab7b\" stroke=\"black\" d=\"M1153,-663C1153,-663 1022,-663 1022,-663 1016,-663 1010,-657 1010,-651 1010,-651 1010,-592 1010,-592 1010,-586 1016,-580 1022,-580 1022,-580 1153,-580 1153,-580 1159,-580 1165,-586 1165,-592 1165,-592 1165,-651 1165,-651 1165,-657 1159,-663 1153,-663\"/>\n<text text-anchor=\"start\" x=\"1018\" y=\"-647.8\" font-family=\"Helvetica,sans-Serif\" font-size=\"14.00\">revol.bal ≤ 11535.5</text>\n<text text-anchor=\"start\" x=\"1043.5\" y=\"-632.8\" font-family=\"Helvetica,sans-Serif\" font-size=\"14.00\">gini = 0.375</text>\n<text text-anchor=\"start\" x=\"1043.5\" y=\"-617.8\" font-family=\"Helvetica,sans-Serif\" font-size=\"14.00\">samples = 3</text>\n<text text-anchor=\"start\" x=\"1039\" y=\"-602.8\" font-family=\"Helvetica,sans-Serif\" font-size=\"14.00\">value = [3, 1]</text>\n<text text-anchor=\"start\" x=\"1045\" y=\"-587.8\" font-family=\"Helvetica,sans-Serif\" font-size=\"14.00\">class = give</text>\n</g>\n<!-- 49&#45;&gt;50 -->\n<g id=\"edge50\" class=\"edge\">\n<title>49&#45;&gt;50</title>\n<path fill=\"none\" stroke=\"black\" d=\"M1139.74,-698.91C1133.66,-690.01 1127.16,-680.51 1120.89,-671.33\"/>\n<polygon fill=\"black\" stroke=\"black\" points=\"1123.74,-669.3 1115.21,-663.02 1117.96,-673.25 1123.74,-669.3\"/>\n</g>\n<!-- 55 -->\n<g id=\"node56\" class=\"node\">\n<title>55</title>\n<path fill=\"#399de5\" stroke=\"black\" d=\"M1299.5,-655.5C1299.5,-655.5 1195.5,-655.5 1195.5,-655.5 1189.5,-655.5 1183.5,-649.5 1183.5,-643.5 1183.5,-643.5 1183.5,-599.5 1183.5,-599.5 1183.5,-593.5 1189.5,-587.5 1195.5,-587.5 1195.5,-587.5 1299.5,-587.5 1299.5,-587.5 1305.5,-587.5 1311.5,-593.5 1311.5,-599.5 1311.5,-599.5 1311.5,-643.5 1311.5,-643.5 1311.5,-649.5 1305.5,-655.5 1299.5,-655.5\"/>\n<text text-anchor=\"start\" x=\"1212.5\" y=\"-640.3\" font-family=\"Helvetica,sans-Serif\" font-size=\"14.00\">gini = 0.0</text>\n<text text-anchor=\"start\" x=\"1203.5\" y=\"-625.3\" font-family=\"Helvetica,sans-Serif\" font-size=\"14.00\">samples = 2</text>\n<text text-anchor=\"start\" x=\"1199\" y=\"-610.3\" font-family=\"Helvetica,sans-Serif\" font-size=\"14.00\">value = [0, 3]</text>\n<text text-anchor=\"start\" x=\"1191.5\" y=\"-595.3\" font-family=\"Helvetica,sans-Serif\" font-size=\"14.00\">class = not give</text>\n</g>\n<!-- 49&#45;&gt;55 -->\n<g id=\"edge55\" class=\"edge\">\n<title>49&#45;&gt;55</title>\n<path fill=\"none\" stroke=\"black\" d=\"M1195.26,-698.91C1202.95,-687.65 1211.32,-675.42 1219.05,-664.11\"/>\n<polygon fill=\"black\" stroke=\"black\" points=\"1222.07,-665.9 1224.82,-655.67 1216.29,-661.95 1222.07,-665.9\"/>\n</g>\n<!-- 51 -->\n<g id=\"node52\" class=\"node\">\n<title>51</title>\n<path fill=\"#ffffff\" stroke=\"black\" d=\"M1082.5,-544C1082.5,-544 930.5,-544 930.5,-544 924.5,-544 918.5,-538 918.5,-532 918.5,-532 918.5,-473 918.5,-473 918.5,-467 924.5,-461 930.5,-461 930.5,-461 1082.5,-461 1082.5,-461 1088.5,-461 1094.5,-467 1094.5,-473 1094.5,-473 1094.5,-532 1094.5,-532 1094.5,-538 1088.5,-544 1082.5,-544\"/>\n<text text-anchor=\"start\" x=\"926.5\" y=\"-528.8\" font-family=\"Helvetica,sans-Serif\" font-size=\"14.00\">log.annual.inc ≤ 9.819</text>\n<text text-anchor=\"start\" x=\"971.5\" y=\"-513.8\" font-family=\"Helvetica,sans-Serif\" font-size=\"14.00\">gini = 0.5</text>\n<text text-anchor=\"start\" x=\"962.5\" y=\"-498.8\" font-family=\"Helvetica,sans-Serif\" font-size=\"14.00\">samples = 2</text>\n<text text-anchor=\"start\" x=\"958\" y=\"-483.8\" font-family=\"Helvetica,sans-Serif\" font-size=\"14.00\">value = [1, 1]</text>\n<text text-anchor=\"start\" x=\"964\" y=\"-468.8\" font-family=\"Helvetica,sans-Serif\" font-size=\"14.00\">class = give</text>\n</g>\n<!-- 50&#45;&gt;51 -->\n<g id=\"edge51\" class=\"edge\">\n<title>50&#45;&gt;51</title>\n<path fill=\"none\" stroke=\"black\" d=\"M1059.4,-579.91C1053.24,-571.01 1046.66,-561.51 1040.31,-552.33\"/>\n<polygon fill=\"black\" stroke=\"black\" points=\"1043.12,-550.25 1034.55,-544.02 1037.37,-554.24 1043.12,-550.25\"/>\n</g>\n<!-- 54 -->\n<g id=\"node55\" class=\"node\">\n<title>54</title>\n<path fill=\"#e58139\" stroke=\"black\" d=\"M1214,-536.5C1214,-536.5 1125,-536.5 1125,-536.5 1119,-536.5 1113,-530.5 1113,-524.5 1113,-524.5 1113,-480.5 1113,-480.5 1113,-474.5 1119,-468.5 1125,-468.5 1125,-468.5 1214,-468.5 1214,-468.5 1220,-468.5 1226,-474.5 1226,-480.5 1226,-480.5 1226,-524.5 1226,-524.5 1226,-530.5 1220,-536.5 1214,-536.5\"/>\n<text text-anchor=\"start\" x=\"1134.5\" y=\"-521.3\" font-family=\"Helvetica,sans-Serif\" font-size=\"14.00\">gini = 0.0</text>\n<text text-anchor=\"start\" x=\"1125.5\" y=\"-506.3\" font-family=\"Helvetica,sans-Serif\" font-size=\"14.00\">samples = 1</text>\n<text text-anchor=\"start\" x=\"1121\" y=\"-491.3\" font-family=\"Helvetica,sans-Serif\" font-size=\"14.00\">value = [2, 0]</text>\n<text text-anchor=\"start\" x=\"1127\" y=\"-476.3\" font-family=\"Helvetica,sans-Serif\" font-size=\"14.00\">class = give</text>\n</g>\n<!-- 50&#45;&gt;54 -->\n<g id=\"edge54\" class=\"edge\">\n<title>50&#45;&gt;54</title>\n<path fill=\"none\" stroke=\"black\" d=\"M1115.95,-579.91C1123.84,-568.65 1132.41,-556.42 1140.34,-545.11\"/>\n<polygon fill=\"black\" stroke=\"black\" points=\"1143.38,-546.86 1146.25,-536.67 1137.65,-542.85 1143.38,-546.86\"/>\n</g>\n<!-- 52 -->\n<g id=\"node53\" class=\"node\">\n<title>52</title>\n<path fill=\"#399de5\" stroke=\"black\" d=\"M1025.5,-417.5C1025.5,-417.5 921.5,-417.5 921.5,-417.5 915.5,-417.5 909.5,-411.5 909.5,-405.5 909.5,-405.5 909.5,-361.5 909.5,-361.5 909.5,-355.5 915.5,-349.5 921.5,-349.5 921.5,-349.5 1025.5,-349.5 1025.5,-349.5 1031.5,-349.5 1037.5,-355.5 1037.5,-361.5 1037.5,-361.5 1037.5,-405.5 1037.5,-405.5 1037.5,-411.5 1031.5,-417.5 1025.5,-417.5\"/>\n<text text-anchor=\"start\" x=\"938.5\" y=\"-402.3\" font-family=\"Helvetica,sans-Serif\" font-size=\"14.00\">gini = 0.0</text>\n<text text-anchor=\"start\" x=\"929.5\" y=\"-387.3\" font-family=\"Helvetica,sans-Serif\" font-size=\"14.00\">samples = 1</text>\n<text text-anchor=\"start\" x=\"925\" y=\"-372.3\" font-family=\"Helvetica,sans-Serif\" font-size=\"14.00\">value = [0, 1]</text>\n<text text-anchor=\"start\" x=\"917.5\" y=\"-357.3\" font-family=\"Helvetica,sans-Serif\" font-size=\"14.00\">class = not give</text>\n</g>\n<!-- 51&#45;&gt;52 -->\n<g id=\"edge52\" class=\"edge\">\n<title>51&#45;&gt;52</title>\n<path fill=\"none\" stroke=\"black\" d=\"M995.05,-460.91C992,-450.09 988.7,-438.38 985.61,-427.44\"/>\n<polygon fill=\"black\" stroke=\"black\" points=\"988.94,-426.34 982.85,-417.67 982.2,-428.24 988.94,-426.34\"/>\n</g>\n<!-- 53 -->\n<g id=\"node54\" class=\"node\">\n<title>53</title>\n<path fill=\"#e58139\" stroke=\"black\" d=\"M1157,-417.5C1157,-417.5 1068,-417.5 1068,-417.5 1062,-417.5 1056,-411.5 1056,-405.5 1056,-405.5 1056,-361.5 1056,-361.5 1056,-355.5 1062,-349.5 1068,-349.5 1068,-349.5 1157,-349.5 1157,-349.5 1163,-349.5 1169,-355.5 1169,-361.5 1169,-361.5 1169,-405.5 1169,-405.5 1169,-411.5 1163,-417.5 1157,-417.5\"/>\n<text text-anchor=\"start\" x=\"1077.5\" y=\"-402.3\" font-family=\"Helvetica,sans-Serif\" font-size=\"14.00\">gini = 0.0</text>\n<text text-anchor=\"start\" x=\"1068.5\" y=\"-387.3\" font-family=\"Helvetica,sans-Serif\" font-size=\"14.00\">samples = 1</text>\n<text text-anchor=\"start\" x=\"1064\" y=\"-372.3\" font-family=\"Helvetica,sans-Serif\" font-size=\"14.00\">value = [1, 0]</text>\n<text text-anchor=\"start\" x=\"1070\" y=\"-357.3\" font-family=\"Helvetica,sans-Serif\" font-size=\"14.00\">class = give</text>\n</g>\n<!-- 51&#45;&gt;53 -->\n<g id=\"edge53\" class=\"edge\">\n<title>51&#45;&gt;53</title>\n<path fill=\"none\" stroke=\"black\" d=\"M1043.28,-460.91C1053.77,-449.32 1065.21,-436.7 1075.71,-425.11\"/>\n<polygon fill=\"black\" stroke=\"black\" points=\"1078.33,-427.43 1082.45,-417.67 1073.14,-422.73 1078.33,-427.43\"/>\n</g>\n<!-- 58 -->\n<g id=\"node59\" class=\"node\">\n<title>58</title>\n<path fill=\"#fbeee4\" stroke=\"black\" d=\"M1985.5,-901C1985.5,-901 1791.5,-901 1791.5,-901 1785.5,-901 1779.5,-895 1779.5,-889 1779.5,-889 1779.5,-830 1779.5,-830 1779.5,-824 1785.5,-818 1791.5,-818 1791.5,-818 1985.5,-818 1985.5,-818 1991.5,-818 1997.5,-824 1997.5,-830 1997.5,-830 1997.5,-889 1997.5,-889 1997.5,-895 1991.5,-901 1985.5,-901\"/>\n<text text-anchor=\"start\" x=\"1787.5\" y=\"-885.8\" font-family=\"Helvetica,sans-Serif\" font-size=\"14.00\">days.with.cr.line ≤ 5399.979</text>\n<text text-anchor=\"start\" x=\"1844.5\" y=\"-870.8\" font-family=\"Helvetica,sans-Serif\" font-size=\"14.00\">gini = 0.497</text>\n<text text-anchor=\"start\" x=\"1840\" y=\"-855.8\" font-family=\"Helvetica,sans-Serif\" font-size=\"14.00\">samples = 50</text>\n<text text-anchor=\"start\" x=\"1831\" y=\"-840.8\" font-family=\"Helvetica,sans-Serif\" font-size=\"14.00\">value = [36, 31]</text>\n<text text-anchor=\"start\" x=\"1846\" y=\"-825.8\" font-family=\"Helvetica,sans-Serif\" font-size=\"14.00\">class = give</text>\n</g>\n<!-- 57&#45;&gt;58 -->\n<g id=\"edge58\" class=\"edge\">\n<title>57&#45;&gt;58</title>\n<path fill=\"none\" stroke=\"black\" d=\"M1952.5,-936.91C1944.9,-927.83 1936.76,-918.12 1928.93,-908.77\"/>\n<polygon fill=\"black\" stroke=\"black\" points=\"1931.54,-906.44 1922.44,-901.02 1926.18,-910.93 1931.54,-906.44\"/>\n</g>\n<!-- 89 -->\n<g id=\"node90\" class=\"node\">\n<title>89</title>\n<path fill=\"#55abe9\" stroke=\"black\" d=\"M2141.5,-901C2141.5,-901 2027.5,-901 2027.5,-901 2021.5,-901 2015.5,-895 2015.5,-889 2015.5,-889 2015.5,-830 2015.5,-830 2015.5,-824 2021.5,-818 2027.5,-818 2027.5,-818 2141.5,-818 2141.5,-818 2147.5,-818 2153.5,-824 2153.5,-830 2153.5,-830 2153.5,-889 2153.5,-889 2153.5,-895 2147.5,-901 2141.5,-901\"/>\n<text text-anchor=\"start\" x=\"2023.5\" y=\"-885.8\" font-family=\"Helvetica,sans-Serif\" font-size=\"14.00\">delinq.2yrs ≤ 1.0</text>\n<text text-anchor=\"start\" x=\"2040.5\" y=\"-870.8\" font-family=\"Helvetica,sans-Serif\" font-size=\"14.00\">gini = 0.219</text>\n<text text-anchor=\"start\" x=\"2040.5\" y=\"-855.8\" font-family=\"Helvetica,sans-Serif\" font-size=\"14.00\">samples = 6</text>\n<text text-anchor=\"start\" x=\"2036\" y=\"-840.8\" font-family=\"Helvetica,sans-Serif\" font-size=\"14.00\">value = [1, 7]</text>\n<text text-anchor=\"start\" x=\"2028.5\" y=\"-825.8\" font-family=\"Helvetica,sans-Serif\" font-size=\"14.00\">class = not give</text>\n</g>\n<!-- 57&#45;&gt;89 -->\n<g id=\"edge89\" class=\"edge\">\n<title>57&#45;&gt;89</title>\n<path fill=\"none\" stroke=\"black\" d=\"M2020.5,-936.91C2028.1,-927.83 2036.24,-918.12 2044.07,-908.77\"/>\n<polygon fill=\"black\" stroke=\"black\" points=\"2046.82,-910.93 2050.56,-901.02 2041.46,-906.44 2046.82,-910.93\"/>\n</g>\n<!-- 59 -->\n<g id=\"node60\" class=\"node\">\n<title>59</title>\n<path fill=\"#c0e0f7\" stroke=\"black\" d=\"M1767,-782C1767,-782 1606,-782 1606,-782 1600,-782 1594,-776 1594,-770 1594,-770 1594,-711 1594,-711 1594,-705 1600,-699 1606,-699 1606,-699 1767,-699 1767,-699 1773,-699 1779,-705 1779,-711 1779,-711 1779,-770 1779,-770 1779,-776 1773,-782 1767,-782\"/>\n<text text-anchor=\"start\" x=\"1602\" y=\"-766.8\" font-family=\"Helvetica,sans-Serif\" font-size=\"14.00\">log.annual.inc ≤ 11.708</text>\n<text text-anchor=\"start\" x=\"1642.5\" y=\"-751.8\" font-family=\"Helvetica,sans-Serif\" font-size=\"14.00\">gini = 0.482</text>\n<text text-anchor=\"start\" x=\"1638\" y=\"-736.8\" font-family=\"Helvetica,sans-Serif\" font-size=\"14.00\">samples = 24</text>\n<text text-anchor=\"start\" x=\"1629\" y=\"-721.8\" font-family=\"Helvetica,sans-Serif\" font-size=\"14.00\">value = [15, 22]</text>\n<text text-anchor=\"start\" x=\"1630.5\" y=\"-706.8\" font-family=\"Helvetica,sans-Serif\" font-size=\"14.00\">class = not give</text>\n</g>\n<!-- 58&#45;&gt;59 -->\n<g id=\"edge59\" class=\"edge\">\n<title>58&#45;&gt;59</title>\n<path fill=\"none\" stroke=\"black\" d=\"M1818.42,-817.91C1801.34,-808.02 1782.96,-797.37 1765.49,-787.25\"/>\n<polygon fill=\"black\" stroke=\"black\" points=\"1766.87,-784 1756.46,-782.02 1763.36,-790.06 1766.87,-784\"/>\n</g>\n<!-- 72 -->\n<g id=\"node73\" class=\"node\">\n<title>72</title>\n<path fill=\"#f0b78e\" stroke=\"black\" d=\"M1970,-782C1970,-782 1809,-782 1809,-782 1803,-782 1797,-776 1797,-770 1797,-770 1797,-711 1797,-711 1797,-705 1803,-699 1809,-699 1809,-699 1970,-699 1970,-699 1976,-699 1982,-705 1982,-711 1982,-711 1982,-770 1982,-770 1982,-776 1976,-782 1970,-782\"/>\n<text text-anchor=\"start\" x=\"1805\" y=\"-766.8\" font-family=\"Helvetica,sans-Serif\" font-size=\"14.00\">log.annual.inc ≤ 11.288</text>\n<text text-anchor=\"start\" x=\"1850\" y=\"-751.8\" font-family=\"Helvetica,sans-Serif\" font-size=\"14.00\">gini = 0.42</text>\n<text text-anchor=\"start\" x=\"1841\" y=\"-736.8\" font-family=\"Helvetica,sans-Serif\" font-size=\"14.00\">samples = 26</text>\n<text text-anchor=\"start\" x=\"1836.5\" y=\"-721.8\" font-family=\"Helvetica,sans-Serif\" font-size=\"14.00\">value = [21, 9]</text>\n<text text-anchor=\"start\" x=\"1847\" y=\"-706.8\" font-family=\"Helvetica,sans-Serif\" font-size=\"14.00\">class = give</text>\n</g>\n<!-- 58&#45;&gt;72 -->\n<g id=\"edge72\" class=\"edge\">\n<title>58&#45;&gt;72</title>\n<path fill=\"none\" stroke=\"black\" d=\"M1888.85,-817.91C1888.92,-809.65 1888.99,-800.86 1889.07,-792.3\"/>\n<polygon fill=\"black\" stroke=\"black\" points=\"1892.57,-792.05 1889.15,-782.02 1885.57,-791.99 1892.57,-792.05\"/>\n</g>\n<!-- 60 -->\n<g id=\"node61\" class=\"node\">\n<title>60</title>\n<path fill=\"#4ea7e8\" stroke=\"black\" d=\"M1549,-663C1549,-663 1418,-663 1418,-663 1412,-663 1406,-657 1406,-651 1406,-651 1406,-592 1406,-592 1406,-586 1412,-580 1418,-580 1418,-580 1549,-580 1549,-580 1555,-580 1561,-586 1561,-592 1561,-592 1561,-651 1561,-651 1561,-657 1555,-663 1549,-663\"/>\n<text text-anchor=\"start\" x=\"1414\" y=\"-647.8\" font-family=\"Helvetica,sans-Serif\" font-size=\"14.00\">revol.bal ≤ 79876.0</text>\n<text text-anchor=\"start\" x=\"1439.5\" y=\"-632.8\" font-family=\"Helvetica,sans-Serif\" font-size=\"14.00\">gini = 0.172</text>\n<text text-anchor=\"start\" x=\"1435\" y=\"-617.8\" font-family=\"Helvetica,sans-Serif\" font-size=\"14.00\">samples = 14</text>\n<text text-anchor=\"start\" x=\"1430.5\" y=\"-602.8\" font-family=\"Helvetica,sans-Serif\" font-size=\"14.00\">value = [2, 19]</text>\n<text text-anchor=\"start\" x=\"1427.5\" y=\"-587.8\" font-family=\"Helvetica,sans-Serif\" font-size=\"14.00\">class = not give</text>\n</g>\n<!-- 59&#45;&gt;60 -->\n<g id=\"edge60\" class=\"edge\">\n<title>59&#45;&gt;60</title>\n<path fill=\"none\" stroke=\"black\" d=\"M1616.07,-698.91C1598.91,-689.02 1580.43,-678.37 1562.89,-668.25\"/>\n<polygon fill=\"black\" stroke=\"black\" points=\"1564.22,-664.98 1553.81,-663.02 1560.72,-671.05 1564.22,-664.98\"/>\n</g>\n<!-- 65 -->\n<g id=\"node66\" class=\"node\">\n<title>65</title>\n<path fill=\"#eb9e67\" stroke=\"black\" d=\"M1785.5,-663C1785.5,-663 1591.5,-663 1591.5,-663 1585.5,-663 1579.5,-657 1579.5,-651 1579.5,-651 1579.5,-592 1579.5,-592 1579.5,-586 1585.5,-580 1591.5,-580 1591.5,-580 1785.5,-580 1785.5,-580 1791.5,-580 1797.5,-586 1797.5,-592 1797.5,-592 1797.5,-651 1797.5,-651 1797.5,-657 1791.5,-663 1785.5,-663\"/>\n<text text-anchor=\"start\" x=\"1587.5\" y=\"-647.8\" font-family=\"Helvetica,sans-Serif\" font-size=\"14.00\">days.with.cr.line ≤ 4815.021</text>\n<text text-anchor=\"start\" x=\"1644.5\" y=\"-632.8\" font-family=\"Helvetica,sans-Serif\" font-size=\"14.00\">gini = 0.305</text>\n<text text-anchor=\"start\" x=\"1640\" y=\"-617.8\" font-family=\"Helvetica,sans-Serif\" font-size=\"14.00\">samples = 10</text>\n<text text-anchor=\"start\" x=\"1635.5\" y=\"-602.8\" font-family=\"Helvetica,sans-Serif\" font-size=\"14.00\">value = [13, 3]</text>\n<text text-anchor=\"start\" x=\"1646\" y=\"-587.8\" font-family=\"Helvetica,sans-Serif\" font-size=\"14.00\">class = give</text>\n</g>\n<!-- 59&#45;&gt;65 -->\n<g id=\"edge65\" class=\"edge\">\n<title>59&#45;&gt;65</title>\n<path fill=\"none\" stroke=\"black\" d=\"M1687.19,-698.91C1687.34,-690.56 1687.49,-681.67 1687.64,-673.02\"/>\n<polygon fill=\"black\" stroke=\"black\" points=\"1691.14,-673.08 1687.81,-663.02 1684.14,-672.96 1691.14,-673.08\"/>\n</g>\n<!-- 61 -->\n<g id=\"node62\" class=\"node\">\n<title>61</title>\n<path fill=\"#ffffff\" stroke=\"black\" d=\"M1394.5,-544C1394.5,-544 1290.5,-544 1290.5,-544 1284.5,-544 1278.5,-538 1278.5,-532 1278.5,-532 1278.5,-473 1278.5,-473 1278.5,-467 1284.5,-461 1290.5,-461 1290.5,-461 1394.5,-461 1394.5,-461 1400.5,-461 1406.5,-467 1406.5,-473 1406.5,-473 1406.5,-532 1406.5,-532 1406.5,-538 1400.5,-544 1394.5,-544\"/>\n<text text-anchor=\"start\" x=\"1286.5\" y=\"-528.8\" font-family=\"Helvetica,sans-Serif\" font-size=\"14.00\">int.rate ≤ 0.145</text>\n<text text-anchor=\"start\" x=\"1307.5\" y=\"-513.8\" font-family=\"Helvetica,sans-Serif\" font-size=\"14.00\">gini = 0.5</text>\n<text text-anchor=\"start\" x=\"1298.5\" y=\"-498.8\" font-family=\"Helvetica,sans-Serif\" font-size=\"14.00\">samples = 2</text>\n<text text-anchor=\"start\" x=\"1294\" y=\"-483.8\" font-family=\"Helvetica,sans-Serif\" font-size=\"14.00\">value = [2, 2]</text>\n<text text-anchor=\"start\" x=\"1300\" y=\"-468.8\" font-family=\"Helvetica,sans-Serif\" font-size=\"14.00\">class = give</text>\n</g>\n<!-- 60&#45;&gt;61 -->\n<g id=\"edge61\" class=\"edge\">\n<title>60&#45;&gt;61</title>\n<path fill=\"none\" stroke=\"black\" d=\"M1434.58,-579.91C1423.21,-570.47 1411,-560.34 1399.32,-550.65\"/>\n<polygon fill=\"black\" stroke=\"black\" points=\"1401.26,-547.71 1391.33,-544.02 1396.79,-553.1 1401.26,-547.71\"/>\n</g>\n<!-- 64 -->\n<g id=\"node65\" class=\"node\">\n<title>64</title>\n<path fill=\"#399de5\" stroke=\"black\" d=\"M1540.5,-536.5C1540.5,-536.5 1436.5,-536.5 1436.5,-536.5 1430.5,-536.5 1424.5,-530.5 1424.5,-524.5 1424.5,-524.5 1424.5,-480.5 1424.5,-480.5 1424.5,-474.5 1430.5,-468.5 1436.5,-468.5 1436.5,-468.5 1540.5,-468.5 1540.5,-468.5 1546.5,-468.5 1552.5,-474.5 1552.5,-480.5 1552.5,-480.5 1552.5,-524.5 1552.5,-524.5 1552.5,-530.5 1546.5,-536.5 1540.5,-536.5\"/>\n<text text-anchor=\"start\" x=\"1453.5\" y=\"-521.3\" font-family=\"Helvetica,sans-Serif\" font-size=\"14.00\">gini = 0.0</text>\n<text text-anchor=\"start\" x=\"1440\" y=\"-506.3\" font-family=\"Helvetica,sans-Serif\" font-size=\"14.00\">samples = 12</text>\n<text text-anchor=\"start\" x=\"1435.5\" y=\"-491.3\" font-family=\"Helvetica,sans-Serif\" font-size=\"14.00\">value = [0, 17]</text>\n<text text-anchor=\"start\" x=\"1432.5\" y=\"-476.3\" font-family=\"Helvetica,sans-Serif\" font-size=\"14.00\">class = not give</text>\n</g>\n<!-- 60&#45;&gt;64 -->\n<g id=\"edge64\" class=\"edge\">\n<title>60&#45;&gt;64</title>\n<path fill=\"none\" stroke=\"black\" d=\"M1485.23,-579.91C1485.69,-569.2 1486.19,-557.62 1486.65,-546.78\"/>\n<polygon fill=\"black\" stroke=\"black\" points=\"1490.15,-546.81 1487.08,-536.67 1483.16,-546.51 1490.15,-546.81\"/>\n</g>\n<!-- 62 -->\n<g id=\"node63\" class=\"node\">\n<title>62</title>\n<path fill=\"#399de5\" stroke=\"black\" d=\"M1303.5,-417.5C1303.5,-417.5 1199.5,-417.5 1199.5,-417.5 1193.5,-417.5 1187.5,-411.5 1187.5,-405.5 1187.5,-405.5 1187.5,-361.5 1187.5,-361.5 1187.5,-355.5 1193.5,-349.5 1199.5,-349.5 1199.5,-349.5 1303.5,-349.5 1303.5,-349.5 1309.5,-349.5 1315.5,-355.5 1315.5,-361.5 1315.5,-361.5 1315.5,-405.5 1315.5,-405.5 1315.5,-411.5 1309.5,-417.5 1303.5,-417.5\"/>\n<text text-anchor=\"start\" x=\"1216.5\" y=\"-402.3\" font-family=\"Helvetica,sans-Serif\" font-size=\"14.00\">gini = 0.0</text>\n<text text-anchor=\"start\" x=\"1207.5\" y=\"-387.3\" font-family=\"Helvetica,sans-Serif\" font-size=\"14.00\">samples = 1</text>\n<text text-anchor=\"start\" x=\"1203\" y=\"-372.3\" font-family=\"Helvetica,sans-Serif\" font-size=\"14.00\">value = [0, 2]</text>\n<text text-anchor=\"start\" x=\"1195.5\" y=\"-357.3\" font-family=\"Helvetica,sans-Serif\" font-size=\"14.00\">class = not give</text>\n</g>\n<!-- 61&#45;&gt;62 -->\n<g id=\"edge62\" class=\"edge\">\n<title>61&#45;&gt;62</title>\n<path fill=\"none\" stroke=\"black\" d=\"M1310.93,-460.91C1302.09,-449.54 1292.47,-437.18 1283.6,-425.77\"/>\n<polygon fill=\"black\" stroke=\"black\" points=\"1286.2,-423.41 1277.3,-417.67 1280.67,-427.71 1286.2,-423.41\"/>\n</g>\n<!-- 63 -->\n<g id=\"node64\" class=\"node\">\n<title>63</title>\n<path fill=\"#e58139\" stroke=\"black\" d=\"M1435,-417.5C1435,-417.5 1346,-417.5 1346,-417.5 1340,-417.5 1334,-411.5 1334,-405.5 1334,-405.5 1334,-361.5 1334,-361.5 1334,-355.5 1340,-349.5 1346,-349.5 1346,-349.5 1435,-349.5 1435,-349.5 1441,-349.5 1447,-355.5 1447,-361.5 1447,-361.5 1447,-405.5 1447,-405.5 1447,-411.5 1441,-417.5 1435,-417.5\"/>\n<text text-anchor=\"start\" x=\"1355.5\" y=\"-402.3\" font-family=\"Helvetica,sans-Serif\" font-size=\"14.00\">gini = 0.0</text>\n<text text-anchor=\"start\" x=\"1346.5\" y=\"-387.3\" font-family=\"Helvetica,sans-Serif\" font-size=\"14.00\">samples = 1</text>\n<text text-anchor=\"start\" x=\"1342\" y=\"-372.3\" font-family=\"Helvetica,sans-Serif\" font-size=\"14.00\">value = [2, 0]</text>\n<text text-anchor=\"start\" x=\"1348\" y=\"-357.3\" font-family=\"Helvetica,sans-Serif\" font-size=\"14.00\">class = give</text>\n</g>\n<!-- 61&#45;&gt;63 -->\n<g id=\"edge63\" class=\"edge\">\n<title>61&#45;&gt;63</title>\n<path fill=\"none\" stroke=\"black\" d=\"M1359.15,-460.91C1363.64,-449.98 1368.5,-438.14 1373.02,-427.11\"/>\n<polygon fill=\"black\" stroke=\"black\" points=\"1376.34,-428.25 1376.89,-417.67 1369.86,-425.59 1376.34,-428.25\"/>\n</g>\n<!-- 66 -->\n<g id=\"node67\" class=\"node\">\n<title>66</title>\n<path fill=\"#e78b48\" stroke=\"black\" d=\"M1748.5,-544C1748.5,-544 1582.5,-544 1582.5,-544 1576.5,-544 1570.5,-538 1570.5,-532 1570.5,-532 1570.5,-473 1570.5,-473 1570.5,-467 1576.5,-461 1582.5,-461 1582.5,-461 1748.5,-461 1748.5,-461 1754.5,-461 1760.5,-467 1760.5,-473 1760.5,-473 1760.5,-532 1760.5,-532 1760.5,-538 1754.5,-544 1748.5,-544\"/>\n<text text-anchor=\"start\" x=\"1578.5\" y=\"-528.8\" font-family=\"Helvetica,sans-Serif\" font-size=\"14.00\">debt_consolidation ≤ 0.5</text>\n<text text-anchor=\"start\" x=\"1621.5\" y=\"-513.8\" font-family=\"Helvetica,sans-Serif\" font-size=\"14.00\">gini = 0.133</text>\n<text text-anchor=\"start\" x=\"1621.5\" y=\"-498.8\" font-family=\"Helvetica,sans-Serif\" font-size=\"14.00\">samples = 9</text>\n<text text-anchor=\"start\" x=\"1612.5\" y=\"-483.8\" font-family=\"Helvetica,sans-Serif\" font-size=\"14.00\">value = [13, 1]</text>\n<text text-anchor=\"start\" x=\"1623\" y=\"-468.8\" font-family=\"Helvetica,sans-Serif\" font-size=\"14.00\">class = give</text>\n</g>\n<!-- 65&#45;&gt;66 -->\n<g id=\"edge66\" class=\"edge\">\n<title>65&#45;&gt;66</title>\n<path fill=\"none\" stroke=\"black\" d=\"M1680.52,-579.91C1678.88,-571.56 1677.13,-562.67 1675.43,-554.02\"/>\n<polygon fill=\"black\" stroke=\"black\" points=\"1678.83,-553.16 1673.47,-544.02 1671.96,-554.51 1678.83,-553.16\"/>\n</g>\n<!-- 71 -->\n<g id=\"node72\" class=\"node\">\n<title>71</title>\n<path fill=\"#399de5\" stroke=\"black\" d=\"M1894.5,-536.5C1894.5,-536.5 1790.5,-536.5 1790.5,-536.5 1784.5,-536.5 1778.5,-530.5 1778.5,-524.5 1778.5,-524.5 1778.5,-480.5 1778.5,-480.5 1778.5,-474.5 1784.5,-468.5 1790.5,-468.5 1790.5,-468.5 1894.5,-468.5 1894.5,-468.5 1900.5,-468.5 1906.5,-474.5 1906.5,-480.5 1906.5,-480.5 1906.5,-524.5 1906.5,-524.5 1906.5,-530.5 1900.5,-536.5 1894.5,-536.5\"/>\n<text text-anchor=\"start\" x=\"1807.5\" y=\"-521.3\" font-family=\"Helvetica,sans-Serif\" font-size=\"14.00\">gini = 0.0</text>\n<text text-anchor=\"start\" x=\"1798.5\" y=\"-506.3\" font-family=\"Helvetica,sans-Serif\" font-size=\"14.00\">samples = 1</text>\n<text text-anchor=\"start\" x=\"1794\" y=\"-491.3\" font-family=\"Helvetica,sans-Serif\" font-size=\"14.00\">value = [0, 2]</text>\n<text text-anchor=\"start\" x=\"1786.5\" y=\"-476.3\" font-family=\"Helvetica,sans-Serif\" font-size=\"14.00\">class = not give</text>\n</g>\n<!-- 65&#45;&gt;71 -->\n<g id=\"edge71\" class=\"edge\">\n<title>65&#45;&gt;71</title>\n<path fill=\"none\" stroke=\"black\" d=\"M1741.93,-579.91C1757.76,-567.88 1775.06,-554.73 1790.78,-542.79\"/>\n<polygon fill=\"black\" stroke=\"black\" points=\"1793,-545.5 1798.84,-536.67 1788.76,-539.93 1793,-545.5\"/>\n</g>\n<!-- 67 -->\n<g id=\"node68\" class=\"node\">\n<title>67</title>\n<path fill=\"#e9965a\" stroke=\"black\" d=\"M1581.5,-425C1581.5,-425 1477.5,-425 1477.5,-425 1471.5,-425 1465.5,-419 1465.5,-413 1465.5,-413 1465.5,-354 1465.5,-354 1465.5,-348 1471.5,-342 1477.5,-342 1477.5,-342 1581.5,-342 1581.5,-342 1587.5,-342 1593.5,-348 1593.5,-354 1593.5,-354 1593.5,-413 1593.5,-413 1593.5,-419 1587.5,-425 1581.5,-425\"/>\n<text text-anchor=\"start\" x=\"1473.5\" y=\"-409.8\" font-family=\"Helvetica,sans-Serif\" font-size=\"14.00\">int.rate ≤ 0.108</text>\n<text text-anchor=\"start\" x=\"1485.5\" y=\"-394.8\" font-family=\"Helvetica,sans-Serif\" font-size=\"14.00\">gini = 0.245</text>\n<text text-anchor=\"start\" x=\"1485.5\" y=\"-379.8\" font-family=\"Helvetica,sans-Serif\" font-size=\"14.00\">samples = 5</text>\n<text text-anchor=\"start\" x=\"1481\" y=\"-364.8\" font-family=\"Helvetica,sans-Serif\" font-size=\"14.00\">value = [6, 1]</text>\n<text text-anchor=\"start\" x=\"1487\" y=\"-349.8\" font-family=\"Helvetica,sans-Serif\" font-size=\"14.00\">class = give</text>\n</g>\n<!-- 66&#45;&gt;67 -->\n<g id=\"edge67\" class=\"edge\">\n<title>66&#45;&gt;67</title>\n<path fill=\"none\" stroke=\"black\" d=\"M1618.32,-460.91C1607.34,-451.47 1595.57,-441.34 1584.31,-431.65\"/>\n<polygon fill=\"black\" stroke=\"black\" points=\"1586.46,-428.89 1576.6,-425.02 1581.9,-434.2 1586.46,-428.89\"/>\n</g>\n<!-- 70 -->\n<g id=\"node71\" class=\"node\">\n<title>70</title>\n<path fill=\"#e58139\" stroke=\"black\" d=\"M1713,-417.5C1713,-417.5 1624,-417.5 1624,-417.5 1618,-417.5 1612,-411.5 1612,-405.5 1612,-405.5 1612,-361.5 1612,-361.5 1612,-355.5 1618,-349.5 1624,-349.5 1624,-349.5 1713,-349.5 1713,-349.5 1719,-349.5 1725,-355.5 1725,-361.5 1725,-361.5 1725,-405.5 1725,-405.5 1725,-411.5 1719,-417.5 1713,-417.5\"/>\n<text text-anchor=\"start\" x=\"1633.5\" y=\"-402.3\" font-family=\"Helvetica,sans-Serif\" font-size=\"14.00\">gini = 0.0</text>\n<text text-anchor=\"start\" x=\"1624.5\" y=\"-387.3\" font-family=\"Helvetica,sans-Serif\" font-size=\"14.00\">samples = 4</text>\n<text text-anchor=\"start\" x=\"1620\" y=\"-372.3\" font-family=\"Helvetica,sans-Serif\" font-size=\"14.00\">value = [7, 0]</text>\n<text text-anchor=\"start\" x=\"1626\" y=\"-357.3\" font-family=\"Helvetica,sans-Serif\" font-size=\"14.00\">class = give</text>\n</g>\n<!-- 66&#45;&gt;70 -->\n<g id=\"edge70\" class=\"edge\">\n<title>66&#45;&gt;70</title>\n<path fill=\"none\" stroke=\"black\" d=\"M1666.54,-460.91C1666.82,-450.2 1667.11,-438.62 1667.39,-427.78\"/>\n<polygon fill=\"black\" stroke=\"black\" points=\"1670.89,-427.75 1667.65,-417.67 1663.89,-427.57 1670.89,-427.75\"/>\n</g>\n<!-- 68 -->\n<g id=\"node69\" class=\"node\">\n<title>68</title>\n<path fill=\"#399de5\" stroke=\"black\" d=\"M1448.5,-298.5C1448.5,-298.5 1344.5,-298.5 1344.5,-298.5 1338.5,-298.5 1332.5,-292.5 1332.5,-286.5 1332.5,-286.5 1332.5,-242.5 1332.5,-242.5 1332.5,-236.5 1338.5,-230.5 1344.5,-230.5 1344.5,-230.5 1448.5,-230.5 1448.5,-230.5 1454.5,-230.5 1460.5,-236.5 1460.5,-242.5 1460.5,-242.5 1460.5,-286.5 1460.5,-286.5 1460.5,-292.5 1454.5,-298.5 1448.5,-298.5\"/>\n<text text-anchor=\"start\" x=\"1361.5\" y=\"-283.3\" font-family=\"Helvetica,sans-Serif\" font-size=\"14.00\">gini = 0.0</text>\n<text text-anchor=\"start\" x=\"1352.5\" y=\"-268.3\" font-family=\"Helvetica,sans-Serif\" font-size=\"14.00\">samples = 1</text>\n<text text-anchor=\"start\" x=\"1348\" y=\"-253.3\" font-family=\"Helvetica,sans-Serif\" font-size=\"14.00\">value = [0, 1]</text>\n<text text-anchor=\"start\" x=\"1340.5\" y=\"-238.3\" font-family=\"Helvetica,sans-Serif\" font-size=\"14.00\">class = not give</text>\n</g>\n<!-- 67&#45;&gt;68 -->\n<g id=\"edge68\" class=\"edge\">\n<title>67&#45;&gt;68</title>\n<path fill=\"none\" stroke=\"black\" d=\"M1483.36,-341.91C1469.93,-330.1 1455.29,-317.22 1441.91,-305.45\"/>\n<polygon fill=\"black\" stroke=\"black\" points=\"1444.02,-302.64 1434.2,-298.67 1439.4,-307.9 1444.02,-302.64\"/>\n</g>\n<!-- 69 -->\n<g id=\"node70\" class=\"node\">\n<title>69</title>\n<path fill=\"#e58139\" stroke=\"black\" d=\"M1580,-298.5C1580,-298.5 1491,-298.5 1491,-298.5 1485,-298.5 1479,-292.5 1479,-286.5 1479,-286.5 1479,-242.5 1479,-242.5 1479,-236.5 1485,-230.5 1491,-230.5 1491,-230.5 1580,-230.5 1580,-230.5 1586,-230.5 1592,-236.5 1592,-242.5 1592,-242.5 1592,-286.5 1592,-286.5 1592,-292.5 1586,-298.5 1580,-298.5\"/>\n<text text-anchor=\"start\" x=\"1500.5\" y=\"-283.3\" font-family=\"Helvetica,sans-Serif\" font-size=\"14.00\">gini = 0.0</text>\n<text text-anchor=\"start\" x=\"1491.5\" y=\"-268.3\" font-family=\"Helvetica,sans-Serif\" font-size=\"14.00\">samples = 4</text>\n<text text-anchor=\"start\" x=\"1487\" y=\"-253.3\" font-family=\"Helvetica,sans-Serif\" font-size=\"14.00\">value = [6, 0]</text>\n<text text-anchor=\"start\" x=\"1493\" y=\"-238.3\" font-family=\"Helvetica,sans-Serif\" font-size=\"14.00\">class = give</text>\n</g>\n<!-- 67&#45;&gt;69 -->\n<g id=\"edge69\" class=\"edge\">\n<title>67&#45;&gt;69</title>\n<path fill=\"none\" stroke=\"black\" d=\"M1531.58,-341.91C1532.13,-331.2 1532.72,-319.62 1533.28,-308.78\"/>\n<polygon fill=\"black\" stroke=\"black\" points=\"1536.78,-308.83 1533.8,-298.67 1529.79,-308.47 1536.78,-308.83\"/>\n</g>\n<!-- 73 -->\n<g id=\"node74\" class=\"node\">\n<title>73</title>\n<path fill=\"#399de5\" stroke=\"black\" d=\"M1936.5,-655.5C1936.5,-655.5 1832.5,-655.5 1832.5,-655.5 1826.5,-655.5 1820.5,-649.5 1820.5,-643.5 1820.5,-643.5 1820.5,-599.5 1820.5,-599.5 1820.5,-593.5 1826.5,-587.5 1832.5,-587.5 1832.5,-587.5 1936.5,-587.5 1936.5,-587.5 1942.5,-587.5 1948.5,-593.5 1948.5,-599.5 1948.5,-599.5 1948.5,-643.5 1948.5,-643.5 1948.5,-649.5 1942.5,-655.5 1936.5,-655.5\"/>\n<text text-anchor=\"start\" x=\"1849.5\" y=\"-640.3\" font-family=\"Helvetica,sans-Serif\" font-size=\"14.00\">gini = 0.0</text>\n<text text-anchor=\"start\" x=\"1840.5\" y=\"-625.3\" font-family=\"Helvetica,sans-Serif\" font-size=\"14.00\">samples = 1</text>\n<text text-anchor=\"start\" x=\"1836\" y=\"-610.3\" font-family=\"Helvetica,sans-Serif\" font-size=\"14.00\">value = [0, 2]</text>\n<text text-anchor=\"start\" x=\"1828.5\" y=\"-595.3\" font-family=\"Helvetica,sans-Serif\" font-size=\"14.00\">class = not give</text>\n</g>\n<!-- 72&#45;&gt;73 -->\n<g id=\"edge73\" class=\"edge\">\n<title>72&#45;&gt;73</title>\n<path fill=\"none\" stroke=\"black\" d=\"M1887.77,-698.91C1887.31,-688.2 1886.81,-676.62 1886.35,-665.78\"/>\n<polygon fill=\"black\" stroke=\"black\" points=\"1889.84,-665.51 1885.92,-655.67 1882.85,-665.81 1889.84,-665.51\"/>\n</g>\n<!-- 74 -->\n<g id=\"node75\" class=\"node\">\n<title>74</title>\n<path fill=\"#eeab7b\" stroke=\"black\" d=\"M2076.5,-663C2076.5,-663 1978.5,-663 1978.5,-663 1972.5,-663 1966.5,-657 1966.5,-651 1966.5,-651 1966.5,-592 1966.5,-592 1966.5,-586 1972.5,-580 1978.5,-580 1978.5,-580 2076.5,-580 2076.5,-580 2082.5,-580 2088.5,-586 2088.5,-592 2088.5,-592 2088.5,-651 2088.5,-651 2088.5,-657 2082.5,-663 2076.5,-663\"/>\n<text text-anchor=\"start\" x=\"1987.5\" y=\"-647.8\" font-family=\"Helvetica,sans-Serif\" font-size=\"14.00\">dti ≤ 23.62</text>\n<text text-anchor=\"start\" x=\"1983.5\" y=\"-632.8\" font-family=\"Helvetica,sans-Serif\" font-size=\"14.00\">gini = 0.375</text>\n<text text-anchor=\"start\" x=\"1979\" y=\"-617.8\" font-family=\"Helvetica,sans-Serif\" font-size=\"14.00\">samples = 25</text>\n<text text-anchor=\"start\" x=\"1974.5\" y=\"-602.8\" font-family=\"Helvetica,sans-Serif\" font-size=\"14.00\">value = [21, 7]</text>\n<text text-anchor=\"start\" x=\"1985\" y=\"-587.8\" font-family=\"Helvetica,sans-Serif\" font-size=\"14.00\">class = give</text>\n</g>\n<!-- 72&#45;&gt;74 -->\n<g id=\"edge74\" class=\"edge\">\n<title>72&#45;&gt;74</title>\n<path fill=\"none\" stroke=\"black\" d=\"M1937.38,-698.91C1948.51,-689.47 1960.45,-679.34 1971.89,-669.65\"/>\n<polygon fill=\"black\" stroke=\"black\" points=\"1974.34,-672.16 1979.71,-663.02 1969.82,-666.82 1974.34,-672.16\"/>\n</g>\n<!-- 75 -->\n<g id=\"node76\" class=\"node\">\n<title>75</title>\n<path fill=\"#ea9c63\" stroke=\"black\" d=\"M2100,-544C2100,-544 1939,-544 1939,-544 1933,-544 1927,-538 1927,-532 1927,-532 1927,-473 1927,-473 1927,-467 1933,-461 1939,-461 1939,-461 2100,-461 2100,-461 2106,-461 2112,-467 2112,-473 2112,-473 2112,-532 2112,-532 2112,-538 2106,-544 2100,-544\"/>\n<text text-anchor=\"start\" x=\"1935\" y=\"-528.8\" font-family=\"Helvetica,sans-Serif\" font-size=\"14.00\">log.annual.inc ≤ 12.356</text>\n<text text-anchor=\"start\" x=\"1975.5\" y=\"-513.8\" font-family=\"Helvetica,sans-Serif\" font-size=\"14.00\">gini = 0.287</text>\n<text text-anchor=\"start\" x=\"1971\" y=\"-498.8\" font-family=\"Helvetica,sans-Serif\" font-size=\"14.00\">samples = 20</text>\n<text text-anchor=\"start\" x=\"1966.5\" y=\"-483.8\" font-family=\"Helvetica,sans-Serif\" font-size=\"14.00\">value = [19, 4]</text>\n<text text-anchor=\"start\" x=\"1977\" y=\"-468.8\" font-family=\"Helvetica,sans-Serif\" font-size=\"14.00\">class = give</text>\n</g>\n<!-- 74&#45;&gt;75 -->\n<g id=\"edge75\" class=\"edge\">\n<title>74&#45;&gt;75</title>\n<path fill=\"none\" stroke=\"black\" d=\"M2024.72,-579.91C2024.15,-571.56 2023.55,-562.67 2022.95,-554.02\"/>\n<polygon fill=\"black\" stroke=\"black\" points=\"2026.44,-553.76 2022.27,-544.02 2019.46,-554.24 2026.44,-553.76\"/>\n</g>\n<!-- 84 -->\n<g id=\"node85\" class=\"node\">\n<title>84</title>\n<path fill=\"#bddef6\" stroke=\"black\" d=\"M2285.5,-544C2285.5,-544 2149.5,-544 2149.5,-544 2143.5,-544 2137.5,-538 2137.5,-532 2137.5,-532 2137.5,-473 2137.5,-473 2137.5,-467 2143.5,-461 2149.5,-461 2149.5,-461 2285.5,-461 2285.5,-461 2291.5,-461 2297.5,-467 2297.5,-473 2297.5,-473 2297.5,-532 2297.5,-532 2297.5,-538 2291.5,-544 2285.5,-544\"/>\n<text text-anchor=\"start\" x=\"2145.5\" y=\"-528.8\" font-family=\"Helvetica,sans-Serif\" font-size=\"14.00\">inq.last.6mths ≤ 0.5</text>\n<text text-anchor=\"start\" x=\"2178\" y=\"-513.8\" font-family=\"Helvetica,sans-Serif\" font-size=\"14.00\">gini = 0.48</text>\n<text text-anchor=\"start\" x=\"2173.5\" y=\"-498.8\" font-family=\"Helvetica,sans-Serif\" font-size=\"14.00\">samples = 5</text>\n<text text-anchor=\"start\" x=\"2169\" y=\"-483.8\" font-family=\"Helvetica,sans-Serif\" font-size=\"14.00\">value = [2, 3]</text>\n<text text-anchor=\"start\" x=\"2161.5\" y=\"-468.8\" font-family=\"Helvetica,sans-Serif\" font-size=\"14.00\">class = not give</text>\n</g>\n<!-- 74&#45;&gt;84 -->\n<g id=\"edge84\" class=\"edge\">\n<title>74&#45;&gt;84</title>\n<path fill=\"none\" stroke=\"black\" d=\"M2088.66,-582.84C2105.91,-572.22 2124.87,-560.54 2142.81,-549.49\"/>\n<polygon fill=\"black\" stroke=\"black\" points=\"2144.85,-552.35 2151.53,-544.12 2141.18,-546.39 2144.85,-552.35\"/>\n</g>\n<!-- 76 -->\n<g id=\"node77\" class=\"node\">\n<title>76</title>\n<path fill=\"#e78946\" stroke=\"black\" d=\"M1895.5,-425C1895.5,-425 1755.5,-425 1755.5,-425 1749.5,-425 1743.5,-419 1743.5,-413 1743.5,-413 1743.5,-354 1743.5,-354 1743.5,-348 1749.5,-342 1755.5,-342 1755.5,-342 1895.5,-342 1895.5,-342 1901.5,-342 1907.5,-348 1907.5,-354 1907.5,-354 1907.5,-413 1907.5,-413 1907.5,-419 1901.5,-425 1895.5,-425\"/>\n<text text-anchor=\"start\" x=\"1751.5\" y=\"-409.8\" font-family=\"Helvetica,sans-Serif\" font-size=\"14.00\">revol.bal ≤ 121718.5</text>\n<text text-anchor=\"start\" x=\"1781.5\" y=\"-394.8\" font-family=\"Helvetica,sans-Serif\" font-size=\"14.00\">gini = 0.117</text>\n<text text-anchor=\"start\" x=\"1777\" y=\"-379.8\" font-family=\"Helvetica,sans-Serif\" font-size=\"14.00\">samples = 15</text>\n<text text-anchor=\"start\" x=\"1772.5\" y=\"-364.8\" font-family=\"Helvetica,sans-Serif\" font-size=\"14.00\">value = [15, 1]</text>\n<text text-anchor=\"start\" x=\"1783\" y=\"-349.8\" font-family=\"Helvetica,sans-Serif\" font-size=\"14.00\">class = give</text>\n</g>\n<!-- 75&#45;&gt;76 -->\n<g id=\"edge76\" class=\"edge\">\n<title>75&#45;&gt;76</title>\n<path fill=\"none\" stroke=\"black\" d=\"M1952.19,-460.91C1935.79,-451.02 1918.14,-440.37 1901.37,-430.25\"/>\n<polygon fill=\"black\" stroke=\"black\" points=\"1903.06,-427.19 1892.69,-425.02 1899.44,-433.18 1903.06,-427.19\"/>\n</g>\n<!-- 81 -->\n<g id=\"node82\" class=\"node\">\n<title>81</title>\n<path fill=\"#f8e0ce\" stroke=\"black\" d=\"M2100,-425C2100,-425 1939,-425 1939,-425 1933,-425 1927,-419 1927,-413 1927,-413 1927,-354 1927,-354 1927,-348 1933,-342 1939,-342 1939,-342 2100,-342 2100,-342 2106,-342 2112,-348 2112,-354 2112,-354 2112,-413 2112,-413 2112,-419 2106,-425 2100,-425\"/>\n<text text-anchor=\"start\" x=\"1935\" y=\"-409.8\" font-family=\"Helvetica,sans-Serif\" font-size=\"14.00\">log.annual.inc ≤ 12.548</text>\n<text text-anchor=\"start\" x=\"1980\" y=\"-394.8\" font-family=\"Helvetica,sans-Serif\" font-size=\"14.00\">gini = 0.49</text>\n<text text-anchor=\"start\" x=\"1975.5\" y=\"-379.8\" font-family=\"Helvetica,sans-Serif\" font-size=\"14.00\">samples = 5</text>\n<text text-anchor=\"start\" x=\"1971\" y=\"-364.8\" font-family=\"Helvetica,sans-Serif\" font-size=\"14.00\">value = [4, 3]</text>\n<text text-anchor=\"start\" x=\"1977\" y=\"-349.8\" font-family=\"Helvetica,sans-Serif\" font-size=\"14.00\">class = give</text>\n</g>\n<!-- 75&#45;&gt;81 -->\n<g id=\"edge81\" class=\"edge\">\n<title>75&#45;&gt;81</title>\n<path fill=\"none\" stroke=\"black\" d=\"M2019.5,-460.91C2019.5,-452.65 2019.5,-443.86 2019.5,-435.3\"/>\n<polygon fill=\"black\" stroke=\"black\" points=\"2023,-435.02 2019.5,-425.02 2016,-435.02 2023,-435.02\"/>\n</g>\n<!-- 77 -->\n<g id=\"node78\" class=\"node\">\n<title>77</title>\n<path fill=\"#e58139\" stroke=\"black\" d=\"M1732.5,-298.5C1732.5,-298.5 1634.5,-298.5 1634.5,-298.5 1628.5,-298.5 1622.5,-292.5 1622.5,-286.5 1622.5,-286.5 1622.5,-242.5 1622.5,-242.5 1622.5,-236.5 1628.5,-230.5 1634.5,-230.5 1634.5,-230.5 1732.5,-230.5 1732.5,-230.5 1738.5,-230.5 1744.5,-236.5 1744.5,-242.5 1744.5,-242.5 1744.5,-286.5 1744.5,-286.5 1744.5,-292.5 1738.5,-298.5 1732.5,-298.5\"/>\n<text text-anchor=\"start\" x=\"1648.5\" y=\"-283.3\" font-family=\"Helvetica,sans-Serif\" font-size=\"14.00\">gini = 0.0</text>\n<text text-anchor=\"start\" x=\"1635\" y=\"-268.3\" font-family=\"Helvetica,sans-Serif\" font-size=\"14.00\">samples = 12</text>\n<text text-anchor=\"start\" x=\"1630.5\" y=\"-253.3\" font-family=\"Helvetica,sans-Serif\" font-size=\"14.00\">value = [13, 0]</text>\n<text text-anchor=\"start\" x=\"1641\" y=\"-238.3\" font-family=\"Helvetica,sans-Serif\" font-size=\"14.00\">class = give</text>\n</g>\n<!-- 76&#45;&gt;77 -->\n<g id=\"edge77\" class=\"edge\">\n<title>76&#45;&gt;77</title>\n<path fill=\"none\" stroke=\"black\" d=\"M1776.23,-341.91C1761.77,-329.99 1745.97,-316.98 1731.59,-305.12\"/>\n<polygon fill=\"black\" stroke=\"black\" points=\"1733.7,-302.32 1723.75,-298.67 1729.25,-307.73 1733.7,-302.32\"/>\n</g>\n<!-- 78 -->\n<g id=\"node79\" class=\"node\">\n<title>78</title>\n<path fill=\"#f2c09c\" stroke=\"black\" d=\"M1864,-306C1864,-306 1775,-306 1775,-306 1769,-306 1763,-300 1763,-294 1763,-294 1763,-235 1763,-235 1763,-229 1769,-223 1775,-223 1775,-223 1864,-223 1864,-223 1870,-223 1876,-229 1876,-235 1876,-235 1876,-294 1876,-294 1876,-300 1870,-306 1864,-306\"/>\n<text text-anchor=\"start\" x=\"1776\" y=\"-290.8\" font-family=\"Helvetica,sans-Serif\" font-size=\"14.00\">fico ≤ 724.5</text>\n<text text-anchor=\"start\" x=\"1775.5\" y=\"-275.8\" font-family=\"Helvetica,sans-Serif\" font-size=\"14.00\">gini = 0.444</text>\n<text text-anchor=\"start\" x=\"1775.5\" y=\"-260.8\" font-family=\"Helvetica,sans-Serif\" font-size=\"14.00\">samples = 3</text>\n<text text-anchor=\"start\" x=\"1771\" y=\"-245.8\" font-family=\"Helvetica,sans-Serif\" font-size=\"14.00\">value = [2, 1]</text>\n<text text-anchor=\"start\" x=\"1777\" y=\"-230.8\" font-family=\"Helvetica,sans-Serif\" font-size=\"14.00\">class = give</text>\n</g>\n<!-- 76&#45;&gt;78 -->\n<g id=\"edge78\" class=\"edge\">\n<title>76&#45;&gt;78</title>\n<path fill=\"none\" stroke=\"black\" d=\"M1823.42,-341.91C1822.99,-333.56 1822.53,-324.67 1822.09,-316.02\"/>\n<polygon fill=\"black\" stroke=\"black\" points=\"1825.59,-315.83 1821.58,-306.02 1818.59,-316.19 1825.59,-315.83\"/>\n</g>\n<!-- 79 -->\n<g id=\"node80\" class=\"node\">\n<title>79</title>\n<path fill=\"#e58139\" stroke=\"black\" d=\"M1748,-179.5C1748,-179.5 1659,-179.5 1659,-179.5 1653,-179.5 1647,-173.5 1647,-167.5 1647,-167.5 1647,-123.5 1647,-123.5 1647,-117.5 1653,-111.5 1659,-111.5 1659,-111.5 1748,-111.5 1748,-111.5 1754,-111.5 1760,-117.5 1760,-123.5 1760,-123.5 1760,-167.5 1760,-167.5 1760,-173.5 1754,-179.5 1748,-179.5\"/>\n<text text-anchor=\"start\" x=\"1668.5\" y=\"-164.3\" font-family=\"Helvetica,sans-Serif\" font-size=\"14.00\">gini = 0.0</text>\n<text text-anchor=\"start\" x=\"1659.5\" y=\"-149.3\" font-family=\"Helvetica,sans-Serif\" font-size=\"14.00\">samples = 2</text>\n<text text-anchor=\"start\" x=\"1655\" y=\"-134.3\" font-family=\"Helvetica,sans-Serif\" font-size=\"14.00\">value = [2, 0]</text>\n<text text-anchor=\"start\" x=\"1661\" y=\"-119.3\" font-family=\"Helvetica,sans-Serif\" font-size=\"14.00\">class = give</text>\n</g>\n<!-- 78&#45;&gt;79 -->\n<g id=\"edge79\" class=\"edge\">\n<title>78&#45;&gt;79</title>\n<path fill=\"none\" stroke=\"black\" d=\"M1779.25,-222.91C1767.66,-211.21 1755.01,-198.46 1743.44,-186.78\"/>\n<polygon fill=\"black\" stroke=\"black\" points=\"1745.91,-184.3 1736.38,-179.67 1740.94,-189.23 1745.91,-184.3\"/>\n</g>\n<!-- 80 -->\n<g id=\"node81\" class=\"node\">\n<title>80</title>\n<path fill=\"#399de5\" stroke=\"black\" d=\"M1894.5,-179.5C1894.5,-179.5 1790.5,-179.5 1790.5,-179.5 1784.5,-179.5 1778.5,-173.5 1778.5,-167.5 1778.5,-167.5 1778.5,-123.5 1778.5,-123.5 1778.5,-117.5 1784.5,-111.5 1790.5,-111.5 1790.5,-111.5 1894.5,-111.5 1894.5,-111.5 1900.5,-111.5 1906.5,-117.5 1906.5,-123.5 1906.5,-123.5 1906.5,-167.5 1906.5,-167.5 1906.5,-173.5 1900.5,-179.5 1894.5,-179.5\"/>\n<text text-anchor=\"start\" x=\"1807.5\" y=\"-164.3\" font-family=\"Helvetica,sans-Serif\" font-size=\"14.00\">gini = 0.0</text>\n<text text-anchor=\"start\" x=\"1798.5\" y=\"-149.3\" font-family=\"Helvetica,sans-Serif\" font-size=\"14.00\">samples = 1</text>\n<text text-anchor=\"start\" x=\"1794\" y=\"-134.3\" font-family=\"Helvetica,sans-Serif\" font-size=\"14.00\">value = [0, 1]</text>\n<text text-anchor=\"start\" x=\"1786.5\" y=\"-119.3\" font-family=\"Helvetica,sans-Serif\" font-size=\"14.00\">class = not give</text>\n</g>\n<!-- 78&#45;&gt;80 -->\n<g id=\"edge80\" class=\"edge\">\n<title>78&#45;&gt;80</title>\n<path fill=\"none\" stroke=\"black\" d=\"M1827.48,-222.91C1829.58,-212.2 1831.86,-200.62 1833.99,-189.78\"/>\n<polygon fill=\"black\" stroke=\"black\" points=\"1837.49,-190.15 1835.98,-179.67 1830.62,-188.8 1837.49,-190.15\"/>\n</g>\n<!-- 82 -->\n<g id=\"node83\" class=\"node\">\n<title>82</title>\n<path fill=\"#399de5\" stroke=\"black\" d=\"M2010.5,-298.5C2010.5,-298.5 1906.5,-298.5 1906.5,-298.5 1900.5,-298.5 1894.5,-292.5 1894.5,-286.5 1894.5,-286.5 1894.5,-242.5 1894.5,-242.5 1894.5,-236.5 1900.5,-230.5 1906.5,-230.5 1906.5,-230.5 2010.5,-230.5 2010.5,-230.5 2016.5,-230.5 2022.5,-236.5 2022.5,-242.5 2022.5,-242.5 2022.5,-286.5 2022.5,-286.5 2022.5,-292.5 2016.5,-298.5 2010.5,-298.5\"/>\n<text text-anchor=\"start\" x=\"1923.5\" y=\"-283.3\" font-family=\"Helvetica,sans-Serif\" font-size=\"14.00\">gini = 0.0</text>\n<text text-anchor=\"start\" x=\"1914.5\" y=\"-268.3\" font-family=\"Helvetica,sans-Serif\" font-size=\"14.00\">samples = 2</text>\n<text text-anchor=\"start\" x=\"1910\" y=\"-253.3\" font-family=\"Helvetica,sans-Serif\" font-size=\"14.00\">value = [0, 3]</text>\n<text text-anchor=\"start\" x=\"1902.5\" y=\"-238.3\" font-family=\"Helvetica,sans-Serif\" font-size=\"14.00\">class = not give</text>\n</g>\n<!-- 81&#45;&gt;82 -->\n<g id=\"edge82\" class=\"edge\">\n<title>81&#45;&gt;82</title>\n<path fill=\"none\" stroke=\"black\" d=\"M1998.34,-341.91C1992.58,-330.87 1986.34,-318.9 1980.54,-307.77\"/>\n<polygon fill=\"black\" stroke=\"black\" points=\"1983.52,-305.92 1975.79,-298.67 1977.31,-309.15 1983.52,-305.92\"/>\n</g>\n<!-- 83 -->\n<g id=\"node84\" class=\"node\">\n<title>83</title>\n<path fill=\"#e58139\" stroke=\"black\" d=\"M2142,-298.5C2142,-298.5 2053,-298.5 2053,-298.5 2047,-298.5 2041,-292.5 2041,-286.5 2041,-286.5 2041,-242.5 2041,-242.5 2041,-236.5 2047,-230.5 2053,-230.5 2053,-230.5 2142,-230.5 2142,-230.5 2148,-230.5 2154,-236.5 2154,-242.5 2154,-242.5 2154,-286.5 2154,-286.5 2154,-292.5 2148,-298.5 2142,-298.5\"/>\n<text text-anchor=\"start\" x=\"2062.5\" y=\"-283.3\" font-family=\"Helvetica,sans-Serif\" font-size=\"14.00\">gini = 0.0</text>\n<text text-anchor=\"start\" x=\"2053.5\" y=\"-268.3\" font-family=\"Helvetica,sans-Serif\" font-size=\"14.00\">samples = 3</text>\n<text text-anchor=\"start\" x=\"2049\" y=\"-253.3\" font-family=\"Helvetica,sans-Serif\" font-size=\"14.00\">value = [4, 0]</text>\n<text text-anchor=\"start\" x=\"2055\" y=\"-238.3\" font-family=\"Helvetica,sans-Serif\" font-size=\"14.00\">class = give</text>\n</g>\n<!-- 81&#45;&gt;83 -->\n<g id=\"edge83\" class=\"edge\">\n<title>81&#45;&gt;83</title>\n<path fill=\"none\" stroke=\"black\" d=\"M2046.56,-341.91C2054.07,-330.65 2062.22,-318.42 2069.76,-307.11\"/>\n<polygon fill=\"black\" stroke=\"black\" points=\"2072.75,-308.93 2075.39,-298.67 2066.93,-305.05 2072.75,-308.93\"/>\n</g>\n<!-- 85 -->\n<g id=\"node86\" class=\"node\">\n<title>85</title>\n<path fill=\"#f2c09c\" stroke=\"black\" d=\"M2292,-425C2292,-425 2143,-425 2143,-425 2137,-425 2131,-419 2131,-413 2131,-413 2131,-354 2131,-354 2131,-348 2137,-342 2143,-342 2143,-342 2292,-342 2292,-342 2298,-342 2304,-348 2304,-354 2304,-354 2304,-413 2304,-413 2304,-419 2298,-425 2292,-425\"/>\n<text text-anchor=\"start\" x=\"2139\" y=\"-409.8\" font-family=\"Helvetica,sans-Serif\" font-size=\"14.00\">installment ≤ 570.875</text>\n<text text-anchor=\"start\" x=\"2173.5\" y=\"-394.8\" font-family=\"Helvetica,sans-Serif\" font-size=\"14.00\">gini = 0.444</text>\n<text text-anchor=\"start\" x=\"2173.5\" y=\"-379.8\" font-family=\"Helvetica,sans-Serif\" font-size=\"14.00\">samples = 3</text>\n<text text-anchor=\"start\" x=\"2169\" y=\"-364.8\" font-family=\"Helvetica,sans-Serif\" font-size=\"14.00\">value = [2, 1]</text>\n<text text-anchor=\"start\" x=\"2175\" y=\"-349.8\" font-family=\"Helvetica,sans-Serif\" font-size=\"14.00\">class = give</text>\n</g>\n<!-- 84&#45;&gt;85 -->\n<g id=\"edge85\" class=\"edge\">\n<title>84&#45;&gt;85</title>\n<path fill=\"none\" stroke=\"black\" d=\"M2217.5,-460.91C2217.5,-452.65 2217.5,-443.86 2217.5,-435.3\"/>\n<polygon fill=\"black\" stroke=\"black\" points=\"2221,-435.02 2217.5,-425.02 2214,-435.02 2221,-435.02\"/>\n</g>\n<!-- 88 -->\n<g id=\"node89\" class=\"node\">\n<title>88</title>\n<path fill=\"#399de5\" stroke=\"black\" d=\"M2438.5,-417.5C2438.5,-417.5 2334.5,-417.5 2334.5,-417.5 2328.5,-417.5 2322.5,-411.5 2322.5,-405.5 2322.5,-405.5 2322.5,-361.5 2322.5,-361.5 2322.5,-355.5 2328.5,-349.5 2334.5,-349.5 2334.5,-349.5 2438.5,-349.5 2438.5,-349.5 2444.5,-349.5 2450.5,-355.5 2450.5,-361.5 2450.5,-361.5 2450.5,-405.5 2450.5,-405.5 2450.5,-411.5 2444.5,-417.5 2438.5,-417.5\"/>\n<text text-anchor=\"start\" x=\"2351.5\" y=\"-402.3\" font-family=\"Helvetica,sans-Serif\" font-size=\"14.00\">gini = 0.0</text>\n<text text-anchor=\"start\" x=\"2342.5\" y=\"-387.3\" font-family=\"Helvetica,sans-Serif\" font-size=\"14.00\">samples = 2</text>\n<text text-anchor=\"start\" x=\"2338\" y=\"-372.3\" font-family=\"Helvetica,sans-Serif\" font-size=\"14.00\">value = [0, 2]</text>\n<text text-anchor=\"start\" x=\"2330.5\" y=\"-357.3\" font-family=\"Helvetica,sans-Serif\" font-size=\"14.00\">class = not give</text>\n</g>\n<!-- 84&#45;&gt;88 -->\n<g id=\"edge88\" class=\"edge\">\n<title>84&#45;&gt;88</title>\n<path fill=\"none\" stroke=\"black\" d=\"M2276.13,-460.91C2293.67,-448.77 2312.84,-435.49 2330.22,-423.46\"/>\n<polygon fill=\"black\" stroke=\"black\" points=\"2332.36,-426.24 2338.59,-417.67 2328.38,-420.48 2332.36,-426.24\"/>\n</g>\n<!-- 86 -->\n<g id=\"node87\" class=\"node\">\n<title>86</title>\n<path fill=\"#399de5\" stroke=\"black\" d=\"M2288.5,-298.5C2288.5,-298.5 2184.5,-298.5 2184.5,-298.5 2178.5,-298.5 2172.5,-292.5 2172.5,-286.5 2172.5,-286.5 2172.5,-242.5 2172.5,-242.5 2172.5,-236.5 2178.5,-230.5 2184.5,-230.5 2184.5,-230.5 2288.5,-230.5 2288.5,-230.5 2294.5,-230.5 2300.5,-236.5 2300.5,-242.5 2300.5,-242.5 2300.5,-286.5 2300.5,-286.5 2300.5,-292.5 2294.5,-298.5 2288.5,-298.5\"/>\n<text text-anchor=\"start\" x=\"2201.5\" y=\"-283.3\" font-family=\"Helvetica,sans-Serif\" font-size=\"14.00\">gini = 0.0</text>\n<text text-anchor=\"start\" x=\"2192.5\" y=\"-268.3\" font-family=\"Helvetica,sans-Serif\" font-size=\"14.00\">samples = 1</text>\n<text text-anchor=\"start\" x=\"2188\" y=\"-253.3\" font-family=\"Helvetica,sans-Serif\" font-size=\"14.00\">value = [0, 1]</text>\n<text text-anchor=\"start\" x=\"2180.5\" y=\"-238.3\" font-family=\"Helvetica,sans-Serif\" font-size=\"14.00\">class = not give</text>\n</g>\n<!-- 85&#45;&gt;86 -->\n<g id=\"edge86\" class=\"edge\">\n<title>85&#45;&gt;86</title>\n<path fill=\"none\" stroke=\"black\" d=\"M2224.09,-341.91C2225.83,-331.2 2227.71,-319.62 2229.47,-308.78\"/>\n<polygon fill=\"black\" stroke=\"black\" points=\"2232.97,-309.1 2231.11,-298.67 2226.06,-307.98 2232.97,-309.1\"/>\n</g>\n<!-- 87 -->\n<g id=\"node88\" class=\"node\">\n<title>87</title>\n<path fill=\"#e58139\" stroke=\"black\" d=\"M2420,-298.5C2420,-298.5 2331,-298.5 2331,-298.5 2325,-298.5 2319,-292.5 2319,-286.5 2319,-286.5 2319,-242.5 2319,-242.5 2319,-236.5 2325,-230.5 2331,-230.5 2331,-230.5 2420,-230.5 2420,-230.5 2426,-230.5 2432,-236.5 2432,-242.5 2432,-242.5 2432,-286.5 2432,-286.5 2432,-292.5 2426,-298.5 2420,-298.5\"/>\n<text text-anchor=\"start\" x=\"2340.5\" y=\"-283.3\" font-family=\"Helvetica,sans-Serif\" font-size=\"14.00\">gini = 0.0</text>\n<text text-anchor=\"start\" x=\"2331.5\" y=\"-268.3\" font-family=\"Helvetica,sans-Serif\" font-size=\"14.00\">samples = 2</text>\n<text text-anchor=\"start\" x=\"2327\" y=\"-253.3\" font-family=\"Helvetica,sans-Serif\" font-size=\"14.00\">value = [2, 0]</text>\n<text text-anchor=\"start\" x=\"2333\" y=\"-238.3\" font-family=\"Helvetica,sans-Serif\" font-size=\"14.00\">class = give</text>\n</g>\n<!-- 85&#45;&gt;87 -->\n<g id=\"edge87\" class=\"edge\">\n<title>85&#45;&gt;87</title>\n<path fill=\"none\" stroke=\"black\" d=\"M2272.32,-341.91C2288.56,-329.88 2306.31,-316.73 2322.44,-304.79\"/>\n<polygon fill=\"black\" stroke=\"black\" points=\"2324.76,-307.43 2330.71,-298.67 2320.59,-301.81 2324.76,-307.43\"/>\n</g>\n<!-- 90 -->\n<g id=\"node91\" class=\"node\">\n<title>90</title>\n<path fill=\"#399de5\" stroke=\"black\" d=\"M2131.5,-774.5C2131.5,-774.5 2027.5,-774.5 2027.5,-774.5 2021.5,-774.5 2015.5,-768.5 2015.5,-762.5 2015.5,-762.5 2015.5,-718.5 2015.5,-718.5 2015.5,-712.5 2021.5,-706.5 2027.5,-706.5 2027.5,-706.5 2131.5,-706.5 2131.5,-706.5 2137.5,-706.5 2143.5,-712.5 2143.5,-718.5 2143.5,-718.5 2143.5,-762.5 2143.5,-762.5 2143.5,-768.5 2137.5,-774.5 2131.5,-774.5\"/>\n<text text-anchor=\"start\" x=\"2044.5\" y=\"-759.3\" font-family=\"Helvetica,sans-Serif\" font-size=\"14.00\">gini = 0.0</text>\n<text text-anchor=\"start\" x=\"2035.5\" y=\"-744.3\" font-family=\"Helvetica,sans-Serif\" font-size=\"14.00\">samples = 5</text>\n<text text-anchor=\"start\" x=\"2031\" y=\"-729.3\" font-family=\"Helvetica,sans-Serif\" font-size=\"14.00\">value = [0, 7]</text>\n<text text-anchor=\"start\" x=\"2023.5\" y=\"-714.3\" font-family=\"Helvetica,sans-Serif\" font-size=\"14.00\">class = not give</text>\n</g>\n<!-- 89&#45;&gt;90 -->\n<g id=\"edge90\" class=\"edge\">\n<title>89&#45;&gt;90</title>\n<path fill=\"none\" stroke=\"black\" d=\"M2082.77,-817.91C2082.31,-807.2 2081.81,-795.62 2081.35,-784.78\"/>\n<polygon fill=\"black\" stroke=\"black\" points=\"2084.84,-784.51 2080.92,-774.67 2077.85,-784.81 2084.84,-784.51\"/>\n</g>\n<!-- 91 -->\n<g id=\"node92\" class=\"node\">\n<title>91</title>\n<path fill=\"#e58139\" stroke=\"black\" d=\"M2263,-774.5C2263,-774.5 2174,-774.5 2174,-774.5 2168,-774.5 2162,-768.5 2162,-762.5 2162,-762.5 2162,-718.5 2162,-718.5 2162,-712.5 2168,-706.5 2174,-706.5 2174,-706.5 2263,-706.5 2263,-706.5 2269,-706.5 2275,-712.5 2275,-718.5 2275,-718.5 2275,-762.5 2275,-762.5 2275,-768.5 2269,-774.5 2263,-774.5\"/>\n<text text-anchor=\"start\" x=\"2183.5\" y=\"-759.3\" font-family=\"Helvetica,sans-Serif\" font-size=\"14.00\">gini = 0.0</text>\n<text text-anchor=\"start\" x=\"2174.5\" y=\"-744.3\" font-family=\"Helvetica,sans-Serif\" font-size=\"14.00\">samples = 1</text>\n<text text-anchor=\"start\" x=\"2170\" y=\"-729.3\" font-family=\"Helvetica,sans-Serif\" font-size=\"14.00\">value = [1, 0]</text>\n<text text-anchor=\"start\" x=\"2176\" y=\"-714.3\" font-family=\"Helvetica,sans-Serif\" font-size=\"14.00\">class = give</text>\n</g>\n<!-- 89&#45;&gt;91 -->\n<g id=\"edge91\" class=\"edge\">\n<title>89&#45;&gt;91</title>\n<path fill=\"none\" stroke=\"black\" d=\"M2130.99,-817.91C2144.51,-806.1 2159.27,-793.22 2172.75,-781.45\"/>\n<polygon fill=\"black\" stroke=\"black\" points=\"2175.28,-783.88 2180.51,-774.67 2170.68,-778.61 2175.28,-783.88\"/>\n</g>\n<!-- 93 -->\n<g id=\"node94\" class=\"node\">\n<title>93</title>\n<path fill=\"#e5823a\" stroke=\"black\" d=\"M2567.5,-1020C2567.5,-1020 2427.5,-1020 2427.5,-1020 2421.5,-1020 2415.5,-1014 2415.5,-1008 2415.5,-1008 2415.5,-949 2415.5,-949 2415.5,-943 2421.5,-937 2427.5,-937 2427.5,-937 2567.5,-937 2567.5,-937 2573.5,-937 2579.5,-943 2579.5,-949 2579.5,-949 2579.5,-1008 2579.5,-1008 2579.5,-1014 2573.5,-1020 2567.5,-1020\"/>\n<text text-anchor=\"start\" x=\"2423.5\" y=\"-1004.8\" font-family=\"Helvetica,sans-Serif\" font-size=\"14.00\">installment ≤ 22.565</text>\n<text text-anchor=\"start\" x=\"2453.5\" y=\"-989.8\" font-family=\"Helvetica,sans-Serif\" font-size=\"14.00\">gini = 0.011</text>\n<text text-anchor=\"start\" x=\"2444.5\" y=\"-974.8\" font-family=\"Helvetica,sans-Serif\" font-size=\"14.00\">samples = 886</text>\n<text text-anchor=\"start\" x=\"2435.5\" y=\"-959.8\" font-family=\"Helvetica,sans-Serif\" font-size=\"14.00\">value = [1394, 8]</text>\n<text text-anchor=\"start\" x=\"2455\" y=\"-944.8\" font-family=\"Helvetica,sans-Serif\" font-size=\"14.00\">class = give</text>\n</g>\n<!-- 92&#45;&gt;93 -->\n<g id=\"edge93\" class=\"edge\">\n<title>92&#45;&gt;93</title>\n<path fill=\"none\" stroke=\"black\" d=\"M2551.05,-1055.91C2544.82,-1047.01 2538.16,-1037.51 2531.72,-1028.33\"/>\n<polygon fill=\"black\" stroke=\"black\" points=\"2534.5,-1026.2 2525.9,-1020.02 2528.77,-1030.22 2534.5,-1026.2\"/>\n</g>\n<!-- 126 -->\n<g id=\"node127\" class=\"node\">\n<title>126</title>\n<path fill=\"#399de5\" stroke=\"black\" d=\"M2713.5,-1012.5C2713.5,-1012.5 2609.5,-1012.5 2609.5,-1012.5 2603.5,-1012.5 2597.5,-1006.5 2597.5,-1000.5 2597.5,-1000.5 2597.5,-956.5 2597.5,-956.5 2597.5,-950.5 2603.5,-944.5 2609.5,-944.5 2609.5,-944.5 2713.5,-944.5 2713.5,-944.5 2719.5,-944.5 2725.5,-950.5 2725.5,-956.5 2725.5,-956.5 2725.5,-1000.5 2725.5,-1000.5 2725.5,-1006.5 2719.5,-1012.5 2713.5,-1012.5\"/>\n<text text-anchor=\"start\" x=\"2626.5\" y=\"-997.3\" font-family=\"Helvetica,sans-Serif\" font-size=\"14.00\">gini = 0.0</text>\n<text text-anchor=\"start\" x=\"2617.5\" y=\"-982.3\" font-family=\"Helvetica,sans-Serif\" font-size=\"14.00\">samples = 6</text>\n<text text-anchor=\"start\" x=\"2608.5\" y=\"-967.3\" font-family=\"Helvetica,sans-Serif\" font-size=\"14.00\">value = [0, 11]</text>\n<text text-anchor=\"start\" x=\"2605.5\" y=\"-952.3\" font-family=\"Helvetica,sans-Serif\" font-size=\"14.00\">class = not give</text>\n</g>\n<!-- 92&#45;&gt;126 -->\n<g id=\"edge126\" class=\"edge\">\n<title>92&#45;&gt;126</title>\n<path fill=\"none\" stroke=\"black\" d=\"M2607.95,-1055.91C2615.84,-1044.65 2624.41,-1032.42 2632.34,-1021.11\"/>\n<polygon fill=\"black\" stroke=\"black\" points=\"2635.38,-1022.86 2638.25,-1012.67 2629.65,-1018.85 2635.38,-1022.86\"/>\n</g>\n<!-- 94 -->\n<g id=\"node95\" class=\"node\">\n<title>94</title>\n<path fill=\"#ffffff\" stroke=\"black\" d=\"M2549.5,-901C2549.5,-901 2445.5,-901 2445.5,-901 2439.5,-901 2433.5,-895 2433.5,-889 2433.5,-889 2433.5,-830 2433.5,-830 2433.5,-824 2439.5,-818 2445.5,-818 2445.5,-818 2549.5,-818 2549.5,-818 2555.5,-818 2561.5,-824 2561.5,-830 2561.5,-830 2561.5,-889 2561.5,-889 2561.5,-895 2555.5,-901 2549.5,-901\"/>\n<text text-anchor=\"start\" x=\"2441.5\" y=\"-885.8\" font-family=\"Helvetica,sans-Serif\" font-size=\"14.00\">int.rate ≤ 0.115</text>\n<text text-anchor=\"start\" x=\"2462.5\" y=\"-870.8\" font-family=\"Helvetica,sans-Serif\" font-size=\"14.00\">gini = 0.5</text>\n<text text-anchor=\"start\" x=\"2453.5\" y=\"-855.8\" font-family=\"Helvetica,sans-Serif\" font-size=\"14.00\">samples = 2</text>\n<text text-anchor=\"start\" x=\"2449\" y=\"-840.8\" font-family=\"Helvetica,sans-Serif\" font-size=\"14.00\">value = [1, 1]</text>\n<text text-anchor=\"start\" x=\"2455\" y=\"-825.8\" font-family=\"Helvetica,sans-Serif\" font-size=\"14.00\">class = give</text>\n</g>\n<!-- 93&#45;&gt;94 -->\n<g id=\"edge94\" class=\"edge\">\n<title>93&#45;&gt;94</title>\n<path fill=\"none\" stroke=\"black\" d=\"M2497.5,-936.91C2497.5,-928.65 2497.5,-919.86 2497.5,-911.3\"/>\n<polygon fill=\"black\" stroke=\"black\" points=\"2501,-911.02 2497.5,-901.02 2494,-911.02 2501,-911.02\"/>\n</g>\n<!-- 97 -->\n<g id=\"node98\" class=\"node\">\n<title>97</title>\n<path fill=\"#e5823a\" stroke=\"black\" d=\"M2711.5,-901C2711.5,-901 2595.5,-901 2595.5,-901 2589.5,-901 2583.5,-895 2583.5,-889 2583.5,-889 2583.5,-830 2583.5,-830 2583.5,-824 2589.5,-818 2595.5,-818 2595.5,-818 2711.5,-818 2711.5,-818 2717.5,-818 2723.5,-824 2723.5,-830 2723.5,-830 2723.5,-889 2723.5,-889 2723.5,-895 2717.5,-901 2711.5,-901\"/>\n<text text-anchor=\"start\" x=\"2591.5\" y=\"-885.8\" font-family=\"Helvetica,sans-Serif\" font-size=\"14.00\">educational ≤ 0.5</text>\n<text text-anchor=\"start\" x=\"2614\" y=\"-870.8\" font-family=\"Helvetica,sans-Serif\" font-size=\"14.00\">gini = 0.01</text>\n<text text-anchor=\"start\" x=\"2600.5\" y=\"-855.8\" font-family=\"Helvetica,sans-Serif\" font-size=\"14.00\">samples = 884</text>\n<text text-anchor=\"start\" x=\"2591.5\" y=\"-840.8\" font-family=\"Helvetica,sans-Serif\" font-size=\"14.00\">value = [1393, 7]</text>\n<text text-anchor=\"start\" x=\"2611\" y=\"-825.8\" font-family=\"Helvetica,sans-Serif\" font-size=\"14.00\">class = give</text>\n</g>\n<!-- 93&#45;&gt;97 -->\n<g id=\"edge97\" class=\"edge\">\n<title>93&#45;&gt;97</title>\n<path fill=\"none\" stroke=\"black\" d=\"M2551.62,-936.91C2564.45,-927.29 2578.23,-916.95 2591.38,-907.09\"/>\n<polygon fill=\"black\" stroke=\"black\" points=\"2593.57,-909.82 2599.47,-901.02 2589.37,-904.22 2593.57,-909.82\"/>\n</g>\n<!-- 95 -->\n<g id=\"node96\" class=\"node\">\n<title>95</title>\n<path fill=\"#e58139\" stroke=\"black\" d=\"M2403,-774.5C2403,-774.5 2314,-774.5 2314,-774.5 2308,-774.5 2302,-768.5 2302,-762.5 2302,-762.5 2302,-718.5 2302,-718.5 2302,-712.5 2308,-706.5 2314,-706.5 2314,-706.5 2403,-706.5 2403,-706.5 2409,-706.5 2415,-712.5 2415,-718.5 2415,-718.5 2415,-762.5 2415,-762.5 2415,-768.5 2409,-774.5 2403,-774.5\"/>\n<text text-anchor=\"start\" x=\"2323.5\" y=\"-759.3\" font-family=\"Helvetica,sans-Serif\" font-size=\"14.00\">gini = 0.0</text>\n<text text-anchor=\"start\" x=\"2314.5\" y=\"-744.3\" font-family=\"Helvetica,sans-Serif\" font-size=\"14.00\">samples = 1</text>\n<text text-anchor=\"start\" x=\"2310\" y=\"-729.3\" font-family=\"Helvetica,sans-Serif\" font-size=\"14.00\">value = [1, 0]</text>\n<text text-anchor=\"start\" x=\"2316\" y=\"-714.3\" font-family=\"Helvetica,sans-Serif\" font-size=\"14.00\">class = give</text>\n</g>\n<!-- 94&#45;&gt;95 -->\n<g id=\"edge95\" class=\"edge\">\n<title>94&#45;&gt;95</title>\n<path fill=\"none\" stroke=\"black\" d=\"M2449.27,-817.91C2435.12,-805.99 2419.65,-792.98 2405.57,-781.12\"/>\n<polygon fill=\"black\" stroke=\"black\" points=\"2407.81,-778.43 2397.9,-774.67 2403.3,-783.78 2407.81,-778.43\"/>\n</g>\n<!-- 96 -->\n<g id=\"node97\" class=\"node\">\n<title>96</title>\n<path fill=\"#399de5\" stroke=\"black\" d=\"M2549.5,-774.5C2549.5,-774.5 2445.5,-774.5 2445.5,-774.5 2439.5,-774.5 2433.5,-768.5 2433.5,-762.5 2433.5,-762.5 2433.5,-718.5 2433.5,-718.5 2433.5,-712.5 2439.5,-706.5 2445.5,-706.5 2445.5,-706.5 2549.5,-706.5 2549.5,-706.5 2555.5,-706.5 2561.5,-712.5 2561.5,-718.5 2561.5,-718.5 2561.5,-762.5 2561.5,-762.5 2561.5,-768.5 2555.5,-774.5 2549.5,-774.5\"/>\n<text text-anchor=\"start\" x=\"2462.5\" y=\"-759.3\" font-family=\"Helvetica,sans-Serif\" font-size=\"14.00\">gini = 0.0</text>\n<text text-anchor=\"start\" x=\"2453.5\" y=\"-744.3\" font-family=\"Helvetica,sans-Serif\" font-size=\"14.00\">samples = 1</text>\n<text text-anchor=\"start\" x=\"2449\" y=\"-729.3\" font-family=\"Helvetica,sans-Serif\" font-size=\"14.00\">value = [0, 1]</text>\n<text text-anchor=\"start\" x=\"2441.5\" y=\"-714.3\" font-family=\"Helvetica,sans-Serif\" font-size=\"14.00\">class = not give</text>\n</g>\n<!-- 94&#45;&gt;96 -->\n<g id=\"edge96\" class=\"edge\">\n<title>94&#45;&gt;96</title>\n<path fill=\"none\" stroke=\"black\" d=\"M2497.5,-817.91C2497.5,-807.2 2497.5,-795.62 2497.5,-784.78\"/>\n<polygon fill=\"black\" stroke=\"black\" points=\"2501,-784.67 2497.5,-774.67 2494,-784.67 2501,-784.67\"/>\n</g>\n<!-- 98 -->\n<g id=\"node99\" class=\"node\">\n<title>98</title>\n<path fill=\"#e5823a\" stroke=\"black\" d=\"M2711.5,-782C2711.5,-782 2595.5,-782 2595.5,-782 2589.5,-782 2583.5,-776 2583.5,-770 2583.5,-770 2583.5,-711 2583.5,-711 2583.5,-705 2589.5,-699 2595.5,-699 2595.5,-699 2711.5,-699 2711.5,-699 2717.5,-699 2723.5,-705 2723.5,-711 2723.5,-711 2723.5,-770 2723.5,-770 2723.5,-776 2717.5,-782 2711.5,-782\"/>\n<text text-anchor=\"start\" x=\"2602\" y=\"-766.8\" font-family=\"Helvetica,sans-Serif\" font-size=\"14.00\">revol.bal ≤ 0.5</text>\n<text text-anchor=\"start\" x=\"2614\" y=\"-751.8\" font-family=\"Helvetica,sans-Serif\" font-size=\"14.00\">gini = 0.01</text>\n<text text-anchor=\"start\" x=\"2600.5\" y=\"-736.8\" font-family=\"Helvetica,sans-Serif\" font-size=\"14.00\">samples = 858</text>\n<text text-anchor=\"start\" x=\"2591.5\" y=\"-721.8\" font-family=\"Helvetica,sans-Serif\" font-size=\"14.00\">value = [1351, 7]</text>\n<text text-anchor=\"start\" x=\"2611\" y=\"-706.8\" font-family=\"Helvetica,sans-Serif\" font-size=\"14.00\">class = give</text>\n</g>\n<!-- 97&#45;&gt;98 -->\n<g id=\"edge98\" class=\"edge\">\n<title>97&#45;&gt;98</title>\n<path fill=\"none\" stroke=\"black\" d=\"M2653.5,-817.91C2653.5,-809.65 2653.5,-800.86 2653.5,-792.3\"/>\n<polygon fill=\"black\" stroke=\"black\" points=\"2657,-792.02 2653.5,-782.02 2650,-792.02 2657,-792.02\"/>\n</g>\n<!-- 125 -->\n<g id=\"node126\" class=\"node\">\n<title>125</title>\n<path fill=\"#e58139\" stroke=\"black\" d=\"M2851.5,-774.5C2851.5,-774.5 2753.5,-774.5 2753.5,-774.5 2747.5,-774.5 2741.5,-768.5 2741.5,-762.5 2741.5,-762.5 2741.5,-718.5 2741.5,-718.5 2741.5,-712.5 2747.5,-706.5 2753.5,-706.5 2753.5,-706.5 2851.5,-706.5 2851.5,-706.5 2857.5,-706.5 2863.5,-712.5 2863.5,-718.5 2863.5,-718.5 2863.5,-762.5 2863.5,-762.5 2863.5,-768.5 2857.5,-774.5 2851.5,-774.5\"/>\n<text text-anchor=\"start\" x=\"2767.5\" y=\"-759.3\" font-family=\"Helvetica,sans-Serif\" font-size=\"14.00\">gini = 0.0</text>\n<text text-anchor=\"start\" x=\"2754\" y=\"-744.3\" font-family=\"Helvetica,sans-Serif\" font-size=\"14.00\">samples = 26</text>\n<text text-anchor=\"start\" x=\"2749.5\" y=\"-729.3\" font-family=\"Helvetica,sans-Serif\" font-size=\"14.00\">value = [42, 0]</text>\n<text text-anchor=\"start\" x=\"2760\" y=\"-714.3\" font-family=\"Helvetica,sans-Serif\" font-size=\"14.00\">class = give</text>\n</g>\n<!-- 97&#45;&gt;125 -->\n<g id=\"edge125\" class=\"edge\">\n<title>97&#45;&gt;125</title>\n<path fill=\"none\" stroke=\"black\" d=\"M2705.19,-817.91C2720.37,-805.99 2736.95,-792.98 2752.04,-781.12\"/>\n<polygon fill=\"black\" stroke=\"black\" points=\"2754.56,-783.6 2760.26,-774.67 2750.24,-778.09 2754.56,-783.6\"/>\n</g>\n<!-- 99 -->\n<g id=\"node100\" class=\"node\">\n<title>99</title>\n<path fill=\"#e6853f\" stroke=\"black\" d=\"M2723.5,-663C2723.5,-663 2583.5,-663 2583.5,-663 2577.5,-663 2571.5,-657 2571.5,-651 2571.5,-651 2571.5,-592 2571.5,-592 2571.5,-586 2577.5,-580 2583.5,-580 2583.5,-580 2723.5,-580 2723.5,-580 2729.5,-580 2735.5,-586 2735.5,-592 2735.5,-592 2735.5,-651 2735.5,-651 2735.5,-657 2729.5,-663 2723.5,-663\"/>\n<text text-anchor=\"start\" x=\"2579.5\" y=\"-647.8\" font-family=\"Helvetica,sans-Serif\" font-size=\"14.00\">installment ≤ 104.12</text>\n<text text-anchor=\"start\" x=\"2609.5\" y=\"-632.8\" font-family=\"Helvetica,sans-Serif\" font-size=\"14.00\">gini = 0.061</text>\n<text text-anchor=\"start\" x=\"2605\" y=\"-617.8\" font-family=\"Helvetica,sans-Serif\" font-size=\"14.00\">samples = 39</text>\n<text text-anchor=\"start\" x=\"2600.5\" y=\"-602.8\" font-family=\"Helvetica,sans-Serif\" font-size=\"14.00\">value = [61, 2]</text>\n<text text-anchor=\"start\" x=\"2611\" y=\"-587.8\" font-family=\"Helvetica,sans-Serif\" font-size=\"14.00\">class = give</text>\n</g>\n<!-- 98&#45;&gt;99 -->\n<g id=\"edge99\" class=\"edge\">\n<title>98&#45;&gt;99</title>\n<path fill=\"none\" stroke=\"black\" d=\"M2653.5,-698.91C2653.5,-690.65 2653.5,-681.86 2653.5,-673.3\"/>\n<polygon fill=\"black\" stroke=\"black\" points=\"2657,-673.02 2653.5,-663.02 2650,-673.02 2657,-673.02\"/>\n</g>\n<!-- 104 -->\n<g id=\"node105\" class=\"node\">\n<title>104</title>\n<path fill=\"#e5813a\" stroke=\"black\" d=\"M2898.5,-663C2898.5,-663 2782.5,-663 2782.5,-663 2776.5,-663 2770.5,-657 2770.5,-651 2770.5,-651 2770.5,-592 2770.5,-592 2770.5,-586 2776.5,-580 2782.5,-580 2782.5,-580 2898.5,-580 2898.5,-580 2904.5,-580 2910.5,-586 2910.5,-592 2910.5,-592 2910.5,-651 2910.5,-651 2910.5,-657 2904.5,-663 2898.5,-663\"/>\n<text text-anchor=\"start\" x=\"2797\" y=\"-647.8\" font-family=\"Helvetica,sans-Serif\" font-size=\"14.00\">fico ≤ 789.5</text>\n<text text-anchor=\"start\" x=\"2796.5\" y=\"-632.8\" font-family=\"Helvetica,sans-Serif\" font-size=\"14.00\">gini = 0.008</text>\n<text text-anchor=\"start\" x=\"2787.5\" y=\"-617.8\" font-family=\"Helvetica,sans-Serif\" font-size=\"14.00\">samples = 819</text>\n<text text-anchor=\"start\" x=\"2778.5\" y=\"-602.8\" font-family=\"Helvetica,sans-Serif\" font-size=\"14.00\">value = [1290, 5]</text>\n<text text-anchor=\"start\" x=\"2798\" y=\"-587.8\" font-family=\"Helvetica,sans-Serif\" font-size=\"14.00\">class = give</text>\n</g>\n<!-- 98&#45;&gt;104 -->\n<g id=\"edge104\" class=\"edge\">\n<title>98&#45;&gt;104</title>\n<path fill=\"none\" stroke=\"black\" d=\"M2718.38,-698.91C2734.04,-689.11 2750.9,-678.56 2766.93,-668.53\"/>\n<polygon fill=\"black\" stroke=\"black\" points=\"2769.11,-671.29 2775.74,-663.02 2765.4,-665.36 2769.11,-671.29\"/>\n</g>\n<!-- 100 -->\n<g id=\"node101\" class=\"node\">\n<title>100</title>\n<path fill=\"#efb388\" stroke=\"black\" d=\"M2587.5,-544C2587.5,-544 2483.5,-544 2483.5,-544 2477.5,-544 2471.5,-538 2471.5,-532 2471.5,-532 2471.5,-473 2471.5,-473 2471.5,-467 2477.5,-461 2483.5,-461 2483.5,-461 2587.5,-461 2587.5,-461 2593.5,-461 2599.5,-467 2599.5,-473 2599.5,-473 2599.5,-532 2599.5,-532 2599.5,-538 2593.5,-544 2587.5,-544\"/>\n<text text-anchor=\"start\" x=\"2479.5\" y=\"-528.8\" font-family=\"Helvetica,sans-Serif\" font-size=\"14.00\">int.rate ≤ 0.076</text>\n<text text-anchor=\"start\" x=\"2491.5\" y=\"-513.8\" font-family=\"Helvetica,sans-Serif\" font-size=\"14.00\">gini = 0.408</text>\n<text text-anchor=\"start\" x=\"2491.5\" y=\"-498.8\" font-family=\"Helvetica,sans-Serif\" font-size=\"14.00\">samples = 3</text>\n<text text-anchor=\"start\" x=\"2487\" y=\"-483.8\" font-family=\"Helvetica,sans-Serif\" font-size=\"14.00\">value = [5, 2]</text>\n<text text-anchor=\"start\" x=\"2493\" y=\"-468.8\" font-family=\"Helvetica,sans-Serif\" font-size=\"14.00\">class = give</text>\n</g>\n<!-- 99&#45;&gt;100 -->\n<g id=\"edge100\" class=\"edge\">\n<title>99&#45;&gt;100</title>\n<path fill=\"none\" stroke=\"black\" d=\"M2612.56,-579.91C2603.22,-570.65 2593.22,-560.73 2583.62,-551.21\"/>\n<polygon fill=\"black\" stroke=\"black\" points=\"2585.93,-548.58 2576.37,-544.02 2581,-553.55 2585.93,-548.58\"/>\n</g>\n<!-- 103 -->\n<g id=\"node104\" class=\"node\">\n<title>103</title>\n<path fill=\"#e58139\" stroke=\"black\" d=\"M2727.5,-536.5C2727.5,-536.5 2629.5,-536.5 2629.5,-536.5 2623.5,-536.5 2617.5,-530.5 2617.5,-524.5 2617.5,-524.5 2617.5,-480.5 2617.5,-480.5 2617.5,-474.5 2623.5,-468.5 2629.5,-468.5 2629.5,-468.5 2727.5,-468.5 2727.5,-468.5 2733.5,-468.5 2739.5,-474.5 2739.5,-480.5 2739.5,-480.5 2739.5,-524.5 2739.5,-524.5 2739.5,-530.5 2733.5,-536.5 2727.5,-536.5\"/>\n<text text-anchor=\"start\" x=\"2643.5\" y=\"-521.3\" font-family=\"Helvetica,sans-Serif\" font-size=\"14.00\">gini = 0.0</text>\n<text text-anchor=\"start\" x=\"2630\" y=\"-506.3\" font-family=\"Helvetica,sans-Serif\" font-size=\"14.00\">samples = 36</text>\n<text text-anchor=\"start\" x=\"2625.5\" y=\"-491.3\" font-family=\"Helvetica,sans-Serif\" font-size=\"14.00\">value = [56, 0]</text>\n<text text-anchor=\"start\" x=\"2636\" y=\"-476.3\" font-family=\"Helvetica,sans-Serif\" font-size=\"14.00\">class = give</text>\n</g>\n<!-- 99&#45;&gt;103 -->\n<g id=\"edge103\" class=\"edge\">\n<title>99&#45;&gt;103</title>\n<path fill=\"none\" stroke=\"black\" d=\"M2662.17,-579.91C2664.46,-569.2 2666.94,-557.62 2669.25,-546.78\"/>\n<polygon fill=\"black\" stroke=\"black\" points=\"2672.75,-547.18 2671.41,-536.67 2665.9,-545.71 2672.75,-547.18\"/>\n</g>\n<!-- 101 -->\n<g id=\"node102\" class=\"node\">\n<title>101</title>\n<path fill=\"#399de5\" stroke=\"black\" d=\"M2584.5,-417.5C2584.5,-417.5 2480.5,-417.5 2480.5,-417.5 2474.5,-417.5 2468.5,-411.5 2468.5,-405.5 2468.5,-405.5 2468.5,-361.5 2468.5,-361.5 2468.5,-355.5 2474.5,-349.5 2480.5,-349.5 2480.5,-349.5 2584.5,-349.5 2584.5,-349.5 2590.5,-349.5 2596.5,-355.5 2596.5,-361.5 2596.5,-361.5 2596.5,-405.5 2596.5,-405.5 2596.5,-411.5 2590.5,-417.5 2584.5,-417.5\"/>\n<text text-anchor=\"start\" x=\"2497.5\" y=\"-402.3\" font-family=\"Helvetica,sans-Serif\" font-size=\"14.00\">gini = 0.0</text>\n<text text-anchor=\"start\" x=\"2488.5\" y=\"-387.3\" font-family=\"Helvetica,sans-Serif\" font-size=\"14.00\">samples = 1</text>\n<text text-anchor=\"start\" x=\"2484\" y=\"-372.3\" font-family=\"Helvetica,sans-Serif\" font-size=\"14.00\">value = [0, 2]</text>\n<text text-anchor=\"start\" x=\"2476.5\" y=\"-357.3\" font-family=\"Helvetica,sans-Serif\" font-size=\"14.00\">class = not give</text>\n</g>\n<!-- 100&#45;&gt;101 -->\n<g id=\"edge101\" class=\"edge\">\n<title>100&#45;&gt;101</title>\n<path fill=\"none\" stroke=\"black\" d=\"M2534.46,-460.91C2534.18,-450.2 2533.89,-438.62 2533.61,-427.78\"/>\n<polygon fill=\"black\" stroke=\"black\" points=\"2537.11,-427.57 2533.35,-417.67 2530.11,-427.75 2537.11,-427.57\"/>\n</g>\n<!-- 102 -->\n<g id=\"node103\" class=\"node\">\n<title>102</title>\n<path fill=\"#e58139\" stroke=\"black\" d=\"M2716,-417.5C2716,-417.5 2627,-417.5 2627,-417.5 2621,-417.5 2615,-411.5 2615,-405.5 2615,-405.5 2615,-361.5 2615,-361.5 2615,-355.5 2621,-349.5 2627,-349.5 2627,-349.5 2716,-349.5 2716,-349.5 2722,-349.5 2728,-355.5 2728,-361.5 2728,-361.5 2728,-405.5 2728,-405.5 2728,-411.5 2722,-417.5 2716,-417.5\"/>\n<text text-anchor=\"start\" x=\"2636.5\" y=\"-402.3\" font-family=\"Helvetica,sans-Serif\" font-size=\"14.00\">gini = 0.0</text>\n<text text-anchor=\"start\" x=\"2627.5\" y=\"-387.3\" font-family=\"Helvetica,sans-Serif\" font-size=\"14.00\">samples = 2</text>\n<text text-anchor=\"start\" x=\"2623\" y=\"-372.3\" font-family=\"Helvetica,sans-Serif\" font-size=\"14.00\">value = [5, 0]</text>\n<text text-anchor=\"start\" x=\"2629\" y=\"-357.3\" font-family=\"Helvetica,sans-Serif\" font-size=\"14.00\">class = give</text>\n</g>\n<!-- 100&#45;&gt;102 -->\n<g id=\"edge102\" class=\"edge\">\n<title>100&#45;&gt;102</title>\n<path fill=\"none\" stroke=\"black\" d=\"M2582.68,-460.91C2596.41,-449.1 2611.39,-436.22 2625.06,-424.45\"/>\n<polygon fill=\"black\" stroke=\"black\" points=\"2627.65,-426.84 2632.95,-417.67 2623.08,-421.54 2627.65,-426.84\"/>\n</g>\n<!-- 105 -->\n<g id=\"node106\" class=\"node\">\n<title>105</title>\n<path fill=\"#e58139\" stroke=\"black\" d=\"M2906,-544C2906,-544 2775,-544 2775,-544 2769,-544 2763,-538 2763,-532 2763,-532 2763,-473 2763,-473 2763,-467 2769,-461 2775,-461 2775,-461 2906,-461 2906,-461 2912,-461 2918,-467 2918,-473 2918,-473 2918,-532 2918,-532 2918,-538 2912,-544 2906,-544\"/>\n<text text-anchor=\"start\" x=\"2771\" y=\"-528.8\" font-family=\"Helvetica,sans-Serif\" font-size=\"14.00\">revol.bal ≤ 53263.5</text>\n<text text-anchor=\"start\" x=\"2796.5\" y=\"-513.8\" font-family=\"Helvetica,sans-Serif\" font-size=\"14.00\">gini = 0.004</text>\n<text text-anchor=\"start\" x=\"2787.5\" y=\"-498.8\" font-family=\"Helvetica,sans-Serif\" font-size=\"14.00\">samples = 710</text>\n<text text-anchor=\"start\" x=\"2778.5\" y=\"-483.8\" font-family=\"Helvetica,sans-Serif\" font-size=\"14.00\">value = [1123, 2]</text>\n<text text-anchor=\"start\" x=\"2798\" y=\"-468.8\" font-family=\"Helvetica,sans-Serif\" font-size=\"14.00\">class = give</text>\n</g>\n<!-- 104&#45;&gt;105 -->\n<g id=\"edge105\" class=\"edge\">\n<title>104&#45;&gt;105</title>\n<path fill=\"none\" stroke=\"black\" d=\"M2840.5,-579.91C2840.5,-571.65 2840.5,-562.86 2840.5,-554.3\"/>\n<polygon fill=\"black\" stroke=\"black\" points=\"2844,-554.02 2840.5,-544.02 2837,-554.02 2844,-554.02\"/>\n</g>\n<!-- 116 -->\n<g id=\"node117\" class=\"node\">\n<title>116</title>\n<path fill=\"#e5833d\" stroke=\"black\" d=\"M3171.5,-544C3171.5,-544 3049.5,-544 3049.5,-544 3043.5,-544 3037.5,-538 3037.5,-532 3037.5,-532 3037.5,-473 3037.5,-473 3037.5,-467 3043.5,-461 3049.5,-461 3049.5,-461 3171.5,-461 3171.5,-461 3177.5,-461 3183.5,-467 3183.5,-473 3183.5,-473 3183.5,-532 3183.5,-532 3183.5,-538 3177.5,-544 3171.5,-544\"/>\n<text text-anchor=\"start\" x=\"3045.5\" y=\"-528.8\" font-family=\"Helvetica,sans-Serif\" font-size=\"14.00\">revol.bal ≤ 7903.0</text>\n<text text-anchor=\"start\" x=\"3066.5\" y=\"-513.8\" font-family=\"Helvetica,sans-Serif\" font-size=\"14.00\">gini = 0.035</text>\n<text text-anchor=\"start\" x=\"3057.5\" y=\"-498.8\" font-family=\"Helvetica,sans-Serif\" font-size=\"14.00\">samples = 109</text>\n<text text-anchor=\"start\" x=\"3053\" y=\"-483.8\" font-family=\"Helvetica,sans-Serif\" font-size=\"14.00\">value = [167, 3]</text>\n<text text-anchor=\"start\" x=\"3068\" y=\"-468.8\" font-family=\"Helvetica,sans-Serif\" font-size=\"14.00\">class = give</text>\n</g>\n<!-- 104&#45;&gt;116 -->\n<g id=\"edge116\" class=\"edge\">\n<title>104&#45;&gt;116</title>\n<path fill=\"none\" stroke=\"black\" d=\"M2910.57,-584.6C2913.92,-583.02 2917.24,-581.48 2920.5,-580 2955.28,-564.23 2994.32,-548.23 3027.93,-534.96\"/>\n<polygon fill=\"black\" stroke=\"black\" points=\"3029.22,-538.21 3037.25,-531.29 3026.66,-531.7 3029.22,-538.21\"/>\n</g>\n<!-- 106 -->\n<g id=\"node107\" class=\"node\">\n<title>106</title>\n<path fill=\"#e58139\" stroke=\"black\" d=\"M2874.5,-425C2874.5,-425 2758.5,-425 2758.5,-425 2752.5,-425 2746.5,-419 2746.5,-413 2746.5,-413 2746.5,-354 2746.5,-354 2746.5,-348 2752.5,-342 2758.5,-342 2758.5,-342 2874.5,-342 2874.5,-342 2880.5,-342 2886.5,-348 2886.5,-354 2886.5,-354 2886.5,-413 2886.5,-413 2886.5,-419 2880.5,-425 2874.5,-425\"/>\n<text text-anchor=\"start\" x=\"2776.5\" y=\"-409.8\" font-family=\"Helvetica,sans-Serif\" font-size=\"14.00\">dti ≤ 0.425</text>\n<text text-anchor=\"start\" x=\"2772.5\" y=\"-394.8\" font-family=\"Helvetica,sans-Serif\" font-size=\"14.00\">gini = 0.002</text>\n<text text-anchor=\"start\" x=\"2763.5\" y=\"-379.8\" font-family=\"Helvetica,sans-Serif\" font-size=\"14.00\">samples = 682</text>\n<text text-anchor=\"start\" x=\"2754.5\" y=\"-364.8\" font-family=\"Helvetica,sans-Serif\" font-size=\"14.00\">value = [1079, 1]</text>\n<text text-anchor=\"start\" x=\"2774\" y=\"-349.8\" font-family=\"Helvetica,sans-Serif\" font-size=\"14.00\">class = give</text>\n</g>\n<!-- 105&#45;&gt;106 -->\n<g id=\"edge106\" class=\"edge\">\n<title>105&#45;&gt;106</title>\n<path fill=\"none\" stroke=\"black\" d=\"M2832.17,-460.91C2830.46,-452.56 2828.64,-443.67 2826.86,-435.02\"/>\n<polygon fill=\"black\" stroke=\"black\" points=\"2830.25,-434.11 2824.81,-425.02 2823.39,-435.52 2830.25,-434.11\"/>\n</g>\n<!-- 113 -->\n<g id=\"node114\" class=\"node\">\n<title>113</title>\n<path fill=\"#e6843d\" stroke=\"black\" d=\"M3014.5,-425C3014.5,-425 2916.5,-425 2916.5,-425 2910.5,-425 2904.5,-419 2904.5,-413 2904.5,-413 2904.5,-354 2904.5,-354 2904.5,-348 2910.5,-342 2916.5,-342 2916.5,-342 3014.5,-342 3014.5,-342 3020.5,-342 3026.5,-348 3026.5,-354 3026.5,-354 3026.5,-413 3026.5,-413 3026.5,-419 3020.5,-425 3014.5,-425\"/>\n<text text-anchor=\"start\" x=\"2925.5\" y=\"-409.8\" font-family=\"Helvetica,sans-Serif\" font-size=\"14.00\">dti ≤ 24.42</text>\n<text text-anchor=\"start\" x=\"2921.5\" y=\"-394.8\" font-family=\"Helvetica,sans-Serif\" font-size=\"14.00\">gini = 0.043</text>\n<text text-anchor=\"start\" x=\"2917\" y=\"-379.8\" font-family=\"Helvetica,sans-Serif\" font-size=\"14.00\">samples = 28</text>\n<text text-anchor=\"start\" x=\"2912.5\" y=\"-364.8\" font-family=\"Helvetica,sans-Serif\" font-size=\"14.00\">value = [44, 1]</text>\n<text text-anchor=\"start\" x=\"2923\" y=\"-349.8\" font-family=\"Helvetica,sans-Serif\" font-size=\"14.00\">class = give</text>\n</g>\n<!-- 105&#45;&gt;113 -->\n<g id=\"edge113\" class=\"edge\">\n<title>105&#45;&gt;113</title>\n<path fill=\"none\" stroke=\"black\" d=\"M2883.87,-460.91C2893.85,-451.56 2904.56,-441.54 2914.83,-431.93\"/>\n<polygon fill=\"black\" stroke=\"black\" points=\"2917.3,-434.41 2922.21,-425.02 2912.52,-429.3 2917.3,-434.41\"/>\n</g>\n<!-- 107 -->\n<g id=\"node108\" class=\"node\">\n<title>107</title>\n<path fill=\"#e6843e\" stroke=\"black\" d=\"M2716.5,-306C2716.5,-306 2612.5,-306 2612.5,-306 2606.5,-306 2600.5,-300 2600.5,-294 2600.5,-294 2600.5,-235 2600.5,-235 2600.5,-229 2606.5,-223 2612.5,-223 2612.5,-223 2716.5,-223 2716.5,-223 2722.5,-223 2728.5,-229 2728.5,-235 2728.5,-235 2728.5,-294 2728.5,-294 2728.5,-300 2722.5,-306 2716.5,-306\"/>\n<text text-anchor=\"start\" x=\"2608.5\" y=\"-290.8\" font-family=\"Helvetica,sans-Serif\" font-size=\"14.00\">int.rate ≤ 0.077</text>\n<text text-anchor=\"start\" x=\"2620.5\" y=\"-275.8\" font-family=\"Helvetica,sans-Serif\" font-size=\"14.00\">gini = 0.049</text>\n<text text-anchor=\"start\" x=\"2616\" y=\"-260.8\" font-family=\"Helvetica,sans-Serif\" font-size=\"14.00\">samples = 22</text>\n<text text-anchor=\"start\" x=\"2611.5\" y=\"-245.8\" font-family=\"Helvetica,sans-Serif\" font-size=\"14.00\">value = [39, 1]</text>\n<text text-anchor=\"start\" x=\"2622\" y=\"-230.8\" font-family=\"Helvetica,sans-Serif\" font-size=\"14.00\">class = give</text>\n</g>\n<!-- 106&#45;&gt;107 -->\n<g id=\"edge107\" class=\"edge\">\n<title>106&#45;&gt;107</title>\n<path fill=\"none\" stroke=\"black\" d=\"M2763.76,-341.91C2751.38,-332.38 2738.09,-322.15 2725.39,-312.37\"/>\n<polygon fill=\"black\" stroke=\"black\" points=\"2727.2,-309.35 2717.14,-306.02 2722.93,-314.89 2727.2,-309.35\"/>\n</g>\n<!-- 112 -->\n<g id=\"node113\" class=\"node\">\n<title>112</title>\n<path fill=\"#e58139\" stroke=\"black\" d=\"M2874.5,-298.5C2874.5,-298.5 2758.5,-298.5 2758.5,-298.5 2752.5,-298.5 2746.5,-292.5 2746.5,-286.5 2746.5,-286.5 2746.5,-242.5 2746.5,-242.5 2746.5,-236.5 2752.5,-230.5 2758.5,-230.5 2758.5,-230.5 2874.5,-230.5 2874.5,-230.5 2880.5,-230.5 2886.5,-236.5 2886.5,-242.5 2886.5,-242.5 2886.5,-286.5 2886.5,-286.5 2886.5,-292.5 2880.5,-298.5 2874.5,-298.5\"/>\n<text text-anchor=\"start\" x=\"2781.5\" y=\"-283.3\" font-family=\"Helvetica,sans-Serif\" font-size=\"14.00\">gini = 0.0</text>\n<text text-anchor=\"start\" x=\"2763.5\" y=\"-268.3\" font-family=\"Helvetica,sans-Serif\" font-size=\"14.00\">samples = 660</text>\n<text text-anchor=\"start\" x=\"2754.5\" y=\"-253.3\" font-family=\"Helvetica,sans-Serif\" font-size=\"14.00\">value = [1040, 0]</text>\n<text text-anchor=\"start\" x=\"2774\" y=\"-238.3\" font-family=\"Helvetica,sans-Serif\" font-size=\"14.00\">class = give</text>\n</g>\n<!-- 106&#45;&gt;112 -->\n<g id=\"edge112\" class=\"edge\">\n<title>106&#45;&gt;112</title>\n<path fill=\"none\" stroke=\"black\" d=\"M2816.5,-341.91C2816.5,-331.2 2816.5,-319.62 2816.5,-308.78\"/>\n<polygon fill=\"black\" stroke=\"black\" points=\"2820,-308.67 2816.5,-298.67 2813,-308.67 2820,-308.67\"/>\n</g>\n<!-- 108 -->\n<g id=\"node109\" class=\"node\">\n<title>108</title>\n<path fill=\"#ea9a61\" stroke=\"black\" d=\"M2654.5,-187C2654.5,-187 2514.5,-187 2514.5,-187 2508.5,-187 2502.5,-181 2502.5,-175 2502.5,-175 2502.5,-116 2502.5,-116 2502.5,-110 2508.5,-104 2514.5,-104 2514.5,-104 2654.5,-104 2654.5,-104 2660.5,-104 2666.5,-110 2666.5,-116 2666.5,-116 2666.5,-175 2666.5,-175 2666.5,-181 2660.5,-187 2654.5,-187\"/>\n<text text-anchor=\"start\" x=\"2510.5\" y=\"-171.8\" font-family=\"Helvetica,sans-Serif\" font-size=\"14.00\">installment ≤ 168.92</text>\n<text text-anchor=\"start\" x=\"2540.5\" y=\"-156.8\" font-family=\"Helvetica,sans-Serif\" font-size=\"14.00\">gini = 0.278</text>\n<text text-anchor=\"start\" x=\"2540.5\" y=\"-141.8\" font-family=\"Helvetica,sans-Serif\" font-size=\"14.00\">samples = 4</text>\n<text text-anchor=\"start\" x=\"2536\" y=\"-126.8\" font-family=\"Helvetica,sans-Serif\" font-size=\"14.00\">value = [5, 1]</text>\n<text text-anchor=\"start\" x=\"2542\" y=\"-111.8\" font-family=\"Helvetica,sans-Serif\" font-size=\"14.00\">class = give</text>\n</g>\n<!-- 107&#45;&gt;108 -->\n<g id=\"edge108\" class=\"edge\">\n<title>107&#45;&gt;108</title>\n<path fill=\"none\" stroke=\"black\" d=\"M2636.74,-222.91C2630.66,-214.01 2624.16,-204.51 2617.89,-195.33\"/>\n<polygon fill=\"black\" stroke=\"black\" points=\"2620.74,-193.3 2612.21,-187.02 2614.96,-197.25 2620.74,-193.3\"/>\n</g>\n<!-- 111 -->\n<g id=\"node112\" class=\"node\">\n<title>111</title>\n<path fill=\"#e58139\" stroke=\"black\" d=\"M2794.5,-179.5C2794.5,-179.5 2696.5,-179.5 2696.5,-179.5 2690.5,-179.5 2684.5,-173.5 2684.5,-167.5 2684.5,-167.5 2684.5,-123.5 2684.5,-123.5 2684.5,-117.5 2690.5,-111.5 2696.5,-111.5 2696.5,-111.5 2794.5,-111.5 2794.5,-111.5 2800.5,-111.5 2806.5,-117.5 2806.5,-123.5 2806.5,-123.5 2806.5,-167.5 2806.5,-167.5 2806.5,-173.5 2800.5,-179.5 2794.5,-179.5\"/>\n<text text-anchor=\"start\" x=\"2710.5\" y=\"-164.3\" font-family=\"Helvetica,sans-Serif\" font-size=\"14.00\">gini = 0.0</text>\n<text text-anchor=\"start\" x=\"2697\" y=\"-149.3\" font-family=\"Helvetica,sans-Serif\" font-size=\"14.00\">samples = 18</text>\n<text text-anchor=\"start\" x=\"2692.5\" y=\"-134.3\" font-family=\"Helvetica,sans-Serif\" font-size=\"14.00\">value = [34, 0]</text>\n<text text-anchor=\"start\" x=\"2703\" y=\"-119.3\" font-family=\"Helvetica,sans-Serif\" font-size=\"14.00\">class = give</text>\n</g>\n<!-- 107&#45;&gt;111 -->\n<g id=\"edge111\" class=\"edge\">\n<title>107&#45;&gt;111</title>\n<path fill=\"none\" stroke=\"black\" d=\"M2692.6,-222.91C2700.39,-211.65 2708.86,-199.42 2716.7,-188.11\"/>\n<polygon fill=\"black\" stroke=\"black\" points=\"2719.72,-189.88 2722.54,-179.67 2713.97,-185.9 2719.72,-189.88\"/>\n</g>\n<!-- 109 -->\n<g id=\"node110\" class=\"node\">\n<title>109</title>\n<path fill=\"#e58139\" stroke=\"black\" d=\"M2560,-68C2560,-68 2471,-68 2471,-68 2465,-68 2459,-62 2459,-56 2459,-56 2459,-12 2459,-12 2459,-6 2465,0 2471,0 2471,0 2560,0 2560,0 2566,0 2572,-6 2572,-12 2572,-12 2572,-56 2572,-56 2572,-62 2566,-68 2560,-68\"/>\n<text text-anchor=\"start\" x=\"2480.5\" y=\"-52.8\" font-family=\"Helvetica,sans-Serif\" font-size=\"14.00\">gini = 0.0</text>\n<text text-anchor=\"start\" x=\"2471.5\" y=\"-37.8\" font-family=\"Helvetica,sans-Serif\" font-size=\"14.00\">samples = 3</text>\n<text text-anchor=\"start\" x=\"2467\" y=\"-22.8\" font-family=\"Helvetica,sans-Serif\" font-size=\"14.00\">value = [5, 0]</text>\n<text text-anchor=\"start\" x=\"2473\" y=\"-7.8\" font-family=\"Helvetica,sans-Serif\" font-size=\"14.00\">class = give</text>\n</g>\n<!-- 108&#45;&gt;109 -->\n<g id=\"edge109\" class=\"edge\">\n<title>108&#45;&gt;109</title>\n<path fill=\"none\" stroke=\"black\" d=\"M2558.81,-103.73C2553.29,-94.97 2547.45,-85.7 2541.91,-76.91\"/>\n<polygon fill=\"black\" stroke=\"black\" points=\"2544.78,-74.89 2536.48,-68.3 2538.85,-78.63 2544.78,-74.89\"/>\n</g>\n<!-- 110 -->\n<g id=\"node111\" class=\"node\">\n<title>110</title>\n<path fill=\"#399de5\" stroke=\"black\" d=\"M2706.5,-68C2706.5,-68 2602.5,-68 2602.5,-68 2596.5,-68 2590.5,-62 2590.5,-56 2590.5,-56 2590.5,-12 2590.5,-12 2590.5,-6 2596.5,0 2602.5,0 2602.5,0 2706.5,0 2706.5,0 2712.5,0 2718.5,-6 2718.5,-12 2718.5,-12 2718.5,-56 2718.5,-56 2718.5,-62 2712.5,-68 2706.5,-68\"/>\n<text text-anchor=\"start\" x=\"2619.5\" y=\"-52.8\" font-family=\"Helvetica,sans-Serif\" font-size=\"14.00\">gini = 0.0</text>\n<text text-anchor=\"start\" x=\"2610.5\" y=\"-37.8\" font-family=\"Helvetica,sans-Serif\" font-size=\"14.00\">samples = 1</text>\n<text text-anchor=\"start\" x=\"2606\" y=\"-22.8\" font-family=\"Helvetica,sans-Serif\" font-size=\"14.00\">value = [0, 1]</text>\n<text text-anchor=\"start\" x=\"2598.5\" y=\"-7.8\" font-family=\"Helvetica,sans-Serif\" font-size=\"14.00\">class = not give</text>\n</g>\n<!-- 108&#45;&gt;110 -->\n<g id=\"edge110\" class=\"edge\">\n<title>108&#45;&gt;110</title>\n<path fill=\"none\" stroke=\"black\" d=\"M2610.57,-103.73C2616.16,-94.97 2622.09,-85.7 2627.71,-76.91\"/>\n<polygon fill=\"black\" stroke=\"black\" points=\"2630.78,-78.61 2633.21,-68.3 2624.88,-74.84 2630.78,-78.61\"/>\n</g>\n<!-- 114 -->\n<g id=\"node115\" class=\"node\">\n<title>114</title>\n<path fill=\"#e58139\" stroke=\"black\" d=\"M3014.5,-298.5C3014.5,-298.5 2916.5,-298.5 2916.5,-298.5 2910.5,-298.5 2904.5,-292.5 2904.5,-286.5 2904.5,-286.5 2904.5,-242.5 2904.5,-242.5 2904.5,-236.5 2910.5,-230.5 2916.5,-230.5 2916.5,-230.5 3014.5,-230.5 3014.5,-230.5 3020.5,-230.5 3026.5,-236.5 3026.5,-242.5 3026.5,-242.5 3026.5,-286.5 3026.5,-286.5 3026.5,-292.5 3020.5,-298.5 3014.5,-298.5\"/>\n<text text-anchor=\"start\" x=\"2930.5\" y=\"-283.3\" font-family=\"Helvetica,sans-Serif\" font-size=\"14.00\">gini = 0.0</text>\n<text text-anchor=\"start\" x=\"2917\" y=\"-268.3\" font-family=\"Helvetica,sans-Serif\" font-size=\"14.00\">samples = 27</text>\n<text text-anchor=\"start\" x=\"2912.5\" y=\"-253.3\" font-family=\"Helvetica,sans-Serif\" font-size=\"14.00\">value = [44, 0]</text>\n<text text-anchor=\"start\" x=\"2923\" y=\"-238.3\" font-family=\"Helvetica,sans-Serif\" font-size=\"14.00\">class = give</text>\n</g>\n<!-- 113&#45;&gt;114 -->\n<g id=\"edge114\" class=\"edge\">\n<title>113&#45;&gt;114</title>\n<path fill=\"none\" stroke=\"black\" d=\"M2965.5,-341.91C2965.5,-331.2 2965.5,-319.62 2965.5,-308.78\"/>\n<polygon fill=\"black\" stroke=\"black\" points=\"2969,-308.67 2965.5,-298.67 2962,-308.67 2969,-308.67\"/>\n</g>\n<!-- 115 -->\n<g id=\"node116\" class=\"node\">\n<title>115</title>\n<path fill=\"#399de5\" stroke=\"black\" d=\"M3160.5,-298.5C3160.5,-298.5 3056.5,-298.5 3056.5,-298.5 3050.5,-298.5 3044.5,-292.5 3044.5,-286.5 3044.5,-286.5 3044.5,-242.5 3044.5,-242.5 3044.5,-236.5 3050.5,-230.5 3056.5,-230.5 3056.5,-230.5 3160.5,-230.5 3160.5,-230.5 3166.5,-230.5 3172.5,-236.5 3172.5,-242.5 3172.5,-242.5 3172.5,-286.5 3172.5,-286.5 3172.5,-292.5 3166.5,-298.5 3160.5,-298.5\"/>\n<text text-anchor=\"start\" x=\"3073.5\" y=\"-283.3\" font-family=\"Helvetica,sans-Serif\" font-size=\"14.00\">gini = 0.0</text>\n<text text-anchor=\"start\" x=\"3064.5\" y=\"-268.3\" font-family=\"Helvetica,sans-Serif\" font-size=\"14.00\">samples = 1</text>\n<text text-anchor=\"start\" x=\"3060\" y=\"-253.3\" font-family=\"Helvetica,sans-Serif\" font-size=\"14.00\">value = [0, 1]</text>\n<text text-anchor=\"start\" x=\"3052.5\" y=\"-238.3\" font-family=\"Helvetica,sans-Serif\" font-size=\"14.00\">class = not give</text>\n</g>\n<!-- 113&#45;&gt;115 -->\n<g id=\"edge115\" class=\"edge\">\n<title>113&#45;&gt;115</title>\n<path fill=\"none\" stroke=\"black\" d=\"M3015.11,-341.91C3029.68,-329.99 3045.59,-316.98 3060.08,-305.12\"/>\n<polygon fill=\"black\" stroke=\"black\" points=\"3062.44,-307.71 3067.96,-298.67 3058.01,-302.29 3062.44,-307.71\"/>\n</g>\n<!-- 117 -->\n<g id=\"node118\" class=\"node\">\n<title>117</title>\n<path fill=\"#e58139\" stroke=\"black\" d=\"M3164,-417.5C3164,-417.5 3057,-417.5 3057,-417.5 3051,-417.5 3045,-411.5 3045,-405.5 3045,-405.5 3045,-361.5 3045,-361.5 3045,-355.5 3051,-349.5 3057,-349.5 3057,-349.5 3164,-349.5 3164,-349.5 3170,-349.5 3176,-355.5 3176,-361.5 3176,-361.5 3176,-405.5 3176,-405.5 3176,-411.5 3170,-417.5 3164,-417.5\"/>\n<text text-anchor=\"start\" x=\"3075.5\" y=\"-402.3\" font-family=\"Helvetica,sans-Serif\" font-size=\"14.00\">gini = 0.0</text>\n<text text-anchor=\"start\" x=\"3062\" y=\"-387.3\" font-family=\"Helvetica,sans-Serif\" font-size=\"14.00\">samples = 86</text>\n<text text-anchor=\"start\" x=\"3053\" y=\"-372.3\" font-family=\"Helvetica,sans-Serif\" font-size=\"14.00\">value = [135, 0]</text>\n<text text-anchor=\"start\" x=\"3068\" y=\"-357.3\" font-family=\"Helvetica,sans-Serif\" font-size=\"14.00\">class = give</text>\n</g>\n<!-- 116&#45;&gt;117 -->\n<g id=\"edge117\" class=\"edge\">\n<title>116&#45;&gt;117</title>\n<path fill=\"none\" stroke=\"black\" d=\"M3110.5,-460.91C3110.5,-450.2 3110.5,-438.62 3110.5,-427.78\"/>\n<polygon fill=\"black\" stroke=\"black\" points=\"3114,-427.67 3110.5,-417.67 3107,-427.67 3114,-427.67\"/>\n</g>\n<!-- 118 -->\n<g id=\"node119\" class=\"node\">\n<title>118</title>\n<path fill=\"#e78d4c\" stroke=\"black\" d=\"M3318.5,-425C3318.5,-425 3206.5,-425 3206.5,-425 3200.5,-425 3194.5,-419 3194.5,-413 3194.5,-413 3194.5,-354 3194.5,-354 3194.5,-348 3200.5,-342 3206.5,-342 3206.5,-342 3318.5,-342 3318.5,-342 3324.5,-342 3330.5,-348 3330.5,-354 3330.5,-354 3330.5,-413 3330.5,-413 3330.5,-419 3324.5,-425 3318.5,-425\"/>\n<text text-anchor=\"start\" x=\"3202.5\" y=\"-409.8\" font-family=\"Helvetica,sans-Serif\" font-size=\"14.00\">credit_card ≤ 0.5</text>\n<text text-anchor=\"start\" x=\"3218.5\" y=\"-394.8\" font-family=\"Helvetica,sans-Serif\" font-size=\"14.00\">gini = 0.157</text>\n<text text-anchor=\"start\" x=\"3214\" y=\"-379.8\" font-family=\"Helvetica,sans-Serif\" font-size=\"14.00\">samples = 23</text>\n<text text-anchor=\"start\" x=\"3209.5\" y=\"-364.8\" font-family=\"Helvetica,sans-Serif\" font-size=\"14.00\">value = [32, 3]</text>\n<text text-anchor=\"start\" x=\"3220\" y=\"-349.8\" font-family=\"Helvetica,sans-Serif\" font-size=\"14.00\">class = give</text>\n</g>\n<!-- 116&#45;&gt;118 -->\n<g id=\"edge118\" class=\"edge\">\n<title>116&#45;&gt;118</title>\n<path fill=\"none\" stroke=\"black\" d=\"M3163.24,-460.91C3175.62,-451.38 3188.91,-441.15 3201.61,-431.37\"/>\n<polygon fill=\"black\" stroke=\"black\" points=\"3204.07,-433.89 3209.86,-425.02 3199.8,-428.35 3204.07,-433.89\"/>\n</g>\n<!-- 119 -->\n<g id=\"node120\" class=\"node\">\n<title>119</title>\n<path fill=\"#e58139\" stroke=\"black\" d=\"M3305.5,-298.5C3305.5,-298.5 3207.5,-298.5 3207.5,-298.5 3201.5,-298.5 3195.5,-292.5 3195.5,-286.5 3195.5,-286.5 3195.5,-242.5 3195.5,-242.5 3195.5,-236.5 3201.5,-230.5 3207.5,-230.5 3207.5,-230.5 3305.5,-230.5 3305.5,-230.5 3311.5,-230.5 3317.5,-236.5 3317.5,-242.5 3317.5,-242.5 3317.5,-286.5 3317.5,-286.5 3317.5,-292.5 3311.5,-298.5 3305.5,-298.5\"/>\n<text text-anchor=\"start\" x=\"3221.5\" y=\"-283.3\" font-family=\"Helvetica,sans-Serif\" font-size=\"14.00\">gini = 0.0</text>\n<text text-anchor=\"start\" x=\"3208\" y=\"-268.3\" font-family=\"Helvetica,sans-Serif\" font-size=\"14.00\">samples = 20</text>\n<text text-anchor=\"start\" x=\"3203.5\" y=\"-253.3\" font-family=\"Helvetica,sans-Serif\" font-size=\"14.00\">value = [30, 0]</text>\n<text text-anchor=\"start\" x=\"3214\" y=\"-238.3\" font-family=\"Helvetica,sans-Serif\" font-size=\"14.00\">class = give</text>\n</g>\n<!-- 118&#45;&gt;119 -->\n<g id=\"edge119\" class=\"edge\">\n<title>118&#45;&gt;119</title>\n<path fill=\"none\" stroke=\"black\" d=\"M3260.42,-341.91C3259.87,-331.2 3259.28,-319.62 3258.72,-308.78\"/>\n<polygon fill=\"black\" stroke=\"black\" points=\"3262.21,-308.47 3258.2,-298.67 3255.22,-308.83 3262.21,-308.47\"/>\n</g>\n<!-- 120 -->\n<g id=\"node121\" class=\"node\">\n<title>120</title>\n<path fill=\"#bddef6\" stroke=\"black\" d=\"M3451.5,-306C3451.5,-306 3347.5,-306 3347.5,-306 3341.5,-306 3335.5,-300 3335.5,-294 3335.5,-294 3335.5,-235 3335.5,-235 3335.5,-229 3341.5,-223 3347.5,-223 3347.5,-223 3451.5,-223 3451.5,-223 3457.5,-223 3463.5,-229 3463.5,-235 3463.5,-235 3463.5,-294 3463.5,-294 3463.5,-300 3457.5,-306 3451.5,-306\"/>\n<text text-anchor=\"start\" x=\"3356\" y=\"-290.8\" font-family=\"Helvetica,sans-Serif\" font-size=\"14.00\">fico ≤ 794.5</text>\n<text text-anchor=\"start\" x=\"3360\" y=\"-275.8\" font-family=\"Helvetica,sans-Serif\" font-size=\"14.00\">gini = 0.48</text>\n<text text-anchor=\"start\" x=\"3355.5\" y=\"-260.8\" font-family=\"Helvetica,sans-Serif\" font-size=\"14.00\">samples = 3</text>\n<text text-anchor=\"start\" x=\"3351\" y=\"-245.8\" font-family=\"Helvetica,sans-Serif\" font-size=\"14.00\">value = [2, 3]</text>\n<text text-anchor=\"start\" x=\"3343.5\" y=\"-230.8\" font-family=\"Helvetica,sans-Serif\" font-size=\"14.00\">class = not give</text>\n</g>\n<!-- 118&#45;&gt;120 -->\n<g id=\"edge120\" class=\"edge\">\n<title>118&#45;&gt;120</title>\n<path fill=\"none\" stroke=\"black\" d=\"M3310.03,-341.91C3321.08,-332.47 3332.94,-322.34 3344.29,-312.65\"/>\n<polygon fill=\"black\" stroke=\"black\" points=\"3346.72,-315.18 3352.05,-306.02 3342.18,-309.85 3346.72,-315.18\"/>\n</g>\n<!-- 121 -->\n<g id=\"node122\" class=\"node\">\n<title>121</title>\n<path fill=\"#7bbeee\" stroke=\"black\" d=\"M3381.5,-187C3381.5,-187 3277.5,-187 3277.5,-187 3271.5,-187 3265.5,-181 3265.5,-175 3265.5,-175 3265.5,-116 3265.5,-116 3265.5,-110 3271.5,-104 3277.5,-104 3277.5,-104 3381.5,-104 3381.5,-104 3387.5,-104 3393.5,-110 3393.5,-116 3393.5,-116 3393.5,-175 3393.5,-175 3393.5,-181 3387.5,-187 3381.5,-187\"/>\n<text text-anchor=\"start\" x=\"3289.5\" y=\"-171.8\" font-family=\"Helvetica,sans-Serif\" font-size=\"14.00\">dti ≤ 21.43</text>\n<text text-anchor=\"start\" x=\"3285.5\" y=\"-156.8\" font-family=\"Helvetica,sans-Serif\" font-size=\"14.00\">gini = 0.375</text>\n<text text-anchor=\"start\" x=\"3285.5\" y=\"-141.8\" font-family=\"Helvetica,sans-Serif\" font-size=\"14.00\">samples = 2</text>\n<text text-anchor=\"start\" x=\"3281\" y=\"-126.8\" font-family=\"Helvetica,sans-Serif\" font-size=\"14.00\">value = [1, 3]</text>\n<text text-anchor=\"start\" x=\"3273.5\" y=\"-111.8\" font-family=\"Helvetica,sans-Serif\" font-size=\"14.00\">class = not give</text>\n</g>\n<!-- 120&#45;&gt;121 -->\n<g id=\"edge121\" class=\"edge\">\n<title>120&#45;&gt;121</title>\n<path fill=\"none\" stroke=\"black\" d=\"M3375.21,-222.91C3369.95,-214.1 3364.32,-204.7 3358.88,-195.61\"/>\n<polygon fill=\"black\" stroke=\"black\" points=\"3361.88,-193.81 3353.74,-187.02 3355.87,-197.4 3361.88,-193.81\"/>\n</g>\n<!-- 124 -->\n<g id=\"node125\" class=\"node\">\n<title>124</title>\n<path fill=\"#e58139\" stroke=\"black\" d=\"M3513,-179.5C3513,-179.5 3424,-179.5 3424,-179.5 3418,-179.5 3412,-173.5 3412,-167.5 3412,-167.5 3412,-123.5 3412,-123.5 3412,-117.5 3418,-111.5 3424,-111.5 3424,-111.5 3513,-111.5 3513,-111.5 3519,-111.5 3525,-117.5 3525,-123.5 3525,-123.5 3525,-167.5 3525,-167.5 3525,-173.5 3519,-179.5 3513,-179.5\"/>\n<text text-anchor=\"start\" x=\"3433.5\" y=\"-164.3\" font-family=\"Helvetica,sans-Serif\" font-size=\"14.00\">gini = 0.0</text>\n<text text-anchor=\"start\" x=\"3424.5\" y=\"-149.3\" font-family=\"Helvetica,sans-Serif\" font-size=\"14.00\">samples = 1</text>\n<text text-anchor=\"start\" x=\"3420\" y=\"-134.3\" font-family=\"Helvetica,sans-Serif\" font-size=\"14.00\">value = [1, 0]</text>\n<text text-anchor=\"start\" x=\"3426\" y=\"-119.3\" font-family=\"Helvetica,sans-Serif\" font-size=\"14.00\">class = give</text>\n</g>\n<!-- 120&#45;&gt;124 -->\n<g id=\"edge124\" class=\"edge\">\n<title>120&#45;&gt;124</title>\n<path fill=\"none\" stroke=\"black\" d=\"M3423.44,-222.91C3430.01,-211.76 3437.15,-199.66 3443.77,-188.44\"/>\n<polygon fill=\"black\" stroke=\"black\" points=\"3446.87,-190.06 3448.94,-179.67 3440.85,-186.5 3446.87,-190.06\"/>\n</g>\n<!-- 122 -->\n<g id=\"node123\" class=\"node\">\n<title>122</title>\n<path fill=\"#e58139\" stroke=\"black\" d=\"M3304,-68C3304,-68 3215,-68 3215,-68 3209,-68 3203,-62 3203,-56 3203,-56 3203,-12 3203,-12 3203,-6 3209,0 3215,0 3215,0 3304,0 3304,0 3310,0 3316,-6 3316,-12 3316,-12 3316,-56 3316,-56 3316,-62 3310,-68 3304,-68\"/>\n<text text-anchor=\"start\" x=\"3224.5\" y=\"-52.8\" font-family=\"Helvetica,sans-Serif\" font-size=\"14.00\">gini = 0.0</text>\n<text text-anchor=\"start\" x=\"3215.5\" y=\"-37.8\" font-family=\"Helvetica,sans-Serif\" font-size=\"14.00\">samples = 1</text>\n<text text-anchor=\"start\" x=\"3211\" y=\"-22.8\" font-family=\"Helvetica,sans-Serif\" font-size=\"14.00\">value = [1, 0]</text>\n<text text-anchor=\"start\" x=\"3217\" y=\"-7.8\" font-family=\"Helvetica,sans-Serif\" font-size=\"14.00\">class = give</text>\n</g>\n<!-- 121&#45;&gt;122 -->\n<g id=\"edge122\" class=\"edge\">\n<title>121&#45;&gt;122</title>\n<path fill=\"none\" stroke=\"black\" d=\"M3303.43,-103.73C3297.84,-94.97 3291.91,-85.7 3286.29,-76.91\"/>\n<polygon fill=\"black\" stroke=\"black\" points=\"3289.12,-74.84 3280.79,-68.3 3283.22,-78.61 3289.12,-74.84\"/>\n</g>\n<!-- 123 -->\n<g id=\"node124\" class=\"node\">\n<title>123</title>\n<path fill=\"#399de5\" stroke=\"black\" d=\"M3450.5,-68C3450.5,-68 3346.5,-68 3346.5,-68 3340.5,-68 3334.5,-62 3334.5,-56 3334.5,-56 3334.5,-12 3334.5,-12 3334.5,-6 3340.5,0 3346.5,0 3346.5,0 3450.5,0 3450.5,0 3456.5,0 3462.5,-6 3462.5,-12 3462.5,-12 3462.5,-56 3462.5,-56 3462.5,-62 3456.5,-68 3450.5,-68\"/>\n<text text-anchor=\"start\" x=\"3363.5\" y=\"-52.8\" font-family=\"Helvetica,sans-Serif\" font-size=\"14.00\">gini = 0.0</text>\n<text text-anchor=\"start\" x=\"3354.5\" y=\"-37.8\" font-family=\"Helvetica,sans-Serif\" font-size=\"14.00\">samples = 1</text>\n<text text-anchor=\"start\" x=\"3350\" y=\"-22.8\" font-family=\"Helvetica,sans-Serif\" font-size=\"14.00\">value = [0, 3]</text>\n<text text-anchor=\"start\" x=\"3342.5\" y=\"-7.8\" font-family=\"Helvetica,sans-Serif\" font-size=\"14.00\">class = not give</text>\n</g>\n<!-- 121&#45;&gt;123 -->\n<g id=\"edge123\" class=\"edge\">\n<title>121&#45;&gt;123</title>\n<path fill=\"none\" stroke=\"black\" d=\"M3355.19,-103.73C3360.71,-94.97 3366.55,-85.7 3372.09,-76.91\"/>\n<polygon fill=\"black\" stroke=\"black\" points=\"3375.15,-78.63 3377.52,-68.3 3369.22,-74.89 3375.15,-78.63\"/>\n</g>\n<!-- 128 -->\n<g id=\"node129\" class=\"node\">\n<title>128</title>\n<path fill=\"#e68641\" stroke=\"black\" d=\"M3013,-1139C3013,-1139 2906,-1139 2906,-1139 2900,-1139 2894,-1133 2894,-1127 2894,-1127 2894,-1068 2894,-1068 2894,-1062 2900,-1056 2906,-1056 2906,-1056 3013,-1056 3013,-1056 3019,-1056 3025,-1062 3025,-1068 3025,-1068 3025,-1127 3025,-1127 3025,-1133 3019,-1139 3013,-1139\"/>\n<text text-anchor=\"start\" x=\"2919.5\" y=\"-1123.8\" font-family=\"Helvetica,sans-Serif\" font-size=\"14.00\">dti ≤ 24.13</text>\n<text text-anchor=\"start\" x=\"2915.5\" y=\"-1108.8\" font-family=\"Helvetica,sans-Serif\" font-size=\"14.00\">gini = 0.078</text>\n<text text-anchor=\"start\" x=\"2911\" y=\"-1093.8\" font-family=\"Helvetica,sans-Serif\" font-size=\"14.00\">samples = 99</text>\n<text text-anchor=\"start\" x=\"2902\" y=\"-1078.8\" font-family=\"Helvetica,sans-Serif\" font-size=\"14.00\">value = [141, 6]</text>\n<text text-anchor=\"start\" x=\"2917\" y=\"-1063.8\" font-family=\"Helvetica,sans-Serif\" font-size=\"14.00\">class = give</text>\n</g>\n<!-- 127&#45;&gt;128 -->\n<g id=\"edge128\" class=\"edge\">\n<title>127&#45;&gt;128</title>\n<path fill=\"none\" stroke=\"black\" d=\"M3007.83,-1174.91C3002.26,-1166.1 2996.31,-1156.7 2990.56,-1147.61\"/>\n<polygon fill=\"black\" stroke=\"black\" points=\"2993.43,-1145.6 2985.13,-1139.02 2987.52,-1149.34 2993.43,-1145.6\"/>\n</g>\n<!-- 137 -->\n<g id=\"node138\" class=\"node\">\n<title>137</title>\n<path fill=\"#48a5e7\" stroke=\"black\" d=\"M3160,-1139C3160,-1139 3055,-1139 3055,-1139 3049,-1139 3043,-1133 3043,-1127 3043,-1127 3043,-1068 3043,-1068 3043,-1062 3049,-1056 3055,-1056 3055,-1056 3160,-1056 3160,-1056 3166,-1056 3172,-1062 3172,-1068 3172,-1068 3172,-1127 3172,-1127 3172,-1133 3166,-1139 3160,-1139\"/>\n<text text-anchor=\"start\" x=\"3051\" y=\"-1123.8\" font-family=\"Helvetica,sans-Serif\" font-size=\"14.00\">revol.util ≤ 4.65</text>\n<text text-anchor=\"start\" x=\"3063.5\" y=\"-1108.8\" font-family=\"Helvetica,sans-Serif\" font-size=\"14.00\">gini = 0.133</text>\n<text text-anchor=\"start\" x=\"3063.5\" y=\"-1093.8\" font-family=\"Helvetica,sans-Serif\" font-size=\"14.00\">samples = 8</text>\n<text text-anchor=\"start\" x=\"3054.5\" y=\"-1078.8\" font-family=\"Helvetica,sans-Serif\" font-size=\"14.00\">value = [1, 13]</text>\n<text text-anchor=\"start\" x=\"3051.5\" y=\"-1063.8\" font-family=\"Helvetica,sans-Serif\" font-size=\"14.00\">class = not give</text>\n</g>\n<!-- 127&#45;&gt;137 -->\n<g id=\"edge137\" class=\"edge\">\n<title>127&#45;&gt;137</title>\n<path fill=\"none\" stroke=\"black\" d=\"M3059.17,-1174.91C3064.74,-1166.1 3070.69,-1156.7 3076.44,-1147.61\"/>\n<polygon fill=\"black\" stroke=\"black\" points=\"3079.48,-1149.34 3081.87,-1139.02 3073.57,-1145.6 3079.48,-1149.34\"/>\n</g>\n<!-- 129 -->\n<g id=\"node130\" class=\"node\">\n<title>129</title>\n<path fill=\"#e5823a\" stroke=\"black\" d=\"M2869.5,-1020C2869.5,-1020 2755.5,-1020 2755.5,-1020 2749.5,-1020 2743.5,-1014 2743.5,-1008 2743.5,-1008 2743.5,-949 2743.5,-949 2743.5,-943 2749.5,-937 2755.5,-937 2755.5,-937 2869.5,-937 2869.5,-937 2875.5,-937 2881.5,-943 2881.5,-949 2881.5,-949 2881.5,-1008 2881.5,-1008 2881.5,-1014 2875.5,-1020 2869.5,-1020\"/>\n<text text-anchor=\"start\" x=\"2751.5\" y=\"-1004.8\" font-family=\"Helvetica,sans-Serif\" font-size=\"14.00\">revol.util ≤ 59.35</text>\n<text text-anchor=\"start\" x=\"2768.5\" y=\"-989.8\" font-family=\"Helvetica,sans-Serif\" font-size=\"14.00\">gini = 0.014</text>\n<text text-anchor=\"start\" x=\"2764\" y=\"-974.8\" font-family=\"Helvetica,sans-Serif\" font-size=\"14.00\">samples = 97</text>\n<text text-anchor=\"start\" x=\"2755\" y=\"-959.8\" font-family=\"Helvetica,sans-Serif\" font-size=\"14.00\">value = [141, 1]</text>\n<text text-anchor=\"start\" x=\"2770\" y=\"-944.8\" font-family=\"Helvetica,sans-Serif\" font-size=\"14.00\">class = give</text>\n</g>\n<!-- 128&#45;&gt;129 -->\n<g id=\"edge129\" class=\"edge\">\n<title>128&#45;&gt;129</title>\n<path fill=\"none\" stroke=\"black\" d=\"M2908.5,-1055.91C2896.53,-1046.38 2883.67,-1036.15 2871.39,-1026.37\"/>\n<polygon fill=\"black\" stroke=\"black\" points=\"2873.41,-1023.51 2863.41,-1020.02 2869.06,-1028.99 2873.41,-1023.51\"/>\n</g>\n<!-- 136 -->\n<g id=\"node137\" class=\"node\">\n<title>136</title>\n<path fill=\"#399de5\" stroke=\"black\" d=\"M3015.5,-1012.5C3015.5,-1012.5 2911.5,-1012.5 2911.5,-1012.5 2905.5,-1012.5 2899.5,-1006.5 2899.5,-1000.5 2899.5,-1000.5 2899.5,-956.5 2899.5,-956.5 2899.5,-950.5 2905.5,-944.5 2911.5,-944.5 2911.5,-944.5 3015.5,-944.5 3015.5,-944.5 3021.5,-944.5 3027.5,-950.5 3027.5,-956.5 3027.5,-956.5 3027.5,-1000.5 3027.5,-1000.5 3027.5,-1006.5 3021.5,-1012.5 3015.5,-1012.5\"/>\n<text text-anchor=\"start\" x=\"2928.5\" y=\"-997.3\" font-family=\"Helvetica,sans-Serif\" font-size=\"14.00\">gini = 0.0</text>\n<text text-anchor=\"start\" x=\"2919.5\" y=\"-982.3\" font-family=\"Helvetica,sans-Serif\" font-size=\"14.00\">samples = 2</text>\n<text text-anchor=\"start\" x=\"2915\" y=\"-967.3\" font-family=\"Helvetica,sans-Serif\" font-size=\"14.00\">value = [0, 5]</text>\n<text text-anchor=\"start\" x=\"2907.5\" y=\"-952.3\" font-family=\"Helvetica,sans-Serif\" font-size=\"14.00\">class = not give</text>\n</g>\n<!-- 128&#45;&gt;136 -->\n<g id=\"edge136\" class=\"edge\">\n<title>128&#45;&gt;136</title>\n<path fill=\"none\" stroke=\"black\" d=\"M2960.89,-1055.91C2961.25,-1045.2 2961.65,-1033.62 2962.02,-1022.78\"/>\n<polygon fill=\"black\" stroke=\"black\" points=\"2965.52,-1022.78 2962.37,-1012.67 2958.53,-1022.54 2965.52,-1022.78\"/>\n</g>\n<!-- 130 -->\n<g id=\"node131\" class=\"node\">\n<title>130</title>\n<path fill=\"#e58139\" stroke=\"black\" d=\"M2865,-893.5C2865,-893.5 2758,-893.5 2758,-893.5 2752,-893.5 2746,-887.5 2746,-881.5 2746,-881.5 2746,-837.5 2746,-837.5 2746,-831.5 2752,-825.5 2758,-825.5 2758,-825.5 2865,-825.5 2865,-825.5 2871,-825.5 2877,-831.5 2877,-837.5 2877,-837.5 2877,-881.5 2877,-881.5 2877,-887.5 2871,-893.5 2865,-893.5\"/>\n<text text-anchor=\"start\" x=\"2776.5\" y=\"-878.3\" font-family=\"Helvetica,sans-Serif\" font-size=\"14.00\">gini = 0.0</text>\n<text text-anchor=\"start\" x=\"2763\" y=\"-863.3\" font-family=\"Helvetica,sans-Serif\" font-size=\"14.00\">samples = 79</text>\n<text text-anchor=\"start\" x=\"2754\" y=\"-848.3\" font-family=\"Helvetica,sans-Serif\" font-size=\"14.00\">value = [116, 0]</text>\n<text text-anchor=\"start\" x=\"2769\" y=\"-833.3\" font-family=\"Helvetica,sans-Serif\" font-size=\"14.00\">class = give</text>\n</g>\n<!-- 129&#45;&gt;130 -->\n<g id=\"edge130\" class=\"edge\">\n<title>129&#45;&gt;130</title>\n<path fill=\"none\" stroke=\"black\" d=\"M2812.15,-936.91C2812.06,-926.2 2811.96,-914.62 2811.87,-903.78\"/>\n<polygon fill=\"black\" stroke=\"black\" points=\"2815.37,-903.64 2811.78,-893.67 2808.37,-903.7 2815.37,-903.64\"/>\n</g>\n<!-- 131 -->\n<g id=\"node132\" class=\"node\">\n<title>131</title>\n<path fill=\"#e68641\" stroke=\"black\" d=\"M3068,-901C3068,-901 2907,-901 2907,-901 2901,-901 2895,-895 2895,-889 2895,-889 2895,-830 2895,-830 2895,-824 2901,-818 2907,-818 2907,-818 3068,-818 3068,-818 3074,-818 3080,-824 3080,-830 3080,-830 3080,-889 3080,-889 3080,-895 3074,-901 3068,-901\"/>\n<text text-anchor=\"start\" x=\"2903\" y=\"-885.8\" font-family=\"Helvetica,sans-Serif\" font-size=\"14.00\">log.annual.inc ≤ 10.767</text>\n<text text-anchor=\"start\" x=\"2943.5\" y=\"-870.8\" font-family=\"Helvetica,sans-Serif\" font-size=\"14.00\">gini = 0.074</text>\n<text text-anchor=\"start\" x=\"2939\" y=\"-855.8\" font-family=\"Helvetica,sans-Serif\" font-size=\"14.00\">samples = 18</text>\n<text text-anchor=\"start\" x=\"2934.5\" y=\"-840.8\" font-family=\"Helvetica,sans-Serif\" font-size=\"14.00\">value = [25, 1]</text>\n<text text-anchor=\"start\" x=\"2945\" y=\"-825.8\" font-family=\"Helvetica,sans-Serif\" font-size=\"14.00\">class = give</text>\n</g>\n<!-- 129&#45;&gt;131 -->\n<g id=\"edge131\" class=\"edge\">\n<title>129&#45;&gt;131</title>\n<path fill=\"none\" stroke=\"black\" d=\"M2873.22,-936.91C2887.74,-927.2 2903.35,-916.76 2918.23,-906.81\"/>\n<polygon fill=\"black\" stroke=\"black\" points=\"2920.52,-909.49 2926.89,-901.02 2916.63,-903.67 2920.52,-909.49\"/>\n</g>\n<!-- 132 -->\n<g id=\"node133\" class=\"node\">\n<title>132</title>\n<path fill=\"#e9965a\" stroke=\"black\" d=\"M3067,-782C3067,-782 2906,-782 2906,-782 2900,-782 2894,-776 2894,-770 2894,-770 2894,-711 2894,-711 2894,-705 2900,-699 2906,-699 2906,-699 3067,-699 3067,-699 3073,-699 3079,-705 3079,-711 3079,-711 3079,-770 3079,-770 3079,-776 3073,-782 3067,-782\"/>\n<text text-anchor=\"start\" x=\"2902\" y=\"-766.8\" font-family=\"Helvetica,sans-Serif\" font-size=\"14.00\">log.annual.inc ≤ 10.676</text>\n<text text-anchor=\"start\" x=\"2942.5\" y=\"-751.8\" font-family=\"Helvetica,sans-Serif\" font-size=\"14.00\">gini = 0.245</text>\n<text text-anchor=\"start\" x=\"2942.5\" y=\"-736.8\" font-family=\"Helvetica,sans-Serif\" font-size=\"14.00\">samples = 6</text>\n<text text-anchor=\"start\" x=\"2938\" y=\"-721.8\" font-family=\"Helvetica,sans-Serif\" font-size=\"14.00\">value = [6, 1]</text>\n<text text-anchor=\"start\" x=\"2944\" y=\"-706.8\" font-family=\"Helvetica,sans-Serif\" font-size=\"14.00\">class = give</text>\n</g>\n<!-- 131&#45;&gt;132 -->\n<g id=\"edge132\" class=\"edge\">\n<title>131&#45;&gt;132</title>\n<path fill=\"none\" stroke=\"black\" d=\"M2987.15,-817.91C2987.08,-809.65 2987.01,-800.86 2986.93,-792.3\"/>\n<polygon fill=\"black\" stroke=\"black\" points=\"2990.43,-791.99 2986.85,-782.02 2983.43,-792.05 2990.43,-791.99\"/>\n</g>\n<!-- 135 -->\n<g id=\"node136\" class=\"node\">\n<title>135</title>\n<path fill=\"#e58139\" stroke=\"black\" d=\"M3207.5,-774.5C3207.5,-774.5 3109.5,-774.5 3109.5,-774.5 3103.5,-774.5 3097.5,-768.5 3097.5,-762.5 3097.5,-762.5 3097.5,-718.5 3097.5,-718.5 3097.5,-712.5 3103.5,-706.5 3109.5,-706.5 3109.5,-706.5 3207.5,-706.5 3207.5,-706.5 3213.5,-706.5 3219.5,-712.5 3219.5,-718.5 3219.5,-718.5 3219.5,-762.5 3219.5,-762.5 3219.5,-768.5 3213.5,-774.5 3207.5,-774.5\"/>\n<text text-anchor=\"start\" x=\"3123.5\" y=\"-759.3\" font-family=\"Helvetica,sans-Serif\" font-size=\"14.00\">gini = 0.0</text>\n<text text-anchor=\"start\" x=\"3110\" y=\"-744.3\" font-family=\"Helvetica,sans-Serif\" font-size=\"14.00\">samples = 12</text>\n<text text-anchor=\"start\" x=\"3105.5\" y=\"-729.3\" font-family=\"Helvetica,sans-Serif\" font-size=\"14.00\">value = [19, 0]</text>\n<text text-anchor=\"start\" x=\"3116\" y=\"-714.3\" font-family=\"Helvetica,sans-Serif\" font-size=\"14.00\">class = give</text>\n</g>\n<!-- 131&#45;&gt;135 -->\n<g id=\"edge135\" class=\"edge\">\n<title>131&#45;&gt;135</title>\n<path fill=\"none\" stroke=\"black\" d=\"M3046.83,-817.91C3064.57,-805.77 3083.97,-792.49 3101.55,-780.46\"/>\n<polygon fill=\"black\" stroke=\"black\" points=\"3103.75,-783.2 3110.03,-774.67 3099.8,-777.43 3103.75,-783.2\"/>\n</g>\n<!-- 133 -->\n<g id=\"node134\" class=\"node\">\n<title>133</title>\n<path fill=\"#e58139\" stroke=\"black\" d=\"M3031,-655.5C3031,-655.5 2942,-655.5 2942,-655.5 2936,-655.5 2930,-649.5 2930,-643.5 2930,-643.5 2930,-599.5 2930,-599.5 2930,-593.5 2936,-587.5 2942,-587.5 2942,-587.5 3031,-587.5 3031,-587.5 3037,-587.5 3043,-593.5 3043,-599.5 3043,-599.5 3043,-643.5 3043,-643.5 3043,-649.5 3037,-655.5 3031,-655.5\"/>\n<text text-anchor=\"start\" x=\"2951.5\" y=\"-640.3\" font-family=\"Helvetica,sans-Serif\" font-size=\"14.00\">gini = 0.0</text>\n<text text-anchor=\"start\" x=\"2942.5\" y=\"-625.3\" font-family=\"Helvetica,sans-Serif\" font-size=\"14.00\">samples = 5</text>\n<text text-anchor=\"start\" x=\"2938\" y=\"-610.3\" font-family=\"Helvetica,sans-Serif\" font-size=\"14.00\">value = [6, 0]</text>\n<text text-anchor=\"start\" x=\"2944\" y=\"-595.3\" font-family=\"Helvetica,sans-Serif\" font-size=\"14.00\">class = give</text>\n</g>\n<!-- 132&#45;&gt;133 -->\n<g id=\"edge133\" class=\"edge\">\n<title>132&#45;&gt;133</title>\n<path fill=\"none\" stroke=\"black\" d=\"M2986.5,-698.91C2986.5,-688.2 2986.5,-676.62 2986.5,-665.78\"/>\n<polygon fill=\"black\" stroke=\"black\" points=\"2990,-665.67 2986.5,-655.67 2983,-665.67 2990,-665.67\"/>\n</g>\n<!-- 134 -->\n<g id=\"node135\" class=\"node\">\n<title>134</title>\n<path fill=\"#399de5\" stroke=\"black\" d=\"M3177.5,-655.5C3177.5,-655.5 3073.5,-655.5 3073.5,-655.5 3067.5,-655.5 3061.5,-649.5 3061.5,-643.5 3061.5,-643.5 3061.5,-599.5 3061.5,-599.5 3061.5,-593.5 3067.5,-587.5 3073.5,-587.5 3073.5,-587.5 3177.5,-587.5 3177.5,-587.5 3183.5,-587.5 3189.5,-593.5 3189.5,-599.5 3189.5,-599.5 3189.5,-643.5 3189.5,-643.5 3189.5,-649.5 3183.5,-655.5 3177.5,-655.5\"/>\n<text text-anchor=\"start\" x=\"3090.5\" y=\"-640.3\" font-family=\"Helvetica,sans-Serif\" font-size=\"14.00\">gini = 0.0</text>\n<text text-anchor=\"start\" x=\"3081.5\" y=\"-625.3\" font-family=\"Helvetica,sans-Serif\" font-size=\"14.00\">samples = 1</text>\n<text text-anchor=\"start\" x=\"3077\" y=\"-610.3\" font-family=\"Helvetica,sans-Serif\" font-size=\"14.00\">value = [0, 1]</text>\n<text text-anchor=\"start\" x=\"3069.5\" y=\"-595.3\" font-family=\"Helvetica,sans-Serif\" font-size=\"14.00\">class = not give</text>\n</g>\n<!-- 132&#45;&gt;134 -->\n<g id=\"edge134\" class=\"edge\">\n<title>132&#45;&gt;134</title>\n<path fill=\"none\" stroke=\"black\" d=\"M3034.73,-698.91C3048.88,-686.99 3064.35,-673.98 3078.43,-662.12\"/>\n<polygon fill=\"black\" stroke=\"black\" points=\"3080.7,-664.78 3086.1,-655.67 3076.19,-659.43 3080.7,-664.78\"/>\n</g>\n<!-- 138 -->\n<g id=\"node139\" class=\"node\">\n<title>138</title>\n<path fill=\"#e58139\" stroke=\"black\" d=\"M3147,-1012.5C3147,-1012.5 3058,-1012.5 3058,-1012.5 3052,-1012.5 3046,-1006.5 3046,-1000.5 3046,-1000.5 3046,-956.5 3046,-956.5 3046,-950.5 3052,-944.5 3058,-944.5 3058,-944.5 3147,-944.5 3147,-944.5 3153,-944.5 3159,-950.5 3159,-956.5 3159,-956.5 3159,-1000.5 3159,-1000.5 3159,-1006.5 3153,-1012.5 3147,-1012.5\"/>\n<text text-anchor=\"start\" x=\"3067.5\" y=\"-997.3\" font-family=\"Helvetica,sans-Serif\" font-size=\"14.00\">gini = 0.0</text>\n<text text-anchor=\"start\" x=\"3058.5\" y=\"-982.3\" font-family=\"Helvetica,sans-Serif\" font-size=\"14.00\">samples = 1</text>\n<text text-anchor=\"start\" x=\"3054\" y=\"-967.3\" font-family=\"Helvetica,sans-Serif\" font-size=\"14.00\">value = [1, 0]</text>\n<text text-anchor=\"start\" x=\"3060\" y=\"-952.3\" font-family=\"Helvetica,sans-Serif\" font-size=\"14.00\">class = give</text>\n</g>\n<!-- 137&#45;&gt;138 -->\n<g id=\"edge138\" class=\"edge\">\n<title>137&#45;&gt;138</title>\n<path fill=\"none\" stroke=\"black\" d=\"M3105.77,-1055.91C3105.31,-1045.2 3104.81,-1033.62 3104.35,-1022.78\"/>\n<polygon fill=\"black\" stroke=\"black\" points=\"3107.84,-1022.51 3103.92,-1012.67 3100.85,-1022.81 3107.84,-1022.51\"/>\n</g>\n<!-- 139 -->\n<g id=\"node140\" class=\"node\">\n<title>139</title>\n<path fill=\"#399de5\" stroke=\"black\" d=\"M3293.5,-1012.5C3293.5,-1012.5 3189.5,-1012.5 3189.5,-1012.5 3183.5,-1012.5 3177.5,-1006.5 3177.5,-1000.5 3177.5,-1000.5 3177.5,-956.5 3177.5,-956.5 3177.5,-950.5 3183.5,-944.5 3189.5,-944.5 3189.5,-944.5 3293.5,-944.5 3293.5,-944.5 3299.5,-944.5 3305.5,-950.5 3305.5,-956.5 3305.5,-956.5 3305.5,-1000.5 3305.5,-1000.5 3305.5,-1006.5 3299.5,-1012.5 3293.5,-1012.5\"/>\n<text text-anchor=\"start\" x=\"3206.5\" y=\"-997.3\" font-family=\"Helvetica,sans-Serif\" font-size=\"14.00\">gini = 0.0</text>\n<text text-anchor=\"start\" x=\"3197.5\" y=\"-982.3\" font-family=\"Helvetica,sans-Serif\" font-size=\"14.00\">samples = 7</text>\n<text text-anchor=\"start\" x=\"3188.5\" y=\"-967.3\" font-family=\"Helvetica,sans-Serif\" font-size=\"14.00\">value = [0, 13]</text>\n<text text-anchor=\"start\" x=\"3185.5\" y=\"-952.3\" font-family=\"Helvetica,sans-Serif\" font-size=\"14.00\">class = not give</text>\n</g>\n<!-- 137&#45;&gt;139 -->\n<g id=\"edge139\" class=\"edge\">\n<title>137&#45;&gt;139</title>\n<path fill=\"none\" stroke=\"black\" d=\"M3153.99,-1055.91C3167.51,-1044.1 3182.27,-1031.22 3195.75,-1019.45\"/>\n<polygon fill=\"black\" stroke=\"black\" points=\"3198.28,-1021.88 3203.51,-1012.67 3193.68,-1016.61 3198.28,-1021.88\"/>\n</g>\n<!-- 141 -->\n<g id=\"node142\" class=\"node\">\n<title>141</title>\n<path fill=\"#e78946\" stroke=\"black\" d=\"M3853.5,-1258C3853.5,-1258 3755.5,-1258 3755.5,-1258 3749.5,-1258 3743.5,-1252 3743.5,-1246 3743.5,-1246 3743.5,-1187 3743.5,-1187 3743.5,-1181 3749.5,-1175 3755.5,-1175 3755.5,-1175 3853.5,-1175 3853.5,-1175 3859.5,-1175 3865.5,-1181 3865.5,-1187 3865.5,-1187 3865.5,-1246 3865.5,-1246 3865.5,-1252 3859.5,-1258 3853.5,-1258\"/>\n<text text-anchor=\"start\" x=\"3756\" y=\"-1242.8\" font-family=\"Helvetica,sans-Serif\" font-size=\"14.00\">pub.rec ≤ 0.5</text>\n<text text-anchor=\"start\" x=\"3760.5\" y=\"-1227.8\" font-family=\"Helvetica,sans-Serif\" font-size=\"14.00\">gini = 0.115</text>\n<text text-anchor=\"start\" x=\"3756\" y=\"-1212.8\" font-family=\"Helvetica,sans-Serif\" font-size=\"14.00\">samples = 33</text>\n<text text-anchor=\"start\" x=\"3751.5\" y=\"-1197.8\" font-family=\"Helvetica,sans-Serif\" font-size=\"14.00\">value = [46, 3]</text>\n<text text-anchor=\"start\" x=\"3762\" y=\"-1182.8\" font-family=\"Helvetica,sans-Serif\" font-size=\"14.00\">class = give</text>\n</g>\n<!-- 140&#45;&gt;141 -->\n<g id=\"edge141\" class=\"edge\">\n<title>140&#45;&gt;141</title>\n<path fill=\"none\" stroke=\"black\" d=\"M3902.46,-1293.91C3890.24,-1284.38 3877.13,-1274.15 3864.59,-1264.37\"/>\n<polygon fill=\"black\" stroke=\"black\" points=\"3866.49,-1261.41 3856.45,-1258.02 3862.18,-1266.93 3866.49,-1261.41\"/>\n</g>\n<!-- 152 -->\n<g id=\"node153\" class=\"node\">\n<title>152</title>\n<path fill=\"#edaa79\" stroke=\"black\" d=\"M4106,-1258C4106,-1258 3999,-1258 3999,-1258 3993,-1258 3987,-1252 3987,-1246 3987,-1246 3987,-1187 3987,-1187 3987,-1181 3993,-1175 3999,-1175 3999,-1175 4106,-1175 4106,-1175 4112,-1175 4118,-1181 4118,-1187 4118,-1187 4118,-1246 4118,-1246 4118,-1252 4112,-1258 4106,-1258\"/>\n<text text-anchor=\"start\" x=\"3996.5\" y=\"-1242.8\" font-family=\"Helvetica,sans-Serif\" font-size=\"14.00\">int.rate ≤ 0.174</text>\n<text text-anchor=\"start\" x=\"4013\" y=\"-1227.8\" font-family=\"Helvetica,sans-Serif\" font-size=\"14.00\">gini = 0.37</text>\n<text text-anchor=\"start\" x=\"4004\" y=\"-1212.8\" font-family=\"Helvetica,sans-Serif\" font-size=\"14.00\">samples = 28</text>\n<text text-anchor=\"start\" x=\"3995\" y=\"-1197.8\" font-family=\"Helvetica,sans-Serif\" font-size=\"14.00\">value = [37, 12]</text>\n<text text-anchor=\"start\" x=\"4010\" y=\"-1182.8\" font-family=\"Helvetica,sans-Serif\" font-size=\"14.00\">class = give</text>\n</g>\n<!-- 140&#45;&gt;152 -->\n<g id=\"edge152\" class=\"edge\">\n<title>140&#45;&gt;152</title>\n<path fill=\"none\" stroke=\"black\" d=\"M3988.5,-1293.91C3996.1,-1284.83 4004.24,-1275.12 4012.07,-1265.77\"/>\n<polygon fill=\"black\" stroke=\"black\" points=\"4014.82,-1267.93 4018.56,-1258.02 4009.46,-1263.44 4014.82,-1267.93\"/>\n</g>\n<!-- 142 -->\n<g id=\"node143\" class=\"node\">\n<title>142</title>\n<path fill=\"#e68742\" stroke=\"black\" d=\"M3622,-1139C3622,-1139 3491,-1139 3491,-1139 3485,-1139 3479,-1133 3479,-1127 3479,-1127 3479,-1068 3479,-1068 3479,-1062 3485,-1056 3491,-1056 3491,-1056 3622,-1056 3622,-1056 3628,-1056 3634,-1062 3634,-1068 3634,-1068 3634,-1127 3634,-1127 3634,-1133 3628,-1139 3622,-1139\"/>\n<text text-anchor=\"start\" x=\"3487\" y=\"-1123.8\" font-family=\"Helvetica,sans-Serif\" font-size=\"14.00\">installment ≤ 57.82</text>\n<text text-anchor=\"start\" x=\"3512.5\" y=\"-1108.8\" font-family=\"Helvetica,sans-Serif\" font-size=\"14.00\">gini = 0.085</text>\n<text text-anchor=\"start\" x=\"3508\" y=\"-1093.8\" font-family=\"Helvetica,sans-Serif\" font-size=\"14.00\">samples = 30</text>\n<text text-anchor=\"start\" x=\"3503.5\" y=\"-1078.8\" font-family=\"Helvetica,sans-Serif\" font-size=\"14.00\">value = [43, 2]</text>\n<text text-anchor=\"start\" x=\"3514\" y=\"-1063.8\" font-family=\"Helvetica,sans-Serif\" font-size=\"14.00\">class = give</text>\n</g>\n<!-- 141&#45;&gt;142 -->\n<g id=\"edge142\" class=\"edge\">\n<title>141&#45;&gt;142</title>\n<path fill=\"none\" stroke=\"black\" d=\"M3743.2,-1186.58C3713.17,-1172.41 3676.49,-1155.11 3643.62,-1139.6\"/>\n<polygon fill=\"black\" stroke=\"black\" points=\"3644.99,-1136.38 3634.46,-1135.28 3642.01,-1142.71 3644.99,-1136.38\"/>\n</g>\n<!-- 149 -->\n<g id=\"node150\" class=\"node\">\n<title>149</title>\n<path fill=\"#eeab7b\" stroke=\"black\" d=\"M3892.5,-1139C3892.5,-1139 3716.5,-1139 3716.5,-1139 3710.5,-1139 3704.5,-1133 3704.5,-1127 3704.5,-1127 3704.5,-1068 3704.5,-1068 3704.5,-1062 3710.5,-1056 3716.5,-1056 3716.5,-1056 3892.5,-1056 3892.5,-1056 3898.5,-1056 3904.5,-1062 3904.5,-1068 3904.5,-1068 3904.5,-1127 3904.5,-1127 3904.5,-1133 3898.5,-1139 3892.5,-1139\"/>\n<text text-anchor=\"start\" x=\"3712.5\" y=\"-1123.8\" font-family=\"Helvetica,sans-Serif\" font-size=\"14.00\">days.with.cr.line ≤ 5850.0</text>\n<text text-anchor=\"start\" x=\"3760.5\" y=\"-1108.8\" font-family=\"Helvetica,sans-Serif\" font-size=\"14.00\">gini = 0.375</text>\n<text text-anchor=\"start\" x=\"3760.5\" y=\"-1093.8\" font-family=\"Helvetica,sans-Serif\" font-size=\"14.00\">samples = 3</text>\n<text text-anchor=\"start\" x=\"3756\" y=\"-1078.8\" font-family=\"Helvetica,sans-Serif\" font-size=\"14.00\">value = [3, 1]</text>\n<text text-anchor=\"start\" x=\"3762\" y=\"-1063.8\" font-family=\"Helvetica,sans-Serif\" font-size=\"14.00\">class = give</text>\n</g>\n<!-- 141&#45;&gt;149 -->\n<g id=\"edge149\" class=\"edge\">\n<title>141&#45;&gt;149</title>\n<path fill=\"none\" stroke=\"black\" d=\"M3804.5,-1174.91C3804.5,-1166.65 3804.5,-1157.86 3804.5,-1149.3\"/>\n<polygon fill=\"black\" stroke=\"black\" points=\"3808,-1149.02 3804.5,-1139.02 3801,-1149.02 3808,-1149.02\"/>\n</g>\n<!-- 143 -->\n<g id=\"node144\" class=\"node\">\n<title>143</title>\n<path fill=\"#399de5\" stroke=\"black\" d=\"M3439.5,-1012.5C3439.5,-1012.5 3335.5,-1012.5 3335.5,-1012.5 3329.5,-1012.5 3323.5,-1006.5 3323.5,-1000.5 3323.5,-1000.5 3323.5,-956.5 3323.5,-956.5 3323.5,-950.5 3329.5,-944.5 3335.5,-944.5 3335.5,-944.5 3439.5,-944.5 3439.5,-944.5 3445.5,-944.5 3451.5,-950.5 3451.5,-956.5 3451.5,-956.5 3451.5,-1000.5 3451.5,-1000.5 3451.5,-1006.5 3445.5,-1012.5 3439.5,-1012.5\"/>\n<text text-anchor=\"start\" x=\"3352.5\" y=\"-997.3\" font-family=\"Helvetica,sans-Serif\" font-size=\"14.00\">gini = 0.0</text>\n<text text-anchor=\"start\" x=\"3343.5\" y=\"-982.3\" font-family=\"Helvetica,sans-Serif\" font-size=\"14.00\">samples = 1</text>\n<text text-anchor=\"start\" x=\"3339\" y=\"-967.3\" font-family=\"Helvetica,sans-Serif\" font-size=\"14.00\">value = [0, 1]</text>\n<text text-anchor=\"start\" x=\"3331.5\" y=\"-952.3\" font-family=\"Helvetica,sans-Serif\" font-size=\"14.00\">class = not give</text>\n</g>\n<!-- 142&#45;&gt;143 -->\n<g id=\"edge143\" class=\"edge\">\n<title>142&#45;&gt;143</title>\n<path fill=\"none\" stroke=\"black\" d=\"M3497.87,-1055.91C3480.33,-1043.77 3461.16,-1030.49 3443.78,-1018.46\"/>\n<polygon fill=\"black\" stroke=\"black\" points=\"3445.62,-1015.48 3435.41,-1012.67 3441.64,-1021.24 3445.62,-1015.48\"/>\n</g>\n<!-- 144 -->\n<g id=\"node145\" class=\"node\">\n<title>144</title>\n<path fill=\"#e6843e\" stroke=\"black\" d=\"M3631,-1020C3631,-1020 3482,-1020 3482,-1020 3476,-1020 3470,-1014 3470,-1008 3470,-1008 3470,-949 3470,-949 3470,-943 3476,-937 3482,-937 3482,-937 3631,-937 3631,-937 3637,-937 3643,-943 3643,-949 3643,-949 3643,-1008 3643,-1008 3643,-1014 3637,-1020 3631,-1020\"/>\n<text text-anchor=\"start\" x=\"3478\" y=\"-1004.8\" font-family=\"Helvetica,sans-Serif\" font-size=\"14.00\">installment ≤ 166.325</text>\n<text text-anchor=\"start\" x=\"3512.5\" y=\"-989.8\" font-family=\"Helvetica,sans-Serif\" font-size=\"14.00\">gini = 0.044</text>\n<text text-anchor=\"start\" x=\"3508\" y=\"-974.8\" font-family=\"Helvetica,sans-Serif\" font-size=\"14.00\">samples = 29</text>\n<text text-anchor=\"start\" x=\"3503.5\" y=\"-959.8\" font-family=\"Helvetica,sans-Serif\" font-size=\"14.00\">value = [43, 1]</text>\n<text text-anchor=\"start\" x=\"3514\" y=\"-944.8\" font-family=\"Helvetica,sans-Serif\" font-size=\"14.00\">class = give</text>\n</g>\n<!-- 142&#45;&gt;144 -->\n<g id=\"edge144\" class=\"edge\">\n<title>142&#45;&gt;144</title>\n<path fill=\"none\" stroke=\"black\" d=\"M3556.5,-1055.91C3556.5,-1047.65 3556.5,-1038.86 3556.5,-1030.3\"/>\n<polygon fill=\"black\" stroke=\"black\" points=\"3560,-1030.02 3556.5,-1020.02 3553,-1030.02 3560,-1030.02\"/>\n</g>\n<!-- 145 -->\n<g id=\"node146\" class=\"node\">\n<title>145</title>\n<path fill=\"#e89152\" stroke=\"black\" d=\"M3545.5,-901C3545.5,-901 3405.5,-901 3405.5,-901 3399.5,-901 3393.5,-895 3393.5,-889 3393.5,-889 3393.5,-830 3393.5,-830 3393.5,-824 3399.5,-818 3405.5,-818 3405.5,-818 3545.5,-818 3545.5,-818 3551.5,-818 3557.5,-824 3557.5,-830 3557.5,-830 3557.5,-889 3557.5,-889 3557.5,-895 3551.5,-901 3545.5,-901\"/>\n<text text-anchor=\"start\" x=\"3401.5\" y=\"-885.8\" font-family=\"Helvetica,sans-Serif\" font-size=\"14.00\">installment ≤ 144.26</text>\n<text text-anchor=\"start\" x=\"3431.5\" y=\"-870.8\" font-family=\"Helvetica,sans-Serif\" font-size=\"14.00\">gini = 0.198</text>\n<text text-anchor=\"start\" x=\"3431.5\" y=\"-855.8\" font-family=\"Helvetica,sans-Serif\" font-size=\"14.00\">samples = 5</text>\n<text text-anchor=\"start\" x=\"3427\" y=\"-840.8\" font-family=\"Helvetica,sans-Serif\" font-size=\"14.00\">value = [8, 1]</text>\n<text text-anchor=\"start\" x=\"3433\" y=\"-825.8\" font-family=\"Helvetica,sans-Serif\" font-size=\"14.00\">class = give</text>\n</g>\n<!-- 144&#45;&gt;145 -->\n<g id=\"edge145\" class=\"edge\">\n<title>144&#45;&gt;145</title>\n<path fill=\"none\" stroke=\"black\" d=\"M3528.4,-936.91C3522.24,-928.01 3515.66,-918.51 3509.31,-909.33\"/>\n<polygon fill=\"black\" stroke=\"black\" points=\"3512.12,-907.25 3503.55,-901.02 3506.37,-911.24 3512.12,-907.25\"/>\n</g>\n<!-- 148 -->\n<g id=\"node149\" class=\"node\">\n<title>148</title>\n<path fill=\"#e58139\" stroke=\"black\" d=\"M3685.5,-893.5C3685.5,-893.5 3587.5,-893.5 3587.5,-893.5 3581.5,-893.5 3575.5,-887.5 3575.5,-881.5 3575.5,-881.5 3575.5,-837.5 3575.5,-837.5 3575.5,-831.5 3581.5,-825.5 3587.5,-825.5 3587.5,-825.5 3685.5,-825.5 3685.5,-825.5 3691.5,-825.5 3697.5,-831.5 3697.5,-837.5 3697.5,-837.5 3697.5,-881.5 3697.5,-881.5 3697.5,-887.5 3691.5,-893.5 3685.5,-893.5\"/>\n<text text-anchor=\"start\" x=\"3601.5\" y=\"-878.3\" font-family=\"Helvetica,sans-Serif\" font-size=\"14.00\">gini = 0.0</text>\n<text text-anchor=\"start\" x=\"3588\" y=\"-863.3\" font-family=\"Helvetica,sans-Serif\" font-size=\"14.00\">samples = 24</text>\n<text text-anchor=\"start\" x=\"3583.5\" y=\"-848.3\" font-family=\"Helvetica,sans-Serif\" font-size=\"14.00\">value = [35, 0]</text>\n<text text-anchor=\"start\" x=\"3594\" y=\"-833.3\" font-family=\"Helvetica,sans-Serif\" font-size=\"14.00\">class = give</text>\n</g>\n<!-- 144&#45;&gt;148 -->\n<g id=\"edge148\" class=\"edge\">\n<title>144&#45;&gt;148</title>\n<path fill=\"none\" stroke=\"black\" d=\"M3584.26,-936.91C3591.95,-925.65 3600.32,-913.42 3608.05,-902.11\"/>\n<polygon fill=\"black\" stroke=\"black\" points=\"3611.07,-903.9 3613.82,-893.67 3605.29,-899.95 3611.07,-903.9\"/>\n</g>\n<!-- 146 -->\n<g id=\"node147\" class=\"node\">\n<title>146</title>\n<path fill=\"#e58139\" stroke=\"black\" d=\"M3471,-774.5C3471,-774.5 3382,-774.5 3382,-774.5 3376,-774.5 3370,-768.5 3370,-762.5 3370,-762.5 3370,-718.5 3370,-718.5 3370,-712.5 3376,-706.5 3382,-706.5 3382,-706.5 3471,-706.5 3471,-706.5 3477,-706.5 3483,-712.5 3483,-718.5 3483,-718.5 3483,-762.5 3483,-762.5 3483,-768.5 3477,-774.5 3471,-774.5\"/>\n<text text-anchor=\"start\" x=\"3391.5\" y=\"-759.3\" font-family=\"Helvetica,sans-Serif\" font-size=\"14.00\">gini = 0.0</text>\n<text text-anchor=\"start\" x=\"3382.5\" y=\"-744.3\" font-family=\"Helvetica,sans-Serif\" font-size=\"14.00\">samples = 4</text>\n<text text-anchor=\"start\" x=\"3378\" y=\"-729.3\" font-family=\"Helvetica,sans-Serif\" font-size=\"14.00\">value = [8, 0]</text>\n<text text-anchor=\"start\" x=\"3384\" y=\"-714.3\" font-family=\"Helvetica,sans-Serif\" font-size=\"14.00\">class = give</text>\n</g>\n<!-- 145&#45;&gt;146 -->\n<g id=\"edge146\" class=\"edge\">\n<title>145&#45;&gt;146</title>\n<path fill=\"none\" stroke=\"black\" d=\"M3458.5,-817.91C3453.92,-806.98 3448.96,-795.14 3444.34,-784.11\"/>\n<polygon fill=\"black\" stroke=\"black\" points=\"3447.48,-782.54 3440.39,-774.67 3441.03,-785.24 3447.48,-782.54\"/>\n</g>\n<!-- 147 -->\n<g id=\"node148\" class=\"node\">\n<title>147</title>\n<path fill=\"#399de5\" stroke=\"black\" d=\"M3617.5,-774.5C3617.5,-774.5 3513.5,-774.5 3513.5,-774.5 3507.5,-774.5 3501.5,-768.5 3501.5,-762.5 3501.5,-762.5 3501.5,-718.5 3501.5,-718.5 3501.5,-712.5 3507.5,-706.5 3513.5,-706.5 3513.5,-706.5 3617.5,-706.5 3617.5,-706.5 3623.5,-706.5 3629.5,-712.5 3629.5,-718.5 3629.5,-718.5 3629.5,-762.5 3629.5,-762.5 3629.5,-768.5 3623.5,-774.5 3617.5,-774.5\"/>\n<text text-anchor=\"start\" x=\"3530.5\" y=\"-759.3\" font-family=\"Helvetica,sans-Serif\" font-size=\"14.00\">gini = 0.0</text>\n<text text-anchor=\"start\" x=\"3521.5\" y=\"-744.3\" font-family=\"Helvetica,sans-Serif\" font-size=\"14.00\">samples = 1</text>\n<text text-anchor=\"start\" x=\"3517\" y=\"-729.3\" font-family=\"Helvetica,sans-Serif\" font-size=\"14.00\">value = [0, 1]</text>\n<text text-anchor=\"start\" x=\"3509.5\" y=\"-714.3\" font-family=\"Helvetica,sans-Serif\" font-size=\"14.00\">class = not give</text>\n</g>\n<!-- 145&#45;&gt;147 -->\n<g id=\"edge147\" class=\"edge\">\n<title>145&#45;&gt;147</title>\n<path fill=\"none\" stroke=\"black\" d=\"M3506.73,-817.91C3515.47,-806.54 3524.98,-794.18 3533.75,-782.77\"/>\n<polygon fill=\"black\" stroke=\"black\" points=\"3536.66,-784.73 3539.99,-774.67 3531.12,-780.46 3536.66,-784.73\"/>\n</g>\n<!-- 150 -->\n<g id=\"node151\" class=\"node\">\n<title>150</title>\n<path fill=\"#e58139\" stroke=\"black\" d=\"M3762,-1012.5C3762,-1012.5 3673,-1012.5 3673,-1012.5 3667,-1012.5 3661,-1006.5 3661,-1000.5 3661,-1000.5 3661,-956.5 3661,-956.5 3661,-950.5 3667,-944.5 3673,-944.5 3673,-944.5 3762,-944.5 3762,-944.5 3768,-944.5 3774,-950.5 3774,-956.5 3774,-956.5 3774,-1000.5 3774,-1000.5 3774,-1006.5 3768,-1012.5 3762,-1012.5\"/>\n<text text-anchor=\"start\" x=\"3682.5\" y=\"-997.3\" font-family=\"Helvetica,sans-Serif\" font-size=\"14.00\">gini = 0.0</text>\n<text text-anchor=\"start\" x=\"3673.5\" y=\"-982.3\" font-family=\"Helvetica,sans-Serif\" font-size=\"14.00\">samples = 2</text>\n<text text-anchor=\"start\" x=\"3669\" y=\"-967.3\" font-family=\"Helvetica,sans-Serif\" font-size=\"14.00\">value = [3, 0]</text>\n<text text-anchor=\"start\" x=\"3675\" y=\"-952.3\" font-family=\"Helvetica,sans-Serif\" font-size=\"14.00\">class = give</text>\n</g>\n<!-- 149&#45;&gt;150 -->\n<g id=\"edge150\" class=\"edge\">\n<title>149&#45;&gt;150</title>\n<path fill=\"none\" stroke=\"black\" d=\"M3774.32,-1055.91C3765.86,-1044.54 3756.67,-1032.18 3748.19,-1020.77\"/>\n<polygon fill=\"black\" stroke=\"black\" points=\"3750.94,-1018.6 3742.16,-1012.67 3745.32,-1022.78 3750.94,-1018.6\"/>\n</g>\n<!-- 151 -->\n<g id=\"node152\" class=\"node\">\n<title>151</title>\n<path fill=\"#399de5\" stroke=\"black\" d=\"M3908.5,-1012.5C3908.5,-1012.5 3804.5,-1012.5 3804.5,-1012.5 3798.5,-1012.5 3792.5,-1006.5 3792.5,-1000.5 3792.5,-1000.5 3792.5,-956.5 3792.5,-956.5 3792.5,-950.5 3798.5,-944.5 3804.5,-944.5 3804.5,-944.5 3908.5,-944.5 3908.5,-944.5 3914.5,-944.5 3920.5,-950.5 3920.5,-956.5 3920.5,-956.5 3920.5,-1000.5 3920.5,-1000.5 3920.5,-1006.5 3914.5,-1012.5 3908.5,-1012.5\"/>\n<text text-anchor=\"start\" x=\"3821.5\" y=\"-997.3\" font-family=\"Helvetica,sans-Serif\" font-size=\"14.00\">gini = 0.0</text>\n<text text-anchor=\"start\" x=\"3812.5\" y=\"-982.3\" font-family=\"Helvetica,sans-Serif\" font-size=\"14.00\">samples = 1</text>\n<text text-anchor=\"start\" x=\"3808\" y=\"-967.3\" font-family=\"Helvetica,sans-Serif\" font-size=\"14.00\">value = [0, 1]</text>\n<text text-anchor=\"start\" x=\"3800.5\" y=\"-952.3\" font-family=\"Helvetica,sans-Serif\" font-size=\"14.00\">class = not give</text>\n</g>\n<!-- 149&#45;&gt;151 -->\n<g id=\"edge151\" class=\"edge\">\n<title>149&#45;&gt;151</title>\n<path fill=\"none\" stroke=\"black\" d=\"M3822.54,-1055.91C3827.4,-1044.98 3832.66,-1033.14 3837.56,-1022.11\"/>\n<polygon fill=\"black\" stroke=\"black\" points=\"3840.9,-1023.23 3841.76,-1012.67 3834.5,-1020.38 3840.9,-1023.23\"/>\n</g>\n<!-- 153 -->\n<g id=\"node154\" class=\"node\">\n<title>153</title>\n<path fill=\"#61b1ea\" stroke=\"black\" d=\"M4104.5,-1139C4104.5,-1139 4000.5,-1139 4000.5,-1139 3994.5,-1139 3988.5,-1133 3988.5,-1127 3988.5,-1127 3988.5,-1068 3988.5,-1068 3988.5,-1062 3994.5,-1056 4000.5,-1056 4000.5,-1056 4104.5,-1056 4104.5,-1056 4110.5,-1056 4116.5,-1062 4116.5,-1068 4116.5,-1068 4116.5,-1127 4116.5,-1127 4116.5,-1133 4110.5,-1139 4104.5,-1139\"/>\n<text text-anchor=\"start\" x=\"4012.5\" y=\"-1123.8\" font-family=\"Helvetica,sans-Serif\" font-size=\"14.00\">dti ≤ 13.08</text>\n<text text-anchor=\"start\" x=\"4008.5\" y=\"-1108.8\" font-family=\"Helvetica,sans-Serif\" font-size=\"14.00\">gini = 0.278</text>\n<text text-anchor=\"start\" x=\"4008.5\" y=\"-1093.8\" font-family=\"Helvetica,sans-Serif\" font-size=\"14.00\">samples = 4</text>\n<text text-anchor=\"start\" x=\"4004\" y=\"-1078.8\" font-family=\"Helvetica,sans-Serif\" font-size=\"14.00\">value = [1, 5]</text>\n<text text-anchor=\"start\" x=\"3996.5\" y=\"-1063.8\" font-family=\"Helvetica,sans-Serif\" font-size=\"14.00\">class = not give</text>\n</g>\n<!-- 152&#45;&gt;153 -->\n<g id=\"edge153\" class=\"edge\">\n<title>152&#45;&gt;153</title>\n<path fill=\"none\" stroke=\"black\" d=\"M4052.5,-1174.91C4052.5,-1166.65 4052.5,-1157.86 4052.5,-1149.3\"/>\n<polygon fill=\"black\" stroke=\"black\" points=\"4056,-1149.02 4052.5,-1139.02 4049,-1149.02 4056,-1149.02\"/>\n</g>\n<!-- 156 -->\n<g id=\"node157\" class=\"node\">\n<title>156</title>\n<path fill=\"#ea9a5f\" stroke=\"black\" d=\"M4352,-1139C4352,-1139 4203,-1139 4203,-1139 4197,-1139 4191,-1133 4191,-1127 4191,-1127 4191,-1068 4191,-1068 4191,-1062 4197,-1056 4203,-1056 4203,-1056 4352,-1056 4352,-1056 4358,-1056 4364,-1062 4364,-1068 4364,-1068 4364,-1127 4364,-1127 4364,-1133 4358,-1139 4352,-1139\"/>\n<text text-anchor=\"start\" x=\"4199\" y=\"-1123.8\" font-family=\"Helvetica,sans-Serif\" font-size=\"14.00\">installment ≤ 908.285</text>\n<text text-anchor=\"start\" x=\"4233.5\" y=\"-1108.8\" font-family=\"Helvetica,sans-Serif\" font-size=\"14.00\">gini = 0.273</text>\n<text text-anchor=\"start\" x=\"4229\" y=\"-1093.8\" font-family=\"Helvetica,sans-Serif\" font-size=\"14.00\">samples = 24</text>\n<text text-anchor=\"start\" x=\"4224.5\" y=\"-1078.8\" font-family=\"Helvetica,sans-Serif\" font-size=\"14.00\">value = [36, 7]</text>\n<text text-anchor=\"start\" x=\"4235\" y=\"-1063.8\" font-family=\"Helvetica,sans-Serif\" font-size=\"14.00\">class = give</text>\n</g>\n<!-- 152&#45;&gt;156 -->\n<g id=\"edge156\" class=\"edge\">\n<title>152&#45;&gt;156</title>\n<path fill=\"none\" stroke=\"black\" d=\"M4118.18,-1181.34C4140.73,-1169.62 4166.32,-1156.31 4190.3,-1143.84\"/>\n<polygon fill=\"black\" stroke=\"black\" points=\"4192.15,-1146.83 4199.4,-1139.11 4188.92,-1140.62 4192.15,-1146.83\"/>\n</g>\n<!-- 154 -->\n<g id=\"node155\" class=\"node\">\n<title>154</title>\n<path fill=\"#e58139\" stroke=\"black\" d=\"M4040,-1012.5C4040,-1012.5 3951,-1012.5 3951,-1012.5 3945,-1012.5 3939,-1006.5 3939,-1000.5 3939,-1000.5 3939,-956.5 3939,-956.5 3939,-950.5 3945,-944.5 3951,-944.5 3951,-944.5 4040,-944.5 4040,-944.5 4046,-944.5 4052,-950.5 4052,-956.5 4052,-956.5 4052,-1000.5 4052,-1000.5 4052,-1006.5 4046,-1012.5 4040,-1012.5\"/>\n<text text-anchor=\"start\" x=\"3960.5\" y=\"-997.3\" font-family=\"Helvetica,sans-Serif\" font-size=\"14.00\">gini = 0.0</text>\n<text text-anchor=\"start\" x=\"3951.5\" y=\"-982.3\" font-family=\"Helvetica,sans-Serif\" font-size=\"14.00\">samples = 1</text>\n<text text-anchor=\"start\" x=\"3947\" y=\"-967.3\" font-family=\"Helvetica,sans-Serif\" font-size=\"14.00\">value = [1, 0]</text>\n<text text-anchor=\"start\" x=\"3953\" y=\"-952.3\" font-family=\"Helvetica,sans-Serif\" font-size=\"14.00\">class = give</text>\n</g>\n<!-- 153&#45;&gt;154 -->\n<g id=\"edge154\" class=\"edge\">\n<title>153&#45;&gt;154</title>\n<path fill=\"none\" stroke=\"black\" d=\"M4032.72,-1055.91C4027.35,-1044.87 4021.51,-1032.9 4016.09,-1021.77\"/>\n<polygon fill=\"black\" stroke=\"black\" points=\"4019.18,-1020.12 4011.66,-1012.67 4012.89,-1023.19 4019.18,-1020.12\"/>\n</g>\n<!-- 155 -->\n<g id=\"node156\" class=\"node\">\n<title>155</title>\n<path fill=\"#399de5\" stroke=\"black\" d=\"M4186.5,-1012.5C4186.5,-1012.5 4082.5,-1012.5 4082.5,-1012.5 4076.5,-1012.5 4070.5,-1006.5 4070.5,-1000.5 4070.5,-1000.5 4070.5,-956.5 4070.5,-956.5 4070.5,-950.5 4076.5,-944.5 4082.5,-944.5 4082.5,-944.5 4186.5,-944.5 4186.5,-944.5 4192.5,-944.5 4198.5,-950.5 4198.5,-956.5 4198.5,-956.5 4198.5,-1000.5 4198.5,-1000.5 4198.5,-1006.5 4192.5,-1012.5 4186.5,-1012.5\"/>\n<text text-anchor=\"start\" x=\"4099.5\" y=\"-997.3\" font-family=\"Helvetica,sans-Serif\" font-size=\"14.00\">gini = 0.0</text>\n<text text-anchor=\"start\" x=\"4090.5\" y=\"-982.3\" font-family=\"Helvetica,sans-Serif\" font-size=\"14.00\">samples = 3</text>\n<text text-anchor=\"start\" x=\"4086\" y=\"-967.3\" font-family=\"Helvetica,sans-Serif\" font-size=\"14.00\">value = [0, 5]</text>\n<text text-anchor=\"start\" x=\"4078.5\" y=\"-952.3\" font-family=\"Helvetica,sans-Serif\" font-size=\"14.00\">class = not give</text>\n</g>\n<!-- 153&#45;&gt;155 -->\n<g id=\"edge155\" class=\"edge\">\n<title>153&#45;&gt;155</title>\n<path fill=\"none\" stroke=\"black\" d=\"M4080.95,-1055.91C4088.84,-1044.65 4097.41,-1032.42 4105.34,-1021.11\"/>\n<polygon fill=\"black\" stroke=\"black\" points=\"4108.38,-1022.86 4111.25,-1012.67 4102.65,-1018.85 4108.38,-1022.86\"/>\n</g>\n<!-- 157 -->\n<g id=\"node158\" class=\"node\">\n<title>157</title>\n<path fill=\"#e99254\" stroke=\"black\" d=\"M4326.5,-1020C4326.5,-1020 4228.5,-1020 4228.5,-1020 4222.5,-1020 4216.5,-1014 4216.5,-1008 4216.5,-1008 4216.5,-949 4216.5,-949 4216.5,-943 4222.5,-937 4228.5,-937 4228.5,-937 4326.5,-937 4326.5,-937 4332.5,-937 4338.5,-943 4338.5,-949 4338.5,-949 4338.5,-1008 4338.5,-1008 4338.5,-1014 4332.5,-1020 4326.5,-1020\"/>\n<text text-anchor=\"start\" x=\"4234\" y=\"-1004.8\" font-family=\"Helvetica,sans-Serif\" font-size=\"14.00\">fico ≤ 679.5</text>\n<text text-anchor=\"start\" x=\"4233.5\" y=\"-989.8\" font-family=\"Helvetica,sans-Serif\" font-size=\"14.00\">gini = 0.214</text>\n<text text-anchor=\"start\" x=\"4229\" y=\"-974.8\" font-family=\"Helvetica,sans-Serif\" font-size=\"14.00\">samples = 23</text>\n<text text-anchor=\"start\" x=\"4224.5\" y=\"-959.8\" font-family=\"Helvetica,sans-Serif\" font-size=\"14.00\">value = [36, 5]</text>\n<text text-anchor=\"start\" x=\"4235\" y=\"-944.8\" font-family=\"Helvetica,sans-Serif\" font-size=\"14.00\">class = give</text>\n</g>\n<!-- 156&#45;&gt;157 -->\n<g id=\"edge157\" class=\"edge\">\n<title>156&#45;&gt;157</title>\n<path fill=\"none\" stroke=\"black\" d=\"M4277.5,-1055.91C4277.5,-1047.65 4277.5,-1038.86 4277.5,-1030.3\"/>\n<polygon fill=\"black\" stroke=\"black\" points=\"4281,-1030.02 4277.5,-1020.02 4274,-1030.02 4281,-1030.02\"/>\n</g>\n<!-- 168 -->\n<g id=\"node169\" class=\"node\">\n<title>168</title>\n<path fill=\"#399de5\" stroke=\"black\" d=\"M4472.5,-1012.5C4472.5,-1012.5 4368.5,-1012.5 4368.5,-1012.5 4362.5,-1012.5 4356.5,-1006.5 4356.5,-1000.5 4356.5,-1000.5 4356.5,-956.5 4356.5,-956.5 4356.5,-950.5 4362.5,-944.5 4368.5,-944.5 4368.5,-944.5 4472.5,-944.5 4472.5,-944.5 4478.5,-944.5 4484.5,-950.5 4484.5,-956.5 4484.5,-956.5 4484.5,-1000.5 4484.5,-1000.5 4484.5,-1006.5 4478.5,-1012.5 4472.5,-1012.5\"/>\n<text text-anchor=\"start\" x=\"4385.5\" y=\"-997.3\" font-family=\"Helvetica,sans-Serif\" font-size=\"14.00\">gini = 0.0</text>\n<text text-anchor=\"start\" x=\"4376.5\" y=\"-982.3\" font-family=\"Helvetica,sans-Serif\" font-size=\"14.00\">samples = 1</text>\n<text text-anchor=\"start\" x=\"4372\" y=\"-967.3\" font-family=\"Helvetica,sans-Serif\" font-size=\"14.00\">value = [0, 2]</text>\n<text text-anchor=\"start\" x=\"4364.5\" y=\"-952.3\" font-family=\"Helvetica,sans-Serif\" font-size=\"14.00\">class = not give</text>\n</g>\n<!-- 156&#45;&gt;168 -->\n<g id=\"edge168\" class=\"edge\">\n<title>156&#45;&gt;168</title>\n<path fill=\"none\" stroke=\"black\" d=\"M4327.11,-1055.91C4341.68,-1043.99 4357.59,-1030.98 4372.08,-1019.12\"/>\n<polygon fill=\"black\" stroke=\"black\" points=\"4374.44,-1021.71 4379.96,-1012.67 4370.01,-1016.29 4374.44,-1021.71\"/>\n</g>\n<!-- 158 -->\n<g id=\"node159\" class=\"node\">\n<title>158</title>\n<path fill=\"#eda673\" stroke=\"black\" d=\"M4186.5,-901C4186.5,-901 4010.5,-901 4010.5,-901 4004.5,-901 3998.5,-895 3998.5,-889 3998.5,-889 3998.5,-830 3998.5,-830 3998.5,-824 4004.5,-818 4010.5,-818 4010.5,-818 4186.5,-818 4186.5,-818 4192.5,-818 4198.5,-824 4198.5,-830 4198.5,-830 4198.5,-889 4198.5,-889 4198.5,-895 4192.5,-901 4186.5,-901\"/>\n<text text-anchor=\"start\" x=\"4006.5\" y=\"-885.8\" font-family=\"Helvetica,sans-Serif\" font-size=\"14.00\">days.with.cr.line ≤ 7830.0</text>\n<text text-anchor=\"start\" x=\"4054.5\" y=\"-870.8\" font-family=\"Helvetica,sans-Serif\" font-size=\"14.00\">gini = 0.351</text>\n<text text-anchor=\"start\" x=\"4050\" y=\"-855.8\" font-family=\"Helvetica,sans-Serif\" font-size=\"14.00\">samples = 12</text>\n<text text-anchor=\"start\" x=\"4045.5\" y=\"-840.8\" font-family=\"Helvetica,sans-Serif\" font-size=\"14.00\">value = [17, 5]</text>\n<text text-anchor=\"start\" x=\"4056\" y=\"-825.8\" font-family=\"Helvetica,sans-Serif\" font-size=\"14.00\">class = give</text>\n</g>\n<!-- 157&#45;&gt;158 -->\n<g id=\"edge158\" class=\"edge\">\n<title>157&#45;&gt;158</title>\n<path fill=\"none\" stroke=\"black\" d=\"M4216.4,-937.56C4201.19,-927.62 4184.76,-916.88 4169.13,-906.67\"/>\n<polygon fill=\"black\" stroke=\"black\" points=\"4170.83,-903.59 4160.54,-901.05 4167,-909.45 4170.83,-903.59\"/>\n</g>\n<!-- 167 -->\n<g id=\"node168\" class=\"node\">\n<title>167</title>\n<path fill=\"#e58139\" stroke=\"black\" d=\"M4326.5,-893.5C4326.5,-893.5 4228.5,-893.5 4228.5,-893.5 4222.5,-893.5 4216.5,-887.5 4216.5,-881.5 4216.5,-881.5 4216.5,-837.5 4216.5,-837.5 4216.5,-831.5 4222.5,-825.5 4228.5,-825.5 4228.5,-825.5 4326.5,-825.5 4326.5,-825.5 4332.5,-825.5 4338.5,-831.5 4338.5,-837.5 4338.5,-837.5 4338.5,-881.5 4338.5,-881.5 4338.5,-887.5 4332.5,-893.5 4326.5,-893.5\"/>\n<text text-anchor=\"start\" x=\"4242.5\" y=\"-878.3\" font-family=\"Helvetica,sans-Serif\" font-size=\"14.00\">gini = 0.0</text>\n<text text-anchor=\"start\" x=\"4229\" y=\"-863.3\" font-family=\"Helvetica,sans-Serif\" font-size=\"14.00\">samples = 11</text>\n<text text-anchor=\"start\" x=\"4224.5\" y=\"-848.3\" font-family=\"Helvetica,sans-Serif\" font-size=\"14.00\">value = [19, 0]</text>\n<text text-anchor=\"start\" x=\"4235\" y=\"-833.3\" font-family=\"Helvetica,sans-Serif\" font-size=\"14.00\">class = give</text>\n</g>\n<!-- 157&#45;&gt;167 -->\n<g id=\"edge167\" class=\"edge\">\n<title>157&#45;&gt;167</title>\n<path fill=\"none\" stroke=\"black\" d=\"M4277.5,-936.91C4277.5,-926.2 4277.5,-914.62 4277.5,-903.78\"/>\n<polygon fill=\"black\" stroke=\"black\" points=\"4281,-903.67 4277.5,-893.67 4274,-903.67 4281,-903.67\"/>\n</g>\n<!-- 159 -->\n<g id=\"node160\" class=\"node\">\n<title>159</title>\n<path fill=\"#e78b48\" stroke=\"black\" d=\"M4029.5,-782C4029.5,-782 3835.5,-782 3835.5,-782 3829.5,-782 3823.5,-776 3823.5,-770 3823.5,-770 3823.5,-711 3823.5,-711 3823.5,-705 3829.5,-699 3835.5,-699 3835.5,-699 4029.5,-699 4029.5,-699 4035.5,-699 4041.5,-705 4041.5,-711 4041.5,-711 4041.5,-770 4041.5,-770 4041.5,-776 4035.5,-782 4029.5,-782\"/>\n<text text-anchor=\"start\" x=\"3831.5\" y=\"-766.8\" font-family=\"Helvetica,sans-Serif\" font-size=\"14.00\">days.with.cr.line ≤ 4575.021</text>\n<text text-anchor=\"start\" x=\"3888.5\" y=\"-751.8\" font-family=\"Helvetica,sans-Serif\" font-size=\"14.00\">gini = 0.133</text>\n<text text-anchor=\"start\" x=\"3888.5\" y=\"-736.8\" font-family=\"Helvetica,sans-Serif\" font-size=\"14.00\">samples = 9</text>\n<text text-anchor=\"start\" x=\"3879.5\" y=\"-721.8\" font-family=\"Helvetica,sans-Serif\" font-size=\"14.00\">value = [13, 1]</text>\n<text text-anchor=\"start\" x=\"3890\" y=\"-706.8\" font-family=\"Helvetica,sans-Serif\" font-size=\"14.00\">class = give</text>\n</g>\n<!-- 158&#45;&gt;159 -->\n<g id=\"edge159\" class=\"edge\">\n<title>158&#45;&gt;159</title>\n<path fill=\"none\" stroke=\"black\" d=\"M4040.91,-817.91C4027.13,-808.2 4012.32,-797.76 3998.21,-787.81\"/>\n<polygon fill=\"black\" stroke=\"black\" points=\"4000.18,-784.92 3989.99,-782.02 3996.15,-790.64 4000.18,-784.92\"/>\n</g>\n<!-- 164 -->\n<g id=\"node165\" class=\"node\">\n<title>164</title>\n<path fill=\"#ffffff\" stroke=\"black\" d=\"M4185.5,-782C4185.5,-782 4071.5,-782 4071.5,-782 4065.5,-782 4059.5,-776 4059.5,-770 4059.5,-770 4059.5,-711 4059.5,-711 4059.5,-705 4065.5,-699 4071.5,-699 4071.5,-699 4185.5,-699 4185.5,-699 4191.5,-699 4197.5,-705 4197.5,-711 4197.5,-711 4197.5,-770 4197.5,-770 4197.5,-776 4191.5,-782 4185.5,-782\"/>\n<text text-anchor=\"start\" x=\"4067.5\" y=\"-766.8\" font-family=\"Helvetica,sans-Serif\" font-size=\"14.00\">revol.util ≤ 64.25</text>\n<text text-anchor=\"start\" x=\"4093.5\" y=\"-751.8\" font-family=\"Helvetica,sans-Serif\" font-size=\"14.00\">gini = 0.5</text>\n<text text-anchor=\"start\" x=\"4084.5\" y=\"-736.8\" font-family=\"Helvetica,sans-Serif\" font-size=\"14.00\">samples = 3</text>\n<text text-anchor=\"start\" x=\"4080\" y=\"-721.8\" font-family=\"Helvetica,sans-Serif\" font-size=\"14.00\">value = [4, 4]</text>\n<text text-anchor=\"start\" x=\"4086\" y=\"-706.8\" font-family=\"Helvetica,sans-Serif\" font-size=\"14.00\">class = give</text>\n</g>\n<!-- 158&#45;&gt;164 -->\n<g id=\"edge164\" class=\"edge\">\n<title>158&#45;&gt;164</title>\n<path fill=\"none\" stroke=\"black\" d=\"M4108.91,-817.91C4111.07,-809.47 4113.38,-800.48 4115.62,-791.74\"/>\n<polygon fill=\"black\" stroke=\"black\" points=\"4119.02,-792.58 4118.11,-782.02 4112.24,-790.84 4119.02,-792.58\"/>\n</g>\n<!-- 160 -->\n<g id=\"node161\" class=\"node\">\n<title>160</title>\n<path fill=\"#eeab7b\" stroke=\"black\" d=\"M3856,-663C3856,-663 3695,-663 3695,-663 3689,-663 3683,-657 3683,-651 3683,-651 3683,-592 3683,-592 3683,-586 3689,-580 3695,-580 3695,-580 3856,-580 3856,-580 3862,-580 3868,-586 3868,-592 3868,-592 3868,-651 3868,-651 3868,-657 3862,-663 3856,-663\"/>\n<text text-anchor=\"start\" x=\"3691\" y=\"-647.8\" font-family=\"Helvetica,sans-Serif\" font-size=\"14.00\">log.annual.inc ≤ 12.187</text>\n<text text-anchor=\"start\" x=\"3731.5\" y=\"-632.8\" font-family=\"Helvetica,sans-Serif\" font-size=\"14.00\">gini = 0.375</text>\n<text text-anchor=\"start\" x=\"3731.5\" y=\"-617.8\" font-family=\"Helvetica,sans-Serif\" font-size=\"14.00\">samples = 3</text>\n<text text-anchor=\"start\" x=\"3727\" y=\"-602.8\" font-family=\"Helvetica,sans-Serif\" font-size=\"14.00\">value = [3, 1]</text>\n<text text-anchor=\"start\" x=\"3733\" y=\"-587.8\" font-family=\"Helvetica,sans-Serif\" font-size=\"14.00\">class = give</text>\n</g>\n<!-- 159&#45;&gt;160 -->\n<g id=\"edge160\" class=\"edge\">\n<title>159&#45;&gt;160</title>\n<path fill=\"none\" stroke=\"black\" d=\"M3878.03,-698.91C3865.12,-689.29 3851.25,-678.95 3838.02,-669.09\"/>\n<polygon fill=\"black\" stroke=\"black\" points=\"3839.98,-666.19 3829.87,-663.02 3835.8,-671.8 3839.98,-666.19\"/>\n</g>\n<!-- 163 -->\n<g id=\"node164\" class=\"node\">\n<title>163</title>\n<path fill=\"#e58139\" stroke=\"black\" d=\"M3996.5,-655.5C3996.5,-655.5 3898.5,-655.5 3898.5,-655.5 3892.5,-655.5 3886.5,-649.5 3886.5,-643.5 3886.5,-643.5 3886.5,-599.5 3886.5,-599.5 3886.5,-593.5 3892.5,-587.5 3898.5,-587.5 3898.5,-587.5 3996.5,-587.5 3996.5,-587.5 4002.5,-587.5 4008.5,-593.5 4008.5,-599.5 4008.5,-599.5 4008.5,-643.5 4008.5,-643.5 4008.5,-649.5 4002.5,-655.5 3996.5,-655.5\"/>\n<text text-anchor=\"start\" x=\"3912.5\" y=\"-640.3\" font-family=\"Helvetica,sans-Serif\" font-size=\"14.00\">gini = 0.0</text>\n<text text-anchor=\"start\" x=\"3903.5\" y=\"-625.3\" font-family=\"Helvetica,sans-Serif\" font-size=\"14.00\">samples = 6</text>\n<text text-anchor=\"start\" x=\"3894.5\" y=\"-610.3\" font-family=\"Helvetica,sans-Serif\" font-size=\"14.00\">value = [10, 0]</text>\n<text text-anchor=\"start\" x=\"3905\" y=\"-595.3\" font-family=\"Helvetica,sans-Serif\" font-size=\"14.00\">class = give</text>\n</g>\n<!-- 159&#45;&gt;163 -->\n<g id=\"edge163\" class=\"edge\">\n<title>159&#45;&gt;163</title>\n<path fill=\"none\" stroke=\"black\" d=\"M3937.7,-698.91C3939.08,-688.2 3940.56,-676.62 3941.95,-665.78\"/>\n<polygon fill=\"black\" stroke=\"black\" points=\"3945.45,-666.03 3943.25,-655.67 3938.5,-665.14 3945.45,-666.03\"/>\n</g>\n<!-- 161 -->\n<g id=\"node162\" class=\"node\">\n<title>161</title>\n<path fill=\"#e58139\" stroke=\"black\" d=\"M3750,-536.5C3750,-536.5 3661,-536.5 3661,-536.5 3655,-536.5 3649,-530.5 3649,-524.5 3649,-524.5 3649,-480.5 3649,-480.5 3649,-474.5 3655,-468.5 3661,-468.5 3661,-468.5 3750,-468.5 3750,-468.5 3756,-468.5 3762,-474.5 3762,-480.5 3762,-480.5 3762,-524.5 3762,-524.5 3762,-530.5 3756,-536.5 3750,-536.5\"/>\n<text text-anchor=\"start\" x=\"3670.5\" y=\"-521.3\" font-family=\"Helvetica,sans-Serif\" font-size=\"14.00\">gini = 0.0</text>\n<text text-anchor=\"start\" x=\"3661.5\" y=\"-506.3\" font-family=\"Helvetica,sans-Serif\" font-size=\"14.00\">samples = 2</text>\n<text text-anchor=\"start\" x=\"3657\" y=\"-491.3\" font-family=\"Helvetica,sans-Serif\" font-size=\"14.00\">value = [3, 0]</text>\n<text text-anchor=\"start\" x=\"3663\" y=\"-476.3\" font-family=\"Helvetica,sans-Serif\" font-size=\"14.00\">class = give</text>\n</g>\n<!-- 160&#45;&gt;161 -->\n<g id=\"edge161\" class=\"edge\">\n<title>160&#45;&gt;161</title>\n<path fill=\"none\" stroke=\"black\" d=\"M3751.21,-579.91C3744.55,-568.76 3737.3,-556.66 3730.59,-545.44\"/>\n<polygon fill=\"black\" stroke=\"black\" points=\"3733.48,-543.45 3725.34,-536.67 3727.47,-547.05 3733.48,-543.45\"/>\n</g>\n<!-- 162 -->\n<g id=\"node163\" class=\"node\">\n<title>162</title>\n<path fill=\"#399de5\" stroke=\"black\" d=\"M3896.5,-536.5C3896.5,-536.5 3792.5,-536.5 3792.5,-536.5 3786.5,-536.5 3780.5,-530.5 3780.5,-524.5 3780.5,-524.5 3780.5,-480.5 3780.5,-480.5 3780.5,-474.5 3786.5,-468.5 3792.5,-468.5 3792.5,-468.5 3896.5,-468.5 3896.5,-468.5 3902.5,-468.5 3908.5,-474.5 3908.5,-480.5 3908.5,-480.5 3908.5,-524.5 3908.5,-524.5 3908.5,-530.5 3902.5,-536.5 3896.5,-536.5\"/>\n<text text-anchor=\"start\" x=\"3809.5\" y=\"-521.3\" font-family=\"Helvetica,sans-Serif\" font-size=\"14.00\">gini = 0.0</text>\n<text text-anchor=\"start\" x=\"3800.5\" y=\"-506.3\" font-family=\"Helvetica,sans-Serif\" font-size=\"14.00\">samples = 1</text>\n<text text-anchor=\"start\" x=\"3796\" y=\"-491.3\" font-family=\"Helvetica,sans-Serif\" font-size=\"14.00\">value = [0, 1]</text>\n<text text-anchor=\"start\" x=\"3788.5\" y=\"-476.3\" font-family=\"Helvetica,sans-Serif\" font-size=\"14.00\">class = not give</text>\n</g>\n<!-- 160&#45;&gt;162 -->\n<g id=\"edge162\" class=\"edge\">\n<title>160&#45;&gt;162</title>\n<path fill=\"none\" stroke=\"black\" d=\"M3799.44,-579.91C3806.01,-568.76 3813.15,-556.66 3819.77,-545.44\"/>\n<polygon fill=\"black\" stroke=\"black\" points=\"3822.87,-547.06 3824.94,-536.67 3816.85,-543.5 3822.87,-547.06\"/>\n</g>\n<!-- 165 -->\n<g id=\"node166\" class=\"node\">\n<title>165</title>\n<path fill=\"#e58139\" stroke=\"black\" d=\"M4158,-655.5C4158,-655.5 4069,-655.5 4069,-655.5 4063,-655.5 4057,-649.5 4057,-643.5 4057,-643.5 4057,-599.5 4057,-599.5 4057,-593.5 4063,-587.5 4069,-587.5 4069,-587.5 4158,-587.5 4158,-587.5 4164,-587.5 4170,-593.5 4170,-599.5 4170,-599.5 4170,-643.5 4170,-643.5 4170,-649.5 4164,-655.5 4158,-655.5\"/>\n<text text-anchor=\"start\" x=\"4078.5\" y=\"-640.3\" font-family=\"Helvetica,sans-Serif\" font-size=\"14.00\">gini = 0.0</text>\n<text text-anchor=\"start\" x=\"4069.5\" y=\"-625.3\" font-family=\"Helvetica,sans-Serif\" font-size=\"14.00\">samples = 1</text>\n<text text-anchor=\"start\" x=\"4065\" y=\"-610.3\" font-family=\"Helvetica,sans-Serif\" font-size=\"14.00\">value = [4, 0]</text>\n<text text-anchor=\"start\" x=\"4071\" y=\"-595.3\" font-family=\"Helvetica,sans-Serif\" font-size=\"14.00\">class = give</text>\n</g>\n<!-- 164&#45;&gt;165 -->\n<g id=\"edge165\" class=\"edge\">\n<title>164&#45;&gt;165</title>\n<path fill=\"none\" stroke=\"black\" d=\"M4123.3,-698.91C4121.92,-688.2 4120.44,-676.62 4119.05,-665.78\"/>\n<polygon fill=\"black\" stroke=\"black\" points=\"4122.5,-665.14 4117.75,-655.67 4115.55,-666.03 4122.5,-665.14\"/>\n</g>\n<!-- 166 -->\n<g id=\"node167\" class=\"node\">\n<title>166</title>\n<path fill=\"#399de5\" stroke=\"black\" d=\"M4304.5,-655.5C4304.5,-655.5 4200.5,-655.5 4200.5,-655.5 4194.5,-655.5 4188.5,-649.5 4188.5,-643.5 4188.5,-643.5 4188.5,-599.5 4188.5,-599.5 4188.5,-593.5 4194.5,-587.5 4200.5,-587.5 4200.5,-587.5 4304.5,-587.5 4304.5,-587.5 4310.5,-587.5 4316.5,-593.5 4316.5,-599.5 4316.5,-599.5 4316.5,-643.5 4316.5,-643.5 4316.5,-649.5 4310.5,-655.5 4304.5,-655.5\"/>\n<text text-anchor=\"start\" x=\"4217.5\" y=\"-640.3\" font-family=\"Helvetica,sans-Serif\" font-size=\"14.00\">gini = 0.0</text>\n<text text-anchor=\"start\" x=\"4208.5\" y=\"-625.3\" font-family=\"Helvetica,sans-Serif\" font-size=\"14.00\">samples = 2</text>\n<text text-anchor=\"start\" x=\"4204\" y=\"-610.3\" font-family=\"Helvetica,sans-Serif\" font-size=\"14.00\">value = [0, 4]</text>\n<text text-anchor=\"start\" x=\"4196.5\" y=\"-595.3\" font-family=\"Helvetica,sans-Serif\" font-size=\"14.00\">class = not give</text>\n</g>\n<!-- 164&#45;&gt;166 -->\n<g id=\"edge166\" class=\"edge\">\n<title>164&#45;&gt;166</title>\n<path fill=\"none\" stroke=\"black\" d=\"M4171.52,-698.91C4183.92,-687.21 4197.43,-674.46 4209.81,-662.78\"/>\n<polygon fill=\"black\" stroke=\"black\" points=\"4212.48,-665.08 4217.35,-655.67 4207.67,-659.98 4212.48,-665.08\"/>\n</g>\n<!-- 170 -->\n<g id=\"node171\" class=\"node\">\n<title>170</title>\n<path fill=\"#e68843\" stroke=\"black\" d=\"M5232.5,-1377C5232.5,-1377 5116.5,-1377 5116.5,-1377 5110.5,-1377 5104.5,-1371 5104.5,-1365 5104.5,-1365 5104.5,-1306 5104.5,-1306 5104.5,-1300 5110.5,-1294 5116.5,-1294 5116.5,-1294 5232.5,-1294 5232.5,-1294 5238.5,-1294 5244.5,-1300 5244.5,-1306 5244.5,-1306 5244.5,-1365 5244.5,-1365 5244.5,-1371 5238.5,-1377 5232.5,-1377\"/>\n<text text-anchor=\"start\" x=\"5130\" y=\"-1361.8\" font-family=\"Helvetica,sans-Serif\" font-size=\"14.00\">dti ≤ 25.145</text>\n<text text-anchor=\"start\" x=\"5130.5\" y=\"-1346.8\" font-family=\"Helvetica,sans-Serif\" font-size=\"14.00\">gini = 0.095</text>\n<text text-anchor=\"start\" x=\"5121.5\" y=\"-1331.8\" font-family=\"Helvetica,sans-Serif\" font-size=\"14.00\">samples = 400</text>\n<text text-anchor=\"start\" x=\"5112.5\" y=\"-1316.8\" font-family=\"Helvetica,sans-Serif\" font-size=\"14.00\">value = [568, 30]</text>\n<text text-anchor=\"start\" x=\"5132\" y=\"-1301.8\" font-family=\"Helvetica,sans-Serif\" font-size=\"14.00\">class = give</text>\n</g>\n<!-- 169&#45;&gt;170 -->\n<g id=\"edge170\" class=\"edge\">\n<title>169&#45;&gt;170</title>\n<path fill=\"none\" stroke=\"black\" d=\"M5246.34,-1412.91C5237.72,-1403.74 5228.49,-1393.93 5219.62,-1384.49\"/>\n<polygon fill=\"black\" stroke=\"black\" points=\"5222,-1381.91 5212.6,-1377.02 5216.9,-1386.7 5222,-1381.91\"/>\n</g>\n<!-- 193 -->\n<g id=\"node194\" class=\"node\">\n<title>193</title>\n<path fill=\"#e78d4b\" stroke=\"black\" d=\"M5430,-1377C5430,-1377 5299,-1377 5299,-1377 5293,-1377 5287,-1371 5287,-1365 5287,-1365 5287,-1306 5287,-1306 5287,-1300 5293,-1294 5299,-1294 5299,-1294 5430,-1294 5430,-1294 5436,-1294 5442,-1300 5442,-1306 5442,-1306 5442,-1365 5442,-1365 5442,-1371 5436,-1377 5430,-1377\"/>\n<text text-anchor=\"start\" x=\"5295\" y=\"-1361.8\" font-family=\"Helvetica,sans-Serif\" font-size=\"14.00\">revol.bal ≤ 43031.0</text>\n<text text-anchor=\"start\" x=\"5320.5\" y=\"-1346.8\" font-family=\"Helvetica,sans-Serif\" font-size=\"14.00\">gini = 0.154</text>\n<text text-anchor=\"start\" x=\"5311.5\" y=\"-1331.8\" font-family=\"Helvetica,sans-Serif\" font-size=\"14.00\">samples = 125</text>\n<text text-anchor=\"start\" x=\"5302.5\" y=\"-1316.8\" font-family=\"Helvetica,sans-Serif\" font-size=\"14.00\">value = [185, 17]</text>\n<text text-anchor=\"start\" x=\"5322\" y=\"-1301.8\" font-family=\"Helvetica,sans-Serif\" font-size=\"14.00\">class = give</text>\n</g>\n<!-- 169&#45;&gt;193 -->\n<g id=\"edge193\" class=\"edge\">\n<title>169&#45;&gt;193</title>\n<path fill=\"none\" stroke=\"black\" d=\"M5312.26,-1412.91C5318.34,-1404.01 5324.84,-1394.51 5331.11,-1385.33\"/>\n<polygon fill=\"black\" stroke=\"black\" points=\"5334.04,-1387.25 5336.79,-1377.02 5328.26,-1383.3 5334.04,-1387.25\"/>\n</g>\n<!-- 171 -->\n<g id=\"node172\" class=\"node\">\n<title>171</title>\n<path fill=\"#e68641\" stroke=\"black\" d=\"M5052.5,-1258C5052.5,-1258 4912.5,-1258 4912.5,-1258 4906.5,-1258 4900.5,-1252 4900.5,-1246 4900.5,-1246 4900.5,-1187 4900.5,-1187 4900.5,-1181 4906.5,-1175 4912.5,-1175 4912.5,-1175 5052.5,-1175 5052.5,-1175 5058.5,-1175 5064.5,-1181 5064.5,-1187 5064.5,-1187 5064.5,-1246 5064.5,-1246 5064.5,-1252 5058.5,-1258 5052.5,-1258\"/>\n<text text-anchor=\"start\" x=\"4908.5\" y=\"-1242.8\" font-family=\"Helvetica,sans-Serif\" font-size=\"14.00\">revol.bal ≤ 142691.0</text>\n<text text-anchor=\"start\" x=\"4938.5\" y=\"-1227.8\" font-family=\"Helvetica,sans-Serif\" font-size=\"14.00\">gini = 0.075</text>\n<text text-anchor=\"start\" x=\"4929.5\" y=\"-1212.8\" font-family=\"Helvetica,sans-Serif\" font-size=\"14.00\">samples = 395</text>\n<text text-anchor=\"start\" x=\"4920.5\" y=\"-1197.8\" font-family=\"Helvetica,sans-Serif\" font-size=\"14.00\">value = [568, 23]</text>\n<text text-anchor=\"start\" x=\"4940\" y=\"-1182.8\" font-family=\"Helvetica,sans-Serif\" font-size=\"14.00\">class = give</text>\n</g>\n<!-- 170&#45;&gt;171 -->\n<g id=\"edge171\" class=\"edge\">\n<title>170&#45;&gt;171</title>\n<path fill=\"none\" stroke=\"black\" d=\"M5107.89,-1293.91C5091.65,-1284.02 5074.18,-1273.37 5057.58,-1263.25\"/>\n<polygon fill=\"black\" stroke=\"black\" points=\"5059.36,-1260.24 5049,-1258.02 5055.71,-1266.21 5059.36,-1260.24\"/>\n</g>\n<!-- 192 -->\n<g id=\"node193\" class=\"node\">\n<title>192</title>\n<path fill=\"#399de5\" stroke=\"black\" d=\"M5226.5,-1250.5C5226.5,-1250.5 5122.5,-1250.5 5122.5,-1250.5 5116.5,-1250.5 5110.5,-1244.5 5110.5,-1238.5 5110.5,-1238.5 5110.5,-1194.5 5110.5,-1194.5 5110.5,-1188.5 5116.5,-1182.5 5122.5,-1182.5 5122.5,-1182.5 5226.5,-1182.5 5226.5,-1182.5 5232.5,-1182.5 5238.5,-1188.5 5238.5,-1194.5 5238.5,-1194.5 5238.5,-1238.5 5238.5,-1238.5 5238.5,-1244.5 5232.5,-1250.5 5226.5,-1250.5\"/>\n<text text-anchor=\"start\" x=\"5139.5\" y=\"-1235.3\" font-family=\"Helvetica,sans-Serif\" font-size=\"14.00\">gini = 0.0</text>\n<text text-anchor=\"start\" x=\"5130.5\" y=\"-1220.3\" font-family=\"Helvetica,sans-Serif\" font-size=\"14.00\">samples = 5</text>\n<text text-anchor=\"start\" x=\"5126\" y=\"-1205.3\" font-family=\"Helvetica,sans-Serif\" font-size=\"14.00\">value = [0, 7]</text>\n<text text-anchor=\"start\" x=\"5118.5\" y=\"-1190.3\" font-family=\"Helvetica,sans-Serif\" font-size=\"14.00\">class = not give</text>\n</g>\n<!-- 170&#45;&gt;192 -->\n<g id=\"edge192\" class=\"edge\">\n<title>170&#45;&gt;192</title>\n<path fill=\"none\" stroke=\"black\" d=\"M5174.5,-1293.91C5174.5,-1283.2 5174.5,-1271.62 5174.5,-1260.78\"/>\n<polygon fill=\"black\" stroke=\"black\" points=\"5178,-1260.67 5174.5,-1250.67 5171,-1260.67 5178,-1260.67\"/>\n</g>\n<!-- 172 -->\n<g id=\"node173\" class=\"node\">\n<title>172</title>\n<path fill=\"#e5833c\" stroke=\"black\" d=\"M4884.5,-1139C4884.5,-1139 4770.5,-1139 4770.5,-1139 4764.5,-1139 4758.5,-1133 4758.5,-1127 4758.5,-1127 4758.5,-1068 4758.5,-1068 4758.5,-1062 4764.5,-1056 4770.5,-1056 4770.5,-1056 4884.5,-1056 4884.5,-1056 4890.5,-1056 4896.5,-1062 4896.5,-1068 4896.5,-1068 4896.5,-1127 4896.5,-1127 4896.5,-1133 4890.5,-1139 4884.5,-1139\"/>\n<text text-anchor=\"start\" x=\"4766.5\" y=\"-1123.8\" font-family=\"Helvetica,sans-Serif\" font-size=\"14.00\">revol.util ≤ 81.45</text>\n<text text-anchor=\"start\" x=\"4783.5\" y=\"-1108.8\" font-family=\"Helvetica,sans-Serif\" font-size=\"14.00\">gini = 0.031</text>\n<text text-anchor=\"start\" x=\"4774.5\" y=\"-1093.8\" font-family=\"Helvetica,sans-Serif\" font-size=\"14.00\">samples = 383</text>\n<text text-anchor=\"start\" x=\"4770\" y=\"-1078.8\" font-family=\"Helvetica,sans-Serif\" font-size=\"14.00\">value = [568, 9]</text>\n<text text-anchor=\"start\" x=\"4785\" y=\"-1063.8\" font-family=\"Helvetica,sans-Serif\" font-size=\"14.00\">class = give</text>\n</g>\n<!-- 171&#45;&gt;172 -->\n<g id=\"edge172\" class=\"edge\">\n<title>171&#45;&gt;172</title>\n<path fill=\"none\" stroke=\"black\" d=\"M4928.72,-1174.91C4915.98,-1165.29 4902.29,-1154.95 4889.22,-1145.09\"/>\n<polygon fill=\"black\" stroke=\"black\" points=\"4891.27,-1142.25 4881.18,-1139.02 4887.05,-1147.84 4891.27,-1142.25\"/>\n</g>\n<!-- 191 -->\n<g id=\"node192\" class=\"node\">\n<title>191</title>\n<path fill=\"#399de5\" stroke=\"black\" d=\"M5034.5,-1131.5C5034.5,-1131.5 4930.5,-1131.5 4930.5,-1131.5 4924.5,-1131.5 4918.5,-1125.5 4918.5,-1119.5 4918.5,-1119.5 4918.5,-1075.5 4918.5,-1075.5 4918.5,-1069.5 4924.5,-1063.5 4930.5,-1063.5 4930.5,-1063.5 5034.5,-1063.5 5034.5,-1063.5 5040.5,-1063.5 5046.5,-1069.5 5046.5,-1075.5 5046.5,-1075.5 5046.5,-1119.5 5046.5,-1119.5 5046.5,-1125.5 5040.5,-1131.5 5034.5,-1131.5\"/>\n<text text-anchor=\"start\" x=\"4947.5\" y=\"-1116.3\" font-family=\"Helvetica,sans-Serif\" font-size=\"14.00\">gini = 0.0</text>\n<text text-anchor=\"start\" x=\"4934\" y=\"-1101.3\" font-family=\"Helvetica,sans-Serif\" font-size=\"14.00\">samples = 12</text>\n<text text-anchor=\"start\" x=\"4929.5\" y=\"-1086.3\" font-family=\"Helvetica,sans-Serif\" font-size=\"14.00\">value = [0, 14]</text>\n<text text-anchor=\"start\" x=\"4926.5\" y=\"-1071.3\" font-family=\"Helvetica,sans-Serif\" font-size=\"14.00\">class = not give</text>\n</g>\n<!-- 171&#45;&gt;191 -->\n<g id=\"edge191\" class=\"edge\">\n<title>171&#45;&gt;191</title>\n<path fill=\"none\" stroke=\"black\" d=\"M4982.5,-1174.91C4982.5,-1164.2 4982.5,-1152.62 4982.5,-1141.78\"/>\n<polygon fill=\"black\" stroke=\"black\" points=\"4986,-1141.67 4982.5,-1131.67 4979,-1141.67 4986,-1141.67\"/>\n</g>\n<!-- 173 -->\n<g id=\"node174\" class=\"node\">\n<title>173</title>\n<path fill=\"#e58139\" stroke=\"black\" d=\"M4706,-1020C4706,-1020 4545,-1020 4545,-1020 4539,-1020 4533,-1014 4533,-1008 4533,-1008 4533,-949 4533,-949 4533,-943 4539,-937 4545,-937 4545,-937 4706,-937 4706,-937 4712,-937 4718,-943 4718,-949 4718,-949 4718,-1008 4718,-1008 4718,-1014 4712,-1020 4706,-1020\"/>\n<text text-anchor=\"start\" x=\"4541\" y=\"-1004.8\" font-family=\"Helvetica,sans-Serif\" font-size=\"14.00\">log.annual.inc ≤ 10.185</text>\n<text text-anchor=\"start\" x=\"4581.5\" y=\"-989.8\" font-family=\"Helvetica,sans-Serif\" font-size=\"14.00\">gini = 0.004</text>\n<text text-anchor=\"start\" x=\"4572.5\" y=\"-974.8\" font-family=\"Helvetica,sans-Serif\" font-size=\"14.00\">samples = 304</text>\n<text text-anchor=\"start\" x=\"4568\" y=\"-959.8\" font-family=\"Helvetica,sans-Serif\" font-size=\"14.00\">value = [458, 1]</text>\n<text text-anchor=\"start\" x=\"4583\" y=\"-944.8\" font-family=\"Helvetica,sans-Serif\" font-size=\"14.00\">class = give</text>\n</g>\n<!-- 172&#45;&gt;173 -->\n<g id=\"edge173\" class=\"edge\">\n<title>172&#45;&gt;173</title>\n<path fill=\"none\" stroke=\"black\" d=\"M4758.27,-1056.4C4741.05,-1046.43 4722.47,-1035.66 4704.81,-1025.44\"/>\n<polygon fill=\"black\" stroke=\"black\" points=\"4706.08,-1022.13 4695.67,-1020.14 4702.57,-1028.19 4706.08,-1022.13\"/>\n</g>\n<!-- 178 -->\n<g id=\"node179\" class=\"node\">\n<title>178</title>\n<path fill=\"#e78a47\" stroke=\"black\" d=\"M4893,-1020C4893,-1020 4762,-1020 4762,-1020 4756,-1020 4750,-1014 4750,-1008 4750,-1008 4750,-949 4750,-949 4750,-943 4756,-937 4762,-937 4762,-937 4893,-937 4893,-937 4899,-937 4905,-943 4905,-949 4905,-949 4905,-1008 4905,-1008 4905,-1014 4899,-1020 4893,-1020\"/>\n<text text-anchor=\"start\" x=\"4758\" y=\"-1004.8\" font-family=\"Helvetica,sans-Serif\" font-size=\"14.00\">revol.bal ≤ 55504.5</text>\n<text text-anchor=\"start\" x=\"4783.5\" y=\"-989.8\" font-family=\"Helvetica,sans-Serif\" font-size=\"14.00\">gini = 0.126</text>\n<text text-anchor=\"start\" x=\"4779\" y=\"-974.8\" font-family=\"Helvetica,sans-Serif\" font-size=\"14.00\">samples = 79</text>\n<text text-anchor=\"start\" x=\"4770\" y=\"-959.8\" font-family=\"Helvetica,sans-Serif\" font-size=\"14.00\">value = [110, 8]</text>\n<text text-anchor=\"start\" x=\"4785\" y=\"-944.8\" font-family=\"Helvetica,sans-Serif\" font-size=\"14.00\">class = give</text>\n</g>\n<!-- 172&#45;&gt;178 -->\n<g id=\"edge178\" class=\"edge\">\n<title>172&#45;&gt;178</title>\n<path fill=\"none\" stroke=\"black\" d=\"M4827.5,-1055.91C4827.5,-1047.65 4827.5,-1038.86 4827.5,-1030.3\"/>\n<polygon fill=\"black\" stroke=\"black\" points=\"4831,-1030.02 4827.5,-1020.02 4824,-1030.02 4831,-1030.02\"/>\n</g>\n<!-- 174 -->\n<g id=\"node175\" class=\"node\">\n<title>174</title>\n<path fill=\"#e6843d\" stroke=\"black\" d=\"M4530,-901C4530,-901 4369,-901 4369,-901 4363,-901 4357,-895 4357,-889 4357,-889 4357,-830 4357,-830 4357,-824 4363,-818 4369,-818 4369,-818 4530,-818 4530,-818 4536,-818 4542,-824 4542,-830 4542,-830 4542,-889 4542,-889 4542,-895 4536,-901 4530,-901\"/>\n<text text-anchor=\"start\" x=\"4365\" y=\"-885.8\" font-family=\"Helvetica,sans-Serif\" font-size=\"14.00\">log.annual.inc ≤ 10.166</text>\n<text text-anchor=\"start\" x=\"4405.5\" y=\"-870.8\" font-family=\"Helvetica,sans-Serif\" font-size=\"14.00\">gini = 0.039</text>\n<text text-anchor=\"start\" x=\"4401\" y=\"-855.8\" font-family=\"Helvetica,sans-Serif\" font-size=\"14.00\">samples = 33</text>\n<text text-anchor=\"start\" x=\"4396.5\" y=\"-840.8\" font-family=\"Helvetica,sans-Serif\" font-size=\"14.00\">value = [49, 1]</text>\n<text text-anchor=\"start\" x=\"4407\" y=\"-825.8\" font-family=\"Helvetica,sans-Serif\" font-size=\"14.00\">class = give</text>\n</g>\n<!-- 173&#45;&gt;174 -->\n<g id=\"edge174\" class=\"edge\">\n<title>173&#45;&gt;174</title>\n<path fill=\"none\" stroke=\"black\" d=\"M4564.44,-936.91C4549.83,-927.2 4534.13,-916.76 4519.16,-906.81\"/>\n<polygon fill=\"black\" stroke=\"black\" points=\"4520.72,-903.64 4510.45,-901.02 4516.84,-909.47 4520.72,-903.64\"/>\n</g>\n<!-- 177 -->\n<g id=\"node178\" class=\"node\">\n<title>177</title>\n<path fill=\"#e58139\" stroke=\"black\" d=\"M4679,-893.5C4679,-893.5 4572,-893.5 4572,-893.5 4566,-893.5 4560,-887.5 4560,-881.5 4560,-881.5 4560,-837.5 4560,-837.5 4560,-831.5 4566,-825.5 4572,-825.5 4572,-825.5 4679,-825.5 4679,-825.5 4685,-825.5 4691,-831.5 4691,-837.5 4691,-837.5 4691,-881.5 4691,-881.5 4691,-887.5 4685,-893.5 4679,-893.5\"/>\n<text text-anchor=\"start\" x=\"4590.5\" y=\"-878.3\" font-family=\"Helvetica,sans-Serif\" font-size=\"14.00\">gini = 0.0</text>\n<text text-anchor=\"start\" x=\"4572.5\" y=\"-863.3\" font-family=\"Helvetica,sans-Serif\" font-size=\"14.00\">samples = 271</text>\n<text text-anchor=\"start\" x=\"4568\" y=\"-848.3\" font-family=\"Helvetica,sans-Serif\" font-size=\"14.00\">value = [409, 0]</text>\n<text text-anchor=\"start\" x=\"4583\" y=\"-833.3\" font-family=\"Helvetica,sans-Serif\" font-size=\"14.00\">class = give</text>\n</g>\n<!-- 173&#45;&gt;177 -->\n<g id=\"edge177\" class=\"edge\">\n<title>173&#45;&gt;177</title>\n<path fill=\"none\" stroke=\"black\" d=\"M4625.5,-936.91C4625.5,-926.2 4625.5,-914.62 4625.5,-903.78\"/>\n<polygon fill=\"black\" stroke=\"black\" points=\"4629,-903.67 4625.5,-893.67 4622,-903.67 4629,-903.67\"/>\n</g>\n<!-- 175 -->\n<g id=\"node176\" class=\"node\">\n<title>175</title>\n<path fill=\"#e58139\" stroke=\"black\" d=\"M4361.5,-774.5C4361.5,-774.5 4263.5,-774.5 4263.5,-774.5 4257.5,-774.5 4251.5,-768.5 4251.5,-762.5 4251.5,-762.5 4251.5,-718.5 4251.5,-718.5 4251.5,-712.5 4257.5,-706.5 4263.5,-706.5 4263.5,-706.5 4361.5,-706.5 4361.5,-706.5 4367.5,-706.5 4373.5,-712.5 4373.5,-718.5 4373.5,-718.5 4373.5,-762.5 4373.5,-762.5 4373.5,-768.5 4367.5,-774.5 4361.5,-774.5\"/>\n<text text-anchor=\"start\" x=\"4277.5\" y=\"-759.3\" font-family=\"Helvetica,sans-Serif\" font-size=\"14.00\">gini = 0.0</text>\n<text text-anchor=\"start\" x=\"4264\" y=\"-744.3\" font-family=\"Helvetica,sans-Serif\" font-size=\"14.00\">samples = 32</text>\n<text text-anchor=\"start\" x=\"4259.5\" y=\"-729.3\" font-family=\"Helvetica,sans-Serif\" font-size=\"14.00\">value = [49, 0]</text>\n<text text-anchor=\"start\" x=\"4270\" y=\"-714.3\" font-family=\"Helvetica,sans-Serif\" font-size=\"14.00\">class = give</text>\n</g>\n<!-- 174&#45;&gt;175 -->\n<g id=\"edge175\" class=\"edge\">\n<title>174&#45;&gt;175</title>\n<path fill=\"none\" stroke=\"black\" d=\"M4401.97,-817.91C4388.14,-806.1 4373.06,-793.22 4359.28,-781.45\"/>\n<polygon fill=\"black\" stroke=\"black\" points=\"4361.21,-778.5 4351.34,-774.67 4356.67,-783.82 4361.21,-778.5\"/>\n</g>\n<!-- 176 -->\n<g id=\"node177\" class=\"node\">\n<title>176</title>\n<path fill=\"#399de5\" stroke=\"black\" d=\"M4507.5,-774.5C4507.5,-774.5 4403.5,-774.5 4403.5,-774.5 4397.5,-774.5 4391.5,-768.5 4391.5,-762.5 4391.5,-762.5 4391.5,-718.5 4391.5,-718.5 4391.5,-712.5 4397.5,-706.5 4403.5,-706.5 4403.5,-706.5 4507.5,-706.5 4507.5,-706.5 4513.5,-706.5 4519.5,-712.5 4519.5,-718.5 4519.5,-718.5 4519.5,-762.5 4519.5,-762.5 4519.5,-768.5 4513.5,-774.5 4507.5,-774.5\"/>\n<text text-anchor=\"start\" x=\"4420.5\" y=\"-759.3\" font-family=\"Helvetica,sans-Serif\" font-size=\"14.00\">gini = 0.0</text>\n<text text-anchor=\"start\" x=\"4411.5\" y=\"-744.3\" font-family=\"Helvetica,sans-Serif\" font-size=\"14.00\">samples = 1</text>\n<text text-anchor=\"start\" x=\"4407\" y=\"-729.3\" font-family=\"Helvetica,sans-Serif\" font-size=\"14.00\">value = [0, 1]</text>\n<text text-anchor=\"start\" x=\"4399.5\" y=\"-714.3\" font-family=\"Helvetica,sans-Serif\" font-size=\"14.00\">class = not give</text>\n</g>\n<!-- 174&#45;&gt;176 -->\n<g id=\"edge176\" class=\"edge\">\n<title>174&#45;&gt;176</title>\n<path fill=\"none\" stroke=\"black\" d=\"M4451.58,-817.91C4452.13,-807.2 4452.72,-795.62 4453.28,-784.78\"/>\n<polygon fill=\"black\" stroke=\"black\" points=\"4456.78,-784.83 4453.8,-774.67 4449.79,-784.47 4456.78,-784.83\"/>\n</g>\n<!-- 179 -->\n<g id=\"node180\" class=\"node\">\n<title>179</title>\n<path fill=\"#e5833d\" stroke=\"black\" d=\"M4828,-901C4828,-901 4721,-901 4721,-901 4715,-901 4709,-895 4709,-889 4709,-889 4709,-830 4709,-830 4709,-824 4715,-818 4721,-818 4721,-818 4828,-818 4828,-818 4834,-818 4840,-824 4840,-830 4840,-830 4840,-889 4840,-889 4840,-895 4834,-901 4828,-901\"/>\n<text text-anchor=\"start\" x=\"4718\" y=\"-885.8\" font-family=\"Helvetica,sans-Serif\" font-size=\"14.00\">revol.util ≤ 82.1</text>\n<text text-anchor=\"start\" x=\"4730.5\" y=\"-870.8\" font-family=\"Helvetica,sans-Serif\" font-size=\"14.00\">gini = 0.037</text>\n<text text-anchor=\"start\" x=\"4726\" y=\"-855.8\" font-family=\"Helvetica,sans-Serif\" font-size=\"14.00\">samples = 72</text>\n<text text-anchor=\"start\" x=\"4717\" y=\"-840.8\" font-family=\"Helvetica,sans-Serif\" font-size=\"14.00\">value = [105, 2]</text>\n<text text-anchor=\"start\" x=\"4732\" y=\"-825.8\" font-family=\"Helvetica,sans-Serif\" font-size=\"14.00\">class = give</text>\n</g>\n<!-- 178&#45;&gt;179 -->\n<g id=\"edge179\" class=\"edge\">\n<title>178&#45;&gt;179</title>\n<path fill=\"none\" stroke=\"black\" d=\"M4809.11,-936.91C4805.21,-928.29 4801.04,-919.09 4797,-910.17\"/>\n<polygon fill=\"black\" stroke=\"black\" points=\"4800.17,-908.69 4792.86,-901.02 4793.79,-911.57 4800.17,-908.69\"/>\n</g>\n<!-- 186 -->\n<g id=\"node187\" class=\"node\">\n<title>186</title>\n<path fill=\"#deeffb\" stroke=\"black\" d=\"M4974.5,-901C4974.5,-901 4870.5,-901 4870.5,-901 4864.5,-901 4858.5,-895 4858.5,-889 4858.5,-889 4858.5,-830 4858.5,-830 4858.5,-824 4864.5,-818 4870.5,-818 4870.5,-818 4974.5,-818 4974.5,-818 4980.5,-818 4986.5,-824 4986.5,-830 4986.5,-830 4986.5,-889 4986.5,-889 4986.5,-895 4980.5,-901 4974.5,-901\"/>\n<text text-anchor=\"start\" x=\"4866.5\" y=\"-885.8\" font-family=\"Helvetica,sans-Serif\" font-size=\"14.00\">int.rate ≤ 0.144</text>\n<text text-anchor=\"start\" x=\"4878.5\" y=\"-870.8\" font-family=\"Helvetica,sans-Serif\" font-size=\"14.00\">gini = 0.496</text>\n<text text-anchor=\"start\" x=\"4878.5\" y=\"-855.8\" font-family=\"Helvetica,sans-Serif\" font-size=\"14.00\">samples = 7</text>\n<text text-anchor=\"start\" x=\"4874\" y=\"-840.8\" font-family=\"Helvetica,sans-Serif\" font-size=\"14.00\">value = [5, 6]</text>\n<text text-anchor=\"start\" x=\"4866.5\" y=\"-825.8\" font-family=\"Helvetica,sans-Serif\" font-size=\"14.00\">class = not give</text>\n</g>\n<!-- 178&#45;&gt;186 -->\n<g id=\"edge186\" class=\"edge\">\n<title>178&#45;&gt;186</title>\n<path fill=\"none\" stroke=\"black\" d=\"M4860.46,-936.91C4867.75,-927.92 4875.56,-918.32 4883.08,-909.05\"/>\n<polygon fill=\"black\" stroke=\"black\" points=\"4886.01,-910.99 4889.6,-901.02 4880.58,-906.58 4886.01,-910.99\"/>\n</g>\n<!-- 180 -->\n<g id=\"node181\" class=\"node\">\n<title>180</title>\n<path fill=\"#eb9d65\" stroke=\"black\" d=\"M4652,-782C4652,-782 4563,-782 4563,-782 4557,-782 4551,-776 4551,-770 4551,-770 4551,-711 4551,-711 4551,-705 4557,-699 4563,-699 4563,-699 4652,-699 4652,-699 4658,-699 4664,-705 4664,-711 4664,-711 4664,-770 4664,-770 4664,-776 4658,-782 4652,-782\"/>\n<text text-anchor=\"start\" x=\"4563\" y=\"-766.8\" font-family=\"Helvetica,sans-Serif\" font-size=\"14.00\">dti ≤ 20.365</text>\n<text text-anchor=\"start\" x=\"4563.5\" y=\"-751.8\" font-family=\"Helvetica,sans-Serif\" font-size=\"14.00\">gini = 0.298</text>\n<text text-anchor=\"start\" x=\"4563.5\" y=\"-736.8\" font-family=\"Helvetica,sans-Serif\" font-size=\"14.00\">samples = 5</text>\n<text text-anchor=\"start\" x=\"4559\" y=\"-721.8\" font-family=\"Helvetica,sans-Serif\" font-size=\"14.00\">value = [9, 2]</text>\n<text text-anchor=\"start\" x=\"4565\" y=\"-706.8\" font-family=\"Helvetica,sans-Serif\" font-size=\"14.00\">class = give</text>\n</g>\n<!-- 179&#45;&gt;180 -->\n<g id=\"edge180\" class=\"edge\">\n<title>179&#45;&gt;180</title>\n<path fill=\"none\" stroke=\"black\" d=\"M4716.56,-817.91C4702.39,-807.98 4687.12,-797.28 4672.64,-787.13\"/>\n<polygon fill=\"black\" stroke=\"black\" points=\"4674.41,-784.1 4664.21,-781.23 4670.39,-789.84 4674.41,-784.1\"/>\n</g>\n<!-- 185 -->\n<g id=\"node186\" class=\"node\">\n<title>185</title>\n<path fill=\"#e58139\" stroke=\"black\" d=\"M4792.5,-774.5C4792.5,-774.5 4694.5,-774.5 4694.5,-774.5 4688.5,-774.5 4682.5,-768.5 4682.5,-762.5 4682.5,-762.5 4682.5,-718.5 4682.5,-718.5 4682.5,-712.5 4688.5,-706.5 4694.5,-706.5 4694.5,-706.5 4792.5,-706.5 4792.5,-706.5 4798.5,-706.5 4804.5,-712.5 4804.5,-718.5 4804.5,-718.5 4804.5,-762.5 4804.5,-762.5 4804.5,-768.5 4798.5,-774.5 4792.5,-774.5\"/>\n<text text-anchor=\"start\" x=\"4708.5\" y=\"-759.3\" font-family=\"Helvetica,sans-Serif\" font-size=\"14.00\">gini = 0.0</text>\n<text text-anchor=\"start\" x=\"4695\" y=\"-744.3\" font-family=\"Helvetica,sans-Serif\" font-size=\"14.00\">samples = 67</text>\n<text text-anchor=\"start\" x=\"4690.5\" y=\"-729.3\" font-family=\"Helvetica,sans-Serif\" font-size=\"14.00\">value = [96, 0]</text>\n<text text-anchor=\"start\" x=\"4701\" y=\"-714.3\" font-family=\"Helvetica,sans-Serif\" font-size=\"14.00\">class = give</text>\n</g>\n<!-- 179&#45;&gt;185 -->\n<g id=\"edge185\" class=\"edge\">\n<title>179&#45;&gt;185</title>\n<path fill=\"none\" stroke=\"black\" d=\"M4763.74,-817.91C4760.88,-807.09 4757.77,-795.38 4754.88,-784.44\"/>\n<polygon fill=\"black\" stroke=\"black\" points=\"4758.23,-783.44 4752.29,-774.67 4751.47,-785.23 4758.23,-783.44\"/>\n</g>\n<!-- 181 -->\n<g id=\"node182\" class=\"node\">\n<title>181</title>\n<path fill=\"#e58139\" stroke=\"black\" d=\"M4524,-655.5C4524,-655.5 4435,-655.5 4435,-655.5 4429,-655.5 4423,-649.5 4423,-643.5 4423,-643.5 4423,-599.5 4423,-599.5 4423,-593.5 4429,-587.5 4435,-587.5 4435,-587.5 4524,-587.5 4524,-587.5 4530,-587.5 4536,-593.5 4536,-599.5 4536,-599.5 4536,-643.5 4536,-643.5 4536,-649.5 4530,-655.5 4524,-655.5\"/>\n<text text-anchor=\"start\" x=\"4444.5\" y=\"-640.3\" font-family=\"Helvetica,sans-Serif\" font-size=\"14.00\">gini = 0.0</text>\n<text text-anchor=\"start\" x=\"4435.5\" y=\"-625.3\" font-family=\"Helvetica,sans-Serif\" font-size=\"14.00\">samples = 3</text>\n<text text-anchor=\"start\" x=\"4431\" y=\"-610.3\" font-family=\"Helvetica,sans-Serif\" font-size=\"14.00\">value = [8, 0]</text>\n<text text-anchor=\"start\" x=\"4437\" y=\"-595.3\" font-family=\"Helvetica,sans-Serif\" font-size=\"14.00\">class = give</text>\n</g>\n<!-- 180&#45;&gt;181 -->\n<g id=\"edge181\" class=\"edge\">\n<title>180&#45;&gt;181</title>\n<path fill=\"none\" stroke=\"black\" d=\"M4563.09,-698.91C4550.17,-687.1 4536.08,-674.22 4523.21,-662.45\"/>\n<polygon fill=\"black\" stroke=\"black\" points=\"4525.53,-659.83 4515.79,-655.67 4520.8,-665 4525.53,-659.83\"/>\n</g>\n<!-- 182 -->\n<g id=\"node183\" class=\"node\">\n<title>182</title>\n<path fill=\"#9ccef2\" stroke=\"black\" d=\"M4670.5,-663C4670.5,-663 4566.5,-663 4566.5,-663 4560.5,-663 4554.5,-657 4554.5,-651 4554.5,-651 4554.5,-592 4554.5,-592 4554.5,-586 4560.5,-580 4566.5,-580 4566.5,-580 4670.5,-580 4670.5,-580 4676.5,-580 4682.5,-586 4682.5,-592 4682.5,-592 4682.5,-651 4682.5,-651 4682.5,-657 4676.5,-663 4670.5,-663\"/>\n<text text-anchor=\"start\" x=\"4562.5\" y=\"-647.8\" font-family=\"Helvetica,sans-Serif\" font-size=\"14.00\">int.rate ≤ 0.135</text>\n<text text-anchor=\"start\" x=\"4574.5\" y=\"-632.8\" font-family=\"Helvetica,sans-Serif\" font-size=\"14.00\">gini = 0.444</text>\n<text text-anchor=\"start\" x=\"4574.5\" y=\"-617.8\" font-family=\"Helvetica,sans-Serif\" font-size=\"14.00\">samples = 2</text>\n<text text-anchor=\"start\" x=\"4570\" y=\"-602.8\" font-family=\"Helvetica,sans-Serif\" font-size=\"14.00\">value = [1, 2]</text>\n<text text-anchor=\"start\" x=\"4562.5\" y=\"-587.8\" font-family=\"Helvetica,sans-Serif\" font-size=\"14.00\">class = not give</text>\n</g>\n<!-- 180&#45;&gt;182 -->\n<g id=\"edge182\" class=\"edge\">\n<title>180&#45;&gt;182</title>\n<path fill=\"none\" stroke=\"black\" d=\"M4611.32,-698.91C4612.1,-690.56 4612.94,-681.67 4613.75,-673.02\"/>\n<polygon fill=\"black\" stroke=\"black\" points=\"4617.24,-673.3 4614.69,-663.02 4610.27,-672.65 4617.24,-673.3\"/>\n</g>\n<!-- 183 -->\n<g id=\"node184\" class=\"node\">\n<title>183</title>\n<path fill=\"#399de5\" stroke=\"black\" d=\"M4601.5,-536.5C4601.5,-536.5 4497.5,-536.5 4497.5,-536.5 4491.5,-536.5 4485.5,-530.5 4485.5,-524.5 4485.5,-524.5 4485.5,-480.5 4485.5,-480.5 4485.5,-474.5 4491.5,-468.5 4497.5,-468.5 4497.5,-468.5 4601.5,-468.5 4601.5,-468.5 4607.5,-468.5 4613.5,-474.5 4613.5,-480.5 4613.5,-480.5 4613.5,-524.5 4613.5,-524.5 4613.5,-530.5 4607.5,-536.5 4601.5,-536.5\"/>\n<text text-anchor=\"start\" x=\"4514.5\" y=\"-521.3\" font-family=\"Helvetica,sans-Serif\" font-size=\"14.00\">gini = 0.0</text>\n<text text-anchor=\"start\" x=\"4505.5\" y=\"-506.3\" font-family=\"Helvetica,sans-Serif\" font-size=\"14.00\">samples = 1</text>\n<text text-anchor=\"start\" x=\"4501\" y=\"-491.3\" font-family=\"Helvetica,sans-Serif\" font-size=\"14.00\">value = [0, 2]</text>\n<text text-anchor=\"start\" x=\"4493.5\" y=\"-476.3\" font-family=\"Helvetica,sans-Serif\" font-size=\"14.00\">class = not give</text>\n</g>\n<!-- 182&#45;&gt;183 -->\n<g id=\"edge183\" class=\"edge\">\n<title>182&#45;&gt;183</title>\n<path fill=\"none\" stroke=\"black\" d=\"M4594.56,-579.91C4587.99,-568.76 4580.85,-556.66 4574.23,-545.44\"/>\n<polygon fill=\"black\" stroke=\"black\" points=\"4577.15,-543.5 4569.06,-536.67 4571.13,-547.06 4577.15,-543.5\"/>\n</g>\n<!-- 184 -->\n<g id=\"node185\" class=\"node\">\n<title>184</title>\n<path fill=\"#e58139\" stroke=\"black\" d=\"M4733,-536.5C4733,-536.5 4644,-536.5 4644,-536.5 4638,-536.5 4632,-530.5 4632,-524.5 4632,-524.5 4632,-480.5 4632,-480.5 4632,-474.5 4638,-468.5 4644,-468.5 4644,-468.5 4733,-468.5 4733,-468.5 4739,-468.5 4745,-474.5 4745,-480.5 4745,-480.5 4745,-524.5 4745,-524.5 4745,-530.5 4739,-536.5 4733,-536.5\"/>\n<text text-anchor=\"start\" x=\"4653.5\" y=\"-521.3\" font-family=\"Helvetica,sans-Serif\" font-size=\"14.00\">gini = 0.0</text>\n<text text-anchor=\"start\" x=\"4644.5\" y=\"-506.3\" font-family=\"Helvetica,sans-Serif\" font-size=\"14.00\">samples = 1</text>\n<text text-anchor=\"start\" x=\"4640\" y=\"-491.3\" font-family=\"Helvetica,sans-Serif\" font-size=\"14.00\">value = [1, 0]</text>\n<text text-anchor=\"start\" x=\"4646\" y=\"-476.3\" font-family=\"Helvetica,sans-Serif\" font-size=\"14.00\">class = give</text>\n</g>\n<!-- 182&#45;&gt;184 -->\n<g id=\"edge184\" class=\"edge\">\n<title>182&#45;&gt;184</title>\n<path fill=\"none\" stroke=\"black\" d=\"M4642.79,-579.91C4649.45,-568.76 4656.7,-556.66 4663.41,-545.44\"/>\n<polygon fill=\"black\" stroke=\"black\" points=\"4666.53,-547.05 4668.66,-536.67 4660.52,-543.45 4666.53,-547.05\"/>\n</g>\n<!-- 187 -->\n<g id=\"node188\" class=\"node\">\n<title>187</title>\n<path fill=\"#9ccef2\" stroke=\"black\" d=\"M4996,-782C4996,-782 4835,-782 4835,-782 4829,-782 4823,-776 4823,-770 4823,-770 4823,-711 4823,-711 4823,-705 4829,-699 4835,-699 4835,-699 4996,-699 4996,-699 5002,-699 5008,-705 5008,-711 5008,-711 5008,-770 5008,-770 5008,-776 5002,-782 4996,-782\"/>\n<text text-anchor=\"start\" x=\"4831\" y=\"-766.8\" font-family=\"Helvetica,sans-Serif\" font-size=\"14.00\">log.annual.inc ≤ 11.305</text>\n<text text-anchor=\"start\" x=\"4871.5\" y=\"-751.8\" font-family=\"Helvetica,sans-Serif\" font-size=\"14.00\">gini = 0.444</text>\n<text text-anchor=\"start\" x=\"4871.5\" y=\"-736.8\" font-family=\"Helvetica,sans-Serif\" font-size=\"14.00\">samples = 5</text>\n<text text-anchor=\"start\" x=\"4867\" y=\"-721.8\" font-family=\"Helvetica,sans-Serif\" font-size=\"14.00\">value = [3, 6]</text>\n<text text-anchor=\"start\" x=\"4859.5\" y=\"-706.8\" font-family=\"Helvetica,sans-Serif\" font-size=\"14.00\">class = not give</text>\n</g>\n<!-- 186&#45;&gt;187 -->\n<g id=\"edge187\" class=\"edge\">\n<title>186&#45;&gt;187</title>\n<path fill=\"none\" stroke=\"black\" d=\"M4920.07,-817.91C4919.57,-809.56 4919.04,-800.67 4918.52,-792.02\"/>\n<polygon fill=\"black\" stroke=\"black\" points=\"4922.02,-791.79 4917.92,-782.02 4915.03,-792.21 4922.02,-791.79\"/>\n</g>\n<!-- 190 -->\n<g id=\"node191\" class=\"node\">\n<title>190</title>\n<path fill=\"#e58139\" stroke=\"black\" d=\"M5127,-774.5C5127,-774.5 5038,-774.5 5038,-774.5 5032,-774.5 5026,-768.5 5026,-762.5 5026,-762.5 5026,-718.5 5026,-718.5 5026,-712.5 5032,-706.5 5038,-706.5 5038,-706.5 5127,-706.5 5127,-706.5 5133,-706.5 5139,-712.5 5139,-718.5 5139,-718.5 5139,-762.5 5139,-762.5 5139,-768.5 5133,-774.5 5127,-774.5\"/>\n<text text-anchor=\"start\" x=\"5047.5\" y=\"-759.3\" font-family=\"Helvetica,sans-Serif\" font-size=\"14.00\">gini = 0.0</text>\n<text text-anchor=\"start\" x=\"5038.5\" y=\"-744.3\" font-family=\"Helvetica,sans-Serif\" font-size=\"14.00\">samples = 2</text>\n<text text-anchor=\"start\" x=\"5034\" y=\"-729.3\" font-family=\"Helvetica,sans-Serif\" font-size=\"14.00\">value = [2, 0]</text>\n<text text-anchor=\"start\" x=\"5040\" y=\"-714.3\" font-family=\"Helvetica,sans-Serif\" font-size=\"14.00\">class = give</text>\n</g>\n<!-- 186&#45;&gt;190 -->\n<g id=\"edge190\" class=\"edge\">\n<title>186&#45;&gt;190</title>\n<path fill=\"none\" stroke=\"black\" d=\"M4978.01,-817.91C4994.46,-805.88 5012.44,-792.73 5028.77,-780.79\"/>\n<polygon fill=\"black\" stroke=\"black\" points=\"5031.14,-783.39 5037.14,-774.67 5027.01,-777.74 5031.14,-783.39\"/>\n</g>\n<!-- 188 -->\n<g id=\"node189\" class=\"node\">\n<title>188</title>\n<path fill=\"#399de5\" stroke=\"black\" d=\"M4897.5,-655.5C4897.5,-655.5 4793.5,-655.5 4793.5,-655.5 4787.5,-655.5 4781.5,-649.5 4781.5,-643.5 4781.5,-643.5 4781.5,-599.5 4781.5,-599.5 4781.5,-593.5 4787.5,-587.5 4793.5,-587.5 4793.5,-587.5 4897.5,-587.5 4897.5,-587.5 4903.5,-587.5 4909.5,-593.5 4909.5,-599.5 4909.5,-599.5 4909.5,-643.5 4909.5,-643.5 4909.5,-649.5 4903.5,-655.5 4897.5,-655.5\"/>\n<text text-anchor=\"start\" x=\"4810.5\" y=\"-640.3\" font-family=\"Helvetica,sans-Serif\" font-size=\"14.00\">gini = 0.0</text>\n<text text-anchor=\"start\" x=\"4801.5\" y=\"-625.3\" font-family=\"Helvetica,sans-Serif\" font-size=\"14.00\">samples = 4</text>\n<text text-anchor=\"start\" x=\"4797\" y=\"-610.3\" font-family=\"Helvetica,sans-Serif\" font-size=\"14.00\">value = [0, 6]</text>\n<text text-anchor=\"start\" x=\"4789.5\" y=\"-595.3\" font-family=\"Helvetica,sans-Serif\" font-size=\"14.00\">class = not give</text>\n</g>\n<!-- 187&#45;&gt;188 -->\n<g id=\"edge188\" class=\"edge\">\n<title>187&#45;&gt;188</title>\n<path fill=\"none\" stroke=\"black\" d=\"M4891.21,-698.91C4884.55,-687.76 4877.3,-675.66 4870.59,-664.44\"/>\n<polygon fill=\"black\" stroke=\"black\" points=\"4873.48,-662.45 4865.34,-655.67 4867.47,-666.05 4873.48,-662.45\"/>\n</g>\n<!-- 189 -->\n<g id=\"node190\" class=\"node\">\n<title>189</title>\n<path fill=\"#e58139\" stroke=\"black\" d=\"M5029,-655.5C5029,-655.5 4940,-655.5 4940,-655.5 4934,-655.5 4928,-649.5 4928,-643.5 4928,-643.5 4928,-599.5 4928,-599.5 4928,-593.5 4934,-587.5 4940,-587.5 4940,-587.5 5029,-587.5 5029,-587.5 5035,-587.5 5041,-593.5 5041,-599.5 5041,-599.5 5041,-643.5 5041,-643.5 5041,-649.5 5035,-655.5 5029,-655.5\"/>\n<text text-anchor=\"start\" x=\"4949.5\" y=\"-640.3\" font-family=\"Helvetica,sans-Serif\" font-size=\"14.00\">gini = 0.0</text>\n<text text-anchor=\"start\" x=\"4940.5\" y=\"-625.3\" font-family=\"Helvetica,sans-Serif\" font-size=\"14.00\">samples = 1</text>\n<text text-anchor=\"start\" x=\"4936\" y=\"-610.3\" font-family=\"Helvetica,sans-Serif\" font-size=\"14.00\">value = [3, 0]</text>\n<text text-anchor=\"start\" x=\"4942\" y=\"-595.3\" font-family=\"Helvetica,sans-Serif\" font-size=\"14.00\">class = give</text>\n</g>\n<!-- 187&#45;&gt;189 -->\n<g id=\"edge189\" class=\"edge\">\n<title>187&#45;&gt;189</title>\n<path fill=\"none\" stroke=\"black\" d=\"M4939.44,-698.91C4946.01,-687.76 4953.15,-675.66 4959.77,-664.44\"/>\n<polygon fill=\"black\" stroke=\"black\" points=\"4962.87,-666.06 4964.94,-655.67 4956.85,-662.5 4962.87,-666.06\"/>\n</g>\n<!-- 194 -->\n<g id=\"node195\" class=\"node\">\n<title>194</title>\n<path fill=\"#e68844\" stroke=\"black\" d=\"M5440.5,-1258C5440.5,-1258 5288.5,-1258 5288.5,-1258 5282.5,-1258 5276.5,-1252 5276.5,-1246 5276.5,-1246 5276.5,-1187 5276.5,-1187 5276.5,-1181 5282.5,-1175 5288.5,-1175 5288.5,-1175 5440.5,-1175 5440.5,-1175 5446.5,-1175 5452.5,-1181 5452.5,-1187 5452.5,-1187 5452.5,-1246 5452.5,-1246 5452.5,-1252 5446.5,-1258 5440.5,-1258\"/>\n<text text-anchor=\"start\" x=\"5284.5\" y=\"-1242.8\" font-family=\"Helvetica,sans-Serif\" font-size=\"14.00\">log.annual.inc ≤ 8.995</text>\n<text text-anchor=\"start\" x=\"5320.5\" y=\"-1227.8\" font-family=\"Helvetica,sans-Serif\" font-size=\"14.00\">gini = 0.099</text>\n<text text-anchor=\"start\" x=\"5311.5\" y=\"-1212.8\" font-family=\"Helvetica,sans-Serif\" font-size=\"14.00\">samples = 117</text>\n<text text-anchor=\"start\" x=\"5302.5\" y=\"-1197.8\" font-family=\"Helvetica,sans-Serif\" font-size=\"14.00\">value = [181, 10]</text>\n<text text-anchor=\"start\" x=\"5322\" y=\"-1182.8\" font-family=\"Helvetica,sans-Serif\" font-size=\"14.00\">class = give</text>\n</g>\n<!-- 193&#45;&gt;194 -->\n<g id=\"edge194\" class=\"edge\">\n<title>193&#45;&gt;194</title>\n<path fill=\"none\" stroke=\"black\" d=\"M5364.5,-1293.91C5364.5,-1285.65 5364.5,-1276.86 5364.5,-1268.3\"/>\n<polygon fill=\"black\" stroke=\"black\" points=\"5368,-1268.02 5364.5,-1258.02 5361,-1268.02 5368,-1268.02\"/>\n</g>\n<!-- 207 -->\n<g id=\"node208\" class=\"node\">\n<title>207</title>\n<path fill=\"#aad5f4\" stroke=\"black\" d=\"M5640,-1258C5640,-1258 5491,-1258 5491,-1258 5485,-1258 5479,-1252 5479,-1246 5479,-1246 5479,-1187 5479,-1187 5479,-1181 5485,-1175 5491,-1175 5491,-1175 5640,-1175 5640,-1175 5646,-1175 5652,-1181 5652,-1187 5652,-1187 5652,-1246 5652,-1246 5652,-1252 5646,-1258 5640,-1258\"/>\n<text text-anchor=\"start\" x=\"5487\" y=\"-1242.8\" font-family=\"Helvetica,sans-Serif\" font-size=\"14.00\">installment ≤ 324.885</text>\n<text text-anchor=\"start\" x=\"5521.5\" y=\"-1227.8\" font-family=\"Helvetica,sans-Serif\" font-size=\"14.00\">gini = 0.463</text>\n<text text-anchor=\"start\" x=\"5521.5\" y=\"-1212.8\" font-family=\"Helvetica,sans-Serif\" font-size=\"14.00\">samples = 8</text>\n<text text-anchor=\"start\" x=\"5517\" y=\"-1197.8\" font-family=\"Helvetica,sans-Serif\" font-size=\"14.00\">value = [4, 7]</text>\n<text text-anchor=\"start\" x=\"5509.5\" y=\"-1182.8\" font-family=\"Helvetica,sans-Serif\" font-size=\"14.00\">class = not give</text>\n</g>\n<!-- 193&#45;&gt;207 -->\n<g id=\"edge207\" class=\"edge\">\n<title>193&#45;&gt;207</title>\n<path fill=\"none\" stroke=\"black\" d=\"M5434.24,-1293.91C5451.23,-1284.02 5469.52,-1273.37 5486.9,-1263.25\"/>\n<polygon fill=\"black\" stroke=\"black\" points=\"5489.01,-1266.08 5495.89,-1258.02 5485.48,-1260.03 5489.01,-1266.08\"/>\n</g>\n<!-- 195 -->\n<g id=\"node196\" class=\"node\">\n<title>195</title>\n<path fill=\"#399de5\" stroke=\"black\" d=\"M5276.5,-1131.5C5276.5,-1131.5 5172.5,-1131.5 5172.5,-1131.5 5166.5,-1131.5 5160.5,-1125.5 5160.5,-1119.5 5160.5,-1119.5 5160.5,-1075.5 5160.5,-1075.5 5160.5,-1069.5 5166.5,-1063.5 5172.5,-1063.5 5172.5,-1063.5 5276.5,-1063.5 5276.5,-1063.5 5282.5,-1063.5 5288.5,-1069.5 5288.5,-1075.5 5288.5,-1075.5 5288.5,-1119.5 5288.5,-1119.5 5288.5,-1125.5 5282.5,-1131.5 5276.5,-1131.5\"/>\n<text text-anchor=\"start\" x=\"5189.5\" y=\"-1116.3\" font-family=\"Helvetica,sans-Serif\" font-size=\"14.00\">gini = 0.0</text>\n<text text-anchor=\"start\" x=\"5180.5\" y=\"-1101.3\" font-family=\"Helvetica,sans-Serif\" font-size=\"14.00\">samples = 1</text>\n<text text-anchor=\"start\" x=\"5176\" y=\"-1086.3\" font-family=\"Helvetica,sans-Serif\" font-size=\"14.00\">value = [0, 2]</text>\n<text text-anchor=\"start\" x=\"5168.5\" y=\"-1071.3\" font-family=\"Helvetica,sans-Serif\" font-size=\"14.00\">class = not give</text>\n</g>\n<!-- 194&#45;&gt;195 -->\n<g id=\"edge195\" class=\"edge\">\n<title>194&#45;&gt;195</title>\n<path fill=\"none\" stroke=\"black\" d=\"M5315.93,-1174.91C5301.67,-1162.99 5286.09,-1149.98 5271.91,-1138.12\"/>\n<polygon fill=\"black\" stroke=\"black\" points=\"5274.1,-1135.39 5264.19,-1131.67 5269.62,-1140.77 5274.1,-1135.39\"/>\n</g>\n<!-- 196 -->\n<g id=\"node197\" class=\"node\">\n<title>196</title>\n<path fill=\"#e68742\" stroke=\"black\" d=\"M5440.5,-1139C5440.5,-1139 5318.5,-1139 5318.5,-1139 5312.5,-1139 5306.5,-1133 5306.5,-1127 5306.5,-1127 5306.5,-1068 5306.5,-1068 5306.5,-1062 5312.5,-1056 5318.5,-1056 5318.5,-1056 5440.5,-1056 5440.5,-1056 5446.5,-1056 5452.5,-1062 5452.5,-1068 5452.5,-1068 5452.5,-1127 5452.5,-1127 5452.5,-1133 5446.5,-1139 5440.5,-1139\"/>\n<text text-anchor=\"start\" x=\"5314.5\" y=\"-1123.8\" font-family=\"Helvetica,sans-Serif\" font-size=\"14.00\">revol.bal ≤ 6443.5</text>\n<text text-anchor=\"start\" x=\"5335.5\" y=\"-1108.8\" font-family=\"Helvetica,sans-Serif\" font-size=\"14.00\">gini = 0.081</text>\n<text text-anchor=\"start\" x=\"5326.5\" y=\"-1093.8\" font-family=\"Helvetica,sans-Serif\" font-size=\"14.00\">samples = 116</text>\n<text text-anchor=\"start\" x=\"5322\" y=\"-1078.8\" font-family=\"Helvetica,sans-Serif\" font-size=\"14.00\">value = [181, 8]</text>\n<text text-anchor=\"start\" x=\"5337\" y=\"-1063.8\" font-family=\"Helvetica,sans-Serif\" font-size=\"14.00\">class = give</text>\n</g>\n<!-- 194&#45;&gt;196 -->\n<g id=\"edge196\" class=\"edge\">\n<title>194&#45;&gt;196</title>\n<path fill=\"none\" stroke=\"black\" d=\"M5369.7,-1174.91C5370.77,-1166.56 5371.91,-1157.67 5373.02,-1149.02\"/>\n<polygon fill=\"black\" stroke=\"black\" points=\"5376.5,-1149.38 5374.31,-1139.02 5369.56,-1148.49 5376.5,-1149.38\"/>\n</g>\n<!-- 197 -->\n<g id=\"node198\" class=\"node\">\n<title>197</title>\n<path fill=\"#e58139\" stroke=\"black\" d=\"M5320.5,-1012.5C5320.5,-1012.5 5222.5,-1012.5 5222.5,-1012.5 5216.5,-1012.5 5210.5,-1006.5 5210.5,-1000.5 5210.5,-1000.5 5210.5,-956.5 5210.5,-956.5 5210.5,-950.5 5216.5,-944.5 5222.5,-944.5 5222.5,-944.5 5320.5,-944.5 5320.5,-944.5 5326.5,-944.5 5332.5,-950.5 5332.5,-956.5 5332.5,-956.5 5332.5,-1000.5 5332.5,-1000.5 5332.5,-1006.5 5326.5,-1012.5 5320.5,-1012.5\"/>\n<text text-anchor=\"start\" x=\"5236.5\" y=\"-997.3\" font-family=\"Helvetica,sans-Serif\" font-size=\"14.00\">gini = 0.0</text>\n<text text-anchor=\"start\" x=\"5223\" y=\"-982.3\" font-family=\"Helvetica,sans-Serif\" font-size=\"14.00\">samples = 62</text>\n<text text-anchor=\"start\" x=\"5218.5\" y=\"-967.3\" font-family=\"Helvetica,sans-Serif\" font-size=\"14.00\">value = [92, 0]</text>\n<text text-anchor=\"start\" x=\"5229\" y=\"-952.3\" font-family=\"Helvetica,sans-Serif\" font-size=\"14.00\">class = give</text>\n</g>\n<!-- 196&#45;&gt;197 -->\n<g id=\"edge197\" class=\"edge\">\n<title>196&#45;&gt;197</title>\n<path fill=\"none\" stroke=\"black\" d=\"M5342.03,-1055.91C5331.33,-1044.32 5319.68,-1031.7 5308.99,-1020.11\"/>\n<polygon fill=\"black\" stroke=\"black\" points=\"5311.47,-1017.64 5302.12,-1012.67 5306.33,-1022.39 5311.47,-1017.64\"/>\n</g>\n<!-- 198 -->\n<g id=\"node199\" class=\"node\">\n<title>198</title>\n<path fill=\"#e78c4b\" stroke=\"black\" d=\"M5466.5,-1020C5466.5,-1020 5362.5,-1020 5362.5,-1020 5356.5,-1020 5350.5,-1014 5350.5,-1008 5350.5,-1008 5350.5,-949 5350.5,-949 5350.5,-943 5356.5,-937 5362.5,-937 5362.5,-937 5466.5,-937 5466.5,-937 5472.5,-937 5478.5,-943 5478.5,-949 5478.5,-949 5478.5,-1008 5478.5,-1008 5478.5,-1014 5472.5,-1020 5466.5,-1020\"/>\n<text text-anchor=\"start\" x=\"5358.5\" y=\"-1004.8\" font-family=\"Helvetica,sans-Serif\" font-size=\"14.00\">int.rate ≤ 0.131</text>\n<text text-anchor=\"start\" x=\"5370.5\" y=\"-989.8\" font-family=\"Helvetica,sans-Serif\" font-size=\"14.00\">gini = 0.151</text>\n<text text-anchor=\"start\" x=\"5366\" y=\"-974.8\" font-family=\"Helvetica,sans-Serif\" font-size=\"14.00\">samples = 54</text>\n<text text-anchor=\"start\" x=\"5361.5\" y=\"-959.8\" font-family=\"Helvetica,sans-Serif\" font-size=\"14.00\">value = [89, 8]</text>\n<text text-anchor=\"start\" x=\"5372\" y=\"-944.8\" font-family=\"Helvetica,sans-Serif\" font-size=\"14.00\">class = give</text>\n</g>\n<!-- 196&#45;&gt;198 -->\n<g id=\"edge198\" class=\"edge\">\n<title>196&#45;&gt;198</title>\n<path fill=\"none\" stroke=\"black\" d=\"M5391.64,-1055.91C5394.17,-1047.47 5396.86,-1038.48 5399.47,-1029.74\"/>\n<polygon fill=\"black\" stroke=\"black\" points=\"5402.87,-1030.6 5402.38,-1020.02 5396.16,-1028.6 5402.87,-1030.6\"/>\n</g>\n<!-- 199 -->\n<g id=\"node200\" class=\"node\">\n<title>199</title>\n<path fill=\"#e68641\" stroke=\"black\" d=\"M5479.5,-901C5479.5,-901 5327.5,-901 5327.5,-901 5321.5,-901 5315.5,-895 5315.5,-889 5315.5,-889 5315.5,-830 5315.5,-830 5315.5,-824 5321.5,-818 5327.5,-818 5327.5,-818 5479.5,-818 5479.5,-818 5485.5,-818 5491.5,-824 5491.5,-830 5491.5,-830 5491.5,-889 5491.5,-889 5491.5,-895 5485.5,-901 5479.5,-901\"/>\n<text text-anchor=\"start\" x=\"5323.5\" y=\"-885.8\" font-family=\"Helvetica,sans-Serif\" font-size=\"14.00\">log.annual.inc ≤ 9.924</text>\n<text text-anchor=\"start\" x=\"5359.5\" y=\"-870.8\" font-family=\"Helvetica,sans-Serif\" font-size=\"14.00\">gini = 0.072</text>\n<text text-anchor=\"start\" x=\"5355\" y=\"-855.8\" font-family=\"Helvetica,sans-Serif\" font-size=\"14.00\">samples = 43</text>\n<text text-anchor=\"start\" x=\"5350.5\" y=\"-840.8\" font-family=\"Helvetica,sans-Serif\" font-size=\"14.00\">value = [77, 3]</text>\n<text text-anchor=\"start\" x=\"5361\" y=\"-825.8\" font-family=\"Helvetica,sans-Serif\" font-size=\"14.00\">class = give</text>\n</g>\n<!-- 198&#45;&gt;199 -->\n<g id=\"edge199\" class=\"edge\">\n<title>198&#45;&gt;199</title>\n<path fill=\"none\" stroke=\"black\" d=\"M5410.68,-936.91C5409.9,-928.56 5409.06,-919.67 5408.25,-911.02\"/>\n<polygon fill=\"black\" stroke=\"black\" points=\"5411.73,-910.65 5407.31,-901.02 5404.76,-911.3 5411.73,-910.65\"/>\n</g>\n<!-- 204 -->\n<g id=\"node205\" class=\"node\">\n<title>204</title>\n<path fill=\"#f0b58b\" stroke=\"black\" d=\"M5619.5,-901C5619.5,-901 5521.5,-901 5521.5,-901 5515.5,-901 5509.5,-895 5509.5,-889 5509.5,-889 5509.5,-830 5509.5,-830 5509.5,-824 5515.5,-818 5521.5,-818 5521.5,-818 5619.5,-818 5619.5,-818 5625.5,-818 5631.5,-824 5631.5,-830 5631.5,-830 5631.5,-889 5631.5,-889 5631.5,-895 5625.5,-901 5619.5,-901\"/>\n<text text-anchor=\"start\" x=\"5526\" y=\"-885.8\" font-family=\"Helvetica,sans-Serif\" font-size=\"14.00\">dti ≤ 23.305</text>\n<text text-anchor=\"start\" x=\"5526.5\" y=\"-870.8\" font-family=\"Helvetica,sans-Serif\" font-size=\"14.00\">gini = 0.415</text>\n<text text-anchor=\"start\" x=\"5522\" y=\"-855.8\" font-family=\"Helvetica,sans-Serif\" font-size=\"14.00\">samples = 11</text>\n<text text-anchor=\"start\" x=\"5517.5\" y=\"-840.8\" font-family=\"Helvetica,sans-Serif\" font-size=\"14.00\">value = [12, 5]</text>\n<text text-anchor=\"start\" x=\"5528\" y=\"-825.8\" font-family=\"Helvetica,sans-Serif\" font-size=\"14.00\">class = give</text>\n</g>\n<!-- 198&#45;&gt;204 -->\n<g id=\"edge204\" class=\"edge\">\n<title>198&#45;&gt;204</title>\n<path fill=\"none\" stroke=\"black\" d=\"M5468.62,-936.91C5481.45,-927.29 5495.23,-916.95 5508.38,-907.09\"/>\n<polygon fill=\"black\" stroke=\"black\" points=\"5510.57,-909.82 5516.47,-901.02 5506.37,-904.22 5510.57,-909.82\"/>\n</g>\n<!-- 200 -->\n<g id=\"node201\" class=\"node\">\n<title>200</title>\n<path fill=\"#f5cdb0\" stroke=\"black\" d=\"M5345.5,-782C5345.5,-782 5169.5,-782 5169.5,-782 5163.5,-782 5157.5,-776 5157.5,-770 5157.5,-770 5157.5,-711 5157.5,-711 5157.5,-705 5163.5,-699 5169.5,-699 5169.5,-699 5345.5,-699 5345.5,-699 5351.5,-699 5357.5,-705 5357.5,-711 5357.5,-711 5357.5,-770 5357.5,-770 5357.5,-776 5351.5,-782 5345.5,-782\"/>\n<text text-anchor=\"start\" x=\"5165.5\" y=\"-766.8\" font-family=\"Helvetica,sans-Serif\" font-size=\"14.00\">days.with.cr.line ≤ 3060.0</text>\n<text text-anchor=\"start\" x=\"5213.5\" y=\"-751.8\" font-family=\"Helvetica,sans-Serif\" font-size=\"14.00\">gini = 0.469</text>\n<text text-anchor=\"start\" x=\"5213.5\" y=\"-736.8\" font-family=\"Helvetica,sans-Serif\" font-size=\"14.00\">samples = 3</text>\n<text text-anchor=\"start\" x=\"5209\" y=\"-721.8\" font-family=\"Helvetica,sans-Serif\" font-size=\"14.00\">value = [5, 3]</text>\n<text text-anchor=\"start\" x=\"5215\" y=\"-706.8\" font-family=\"Helvetica,sans-Serif\" font-size=\"14.00\">class = give</text>\n</g>\n<!-- 199&#45;&gt;200 -->\n<g id=\"edge200\" class=\"edge\">\n<title>199&#45;&gt;200</title>\n<path fill=\"none\" stroke=\"black\" d=\"M5352.85,-817.91C5340.96,-808.38 5328.19,-798.15 5315.99,-788.37\"/>\n<polygon fill=\"black\" stroke=\"black\" points=\"5318.06,-785.54 5308.06,-782.02 5313.68,-791.01 5318.06,-785.54\"/>\n</g>\n<!-- 203 -->\n<g id=\"node204\" class=\"node\">\n<title>203</title>\n<path fill=\"#e58139\" stroke=\"black\" d=\"M5485.5,-774.5C5485.5,-774.5 5387.5,-774.5 5387.5,-774.5 5381.5,-774.5 5375.5,-768.5 5375.5,-762.5 5375.5,-762.5 5375.5,-718.5 5375.5,-718.5 5375.5,-712.5 5381.5,-706.5 5387.5,-706.5 5387.5,-706.5 5485.5,-706.5 5485.5,-706.5 5491.5,-706.5 5497.5,-712.5 5497.5,-718.5 5497.5,-718.5 5497.5,-762.5 5497.5,-762.5 5497.5,-768.5 5491.5,-774.5 5485.5,-774.5\"/>\n<text text-anchor=\"start\" x=\"5401.5\" y=\"-759.3\" font-family=\"Helvetica,sans-Serif\" font-size=\"14.00\">gini = 0.0</text>\n<text text-anchor=\"start\" x=\"5388\" y=\"-744.3\" font-family=\"Helvetica,sans-Serif\" font-size=\"14.00\">samples = 40</text>\n<text text-anchor=\"start\" x=\"5383.5\" y=\"-729.3\" font-family=\"Helvetica,sans-Serif\" font-size=\"14.00\">value = [72, 0]</text>\n<text text-anchor=\"start\" x=\"5394\" y=\"-714.3\" font-family=\"Helvetica,sans-Serif\" font-size=\"14.00\">class = give</text>\n</g>\n<!-- 199&#45;&gt;203 -->\n<g id=\"edge203\" class=\"edge\">\n<title>199&#45;&gt;203</title>\n<path fill=\"none\" stroke=\"black\" d=\"M5414.95,-817.91C5418,-807.09 5421.3,-795.38 5424.39,-784.44\"/>\n<polygon fill=\"black\" stroke=\"black\" points=\"5427.8,-785.24 5427.15,-774.67 5421.06,-783.34 5427.8,-785.24\"/>\n</g>\n<!-- 201 -->\n<g id=\"node202\" class=\"node\">\n<title>201</title>\n<path fill=\"#399de5\" stroke=\"black\" d=\"M5242.5,-655.5C5242.5,-655.5 5138.5,-655.5 5138.5,-655.5 5132.5,-655.5 5126.5,-649.5 5126.5,-643.5 5126.5,-643.5 5126.5,-599.5 5126.5,-599.5 5126.5,-593.5 5132.5,-587.5 5138.5,-587.5 5138.5,-587.5 5242.5,-587.5 5242.5,-587.5 5248.5,-587.5 5254.5,-593.5 5254.5,-599.5 5254.5,-599.5 5254.5,-643.5 5254.5,-643.5 5254.5,-649.5 5248.5,-655.5 5242.5,-655.5\"/>\n<text text-anchor=\"start\" x=\"5155.5\" y=\"-640.3\" font-family=\"Helvetica,sans-Serif\" font-size=\"14.00\">gini = 0.0</text>\n<text text-anchor=\"start\" x=\"5146.5\" y=\"-625.3\" font-family=\"Helvetica,sans-Serif\" font-size=\"14.00\">samples = 1</text>\n<text text-anchor=\"start\" x=\"5142\" y=\"-610.3\" font-family=\"Helvetica,sans-Serif\" font-size=\"14.00\">value = [0, 3]</text>\n<text text-anchor=\"start\" x=\"5134.5\" y=\"-595.3\" font-family=\"Helvetica,sans-Serif\" font-size=\"14.00\">class = not give</text>\n</g>\n<!-- 200&#45;&gt;201 -->\n<g id=\"edge201\" class=\"edge\">\n<title>200&#45;&gt;201</title>\n<path fill=\"none\" stroke=\"black\" d=\"M5234.25,-698.91C5227.87,-687.76 5220.94,-675.66 5214.52,-664.44\"/>\n<polygon fill=\"black\" stroke=\"black\" points=\"5217.5,-662.61 5209.49,-655.67 5211.43,-666.08 5217.5,-662.61\"/>\n</g>\n<!-- 202 -->\n<g id=\"node203\" class=\"node\">\n<title>202</title>\n<path fill=\"#e58139\" stroke=\"black\" d=\"M5374,-655.5C5374,-655.5 5285,-655.5 5285,-655.5 5279,-655.5 5273,-649.5 5273,-643.5 5273,-643.5 5273,-599.5 5273,-599.5 5273,-593.5 5279,-587.5 5285,-587.5 5285,-587.5 5374,-587.5 5374,-587.5 5380,-587.5 5386,-593.5 5386,-599.5 5386,-599.5 5386,-643.5 5386,-643.5 5386,-649.5 5380,-655.5 5374,-655.5\"/>\n<text text-anchor=\"start\" x=\"5294.5\" y=\"-640.3\" font-family=\"Helvetica,sans-Serif\" font-size=\"14.00\">gini = 0.0</text>\n<text text-anchor=\"start\" x=\"5285.5\" y=\"-625.3\" font-family=\"Helvetica,sans-Serif\" font-size=\"14.00\">samples = 2</text>\n<text text-anchor=\"start\" x=\"5281\" y=\"-610.3\" font-family=\"Helvetica,sans-Serif\" font-size=\"14.00\">value = [5, 0]</text>\n<text text-anchor=\"start\" x=\"5287\" y=\"-595.3\" font-family=\"Helvetica,sans-Serif\" font-size=\"14.00\">class = give</text>\n</g>\n<!-- 200&#45;&gt;202 -->\n<g id=\"edge202\" class=\"edge\">\n<title>200&#45;&gt;202</title>\n<path fill=\"none\" stroke=\"black\" d=\"M5282.48,-698.91C5289.34,-687.76 5296.79,-675.66 5303.69,-664.44\"/>\n<polygon fill=\"black\" stroke=\"black\" points=\"5306.83,-666.02 5309.09,-655.67 5300.87,-662.35 5306.83,-666.02\"/>\n</g>\n<!-- 205 -->\n<g id=\"node206\" class=\"node\">\n<title>205</title>\n<path fill=\"#e58139\" stroke=\"black\" d=\"M5625.5,-774.5C5625.5,-774.5 5527.5,-774.5 5527.5,-774.5 5521.5,-774.5 5515.5,-768.5 5515.5,-762.5 5515.5,-762.5 5515.5,-718.5 5515.5,-718.5 5515.5,-712.5 5521.5,-706.5 5527.5,-706.5 5527.5,-706.5 5625.5,-706.5 5625.5,-706.5 5631.5,-706.5 5637.5,-712.5 5637.5,-718.5 5637.5,-718.5 5637.5,-762.5 5637.5,-762.5 5637.5,-768.5 5631.5,-774.5 5625.5,-774.5\"/>\n<text text-anchor=\"start\" x=\"5541.5\" y=\"-759.3\" font-family=\"Helvetica,sans-Serif\" font-size=\"14.00\">gini = 0.0</text>\n<text text-anchor=\"start\" x=\"5532.5\" y=\"-744.3\" font-family=\"Helvetica,sans-Serif\" font-size=\"14.00\">samples = 9</text>\n<text text-anchor=\"start\" x=\"5523.5\" y=\"-729.3\" font-family=\"Helvetica,sans-Serif\" font-size=\"14.00\">value = [12, 0]</text>\n<text text-anchor=\"start\" x=\"5534\" y=\"-714.3\" font-family=\"Helvetica,sans-Serif\" font-size=\"14.00\">class = give</text>\n</g>\n<!-- 204&#45;&gt;205 -->\n<g id=\"edge205\" class=\"edge\">\n<title>204&#45;&gt;205</title>\n<path fill=\"none\" stroke=\"black\" d=\"M5572.58,-817.91C5573.13,-807.2 5573.72,-795.62 5574.28,-784.78\"/>\n<polygon fill=\"black\" stroke=\"black\" points=\"5577.78,-784.83 5574.8,-774.67 5570.79,-784.47 5577.78,-784.83\"/>\n</g>\n<!-- 206 -->\n<g id=\"node207\" class=\"node\">\n<title>206</title>\n<path fill=\"#399de5\" stroke=\"black\" d=\"M5771.5,-774.5C5771.5,-774.5 5667.5,-774.5 5667.5,-774.5 5661.5,-774.5 5655.5,-768.5 5655.5,-762.5 5655.5,-762.5 5655.5,-718.5 5655.5,-718.5 5655.5,-712.5 5661.5,-706.5 5667.5,-706.5 5667.5,-706.5 5771.5,-706.5 5771.5,-706.5 5777.5,-706.5 5783.5,-712.5 5783.5,-718.5 5783.5,-718.5 5783.5,-762.5 5783.5,-762.5 5783.5,-768.5 5777.5,-774.5 5771.5,-774.5\"/>\n<text text-anchor=\"start\" x=\"5684.5\" y=\"-759.3\" font-family=\"Helvetica,sans-Serif\" font-size=\"14.00\">gini = 0.0</text>\n<text text-anchor=\"start\" x=\"5675.5\" y=\"-744.3\" font-family=\"Helvetica,sans-Serif\" font-size=\"14.00\">samples = 2</text>\n<text text-anchor=\"start\" x=\"5671\" y=\"-729.3\" font-family=\"Helvetica,sans-Serif\" font-size=\"14.00\">value = [0, 5]</text>\n<text text-anchor=\"start\" x=\"5663.5\" y=\"-714.3\" font-family=\"Helvetica,sans-Serif\" font-size=\"14.00\">class = not give</text>\n</g>\n<!-- 204&#45;&gt;206 -->\n<g id=\"edge206\" class=\"edge\">\n<title>204&#45;&gt;206</title>\n<path fill=\"none\" stroke=\"black\" d=\"M5622.19,-817.91C5637.37,-805.99 5653.95,-792.98 5669.04,-781.12\"/>\n<polygon fill=\"black\" stroke=\"black\" points=\"5671.56,-783.6 5677.26,-774.67 5667.24,-778.09 5671.56,-783.6\"/>\n</g>\n<!-- 208 -->\n<g id=\"node209\" class=\"node\">\n<title>208</title>\n<path fill=\"#f2c09c\" stroke=\"black\" d=\"M5633.5,-1139C5633.5,-1139 5497.5,-1139 5497.5,-1139 5491.5,-1139 5485.5,-1133 5485.5,-1127 5485.5,-1127 5485.5,-1068 5485.5,-1068 5485.5,-1062 5491.5,-1056 5497.5,-1056 5497.5,-1056 5633.5,-1056 5633.5,-1056 5639.5,-1056 5645.5,-1062 5645.5,-1068 5645.5,-1068 5645.5,-1127 5645.5,-1127 5645.5,-1133 5639.5,-1139 5633.5,-1139\"/>\n<text text-anchor=\"start\" x=\"5493.5\" y=\"-1123.8\" font-family=\"Helvetica,sans-Serif\" font-size=\"14.00\">inq.last.6mths ≤ 0.5</text>\n<text text-anchor=\"start\" x=\"5521.5\" y=\"-1108.8\" font-family=\"Helvetica,sans-Serif\" font-size=\"14.00\">gini = 0.444</text>\n<text text-anchor=\"start\" x=\"5521.5\" y=\"-1093.8\" font-family=\"Helvetica,sans-Serif\" font-size=\"14.00\">samples = 4</text>\n<text text-anchor=\"start\" x=\"5517\" y=\"-1078.8\" font-family=\"Helvetica,sans-Serif\" font-size=\"14.00\">value = [4, 2]</text>\n<text text-anchor=\"start\" x=\"5523\" y=\"-1063.8\" font-family=\"Helvetica,sans-Serif\" font-size=\"14.00\">class = give</text>\n</g>\n<!-- 207&#45;&gt;208 -->\n<g id=\"edge208\" class=\"edge\">\n<title>207&#45;&gt;208</title>\n<path fill=\"none\" stroke=\"black\" d=\"M5565.5,-1174.91C5565.5,-1166.65 5565.5,-1157.86 5565.5,-1149.3\"/>\n<polygon fill=\"black\" stroke=\"black\" points=\"5569,-1149.02 5565.5,-1139.02 5562,-1149.02 5569,-1149.02\"/>\n</g>\n<!-- 213 -->\n<g id=\"node214\" class=\"node\">\n<title>213</title>\n<path fill=\"#399de5\" stroke=\"black\" d=\"M5779.5,-1131.5C5779.5,-1131.5 5675.5,-1131.5 5675.5,-1131.5 5669.5,-1131.5 5663.5,-1125.5 5663.5,-1119.5 5663.5,-1119.5 5663.5,-1075.5 5663.5,-1075.5 5663.5,-1069.5 5669.5,-1063.5 5675.5,-1063.5 5675.5,-1063.5 5779.5,-1063.5 5779.5,-1063.5 5785.5,-1063.5 5791.5,-1069.5 5791.5,-1075.5 5791.5,-1075.5 5791.5,-1119.5 5791.5,-1119.5 5791.5,-1125.5 5785.5,-1131.5 5779.5,-1131.5\"/>\n<text text-anchor=\"start\" x=\"5692.5\" y=\"-1116.3\" font-family=\"Helvetica,sans-Serif\" font-size=\"14.00\">gini = 0.0</text>\n<text text-anchor=\"start\" x=\"5683.5\" y=\"-1101.3\" font-family=\"Helvetica,sans-Serif\" font-size=\"14.00\">samples = 4</text>\n<text text-anchor=\"start\" x=\"5679\" y=\"-1086.3\" font-family=\"Helvetica,sans-Serif\" font-size=\"14.00\">value = [0, 5]</text>\n<text text-anchor=\"start\" x=\"5671.5\" y=\"-1071.3\" font-family=\"Helvetica,sans-Serif\" font-size=\"14.00\">class = not give</text>\n</g>\n<!-- 207&#45;&gt;213 -->\n<g id=\"edge213\" class=\"edge\">\n<title>207&#45;&gt;213</title>\n<path fill=\"none\" stroke=\"black\" d=\"M5621.71,-1174.91C5638.36,-1162.88 5656.56,-1149.73 5673.1,-1137.79\"/>\n<polygon fill=\"black\" stroke=\"black\" points=\"5675.52,-1140.36 5681.58,-1131.67 5671.42,-1134.68 5675.52,-1140.36\"/>\n</g>\n<!-- 209 -->\n<g id=\"node210\" class=\"node\">\n<title>209</title>\n<path fill=\"#e58139\" stroke=\"black\" d=\"M5610,-1012.5C5610,-1012.5 5521,-1012.5 5521,-1012.5 5515,-1012.5 5509,-1006.5 5509,-1000.5 5509,-1000.5 5509,-956.5 5509,-956.5 5509,-950.5 5515,-944.5 5521,-944.5 5521,-944.5 5610,-944.5 5610,-944.5 5616,-944.5 5622,-950.5 5622,-956.5 5622,-956.5 5622,-1000.5 5622,-1000.5 5622,-1006.5 5616,-1012.5 5610,-1012.5\"/>\n<text text-anchor=\"start\" x=\"5530.5\" y=\"-997.3\" font-family=\"Helvetica,sans-Serif\" font-size=\"14.00\">gini = 0.0</text>\n<text text-anchor=\"start\" x=\"5521.5\" y=\"-982.3\" font-family=\"Helvetica,sans-Serif\" font-size=\"14.00\">samples = 2</text>\n<text text-anchor=\"start\" x=\"5517\" y=\"-967.3\" font-family=\"Helvetica,sans-Serif\" font-size=\"14.00\">value = [3, 0]</text>\n<text text-anchor=\"start\" x=\"5523\" y=\"-952.3\" font-family=\"Helvetica,sans-Serif\" font-size=\"14.00\">class = give</text>\n</g>\n<!-- 208&#45;&gt;209 -->\n<g id=\"edge209\" class=\"edge\">\n<title>208&#45;&gt;209</title>\n<path fill=\"none\" stroke=\"black\" d=\"M5565.5,-1055.91C5565.5,-1045.2 5565.5,-1033.62 5565.5,-1022.78\"/>\n<polygon fill=\"black\" stroke=\"black\" points=\"5569,-1022.67 5565.5,-1012.67 5562,-1022.67 5569,-1022.67\"/>\n</g>\n<!-- 210 -->\n<g id=\"node211\" class=\"node\">\n<title>210</title>\n<path fill=\"#9ccef2\" stroke=\"black\" d=\"M5758.5,-1020C5758.5,-1020 5654.5,-1020 5654.5,-1020 5648.5,-1020 5642.5,-1014 5642.5,-1008 5642.5,-1008 5642.5,-949 5642.5,-949 5642.5,-943 5648.5,-937 5654.5,-937 5654.5,-937 5758.5,-937 5758.5,-937 5764.5,-937 5770.5,-943 5770.5,-949 5770.5,-949 5770.5,-1008 5770.5,-1008 5770.5,-1014 5764.5,-1020 5758.5,-1020\"/>\n<text text-anchor=\"start\" x=\"5662\" y=\"-1004.8\" font-family=\"Helvetica,sans-Serif\" font-size=\"14.00\">dti ≤ 12.715</text>\n<text text-anchor=\"start\" x=\"5662.5\" y=\"-989.8\" font-family=\"Helvetica,sans-Serif\" font-size=\"14.00\">gini = 0.444</text>\n<text text-anchor=\"start\" x=\"5662.5\" y=\"-974.8\" font-family=\"Helvetica,sans-Serif\" font-size=\"14.00\">samples = 2</text>\n<text text-anchor=\"start\" x=\"5658\" y=\"-959.8\" font-family=\"Helvetica,sans-Serif\" font-size=\"14.00\">value = [1, 2]</text>\n<text text-anchor=\"start\" x=\"5650.5\" y=\"-944.8\" font-family=\"Helvetica,sans-Serif\" font-size=\"14.00\">class = not give</text>\n</g>\n<!-- 208&#45;&gt;210 -->\n<g id=\"edge210\" class=\"edge\">\n<title>208&#45;&gt;210</title>\n<path fill=\"none\" stroke=\"black\" d=\"M5614.42,-1055.91C5625.79,-1046.47 5638,-1036.34 5649.68,-1026.65\"/>\n<polygon fill=\"black\" stroke=\"black\" points=\"5652.21,-1029.1 5657.67,-1020.02 5647.74,-1023.71 5652.21,-1029.1\"/>\n</g>\n<!-- 211 -->\n<g id=\"node212\" class=\"node\">\n<title>211</title>\n<path fill=\"#e58139\" stroke=\"black\" d=\"M5751,-893.5C5751,-893.5 5662,-893.5 5662,-893.5 5656,-893.5 5650,-887.5 5650,-881.5 5650,-881.5 5650,-837.5 5650,-837.5 5650,-831.5 5656,-825.5 5662,-825.5 5662,-825.5 5751,-825.5 5751,-825.5 5757,-825.5 5763,-831.5 5763,-837.5 5763,-837.5 5763,-881.5 5763,-881.5 5763,-887.5 5757,-893.5 5751,-893.5\"/>\n<text text-anchor=\"start\" x=\"5671.5\" y=\"-878.3\" font-family=\"Helvetica,sans-Serif\" font-size=\"14.00\">gini = 0.0</text>\n<text text-anchor=\"start\" x=\"5662.5\" y=\"-863.3\" font-family=\"Helvetica,sans-Serif\" font-size=\"14.00\">samples = 1</text>\n<text text-anchor=\"start\" x=\"5658\" y=\"-848.3\" font-family=\"Helvetica,sans-Serif\" font-size=\"14.00\">value = [1, 0]</text>\n<text text-anchor=\"start\" x=\"5664\" y=\"-833.3\" font-family=\"Helvetica,sans-Serif\" font-size=\"14.00\">class = give</text>\n</g>\n<!-- 210&#45;&gt;211 -->\n<g id=\"edge211\" class=\"edge\">\n<title>210&#45;&gt;211</title>\n<path fill=\"none\" stroke=\"black\" d=\"M5706.5,-936.91C5706.5,-926.2 5706.5,-914.62 5706.5,-903.78\"/>\n<polygon fill=\"black\" stroke=\"black\" points=\"5710,-903.67 5706.5,-893.67 5703,-903.67 5710,-903.67\"/>\n</g>\n<!-- 212 -->\n<g id=\"node213\" class=\"node\">\n<title>212</title>\n<path fill=\"#399de5\" stroke=\"black\" d=\"M5897.5,-893.5C5897.5,-893.5 5793.5,-893.5 5793.5,-893.5 5787.5,-893.5 5781.5,-887.5 5781.5,-881.5 5781.5,-881.5 5781.5,-837.5 5781.5,-837.5 5781.5,-831.5 5787.5,-825.5 5793.5,-825.5 5793.5,-825.5 5897.5,-825.5 5897.5,-825.5 5903.5,-825.5 5909.5,-831.5 5909.5,-837.5 5909.5,-837.5 5909.5,-881.5 5909.5,-881.5 5909.5,-887.5 5903.5,-893.5 5897.5,-893.5\"/>\n<text text-anchor=\"start\" x=\"5810.5\" y=\"-878.3\" font-family=\"Helvetica,sans-Serif\" font-size=\"14.00\">gini = 0.0</text>\n<text text-anchor=\"start\" x=\"5801.5\" y=\"-863.3\" font-family=\"Helvetica,sans-Serif\" font-size=\"14.00\">samples = 1</text>\n<text text-anchor=\"start\" x=\"5797\" y=\"-848.3\" font-family=\"Helvetica,sans-Serif\" font-size=\"14.00\">value = [0, 2]</text>\n<text text-anchor=\"start\" x=\"5789.5\" y=\"-833.3\" font-family=\"Helvetica,sans-Serif\" font-size=\"14.00\">class = not give</text>\n</g>\n<!-- 210&#45;&gt;212 -->\n<g id=\"edge212\" class=\"edge\">\n<title>210&#45;&gt;212</title>\n<path fill=\"none\" stroke=\"black\" d=\"M5754.73,-936.91C5768.88,-924.99 5784.35,-911.98 5798.43,-900.12\"/>\n<polygon fill=\"black\" stroke=\"black\" points=\"5800.7,-902.78 5806.1,-893.67 5796.19,-897.43 5800.7,-902.78\"/>\n</g>\n<!-- 215 -->\n<g id=\"node216\" class=\"node\">\n<title>215</title>\n<path fill=\"#fae8db\" stroke=\"black\" d=\"M6724,-1496C6724,-1496 6617,-1496 6617,-1496 6611,-1496 6605,-1490 6605,-1484 6605,-1484 6605,-1425 6605,-1425 6605,-1419 6611,-1413 6617,-1413 6617,-1413 6724,-1413 6724,-1413 6730,-1413 6736,-1419 6736,-1425 6736,-1425 6736,-1484 6736,-1484 6736,-1490 6730,-1496 6724,-1496\"/>\n<text text-anchor=\"start\" x=\"6619\" y=\"-1480.8\" font-family=\"Helvetica,sans-Serif\" font-size=\"14.00\">int.rate ≤ 0.09</text>\n<text text-anchor=\"start\" x=\"6626.5\" y=\"-1465.8\" font-family=\"Helvetica,sans-Serif\" font-size=\"14.00\">gini = 0.495</text>\n<text text-anchor=\"start\" x=\"6622\" y=\"-1450.8\" font-family=\"Helvetica,sans-Serif\" font-size=\"14.00\">samples = 63</text>\n<text text-anchor=\"start\" x=\"6613\" y=\"-1435.8\" font-family=\"Helvetica,sans-Serif\" font-size=\"14.00\">value = [55, 45]</text>\n<text text-anchor=\"start\" x=\"6628\" y=\"-1420.8\" font-family=\"Helvetica,sans-Serif\" font-size=\"14.00\">class = give</text>\n</g>\n<!-- 214&#45;&gt;215 -->\n<g id=\"edge215\" class=\"edge\">\n<title>214&#45;&gt;215</title>\n<path fill=\"none\" stroke=\"black\" d=\"M6670.5,-1531.91C6670.5,-1523.65 6670.5,-1514.86 6670.5,-1506.3\"/>\n<polygon fill=\"black\" stroke=\"black\" points=\"6674,-1506.02 6670.5,-1496.02 6667,-1506.02 6674,-1506.02\"/>\n</g>\n<!-- 252 -->\n<g id=\"node253\" class=\"node\">\n<title>252</title>\n<path fill=\"#4fa8e8\" stroke=\"black\" d=\"M7057.5,-1496C7057.5,-1496 6941.5,-1496 6941.5,-1496 6935.5,-1496 6929.5,-1490 6929.5,-1484 6929.5,-1484 6929.5,-1425 6929.5,-1425 6929.5,-1419 6935.5,-1413 6941.5,-1413 6941.5,-1413 7057.5,-1413 7057.5,-1413 7063.5,-1413 7069.5,-1419 7069.5,-1425 7069.5,-1425 7069.5,-1484 7069.5,-1484 7069.5,-1490 7063.5,-1496 7057.5,-1496\"/>\n<text text-anchor=\"start\" x=\"6956\" y=\"-1480.8\" font-family=\"Helvetica,sans-Serif\" font-size=\"14.00\">fico ≤ 739.5</text>\n<text text-anchor=\"start\" x=\"6955.5\" y=\"-1465.8\" font-family=\"Helvetica,sans-Serif\" font-size=\"14.00\">gini = 0.179</text>\n<text text-anchor=\"start\" x=\"6946.5\" y=\"-1450.8\" font-family=\"Helvetica,sans-Serif\" font-size=\"14.00\">samples = 468</text>\n<text text-anchor=\"start\" x=\"6937.5\" y=\"-1435.8\" font-family=\"Helvetica,sans-Serif\" font-size=\"14.00\">value = [76, 689]</text>\n<text text-anchor=\"start\" x=\"6943.5\" y=\"-1420.8\" font-family=\"Helvetica,sans-Serif\" font-size=\"14.00\">class = not give</text>\n</g>\n<!-- 214&#45;&gt;252 -->\n<g id=\"edge252\" class=\"edge\">\n<title>214&#45;&gt;252</title>\n<path fill=\"none\" stroke=\"black\" d=\"M6745.16,-1545.95C6797.18,-1527.45 6866.5,-1502.8 6919.64,-1483.9\"/>\n<polygon fill=\"black\" stroke=\"black\" points=\"6921.11,-1487.09 6929.36,-1480.44 6918.77,-1480.5 6921.11,-1487.09\"/>\n</g>\n<!-- 216 -->\n<g id=\"node217\" class=\"node\">\n<title>216</title>\n<path fill=\"#eb9e67\" stroke=\"black\" d=\"M6645,-1377C6645,-1377 6514,-1377 6514,-1377 6508,-1377 6502,-1371 6502,-1365 6502,-1365 6502,-1306 6502,-1306 6502,-1300 6508,-1294 6514,-1294 6514,-1294 6645,-1294 6645,-1294 6651,-1294 6657,-1300 6657,-1306 6657,-1306 6657,-1365 6657,-1365 6657,-1371 6651,-1377 6645,-1377\"/>\n<text text-anchor=\"start\" x=\"6510\" y=\"-1361.8\" font-family=\"Helvetica,sans-Serif\" font-size=\"14.00\">revol.bal ≤ 96448.5</text>\n<text text-anchor=\"start\" x=\"6535.5\" y=\"-1346.8\" font-family=\"Helvetica,sans-Serif\" font-size=\"14.00\">gini = 0.307</text>\n<text text-anchor=\"start\" x=\"6531\" y=\"-1331.8\" font-family=\"Helvetica,sans-Serif\" font-size=\"14.00\">samples = 26</text>\n<text text-anchor=\"start\" x=\"6526.5\" y=\"-1316.8\" font-family=\"Helvetica,sans-Serif\" font-size=\"14.00\">value = [30, 7]</text>\n<text text-anchor=\"start\" x=\"6537\" y=\"-1301.8\" font-family=\"Helvetica,sans-Serif\" font-size=\"14.00\">class = give</text>\n</g>\n<!-- 215&#45;&gt;216 -->\n<g id=\"edge216\" class=\"edge\">\n<title>215&#45;&gt;216</title>\n<path fill=\"none\" stroke=\"black\" d=\"M6638.93,-1412.91C6631.94,-1403.92 6624.47,-1394.32 6617.26,-1385.05\"/>\n<polygon fill=\"black\" stroke=\"black\" points=\"6619.92,-1382.77 6611.02,-1377.02 6614.39,-1387.06 6619.92,-1382.77\"/>\n</g>\n<!-- 235 -->\n<g id=\"node236\" class=\"node\">\n<title>235</title>\n<path fill=\"#bbddf6\" stroke=\"black\" d=\"M6836,-1377C6836,-1377 6687,-1377 6687,-1377 6681,-1377 6675,-1371 6675,-1365 6675,-1365 6675,-1306 6675,-1306 6675,-1300 6681,-1294 6687,-1294 6687,-1294 6836,-1294 6836,-1294 6842,-1294 6848,-1300 6848,-1306 6848,-1306 6848,-1365 6848,-1365 6848,-1371 6842,-1377 6836,-1377\"/>\n<text text-anchor=\"start\" x=\"6683\" y=\"-1361.8\" font-family=\"Helvetica,sans-Serif\" font-size=\"14.00\">installment ≤ 546.215</text>\n<text text-anchor=\"start\" x=\"6717.5\" y=\"-1346.8\" font-family=\"Helvetica,sans-Serif\" font-size=\"14.00\">gini = 0.479</text>\n<text text-anchor=\"start\" x=\"6713\" y=\"-1331.8\" font-family=\"Helvetica,sans-Serif\" font-size=\"14.00\">samples = 37</text>\n<text text-anchor=\"start\" x=\"6704\" y=\"-1316.8\" font-family=\"Helvetica,sans-Serif\" font-size=\"14.00\">value = [25, 38]</text>\n<text text-anchor=\"start\" x=\"6705.5\" y=\"-1301.8\" font-family=\"Helvetica,sans-Serif\" font-size=\"14.00\">class = not give</text>\n</g>\n<!-- 215&#45;&gt;235 -->\n<g id=\"edge235\" class=\"edge\">\n<title>215&#45;&gt;235</title>\n<path fill=\"none\" stroke=\"black\" d=\"M6702.07,-1412.91C6709.06,-1403.92 6716.53,-1394.32 6723.74,-1385.05\"/>\n<polygon fill=\"black\" stroke=\"black\" points=\"6726.61,-1387.06 6729.98,-1377.02 6721.08,-1382.77 6726.61,-1387.06\"/>\n</g>\n<!-- 217 -->\n<g id=\"node218\" class=\"node\">\n<title>217</title>\n<path fill=\"#ea9a61\" stroke=\"black\" d=\"M6494.5,-1258C6494.5,-1258 6358.5,-1258 6358.5,-1258 6352.5,-1258 6346.5,-1252 6346.5,-1246 6346.5,-1246 6346.5,-1187 6346.5,-1187 6346.5,-1181 6352.5,-1175 6358.5,-1175 6358.5,-1175 6494.5,-1175 6494.5,-1175 6500.5,-1175 6506.5,-1181 6506.5,-1187 6506.5,-1187 6506.5,-1246 6506.5,-1246 6506.5,-1252 6500.5,-1258 6494.5,-1258\"/>\n<text text-anchor=\"start\" x=\"6354.5\" y=\"-1242.8\" font-family=\"Helvetica,sans-Serif\" font-size=\"14.00\">inq.last.6mths ≤ 8.0</text>\n<text text-anchor=\"start\" x=\"6382.5\" y=\"-1227.8\" font-family=\"Helvetica,sans-Serif\" font-size=\"14.00\">gini = 0.278</text>\n<text text-anchor=\"start\" x=\"6378\" y=\"-1212.8\" font-family=\"Helvetica,sans-Serif\" font-size=\"14.00\">samples = 25</text>\n<text text-anchor=\"start\" x=\"6373.5\" y=\"-1197.8\" font-family=\"Helvetica,sans-Serif\" font-size=\"14.00\">value = [30, 6]</text>\n<text text-anchor=\"start\" x=\"6384\" y=\"-1182.8\" font-family=\"Helvetica,sans-Serif\" font-size=\"14.00\">class = give</text>\n</g>\n<!-- 216&#45;&gt;217 -->\n<g id=\"edge217\" class=\"edge\">\n<title>216&#45;&gt;217</title>\n<path fill=\"none\" stroke=\"black\" d=\"M6526.42,-1293.91C6513.96,-1284.38 6500.58,-1274.15 6487.79,-1264.37\"/>\n<polygon fill=\"black\" stroke=\"black\" points=\"6489.56,-1261.32 6479.49,-1258.02 6485.31,-1266.88 6489.56,-1261.32\"/>\n</g>\n<!-- 234 -->\n<g id=\"node235\" class=\"node\">\n<title>234</title>\n<path fill=\"#399de5\" stroke=\"black\" d=\"M6640.5,-1250.5C6640.5,-1250.5 6536.5,-1250.5 6536.5,-1250.5 6530.5,-1250.5 6524.5,-1244.5 6524.5,-1238.5 6524.5,-1238.5 6524.5,-1194.5 6524.5,-1194.5 6524.5,-1188.5 6530.5,-1182.5 6536.5,-1182.5 6536.5,-1182.5 6640.5,-1182.5 6640.5,-1182.5 6646.5,-1182.5 6652.5,-1188.5 6652.5,-1194.5 6652.5,-1194.5 6652.5,-1238.5 6652.5,-1238.5 6652.5,-1244.5 6646.5,-1250.5 6640.5,-1250.5\"/>\n<text text-anchor=\"start\" x=\"6553.5\" y=\"-1235.3\" font-family=\"Helvetica,sans-Serif\" font-size=\"14.00\">gini = 0.0</text>\n<text text-anchor=\"start\" x=\"6544.5\" y=\"-1220.3\" font-family=\"Helvetica,sans-Serif\" font-size=\"14.00\">samples = 1</text>\n<text text-anchor=\"start\" x=\"6540\" y=\"-1205.3\" font-family=\"Helvetica,sans-Serif\" font-size=\"14.00\">value = [0, 1]</text>\n<text text-anchor=\"start\" x=\"6532.5\" y=\"-1190.3\" font-family=\"Helvetica,sans-Serif\" font-size=\"14.00\">class = not give</text>\n</g>\n<!-- 216&#45;&gt;234 -->\n<g id=\"edge234\" class=\"edge\">\n<title>216&#45;&gt;234</title>\n<path fill=\"none\" stroke=\"black\" d=\"M6582.62,-1293.91C6583.45,-1283.2 6584.34,-1271.62 6585.17,-1260.78\"/>\n<polygon fill=\"black\" stroke=\"black\" points=\"6588.67,-1260.91 6585.95,-1250.67 6581.69,-1260.37 6588.67,-1260.91\"/>\n</g>\n<!-- 218 -->\n<g id=\"node219\" class=\"node\">\n<title>218</title>\n<path fill=\"#e89253\" stroke=\"black\" d=\"M6354,-1139C6354,-1139 6249,-1139 6249,-1139 6243,-1139 6237,-1133 6237,-1127 6237,-1127 6237,-1068 6237,-1068 6237,-1062 6243,-1056 6249,-1056 6249,-1056 6354,-1056 6354,-1056 6360,-1056 6366,-1062 6366,-1068 6366,-1068 6366,-1127 6366,-1127 6366,-1133 6360,-1139 6354,-1139\"/>\n<text text-anchor=\"start\" x=\"6245\" y=\"-1123.8\" font-family=\"Helvetica,sans-Serif\" font-size=\"14.00\">revol.util ≤ 44.2</text>\n<text text-anchor=\"start\" x=\"6257.5\" y=\"-1108.8\" font-family=\"Helvetica,sans-Serif\" font-size=\"14.00\">gini = 0.208</text>\n<text text-anchor=\"start\" x=\"6253\" y=\"-1093.8\" font-family=\"Helvetica,sans-Serif\" font-size=\"14.00\">samples = 24</text>\n<text text-anchor=\"start\" x=\"6248.5\" y=\"-1078.8\" font-family=\"Helvetica,sans-Serif\" font-size=\"14.00\">value = [30, 4]</text>\n<text text-anchor=\"start\" x=\"6259\" y=\"-1063.8\" font-family=\"Helvetica,sans-Serif\" font-size=\"14.00\">class = give</text>\n</g>\n<!-- 217&#45;&gt;218 -->\n<g id=\"edge218\" class=\"edge\">\n<title>217&#45;&gt;218</title>\n<path fill=\"none\" stroke=\"black\" d=\"M6383.13,-1174.91C6373.15,-1165.56 6362.44,-1155.54 6352.17,-1145.93\"/>\n<polygon fill=\"black\" stroke=\"black\" points=\"6354.48,-1143.3 6344.79,-1139.02 6349.7,-1148.41 6354.48,-1143.3\"/>\n</g>\n<!-- 233 -->\n<g id=\"node234\" class=\"node\">\n<title>233</title>\n<path fill=\"#399de5\" stroke=\"black\" d=\"M6500.5,-1131.5C6500.5,-1131.5 6396.5,-1131.5 6396.5,-1131.5 6390.5,-1131.5 6384.5,-1125.5 6384.5,-1119.5 6384.5,-1119.5 6384.5,-1075.5 6384.5,-1075.5 6384.5,-1069.5 6390.5,-1063.5 6396.5,-1063.5 6396.5,-1063.5 6500.5,-1063.5 6500.5,-1063.5 6506.5,-1063.5 6512.5,-1069.5 6512.5,-1075.5 6512.5,-1075.5 6512.5,-1119.5 6512.5,-1119.5 6512.5,-1125.5 6506.5,-1131.5 6500.5,-1131.5\"/>\n<text text-anchor=\"start\" x=\"6413.5\" y=\"-1116.3\" font-family=\"Helvetica,sans-Serif\" font-size=\"14.00\">gini = 0.0</text>\n<text text-anchor=\"start\" x=\"6404.5\" y=\"-1101.3\" font-family=\"Helvetica,sans-Serif\" font-size=\"14.00\">samples = 1</text>\n<text text-anchor=\"start\" x=\"6400\" y=\"-1086.3\" font-family=\"Helvetica,sans-Serif\" font-size=\"14.00\">value = [0, 2]</text>\n<text text-anchor=\"start\" x=\"6392.5\" y=\"-1071.3\" font-family=\"Helvetica,sans-Serif\" font-size=\"14.00\">class = not give</text>\n</g>\n<!-- 217&#45;&gt;233 -->\n<g id=\"edge233\" class=\"edge\">\n<title>217&#45;&gt;233</title>\n<path fill=\"none\" stroke=\"black\" d=\"M6434.13,-1174.91C6436.15,-1164.2 6438.32,-1152.62 6440.36,-1141.78\"/>\n<polygon fill=\"black\" stroke=\"black\" points=\"6443.86,-1142.14 6442.26,-1131.67 6436.98,-1140.85 6443.86,-1142.14\"/>\n</g>\n<!-- 219 -->\n<g id=\"node220\" class=\"node\">\n<title>219</title>\n<path fill=\"#e78a47\" stroke=\"black\" d=\"M6220.5,-1020C6220.5,-1020 6026.5,-1020 6026.5,-1020 6020.5,-1020 6014.5,-1014 6014.5,-1008 6014.5,-1008 6014.5,-949 6014.5,-949 6014.5,-943 6020.5,-937 6026.5,-937 6026.5,-937 6220.5,-937 6220.5,-937 6226.5,-937 6232.5,-943 6232.5,-949 6232.5,-949 6232.5,-1008 6232.5,-1008 6232.5,-1014 6226.5,-1020 6220.5,-1020\"/>\n<text text-anchor=\"start\" x=\"6022.5\" y=\"-1004.8\" font-family=\"Helvetica,sans-Serif\" font-size=\"14.00\">days.with.cr.line ≤ 3052.479</text>\n<text text-anchor=\"start\" x=\"6079.5\" y=\"-989.8\" font-family=\"Helvetica,sans-Serif\" font-size=\"14.00\">gini = 0.121</text>\n<text text-anchor=\"start\" x=\"6075\" y=\"-974.8\" font-family=\"Helvetica,sans-Serif\" font-size=\"14.00\">samples = 21</text>\n<text text-anchor=\"start\" x=\"6070.5\" y=\"-959.8\" font-family=\"Helvetica,sans-Serif\" font-size=\"14.00\">value = [29, 2]</text>\n<text text-anchor=\"start\" x=\"6081\" y=\"-944.8\" font-family=\"Helvetica,sans-Serif\" font-size=\"14.00\">class = give</text>\n</g>\n<!-- 218&#45;&gt;219 -->\n<g id=\"edge219\" class=\"edge\">\n<title>218&#45;&gt;219</title>\n<path fill=\"none\" stroke=\"black\" d=\"M6239.74,-1055.91C6224.83,-1046.11 6208.79,-1035.56 6193.53,-1025.53\"/>\n<polygon fill=\"black\" stroke=\"black\" points=\"6195.43,-1022.59 6185.15,-1020.02 6191.58,-1028.44 6195.43,-1022.59\"/>\n</g>\n<!-- 230 -->\n<g id=\"node231\" class=\"node\">\n<title>230</title>\n<path fill=\"#9ccef2\" stroke=\"black\" d=\"M6398.5,-1020C6398.5,-1020 6262.5,-1020 6262.5,-1020 6256.5,-1020 6250.5,-1014 6250.5,-1008 6250.5,-1008 6250.5,-949 6250.5,-949 6250.5,-943 6256.5,-937 6262.5,-937 6262.5,-937 6398.5,-937 6398.5,-937 6404.5,-937 6410.5,-943 6410.5,-949 6410.5,-949 6410.5,-1008 6410.5,-1008 6410.5,-1014 6404.5,-1020 6398.5,-1020\"/>\n<text text-anchor=\"start\" x=\"6258.5\" y=\"-1004.8\" font-family=\"Helvetica,sans-Serif\" font-size=\"14.00\">inq.last.6mths ≤ 5.0</text>\n<text text-anchor=\"start\" x=\"6286.5\" y=\"-989.8\" font-family=\"Helvetica,sans-Serif\" font-size=\"14.00\">gini = 0.444</text>\n<text text-anchor=\"start\" x=\"6286.5\" y=\"-974.8\" font-family=\"Helvetica,sans-Serif\" font-size=\"14.00\">samples = 3</text>\n<text text-anchor=\"start\" x=\"6282\" y=\"-959.8\" font-family=\"Helvetica,sans-Serif\" font-size=\"14.00\">value = [1, 2]</text>\n<text text-anchor=\"start\" x=\"6274.5\" y=\"-944.8\" font-family=\"Helvetica,sans-Serif\" font-size=\"14.00\">class = not give</text>\n</g>\n<!-- 218&#45;&gt;230 -->\n<g id=\"edge230\" class=\"edge\">\n<title>218&#45;&gt;230</title>\n<path fill=\"none\" stroke=\"black\" d=\"M6311.56,-1055.91C6313.65,-1047.47 6315.88,-1038.48 6318.05,-1029.74\"/>\n<polygon fill=\"black\" stroke=\"black\" points=\"6321.45,-1030.57 6320.46,-1020.02 6314.65,-1028.89 6321.45,-1030.57\"/>\n</g>\n<!-- 220 -->\n<g id=\"node221\" class=\"node\">\n<title>220</title>\n<path fill=\"#eca06a\" stroke=\"black\" d=\"M6089,-901C6089,-901 5940,-901 5940,-901 5934,-901 5928,-895 5928,-889 5928,-889 5928,-830 5928,-830 5928,-824 5934,-818 5940,-818 5940,-818 6089,-818 6089,-818 6095,-818 6101,-824 6101,-830 6101,-830 6101,-889 6101,-889 6101,-895 6095,-901 6089,-901\"/>\n<text text-anchor=\"start\" x=\"5936\" y=\"-885.8\" font-family=\"Helvetica,sans-Serif\" font-size=\"14.00\">installment ≤ 259.885</text>\n<text text-anchor=\"start\" x=\"5975\" y=\"-870.8\" font-family=\"Helvetica,sans-Serif\" font-size=\"14.00\">gini = 0.32</text>\n<text text-anchor=\"start\" x=\"5970.5\" y=\"-855.8\" font-family=\"Helvetica,sans-Serif\" font-size=\"14.00\">samples = 4</text>\n<text text-anchor=\"start\" x=\"5966\" y=\"-840.8\" font-family=\"Helvetica,sans-Serif\" font-size=\"14.00\">value = [4, 1]</text>\n<text text-anchor=\"start\" x=\"5972\" y=\"-825.8\" font-family=\"Helvetica,sans-Serif\" font-size=\"14.00\">class = give</text>\n</g>\n<!-- 219&#45;&gt;220 -->\n<g id=\"edge220\" class=\"edge\">\n<title>219&#45;&gt;220</title>\n<path fill=\"none\" stroke=\"black\" d=\"M6085.68,-936.91C6077.14,-927.74 6068,-917.93 6059.21,-908.49\"/>\n<polygon fill=\"black\" stroke=\"black\" points=\"6061.63,-905.95 6052.25,-901.02 6056.51,-910.72 6061.63,-905.95\"/>\n</g>\n<!-- 223 -->\n<g id=\"node224\" class=\"node\">\n<title>223</title>\n<path fill=\"#e68641\" stroke=\"black\" d=\"M6236,-901C6236,-901 6131,-901 6131,-901 6125,-901 6119,-895 6119,-889 6119,-889 6119,-830 6119,-830 6119,-824 6125,-818 6131,-818 6131,-818 6236,-818 6236,-818 6242,-818 6248,-824 6248,-830 6248,-830 6248,-889 6248,-889 6248,-895 6242,-901 6236,-901\"/>\n<text text-anchor=\"start\" x=\"6127\" y=\"-885.8\" font-family=\"Helvetica,sans-Serif\" font-size=\"14.00\">revol.util ≤ 2.05</text>\n<text text-anchor=\"start\" x=\"6139.5\" y=\"-870.8\" font-family=\"Helvetica,sans-Serif\" font-size=\"14.00\">gini = 0.074</text>\n<text text-anchor=\"start\" x=\"6135\" y=\"-855.8\" font-family=\"Helvetica,sans-Serif\" font-size=\"14.00\">samples = 17</text>\n<text text-anchor=\"start\" x=\"6130.5\" y=\"-840.8\" font-family=\"Helvetica,sans-Serif\" font-size=\"14.00\">value = [25, 1]</text>\n<text text-anchor=\"start\" x=\"6141\" y=\"-825.8\" font-family=\"Helvetica,sans-Serif\" font-size=\"14.00\">class = give</text>\n</g>\n<!-- 219&#45;&gt;223 -->\n<g id=\"edge223\" class=\"edge\">\n<title>219&#45;&gt;223</title>\n<path fill=\"none\" stroke=\"black\" d=\"M6144.32,-936.91C6148.74,-928.29 6153.45,-919.09 6158.03,-910.17\"/>\n<polygon fill=\"black\" stroke=\"black\" points=\"6161.27,-911.52 6162.72,-901.02 6155.04,-908.32 6161.27,-911.52\"/>\n</g>\n<!-- 221 -->\n<g id=\"node222\" class=\"node\">\n<title>221</title>\n<path fill=\"#e58139\" stroke=\"black\" d=\"M5926,-774.5C5926,-774.5 5837,-774.5 5837,-774.5 5831,-774.5 5825,-768.5 5825,-762.5 5825,-762.5 5825,-718.5 5825,-718.5 5825,-712.5 5831,-706.5 5837,-706.5 5837,-706.5 5926,-706.5 5926,-706.5 5932,-706.5 5938,-712.5 5938,-718.5 5938,-718.5 5938,-762.5 5938,-762.5 5938,-768.5 5932,-774.5 5926,-774.5\"/>\n<text text-anchor=\"start\" x=\"5846.5\" y=\"-759.3\" font-family=\"Helvetica,sans-Serif\" font-size=\"14.00\">gini = 0.0</text>\n<text text-anchor=\"start\" x=\"5837.5\" y=\"-744.3\" font-family=\"Helvetica,sans-Serif\" font-size=\"14.00\">samples = 3</text>\n<text text-anchor=\"start\" x=\"5833\" y=\"-729.3\" font-family=\"Helvetica,sans-Serif\" font-size=\"14.00\">value = [4, 0]</text>\n<text text-anchor=\"start\" x=\"5839\" y=\"-714.3\" font-family=\"Helvetica,sans-Serif\" font-size=\"14.00\">class = give</text>\n</g>\n<!-- 220&#45;&gt;221 -->\n<g id=\"edge221\" class=\"edge\">\n<title>220&#45;&gt;221</title>\n<path fill=\"none\" stroke=\"black\" d=\"M5968.36,-817.91C5954.93,-806.1 5940.29,-793.22 5926.91,-781.45\"/>\n<polygon fill=\"black\" stroke=\"black\" points=\"5929.02,-778.64 5919.2,-774.67 5924.4,-783.9 5929.02,-778.64\"/>\n</g>\n<!-- 222 -->\n<g id=\"node223\" class=\"node\">\n<title>222</title>\n<path fill=\"#399de5\" stroke=\"black\" d=\"M6072.5,-774.5C6072.5,-774.5 5968.5,-774.5 5968.5,-774.5 5962.5,-774.5 5956.5,-768.5 5956.5,-762.5 5956.5,-762.5 5956.5,-718.5 5956.5,-718.5 5956.5,-712.5 5962.5,-706.5 5968.5,-706.5 5968.5,-706.5 6072.5,-706.5 6072.5,-706.5 6078.5,-706.5 6084.5,-712.5 6084.5,-718.5 6084.5,-718.5 6084.5,-762.5 6084.5,-762.5 6084.5,-768.5 6078.5,-774.5 6072.5,-774.5\"/>\n<text text-anchor=\"start\" x=\"5985.5\" y=\"-759.3\" font-family=\"Helvetica,sans-Serif\" font-size=\"14.00\">gini = 0.0</text>\n<text text-anchor=\"start\" x=\"5976.5\" y=\"-744.3\" font-family=\"Helvetica,sans-Serif\" font-size=\"14.00\">samples = 1</text>\n<text text-anchor=\"start\" x=\"5972\" y=\"-729.3\" font-family=\"Helvetica,sans-Serif\" font-size=\"14.00\">value = [0, 1]</text>\n<text text-anchor=\"start\" x=\"5964.5\" y=\"-714.3\" font-family=\"Helvetica,sans-Serif\" font-size=\"14.00\">class = not give</text>\n</g>\n<!-- 220&#45;&gt;222 -->\n<g id=\"edge222\" class=\"edge\">\n<title>220&#45;&gt;222</title>\n<path fill=\"none\" stroke=\"black\" d=\"M6016.58,-817.91C6017.13,-807.2 6017.72,-795.62 6018.28,-784.78\"/>\n<polygon fill=\"black\" stroke=\"black\" points=\"6021.78,-784.83 6018.8,-774.67 6014.79,-784.47 6021.78,-784.83\"/>\n</g>\n<!-- 224 -->\n<g id=\"node225\" class=\"node\">\n<title>224</title>\n<path fill=\"#f2c09c\" stroke=\"black\" d=\"M6229.5,-782C6229.5,-782 6125.5,-782 6125.5,-782 6119.5,-782 6113.5,-776 6113.5,-770 6113.5,-770 6113.5,-711 6113.5,-711 6113.5,-705 6119.5,-699 6125.5,-699 6125.5,-699 6229.5,-699 6229.5,-699 6235.5,-699 6241.5,-705 6241.5,-711 6241.5,-711 6241.5,-770 6241.5,-770 6241.5,-776 6235.5,-782 6229.5,-782\"/>\n<text text-anchor=\"start\" x=\"6121.5\" y=\"-766.8\" font-family=\"Helvetica,sans-Serif\" font-size=\"14.00\">int.rate ≤ 0.072</text>\n<text text-anchor=\"start\" x=\"6133.5\" y=\"-751.8\" font-family=\"Helvetica,sans-Serif\" font-size=\"14.00\">gini = 0.444</text>\n<text text-anchor=\"start\" x=\"6133.5\" y=\"-736.8\" font-family=\"Helvetica,sans-Serif\" font-size=\"14.00\">samples = 3</text>\n<text text-anchor=\"start\" x=\"6129\" y=\"-721.8\" font-family=\"Helvetica,sans-Serif\" font-size=\"14.00\">value = [2, 1]</text>\n<text text-anchor=\"start\" x=\"6135\" y=\"-706.8\" font-family=\"Helvetica,sans-Serif\" font-size=\"14.00\">class = give</text>\n</g>\n<!-- 223&#45;&gt;224 -->\n<g id=\"edge224\" class=\"edge\">\n<title>223&#45;&gt;224</title>\n<path fill=\"none\" stroke=\"black\" d=\"M6181.42,-817.91C6180.99,-809.56 6180.53,-800.67 6180.09,-792.02\"/>\n<polygon fill=\"black\" stroke=\"black\" points=\"6183.59,-791.83 6179.58,-782.02 6176.59,-792.19 6183.59,-791.83\"/>\n</g>\n<!-- 229 -->\n<g id=\"node230\" class=\"node\">\n<title>229</title>\n<path fill=\"#e58139\" stroke=\"black\" d=\"M6369.5,-774.5C6369.5,-774.5 6271.5,-774.5 6271.5,-774.5 6265.5,-774.5 6259.5,-768.5 6259.5,-762.5 6259.5,-762.5 6259.5,-718.5 6259.5,-718.5 6259.5,-712.5 6265.5,-706.5 6271.5,-706.5 6271.5,-706.5 6369.5,-706.5 6369.5,-706.5 6375.5,-706.5 6381.5,-712.5 6381.5,-718.5 6381.5,-718.5 6381.5,-762.5 6381.5,-762.5 6381.5,-768.5 6375.5,-774.5 6369.5,-774.5\"/>\n<text text-anchor=\"start\" x=\"6285.5\" y=\"-759.3\" font-family=\"Helvetica,sans-Serif\" font-size=\"14.00\">gini = 0.0</text>\n<text text-anchor=\"start\" x=\"6272\" y=\"-744.3\" font-family=\"Helvetica,sans-Serif\" font-size=\"14.00\">samples = 14</text>\n<text text-anchor=\"start\" x=\"6267.5\" y=\"-729.3\" font-family=\"Helvetica,sans-Serif\" font-size=\"14.00\">value = [23, 0]</text>\n<text text-anchor=\"start\" x=\"6278\" y=\"-714.3\" font-family=\"Helvetica,sans-Serif\" font-size=\"14.00\">class = give</text>\n</g>\n<!-- 223&#45;&gt;229 -->\n<g id=\"edge229\" class=\"edge\">\n<title>223&#45;&gt;229</title>\n<path fill=\"none\" stroke=\"black\" d=\"M6231.03,-817.91C6244.86,-806.1 6259.94,-793.22 6273.72,-781.45\"/>\n<polygon fill=\"black\" stroke=\"black\" points=\"6276.33,-783.82 6281.66,-774.67 6271.79,-778.5 6276.33,-783.82\"/>\n</g>\n<!-- 225 -->\n<g id=\"node226\" class=\"node\">\n<title>225</title>\n<path fill=\"#e58139\" stroke=\"black\" d=\"M6152,-655.5C6152,-655.5 6063,-655.5 6063,-655.5 6057,-655.5 6051,-649.5 6051,-643.5 6051,-643.5 6051,-599.5 6051,-599.5 6051,-593.5 6057,-587.5 6063,-587.5 6063,-587.5 6152,-587.5 6152,-587.5 6158,-587.5 6164,-593.5 6164,-599.5 6164,-599.5 6164,-643.5 6164,-643.5 6164,-649.5 6158,-655.5 6152,-655.5\"/>\n<text text-anchor=\"start\" x=\"6072.5\" y=\"-640.3\" font-family=\"Helvetica,sans-Serif\" font-size=\"14.00\">gini = 0.0</text>\n<text text-anchor=\"start\" x=\"6063.5\" y=\"-625.3\" font-family=\"Helvetica,sans-Serif\" font-size=\"14.00\">samples = 1</text>\n<text text-anchor=\"start\" x=\"6059\" y=\"-610.3\" font-family=\"Helvetica,sans-Serif\" font-size=\"14.00\">value = [1, 0]</text>\n<text text-anchor=\"start\" x=\"6065\" y=\"-595.3\" font-family=\"Helvetica,sans-Serif\" font-size=\"14.00\">class = give</text>\n</g>\n<!-- 224&#45;&gt;225 -->\n<g id=\"edge225\" class=\"edge\">\n<title>224&#45;&gt;225</title>\n<path fill=\"none\" stroke=\"black\" d=\"M6153.21,-698.91C6146.55,-687.76 6139.3,-675.66 6132.59,-664.44\"/>\n<polygon fill=\"black\" stroke=\"black\" points=\"6135.48,-662.45 6127.34,-655.67 6129.47,-666.05 6135.48,-662.45\"/>\n</g>\n<!-- 226 -->\n<g id=\"node227\" class=\"node\">\n<title>226</title>\n<path fill=\"#ffffff\" stroke=\"black\" d=\"M6299,-663C6299,-663 6194,-663 6194,-663 6188,-663 6182,-657 6182,-651 6182,-651 6182,-592 6182,-592 6182,-586 6188,-580 6194,-580 6194,-580 6299,-580 6299,-580 6305,-580 6311,-586 6311,-592 6311,-592 6311,-651 6311,-651 6311,-657 6305,-663 6299,-663\"/>\n<text text-anchor=\"start\" x=\"6190\" y=\"-647.8\" font-family=\"Helvetica,sans-Serif\" font-size=\"14.00\">revol.util ≤ 0.65</text>\n<text text-anchor=\"start\" x=\"6211.5\" y=\"-632.8\" font-family=\"Helvetica,sans-Serif\" font-size=\"14.00\">gini = 0.5</text>\n<text text-anchor=\"start\" x=\"6202.5\" y=\"-617.8\" font-family=\"Helvetica,sans-Serif\" font-size=\"14.00\">samples = 2</text>\n<text text-anchor=\"start\" x=\"6198\" y=\"-602.8\" font-family=\"Helvetica,sans-Serif\" font-size=\"14.00\">value = [1, 1]</text>\n<text text-anchor=\"start\" x=\"6204\" y=\"-587.8\" font-family=\"Helvetica,sans-Serif\" font-size=\"14.00\">class = give</text>\n</g>\n<!-- 224&#45;&gt;226 -->\n<g id=\"edge226\" class=\"edge\">\n<title>224&#45;&gt;226</title>\n<path fill=\"none\" stroke=\"black\" d=\"M6201.44,-698.91C6206.58,-690.2 6212.06,-680.9 6217.37,-671.89\"/>\n<polygon fill=\"black\" stroke=\"black\" points=\"6220.54,-673.41 6222.6,-663.02 6214.51,-669.86 6220.54,-673.41\"/>\n</g>\n<!-- 227 -->\n<g id=\"node228\" class=\"node\">\n<title>227</title>\n<path fill=\"#e58139\" stroke=\"black\" d=\"M6221,-536.5C6221,-536.5 6132,-536.5 6132,-536.5 6126,-536.5 6120,-530.5 6120,-524.5 6120,-524.5 6120,-480.5 6120,-480.5 6120,-474.5 6126,-468.5 6132,-468.5 6132,-468.5 6221,-468.5 6221,-468.5 6227,-468.5 6233,-474.5 6233,-480.5 6233,-480.5 6233,-524.5 6233,-524.5 6233,-530.5 6227,-536.5 6221,-536.5\"/>\n<text text-anchor=\"start\" x=\"6141.5\" y=\"-521.3\" font-family=\"Helvetica,sans-Serif\" font-size=\"14.00\">gini = 0.0</text>\n<text text-anchor=\"start\" x=\"6132.5\" y=\"-506.3\" font-family=\"Helvetica,sans-Serif\" font-size=\"14.00\">samples = 1</text>\n<text text-anchor=\"start\" x=\"6128\" y=\"-491.3\" font-family=\"Helvetica,sans-Serif\" font-size=\"14.00\">value = [1, 0]</text>\n<text text-anchor=\"start\" x=\"6134\" y=\"-476.3\" font-family=\"Helvetica,sans-Serif\" font-size=\"14.00\">class = give</text>\n</g>\n<!-- 226&#45;&gt;227 -->\n<g id=\"edge227\" class=\"edge\">\n<title>226&#45;&gt;227</title>\n<path fill=\"none\" stroke=\"black\" d=\"M6222.21,-579.91C6215.55,-568.76 6208.3,-556.66 6201.59,-545.44\"/>\n<polygon fill=\"black\" stroke=\"black\" points=\"6204.48,-543.45 6196.34,-536.67 6198.47,-547.05 6204.48,-543.45\"/>\n</g>\n<!-- 228 -->\n<g id=\"node229\" class=\"node\">\n<title>228</title>\n<path fill=\"#399de5\" stroke=\"black\" d=\"M6367.5,-536.5C6367.5,-536.5 6263.5,-536.5 6263.5,-536.5 6257.5,-536.5 6251.5,-530.5 6251.5,-524.5 6251.5,-524.5 6251.5,-480.5 6251.5,-480.5 6251.5,-474.5 6257.5,-468.5 6263.5,-468.5 6263.5,-468.5 6367.5,-468.5 6367.5,-468.5 6373.5,-468.5 6379.5,-474.5 6379.5,-480.5 6379.5,-480.5 6379.5,-524.5 6379.5,-524.5 6379.5,-530.5 6373.5,-536.5 6367.5,-536.5\"/>\n<text text-anchor=\"start\" x=\"6280.5\" y=\"-521.3\" font-family=\"Helvetica,sans-Serif\" font-size=\"14.00\">gini = 0.0</text>\n<text text-anchor=\"start\" x=\"6271.5\" y=\"-506.3\" font-family=\"Helvetica,sans-Serif\" font-size=\"14.00\">samples = 1</text>\n<text text-anchor=\"start\" x=\"6267\" y=\"-491.3\" font-family=\"Helvetica,sans-Serif\" font-size=\"14.00\">value = [0, 1]</text>\n<text text-anchor=\"start\" x=\"6259.5\" y=\"-476.3\" font-family=\"Helvetica,sans-Serif\" font-size=\"14.00\">class = not give</text>\n</g>\n<!-- 226&#45;&gt;228 -->\n<g id=\"edge228\" class=\"edge\">\n<title>226&#45;&gt;228</title>\n<path fill=\"none\" stroke=\"black\" d=\"M6270.44,-579.91C6277.01,-568.76 6284.15,-556.66 6290.77,-545.44\"/>\n<polygon fill=\"black\" stroke=\"black\" points=\"6293.87,-547.06 6295.94,-536.67 6287.85,-543.5 6293.87,-547.06\"/>\n</g>\n<!-- 231 -->\n<g id=\"node232\" class=\"node\">\n<title>231</title>\n<path fill=\"#399de5\" stroke=\"black\" d=\"M6382.5,-893.5C6382.5,-893.5 6278.5,-893.5 6278.5,-893.5 6272.5,-893.5 6266.5,-887.5 6266.5,-881.5 6266.5,-881.5 6266.5,-837.5 6266.5,-837.5 6266.5,-831.5 6272.5,-825.5 6278.5,-825.5 6278.5,-825.5 6382.5,-825.5 6382.5,-825.5 6388.5,-825.5 6394.5,-831.5 6394.5,-837.5 6394.5,-837.5 6394.5,-881.5 6394.5,-881.5 6394.5,-887.5 6388.5,-893.5 6382.5,-893.5\"/>\n<text text-anchor=\"start\" x=\"6295.5\" y=\"-878.3\" font-family=\"Helvetica,sans-Serif\" font-size=\"14.00\">gini = 0.0</text>\n<text text-anchor=\"start\" x=\"6286.5\" y=\"-863.3\" font-family=\"Helvetica,sans-Serif\" font-size=\"14.00\">samples = 2</text>\n<text text-anchor=\"start\" x=\"6282\" y=\"-848.3\" font-family=\"Helvetica,sans-Serif\" font-size=\"14.00\">value = [0, 2]</text>\n<text text-anchor=\"start\" x=\"6274.5\" y=\"-833.3\" font-family=\"Helvetica,sans-Serif\" font-size=\"14.00\">class = not give</text>\n</g>\n<!-- 230&#45;&gt;231 -->\n<g id=\"edge231\" class=\"edge\">\n<title>230&#45;&gt;231</title>\n<path fill=\"none\" stroke=\"black\" d=\"M6330.5,-936.91C6330.5,-926.2 6330.5,-914.62 6330.5,-903.78\"/>\n<polygon fill=\"black\" stroke=\"black\" points=\"6334,-903.67 6330.5,-893.67 6327,-903.67 6334,-903.67\"/>\n</g>\n<!-- 232 -->\n<g id=\"node233\" class=\"node\">\n<title>232</title>\n<path fill=\"#e58139\" stroke=\"black\" d=\"M6514,-893.5C6514,-893.5 6425,-893.5 6425,-893.5 6419,-893.5 6413,-887.5 6413,-881.5 6413,-881.5 6413,-837.5 6413,-837.5 6413,-831.5 6419,-825.5 6425,-825.5 6425,-825.5 6514,-825.5 6514,-825.5 6520,-825.5 6526,-831.5 6526,-837.5 6526,-837.5 6526,-881.5 6526,-881.5 6526,-887.5 6520,-893.5 6514,-893.5\"/>\n<text text-anchor=\"start\" x=\"6434.5\" y=\"-878.3\" font-family=\"Helvetica,sans-Serif\" font-size=\"14.00\">gini = 0.0</text>\n<text text-anchor=\"start\" x=\"6425.5\" y=\"-863.3\" font-family=\"Helvetica,sans-Serif\" font-size=\"14.00\">samples = 1</text>\n<text text-anchor=\"start\" x=\"6421\" y=\"-848.3\" font-family=\"Helvetica,sans-Serif\" font-size=\"14.00\">value = [1, 0]</text>\n<text text-anchor=\"start\" x=\"6427\" y=\"-833.3\" font-family=\"Helvetica,sans-Serif\" font-size=\"14.00\">class = give</text>\n</g>\n<!-- 230&#45;&gt;232 -->\n<g id=\"edge232\" class=\"edge\">\n<title>230&#45;&gt;232</title>\n<path fill=\"none\" stroke=\"black\" d=\"M6378.73,-936.91C6392.88,-924.99 6408.35,-911.98 6422.43,-900.12\"/>\n<polygon fill=\"black\" stroke=\"black\" points=\"6424.7,-902.78 6430.1,-893.67 6420.19,-897.43 6424.7,-902.78\"/>\n</g>\n<!-- 236 -->\n<g id=\"node237\" class=\"node\">\n<title>236</title>\n<path fill=\"#8ec7f0\" stroke=\"black\" d=\"M6807,-1258C6807,-1258 6700,-1258 6700,-1258 6694,-1258 6688,-1252 6688,-1246 6688,-1246 6688,-1187 6688,-1187 6688,-1181 6694,-1175 6700,-1175 6700,-1175 6807,-1175 6807,-1175 6813,-1175 6819,-1181 6819,-1187 6819,-1187 6819,-1246 6819,-1246 6819,-1252 6813,-1258 6807,-1258\"/>\n<text text-anchor=\"start\" x=\"6713.5\" y=\"-1242.8\" font-family=\"Helvetica,sans-Serif\" font-size=\"14.00\">dti ≤ 11.45</text>\n<text text-anchor=\"start\" x=\"6714\" y=\"-1227.8\" font-family=\"Helvetica,sans-Serif\" font-size=\"14.00\">gini = 0.42</text>\n<text text-anchor=\"start\" x=\"6705\" y=\"-1212.8\" font-family=\"Helvetica,sans-Serif\" font-size=\"14.00\">samples = 29</text>\n<text text-anchor=\"start\" x=\"6696\" y=\"-1197.8\" font-family=\"Helvetica,sans-Serif\" font-size=\"14.00\">value = [15, 35]</text>\n<text text-anchor=\"start\" x=\"6697.5\" y=\"-1182.8\" font-family=\"Helvetica,sans-Serif\" font-size=\"14.00\">class = not give</text>\n</g>\n<!-- 235&#45;&gt;236 -->\n<g id=\"edge236\" class=\"edge\">\n<title>235&#45;&gt;236</title>\n<path fill=\"none\" stroke=\"black\" d=\"M6758.72,-1293.91C6758.15,-1285.56 6757.55,-1276.67 6756.95,-1268.02\"/>\n<polygon fill=\"black\" stroke=\"black\" points=\"6760.44,-1267.76 6756.27,-1258.02 6753.46,-1268.24 6760.44,-1267.76\"/>\n</g>\n<!-- 249 -->\n<g id=\"node250\" class=\"node\">\n<title>249</title>\n<path fill=\"#eda774\" stroke=\"black\" d=\"M6998,-1258C6998,-1258 6849,-1258 6849,-1258 6843,-1258 6837,-1252 6837,-1246 6837,-1246 6837,-1187 6837,-1187 6837,-1181 6843,-1175 6849,-1175 6849,-1175 6998,-1175 6998,-1175 7004,-1175 7010,-1181 7010,-1187 7010,-1187 7010,-1246 7010,-1246 7010,-1252 7004,-1258 6998,-1258\"/>\n<text text-anchor=\"start\" x=\"6845\" y=\"-1242.8\" font-family=\"Helvetica,sans-Serif\" font-size=\"14.00\">installment ≤ 805.455</text>\n<text text-anchor=\"start\" x=\"6879.5\" y=\"-1227.8\" font-family=\"Helvetica,sans-Serif\" font-size=\"14.00\">gini = 0.355</text>\n<text text-anchor=\"start\" x=\"6879.5\" y=\"-1212.8\" font-family=\"Helvetica,sans-Serif\" font-size=\"14.00\">samples = 8</text>\n<text text-anchor=\"start\" x=\"6870.5\" y=\"-1197.8\" font-family=\"Helvetica,sans-Serif\" font-size=\"14.00\">value = [10, 3]</text>\n<text text-anchor=\"start\" x=\"6881\" y=\"-1182.8\" font-family=\"Helvetica,sans-Serif\" font-size=\"14.00\">class = give</text>\n</g>\n<!-- 235&#45;&gt;249 -->\n<g id=\"edge249\" class=\"edge\">\n<title>235&#45;&gt;249</title>\n<path fill=\"none\" stroke=\"black\" d=\"M6817.71,-1293.91C6831.02,-1284.29 6845.33,-1273.95 6858.99,-1264.09\"/>\n<polygon fill=\"black\" stroke=\"black\" points=\"6861.34,-1266.71 6867.39,-1258.02 6857.24,-1261.04 6861.34,-1266.71\"/>\n</g>\n<!-- 237 -->\n<g id=\"node238\" class=\"node\">\n<title>237</title>\n<path fill=\"#61b1ea\" stroke=\"black\" d=\"M6659.5,-1139C6659.5,-1139 6555.5,-1139 6555.5,-1139 6549.5,-1139 6543.5,-1133 6543.5,-1127 6543.5,-1127 6543.5,-1068 6543.5,-1068 6543.5,-1062 6549.5,-1056 6555.5,-1056 6555.5,-1056 6659.5,-1056 6659.5,-1056 6665.5,-1056 6671.5,-1062 6671.5,-1068 6671.5,-1068 6671.5,-1127 6671.5,-1127 6671.5,-1133 6665.5,-1139 6659.5,-1139\"/>\n<text text-anchor=\"start\" x=\"6564\" y=\"-1123.8\" font-family=\"Helvetica,sans-Serif\" font-size=\"14.00\">fico ≤ 742.0</text>\n<text text-anchor=\"start\" x=\"6563.5\" y=\"-1108.8\" font-family=\"Helvetica,sans-Serif\" font-size=\"14.00\">gini = 0.278</text>\n<text text-anchor=\"start\" x=\"6559\" y=\"-1093.8\" font-family=\"Helvetica,sans-Serif\" font-size=\"14.00\">samples = 16</text>\n<text text-anchor=\"start\" x=\"6554.5\" y=\"-1078.8\" font-family=\"Helvetica,sans-Serif\" font-size=\"14.00\">value = [5, 25]</text>\n<text text-anchor=\"start\" x=\"6551.5\" y=\"-1063.8\" font-family=\"Helvetica,sans-Serif\" font-size=\"14.00\">class = not give</text>\n</g>\n<!-- 236&#45;&gt;237 -->\n<g id=\"edge237\" class=\"edge\">\n<title>236&#45;&gt;237</title>\n<path fill=\"none\" stroke=\"black\" d=\"M6702.85,-1174.91C6690.96,-1165.38 6678.19,-1155.15 6665.99,-1145.37\"/>\n<polygon fill=\"black\" stroke=\"black\" points=\"6668.06,-1142.54 6658.06,-1139.02 6663.68,-1148.01 6668.06,-1142.54\"/>\n</g>\n<!-- 240 -->\n<g id=\"node241\" class=\"node\">\n<title>240</title>\n<path fill=\"#ffffff\" stroke=\"black\" d=\"M6823.5,-1139C6823.5,-1139 6701.5,-1139 6701.5,-1139 6695.5,-1139 6689.5,-1133 6689.5,-1127 6689.5,-1127 6689.5,-1068 6689.5,-1068 6689.5,-1062 6695.5,-1056 6701.5,-1056 6701.5,-1056 6823.5,-1056 6823.5,-1056 6829.5,-1056 6835.5,-1062 6835.5,-1068 6835.5,-1068 6835.5,-1127 6835.5,-1127 6835.5,-1133 6829.5,-1139 6823.5,-1139\"/>\n<text text-anchor=\"start\" x=\"6697.5\" y=\"-1123.8\" font-family=\"Helvetica,sans-Serif\" font-size=\"14.00\">revol.bal ≤ 1492.5</text>\n<text text-anchor=\"start\" x=\"6727.5\" y=\"-1108.8\" font-family=\"Helvetica,sans-Serif\" font-size=\"14.00\">gini = 0.5</text>\n<text text-anchor=\"start\" x=\"6714\" y=\"-1093.8\" font-family=\"Helvetica,sans-Serif\" font-size=\"14.00\">samples = 13</text>\n<text text-anchor=\"start\" x=\"6705\" y=\"-1078.8\" font-family=\"Helvetica,sans-Serif\" font-size=\"14.00\">value = [10, 10]</text>\n<text text-anchor=\"start\" x=\"6720\" y=\"-1063.8\" font-family=\"Helvetica,sans-Serif\" font-size=\"14.00\">class = give</text>\n</g>\n<!-- 236&#45;&gt;240 -->\n<g id=\"edge240\" class=\"edge\">\n<title>236&#45;&gt;240</title>\n<path fill=\"none\" stroke=\"black\" d=\"M6756.62,-1174.91C6757.26,-1166.56 6757.95,-1157.67 6758.61,-1149.02\"/>\n<polygon fill=\"black\" stroke=\"black\" points=\"6762.11,-1149.26 6759.38,-1139.02 6755.13,-1148.72 6762.11,-1149.26\"/>\n</g>\n<!-- 238 -->\n<g id=\"node239\" class=\"node\">\n<title>238</title>\n<path fill=\"#399de5\" stroke=\"black\" d=\"M6544.5,-1012.5C6544.5,-1012.5 6440.5,-1012.5 6440.5,-1012.5 6434.5,-1012.5 6428.5,-1006.5 6428.5,-1000.5 6428.5,-1000.5 6428.5,-956.5 6428.5,-956.5 6428.5,-950.5 6434.5,-944.5 6440.5,-944.5 6440.5,-944.5 6544.5,-944.5 6544.5,-944.5 6550.5,-944.5 6556.5,-950.5 6556.5,-956.5 6556.5,-956.5 6556.5,-1000.5 6556.5,-1000.5 6556.5,-1006.5 6550.5,-1012.5 6544.5,-1012.5\"/>\n<text text-anchor=\"start\" x=\"6457.5\" y=\"-997.3\" font-family=\"Helvetica,sans-Serif\" font-size=\"14.00\">gini = 0.0</text>\n<text text-anchor=\"start\" x=\"6444\" y=\"-982.3\" font-family=\"Helvetica,sans-Serif\" font-size=\"14.00\">samples = 13</text>\n<text text-anchor=\"start\" x=\"6439.5\" y=\"-967.3\" font-family=\"Helvetica,sans-Serif\" font-size=\"14.00\">value = [0, 25]</text>\n<text text-anchor=\"start\" x=\"6436.5\" y=\"-952.3\" font-family=\"Helvetica,sans-Serif\" font-size=\"14.00\">class = not give</text>\n</g>\n<!-- 237&#45;&gt;238 -->\n<g id=\"edge238\" class=\"edge\">\n<title>237&#45;&gt;238</title>\n<path fill=\"none\" stroke=\"black\" d=\"M6567.6,-1055.91C6556.21,-1044.32 6543.81,-1031.7 6532.42,-1020.11\"/>\n<polygon fill=\"black\" stroke=\"black\" points=\"6534.61,-1017.35 6525.1,-1012.67 6529.61,-1022.25 6534.61,-1017.35\"/>\n</g>\n<!-- 239 -->\n<g id=\"node240\" class=\"node\">\n<title>239</title>\n<path fill=\"#e58139\" stroke=\"black\" d=\"M6676,-1012.5C6676,-1012.5 6587,-1012.5 6587,-1012.5 6581,-1012.5 6575,-1006.5 6575,-1000.5 6575,-1000.5 6575,-956.5 6575,-956.5 6575,-950.5 6581,-944.5 6587,-944.5 6587,-944.5 6676,-944.5 6676,-944.5 6682,-944.5 6688,-950.5 6688,-956.5 6688,-956.5 6688,-1000.5 6688,-1000.5 6688,-1006.5 6682,-1012.5 6676,-1012.5\"/>\n<text text-anchor=\"start\" x=\"6596.5\" y=\"-997.3\" font-family=\"Helvetica,sans-Serif\" font-size=\"14.00\">gini = 0.0</text>\n<text text-anchor=\"start\" x=\"6587.5\" y=\"-982.3\" font-family=\"Helvetica,sans-Serif\" font-size=\"14.00\">samples = 3</text>\n<text text-anchor=\"start\" x=\"6583\" y=\"-967.3\" font-family=\"Helvetica,sans-Serif\" font-size=\"14.00\">value = [5, 0]</text>\n<text text-anchor=\"start\" x=\"6589\" y=\"-952.3\" font-family=\"Helvetica,sans-Serif\" font-size=\"14.00\">class = give</text>\n</g>\n<!-- 237&#45;&gt;239 -->\n<g id=\"edge239\" class=\"edge\">\n<title>237&#45;&gt;239</title>\n<path fill=\"none\" stroke=\"black\" d=\"M6615.83,-1055.91C6618.02,-1045.2 6620.4,-1033.62 6622.62,-1022.78\"/>\n<polygon fill=\"black\" stroke=\"black\" points=\"6626.12,-1023.17 6624.7,-1012.67 6619.26,-1021.76 6626.12,-1023.17\"/>\n</g>\n<!-- 241 -->\n<g id=\"node242\" class=\"node\">\n<title>241</title>\n<path fill=\"#e58139\" stroke=\"black\" d=\"M6807,-1012.5C6807,-1012.5 6718,-1012.5 6718,-1012.5 6712,-1012.5 6706,-1006.5 6706,-1000.5 6706,-1000.5 6706,-956.5 6706,-956.5 6706,-950.5 6712,-944.5 6718,-944.5 6718,-944.5 6807,-944.5 6807,-944.5 6813,-944.5 6819,-950.5 6819,-956.5 6819,-956.5 6819,-1000.5 6819,-1000.5 6819,-1006.5 6813,-1012.5 6807,-1012.5\"/>\n<text text-anchor=\"start\" x=\"6727.5\" y=\"-997.3\" font-family=\"Helvetica,sans-Serif\" font-size=\"14.00\">gini = 0.0</text>\n<text text-anchor=\"start\" x=\"6718.5\" y=\"-982.3\" font-family=\"Helvetica,sans-Serif\" font-size=\"14.00\">samples = 2</text>\n<text text-anchor=\"start\" x=\"6714\" y=\"-967.3\" font-family=\"Helvetica,sans-Serif\" font-size=\"14.00\">value = [2, 0]</text>\n<text text-anchor=\"start\" x=\"6720\" y=\"-952.3\" font-family=\"Helvetica,sans-Serif\" font-size=\"14.00\">class = give</text>\n</g>\n<!-- 240&#45;&gt;241 -->\n<g id=\"edge241\" class=\"edge\">\n<title>240&#45;&gt;241</title>\n<path fill=\"none\" stroke=\"black\" d=\"M6762.5,-1055.91C6762.5,-1045.2 6762.5,-1033.62 6762.5,-1022.78\"/>\n<polygon fill=\"black\" stroke=\"black\" points=\"6766,-1022.67 6762.5,-1012.67 6759,-1022.67 6766,-1022.67\"/>\n</g>\n<!-- 242 -->\n<g id=\"node243\" class=\"node\">\n<title>242</title>\n<path fill=\"#d7ebfa\" stroke=\"black\" d=\"M6998,-1020C6998,-1020 6849,-1020 6849,-1020 6843,-1020 6837,-1014 6837,-1008 6837,-1008 6837,-949 6837,-949 6837,-943 6843,-937 6849,-937 6849,-937 6998,-937 6998,-937 7004,-937 7010,-943 7010,-949 7010,-949 7010,-1008 7010,-1008 7010,-1014 7004,-1020 6998,-1020\"/>\n<text text-anchor=\"start\" x=\"6845\" y=\"-1004.8\" font-family=\"Helvetica,sans-Serif\" font-size=\"14.00\">installment ≤ 215.035</text>\n<text text-anchor=\"start\" x=\"6879.5\" y=\"-989.8\" font-family=\"Helvetica,sans-Serif\" font-size=\"14.00\">gini = 0.494</text>\n<text text-anchor=\"start\" x=\"6875\" y=\"-974.8\" font-family=\"Helvetica,sans-Serif\" font-size=\"14.00\">samples = 11</text>\n<text text-anchor=\"start\" x=\"6870.5\" y=\"-959.8\" font-family=\"Helvetica,sans-Serif\" font-size=\"14.00\">value = [8, 10]</text>\n<text text-anchor=\"start\" x=\"6867.5\" y=\"-944.8\" font-family=\"Helvetica,sans-Serif\" font-size=\"14.00\">class = not give</text>\n</g>\n<!-- 240&#45;&gt;242 -->\n<g id=\"edge242\" class=\"edge\">\n<title>240&#45;&gt;242</title>\n<path fill=\"none\" stroke=\"black\" d=\"M6818.36,-1055.91C6831.6,-1046.29 6845.82,-1035.95 6859.39,-1026.09\"/>\n<polygon fill=\"black\" stroke=\"black\" points=\"6861.71,-1028.73 6867.74,-1020.02 6857.59,-1023.07 6861.71,-1028.73\"/>\n</g>\n<!-- 243 -->\n<g id=\"node244\" class=\"node\">\n<title>243</title>\n<path fill=\"#e89152\" stroke=\"black\" d=\"M6920.5,-901C6920.5,-901 6726.5,-901 6726.5,-901 6720.5,-901 6714.5,-895 6714.5,-889 6714.5,-889 6714.5,-830 6714.5,-830 6714.5,-824 6720.5,-818 6726.5,-818 6726.5,-818 6920.5,-818 6920.5,-818 6926.5,-818 6932.5,-824 6932.5,-830 6932.5,-830 6932.5,-889 6932.5,-889 6932.5,-895 6926.5,-901 6920.5,-901\"/>\n<text text-anchor=\"start\" x=\"6722.5\" y=\"-885.8\" font-family=\"Helvetica,sans-Serif\" font-size=\"14.00\">days.with.cr.line ≤ 4439.979</text>\n<text text-anchor=\"start\" x=\"6779.5\" y=\"-870.8\" font-family=\"Helvetica,sans-Serif\" font-size=\"14.00\">gini = 0.198</text>\n<text text-anchor=\"start\" x=\"6779.5\" y=\"-855.8\" font-family=\"Helvetica,sans-Serif\" font-size=\"14.00\">samples = 6</text>\n<text text-anchor=\"start\" x=\"6775\" y=\"-840.8\" font-family=\"Helvetica,sans-Serif\" font-size=\"14.00\">value = [8, 1]</text>\n<text text-anchor=\"start\" x=\"6781\" y=\"-825.8\" font-family=\"Helvetica,sans-Serif\" font-size=\"14.00\">class = give</text>\n</g>\n<!-- 242&#45;&gt;243 -->\n<g id=\"edge243\" class=\"edge\">\n<title>242&#45;&gt;243</title>\n<path fill=\"none\" stroke=\"black\" d=\"M6888.81,-936.91C6881.05,-927.83 6872.75,-918.12 6864.76,-908.77\"/>\n<polygon fill=\"black\" stroke=\"black\" points=\"6867.29,-906.35 6858.13,-901.02 6861.97,-910.9 6867.29,-906.35\"/>\n</g>\n<!-- 248 -->\n<g id=\"node249\" class=\"node\">\n<title>248</title>\n<path fill=\"#399de5\" stroke=\"black\" d=\"M7066.5,-893.5C7066.5,-893.5 6962.5,-893.5 6962.5,-893.5 6956.5,-893.5 6950.5,-887.5 6950.5,-881.5 6950.5,-881.5 6950.5,-837.5 6950.5,-837.5 6950.5,-831.5 6956.5,-825.5 6962.5,-825.5 6962.5,-825.5 7066.5,-825.5 7066.5,-825.5 7072.5,-825.5 7078.5,-831.5 7078.5,-837.5 7078.5,-837.5 7078.5,-881.5 7078.5,-881.5 7078.5,-887.5 7072.5,-893.5 7066.5,-893.5\"/>\n<text text-anchor=\"start\" x=\"6979.5\" y=\"-878.3\" font-family=\"Helvetica,sans-Serif\" font-size=\"14.00\">gini = 0.0</text>\n<text text-anchor=\"start\" x=\"6970.5\" y=\"-863.3\" font-family=\"Helvetica,sans-Serif\" font-size=\"14.00\">samples = 5</text>\n<text text-anchor=\"start\" x=\"6966\" y=\"-848.3\" font-family=\"Helvetica,sans-Serif\" font-size=\"14.00\">value = [0, 9]</text>\n<text text-anchor=\"start\" x=\"6958.5\" y=\"-833.3\" font-family=\"Helvetica,sans-Serif\" font-size=\"14.00\">class = not give</text>\n</g>\n<!-- 242&#45;&gt;248 -->\n<g id=\"edge248\" class=\"edge\">\n<title>242&#45;&gt;248</title>\n<path fill=\"none\" stroke=\"black\" d=\"M6955.07,-936.91C6963.91,-925.54 6973.53,-913.18 6982.4,-901.77\"/>\n<polygon fill=\"black\" stroke=\"black\" points=\"6985.33,-903.71 6988.7,-893.67 6979.8,-899.41 6985.33,-903.71\"/>\n</g>\n<!-- 244 -->\n<g id=\"node245\" class=\"node\">\n<title>244</title>\n<path fill=\"#e58139\" stroke=\"black\" d=\"M6792,-774.5C6792,-774.5 6703,-774.5 6703,-774.5 6697,-774.5 6691,-768.5 6691,-762.5 6691,-762.5 6691,-718.5 6691,-718.5 6691,-712.5 6697,-706.5 6703,-706.5 6703,-706.5 6792,-706.5 6792,-706.5 6798,-706.5 6804,-712.5 6804,-718.5 6804,-718.5 6804,-762.5 6804,-762.5 6804,-768.5 6798,-774.5 6792,-774.5\"/>\n<text text-anchor=\"start\" x=\"6712.5\" y=\"-759.3\" font-family=\"Helvetica,sans-Serif\" font-size=\"14.00\">gini = 0.0</text>\n<text text-anchor=\"start\" x=\"6703.5\" y=\"-744.3\" font-family=\"Helvetica,sans-Serif\" font-size=\"14.00\">samples = 2</text>\n<text text-anchor=\"start\" x=\"6699\" y=\"-729.3\" font-family=\"Helvetica,sans-Serif\" font-size=\"14.00\">value = [5, 0]</text>\n<text text-anchor=\"start\" x=\"6705\" y=\"-714.3\" font-family=\"Helvetica,sans-Serif\" font-size=\"14.00\">class = give</text>\n</g>\n<!-- 243&#45;&gt;244 -->\n<g id=\"edge244\" class=\"edge\">\n<title>243&#45;&gt;244</title>\n<path fill=\"none\" stroke=\"black\" d=\"M6797.13,-817.91C6789.82,-806.65 6781.87,-794.42 6774.53,-783.11\"/>\n<polygon fill=\"black\" stroke=\"black\" points=\"6777.43,-781.15 6769.04,-774.67 6771.56,-784.96 6777.43,-781.15\"/>\n</g>\n<!-- 245 -->\n<g id=\"node246\" class=\"node\">\n<title>245</title>\n<path fill=\"#eeab7b\" stroke=\"black\" d=\"M6965,-782C6965,-782 6834,-782 6834,-782 6828,-782 6822,-776 6822,-770 6822,-770 6822,-711 6822,-711 6822,-705 6828,-699 6834,-699 6834,-699 6965,-699 6965,-699 6971,-699 6977,-705 6977,-711 6977,-711 6977,-770 6977,-770 6977,-776 6971,-782 6965,-782\"/>\n<text text-anchor=\"start\" x=\"6830\" y=\"-766.8\" font-family=\"Helvetica,sans-Serif\" font-size=\"14.00\">revol.bal ≤ 13368.5</text>\n<text text-anchor=\"start\" x=\"6855.5\" y=\"-751.8\" font-family=\"Helvetica,sans-Serif\" font-size=\"14.00\">gini = 0.375</text>\n<text text-anchor=\"start\" x=\"6855.5\" y=\"-736.8\" font-family=\"Helvetica,sans-Serif\" font-size=\"14.00\">samples = 4</text>\n<text text-anchor=\"start\" x=\"6851\" y=\"-721.8\" font-family=\"Helvetica,sans-Serif\" font-size=\"14.00\">value = [3, 1]</text>\n<text text-anchor=\"start\" x=\"6857\" y=\"-706.8\" font-family=\"Helvetica,sans-Serif\" font-size=\"14.00\">class = give</text>\n</g>\n<!-- 243&#45;&gt;245 -->\n<g id=\"edge245\" class=\"edge\">\n<title>243&#45;&gt;245</title>\n<path fill=\"none\" stroke=\"black\" d=\"M6849.87,-817.91C6855.59,-809.1 6861.69,-799.7 6867.6,-790.61\"/>\n<polygon fill=\"black\" stroke=\"black\" points=\"6870.67,-792.31 6873.18,-782.02 6864.8,-788.5 6870.67,-792.31\"/>\n</g>\n<!-- 246 -->\n<g id=\"node247\" class=\"node\">\n<title>246</title>\n<path fill=\"#399de5\" stroke=\"black\" d=\"M6881.5,-655.5C6881.5,-655.5 6777.5,-655.5 6777.5,-655.5 6771.5,-655.5 6765.5,-649.5 6765.5,-643.5 6765.5,-643.5 6765.5,-599.5 6765.5,-599.5 6765.5,-593.5 6771.5,-587.5 6777.5,-587.5 6777.5,-587.5 6881.5,-587.5 6881.5,-587.5 6887.5,-587.5 6893.5,-593.5 6893.5,-599.5 6893.5,-599.5 6893.5,-643.5 6893.5,-643.5 6893.5,-649.5 6887.5,-655.5 6881.5,-655.5\"/>\n<text text-anchor=\"start\" x=\"6794.5\" y=\"-640.3\" font-family=\"Helvetica,sans-Serif\" font-size=\"14.00\">gini = 0.0</text>\n<text text-anchor=\"start\" x=\"6785.5\" y=\"-625.3\" font-family=\"Helvetica,sans-Serif\" font-size=\"14.00\">samples = 1</text>\n<text text-anchor=\"start\" x=\"6781\" y=\"-610.3\" font-family=\"Helvetica,sans-Serif\" font-size=\"14.00\">value = [0, 1]</text>\n<text text-anchor=\"start\" x=\"6773.5\" y=\"-595.3\" font-family=\"Helvetica,sans-Serif\" font-size=\"14.00\">class = not give</text>\n</g>\n<!-- 245&#45;&gt;246 -->\n<g id=\"edge246\" class=\"edge\">\n<title>245&#45;&gt;246</title>\n<path fill=\"none\" stroke=\"black\" d=\"M6875.21,-698.91C6868.55,-687.76 6861.3,-675.66 6854.59,-664.44\"/>\n<polygon fill=\"black\" stroke=\"black\" points=\"6857.48,-662.45 6849.34,-655.67 6851.47,-666.05 6857.48,-662.45\"/>\n</g>\n<!-- 247 -->\n<g id=\"node248\" class=\"node\">\n<title>247</title>\n<path fill=\"#e58139\" stroke=\"black\" d=\"M7013,-655.5C7013,-655.5 6924,-655.5 6924,-655.5 6918,-655.5 6912,-649.5 6912,-643.5 6912,-643.5 6912,-599.5 6912,-599.5 6912,-593.5 6918,-587.5 6924,-587.5 6924,-587.5 7013,-587.5 7013,-587.5 7019,-587.5 7025,-593.5 7025,-599.5 7025,-599.5 7025,-643.5 7025,-643.5 7025,-649.5 7019,-655.5 7013,-655.5\"/>\n<text text-anchor=\"start\" x=\"6933.5\" y=\"-640.3\" font-family=\"Helvetica,sans-Serif\" font-size=\"14.00\">gini = 0.0</text>\n<text text-anchor=\"start\" x=\"6924.5\" y=\"-625.3\" font-family=\"Helvetica,sans-Serif\" font-size=\"14.00\">samples = 3</text>\n<text text-anchor=\"start\" x=\"6920\" y=\"-610.3\" font-family=\"Helvetica,sans-Serif\" font-size=\"14.00\">value = [3, 0]</text>\n<text text-anchor=\"start\" x=\"6926\" y=\"-595.3\" font-family=\"Helvetica,sans-Serif\" font-size=\"14.00\">class = give</text>\n</g>\n<!-- 245&#45;&gt;247 -->\n<g id=\"edge247\" class=\"edge\">\n<title>245&#45;&gt;247</title>\n<path fill=\"none\" stroke=\"black\" d=\"M6923.44,-698.91C6930.01,-687.76 6937.15,-675.66 6943.77,-664.44\"/>\n<polygon fill=\"black\" stroke=\"black\" points=\"6946.87,-666.06 6948.94,-655.67 6940.85,-662.5 6946.87,-666.06\"/>\n</g>\n<!-- 250 -->\n<g id=\"node251\" class=\"node\">\n<title>250</title>\n<path fill=\"#e58139\" stroke=\"black\" d=\"M6963.5,-1131.5C6963.5,-1131.5 6865.5,-1131.5 6865.5,-1131.5 6859.5,-1131.5 6853.5,-1125.5 6853.5,-1119.5 6853.5,-1119.5 6853.5,-1075.5 6853.5,-1075.5 6853.5,-1069.5 6859.5,-1063.5 6865.5,-1063.5 6865.5,-1063.5 6963.5,-1063.5 6963.5,-1063.5 6969.5,-1063.5 6975.5,-1069.5 6975.5,-1075.5 6975.5,-1075.5 6975.5,-1119.5 6975.5,-1119.5 6975.5,-1125.5 6969.5,-1131.5 6963.5,-1131.5\"/>\n<text text-anchor=\"start\" x=\"6879.5\" y=\"-1116.3\" font-family=\"Helvetica,sans-Serif\" font-size=\"14.00\">gini = 0.0</text>\n<text text-anchor=\"start\" x=\"6870.5\" y=\"-1101.3\" font-family=\"Helvetica,sans-Serif\" font-size=\"14.00\">samples = 7</text>\n<text text-anchor=\"start\" x=\"6861.5\" y=\"-1086.3\" font-family=\"Helvetica,sans-Serif\" font-size=\"14.00\">value = [10, 0]</text>\n<text text-anchor=\"start\" x=\"6872\" y=\"-1071.3\" font-family=\"Helvetica,sans-Serif\" font-size=\"14.00\">class = give</text>\n</g>\n<!-- 249&#45;&gt;250 -->\n<g id=\"edge250\" class=\"edge\">\n<title>249&#45;&gt;250</title>\n<path fill=\"none\" stroke=\"black\" d=\"M6920.38,-1174.91C6919.55,-1164.2 6918.66,-1152.62 6917.83,-1141.78\"/>\n<polygon fill=\"black\" stroke=\"black\" points=\"6921.31,-1141.37 6917.05,-1131.67 6914.33,-1141.91 6921.31,-1141.37\"/>\n</g>\n<!-- 251 -->\n<g id=\"node252\" class=\"node\">\n<title>251</title>\n<path fill=\"#399de5\" stroke=\"black\" d=\"M7109.5,-1131.5C7109.5,-1131.5 7005.5,-1131.5 7005.5,-1131.5 6999.5,-1131.5 6993.5,-1125.5 6993.5,-1119.5 6993.5,-1119.5 6993.5,-1075.5 6993.5,-1075.5 6993.5,-1069.5 6999.5,-1063.5 7005.5,-1063.5 7005.5,-1063.5 7109.5,-1063.5 7109.5,-1063.5 7115.5,-1063.5 7121.5,-1069.5 7121.5,-1075.5 7121.5,-1075.5 7121.5,-1119.5 7121.5,-1119.5 7121.5,-1125.5 7115.5,-1131.5 7109.5,-1131.5\"/>\n<text text-anchor=\"start\" x=\"7022.5\" y=\"-1116.3\" font-family=\"Helvetica,sans-Serif\" font-size=\"14.00\">gini = 0.0</text>\n<text text-anchor=\"start\" x=\"7013.5\" y=\"-1101.3\" font-family=\"Helvetica,sans-Serif\" font-size=\"14.00\">samples = 1</text>\n<text text-anchor=\"start\" x=\"7009\" y=\"-1086.3\" font-family=\"Helvetica,sans-Serif\" font-size=\"14.00\">value = [0, 3]</text>\n<text text-anchor=\"start\" x=\"7001.5\" y=\"-1071.3\" font-family=\"Helvetica,sans-Serif\" font-size=\"14.00\">class = not give</text>\n</g>\n<!-- 249&#45;&gt;251 -->\n<g id=\"edge251\" class=\"edge\">\n<title>249&#45;&gt;251</title>\n<path fill=\"none\" stroke=\"black\" d=\"M6969.99,-1174.91C6983.51,-1163.1 6998.27,-1150.22 7011.75,-1138.45\"/>\n<polygon fill=\"black\" stroke=\"black\" points=\"7014.28,-1140.88 7019.51,-1131.67 7009.68,-1135.61 7014.28,-1140.88\"/>\n</g>\n<!-- 253 -->\n<g id=\"node254\" class=\"node\">\n<title>253</title>\n<path fill=\"#399de5\" stroke=\"black\" d=\"M7053,-1369.5C7053,-1369.5 6946,-1369.5 6946,-1369.5 6940,-1369.5 6934,-1363.5 6934,-1357.5 6934,-1357.5 6934,-1313.5 6934,-1313.5 6934,-1307.5 6940,-1301.5 6946,-1301.5 6946,-1301.5 7053,-1301.5 7053,-1301.5 7059,-1301.5 7065,-1307.5 7065,-1313.5 7065,-1313.5 7065,-1357.5 7065,-1357.5 7065,-1363.5 7059,-1369.5 7053,-1369.5\"/>\n<text text-anchor=\"start\" x=\"6964.5\" y=\"-1354.3\" font-family=\"Helvetica,sans-Serif\" font-size=\"14.00\">gini = 0.0</text>\n<text text-anchor=\"start\" x=\"6946.5\" y=\"-1339.3\" font-family=\"Helvetica,sans-Serif\" font-size=\"14.00\">samples = 420</text>\n<text text-anchor=\"start\" x=\"6942\" y=\"-1324.3\" font-family=\"Helvetica,sans-Serif\" font-size=\"14.00\">value = [0, 683]</text>\n<text text-anchor=\"start\" x=\"6943.5\" y=\"-1309.3\" font-family=\"Helvetica,sans-Serif\" font-size=\"14.00\">class = not give</text>\n</g>\n<!-- 252&#45;&gt;253 -->\n<g id=\"edge253\" class=\"edge\">\n<title>252&#45;&gt;253</title>\n<path fill=\"none\" stroke=\"black\" d=\"M6999.5,-1412.91C6999.5,-1402.2 6999.5,-1390.62 6999.5,-1379.78\"/>\n<polygon fill=\"black\" stroke=\"black\" points=\"7003,-1379.67 6999.5,-1369.67 6996,-1379.67 7003,-1379.67\"/>\n</g>\n<!-- 254 -->\n<g id=\"node255\" class=\"node\">\n<title>254</title>\n<path fill=\"#e78b49\" stroke=\"black\" d=\"M7296,-1377C7296,-1377 7147,-1377 7147,-1377 7141,-1377 7135,-1371 7135,-1365 7135,-1365 7135,-1306 7135,-1306 7135,-1300 7141,-1294 7147,-1294 7147,-1294 7296,-1294 7296,-1294 7302,-1294 7308,-1300 7308,-1306 7308,-1306 7308,-1365 7308,-1365 7308,-1371 7302,-1377 7296,-1377\"/>\n<text text-anchor=\"start\" x=\"7143\" y=\"-1361.8\" font-family=\"Helvetica,sans-Serif\" font-size=\"14.00\">installment ≤ 865.565</text>\n<text text-anchor=\"start\" x=\"7177.5\" y=\"-1346.8\" font-family=\"Helvetica,sans-Serif\" font-size=\"14.00\">gini = 0.136</text>\n<text text-anchor=\"start\" x=\"7173\" y=\"-1331.8\" font-family=\"Helvetica,sans-Serif\" font-size=\"14.00\">samples = 48</text>\n<text text-anchor=\"start\" x=\"7168.5\" y=\"-1316.8\" font-family=\"Helvetica,sans-Serif\" font-size=\"14.00\">value = [76, 6]</text>\n<text text-anchor=\"start\" x=\"7179\" y=\"-1301.8\" font-family=\"Helvetica,sans-Serif\" font-size=\"14.00\">class = give</text>\n</g>\n<!-- 252&#45;&gt;254 -->\n<g id=\"edge254\" class=\"edge\">\n<title>252&#45;&gt;254</title>\n<path fill=\"none\" stroke=\"black\" d=\"M7069.74,-1416.48C7090.62,-1405.48 7113.73,-1393.3 7135.49,-1381.83\"/>\n<polygon fill=\"black\" stroke=\"black\" points=\"7137.19,-1384.89 7144.4,-1377.13 7133.92,-1378.7 7137.19,-1384.89\"/>\n</g>\n<!-- 255 -->\n<g id=\"node256\" class=\"node\">\n<title>255</title>\n<path fill=\"#e68641\" stroke=\"black\" d=\"M7273.5,-1258C7273.5,-1258 7169.5,-1258 7169.5,-1258 7163.5,-1258 7157.5,-1252 7157.5,-1246 7157.5,-1246 7157.5,-1187 7157.5,-1187 7157.5,-1181 7163.5,-1175 7169.5,-1175 7169.5,-1175 7273.5,-1175 7273.5,-1175 7279.5,-1175 7285.5,-1181 7285.5,-1187 7285.5,-1187 7285.5,-1246 7285.5,-1246 7285.5,-1252 7279.5,-1258 7273.5,-1258\"/>\n<text text-anchor=\"start\" x=\"7165.5\" y=\"-1242.8\" font-family=\"Helvetica,sans-Serif\" font-size=\"14.00\">int.rate ≤ 0.112</text>\n<text text-anchor=\"start\" x=\"7177.5\" y=\"-1227.8\" font-family=\"Helvetica,sans-Serif\" font-size=\"14.00\">gini = 0.073</text>\n<text text-anchor=\"start\" x=\"7173\" y=\"-1212.8\" font-family=\"Helvetica,sans-Serif\" font-size=\"14.00\">samples = 46</text>\n<text text-anchor=\"start\" x=\"7168.5\" y=\"-1197.8\" font-family=\"Helvetica,sans-Serif\" font-size=\"14.00\">value = [76, 3]</text>\n<text text-anchor=\"start\" x=\"7179\" y=\"-1182.8\" font-family=\"Helvetica,sans-Serif\" font-size=\"14.00\">class = give</text>\n</g>\n<!-- 254&#45;&gt;255 -->\n<g id=\"edge255\" class=\"edge\">\n<title>254&#45;&gt;255</title>\n<path fill=\"none\" stroke=\"black\" d=\"M7221.5,-1293.91C7221.5,-1285.65 7221.5,-1276.86 7221.5,-1268.3\"/>\n<polygon fill=\"black\" stroke=\"black\" points=\"7225,-1268.02 7221.5,-1258.02 7218,-1268.02 7225,-1268.02\"/>\n</g>\n<!-- 266 -->\n<g id=\"node267\" class=\"node\">\n<title>266</title>\n<path fill=\"#399de5\" stroke=\"black\" d=\"M7419.5,-1250.5C7419.5,-1250.5 7315.5,-1250.5 7315.5,-1250.5 7309.5,-1250.5 7303.5,-1244.5 7303.5,-1238.5 7303.5,-1238.5 7303.5,-1194.5 7303.5,-1194.5 7303.5,-1188.5 7309.5,-1182.5 7315.5,-1182.5 7315.5,-1182.5 7419.5,-1182.5 7419.5,-1182.5 7425.5,-1182.5 7431.5,-1188.5 7431.5,-1194.5 7431.5,-1194.5 7431.5,-1238.5 7431.5,-1238.5 7431.5,-1244.5 7425.5,-1250.5 7419.5,-1250.5\"/>\n<text text-anchor=\"start\" x=\"7332.5\" y=\"-1235.3\" font-family=\"Helvetica,sans-Serif\" font-size=\"14.00\">gini = 0.0</text>\n<text text-anchor=\"start\" x=\"7323.5\" y=\"-1220.3\" font-family=\"Helvetica,sans-Serif\" font-size=\"14.00\">samples = 2</text>\n<text text-anchor=\"start\" x=\"7319\" y=\"-1205.3\" font-family=\"Helvetica,sans-Serif\" font-size=\"14.00\">value = [0, 3]</text>\n<text text-anchor=\"start\" x=\"7311.5\" y=\"-1190.3\" font-family=\"Helvetica,sans-Serif\" font-size=\"14.00\">class = not give</text>\n</g>\n<!-- 254&#45;&gt;266 -->\n<g id=\"edge266\" class=\"edge\">\n<title>254&#45;&gt;266</title>\n<path fill=\"none\" stroke=\"black\" d=\"M7272.15,-1293.91C7287.03,-1281.99 7303.27,-1268.98 7318.06,-1257.12\"/>\n<polygon fill=\"black\" stroke=\"black\" points=\"7320.5,-1259.65 7326.11,-1250.67 7316.12,-1254.19 7320.5,-1259.65\"/>\n</g>\n<!-- 256 -->\n<g id=\"node257\" class=\"node\">\n<title>256</title>\n<path fill=\"#eca06a\" stroke=\"black\" d=\"M7291.5,-1139C7291.5,-1139 7151.5,-1139 7151.5,-1139 7145.5,-1139 7139.5,-1133 7139.5,-1127 7139.5,-1127 7139.5,-1068 7139.5,-1068 7139.5,-1062 7145.5,-1056 7151.5,-1056 7151.5,-1056 7291.5,-1056 7291.5,-1056 7297.5,-1056 7303.5,-1062 7303.5,-1068 7303.5,-1068 7303.5,-1127 7303.5,-1127 7303.5,-1133 7297.5,-1139 7291.5,-1139\"/>\n<text text-anchor=\"start\" x=\"7147.5\" y=\"-1123.8\" font-family=\"Helvetica,sans-Serif\" font-size=\"14.00\">revol.bal ≤ 166633.0</text>\n<text text-anchor=\"start\" x=\"7182\" y=\"-1108.8\" font-family=\"Helvetica,sans-Serif\" font-size=\"14.00\">gini = 0.32</text>\n<text text-anchor=\"start\" x=\"7177.5\" y=\"-1093.8\" font-family=\"Helvetica,sans-Serif\" font-size=\"14.00\">samples = 5</text>\n<text text-anchor=\"start\" x=\"7173\" y=\"-1078.8\" font-family=\"Helvetica,sans-Serif\" font-size=\"14.00\">value = [8, 2]</text>\n<text text-anchor=\"start\" x=\"7179\" y=\"-1063.8\" font-family=\"Helvetica,sans-Serif\" font-size=\"14.00\">class = give</text>\n</g>\n<!-- 255&#45;&gt;256 -->\n<g id=\"edge256\" class=\"edge\">\n<title>255&#45;&gt;256</title>\n<path fill=\"none\" stroke=\"black\" d=\"M7221.5,-1174.91C7221.5,-1166.65 7221.5,-1157.86 7221.5,-1149.3\"/>\n<polygon fill=\"black\" stroke=\"black\" points=\"7225,-1149.02 7221.5,-1139.02 7218,-1149.02 7225,-1149.02\"/>\n</g>\n<!-- 259 -->\n<g id=\"node260\" class=\"node\">\n<title>259</title>\n<path fill=\"#e5833c\" stroke=\"black\" d=\"M7483,-1139C7483,-1139 7334,-1139 7334,-1139 7328,-1139 7322,-1133 7322,-1127 7322,-1127 7322,-1068 7322,-1068 7322,-1062 7328,-1056 7334,-1056 7334,-1056 7483,-1056 7483,-1056 7489,-1056 7495,-1062 7495,-1068 7495,-1068 7495,-1127 7495,-1127 7495,-1133 7489,-1139 7483,-1139\"/>\n<text text-anchor=\"start\" x=\"7330\" y=\"-1123.8\" font-family=\"Helvetica,sans-Serif\" font-size=\"14.00\">installment ≤ 310.235</text>\n<text text-anchor=\"start\" x=\"7364.5\" y=\"-1108.8\" font-family=\"Helvetica,sans-Serif\" font-size=\"14.00\">gini = 0.029</text>\n<text text-anchor=\"start\" x=\"7360\" y=\"-1093.8\" font-family=\"Helvetica,sans-Serif\" font-size=\"14.00\">samples = 41</text>\n<text text-anchor=\"start\" x=\"7355.5\" y=\"-1078.8\" font-family=\"Helvetica,sans-Serif\" font-size=\"14.00\">value = [68, 1]</text>\n<text text-anchor=\"start\" x=\"7366\" y=\"-1063.8\" font-family=\"Helvetica,sans-Serif\" font-size=\"14.00\">class = give</text>\n</g>\n<!-- 255&#45;&gt;259 -->\n<g id=\"edge259\" class=\"edge\">\n<title>255&#45;&gt;259</title>\n<path fill=\"none\" stroke=\"black\" d=\"M7285.59,-1175.4C7301.38,-1165.52 7318.42,-1154.86 7334.63,-1144.72\"/>\n<polygon fill=\"black\" stroke=\"black\" points=\"7336.92,-1147.42 7343.54,-1139.14 7333.2,-1141.48 7336.92,-1147.42\"/>\n</g>\n<!-- 257 -->\n<g id=\"node258\" class=\"node\">\n<title>257</title>\n<path fill=\"#e58139\" stroke=\"black\" d=\"M7136,-1012.5C7136,-1012.5 7047,-1012.5 7047,-1012.5 7041,-1012.5 7035,-1006.5 7035,-1000.5 7035,-1000.5 7035,-956.5 7035,-956.5 7035,-950.5 7041,-944.5 7047,-944.5 7047,-944.5 7136,-944.5 7136,-944.5 7142,-944.5 7148,-950.5 7148,-956.5 7148,-956.5 7148,-1000.5 7148,-1000.5 7148,-1006.5 7142,-1012.5 7136,-1012.5\"/>\n<text text-anchor=\"start\" x=\"7056.5\" y=\"-997.3\" font-family=\"Helvetica,sans-Serif\" font-size=\"14.00\">gini = 0.0</text>\n<text text-anchor=\"start\" x=\"7047.5\" y=\"-982.3\" font-family=\"Helvetica,sans-Serif\" font-size=\"14.00\">samples = 4</text>\n<text text-anchor=\"start\" x=\"7043\" y=\"-967.3\" font-family=\"Helvetica,sans-Serif\" font-size=\"14.00\">value = [8, 0]</text>\n<text text-anchor=\"start\" x=\"7049\" y=\"-952.3\" font-family=\"Helvetica,sans-Serif\" font-size=\"14.00\">class = give</text>\n</g>\n<!-- 256&#45;&gt;257 -->\n<g id=\"edge257\" class=\"edge\">\n<title>256&#45;&gt;257</title>\n<path fill=\"none\" stroke=\"black\" d=\"M7176.4,-1055.91C7163.28,-1044.1 7148.96,-1031.22 7135.89,-1019.45\"/>\n<polygon fill=\"black\" stroke=\"black\" points=\"7138.13,-1016.76 7128.35,-1012.67 7133.44,-1021.96 7138.13,-1016.76\"/>\n</g>\n<!-- 258 -->\n<g id=\"node259\" class=\"node\">\n<title>258</title>\n<path fill=\"#399de5\" stroke=\"black\" d=\"M7282.5,-1012.5C7282.5,-1012.5 7178.5,-1012.5 7178.5,-1012.5 7172.5,-1012.5 7166.5,-1006.5 7166.5,-1000.5 7166.5,-1000.5 7166.5,-956.5 7166.5,-956.5 7166.5,-950.5 7172.5,-944.5 7178.5,-944.5 7178.5,-944.5 7282.5,-944.5 7282.5,-944.5 7288.5,-944.5 7294.5,-950.5 7294.5,-956.5 7294.5,-956.5 7294.5,-1000.5 7294.5,-1000.5 7294.5,-1006.5 7288.5,-1012.5 7282.5,-1012.5\"/>\n<text text-anchor=\"start\" x=\"7195.5\" y=\"-997.3\" font-family=\"Helvetica,sans-Serif\" font-size=\"14.00\">gini = 0.0</text>\n<text text-anchor=\"start\" x=\"7186.5\" y=\"-982.3\" font-family=\"Helvetica,sans-Serif\" font-size=\"14.00\">samples = 1</text>\n<text text-anchor=\"start\" x=\"7182\" y=\"-967.3\" font-family=\"Helvetica,sans-Serif\" font-size=\"14.00\">value = [0, 2]</text>\n<text text-anchor=\"start\" x=\"7174.5\" y=\"-952.3\" font-family=\"Helvetica,sans-Serif\" font-size=\"14.00\">class = not give</text>\n</g>\n<!-- 256&#45;&gt;258 -->\n<g id=\"edge258\" class=\"edge\">\n<title>256&#45;&gt;258</title>\n<path fill=\"none\" stroke=\"black\" d=\"M7224.62,-1055.91C7225.45,-1045.2 7226.34,-1033.62 7227.17,-1022.78\"/>\n<polygon fill=\"black\" stroke=\"black\" points=\"7230.67,-1022.91 7227.95,-1012.67 7223.69,-1022.37 7230.67,-1022.91\"/>\n</g>\n<!-- 260 -->\n<g id=\"node261\" class=\"node\">\n<title>260</title>\n<path fill=\"#e78c49\" stroke=\"black\" d=\"M7464,-1020C7464,-1020 7339,-1020 7339,-1020 7333,-1020 7327,-1014 7327,-1008 7327,-1008 7327,-949 7327,-949 7327,-943 7333,-937 7339,-937 7339,-937 7464,-937 7464,-937 7470,-937 7476,-943 7476,-949 7476,-949 7476,-1008 7476,-1008 7476,-1014 7470,-1020 7464,-1020\"/>\n<text text-anchor=\"start\" x=\"7335\" y=\"-1004.8\" font-family=\"Helvetica,sans-Serif\" font-size=\"14.00\">not.fully.paid ≤ 0.5</text>\n<text text-anchor=\"start\" x=\"7357.5\" y=\"-989.8\" font-family=\"Helvetica,sans-Serif\" font-size=\"14.00\">gini = 0.142</text>\n<text text-anchor=\"start\" x=\"7357.5\" y=\"-974.8\" font-family=\"Helvetica,sans-Serif\" font-size=\"14.00\">samples = 8</text>\n<text text-anchor=\"start\" x=\"7348.5\" y=\"-959.8\" font-family=\"Helvetica,sans-Serif\" font-size=\"14.00\">value = [12, 1]</text>\n<text text-anchor=\"start\" x=\"7359\" y=\"-944.8\" font-family=\"Helvetica,sans-Serif\" font-size=\"14.00\">class = give</text>\n</g>\n<!-- 259&#45;&gt;260 -->\n<g id=\"edge260\" class=\"edge\">\n<title>259&#45;&gt;260</title>\n<path fill=\"none\" stroke=\"black\" d=\"M7406.07,-1055.91C7405.57,-1047.56 7405.04,-1038.67 7404.52,-1030.02\"/>\n<polygon fill=\"black\" stroke=\"black\" points=\"7408.02,-1029.79 7403.92,-1020.02 7401.03,-1030.21 7408.02,-1029.79\"/>\n</g>\n<!-- 265 -->\n<g id=\"node266\" class=\"node\">\n<title>265</title>\n<path fill=\"#e58139\" stroke=\"black\" d=\"M7604.5,-1012.5C7604.5,-1012.5 7506.5,-1012.5 7506.5,-1012.5 7500.5,-1012.5 7494.5,-1006.5 7494.5,-1000.5 7494.5,-1000.5 7494.5,-956.5 7494.5,-956.5 7494.5,-950.5 7500.5,-944.5 7506.5,-944.5 7506.5,-944.5 7604.5,-944.5 7604.5,-944.5 7610.5,-944.5 7616.5,-950.5 7616.5,-956.5 7616.5,-956.5 7616.5,-1000.5 7616.5,-1000.5 7616.5,-1006.5 7610.5,-1012.5 7604.5,-1012.5\"/>\n<text text-anchor=\"start\" x=\"7520.5\" y=\"-997.3\" font-family=\"Helvetica,sans-Serif\" font-size=\"14.00\">gini = 0.0</text>\n<text text-anchor=\"start\" x=\"7507\" y=\"-982.3\" font-family=\"Helvetica,sans-Serif\" font-size=\"14.00\">samples = 33</text>\n<text text-anchor=\"start\" x=\"7502.5\" y=\"-967.3\" font-family=\"Helvetica,sans-Serif\" font-size=\"14.00\">value = [56, 0]</text>\n<text text-anchor=\"start\" x=\"7513\" y=\"-952.3\" font-family=\"Helvetica,sans-Serif\" font-size=\"14.00\">class = give</text>\n</g>\n<!-- 259&#45;&gt;265 -->\n<g id=\"edge265\" class=\"edge\">\n<title>259&#45;&gt;265</title>\n<path fill=\"none\" stroke=\"black\" d=\"M7459.5,-1055.91C7474.47,-1043.99 7490.83,-1030.98 7505.72,-1019.12\"/>\n<polygon fill=\"black\" stroke=\"black\" points=\"7508.18,-1021.63 7513.83,-1012.67 7503.82,-1016.16 7508.18,-1021.63\"/>\n</g>\n<!-- 261 -->\n<g id=\"node262\" class=\"node\">\n<title>261</title>\n<path fill=\"#e58139\" stroke=\"black\" d=\"M7370.5,-893.5C7370.5,-893.5 7272.5,-893.5 7272.5,-893.5 7266.5,-893.5 7260.5,-887.5 7260.5,-881.5 7260.5,-881.5 7260.5,-837.5 7260.5,-837.5 7260.5,-831.5 7266.5,-825.5 7272.5,-825.5 7272.5,-825.5 7370.5,-825.5 7370.5,-825.5 7376.5,-825.5 7382.5,-831.5 7382.5,-837.5 7382.5,-837.5 7382.5,-881.5 7382.5,-881.5 7382.5,-887.5 7376.5,-893.5 7370.5,-893.5\"/>\n<text text-anchor=\"start\" x=\"7286.5\" y=\"-878.3\" font-family=\"Helvetica,sans-Serif\" font-size=\"14.00\">gini = 0.0</text>\n<text text-anchor=\"start\" x=\"7277.5\" y=\"-863.3\" font-family=\"Helvetica,sans-Serif\" font-size=\"14.00\">samples = 6</text>\n<text text-anchor=\"start\" x=\"7268.5\" y=\"-848.3\" font-family=\"Helvetica,sans-Serif\" font-size=\"14.00\">value = [10, 0]</text>\n<text text-anchor=\"start\" x=\"7279\" y=\"-833.3\" font-family=\"Helvetica,sans-Serif\" font-size=\"14.00\">class = give</text>\n</g>\n<!-- 260&#45;&gt;261 -->\n<g id=\"edge261\" class=\"edge\">\n<title>260&#45;&gt;261</title>\n<path fill=\"none\" stroke=\"black\" d=\"M7373.74,-936.91C7366.05,-925.65 7357.68,-913.42 7349.95,-902.11\"/>\n<polygon fill=\"black\" stroke=\"black\" points=\"7352.71,-899.95 7344.18,-893.67 7346.93,-903.9 7352.71,-899.95\"/>\n</g>\n<!-- 262 -->\n<g id=\"node263\" class=\"node\">\n<title>262</title>\n<path fill=\"#f2c09c\" stroke=\"black\" d=\"M7548.5,-901C7548.5,-901 7412.5,-901 7412.5,-901 7406.5,-901 7400.5,-895 7400.5,-889 7400.5,-889 7400.5,-830 7400.5,-830 7400.5,-824 7406.5,-818 7412.5,-818 7412.5,-818 7548.5,-818 7548.5,-818 7554.5,-818 7560.5,-824 7560.5,-830 7560.5,-830 7560.5,-889 7560.5,-889 7560.5,-895 7554.5,-901 7548.5,-901\"/>\n<text text-anchor=\"start\" x=\"7408.5\" y=\"-885.8\" font-family=\"Helvetica,sans-Serif\" font-size=\"14.00\">inq.last.6mths ≤ 5.5</text>\n<text text-anchor=\"start\" x=\"7436.5\" y=\"-870.8\" font-family=\"Helvetica,sans-Serif\" font-size=\"14.00\">gini = 0.444</text>\n<text text-anchor=\"start\" x=\"7436.5\" y=\"-855.8\" font-family=\"Helvetica,sans-Serif\" font-size=\"14.00\">samples = 2</text>\n<text text-anchor=\"start\" x=\"7432\" y=\"-840.8\" font-family=\"Helvetica,sans-Serif\" font-size=\"14.00\">value = [2, 1]</text>\n<text text-anchor=\"start\" x=\"7438\" y=\"-825.8\" font-family=\"Helvetica,sans-Serif\" font-size=\"14.00\">class = give</text>\n</g>\n<!-- 260&#45;&gt;262 -->\n<g id=\"edge262\" class=\"edge\">\n<title>260&#45;&gt;262</title>\n<path fill=\"none\" stroke=\"black\" d=\"M7428.91,-936.91C7434.91,-928.01 7441.33,-918.51 7447.53,-909.33\"/>\n<polygon fill=\"black\" stroke=\"black\" points=\"7450.44,-911.27 7453.14,-901.02 7444.64,-907.35 7450.44,-911.27\"/>\n</g>\n<!-- 263 -->\n<g id=\"node264\" class=\"node\">\n<title>263</title>\n<path fill=\"#e58139\" stroke=\"black\" d=\"M7456,-774.5C7456,-774.5 7367,-774.5 7367,-774.5 7361,-774.5 7355,-768.5 7355,-762.5 7355,-762.5 7355,-718.5 7355,-718.5 7355,-712.5 7361,-706.5 7367,-706.5 7367,-706.5 7456,-706.5 7456,-706.5 7462,-706.5 7468,-712.5 7468,-718.5 7468,-718.5 7468,-762.5 7468,-762.5 7468,-768.5 7462,-774.5 7456,-774.5\"/>\n<text text-anchor=\"start\" x=\"7376.5\" y=\"-759.3\" font-family=\"Helvetica,sans-Serif\" font-size=\"14.00\">gini = 0.0</text>\n<text text-anchor=\"start\" x=\"7367.5\" y=\"-744.3\" font-family=\"Helvetica,sans-Serif\" font-size=\"14.00\">samples = 1</text>\n<text text-anchor=\"start\" x=\"7363\" y=\"-729.3\" font-family=\"Helvetica,sans-Serif\" font-size=\"14.00\">value = [2, 0]</text>\n<text text-anchor=\"start\" x=\"7369\" y=\"-714.3\" font-family=\"Helvetica,sans-Serif\" font-size=\"14.00\">class = give</text>\n</g>\n<!-- 262&#45;&gt;263 -->\n<g id=\"edge263\" class=\"edge\">\n<title>262&#45;&gt;263</title>\n<path fill=\"none\" stroke=\"black\" d=\"M7456.56,-817.91C7449.99,-806.76 7442.85,-794.66 7436.23,-783.44\"/>\n<polygon fill=\"black\" stroke=\"black\" points=\"7439.15,-781.5 7431.06,-774.67 7433.13,-785.06 7439.15,-781.5\"/>\n</g>\n<!-- 264 -->\n<g id=\"node265\" class=\"node\">\n<title>264</title>\n<path fill=\"#399de5\" stroke=\"black\" d=\"M7602.5,-774.5C7602.5,-774.5 7498.5,-774.5 7498.5,-774.5 7492.5,-774.5 7486.5,-768.5 7486.5,-762.5 7486.5,-762.5 7486.5,-718.5 7486.5,-718.5 7486.5,-712.5 7492.5,-706.5 7498.5,-706.5 7498.5,-706.5 7602.5,-706.5 7602.5,-706.5 7608.5,-706.5 7614.5,-712.5 7614.5,-718.5 7614.5,-718.5 7614.5,-762.5 7614.5,-762.5 7614.5,-768.5 7608.5,-774.5 7602.5,-774.5\"/>\n<text text-anchor=\"start\" x=\"7515.5\" y=\"-759.3\" font-family=\"Helvetica,sans-Serif\" font-size=\"14.00\">gini = 0.0</text>\n<text text-anchor=\"start\" x=\"7506.5\" y=\"-744.3\" font-family=\"Helvetica,sans-Serif\" font-size=\"14.00\">samples = 1</text>\n<text text-anchor=\"start\" x=\"7502\" y=\"-729.3\" font-family=\"Helvetica,sans-Serif\" font-size=\"14.00\">value = [0, 1]</text>\n<text text-anchor=\"start\" x=\"7494.5\" y=\"-714.3\" font-family=\"Helvetica,sans-Serif\" font-size=\"14.00\">class = not give</text>\n</g>\n<!-- 262&#45;&gt;264 -->\n<g id=\"edge264\" class=\"edge\">\n<title>262&#45;&gt;264</title>\n<path fill=\"none\" stroke=\"black\" d=\"M7504.79,-817.91C7511.45,-806.76 7518.7,-794.66 7525.41,-783.44\"/>\n<polygon fill=\"black\" stroke=\"black\" points=\"7528.53,-785.05 7530.66,-774.67 7522.52,-781.45 7528.53,-785.05\"/>\n</g>\n</g>\n</svg>\n",
      "text/plain": [
       "<graphviz.sources.Source at 0x7f26f5228970>"
      ]
     },
     "execution_count": 22,
     "metadata": {},
     "output_type": "execute_result"
    }
   ],
   "source": [
    "plot_tree(forest_clf.best_estimator_.estimators_[0])"
   ]
  },
  {
   "cell_type": "markdown",
   "metadata": {
    "collapsed": false
   },
   "source": [
    "### Questions\n",
    "1. How did the DT compare to the RF in performance? Why?\n",
    "    - I have chosen `f1 score` as a key metric for this task and applied grid search to find a tree and a forest which give the best performance in this metric. I have **0.972** for DT and **0.959** for the RF.\n",
    "    - As we can see DT shows better performance in comparison to RF. It seems strange at first glance. I think I have got such results because of nature of our data. The main problem of decision trees is that they are easily overfitted. It is really a problem if data is noisy then single tree learns this noise and then badly perform on test data. That is why we usually want to try to use RF istead of DT. But in our case I think we have very clean data, so clean that a single tree gives **accuracy 0.989** on test data. If it is the case that tere is no noise in data then DT will learn pure dependency in the data. RF trees are learned on incomplete set of data, so they can not observe the 'full picture'. Each of them becomes underfitted and their common prediction is a little bit worse than DT's one because this tree is fitted perfectly.\n",
    "2. After fine-tuning, how does the max depth in DT compare to RF? Why?\n",
    "    - After fine-tuning DT has max depth 10 and RF has max depth equal to 16.\n",
    "    - By changing max depth of the decision tree we can vary bias and variance of the model. Deep tree has smaller bias but bigger variance. Small tree has bigger bias and smaller variance.\n",
    "    - While training random forest we use deep trees with small bias and big variance and then we decrease their variance by averaging trees' predictions. The single tree should find bias variance trade-off optimal point in it's own architecture with medium bias and medium variance.\n",
    "3. What is ensemble learning? What are its pros and cons?\n",
    "    - In ensemble learning with use several models instead of one to solve the task. We can **reduce variance of complex models** without increase of bias and we can **reduce bias of simple models** without increase in variance. \n",
    "    - The advantages of ensemble learning are that such complex models work better on average than single ones.\n",
    "    - Еhe disadvantages are that it is more difficult for us to train such ensembled models. Their architecture is harder, they need more computational resources and time especially when the ensemble learning process cannot be parallelized.\n",
    "4. Briefly explain 2 types of boosting methods and 2 types of bagging methods.\n",
    "Which of these categories does RF fall under?\n",
    "    - **AdaBoost**: This algorithm starts with building of solution with the same weights for all points and then iteratively increases weight of the mistakes and builts new solutions until the needed accuracy os achieved. Finally, we combine obtained solutions to get ensemble predictions.\n",
    "    - **Gradient Boosting**: uses small dicizion trees as weak learners. Trees are learned and added one by one, each new tree minimizes mistake of all it's ancestors.\n",
    "    - **Bagging Meta-Estimator**: we learn strong models with high variance on small subsets of data and then use some meta-model to combine their results into prediction.\n",
    "    - **Random Forest**: we learn models on bootstrapped samples and then just average their results to get the prediction. We choose trees as the basic model here. They are complex and can learn train data to 0 error. Averaging of their predictions saves us from overfitting."
   ]
  },
  {
   "cell_type": "markdown",
   "metadata": {
    "collapsed": false,
    "pycharm": {
     "name": "#%% md\n"
    }
   },
   "source": [
    "# Task 4: Domain Gap (15%)\n",
    "\n",
    "Evaluate your CNN model from task 2 on SVHN data without retraining your model."
   ]
  },
  {
   "cell_type": "markdown",
   "metadata": {},
   "source": [
    "There are a lot of images with wrong targets. I corrected them by hands."
   ]
  },
  {
   "cell_type": "code",
   "execution_count": 89,
   "metadata": {},
   "outputs": [],
   "source": [
    "from skimage.color import rgb2gray\n",
    "from skimage.filters import threshold_local, gaussian, rank, threshold_minimum\n",
    "from skimage.morphology import disk, binary_closing\n",
    "from skimage import color, measure\n",
    "from skimage.util import img_as_ubyte\n",
    "from skimage.transform import rescale, resize, downscale_local_mean\n",
    "from torch.nn.functional import softmax"
   ]
  },
  {
   "cell_type": "code",
   "execution_count": 29,
   "metadata": {
    "collapsed": false,
    "pycharm": {
     "name": "#%%\n"
    }
   },
   "outputs": [],
   "source": [
    "rootdir = 'svhn'\n",
    "svhn = []\n",
    "\n",
    "for subdir, dirs, files in os.walk(rootdir):\n",
    "    for file in files:\n",
    "        label = os.path.join(subdir, file)[5:8]\n",
    "        image = io.imread(os.path.join(subdir, file))\n",
    "        svhn.append((image, label))"
   ]
  },
  {
   "cell_type": "code",
   "execution_count": 32,
   "metadata": {},
   "outputs": [
    {
     "data": {
      "image/png": "[encoded data removed]",
      "text/plain": [
       "<Figure size 432x288 with 1 Axes>"
      ]
     },
     "metadata": {
      "needs_background": "light"
     },
     "output_type": "display_data"
    }
   ],
   "source": [
    "image = svhn[0][0]\n",
    "\n",
    "def apply_thresholding(image):\n",
    "    gray = rgb2gray(image)\n",
    "    # gray = gaussian(gray, 2)\n",
    "    gray = img_as_ubyte(gray)\n",
    "    local_otsu = rank.otsu(gray, disk(8))\n",
    "    mask = gray >= local_otsu\n",
    "\n",
    "    return mask\n",
    "\n",
    "\n",
    "show_image(apply_thresholding(image))"
   ]
  },
  {
   "cell_type": "code",
   "execution_count": 63,
   "metadata": {},
   "outputs": [],
   "source": [
    "def show_images(image):\n",
    "    became = apply_thresholding(image)\n",
    "\n",
    "    fig, axes = plt.subplots(1, 2, figsize=(20, 6))\n",
    "\n",
    "    axes[0].imshow(image)\n",
    "    axes[0].set_title('Original')\n",
    "\n",
    "    axes[1].imshow(became)\n",
    "    axes[1].set_title('After Transformation')\n",
    "\n",
    "    for a in axes.ravel():\n",
    "        a.axis('off')\n",
    "    \n",
    "    plt.show()\n"
   ]
  },
  {
   "cell_type": "markdown",
   "metadata": {},
   "source": [
    "I need to preprocess images before giving them into the model. At first, I will apply otsu thresholding then I will feed obtained white regions to the model and comapare their softmax values. For background pieces it is more likely to get lower softmax values than for digits on the picture. I will take three regions with the highest softamax values as digits and take them as prediction."
   ]
  },
  {
   "cell_type": "code",
   "execution_count": 72,
   "metadata": {},
   "outputs": [
    {
     "data": {
      "image/png": "[encoded data removed]",
      "text/plain": [
       "<Figure size 1440x432 with 2 Axes>"
      ]
     },
     "metadata": {
      "needs_background": "light"
     },
     "output_type": "display_data"
    }
   ],
   "source": [
    "show_images(svhn[6][0])"
   ]
  },
  {
   "cell_type": "code",
   "execution_count": 33,
   "metadata": {},
   "outputs": [],
   "source": [
    "image = svhn[6][0]\n",
    "mask = apply_thresholding(image)\n",
    "regions_labeled, num_regions = measure.label(mask, return_num=True)"
   ]
  },
  {
   "cell_type": "markdown",
   "metadata": {},
   "source": [
    "I will try to distinguish between background regions and digit regions"
   ]
  },
  {
   "cell_type": "code",
   "execution_count": 45,
   "metadata": {},
   "outputs": [
    {
     "data": {
      "image/png": "[encoded data removed]",
      "text/plain": [
       "<Figure size 432x288 with 1 Axes>"
      ]
     },
     "metadata": {
      "needs_background": "light"
     },
     "output_type": "display_data"
    }
   ],
   "source": [
    "show_image(regions_labeled == 8)"
   ]
  },
  {
   "cell_type": "code",
   "execution_count": 50,
   "metadata": {},
   "outputs": [],
   "source": [
    "region = (regions_labeled == 1)"
   ]
  },
  {
   "cell_type": "code",
   "execution_count": 38,
   "metadata": {},
   "outputs": [
    {
     "data": {
      "image/png": "[encoded data removed]",
      "text/plain": [
       "<Figure size 432x288 with 1 Axes>"
      ]
     },
     "metadata": {
      "needs_background": "light"
     },
     "output_type": "display_data"
    }
   ],
   "source": [
    "show_image(regions_labeled == 1)"
   ]
  },
  {
   "cell_type": "code",
   "execution_count": 54,
   "metadata": {},
   "outputs": [],
   "source": [
    "def get_digits_bounding_boxes(regions_labeled):\n",
    "    digits_properties = {}\n",
    "    bboxes = [r.bbox for r in measure.regionprops(regions_labeled)]\n",
    "\n",
    "    for i, bbox in enumerate(bboxes):\n",
    "        index_properties = {\n",
    "            'min_row': bbox[0],\n",
    "            'min_col': bbox[1],\n",
    "            'max_row': bbox[2],\n",
    "            'max_col': bbox[3]\n",
    "        }\n",
    "\n",
    "        digits_properties[i] = index_properties\n",
    "    \n",
    "    # sort regions from left to the right\n",
    "    digits_order = sorted([(properties['min_col'], idx) for idx, properties in digits_properties.items()])\n",
    "    digits_order = [d[1] for d in digits_order]\n",
    "\n",
    "    digits_bounding_boxes = [digits_properties[idx] for idx in digits_order]\n",
    "\n",
    "    return digits_bounding_boxes"
   ]
  },
  {
   "cell_type": "code",
   "execution_count": 57,
   "metadata": {},
   "outputs": [
    {
     "data": {
      "text/plain": [
       "[{'min_row': 0, 'min_col': 4, 'max_row': 86, 'max_col': 25},\n",
       " {'min_row': 75, 'min_col': 19, 'max_row': 82, 'max_col': 22},\n",
       " {'min_row': 7, 'min_col': 23, 'max_row': 8, 'max_col': 24},\n",
       " {'min_row': 0, 'min_col': 30, 'max_row': 86, 'max_col': 232},\n",
       " {'min_row': 83, 'min_col': 43, 'max_row': 84, 'max_col': 45},\n",
       " {'min_row': 22, 'min_col': 52, 'max_row': 23, 'max_col': 53},\n",
       " {'min_row': 0, 'min_col': 56, 'max_row': 2, 'max_col': 58},\n",
       " {'min_row': 77, 'min_col': 68, 'max_row': 78, 'max_col': 69},\n",
       " {'min_row': 28, 'min_col': 94, 'max_row': 58, 'max_col': 109},\n",
       " {'min_row': 27, 'min_col': 113, 'max_row': 62, 'max_col': 130},\n",
       " {'min_row': 29, 'min_col': 132, 'max_row': 58, 'max_col': 146},\n",
       " {'min_row': 84, 'min_col': 168, 'max_row': 85, 'max_col': 169},\n",
       " {'min_row': 0, 'min_col': 185, 'max_row': 1, 'max_col': 186},\n",
       " {'min_row': 85, 'min_col': 191, 'max_row': 86, 'max_col': 192},\n",
       " {'min_row': 85, 'min_col': 193, 'max_row': 86, 'max_col': 194},\n",
       " {'min_row': 0, 'min_col': 228, 'max_row': 1, 'max_col': 232}]"
      ]
     },
     "execution_count": 57,
     "metadata": {},
     "output_type": "execute_result"
    }
   ],
   "source": [
    "bboxes = get_digits_bounding_boxes(regions_labeled)\n",
    "bboxes"
   ]
  },
  {
   "cell_type": "code",
   "execution_count": 69,
   "metadata": {},
   "outputs": [],
   "source": [
    "def crop_image(image: np.array, bounding_box: dict, new_shape=(28, 28)):\n",
    "    b = bounding_box\n",
    "    cropped = image[b['min_row'] : b['max_row'], b['min_col'] : b['max_col']]\n",
    "\n",
    "    return cropped\n",
    "    "
   ]
  },
  {
   "cell_type": "code",
   "execution_count": 70,
   "metadata": {},
   "outputs": [
    {
     "data": {
      "image/png": "[encoded data removed]",
      "text/plain": [
       "<Figure size 432x288 with 1 Axes>"
      ]
     },
     "metadata": {
      "needs_background": "light"
     },
     "output_type": "display_data"
    }
   ],
   "source": [
    "cropped = crop_image(mask, bboxes[0])\n",
    "show_image(cropped)"
   ]
  },
  {
   "cell_type": "code",
   "execution_count": 66,
   "metadata": {},
   "outputs": [
    {
     "data": {
      "image/png": "[encoded data removed]",
      "text/plain": [
       "<Figure size 432x288 with 1 Axes>"
      ]
     },
     "metadata": {
      "needs_background": "light"
     },
     "output_type": "display_data"
    }
   ],
   "source": [
    "image_resized = resize(\n",
    "    cropped, \n",
    "    (22, 22)\n",
    ")\n",
    "\n",
    "show_image(image_resized)"
   ]
  },
  {
   "cell_type": "code",
   "execution_count": 148,
   "metadata": {},
   "outputs": [],
   "source": [
    "def get_white_area(image):\n",
    "    return image.sum() / (image.shape[0] * image.shape[0])"
   ]
  },
  {
   "cell_type": "code",
   "execution_count": 68,
   "metadata": {},
   "outputs": [
    {
     "data": {
      "image/png": "[encoded data removed]",
      "text/plain": [
       "<Figure size 432x288 with 1 Axes>"
      ]
     },
     "metadata": {
      "needs_background": "light"
     },
     "output_type": "display_data"
    }
   ],
   "source": [
    "def add_padding(resized, new_shape=(28, 28)):\n",
    "    result = np.zeros(new_shape)\n",
    "\n",
    "    y_center = (new_shape[0] - resized.shape[0]) // 2\n",
    "    x_center = (new_shape[1] - resized.shape[1]) // 2\n",
    "\n",
    "    result[y_center : y_center + resized.shape[0], \n",
    "            x_center : x_center + resized.shape[1]] = resized\n",
    "\n",
    "    return result\n",
    "\n",
    "show_image(add_padding(image_resized))"
   ]
  },
  {
   "cell_type": "code",
   "execution_count": 149,
   "metadata": {},
   "outputs": [],
   "source": [
    "def preprocess_svhn(image):\n",
    "    mask = apply_thresholding(image)\n",
    "    regions_labeled, num_regions = measure.label(mask, return_num=True)\n",
    "\n",
    "    bboxes = get_digits_bounding_boxes(regions_labeled)\n",
    "\n",
    "    segments = []\n",
    "\n",
    "    for bbox in bboxes:\n",
    "        cropped = crop_image(mask, bbox)\n",
    "        image_resized = resize(cropped, (20, 20))\n",
    "        \n",
    "        # filter non-digit regions by number of \n",
    "        # white pixels\n",
    "        square = get_white_area(image_resized)\n",
    "        if square < 0.5 or square > 0.63:\n",
    "            continue\n",
    "\n",
    "        padded = add_padding(image_resized)\n",
    "        segments.append(padded)\n",
    "        # segments.append(image_resized)\n",
    "\n",
    "    return segments\n",
    "    \n",
    "regions = preprocess_svhn(image)"
   ]
  },
  {
   "cell_type": "markdown",
   "metadata": {},
   "source": [
    "After preprocessing we get list of such image. Obtained pictures are very similar to MNIST dataset format on which model was trained on. Now we should differ them from other regions."
   ]
  },
  {
   "cell_type": "code",
   "execution_count": 141,
   "metadata": {},
   "outputs": [
    {
     "data": {
      "image/png": "[encoded data removed]",
      "text/plain": [
       "<Figure size 432x288 with 1 Axes>"
      ]
     },
     "metadata": {
      "needs_background": "light"
     },
     "output_type": "display_data"
    }
   ],
   "source": [
    "show_image(regions[0])"
   ]
  },
  {
   "cell_type": "code",
   "execution_count": 40,
   "metadata": {},
   "outputs": [
    {
     "data": {
      "text/plain": [
       "<All keys matched successfully>"
      ]
     },
     "execution_count": 40,
     "metadata": {},
     "output_type": "execute_result"
    }
   ],
   "source": [
    "le_net = LeNet()\n",
    "le_net.load_state_dict(torch.load('./models/LeNet.pt', map_location=device))"
   ]
  },
  {
   "cell_type": "code",
   "execution_count": 101,
   "metadata": {},
   "outputs": [],
   "source": [
    "def get_proba(region):\n",
    "    with torch.no_grad():\n",
    "        outp = le_net(torch.tensor(np.expand_dims(region, axis=0)))\n",
    "    prob = softmax(outp, dim=1)\n",
    "    pred = int(prob.argmax(-1))\n",
    "\n",
    "    prob = float(prob[0][pred])\n",
    "\n",
    "    return prob, pred"
   ]
  },
  {
   "cell_type": "markdown",
   "metadata": {},
   "source": [
    "For real region with 2 I get softmax equal to almost 1"
   ]
  },
  {
   "cell_type": "code",
   "execution_count": 142,
   "metadata": {},
   "outputs": [
    {
     "data": {
      "text/plain": [
       "(0.9988603346904972, 9)"
      ]
     },
     "execution_count": 142,
     "metadata": {},
     "output_type": "execute_result"
    }
   ],
   "source": [
    "get_proba(regions[1])"
   ]
  },
  {
   "cell_type": "code",
   "execution_count": 143,
   "metadata": {},
   "outputs": [
    {
     "data": {
      "image/png": "[encoded data removed]",
      "text/plain": [
       "<Figure size 432x288 with 1 Axes>"
      ]
     },
     "metadata": {
      "needs_background": "light"
     },
     "output_type": "display_data"
    }
   ],
   "source": [
    "show_image(regions[2])"
   ]
  },
  {
   "cell_type": "markdown",
   "metadata": {},
   "source": [
    "I had problem here. Model is very confident in predicting digits from regions without digits. So I tuned area filtering to keep only digits regions for this example. In the common case I will try to peek the most confident three regions and return the result."
   ]
  },
  {
   "cell_type": "code",
   "execution_count": 128,
   "metadata": {},
   "outputs": [
    {
     "data": {
      "text/plain": [
       "(0.9987567107449971, 4)"
      ]
     },
     "execution_count": 128,
     "metadata": {},
     "output_type": "execute_result"
    }
   ],
   "source": [
    "get_proba(regions[0])"
   ]
  },
  {
   "cell_type": "code",
   "execution_count": 129,
   "metadata": {},
   "outputs": [
    {
     "data": {
      "image/png": "[encoded data removed]",
      "text/plain": [
       "<Figure size 432x288 with 1 Axes>"
      ]
     },
     "metadata": {
      "needs_background": "light"
     },
     "output_type": "display_data"
    }
   ],
   "source": [
    "show_image(regions[0])"
   ]
  },
  {
   "cell_type": "markdown",
   "metadata": {},
   "source": [
    "I will predict values and probabilities for all the regions and take predictions with the biggest confidence."
   ]
  },
  {
   "cell_type": "code",
   "execution_count": 177,
   "metadata": {},
   "outputs": [],
   "source": [
    "def predict_svhn(image):\n",
    "    regions = preprocess_svhn(image)\n",
    "    predictions = [get_proba(region) for region in regions]\n",
    "\n",
    "    probas = [pred[0] for pred in predictions]\n",
    "    labels = [pred[1] for pred in predictions]\n",
    "\n",
    "    # digits_idxs = heapq.nlargest(3, zip(probas, range(len(probas))))\n",
    "    digits_idxs = sorted(zip(probas, range(len(probas))))\n",
    "    digits_idxs = [d[1] for d in digits_idxs]\n",
    "    digits_idxs = sorted(digits_idxs)\n",
    "\n",
    "    try:\n",
    "        prediction = [labels[digits_idxs[0]], labels[digits_idxs[1]], labels[digits_idxs[2]]]\n",
    "        return ''.join(str(l) for l in prediction)\n",
    "    except IndexError: # if region filtering left less tha 3 regions\n",
    "        return -1"
   ]
  },
  {
   "cell_type": "code",
   "execution_count": 173,
   "metadata": {},
   "outputs": [
    {
     "data": {
      "text/plain": [
       "'292'"
      ]
     },
     "execution_count": 173,
     "metadata": {},
     "output_type": "execute_result"
    }
   ],
   "source": [
    "predict_svhn(image)"
   ]
  },
  {
   "cell_type": "code",
   "execution_count": 168,
   "metadata": {},
   "outputs": [
    {
     "data": {
      "image/png": "[encoded data removed]",
      "text/plain": [
       "<Figure size 432x288 with 1 Axes>"
      ]
     },
     "metadata": {
      "needs_background": "light"
     },
     "output_type": "display_data"
    }
   ],
   "source": [
    "show_image(image)"
   ]
  },
  {
   "cell_type": "markdown",
   "metadata": {},
   "source": [
    "## Testing"
   ]
  },
  {
   "cell_type": "code",
   "execution_count": 178,
   "metadata": {},
   "outputs": [
    {
     "data": {
      "text/plain": [
       "0.011111111111111112"
      ]
     },
     "execution_count": 178,
     "metadata": {},
     "output_type": "execute_result"
    }
   ],
   "source": [
    "sum = 0\n",
    "\n",
    "for picture, label in svhn:\n",
    "    prediction = predict_svhn(picture)\n",
    "    sum += prediction == label\n",
    "\n",
    "sum / len(svhn)"
   ]
  },
  {
   "cell_type": "code",
   "execution_count": 179,
   "metadata": {},
   "outputs": [
    {
     "data": {
      "text/plain": [
       "1"
      ]
     },
     "execution_count": 179,
     "metadata": {},
     "output_type": "execute_result"
    }
   ],
   "source": [
    "sum"
   ]
  },
  {
   "cell_type": "markdown",
   "metadata": {
    "collapsed": false,
    "pycharm": {
     "name": "#%% md\n"
    }
   },
   "source": [
    "### Questions\n",
    "1. How did your model perform? Why is it better/worse?\n",
    "    - My model did not work in this task. Model was trained tp classify ideal black and white photos with digits in the center. It expects this format as input. SVHN dataset has very complex rgb pictures with a lot of errosions, different size, different angles of view. I tried to come up with suitable image prerocessing but my preprocessing does not work properly.\n",
    "2. What is domain gap in the context of ML?\n",
    "    - Domain gap is difference in data that we need to handle if we want to reuse our model on some way different data in comparison to data model was trained on.\n",
    "3. Suggest two ways through which the problem of domain gap can be tackled.\n",
    "    - We can fine tune our model to perform on the new task. As exapmle. If we have not a very big dataset of bees and wasps and we want to classify them we can take model trained on ImageNet then change it's classification head and possibly unfreeze lower convolutional layers. Such tuned model will work well on this task.\n",
    "    - We can try to apply transformations to the new data as I tried to perform in this task. If new data will be converted to the format of data the model was trained on the model will perform well."
   ]
  }
 ],
 "metadata": {
  "kernelspec": {
   "display_name": "Python 3.8.8 ('base')",
   "language": "python",
   "name": "python3"
  },
  "language_info": {
   "codemirror_mode": {
    "name": "ipython",
    "version": 3
   },
   "file_extension": ".py",
   "mimetype": "text/x-python",
   "name": "python",
   "nbconvert_exporter": "python",
   "pygments_lexer": "ipython3",
   "version": "3.8.8 (default, Apr 13 2021, 19:58:26) \n[GCC 7.3.0]"
  },
  "vscode": {
   "interpreter": {
    "hash": "82ca00de6dfeb9e2eef59d83b518ae9b61e5781747466ffa06053c845d8d3ce9"
   }
  }
 },
 "nbformat": 4,
 "nbformat_minor": 0
}
