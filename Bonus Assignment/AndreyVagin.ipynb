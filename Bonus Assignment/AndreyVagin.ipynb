{
 "cells": [
  {
   "cell_type": "markdown",
   "metadata": {},
   "source": [
    "# Bonus assignement"
   ]
  },
  {
   "cell_type": "markdown",
   "metadata": {},
   "source": [
    "## Instructions\n",
    "- Your submission should be the `.ipynb` file with your name,\n",
    "  like `FirstNameLastName.ipynb`. It should include the answers to the questions in\n",
    "  markdown cells.\n",
    "- You are expected to follow the best practices for code writing and model\n",
    "training. Poor coding style will be penalized.\n",
    "- You are allowed to discuss ideas with your peers, but no sharing of code.\n",
    "Plagiarism in the code will result in failing. If you use code from the\n",
    "internet, cite it. \n",
    "- Read each instruction carefully and provide complete answers to each question/task\n",
    "- You are allowed to use Keras or Pytorch \n",
    "\n",
    "> **_NOTE:_**  Write your email address in the cell below"
   ]
  },
  {
   "attachments": {},
   "cell_type": "markdown",
   "metadata": {},
   "source": [
    "a.vagin@innopolis.university"
   ]
  },
  {
   "attachments": {},
   "cell_type": "markdown",
   "metadata": {},
   "source": [
    "### I- Open questions (3 points)\n",
    "\n",
    "Read [this article](https://link.springer.com/referenceworkentry/10.1007/978-0-387-73003-5_304) and answer the following questions:\n",
    "\n",
    "1. What is incremental learning?\n",
    "    - Incremental learning is a technique when we do not train our models on the whole data. We learn our model incrementally adding understanding of the new incoming data. There may be several reasons for this, for example, all the data does not fit completely into memory, or we got new data and it is to expensive to retrain the model from scratch, also there are a lot of applications where data is beeing generated over time.\n",
    "2. Why is it important for us to create neural networks that would someday be able to learn incrementally?\n",
    "    - With help of machine learning we want to solve real problems that appear in our world, but this world and it's problems change over time One day we can meet some new context for our task or some new but similar challenge will appear and we will want to solve it.\n",
    "\n",
    "    - Incremental learning is like adaption mechanizm for machine leraning models and we need this adaption for successful completion of tasks in real world as it cnanges.\n",
    "3. What is catastrophic forgetting?\n",
    "    - It is a tendency of ANNs to forget previously learned dependencies while learning new inforamtion."
   ]
  },
  {
   "cell_type": "markdown",
   "metadata": {},
   "source": [
    "### II- Train simple CNN model for digit classification (5 points)"
   ]
  },
  {
   "cell_type": "markdown",
   "metadata": {},
   "source": [
    "Instructions:\n",
    "- Load MNIST dataset and split it in **Tr**ainning (`Tr`) and **Te**ting set (`Te`), 80% and 20% respectively.\n",
    "- Train a simple CNN for digit classification on the training set. \n",
    "- After fine tuning your CNN, evaluate the `overall` and the `class-wise` performances on `Te`. \n",
    ">**NOTE:** For the class-wise performance, you should plot (e.g., bar plots) the performance of your model on each class."
   ]
  },
  {
   "cell_type": "code",
   "execution_count": 1,
   "metadata": {},
   "outputs": [
    {
     "data": {
      "text/plain": [
       "'cuda'"
      ]
     },
     "execution_count": 1,
     "metadata": {},
     "output_type": "execute_result"
    }
   ],
   "source": [
    "import torch\n",
    "import torchvision\n",
    "from torchvision import transforms\n",
    "# from torchsummary import summary\n",
    "import torch.nn as nn\n",
    "import torch.nn.functional as F\n",
    "from torch.utils.data import TensorDataset, DataLoader\n",
    "\n",
    "from torchvision import transforms as tfs\n",
    "from torchvision.datasets import MNIST\n",
    "\n",
    "import numpy as np\n",
    "import matplotlib.pyplot as plt\n",
    "%matplotlib inline\n",
    "from IPython.display import clear_output\n",
    "\n",
    "device = 'cuda' if torch.cuda.is_available() else 'cpu'\n",
    "device"
   ]
  },
  {
   "cell_type": "code",
   "execution_count": 25,
   "metadata": {},
   "outputs": [],
   "source": [
    "data_tfs = tfs.Compose([\n",
    "    tfs.ToTensor(),\n",
    "    tfs.Normalize((0.5), (0.5))\n",
    "])\n",
    "\n",
    "# install for train and test\n",
    "root = './'\n",
    "train_dataset = MNIST(root, train=True,  transform=data_tfs, download=True)\n",
    "val_dataset  = MNIST(root, train=False, transform=data_tfs, download=True)\n",
    "\n",
    "batch_size = 4\n",
    "\n",
    "train_dataloader =  DataLoader(train_dataset, batch_size=batch_size, drop_last=True)\n",
    "valid_dataloader =  DataLoader(val_dataset, batch_size=batch_size, drop_last=True)"
   ]
  },
  {
   "cell_type": "code",
   "execution_count": 37,
   "metadata": {},
   "outputs": [],
   "source": [
    "class LeNet(nn.Module):\n",
    "    def __init__(self):\n",
    "        super(LeNet, self).__init__()\n",
    "        self.conv1 = nn.Conv2d(1, 6, 3)\n",
    "        self.pool1 = nn.MaxPool2d(2)\n",
    "        self.conv2 = nn.Conv2d(6, 16, 3)\n",
    "        self.pool2 = nn.MaxPool2d(2)\n",
    "        self.fc1 = nn.Linear(400, 120) \n",
    "        self.fc2 = nn.Linear(120, 84)\n",
    "        self.fc3 = nn.Linear(84, 10)\n",
    "\n",
    "    def forward(self, x):\n",
    "        x = self.pool1(F.relu(self.conv1(x)))\n",
    "        x = self.pool2(F.relu(self.conv2(x)))\n",
    "        #print(x.shape)\n",
    "        x = x.view(-1, 400)\n",
    "        x = F.relu(self.fc1(x))\n",
    "        x = F.relu(self.fc2(x))\n",
    "        x = self.fc3(x)\n",
    "        return x"
   ]
  },
  {
   "cell_type": "code",
   "execution_count": 30,
   "metadata": {},
   "outputs": [],
   "source": [
    "def train_model(\n",
    "        model, \n",
    "        model_name,\n",
    "        train_loader, \n",
    "        valid_loader,\n",
    "        num_epochs=10,\n",
    "        print_res=False):\n",
    "    \n",
    "    # model.double()\n",
    "    model = model.to(device)\n",
    "    criterion = nn.CrossEntropyLoss()\n",
    "    optimizer = torch.optim.AdamW(model.parameters())\n",
    "\n",
    "    loaders = {\"train\": train_loader, \"valid\": valid_loader}\n",
    "    accuracy = {\"train\": [], \"valid\": []}\n",
    "    best_accuracy = 0\n",
    "\n",
    "\n",
    "    for epoch in range(num_epochs):\n",
    "        if print_res == False:\n",
    "            clear_output()\n",
    "        print(f'\\nEpoch: {epoch + 1}')\n",
    "        for k, dataloader in loaders.items():\n",
    "            epoch_correct = 0\n",
    "            epoch_all = 0\n",
    "\n",
    "            for x_batch, y_batch in dataloader:\n",
    "\n",
    "                x_batch = x_batch.to(device)\n",
    "                y_batch = y_batch.to(device)\n",
    "\n",
    "                if k == \"train\":\n",
    "                    model.train()\n",
    "                    optimizer.zero_grad()\n",
    "                    outp = model(x_batch)\n",
    "                else:\n",
    "                    model.eval()\n",
    "                    with torch.no_grad():\n",
    "                        outp = model(x_batch)\n",
    "\n",
    "                preds = outp.argmax(-1)\n",
    "                correct = (preds == y_batch).sum()\n",
    "                all = len(outp)\n",
    "                epoch_correct += correct.item()\n",
    "                epoch_all += all\n",
    "\n",
    "                if k == \"train\":\n",
    "                    loss = criterion(outp, y_batch)\n",
    "                    loss.backward()\n",
    "                    optimizer.step()\n",
    "\n",
    "            print(f\"Loader: {k}. Accuracy: {round(epoch_correct / epoch_all, 4)}\")\n",
    "\n",
    "            accuracy[k].append(epoch_correct / epoch_all)\n",
    "\n",
    "            if k == 'valid' and accuracy['valid'][-1] > best_accuracy:\n",
    "                torch.save(model.state_dict(), f'./models/{model_name}.pt')\n",
    "                best_accuracy = accuracy['valid'][-1]\n",
    "\n",
    "    print('\\nBest accuracy:\\n')\n",
    "    print('train:', round(max(accuracy['train']), 4))\n",
    "    print('test:', round(max(accuracy['valid']), 4))\n",
    "    model.load_state_dict(torch.load(f'./models/{model_name}.pt', map_location=device))"
   ]
  },
  {
   "cell_type": "code",
   "execution_count": 5,
   "metadata": {},
   "outputs": [
    {
     "name": "stdout",
     "output_type": "stream",
     "text": [
      "\n",
      "Epoch: 5\n",
      "Loader: train. Accuracy: 0.9759\n",
      "Loader: valid. Accuracy: 0.9702\n",
      "\n",
      "Best accuracy:\n",
      "\n",
      "train: 0.9759\n",
      "test: 0.9702\n"
     ]
    }
   ],
   "source": [
    "lenet = LeNet()\n",
    "\n",
    "train_model(lenet, 'LeNet', train_dataloader, valid_dataloader, num_epochs=5)"
   ]
  },
  {
   "attachments": {},
   "cell_type": "markdown",
   "metadata": {},
   "source": [
    "I got overall accuracy equal to 0.9702. Let's watch classwise accuracy."
   ]
  },
  {
   "cell_type": "code",
   "execution_count": 79,
   "metadata": {},
   "outputs": [],
   "source": [
    "def measure_accuracy(model, shift=0, valid_loader=valid_dataloader):\n",
    "    class_correct = np.zeros(10)\n",
    "    class_total = np.zeros(10)\n",
    "\n",
    "    with torch.no_grad():\n",
    "        for data in valid_loader:\n",
    "            images, labels = data\n",
    "            y_pred = model(images.to(device))\n",
    "            _, predicted = torch.max(y_pred, 1)\n",
    "\n",
    "            predicted += shift\n",
    "            \n",
    "            c = (predicted.cpu().detach() == labels)\n",
    "            for i in range(batch_size):\n",
    "                label = labels[i]\n",
    "                class_correct[label] += c[i].item()\n",
    "                class_total[label] += 1\n",
    "\n",
    "\n",
    "    for i in range(10):\n",
    "        print('Accuracy of %2s : %2d%%' % (i, 100 * class_correct[i] / class_total[i]))\n",
    "\n",
    "    accuracy = [100 * class_correct[i] / class_total[i] for i in range(10)]\n",
    "\n",
    "    return accuracy"
   ]
  },
  {
   "cell_type": "code",
   "execution_count": 46,
   "metadata": {},
   "outputs": [
    {
     "name": "stdout",
     "output_type": "stream",
     "text": [
      "Accuracy of  0 : 99%\n",
      "Accuracy of  1 : 99%\n",
      "Accuracy of  2 : 97%\n",
      "Accuracy of  3 : 98%\n",
      "Accuracy of  4 : 97%\n",
      "Accuracy of  5 : 97%\n",
      "Accuracy of  6 : 97%\n",
      "Accuracy of  7 : 91%\n",
      "Accuracy of  8 : 96%\n",
      "Accuracy of  9 : 96%\n"
     ]
    }
   ],
   "source": [
    "accuracy = measure_accuracy(lenet)"
   ]
  },
  {
   "cell_type": "code",
   "execution_count": 83,
   "metadata": {},
   "outputs": [
    {
     "data": {
      "image/png": "[encoded data removed]",
      "text/plain": [
       "<Figure size 432x288 with 1 Axes>"
      ]
     },
     "metadata": {
      "needs_background": "light"
     },
     "output_type": "display_data"
    }
   ],
   "source": [
    "bottom = 91\n",
    "plt.bar(range(10), [acc - bottom for acc in accuracy], bottom=bottom)\n",
    "plt.show()"
   ]
  },
  {
   "attachments": {},
   "cell_type": "markdown",
   "metadata": {},
   "source": [
    "As we can see I got the worst accuracy for the `7` label."
   ]
  },
  {
   "cell_type": "markdown",
   "metadata": {},
   "source": [
    "### III- Create different tasks from the MNIST dataset (2 points)"
   ]
  },
  {
   "cell_type": "markdown",
   "metadata": {},
   "source": [
    "Split `Tr` into 3 datasets (tasks) according to the following distribution.\n",
    "\n",
    "- Task 1 contains digits of classes 0, 1, and 2. \n",
    "- Task 2 contains classes 3, 4, and 5. \n",
    "- Task 3 contains classes 6, 7, 8, and 9.\n",
    " \n",
    "*The following picture showcases the general scheme*\n",
    "<center>\n",
    "<img src='https://drive.google.com/uc?id=1vdDgdN9BGQ2Jl3Yg4YiPvfb5fcAeJZJ-' style=\"width:500px;\"> \n",
    "</center>\n"
   ]
  },
  {
   "cell_type": "code",
   "execution_count": 56,
   "metadata": {},
   "outputs": [],
   "source": [
    "train_dataset_012 = []\n",
    "\n",
    "for image, label in train_dataset:\n",
    "    if label == 0 or label == 1 or label == 2:\n",
    "        train_dataset_012.append((image, label))\n",
    "\n",
    "\n",
    "val_dataset_012 = []\n",
    "\n",
    "for image, label in val_dataset:\n",
    "    if label == 0 or label == 1 or label == 2:\n",
    "        val_dataset_012.append((image, label))"
   ]
  },
  {
   "cell_type": "code",
   "execution_count": 57,
   "metadata": {},
   "outputs": [],
   "source": [
    "train_dataset_345 = []\n",
    "\n",
    "for image, label in train_dataset:\n",
    "    if label == 3 or label == 4 or label == 5:\n",
    "        train_dataset_345.append((image, label - 3))\n",
    "\n",
    "\n",
    "val_dataset_345 = []\n",
    "\n",
    "for image, label in val_dataset:\n",
    "    if label == 3 or label == 4 or label == 5:\n",
    "        val_dataset_345.append((image, label - 3))"
   ]
  },
  {
   "cell_type": "code",
   "execution_count": 58,
   "metadata": {},
   "outputs": [],
   "source": [
    "train_dataset_6789 = []\n",
    "\n",
    "for image, label in train_dataset:\n",
    "    if label == 6 or label == 7 or label == 8 or label == 9:\n",
    "        train_dataset_6789.append((image, label - 6))\n",
    "\n",
    "\n",
    "val_dataset_6789 = []\n",
    "\n",
    "for image, label in val_dataset:\n",
    "    if label == 6 or label == 7 or label == 8 or label == 9:\n",
    "        val_dataset_6789.append((image, label - 6))"
   ]
  },
  {
   "cell_type": "code",
   "execution_count": 59,
   "metadata": {},
   "outputs": [],
   "source": [
    "batch_size = 4\n",
    "\n",
    "train_dataloader_012 =  DataLoader(train_dataset_012, batch_size=batch_size, drop_last=True)\n",
    "valid_dataloader_012 =  DataLoader(val_dataset_012, batch_size=batch_size, drop_last=True)\n",
    "\n",
    "train_dataloader_345 =  DataLoader(train_dataset_345, batch_size=batch_size, drop_last=True)\n",
    "valid_dataloader_345 =  DataLoader(val_dataset_345, batch_size=batch_size, drop_last=True)\n",
    "\n",
    "train_dataloader_6789 =  DataLoader(train_dataset_6789, batch_size=batch_size, drop_last=True)\n",
    "valid_dataloader_6789 =  DataLoader(val_dataset_6789, batch_size=batch_size, drop_last=True)"
   ]
  },
  {
   "cell_type": "markdown",
   "metadata": {},
   "source": [
    "### IV- Class-incremental learning implementation (8 points)"
   ]
  },
  {
   "cell_type": "markdown",
   "metadata": {},
   "source": [
    "Using the different tasks (datasets) you created previously, implement a CNN for class incremental learning according to the following instructions. \n",
    "- The neural network architecture is not given, choose and tune your architecture following DNNs best practices. Similarly for the training no hyperparameters are given to you, you should choose them and justify your choice. Hyperparameter tuning is not mandatory but doing it would be a plus.\n",
    "- Your network should have shared feature extractor (shared layers) part and separate classifier head (e.g., fully connected layers) for each task (see the figure below).\n",
    "- When training on a new task, the shared layers part will get updated along with the head of the current task. \n",
    "- After training each task (Task 1 & 2), evaluate (and plot) the performances of the current and the previous tasks on `Te`.\n",
    "    - Once the training on the last task is complete, test the model on `Te` and compare the performance of the network with the CNN trained in II, i.e., plot the `overall` and the `class-wise` performances for classical learning and incremental learning.\n",
    "\n",
    "<center>\n",
    "<img src='https://drive.google.com/uc?id=1HfwcMP7jGoJnYEMu7jDqloQNogEZsjrJ'  style=\"width:250px;\"> \n",
    "</center>\n"
   ]
  },
  {
   "attachments": {},
   "cell_type": "markdown",
   "metadata": {},
   "source": [
    "#### Model"
   ]
  },
  {
   "cell_type": "code",
   "execution_count": 53,
   "metadata": {},
   "outputs": [],
   "source": [
    "features = nn.Sequential(\n",
    "    nn.Conv2d(1, 6, 3),\n",
    "    nn.MaxPool2d(2),\n",
    "    nn.Conv2d(6, 16, 3),\n",
    "    nn.MaxPool2d(2)\n",
    ")\n",
    "\n",
    "class Model(nn.Module):\n",
    "    def __init__(self, features, output_size):\n",
    "        super(Model, self).__init__()\n",
    "\n",
    "        self.features = features\n",
    "\n",
    "        self.classifier = nn.Sequential(\n",
    "            nn.Linear(400, 120),\n",
    "            nn.Linear(120, 84),\n",
    "            nn.Linear(84, output_size)\n",
    "        )\n",
    "\n",
    "    def forward(self, x):\n",
    "        x = self.features(x)\n",
    "        x = x.view(-1, 400)\n",
    "        x = self.classifier(x)\n",
    "\n",
    "        return x"
   ]
  },
  {
   "attachments": {},
   "cell_type": "markdown",
   "metadata": {},
   "source": [
    "#### Task 1"
   ]
  },
  {
   "cell_type": "code",
   "execution_count": 54,
   "metadata": {},
   "outputs": [
    {
     "name": "stdout",
     "output_type": "stream",
     "text": [
      "\n",
      "Epoch: 5\n",
      "Loader: train. Accuracy: 0.9961\n",
      "Loader: valid. Accuracy: 0.9946\n",
      "\n",
      "Best accuracy:\n",
      "\n",
      "train: 0.9961\n",
      "test: 0.9949\n"
     ]
    }
   ],
   "source": [
    "model_012 = Model(features, output_size=3)\n",
    "\n",
    "train_model(model_012, 'task1', train_dataloader_012, valid_dataloader_012, num_epochs=5)"
   ]
  },
  {
   "cell_type": "code",
   "execution_count": 55,
   "metadata": {},
   "outputs": [
    {
     "name": "stdout",
     "output_type": "stream",
     "text": [
      "Accuracy of  0 : 99%\n",
      "Accuracy of  1 : 100%\n",
      "Accuracy of  2 : 98%\n",
      "Accuracy of  3 :  0%\n",
      "Accuracy of  4 :  0%\n",
      "Accuracy of  5 :  0%\n",
      "Accuracy of  6 :  0%\n",
      "Accuracy of  7 :  0%\n",
      "Accuracy of  8 :  0%\n",
      "Accuracy of  9 :  0%\n"
     ]
    }
   ],
   "source": [
    "accuracy_012 = measure_accuracy(model_012)"
   ]
  },
  {
   "cell_type": "code",
   "execution_count": 91,
   "metadata": {},
   "outputs": [
    {
     "data": {
      "image/png": "[encoded data removed]",
      "text/plain": [
       "<Figure size 432x288 with 1 Axes>"
      ]
     },
     "metadata": {
      "needs_background": "light"
     },
     "output_type": "display_data"
    }
   ],
   "source": [
    "bottom = 98\n",
    "plt.bar(range(3), [acc - bottom for acc in accuracy_012[:3]], bottom=bottom)\n",
    "plt.show()"
   ]
  },
  {
   "attachments": {},
   "cell_type": "markdown",
   "metadata": {},
   "source": [
    "#### Task 2\n",
    "\n",
    "Now let's take and retrain `features extractor` for the second task."
   ]
  },
  {
   "cell_type": "code",
   "execution_count": 61,
   "metadata": {},
   "outputs": [
    {
     "name": "stdout",
     "output_type": "stream",
     "text": [
      "\n",
      "Epoch: 5\n",
      "Loader: train. Accuracy: 0.9944\n",
      "Loader: valid. Accuracy: 0.9913\n",
      "\n",
      "Best accuracy:\n",
      "\n",
      "train: 0.9944\n",
      "test: 0.9948\n"
     ]
    }
   ],
   "source": [
    "model_345 = Model(features, output_size=3)\n",
    "\n",
    "train_model(model_345, 'task2', train_dataloader_345, valid_dataloader_345, num_epochs=5)"
   ]
  },
  {
   "cell_type": "code",
   "execution_count": 77,
   "metadata": {},
   "outputs": [
    {
     "name": "stdout",
     "output_type": "stream",
     "text": [
      "Accuracy of  0 :  0%\n",
      "Accuracy of  1 :  0%\n",
      "Accuracy of  2 :  0%\n",
      "Accuracy of  3 : 99%\n",
      "Accuracy of  4 : 100%\n",
      "Accuracy of  5 : 99%\n",
      "Accuracy of  6 :  0%\n",
      "Accuracy of  7 :  0%\n",
      "Accuracy of  8 :  0%\n",
      "Accuracy of  9 :  0%\n"
     ]
    }
   ],
   "source": [
    "accuracy_345 = measure_accuracy(model_345, shift=3)"
   ]
  },
  {
   "cell_type": "code",
   "execution_count": 89,
   "metadata": {},
   "outputs": [
    {
     "data": {
      "image/png": "[encoded data removed]",
      "text/plain": [
       "<Figure size 432x288 with 1 Axes>"
      ]
     },
     "metadata": {
      "needs_background": "light"
     },
     "output_type": "display_data"
    }
   ],
   "source": [
    "bottom = 98\n",
    "plt.bar(range(3, 6), [acc - bottom for acc in accuracy_345[3:6]], bottom=bottom)\n",
    "plt.show()"
   ]
  },
  {
   "attachments": {},
   "cell_type": "markdown",
   "metadata": {},
   "source": [
    "Let's look at changes in the first model after tunning feature extractor for the second model."
   ]
  },
  {
   "cell_type": "code",
   "execution_count": 80,
   "metadata": {},
   "outputs": [
    {
     "name": "stdout",
     "output_type": "stream",
     "text": [
      "Accuracy of  0 : 99%\n",
      "Accuracy of  1 : 99%\n",
      "Accuracy of  2 : 97%\n",
      "Accuracy of  3 :  0%\n",
      "Accuracy of  4 :  0%\n",
      "Accuracy of  5 :  0%\n",
      "Accuracy of  6 :  0%\n",
      "Accuracy of  7 :  0%\n",
      "Accuracy of  8 :  0%\n",
      "Accuracy of  9 :  0%\n"
     ]
    }
   ],
   "source": [
    "accuracy_012_t2 = measure_accuracy(model_012)"
   ]
  },
  {
   "attachments": {},
   "cell_type": "markdown",
   "metadata": {},
   "source": [
    "As we can see accuracy of the first task fell a little.\n",
    "\n",
    "It was 100% for the `1` and 98% for the `2`."
   ]
  },
  {
   "cell_type": "code",
   "execution_count": 105,
   "metadata": {},
   "outputs": [
    {
     "data": {
      "image/png": "[encoded data removed]",
      "text/plain": [
       "<Figure size 432x288 with 1 Axes>"
      ]
     },
     "metadata": {
      "needs_background": "light"
     },
     "output_type": "display_data"
    }
   ],
   "source": [
    "bottom = 96\n",
    "plt.bar(range(3), [acc - bottom for acc in accuracy_012[:3]], bottom=bottom)\n",
    "plt.bar(range(3), [acc - bottom for acc in accuracy_012_t2[:3]], bottom=bottom)\n",
    "plt.show()"
   ]
  },
  {
   "attachments": {},
   "cell_type": "markdown",
   "metadata": {},
   "source": [
    "#### Task 3"
   ]
  },
  {
   "cell_type": "code",
   "execution_count": 92,
   "metadata": {},
   "outputs": [
    {
     "name": "stdout",
     "output_type": "stream",
     "text": [
      "\n",
      "Epoch: 5\n",
      "Loader: train. Accuracy: 0.9894\n",
      "Loader: valid. Accuracy: 0.9899\n",
      "\n",
      "Best accuracy:\n",
      "\n",
      "train: 0.9899\n",
      "test: 0.9899\n"
     ]
    }
   ],
   "source": [
    "model_6789 = Model(features, output_size=4)\n",
    "\n",
    "train_model(model_6789, 'task3', train_dataloader_6789, valid_dataloader_6789, num_epochs=5)"
   ]
  },
  {
   "cell_type": "code",
   "execution_count": 94,
   "metadata": {},
   "outputs": [
    {
     "name": "stdout",
     "output_type": "stream",
     "text": [
      "Accuracy of  0 :  0%\n",
      "Accuracy of  1 :  0%\n",
      "Accuracy of  2 :  0%\n",
      "Accuracy of  3 :  0%\n",
      "Accuracy of  4 :  0%\n",
      "Accuracy of  5 :  0%\n",
      "Accuracy of  6 : 99%\n",
      "Accuracy of  7 : 99%\n",
      "Accuracy of  8 : 98%\n",
      "Accuracy of  9 : 97%\n"
     ]
    }
   ],
   "source": [
    "accuracy_6789 = measure_accuracy(model_6789, shift=6)"
   ]
  },
  {
   "attachments": {},
   "cell_type": "markdown",
   "metadata": {},
   "source": [
    "Let's look at performace of first and second models after this step."
   ]
  },
  {
   "cell_type": "code",
   "execution_count": 95,
   "metadata": {},
   "outputs": [
    {
     "name": "stdout",
     "output_type": "stream",
     "text": [
      "Accuracy of  0 : 99%\n",
      "Accuracy of  1 : 96%\n",
      "Accuracy of  2 : 97%\n",
      "Accuracy of  3 :  0%\n",
      "Accuracy of  4 :  0%\n",
      "Accuracy of  5 :  0%\n",
      "Accuracy of  6 :  0%\n",
      "Accuracy of  7 :  0%\n",
      "Accuracy of  8 :  0%\n",
      "Accuracy of  9 :  0%\n"
     ]
    }
   ],
   "source": [
    "accuracy_012_t3 = measure_accuracy(model_012)"
   ]
  },
  {
   "attachments": {},
   "cell_type": "markdown",
   "metadata": {},
   "source": [
    "On the previous step accuracy of `1` was 99% and now it is 96%."
   ]
  },
  {
   "cell_type": "code",
   "execution_count": 108,
   "metadata": {},
   "outputs": [
    {
     "data": {
      "image/png": "[encoded data removed]",
      "text/plain": [
       "<Figure size 432x288 with 1 Axes>"
      ]
     },
     "metadata": {
      "needs_background": "light"
     },
     "output_type": "display_data"
    }
   ],
   "source": [
    "bottom = 96\n",
    "\n",
    "plt.bar(range(3), [acc - bottom for acc in accuracy_012[:3]], bottom=bottom)\n",
    "plt.bar(range(3), [acc - bottom for acc in accuracy_012_t2[:3]], bottom=bottom)\n",
    "plt.bar(range(3), [acc - bottom for acc in accuracy_012_t3[:3]], bottom=bottom)\n",
    "plt.show()"
   ]
  },
  {
   "cell_type": "code",
   "execution_count": 97,
   "metadata": {},
   "outputs": [
    {
     "name": "stdout",
     "output_type": "stream",
     "text": [
      "Accuracy of  0 :  0%\n",
      "Accuracy of  1 :  0%\n",
      "Accuracy of  2 :  0%\n",
      "Accuracy of  3 : 99%\n",
      "Accuracy of  4 : 99%\n",
      "Accuracy of  5 : 98%\n",
      "Accuracy of  6 :  0%\n",
      "Accuracy of  7 :  0%\n",
      "Accuracy of  8 :  0%\n",
      "Accuracy of  9 :  0%\n"
     ]
    }
   ],
   "source": [
    "accuracy_345_t3 = measure_accuracy(model_345, shift=3)"
   ]
  },
  {
   "attachments": {},
   "cell_type": "markdown",
   "metadata": {},
   "source": [
    "On the previous step accuracy of `4` was 100% and accuracy of `5` was 99%."
   ]
  },
  {
   "cell_type": "code",
   "execution_count": 110,
   "metadata": {},
   "outputs": [
    {
     "data": {
      "image/png": "[encoded data removed]",
      "text/plain": [
       "<Figure size 432x288 with 1 Axes>"
      ]
     },
     "metadata": {
      "needs_background": "light"
     },
     "output_type": "display_data"
    }
   ],
   "source": [
    "bottom = 98\n",
    "plt.bar(range(3, 6), [acc - bottom for acc in accuracy_345[3:6]], bottom=bottom)\n",
    "plt.bar(range(3, 6), [acc - bottom for acc in accuracy_345_t3[3:6]], bottom=bottom)\n",
    "plt.show()"
   ]
  },
  {
   "attachments": {},
   "cell_type": "markdown",
   "metadata": {},
   "source": [
    "#### Comparison of models"
   ]
  },
  {
   "attachments": {},
   "cell_type": "markdown",
   "metadata": {},
   "source": [
    "I will calculate accuracy for all classes using incrementally learned models."
   ]
  },
  {
   "cell_type": "code",
   "execution_count": 102,
   "metadata": {},
   "outputs": [
    {
     "name": "stdout",
     "output_type": "stream",
     "text": [
      "Accuracy of  0 : 99%\n",
      "Accuracy of  1 : 96%\n",
      "Accuracy of  2 : 97%\n",
      "Accuracy of  3 : 99%\n",
      "Accuracy of  4 : 99%\n",
      "Accuracy of  5 : 98%\n",
      "Accuracy of  6 : 99%\n",
      "Accuracy of  7 : 99%\n",
      "Accuracy of  8 : 98%\n",
      "Accuracy of  9 : 97%\n"
     ]
    }
   ],
   "source": [
    "class_correct = np.zeros(10)\n",
    "class_total = np.zeros(10)\n",
    "\n",
    "with torch.no_grad():\n",
    "    for image, label in val_dataset:\n",
    "\n",
    "        if label in [0, 1, 2]:\n",
    "            y_pred = model_012(image.unsqueeze(0).to(device))\n",
    "            _, predicted = torch.max(y_pred, 1)\n",
    "\n",
    "        elif label in [3, 4, 5]:\n",
    "            y_pred = model_345(image.unsqueeze(0).to(device))\n",
    "            _, predicted = torch.max(y_pred, 1)\n",
    "            predicted += 3\n",
    "\n",
    "        elif label in [6, 7, 8, 9]:\n",
    "            y_pred = model_6789(image.unsqueeze(0).to(device))\n",
    "            _, predicted = torch.max(y_pred, 1)\n",
    "            predicted += 6\n",
    "\n",
    "\n",
    "        class_correct[label] += predicted == label\n",
    "        class_total[label] += 1\n",
    "\n",
    "\n",
    "for i in range(10):\n",
    "    print('Accuracy of %2s : %2d%%' % (i, 100 * class_correct[i] / class_total[i]))\n",
    "\n",
    "accuracy_incremental = [100 * class_correct[i] / class_total[i] for i in range(10)]"
   ]
  },
  {
   "attachments": {},
   "cell_type": "markdown",
   "metadata": {},
   "source": [
    "Let's now comapre performance of incrementally learned models and model from the II."
   ]
  },
  {
   "cell_type": "code",
   "execution_count": 120,
   "metadata": {},
   "outputs": [
    {
     "data": {
      "image/png": "[encoded data removed]",
      "text/plain": [
       "<Figure size 432x288 with 1 Axes>"
      ]
     },
     "metadata": {
      "needs_background": "light"
     },
     "output_type": "display_data"
    }
   ],
   "source": [
    "x1 = np.arange(0, 10) - 0.2\n",
    "x2 = np.arange(0, 10) + 0.2\n",
    "\n",
    "bottom = 91\n",
    "plt.bar(x1, [acc - bottom for acc in accuracy], bottom=bottom, width=0.4, label='Model from II')\n",
    "plt.bar(x2, [acc - bottom for acc in accuracy_incremental], bottom=bottom, width=0.4, label='Incremental models')\n",
    "plt.legend()\n",
    "plt.show()"
   ]
  },
  {
   "cell_type": "code",
   "execution_count": 122,
   "metadata": {},
   "outputs": [
    {
     "name": "stdout",
     "output_type": "stream",
     "text": [
      "Accuracy incremental: 0.9872\n"
     ]
    }
   ],
   "source": [
    "print('Accuracy incremental:', class_correct.sum() / class_total.sum())"
   ]
  },
  {
   "attachments": {},
   "cell_type": "markdown",
   "metadata": {},
   "source": [
    "Accuracy of the model from II is 0.9702."
   ]
  },
  {
   "cell_type": "markdown",
   "metadata": {},
   "source": [
    "### V- Report (2 points)\n",
    "Write a short report on the results you got and what you learned from this activity"
   ]
  },
  {
   "attachments": {},
   "cell_type": "markdown",
   "metadata": {},
   "source": [
    "Models that used incrementally learned CNN feature extractor showed better results than general model.\n",
    "\n",
    "Model from the II task works better on the `0` and `1` classes because this information was forgotten after two additional trainings of CNN.\n",
    "\n",
    "Other two incremental models work better on all their classes. Such models are like narrow specialists, they are good at solving their smaller tasks. (General model has 91% accuracy for `7` and incremental one has 99%.)\n",
    "\n",
    "While retraining of CNN for new tasks accuracy on previous ones slightly became worse but not that much.\n",
    "\n"
   ]
  }
 ],
 "metadata": {
  "kernelspec": {
   "display_name": "Python 3.8.8 ('base')",
   "language": "python",
   "name": "python3"
  },
  "language_info": {
   "codemirror_mode": {
    "name": "ipython",
    "version": 3
   },
   "file_extension": ".py",
   "mimetype": "text/x-python",
   "name": "python",
   "nbconvert_exporter": "python",
   "pygments_lexer": "ipython3",
   "version": "3.8.8 (default, Apr 13 2021, 19:58:26) \n[GCC 7.3.0]"
  },
  "orig_nbformat": 4,
  "vscode": {
   "interpreter": {
    "hash": "82ca00de6dfeb9e2eef59d83b518ae9b61e5781747466ffa06053c845d8d3ce9"
   }
  }
 },
 "nbformat": 4,
 "nbformat_minor": 2
}
